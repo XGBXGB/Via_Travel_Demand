{
 "cells": [
  {
   "cell_type": "code",
   "execution_count": 251,
   "metadata": {
    "collapsed": false,
    "deletable": true,
    "editable": true
   },
   "outputs": [],
   "source": [
    "import pandas as pd\n",
    "import matplotlib.pyplot as plt\n",
    "from sklearn.feature_selection import RFECV\n",
    "import statsmodels.formula.api as smf\n",
    "from math import exp\n",
    "from sklearn import linear_model, cross_validation\n",
    "from scipy.optimize import lsq_linear\n",
    "import scipy.stats as prr\n",
    "import numpy as np\n",
    "from IPython.display import display, HTML\n",
    "from sklearn.metrics import mean_squared_error\n",
    "from math import sqrt\n",
    "import statsmodels.formula.api as sm\n",
    "import itertools"
   ]
  },
  {
   "cell_type": "markdown",
   "metadata": {
    "deletable": true,
    "editable": true
   },
   "source": [
    "## Regression Class"
   ]
  },
  {
   "cell_type": "code",
   "execution_count": 252,
   "metadata": {
    "collapsed": true,
    "deletable": true,
    "editable": true
   },
   "outputs": [],
   "source": [
    "class Regression:\n",
    "    def __init__(self, pathToData):\n",
    "        self.data = pd.read_csv(pathToData, index_col=0)\n",
    "\n",
    "    def getDataFrame(self):\n",
    "        return self.data\n",
    "\n",
    "    \n",
    "    \n",
    "    # get collinearity (r^2 value) of a pair of columns\n",
    "    def getCollinearityScore(self, dependentCol, independentCol):\n",
    "        array = self.data.values\n",
    "        X = array[:, independentCol]\n",
    "        Y = array[:, dependentCol]\n",
    "\n",
    "        return prr.pearsonr(X, Y)\n",
    "        # GET SUBTABLE CONTAINING ONLY THE INDEPENDENT COLUMN AND DEPENDENT COLUMN\n",
    "        # df2 = self.data.iloc[:, [independentCol, dependentCol]]\n",
    "        # CREATE FITTED MODEL USING ORDINARY LEAST SQUARES REGRESSION\n",
    "        # lm = smf.ols(formula='Sales ~ TV', data=df2).fit()\n",
    "        # RETURN RSQUARED VALUE FOR THE MODEL\n",
    "        # return lm.rsquared\n",
    "\n",
    "    # print collinearities (r^2 value) of each pair of columns\n",
    "    def printAllCollinearities(self):\n",
    "        array = self.data.values\n",
    "        length_col = self.data.shape[1]\n",
    "        while(0 != length_col-1):\n",
    "            for x in range(0, length_col-1):\n",
    "                X = array[:, x]\n",
    "                Y = array[:, length_col-1]\n",
    "\n",
    "                print(\"Collinearity between \"+self.data.columns.values[x]+\" & \"+self.data.columns.values[length_col-1]+\" = \"+str(prr.pearsonr(X, Y)))\n",
    "            length_col -= 1\n",
    "\n",
    "    def getSubTable(self, col_names):\n",
    "        array = self.data\n",
    "        return array.loc[:, col_names]\n",
    "            \n",
    "    def getFittedRegressionModel(self, col_names, dependent_col_name):\n",
    "        array = self.data\n",
    "        X = array.loc[:, col_names]\n",
    "        Y = array.loc[:, dependent_col_name]\n",
    "        model = linear_model.LinearRegression()\n",
    "        model.fit(X, Y)\n",
    "        print(\"R^2 score: \"+str(model.score(X, Y)))\n",
    "        m = model.coef_\n",
    "        b = model.intercept_\n",
    "        # print(\"Intercept=\" + str(b) + \" Coefficient=\" + str(m))\n",
    "        return model\n",
    "\n",
    "    def getBestFeaturesRCEV(self, col_names, dependent_col_name):\n",
    "        array = self.data\n",
    "        X = array.loc[:, col_names]\n",
    "        Y = array.loc[:, dependent_col_name]\n",
    "        feature_names = self.data.columns.values\n",
    "        model = linear_model.LinearRegression()\n",
    "        selector = RFECV(estimator=model, cv=10)\n",
    "        selector.fit(X, Y)\n",
    "        print(selector.ranking_)\n",
    "        print(\"Optimal number of features3: \" + str(selector.n_features_))\n",
    "        print(sorted(zip(map(lambda x: round(x, 4), selector.ranking_), col_names)))\n",
    "        print(selector.support_)\n",
    "        \n",
    "    def getXVals(self, col_names):\n",
    "        #array = self.data\n",
    "        array = self.data.copy()\n",
    "        X = array.loc[:, col_names]\n",
    "        return X\n",
    "    \n",
    "    def getYVals(self, col_names):\n",
    "        #array = self.data\n",
    "        array = self.data.copy()\n",
    "        X = array.loc[:, col_names]\n",
    "        return X\n",
    "        \n",
    "    def kFoldTest(self, col_names, dependent_col_name, test_row_num):\n",
    "        #array = self.data\n",
    "        array = self.data.copy()\n",
    "        array = array.drop(array.index[test_row_num])\n",
    "        \n",
    "        X = array.loc[:, col_names]\n",
    "        Y = array.loc[:, dependent_col_name]\n",
    "        model = linear_model.LinearRegression()\n",
    "        model.fit(X, Y)\n",
    "        m = model.coef_\n",
    "        b = model.intercept_\n",
    "        return model\n",
    "    \n",
    "    def kFoldTest2(self, col_names, dependent_col_name, slice_size):\n",
    "        #array = self.data\n",
    "        array = self.data.copy()\n",
    "        original = self.data.copy()\n",
    "        iterations = len(array.index)/slice_size\n",
    "        #print(\"ITERATIONS: \"+str(iterations))\n",
    "        if(len(array.index)%slice_size>0):\n",
    "            iterations = int(iterations)+1\n",
    "        iterations = int(iterations)\n",
    "        for j in range(0, iterations):\n",
    "            for i in range(0,len(array.index)):\n",
    "                if (i/slice_size==j):\n",
    "                    array = array.drop(array.index[i])\n",
    "\n",
    "            X = array.loc[:, col_names]\n",
    "            Y = array.loc[:, dependent_col_name]\n",
    "            \n",
    "            A = np.array(X.values)\n",
    "            b = np.array(Y.values)\n",
    "            res = lsq_linear(A, b, bounds=(0, 600), lsmr_tol='auto', verbose=1);\n",
    "            #print(res['x'])\n",
    "            \n",
    "            \n",
    "            model = linear_model.LinearRegression()\n",
    "            model.fit(X, Y)\n",
    "            model.coef_ = res['x']\n",
    "            model.intercept_ = 0\n",
    "            m = model.coef_\n",
    "            b = model.intercept_\n",
    "            \n",
    "            predicted_vals = []\n",
    "            observed_vals = []\n",
    "            array = self.data.copy()\n",
    "            X = array.loc[:, col_names]\n",
    "            Y = array.loc[:, dependent_col_name]\n",
    "            size = 0\n",
    "            for i in range(0,len(array.index)):\n",
    "                #print(str(i)+\" / \"+str(slice_size)+\" == \"+str(j))\n",
    "                if (int(i/slice_size)==j):\n",
    "                    #print(\"WENT IN!\")\n",
    "                    size += 1\n",
    "                    #print(\"length:\"+str(len(X.index))+\" index:\"+str(i))\n",
    "                    predicted_vals.append(model.predict(X.iloc[i , :].values.reshape(1,-1))[0])\n",
    "                    #print(\"ans: \"+str(Y.iloc[i]))\n",
    "                    print(\"pred: \"+str(model.predict(X.iloc[i , :].values.reshape(1,-1))[0]))\n",
    "                    observed_vals.append(Y.iloc[i])\n",
    "            rms1 = sqrt(mean_squared_error(observed_vals, predicted_vals))\n",
    "            #print(\"rms1:\"+str(rms1)+\" * \"+str((100*slice_size)/sum(observed_vals)))\n",
    "            rms2 = rms1*((100*slice_size)/sum(observed_vals))\n",
    "            print(\"Trained using slice \"+str(j)+\": RawRMSE=\"+str(rms1)+\" %RMSE=\"+str(rms2))  \n",
    "            #print(\"slice size: \"+str(size))\n",
    "            \n",
    "    def statsmodelsRegressionSummary(self, col_names, dependent_col_name):\n",
    "        array = self.data.copy()\n",
    "        X = array.loc[:, col_names]\n",
    "        Y = array.loc[:, dependent_col_name]\n",
    "        result = sm.OLS( Y, X ).fit()\n",
    "        return result\n",
    "\n",
    "    def kFoldTest3(self, col_names, dependent_col_name, slice_size):\n",
    "        total_rmse = 0\n",
    "        #array = self.data\n",
    "        array = self.data.copy()\n",
    "        original = self.data.copy()\n",
    "        iterations = len(array.index)/slice_size\n",
    "        #print(\"ITERATIONS: \"+str(iterations))\n",
    "        if(len(array.index)%slice_size>0):\n",
    "            iterations = int(iterations)+1\n",
    "        iterations = int(iterations)\n",
    "        for j in range(0, iterations):\n",
    "            for i in range(0,len(array.index)):\n",
    "                if (i/slice_size==j):\n",
    "                    array = array.drop(array.index[i])\n",
    "\n",
    "            X = array.loc[:, col_names]\n",
    "            Y = array.loc[:, dependent_col_name]\n",
    "            model = linear_model.LinearRegression()\n",
    "            model.fit(X, Y)\n",
    "            m = model.coef_\n",
    "            b = model.intercept_\n",
    "            \n",
    "            predicted_vals = []\n",
    "            observed_vals = []\n",
    "            array = self.data.copy()\n",
    "            X = array.loc[:, col_names]\n",
    "            Y = array.loc[:, dependent_col_name]\n",
    "            size = 0\n",
    "            for i in range(0,len(array.index)):\n",
    "                #print(str(i)+\" / \"+str(slice_size)+\" == \"+str(j))\n",
    "                if (int(i/slice_size)==j):\n",
    "                    #print(\"WENT IN!\")\n",
    "                    size += 1\n",
    "                    #print(\"length:\"+str(len(X.index))+\" index:\"+str(i))\n",
    "                    predicted_vals.append(model.predict(X.iloc[i , :].values.reshape(1,-1))[0])\n",
    "                    #print(Y.iloc[i])\n",
    "                    observed_vals.append(Y.iloc[i])\n",
    "            rms = sqrt(mean_squared_error(observed_vals, predicted_vals))\n",
    "            rms = rms*((100*slice_size)/sum(observed_vals))\n",
    "            total_rmse = total_rmse + rms\n",
    "        return total_rmse\n"
   ]
  },
  {
   "cell_type": "markdown",
   "metadata": {
    "deletable": true,
    "editable": true
   },
   "source": [
    "## Trip Generation Class"
   ]
  },
  {
   "cell_type": "code",
   "execution_count": 253,
   "metadata": {
    "collapsed": false,
    "deletable": true,
    "editable": true
   },
   "outputs": [],
   "source": [
    "class TripGeneration:\n",
    "\n",
    "    def __init__(self, pathToData, dependent_col_name):\n",
    "        self.pathToData = pathToData\n",
    "        self.dependent_col_name = dependent_col_name\n",
    "        self.production_col_names = []\n",
    "        self.production_constant = 0\n",
    "        self.production_intercepts = []\n",
    "        self.attraction_col_names = []\n",
    "        self.attraction_constant = 0\n",
    "        self.attraction_intercepts = []\n",
    "        self.production_score = 0\n",
    "        self.attraction_score = 0\n",
    "        self.balancing_factor = 0\n",
    "        \n",
    "    def printAttributes(self):\n",
    "        print(\"Attributes\")\n",
    "        print(self.production_col_names)\n",
    "        print(self.production_constant)\n",
    "        print(self.production_intercepts)\n",
    "        print(self.attraction_col_names)\n",
    "        print(self.attraction_constant)\n",
    "        print(self.attraction_intercepts)\n",
    "\n",
    "    def setProductionParameters(self, production_col_names, production_constant, production_intercepts):\n",
    "        self.production_col_names = production_col_names\n",
    "        self.production_constant = production_constant\n",
    "        self.production_intercepts = production_intercepts\n",
    "        \n",
    "    def setAttractionParameters(self, attraction_col_names, attraction_constant, attraction_intercepts):\n",
    "        self.attraction_col_names = attraction_col_names\n",
    "        self.attraction_constant = attraction_constant\n",
    "        self.attraction_intercepts = attraction_intercepts\n",
    "        \n",
    "    \n",
    "    # get trip production score for 'zone'\n",
    "    def getWholeTripProductionScore(self):\n",
    "        data = pd.read_csv(self.pathToData, index_col=0)\n",
    "        # implement specific way to get sub-table(data) just for specific 'zone' i.e: all rows related to zone1\n",
    "        sub_table = data.loc[:, self.production_col_names]\n",
    "        length_rows = sub_table.shape[0]\n",
    "        for x in range(0, length_rows):\n",
    "            row_values = sub_table.iloc[x, :].values\n",
    "            self.production_score += self.production_constant\n",
    "            for j in range(0,len(row_values)):\n",
    "                self.production_score += int(row_values[j]*self.production_intercepts[j])\n",
    "            #print(\"SELFPROD CURR: \"+str(self.production_score))\n",
    "        return int(self.production_score)\n",
    "\n",
    "    # get trip attraction score for 'zone'\n",
    "    def getWholeTripAttractionScore(self):\n",
    "        data = pd.read_csv(self.pathToData, index_col=0)\n",
    "        # implement specific way to get sub-table(data) just for specific 'zone' i.e: all rows related to zone1\n",
    "        sub_table = data.loc[:, self.attraction_col_names]\n",
    "        length_rows = sub_table.shape[0]\n",
    "        for x in range(0, length_rows):\n",
    "            row_values = sub_table.iloc[x, :].values\n",
    "            self.attraction_score += self.attraction_constant\n",
    "            for j in range(0,len(row_values)):\n",
    "                self.attraction_score += int(row_values[j]*self.attraction_intercepts[j])\n",
    "            #print(\"SELFATTR CURR: \"+str(self.attraction_score))\n",
    "        return int(self.attraction_score)\n",
    "    \n",
    "    def getZoneTripProductionScore(self, zone_number):\n",
    "        self.production_score = 0\n",
    "        data = pd.read_csv(self.pathToData, index_col=0)\n",
    "        # implement specific way to get sub-table(data) just for specific 'zone' i.e: all rows related to zone1\n",
    "        row_values = data.loc[zone_number, self.production_col_names].values\n",
    "        \n",
    "        self.production_score += self.production_constant\n",
    "        for j in range(0,len(row_values)):\n",
    "            self.production_score += row_values[j]*self.production_intercepts[j]\n",
    "\n",
    "        return self.production_score\n",
    "    \n",
    "    def getZoneTripAttractionScore(self, zone_number):\n",
    "        self.attraction_score = 0\n",
    "        data = pd.read_csv(self.pathToData, index_col=0)\n",
    "        # implement specific way to get sub-table(data) just for specific 'zone' i.e: all rows related to zone1\n",
    "        row_values = data.loc[zone_number, self.production_col_names].values\n",
    "        \n",
    "        self.attraction_score += self.attraction_constant\n",
    "        for j in range(0,len(row_values)):\n",
    "            self.attraction_score += row_values[j]*self.attraction_intercepts[j]\n",
    "\n",
    "        return self.attraction_score\n",
    "\n",
    "    def doTripBalancing(self):\n",
    "        self.balancing_factor = self.production_score/self.attraction_score\n",
    "        self.attraction_score = self.balancing_factor * self.attraction_score\n",
    "        self.production_score = self.balancing_factor * self.production_score\n",
    "        # Implement trip balancing here VOID\n",
    "        \n",
    "    def getBalancingFactor(self):\n",
    "        return self.balancing_factor\n",
    "    \n",
    "    def printAllZonalTripsProductionAttraction(self):\n",
    "        productionScores = []\n",
    "        attractionScores = []\n",
    "        df = pd.DataFrame(columns=('Trip Production', 'Trip Atraction'))\n",
    "        total_production = 0\n",
    "        total_attraction = 0\n",
    "        data = pd.read_csv(self.pathToData, index_col=0)\n",
    "        length_rows = data.shape[0]\n",
    "        for x in range(1, length_rows+1):\n",
    "            attr_score = 0\n",
    "            prod_score = 0\n",
    "            attr_row_values = data.loc[x, self.attraction_col_names].values\n",
    "            prod_row_values = data.loc[x, self.production_col_names].values\n",
    "            attr_score += self.attraction_constant\n",
    "            prod_score += self.production_constant\n",
    "            for j in range(0,len(attr_row_values)):\n",
    "                attr_score += attr_row_values[j]*self.attraction_intercepts[j]\n",
    "            total_attraction += attr_score\n",
    "            for j in range(0,len(prod_row_values)):\n",
    "                prod_score += prod_row_values[j]*self.production_intercepts[j]\n",
    "            total_production += prod_score\n",
    "            df.loc[x] = [int(prod_score),int(attr_score)]\n",
    "            productionScores.append(int(prod_score))\n",
    "            attractionScores.append(int(attr_score))\n",
    "            #print(\"Zone \"+str(x)+\": Production=\"+str(prod_score)+\" , Attraction=\"+str(attr_score))\n",
    "        return df, productionScores, attractionScores;\n",
    "        #print(\"Total Production=\"+str(total_production)+\" , Total Attraction=\"+str(total_attraction))\n",
    "        \n",
    "    def getTripProductionScores(self):\n",
    "        productionScores = []\n",
    "        total_production = 0\n",
    "        total_attraction = 0\n",
    "        data = pd.read_csv(self.pathToData, index_col=0)\n",
    "        length_rows = data.shape[0]\n",
    "        for x in range(1, length_rows+1):\n",
    "            prod_score = 0\n",
    "            prod_row_values = data.loc[x, self.production_col_names].values\n",
    "            prod_score += self.production_constant\n",
    "            for j in range(0,len(prod_row_values)):\n",
    "                prod_score += prod_row_values[j]*self.production_intercepts[j]\n",
    "            total_production += prod_score\n",
    "            productionScores.append(prod_score)\n",
    "        return productionScores\n",
    "    \n",
    "    def getProductionSubTable(self):\n",
    "        data = pd.read_csv(self.pathToData, index_col=0)\n",
    "        return data.loc[:, self.production_col_names]\n",
    "\n",
    "        \n"
   ]
  },
  {
   "cell_type": "markdown",
   "metadata": {
    "collapsed": true,
    "deletable": true,
    "editable": true
   },
   "source": [
    "# DATA\n",
    "### Expected available parameters from the MMUTIS Update and Enhancement Project (MUCEP) Database"
   ]
  },
  {
   "cell_type": "code",
   "execution_count": 254,
   "metadata": {
    "collapsed": false,
    "deletable": true,
    "editable": true
   },
   "outputs": [
    {
     "data": {
      "text/html": [
       "<div>\n",
       "<table border=\"1\" class=\"dataframe\">\n",
       "  <thead>\n",
       "    <tr style=\"text-align: right;\">\n",
       "      <th></th>\n",
       "      <th>no_hh</th>\n",
       "      <th>avg_income</th>\n",
       "      <th>mem_no</th>\n",
       "      <th>no_mem_educwork</th>\n",
       "      <th>comm_area</th>\n",
       "      <th>park_area</th>\n",
       "      <th>indu_area</th>\n",
       "      <th>agri_area</th>\n",
       "      <th>resi_area</th>\n",
       "      <th>util_area</th>\n",
       "      <th>othe_area</th>\n",
       "      <th>trips</th>\n",
       "    </tr>\n",
       "  </thead>\n",
       "  <tbody>\n",
       "    <tr>\n",
       "      <th>1</th>\n",
       "      <td>3779</td>\n",
       "      <td>18736.43821</td>\n",
       "      <td>12747</td>\n",
       "      <td>11894</td>\n",
       "      <td>0.758388</td>\n",
       "      <td>3.204537</td>\n",
       "      <td>0.503045</td>\n",
       "      <td>0.038777</td>\n",
       "      <td>7.538163</td>\n",
       "      <td>0.000000</td>\n",
       "      <td>0</td>\n",
       "      <td>20863</td>\n",
       "    </tr>\n",
       "    <tr>\n",
       "      <th>2</th>\n",
       "      <td>1349</td>\n",
       "      <td>18754.63306</td>\n",
       "      <td>4509</td>\n",
       "      <td>4238</td>\n",
       "      <td>0.765844</td>\n",
       "      <td>0.287228</td>\n",
       "      <td>1.208067</td>\n",
       "      <td>0.161375</td>\n",
       "      <td>10.547653</td>\n",
       "      <td>0.047934</td>\n",
       "      <td>0</td>\n",
       "      <td>7389</td>\n",
       "    </tr>\n",
       "    <tr>\n",
       "      <th>3</th>\n",
       "      <td>1060</td>\n",
       "      <td>28070.75472</td>\n",
       "      <td>3624</td>\n",
       "      <td>3321</td>\n",
       "      <td>4.359190</td>\n",
       "      <td>0.207332</td>\n",
       "      <td>0.812236</td>\n",
       "      <td>0.046317</td>\n",
       "      <td>14.034624</td>\n",
       "      <td>0.000000</td>\n",
       "      <td>0</td>\n",
       "      <td>6050</td>\n",
       "    </tr>\n",
       "    <tr>\n",
       "      <th>4</th>\n",
       "      <td>767</td>\n",
       "      <td>18507.17080</td>\n",
       "      <td>2598</td>\n",
       "      <td>2402</td>\n",
       "      <td>0.111413</td>\n",
       "      <td>0.015148</td>\n",
       "      <td>0.314931</td>\n",
       "      <td>1.211796</td>\n",
       "      <td>0.670587</td>\n",
       "      <td>0.000000</td>\n",
       "      <td>0</td>\n",
       "      <td>4305</td>\n",
       "    </tr>\n",
       "    <tr>\n",
       "      <th>5</th>\n",
       "      <td>862</td>\n",
       "      <td>21937.35499</td>\n",
       "      <td>2913</td>\n",
       "      <td>2720</td>\n",
       "      <td>0.603754</td>\n",
       "      <td>0.000000</td>\n",
       "      <td>0.316023</td>\n",
       "      <td>0.015077</td>\n",
       "      <td>1.374100</td>\n",
       "      <td>0.000000</td>\n",
       "      <td>0</td>\n",
       "      <td>4939</td>\n",
       "    </tr>\n",
       "  </tbody>\n",
       "</table>\n",
       "</div>"
      ],
      "text/plain": [
       "   no_hh   avg_income  mem_no  no_mem_educwork  comm_area  park_area  \\\n",
       "1   3779  18736.43821   12747            11894   0.758388   3.204537   \n",
       "2   1349  18754.63306    4509             4238   0.765844   0.287228   \n",
       "3   1060  28070.75472    3624             3321   4.359190   0.207332   \n",
       "4    767  18507.17080    2598             2402   0.111413   0.015148   \n",
       "5    862  21937.35499    2913             2720   0.603754   0.000000   \n",
       "\n",
       "   indu_area  agri_area  resi_area  util_area  othe_area  trips  \n",
       "1   0.503045   0.038777   7.538163   0.000000          0  20863  \n",
       "2   1.208067   0.161375  10.547653   0.047934          0   7389  \n",
       "3   0.812236   0.046317  14.034624   0.000000          0   6050  \n",
       "4   0.314931   1.211796   0.670587   0.000000          0   4305  \n",
       "5   0.316023   0.015077   1.374100   0.000000          0   4939  "
      ]
     },
     "execution_count": 254,
     "metadata": {},
     "output_type": "execute_result"
    }
   ],
   "source": [
    "dummy_data = pd.read_csv('DummyDataRegression_revised_2.csv', index_col=0)\n",
    "dummy_data.head()"
   ]
  },
  {
   "cell_type": "markdown",
   "metadata": {
    "deletable": true,
    "editable": true
   },
   "source": [
    "### Fused Zonal and Amenity data (OpenStreetMap)"
   ]
  },
  {
   "cell_type": "code",
   "execution_count": 255,
   "metadata": {
    "collapsed": false,
    "deletable": true,
    "editable": true
   },
   "outputs": [
    {
     "data": {
      "text/html": [
       "<div>\n",
       "<table border=\"1\" class=\"dataframe\">\n",
       "  <thead>\n",
       "    <tr style=\"text-align: right;\">\n",
       "      <th></th>\n",
       "      <th>sust_amt</th>\n",
       "      <th>educ_amt</th>\n",
       "      <th>tran_amt</th>\n",
       "      <th>heal_amt</th>\n",
       "      <th>fina_amt</th>\n",
       "      <th>comm_amt</th>\n",
       "      <th>ente_amt</th>\n",
       "      <th>othe_amt</th>\n",
       "      <th>comm_area</th>\n",
       "      <th>park_area</th>\n",
       "      <th>indu_area</th>\n",
       "      <th>agri_area</th>\n",
       "      <th>resi_area</th>\n",
       "      <th>util_area</th>\n",
       "      <th>othe_area</th>\n",
       "      <th>trips</th>\n",
       "    </tr>\n",
       "  </thead>\n",
       "  <tbody>\n",
       "    <tr>\n",
       "      <th>1</th>\n",
       "      <td>0.58</td>\n",
       "      <td>0.86</td>\n",
       "      <td>0.54</td>\n",
       "      <td>0.43</td>\n",
       "      <td>0.44</td>\n",
       "      <td>0.02</td>\n",
       "      <td>0.00</td>\n",
       "      <td>0.97</td>\n",
       "      <td>0.758388</td>\n",
       "      <td>3.204537</td>\n",
       "      <td>0.503045</td>\n",
       "      <td>0.038777</td>\n",
       "      <td>7.538163</td>\n",
       "      <td>0.000000</td>\n",
       "      <td>0</td>\n",
       "      <td>15611</td>\n",
       "    </tr>\n",
       "    <tr>\n",
       "      <th>2</th>\n",
       "      <td>2.14</td>\n",
       "      <td>0.41</td>\n",
       "      <td>0.43</td>\n",
       "      <td>0.65</td>\n",
       "      <td>1.04</td>\n",
       "      <td>0.01</td>\n",
       "      <td>0.07</td>\n",
       "      <td>0.68</td>\n",
       "      <td>0.765844</td>\n",
       "      <td>0.287228</td>\n",
       "      <td>1.208067</td>\n",
       "      <td>0.161375</td>\n",
       "      <td>10.547653</td>\n",
       "      <td>0.047934</td>\n",
       "      <td>0</td>\n",
       "      <td>6412</td>\n",
       "    </tr>\n",
       "    <tr>\n",
       "      <th>3</th>\n",
       "      <td>11.29</td>\n",
       "      <td>0.47</td>\n",
       "      <td>1.38</td>\n",
       "      <td>1.02</td>\n",
       "      <td>4.67</td>\n",
       "      <td>0.07</td>\n",
       "      <td>0.26</td>\n",
       "      <td>1.47</td>\n",
       "      <td>4.359190</td>\n",
       "      <td>0.207332</td>\n",
       "      <td>0.812236</td>\n",
       "      <td>0.046317</td>\n",
       "      <td>14.034624</td>\n",
       "      <td>0.000000</td>\n",
       "      <td>0</td>\n",
       "      <td>7180</td>\n",
       "    </tr>\n",
       "    <tr>\n",
       "      <th>4</th>\n",
       "      <td>0.23</td>\n",
       "      <td>0.14</td>\n",
       "      <td>0.18</td>\n",
       "      <td>0.16</td>\n",
       "      <td>0.15</td>\n",
       "      <td>0.03</td>\n",
       "      <td>0.00</td>\n",
       "      <td>0.42</td>\n",
       "      <td>0.111413</td>\n",
       "      <td>0.015148</td>\n",
       "      <td>0.314931</td>\n",
       "      <td>1.211796</td>\n",
       "      <td>0.670587</td>\n",
       "      <td>0.000000</td>\n",
       "      <td>0</td>\n",
       "      <td>3890</td>\n",
       "    </tr>\n",
       "    <tr>\n",
       "      <th>5</th>\n",
       "      <td>1.84</td>\n",
       "      <td>0.14</td>\n",
       "      <td>0.36</td>\n",
       "      <td>0.42</td>\n",
       "      <td>0.78</td>\n",
       "      <td>0.03</td>\n",
       "      <td>0.04</td>\n",
       "      <td>0.44</td>\n",
       "      <td>0.603754</td>\n",
       "      <td>0.000000</td>\n",
       "      <td>0.316023</td>\n",
       "      <td>0.015077</td>\n",
       "      <td>1.374100</td>\n",
       "      <td>0.000000</td>\n",
       "      <td>0</td>\n",
       "      <td>5979</td>\n",
       "    </tr>\n",
       "  </tbody>\n",
       "</table>\n",
       "</div>"
      ],
      "text/plain": [
       "   sust_amt  educ_amt  tran_amt  heal_amt  fina_amt  comm_amt  ente_amt  \\\n",
       "1      0.58      0.86      0.54      0.43      0.44      0.02      0.00   \n",
       "2      2.14      0.41      0.43      0.65      1.04      0.01      0.07   \n",
       "3     11.29      0.47      1.38      1.02      4.67      0.07      0.26   \n",
       "4      0.23      0.14      0.18      0.16      0.15      0.03      0.00   \n",
       "5      1.84      0.14      0.36      0.42      0.78      0.03      0.04   \n",
       "\n",
       "   othe_amt  comm_area  park_area  indu_area  agri_area  resi_area  util_area  \\\n",
       "1      0.97   0.758388   3.204537   0.503045   0.038777   7.538163   0.000000   \n",
       "2      0.68   0.765844   0.287228   1.208067   0.161375  10.547653   0.047934   \n",
       "3      1.47   4.359190   0.207332   0.812236   0.046317  14.034624   0.000000   \n",
       "4      0.42   0.111413   0.015148   0.314931   1.211796   0.670587   0.000000   \n",
       "5      0.44   0.603754   0.000000   0.316023   0.015077   1.374100   0.000000   \n",
       "\n",
       "   othe_area  trips  \n",
       "1          0  15611  \n",
       "2          0   6412  \n",
       "3          0   7180  \n",
       "4          0   3890  \n",
       "5          0   5979  "
      ]
     },
     "execution_count": 255,
     "metadata": {},
     "output_type": "execute_result"
    }
   ],
   "source": [
    "dummy_data_amenities = pd.read_csv('DummyDataRegressionAmenitiex_revised_2.csv', index_col=0)\n",
    "dummy_data_amenities.head()"
   ]
  },
  {
   "cell_type": "markdown",
   "metadata": {
    "deletable": true,
    "editable": true
   },
   "source": [
    "# DATA PREPARATION (Example Plan)"
   ]
  },
  {
   "cell_type": "markdown",
   "metadata": {
    "collapsed": true,
    "deletable": true,
    "editable": true
   },
   "source": [
    "## Collinearity Checking using Peasrson Correlation (correlation coefficient, 2-tailed p-value)"
   ]
  },
  {
   "cell_type": "code",
   "execution_count": 256,
   "metadata": {
    "collapsed": false,
    "deletable": true,
    "editable": true
   },
   "outputs": [
    {
     "name": "stdout",
     "output_type": "stream",
     "text": [
      "All collinearities:\n",
      "Collinearity between no_hh & trips = (0.88819908302512485, 1.9285699992241247e-06)\n",
      "Collinearity between avg_income & trips = (-0.26124022358668669, 0.31115282884985307)\n",
      "Collinearity between mem_no & trips = (0.86767932652407465, 6.4153591620644434e-06)\n",
      "Collinearity between no_mem_educwork & trips = (0.87429475815909696, 4.4550812074522216e-06)\n",
      "Collinearity between comm_area & trips = (0.64193276623664242, 0.0054670728781926929)\n",
      "Collinearity between park_area & trips = (0.91038255066027163, 3.9232064598553524e-07)\n",
      "Collinearity between indu_area & trips = (0.12611598130881471, 0.62958180041949541)\n",
      "Collinearity between agri_area & trips = (0.66983263265039983, 0.0032642464603115269)\n",
      "Collinearity between resi_area & trips = (0.70387236988112056, 0.0016136580187158158)\n",
      "Collinearity between util_area & trips = (0.80628723437098493, 9.2652977765104511e-05)\n",
      "Collinearity between othe_area & trips = (nan, 1.0)\n",
      "Collinearity between no_hh & othe_area = (nan, 1.0)\n",
      "Collinearity between avg_income & othe_area = (nan, 1.0)\n",
      "Collinearity between mem_no & othe_area = (nan, 1.0)\n",
      "Collinearity between no_mem_educwork & othe_area = (nan, 1.0)\n",
      "Collinearity between comm_area & othe_area = (nan, 1.0)\n",
      "Collinearity between park_area & othe_area = (nan, 1.0)\n",
      "Collinearity between indu_area & othe_area = (nan, 1.0)\n",
      "Collinearity between agri_area & othe_area = (nan, 1.0)\n",
      "Collinearity between resi_area & othe_area = (nan, 1.0)\n",
      "Collinearity between util_area & othe_area = (nan, 1.0)\n",
      "Collinearity between no_hh & util_area = (0.79483153597370082, 0.00013755960722459617)\n",
      "Collinearity between avg_income & util_area = (-0.11834012077490409, 0.65101058466806438)\n",
      "Collinearity between mem_no & util_area = (0.78135642754288925, 0.00021249206337312914)\n",
      "Collinearity between no_mem_educwork & util_area = (0.78440521318410095, 0.00019309188767133701)\n",
      "Collinearity between comm_area & util_area = (0.6929930811659093, 0.0020413979310681301)\n",
      "Collinearity between park_area & util_area = (0.94166622267434674, 1.7189509928800826e-08)\n",
      "Collinearity between indu_area & util_area = (0.087244951645721103, 0.73916749781923308)\n",
      "Collinearity between agri_area & util_area = (0.85046082777565724, 1.5238337168000712e-05)\n",
      "Collinearity between resi_area & util_area = (0.76875589942558542, 0.0003108827972589847)\n",
      "Collinearity between no_hh & resi_area = (0.66951647856927765, 0.00328433192962173)\n",
      "Collinearity between avg_income & resi_area = (-0.023004898520022108, 0.93016465734791609)\n",
      "Collinearity between mem_no & resi_area = (0.6565605424725014, 0.0041982254524074759)\n",
      "Collinearity between no_mem_educwork & resi_area = (0.66015316230164556, 0.0039263729351249272)\n",
      "Collinearity between comm_area & resi_area = (0.84240772276652687, 2.2034109052471984e-05)\n",
      "Collinearity between park_area & resi_area = (0.71529828166657095, 0.00124664445225784)\n",
      "Collinearity between indu_area & resi_area = (0.31809668746914188, 0.21339693145456998)\n",
      "Collinearity between agri_area & resi_area = (0.55350028625597381, 0.021168330332250761)\n",
      "Collinearity between no_hh & agri_area = (0.64274619226712337, 0.0053892435603161218)\n",
      "Collinearity between avg_income & agri_area = (-0.21866719465633749, 0.39912286771213346)\n",
      "Collinearity between mem_no & agri_area = (0.63240184157112966, 0.0064484113850608003)\n",
      "Collinearity between no_mem_educwork & agri_area = (0.63506589576445416, 0.0061608893550306127)\n",
      "Collinearity between comm_area & agri_area = (0.51378721229469837, 0.034886921523598166)\n",
      "Collinearity between park_area & agri_area = (0.81776163604223207, 6.0733897444386759e-05)\n",
      "Collinearity between indu_area & agri_area = (-0.06503879917216232, 0.80413605222548012)\n",
      "Collinearity between no_hh & indu_area = (0.30612439940201208, 0.23208721718873584)\n",
      "Collinearity between avg_income & indu_area = (0.28342647899959733, 0.27029371892700116)\n",
      "Collinearity between mem_no & indu_area = (0.31779709294935998, 0.21385238210195695)\n",
      "Collinearity between no_mem_educwork & indu_area = (0.31493967037510906, 0.21822785523836138)\n",
      "Collinearity between comm_area & indu_area = (0.34228122443000658, 0.17868565164279879)\n",
      "Collinearity between park_area & indu_area = (0.091493652338841477, 0.72691094769779496)\n",
      "Collinearity between no_hh & park_area = (0.88659985523391838, 2.1350620748282525e-06)\n",
      "Collinearity between avg_income & park_area = (-0.13135655973943328, 0.61529449239693124)\n",
      "Collinearity between mem_no & park_area = (0.87150361426394796, 5.2086207959120128e-06)\n",
      "Collinearity between no_mem_educwork & park_area = (0.87512631948435249, 4.2494030639467585e-06)\n",
      "Collinearity between comm_area & park_area = (0.70718203499916565, 0.0014992483961888705)\n",
      "Collinearity between no_hh & comm_area = (0.66063550952321359, 0.0038909875940368443)\n",
      "Collinearity between avg_income & comm_area = (0.23639299820371854, 0.36099287373869132)\n",
      "Collinearity between mem_no & comm_area = (0.65329427230112358, 0.00445843186818315)\n",
      "Collinearity between no_mem_educwork & comm_area = (0.65333888900494874, 0.0044547916335847251)\n",
      "Collinearity between no_hh & no_mem_educwork = (0.99947584559975466, 9.1133470341420151e-24)\n",
      "Collinearity between avg_income & no_mem_educwork = (0.16270137745958221, 0.53268193219483284)\n",
      "Collinearity between mem_no & no_mem_educwork = (0.99989549547732492, 5.1023410360678625e-29)\n",
      "Collinearity between no_hh & mem_no = (0.99897834560456877, 1.357981687669208e-21)\n",
      "Collinearity between avg_income & mem_no = (0.17552648650566718, 0.50040621132636942)\n",
      "Collinearity between no_hh & avg_income = (0.13762029256903149, 0.5983880322754942)\n"
     ]
    },
    {
     "name": "stderr",
     "output_type": "stream",
     "text": [
      "C:\\Users\\xtiangabe\\Anaconda3\\lib\\site-packages\\scipy\\stats\\stats.py:3029: RuntimeWarning: invalid value encountered in double_scalars\n",
      "  r = r_num / r_den\n",
      "C:\\Users\\xtiangabe\\Anaconda3\\lib\\site-packages\\scipy\\stats\\stats.py:5084: RuntimeWarning: invalid value encountered in less\n",
      "  x = np.where(x < 1.0, x, 1.0)  # if x > 1 then return 1.0\n"
     ]
    }
   ],
   "source": [
    "data_filepath = \"DummyDataRegression_revised_2.csv\"\n",
    "regression = Regression(data_filepath)\n",
    "array = regression.getDataFrame().values\n",
    "print(\"All collinearities:\")\n",
    "regression.printAllCollinearities()"
   ]
  },
  {
   "cell_type": "markdown",
   "metadata": {
    "deletable": true,
    "editable": true
   },
   "source": [
    "### Checking for Optimal Features using Recursive Feature Elimination with Cross-Validation"
   ]
  },
  {
   "cell_type": "code",
   "execution_count": 257,
   "metadata": {
    "collapsed": false,
    "deletable": true,
    "editable": true
   },
   "outputs": [
    {
     "name": "stdout",
     "output_type": "stream",
     "text": [
      "1\n",
      "2\n",
      "[6 7 3 2 1 4 1 5 1 1 8]\n",
      "Optimal number of features3: 4\n",
      "[(1, 'comm_area'), (1, 'indu_area'), (1, 'resi_area'), (1, 'util_area'), (2, 'no_mem_educwork'), (3, 'mem_no'), (4, 'park_area'), (5, 'agri_area'), (6, 'no_hh'), (7, 'avg_income'), (8, 'othe_area')]\n",
      "[False False False False  True False  True False  True  True False]\n",
      "3\n"
     ]
    },
    {
     "data": {
      "text/plain": [
       "array(['no_hh', 'avg_income', 'mem_no', 'no_mem_educwork', 'comm_area',\n",
       "       'park_area', 'indu_area', 'agri_area', 'resi_area', 'util_area',\n",
       "       'othe_area'], dtype=object)"
      ]
     },
     "execution_count": 257,
     "metadata": {},
     "output_type": "execute_result"
    }
   ],
   "source": [
    "col_names = regression.getDataFrame().columns.values[0:11]\n",
    "print(str(1))\n",
    "dep_col_name = \"trips\"\n",
    "print(str(2))\n",
    "regression.getBestFeaturesRCEV(col_names, dep_col_name)\n",
    "print(str(3))\n",
    "col_names"
   ]
  },
  {
   "cell_type": "code",
   "execution_count": 258,
   "metadata": {
    "collapsed": false,
    "deletable": true,
    "editable": true
   },
   "outputs": [
    {
     "name": "stdout",
     "output_type": "stream",
     "text": [
      "All collinearities:\n",
      "Collinearity between sust_amt & trips = (0.69476942805678077, 0.0019658334827264133)\n",
      "Collinearity between educ_amt & trips = (0.85662879229395816, 1.1321502949351887e-05)\n",
      "Collinearity between tran_amt & trips = (0.88420937927128718, 2.4787744512887714e-06)\n",
      "Collinearity between heal_amt & trips = (0.85592029166410155, 1.1722599913956454e-05)\n",
      "Collinearity between fina_amt & trips = (0.64955461757839161, 0.0047722200284178087)\n",
      "Collinearity between comm_amt & trips = (0.50612616157157897, 0.038174588461789283)\n",
      "Collinearity between ente_amt & trips = (0.69395233906300458, 0.002000301911394599)\n",
      "Collinearity between othe_amt & trips = (0.88690327761569066, 2.0944963353903538e-06)\n",
      "Collinearity between comm_area & trips = (0.75516628904292205, 0.00045697228114219458)\n",
      "Collinearity between park_area & trips = (0.95363973242102962, 3.1782853412905942e-09)\n",
      "Collinearity between indu_area & trips = (0.24174197061148101, 0.34990398744025591)\n",
      "Collinearity between agri_area & trips = (0.72249883664077219, 0.0010529456199404247)\n",
      "Collinearity between resi_area & trips = (0.76418348185970864, 0.00035488707216449933)\n",
      "Collinearity between util_area & trips = (0.8816293414966051, 2.9016447853838898e-06)\n",
      "Collinearity between othe_area & trips = (nan, 1.0)\n",
      "Collinearity between sust_amt & othe_area = (nan, 1.0)\n",
      "Collinearity between educ_amt & othe_area = (nan, 1.0)\n",
      "Collinearity between tran_amt & othe_area = (nan, 1.0)\n",
      "Collinearity between heal_amt & othe_area = (nan, 1.0)\n",
      "Collinearity between fina_amt & othe_area = (nan, 1.0)\n",
      "Collinearity between comm_amt & othe_area = (nan, 1.0)\n",
      "Collinearity between ente_amt & othe_area = (nan, 1.0)\n",
      "Collinearity between othe_amt & othe_area = (nan, 1.0)\n",
      "Collinearity between comm_area & othe_area = (nan, 1.0)\n",
      "Collinearity between park_area & othe_area = (nan, 1.0)\n",
      "Collinearity between indu_area & othe_area = (nan, 1.0)\n",
      "Collinearity between agri_area & othe_area = (nan, 1.0)\n",
      "Collinearity between resi_area & othe_area = (nan, 1.0)\n",
      "Collinearity between util_area & othe_area = (nan, 1.0)\n",
      "Collinearity between sust_amt & util_area = (0.69479149986057254, 0.0019649091929218009)\n",
      "Collinearity between educ_amt & util_area = (0.78903580762852787, 0.00016647545273495502)\n",
      "Collinearity between tran_amt & util_area = (0.88932435595082837, 1.7937133954284446e-06)\n",
      "Collinearity between heal_amt & util_area = (0.86035239563488708, 9.3995937450405325e-06)\n",
      "Collinearity between fina_amt & util_area = (0.6259023100533877, 0.0071953080626535855)\n",
      "Collinearity between comm_amt & util_area = (0.51863492228399133, 0.032921239177163331)\n",
      "Collinearity between ente_amt & util_area = (0.73173411778719355, 0.00084153416497416184)\n",
      "Collinearity between othe_amt & util_area = (0.86623414688952549, 6.9294796406250715e-06)\n",
      "Collinearity between comm_area & util_area = (0.6929930811659093, 0.0020413979310681301)\n",
      "Collinearity between park_area & util_area = (0.94166622267434674, 1.7189509928800826e-08)\n",
      "Collinearity between indu_area & util_area = (0.087244951645721103, 0.73916749781923308)\n",
      "Collinearity between agri_area & util_area = (0.85046082777565724, 1.5238337168000712e-05)\n",
      "Collinearity between resi_area & util_area = (0.76875589942558542, 0.0003108827972589847)\n",
      "Collinearity between sust_amt & resi_area = (0.74992736155662887, 0.00052675556420193057)\n",
      "Collinearity between educ_amt & resi_area = (0.69140730279206908, 0.0021108501587921457)\n",
      "Collinearity between tran_amt & resi_area = (0.80960064614255256, 8.2249970926247961e-05)\n",
      "Collinearity between heal_amt & resi_area = (0.81538521653648033, 6.6440906092642873e-05)\n",
      "Collinearity between fina_amt & resi_area = (0.70894365005434734, 0.0014411272119481107)\n",
      "Collinearity between comm_amt & resi_area = (0.62594783615375249, 0.0071898454856558578)\n",
      "Collinearity between ente_amt & resi_area = (0.78302470852233519, 0.00020168395009529779)\n",
      "Collinearity between othe_amt & resi_area = (0.76325324610822809, 0.0003644466272752763)\n",
      "Collinearity between comm_area & resi_area = (0.84240772276652687, 2.2034109052471984e-05)\n",
      "Collinearity between park_area & resi_area = (0.71529828166657095, 0.00124664445225784)\n",
      "Collinearity between indu_area & resi_area = (0.31809668746914188, 0.21339693145456998)\n",
      "Collinearity between agri_area & resi_area = (0.55350028625597381, 0.021168330332250761)\n",
      "Collinearity between sust_amt & agri_area = (0.52689850025628027, 0.029767273852089396)\n",
      "Collinearity between educ_amt & agri_area = (0.6330404563145664, 0.0063785247154282887)\n",
      "Collinearity between tran_amt & agri_area = (0.72407195231626753, 0.0010141254585083932)\n",
      "Collinearity between heal_amt & agri_area = (0.66263515859594735, 0.0037470401592766861)\n",
      "Collinearity between fina_amt & agri_area = (0.45700255707845944, 0.065149039107837384)\n",
      "Collinearity between comm_amt & agri_area = (0.37645047559789302, 0.13639552935093605)\n",
      "Collinearity between ente_amt & agri_area = (0.55774880211858446, 0.019996754012942056)\n",
      "Collinearity between othe_amt & agri_area = (0.7097171715387397, 0.001416198804135905)\n",
      "Collinearity between comm_area & agri_area = (0.51378721229469837, 0.034886921523598166)\n",
      "Collinearity between park_area & agri_area = (0.81776163604223207, 6.0733897444386759e-05)\n",
      "Collinearity between indu_area & agri_area = (-0.06503879917216232, 0.80413605222548012)\n",
      "Collinearity between sust_amt & indu_area = (0.21235793838493833, 0.41319862534071294)\n",
      "Collinearity between educ_amt & indu_area = (0.33877752942828865, 0.18346476308228338)\n",
      "Collinearity between tran_amt & indu_area = (0.21307636632956961, 0.41158269381875323)\n",
      "Collinearity between heal_amt & indu_area = (0.33136088409477898, 0.19385887664629614)\n",
      "Collinearity between fina_amt & indu_area = (0.25273002311275611, 0.32774175320439219)\n",
      "Collinearity between comm_amt & indu_area = (0.44118925867599895, 0.076267166239756157)\n",
      "Collinearity between ente_amt & indu_area = (0.10809355490235158, 0.67964521005986711)\n",
      "Collinearity between othe_amt & indu_area = (0.34861612864555697, 0.1702567970542618)\n",
      "Collinearity between comm_area & indu_area = (0.34228122443000658, 0.17868565164279879)\n",
      "Collinearity between park_area & indu_area = (0.091493652338841477, 0.72691094769779496)\n",
      "Collinearity between sust_amt & park_area = (0.66689556744060707, 0.0034547423912575969)\n",
      "Collinearity between educ_amt & park_area = (0.81070854647056634, 7.8998928105184657e-05)\n",
      "Collinearity between tran_amt & park_area = (0.88905336351653885, 1.8254306431304751e-06)\n",
      "Collinearity between heal_amt & park_area = (0.81904104393143629, 5.7836539559941282e-05)\n",
      "Collinearity between fina_amt & park_area = (0.59871828683695871, 0.011105373554321429)\n",
      "Collinearity between comm_amt & park_area = (0.49190268961560418, 0.044897042484841006)\n",
      "Collinearity between ente_amt & park_area = (0.68044542711157374, 0.0026457363123877369)\n",
      "Collinearity between othe_amt & park_area = (0.87083223893234385, 5.4052381746546016e-06)\n",
      "Collinearity between comm_area & park_area = (0.70718203499916565, 0.0014992483961888705)\n",
      "Collinearity between sust_amt & comm_area = (0.94260269107116823, 1.5266643290591791e-08)\n",
      "Collinearity between educ_amt & comm_area = (0.68683150813045613, 0.0023221766806520733)\n",
      "Collinearity between tran_amt & comm_area = (0.87880427356547008, 3.4337695920634058e-06)\n",
      "Collinearity between heal_amt & comm_area = (0.84366695033445382, 2.0827577275139562e-05)\n",
      "Collinearity between fina_amt & comm_area = (0.93027673670945132, 6.3333392481226358e-08)\n",
      "Collinearity between comm_amt & comm_area = (0.61023913036327238, 0.0092824256389890305)\n",
      "Collinearity between ente_amt & comm_area = (0.93046220301115679, 6.2114731454262024e-08)\n",
      "Collinearity between othe_amt & comm_area = (0.82113639580891118, 5.334330556066847e-05)\n",
      "Collinearity between sust_amt & othe_amt = (0.85427780403814813, 1.26991002312223e-05)\n",
      "Collinearity between educ_amt & othe_amt = (0.95274554701582537, 3.6583371996182486e-09)\n",
      "Collinearity between tran_amt & othe_amt = (0.97181358224554903, 8.0237873479760702e-11)\n",
      "Collinearity between heal_amt & othe_amt = (0.98054878010015345, 5.0952658291419942e-12)\n",
      "Collinearity between fina_amt & othe_amt = (0.81884565306254331, 5.8271326412332356e-05)\n",
      "Collinearity between comm_amt & othe_amt = (0.78696464463823124, 0.00017797237654992279)\n",
      "Collinearity between ente_amt & othe_amt = (0.79023668595001617, 0.00016009943949598282)\n",
      "Collinearity between sust_amt & ente_amt = (0.96980934683842068, 1.3353590146296078e-10)\n",
      "Collinearity between educ_amt & ente_amt = (0.64875261697718889, 0.0048417844306554584)\n",
      "Collinearity between tran_amt & ente_amt = (0.88034202209974033, 3.1346707588723925e-06)\n",
      "Collinearity between heal_amt & ente_amt = (0.84611793791143919, 1.8639057392682623e-05)\n",
      "Collinearity between fina_amt & ente_amt = (0.9480122706935904, 7.3825008770071992e-09)\n",
      "Collinearity between comm_amt & ente_amt = (0.55409040524017328, 0.02100247697943099)\n",
      "Collinearity between sust_amt & comm_amt = (0.68073514084842168, 0.0026303020103297554)\n",
      "Collinearity between educ_amt & comm_amt = (0.79255981218877514, 0.00014834504006284947)\n",
      "Collinearity between tran_amt & comm_amt = (0.71750446566464399, 0.0011844117315902966)\n",
      "Collinearity between heal_amt & comm_amt = (0.78800868802175095, 0.0001720965192155371)\n",
      "Collinearity between fina_amt & comm_amt = (0.66324383610796944, 0.0037040925238367339)\n",
      "Collinearity between sust_amt & fina_amt = (0.99052323850341195, 2.3851237316826585e-14)\n",
      "Collinearity between educ_amt & fina_amt = (0.71147561173002649, 0.0013608472133041856)\n",
      "Collinearity between tran_amt & fina_amt = (0.85869537441944022, 1.0217461183619518e-05)\n",
      "Collinearity between heal_amt & fina_amt = (0.86248086862302331, 8.4311975688566564e-06)\n",
      "Collinearity between sust_amt & heal_amt = (0.89173952434256809, 1.5312085355383966e-06)\n",
      "Collinearity between educ_amt & heal_amt = (0.92782092042598141, 8.1514697949116258e-08)\n",
      "Collinearity between tran_amt & heal_amt = (0.96955419236128026, 1.421309746844914e-10)\n",
      "Collinearity between sust_amt & tran_amt = (0.9044895963999281, 6.2151551862927387e-07)\n",
      "Collinearity between educ_amt & tran_amt = (0.88376571314627428, 2.5474978035545808e-06)\n",
      "Collinearity between sust_amt & educ_amt = (0.73775999576960827, 0.00072355088037530878)\n"
     ]
    },
    {
     "name": "stderr",
     "output_type": "stream",
     "text": [
      "C:\\Users\\xtiangabe\\Anaconda3\\lib\\site-packages\\scipy\\stats\\stats.py:3029: RuntimeWarning: invalid value encountered in double_scalars\n",
      "  r = r_num / r_den\n",
      "C:\\Users\\xtiangabe\\Anaconda3\\lib\\site-packages\\scipy\\stats\\stats.py:5084: RuntimeWarning: invalid value encountered in less\n",
      "  x = np.where(x < 1.0, x, 1.0)  # if x > 1 then return 1.0\n"
     ]
    }
   ],
   "source": [
    "data_filepath2 = \"DummyDataRegressionAmenitiex_revised_2.csv\"\n",
    "regression2 = Regression(data_filepath2)\n",
    "array2 = regression2.getDataFrame().values\n",
    "print(\"All collinearities:\")\n",
    "regression2.printAllCollinearities()"
   ]
  },
  {
   "cell_type": "code",
   "execution_count": 259,
   "metadata": {
    "collapsed": false,
    "deletable": true,
    "editable": true
   },
   "outputs": [
    {
     "name": "stdout",
     "output_type": "stream",
     "text": [
      "1\n",
      "2\n",
      "[1 1 1 1 1 1 1 1 1 3 2 4 1 5]\n",
      "Optimal number of features3: 10\n",
      "[(1, 'comm_amt'), (1, 'comm_area'), (1, 'educ_amt'), (1, 'ente_amt'), (1, 'fina_amt'), (1, 'heal_amt'), (1, 'othe_amt'), (1, 'park_area'), (1, 'tran_amt'), (1, 'util_area'), (2, 'agri_area'), (3, 'indu_area'), (4, 'resi_area'), (5, 'othe_area')]\n",
      "[ True  True  True  True  True  True  True  True  True False False False\n",
      "  True False]\n",
      "3\n"
     ]
    },
    {
     "data": {
      "text/plain": [
       "array(['educ_amt', 'tran_amt', 'heal_amt', 'fina_amt', 'comm_amt',\n",
       "       'ente_amt', 'othe_amt', 'comm_area', 'park_area', 'indu_area',\n",
       "       'agri_area', 'resi_area', 'util_area', 'othe_area'], dtype=object)"
      ]
     },
     "execution_count": 259,
     "metadata": {},
     "output_type": "execute_result"
    }
   ],
   "source": [
    "col_names2 = regression2.getDataFrame().columns.values[1:15]\n",
    "print(str(1))\n",
    "dep_col_name2 = \"trips\"\n",
    "print(str(2))\n",
    "regression2.getBestFeaturesRCEV(col_names2, dep_col_name2)\n",
    "print(str(3))\n",
    "col_names2"
   ]
  },
  {
   "cell_type": "code",
   "execution_count": 35,
   "metadata": {
    "collapsed": false,
    "deletable": true,
    "editable": true
   },
   "outputs": [
    {
     "ename": "IndentationError",
     "evalue": "unexpected indent (<ipython-input-35-1debb5dd00cc>, line 2)",
     "output_type": "error",
     "traceback": [
      "\u001b[1;36m  File \u001b[1;32m\"<ipython-input-35-1debb5dd00cc>\"\u001b[1;36m, line \u001b[1;32m2\u001b[0m\n\u001b[1;33m    'othe_area'\u001b[0m\n\u001b[1;37m    ^\u001b[0m\n\u001b[1;31mIndentationError\u001b[0m\u001b[1;31m:\u001b[0m unexpected indent\n"
     ]
    }
   ],
   "source": [
    " 'util_area',\n",
    "       'othe_area'\n",
    "        \n",
    "\\n Correlation coeff=0.9125, P-value=3.31e-07'"
   ]
  },
  {
   "cell_type": "code",
   "execution_count": 45,
   "metadata": {
    "collapsed": false,
    "deletable": true,
    "editable": true
   },
   "outputs": [
    {
     "data": {
      "image/png": "[encoded data removed]",
      "text/plain": [
       "<matplotlib.figure.Figure at 0x261570a7e48>"
      ]
     },
     "metadata": {},
     "output_type": "display_data"
    }
   ],
   "source": [
    "df = regression2.getDataFrame()\n",
    "plt.plot(df[\"trips\"], df[\"comm_area\"], 'bo')\n",
    "x = df[\"trips\"]\n",
    "y = df[\"comm_area\"]\n",
    "fit = np.polyfit(x, y, deg=1)\n",
    "plt.plot(x, fit[0] * x + fit[1], color='red')\n",
    "plt.xlabel('trips')\n",
    "plt.ylabel('comm_area')\n",
    "plt.title('Observed Data (Trips produced & # of commercial area)\\n Correlation coeff=0.7024, P-value=0.001667')\n",
    "plt.grid(True)\n",
    "# plt.axis([0, 220, 0, 120])\n",
    "plt.show()"
   ]
  },
  {
   "cell_type": "code",
   "execution_count": 46,
   "metadata": {
    "collapsed": false,
    "deletable": true,
    "editable": true
   },
   "outputs": [
    {
     "data": {
      "image/png": "[encoded data removed]",
      "text/plain": [
       "<matplotlib.figure.Figure at 0x2615664be80>"
      ]
     },
     "metadata": {},
     "output_type": "display_data"
    }
   ],
   "source": [
    "df = regression2.getDataFrame()\n",
    "plt.plot(df[\"trips\"], df[\"park_area\"], 'bo')\n",
    "x = df[\"trips\"]\n",
    "y = df[\"park_area\"]\n",
    "fit = np.polyfit(x, y, deg=1)\n",
    "plt.plot(x, fit[0] * x + fit[1], color='red')\n",
    "plt.xlabel('trips')\n",
    "plt.ylabel('park_area')\n",
    "plt.title('Observed Data (Trips produced & # of park area)\\n Correlation coeff=0.9400, P-value= 2.10e-08')\n",
    "plt.grid(True)\n",
    "# plt.axis([0, 220, 0, 120])\n",
    "plt.show()"
   ]
  },
  {
   "cell_type": "code",
   "execution_count": 47,
   "metadata": {
    "collapsed": false,
    "deletable": true,
    "editable": true
   },
   "outputs": [
    {
     "data": {
      "image/png": "[encoded data removed]",
      "text/plain": [
       "<matplotlib.figure.Figure at 0x261565fe2e8>"
      ]
     },
     "metadata": {},
     "output_type": "display_data"
    }
   ],
   "source": [
    "df = regression2.getDataFrame()\n",
    "plt.plot(df[\"trips\"], df[\"indu_area\"], 'bo')\n",
    "x = df[\"trips\"]\n",
    "y = df[\"indu_area\"]\n",
    "fit = np.polyfit(x, y, deg=1)\n",
    "plt.plot(x, fit[0] * x + fit[1], color='red')\n",
    "plt.xlabel('trips')\n",
    "plt.ylabel('indu_area')\n",
    "plt.title('Observed Data (Trips produced & # of industrial area)\\n Correlation coeff=0.1509, P-value=0.5632')\n",
    "plt.grid(True)\n",
    "# plt.axis([0, 220, 0, 120])\n",
    "plt.show()"
   ]
  },
  {
   "cell_type": "code",
   "execution_count": 48,
   "metadata": {
    "collapsed": false,
    "deletable": true,
    "editable": true
   },
   "outputs": [
    {
     "data": {
      "image/png": "[encoded data removed]",
      "text/plain": [
       "<matplotlib.figure.Figure at 0x261570191d0>"
      ]
     },
     "metadata": {},
     "output_type": "display_data"
    }
   ],
   "source": [
    "df = regression2.getDataFrame()\n",
    "plt.plot(df[\"trips\"], df[\"agri_area\"], 'bo')\n",
    "x = df[\"trips\"]\n",
    "y = df[\"agri_area\"]\n",
    "fit = np.polyfit(x, y, deg=1)\n",
    "plt.plot(x, fit[0] * x + fit[1], color='red')\n",
    "plt.xlabel('trips')\n",
    "plt.ylabel('agri_area')\n",
    "plt.title('Observed Data (Trips produced & # of agricultural area)\\n Correlation coeff=0.7027, P-value=0.0017')\n",
    "plt.grid(True)\n",
    "# plt.axis([0, 220, 0, 120])\n",
    "plt.show()"
   ]
  },
  {
   "cell_type": "code",
   "execution_count": 49,
   "metadata": {
    "collapsed": false,
    "deletable": true,
    "editable": true
   },
   "outputs": [
    {
     "data": {
      "image/png": "[encoded data removed]",
      "text/plain": [
       "<matplotlib.figure.Figure at 0x26156663358>"
      ]
     },
     "metadata": {},
     "output_type": "display_data"
    }
   ],
   "source": [
    "df = regression2.getDataFrame()\n",
    "plt.plot(df[\"trips\"], df[\"resi_area\"], 'bo')\n",
    "x = df[\"trips\"]\n",
    "y = df[\"resi_area\"]\n",
    "fit = np.polyfit(x, y, deg=1)\n",
    "plt.plot(x, fit[0] * x + fit[1], color='red')\n",
    "plt.xlabel('trips')\n",
    "plt.ylabel('resi_area')\n",
    "plt.title('Observed Data (Trips produced & # of residential area)\\n Correlation coeff=0.7443, P-value=0.0006')\n",
    "plt.grid(True)\n",
    "# plt.axis([0, 220, 0, 120])\n",
    "plt.show()"
   ]
  },
  {
   "cell_type": "code",
   "execution_count": 52,
   "metadata": {
    "collapsed": false,
    "deletable": true,
    "editable": true
   },
   "outputs": [
    {
     "data": {
      "image/png": "[encoded data removed]",
      "text/plain": [
       "<matplotlib.figure.Figure at 0x261571d9710>"
      ]
     },
     "metadata": {},
     "output_type": "display_data"
    }
   ],
   "source": [
    "df = regression2.getDataFrame()\n",
    "plt.plot(df[\"trips\"], df[\"util_area\"], 'bo')\n",
    "x = df[\"trips\"]\n",
    "y = df[\"util_area\"]\n",
    "fit = np.polyfit(x, y, deg=1)\n",
    "plt.plot(x, fit[0] * x + fit[1], color='red')\n",
    "plt.xlabel('trips')\n",
    "plt.ylabel('util_area')\n",
    "plt.title('Observed Data (Trips produced & # of utility area)\\n Correlation coeff=0.8517, P-value=1.43e-05')\n",
    "plt.grid(True)\n",
    "# plt.axis([0, 220, 0, 120])\n",
    "plt.show()"
   ]
  },
  {
   "cell_type": "markdown",
   "metadata": {
    "deletable": true,
    "editable": true
   },
   "source": [
    "### Verify Collinearity through Scatter Plots"
   ]
  },
  {
   "cell_type": "code",
   "execution_count": 201,
   "metadata": {
    "collapsed": false,
    "deletable": true,
    "editable": true
   },
   "outputs": [
    {
     "data": {
      "image/png": "[encoded data removed]",
      "text/plain": [
       "<matplotlib.figure.Figure at 0x26157085940>"
      ]
     },
     "metadata": {},
     "output_type": "display_data"
    }
   ],
   "source": [
    "df = regression2.getDataFrame()\n",
    "plt.plot(df[\"trips\"], df[\"othe_amt\"], 'bo')\n",
    "x = df[\"trips\"]\n",
    "y = df[\"othe_amt\"]\n",
    "fit = np.polyfit(x, y, deg=1)\n",
    "plt.plot(x, fit[0] * x + fit[1], color='red')\n",
    "plt.xlabel('trips')\n",
    "plt.ylabel('othe_amt')\n",
    "plt.title('Observed Data (trips x othe_amt)')\n",
    "plt.grid(True)\n",
    "# plt.axis([0, 220, 0, 120])\n",
    "plt.show()"
   ]
  },
  {
   "cell_type": "code",
   "execution_count": 55,
   "metadata": {
    "collapsed": false,
    "deletable": true,
    "editable": true
   },
   "outputs": [
    {
     "data": {
      "image/png": "[encoded data removed]",
      "text/plain": [
       "<matplotlib.figure.Figure at 0x261573282e8>"
      ]
     },
     "metadata": {},
     "output_type": "display_data"
    }
   ],
   "source": [
    "df = regression2.getDataFrame()\n",
    "plt.plot(df[\"trips\"], df[\"sust_amt\"], 'bo')\n",
    "x = df[\"trips\"]\n",
    "y = df[\"sust_amt\"]\n",
    "fit = np.polyfit(x, y, deg=1)\n",
    "plt.plot(x, fit[0] * x + fit[1], color='red')\n",
    "plt.xlabel('trips')\n",
    "plt.ylabel('sust_amt')\n",
    "plt.title('Observed Data (trips x sust_amt)')\n",
    "plt.grid(True)\n",
    "# plt.axis([0, 220, 0, 120])\n",
    "plt.show()"
   ]
  },
  {
   "cell_type": "code",
   "execution_count": 56,
   "metadata": {
    "collapsed": false,
    "deletable": true,
    "editable": true
   },
   "outputs": [
    {
     "data": {
      "image/png": "[encoded data removed]",
      "text/plain": [
       "<matplotlib.figure.Figure at 0x26156f79a90>"
      ]
     },
     "metadata": {},
     "output_type": "display_data"
    }
   ],
   "source": [
    "df = regression2.getDataFrame()\n",
    "plt.plot(df[\"trips\"], df[\"educ_amt\"], 'bo')\n",
    "x = df[\"trips\"]\n",
    "y = df[\"educ_amt\"]\n",
    "fit = np.polyfit(x, y, deg=1)\n",
    "plt.plot(x, fit[0] * x + fit[1], color='red')\n",
    "plt.xlabel('trips')\n",
    "plt.ylabel('educ_amt')\n",
    "plt.title('Observed Data (trips x educ_amt)')\n",
    "plt.grid(True)\n",
    "# plt.axis([0, 220, 0, 120])\n",
    "plt.show()"
   ]
  },
  {
   "cell_type": "code",
   "execution_count": 57,
   "metadata": {
    "collapsed": false,
    "deletable": true,
    "editable": true
   },
   "outputs": [
    {
     "data": {
      "image/png": "[encoded data removed]",
      "text/plain": [
       "<matplotlib.figure.Figure at 0x26157119e10>"
      ]
     },
     "metadata": {},
     "output_type": "display_data"
    }
   ],
   "source": [
    "df = regression2.getDataFrame()\n",
    "plt.plot(df[\"trips\"], df[\"tran_amt\"], 'bo')\n",
    "x = df[\"trips\"]\n",
    "y = df[\"tran_amt\"]\n",
    "fit = np.polyfit(x, y, deg=1)\n",
    "plt.plot(x, fit[0] * x + fit[1], color='red')\n",
    "plt.xlabel('trips')\n",
    "plt.ylabel('tran_amt')\n",
    "plt.title('Observed Data (trips x tran_amt)')\n",
    "plt.grid(True)\n",
    "# plt.axis([0, 220, 0, 120])\n",
    "plt.show()"
   ]
  },
  {
   "cell_type": "code",
   "execution_count": 58,
   "metadata": {
    "collapsed": false,
    "deletable": true,
    "editable": true
   },
   "outputs": [
    {
     "data": {
      "image/png": "[encoded data removed]",
      "text/plain": [
       "<matplotlib.figure.Figure at 0x26157230b38>"
      ]
     },
     "metadata": {},
     "output_type": "display_data"
    }
   ],
   "source": [
    "df = regression2.getDataFrame()\n",
    "plt.plot(df[\"trips\"], df[\"heal_amt\"], 'bo')\n",
    "x = df[\"trips\"]\n",
    "y = df[\"heal_amt\"]\n",
    "fit = np.polyfit(x, y, deg=1)\n",
    "plt.plot(x, fit[0] * x + fit[1], color='red')\n",
    "plt.xlabel('trips')\n",
    "plt.ylabel('heal_amt')\n",
    "plt.title('Observed Data (trips x heal_amt)')\n",
    "plt.grid(True)\n",
    "# plt.axis([0, 220, 0, 120])\n",
    "plt.show()"
   ]
  },
  {
   "cell_type": "code",
   "execution_count": 59,
   "metadata": {
    "collapsed": false,
    "deletable": true,
    "editable": true
   },
   "outputs": [
    {
     "data": {
      "image/png": "[encoded data removed]",
      "text/plain": [
       "<matplotlib.figure.Figure at 0x26157007d68>"
      ]
     },
     "metadata": {},
     "output_type": "display_data"
    }
   ],
   "source": [
    "df = regression2.getDataFrame()\n",
    "plt.plot(df[\"trips\"], df[\"fina_amt\"], 'bo')\n",
    "x = df[\"trips\"]\n",
    "y = df[\"fina_amt\"]\n",
    "fit = np.polyfit(x, y, deg=1)\n",
    "plt.plot(x, fit[0] * x + fit[1], color='red')\n",
    "plt.xlabel('trips')\n",
    "plt.ylabel('fina_amt')\n",
    "plt.title('Observed Data (trips x fina_amt)')\n",
    "plt.grid(True)\n",
    "# plt.axis([0, 220, 0, 120])\n",
    "plt.show()"
   ]
  },
  {
   "cell_type": "code",
   "execution_count": 60,
   "metadata": {
    "collapsed": false,
    "deletable": true,
    "editable": true
   },
   "outputs": [
    {
     "data": {
      "image/png": "[encoded data removed]",
      "text/plain": [
       "<matplotlib.figure.Figure at 0x261571cccf8>"
      ]
     },
     "metadata": {},
     "output_type": "display_data"
    }
   ],
   "source": [
    "df = regression2.getDataFrame()\n",
    "plt.plot(df[\"trips\"], df[\"ente_amt\"], 'bo')\n",
    "x = df[\"trips\"]\n",
    "y = df[\"ente_amt\"]\n",
    "fit = np.polyfit(x, y, deg=1)\n",
    "plt.plot(x, fit[0] * x + fit[1], color='red')\n",
    "plt.xlabel('trips')\n",
    "plt.ylabel('ente_amt')\n",
    "plt.title('Observed Data (trips x ente_amt)')\n",
    "plt.grid(True)\n",
    "# plt.axis([0, 220, 0, 120])\n",
    "plt.show()"
   ]
  },
  {
   "cell_type": "code",
   "execution_count": 61,
   "metadata": {
    "collapsed": false,
    "deletable": true,
    "editable": true
   },
   "outputs": [
    {
     "data": {
      "image/png": "[encoded data removed]",
      "text/plain": [
       "<matplotlib.figure.Figure at 0x261572579e8>"
      ]
     },
     "metadata": {},
     "output_type": "display_data"
    }
   ],
   "source": [
    "df = regression2.getDataFrame()\n",
    "plt.plot(df[\"trips\"], df[\"comm_amt\"], 'bo')\n",
    "x = df[\"trips\"]\n",
    "y = df[\"comm_amt\"]\n",
    "fit = np.polyfit(x, y, deg=1)\n",
    "plt.plot(x, fit[0] * x + fit[1], color='red')\n",
    "plt.xlabel('trips')\n",
    "plt.ylabel('comm_amt')\n",
    "plt.title('Observed Data (trips x comm_amt)')\n",
    "plt.grid(True)\n",
    "# plt.axis([0, 220, 0, 120])\n",
    "plt.show()"
   ]
  },
  {
   "cell_type": "code",
   "execution_count": 63,
   "metadata": {
    "collapsed": false,
    "deletable": true,
    "editable": true
   },
   "outputs": [
    {
     "data": {
      "image/png": "[encoded data removed]",
      "text/plain": [
       "<matplotlib.figure.Figure at 0x26157196a58>"
      ]
     },
     "metadata": {},
     "output_type": "display_data"
    }
   ],
   "source": [
    "df = regression.getDataFrame()\n",
    "plt.plot(df[\"trips\"], df[\"agri_area\"], 'bo')\n",
    "x = df[\"trips\"]\n",
    "y = df[\"agri_area\"]\n",
    "fit = np.polyfit(x, y, deg=1)\n",
    "plt.plot(x, fit[0] * x + fit[1], color='red')\n",
    "plt.xlabel('trips')\n",
    "plt.ylabel('agri_area')\n",
    "plt.title('Observed Data (trips x agri_area)')\n",
    "plt.grid(True)\n",
    "# plt.axis([0, 220, 0, 120])\n",
    "plt.show()"
   ]
  },
  {
   "cell_type": "code",
   "execution_count": 64,
   "metadata": {
    "collapsed": false,
    "deletable": true,
    "editable": true
   },
   "outputs": [
    {
     "ename": "SyntaxError",
     "evalue": "invalid syntax (<ipython-input-64-988561d38e77>, line 1)",
     "output_type": "error",
     "traceback": [
      "\u001b[1;36m  File \u001b[1;32m\"<ipython-input-64-988561d38e77>\"\u001b[1;36m, line \u001b[1;32m1\u001b[0m\n\u001b[1;33m    Collinearity between no_hh & trips = (0.92914760415527753, 7.1205170410730196e-08)\u001b[0m\n\u001b[1;37m                       ^\u001b[0m\n\u001b[1;31mSyntaxError\u001b[0m\u001b[1;31m:\u001b[0m invalid syntax\n"
     ]
    }
   ],
   "source": [
    "Collinearity between no_hh & trips = (0.92914760415527753, 7.1205170410730196e-08)\n",
    "Collinearity between avg_income & trips = (0.91992035789848337, 1.7354578828442896e-07)\n",
    "Collinearity between mem_no & trips = (0.91247798270778113, 3.305852610863916e-07)\n",
    "Collinearity between no_mem_educwork & trips = (0.91764041951966036, 2.1277373172145904e-07)"
   ]
  },
  {
   "cell_type": "code",
   "execution_count": 30,
   "metadata": {
    "collapsed": false,
    "deletable": true,
    "editable": true
   },
   "outputs": [
    {
     "data": {
      "image/png": "[encoded data removed]",
      "text/plain": [
       "<matplotlib.figure.Figure at 0x154d87549e8>"
      ]
     },
     "metadata": {},
     "output_type": "display_data"
    }
   ],
   "source": [
    "df = regression.getDataFrame()\n",
    "plt.plot(df[\"trips\"], df[\"no_hh\"], 'bo')\n",
    "x = df[\"trips\"]\n",
    "y = df[\"no_hh\"]\n",
    "fit = np.polyfit(x, y, deg=1)\n",
    "plt.plot(x, fit[0] * x + fit[1], color='red')\n",
    "plt.xlabel('trips')\n",
    "plt.ylabel('no_hh')\n",
    "plt.title('Observed Data (Trips produced & # of households)\\n Correlation coeff=0.9291, P-value=7.12e-08')\n",
    "plt.grid(True)\n",
    "# plt.axis([0, 220, 0, 120])\n",
    "plt.show()"
   ]
  },
  {
   "cell_type": "code",
   "execution_count": 31,
   "metadata": {
    "collapsed": false,
    "deletable": true,
    "editable": true
   },
   "outputs": [
    {
     "data": {
      "image/png": "[encoded data removed]",
      "text/plain": [
       "<matplotlib.figure.Figure at 0x154d9a1bf98>"
      ]
     },
     "metadata": {},
     "output_type": "display_data"
    }
   ],
   "source": [
    "df = regression.getDataFrame()\n",
    "plt.plot(df[\"trips\"], df[\"mem_no\"], 'bo')\n",
    "x = df[\"trips\"]\n",
    "y = df[\"mem_no\"]\n",
    "fit = np.polyfit(x, y, deg=1)\n",
    "plt.plot(x, fit[0] * x + fit[1], color='red')\n",
    "plt.xlabel('trips')\n",
    "plt.ylabel('mem_no')\n",
    "plt.title('Observed Data (Trips produced & # of household members)\\n Correlation coeff=0.9125, P-value=3.31e-07')\n",
    "plt.grid(True)\n",
    "# plt.axis([0, 220, 0, 120])\n",
    "plt.show()"
   ]
  },
  {
   "cell_type": "code",
   "execution_count": 32,
   "metadata": {
    "collapsed": false,
    "deletable": true,
    "editable": true
   },
   "outputs": [
    {
     "data": {
      "image/png": "[encoded data removed]",
      "text/plain": [
       "<matplotlib.figure.Figure at 0x154d9a86a90>"
      ]
     },
     "metadata": {},
     "output_type": "display_data"
    }
   ],
   "source": [
    "df = regression.getDataFrame()\n",
    "plt.plot(df[\"trips\"], df[\"avg_income\"], 'bo')\n",
    "x = df[\"trips\"]\n",
    "y = df[\"avg_income\"]\n",
    "fit = np.polyfit(x, y, deg=1)\n",
    "plt.plot(x, fit[0] * x + fit[1], color='red')\n",
    "plt.xlabel('trips')\n",
    "plt.ylabel('avg_income')\n",
    "plt.title('Observed Data (Trips produced & Average income)\\n Correlation coeff=0.9199, P-value=1.73e-07')\n",
    "plt.grid(True)\n",
    "# plt.axis([0, 220, 0, 120])\n",
    "plt.show()"
   ]
  },
  {
   "cell_type": "code",
   "execution_count": 33,
   "metadata": {
    "collapsed": false,
    "deletable": true,
    "editable": true
   },
   "outputs": [
    {
     "data": {
      "image/png": "[encoded data removed]",
      "text/plain": [
       "<matplotlib.figure.Figure at 0x154d9a2f630>"
      ]
     },
     "metadata": {},
     "output_type": "display_data"
    }
   ],
   "source": [
    "df = regression.getDataFrame()\n",
    "plt.plot(df[\"trips\"], df[\"resi_area\"], 'bo')\n",
    "x = df[\"trips\"]\n",
    "y = df[\"resi_area\"]\n",
    "fit = np.polyfit(x, y, deg=1)\n",
    "plt.plot(x, fit[0] * x + fit[1], color='red')\n",
    "plt.xlabel('trips')\n",
    "plt.ylabel('resi_area')\n",
    "plt.title('Observed Data (trips x resi_area)')\n",
    "plt.grid(True)\n",
    "# plt.axis([0, 220, 0, 120])\n",
    "plt.show()"
   ]
  },
  {
   "cell_type": "code",
   "execution_count": 34,
   "metadata": {
    "collapsed": false,
    "deletable": true,
    "editable": true
   },
   "outputs": [
    {
     "data": {
      "image/png": "[encoded data removed]",
      "text/plain": [
       "<matplotlib.figure.Figure at 0x154d9ac0c50>"
      ]
     },
     "metadata": {},
     "output_type": "display_data"
    }
   ],
   "source": [
    "df = regression.getDataFrame()\n",
    "plt.plot(df[\"trips\"], df[\"no_mem_educwork\"], 'bo')\n",
    "x = df[\"trips\"]\n",
    "y = df[\"no_mem_educwork\"]\n",
    "fit = np.polyfit(x, y, deg=1)\n",
    "plt.plot(x, fit[0] * x + fit[1], color='red')\n",
    "plt.xlabel('trips')\n",
    "plt.ylabel('no_mem_educwork')\n",
    "plt.title('Observed Data (Trips produced & # of working/studying household members)\\n Correlation coeff=0.9176, P-value=2.13e-07')\n",
    "plt.grid(True)\n",
    "# plt.axis([0, 220, 0, 120])\n",
    "plt.show()"
   ]
  },
  {
   "cell_type": "code",
   "execution_count": 29,
   "metadata": {
    "collapsed": false,
    "deletable": true,
    "editable": true
   },
   "outputs": [
    {
     "ename": "KeyError",
     "evalue": "'Trips'",
     "output_type": "error",
     "traceback": [
      "\u001b[0;31m---------------------------------------------------------------------------\u001b[0m",
      "\u001b[0;31mKeyError\u001b[0m                                  Traceback (most recent call last)",
      "\u001b[0;32mC:\\Users\\ME\\Anaconda3\\lib\\site-packages\\pandas\\indexes\\base.py\u001b[0m in \u001b[0;36mget_loc\u001b[0;34m(self, key, method, tolerance)\u001b[0m\n\u001b[1;32m   1944\u001b[0m             \u001b[1;32mtry\u001b[0m\u001b[1;33m:\u001b[0m\u001b[1;33m\u001b[0m\u001b[0m\n\u001b[0;32m-> 1945\u001b[0;31m                 \u001b[1;32mreturn\u001b[0m \u001b[0mself\u001b[0m\u001b[1;33m.\u001b[0m\u001b[0m_engine\u001b[0m\u001b[1;33m.\u001b[0m\u001b[0mget_loc\u001b[0m\u001b[1;33m(\u001b[0m\u001b[0mkey\u001b[0m\u001b[1;33m)\u001b[0m\u001b[1;33m\u001b[0m\u001b[0m\n\u001b[0m\u001b[1;32m   1946\u001b[0m             \u001b[1;32mexcept\u001b[0m \u001b[0mKeyError\u001b[0m\u001b[1;33m:\u001b[0m\u001b[1;33m\u001b[0m\u001b[0m\n",
      "\u001b[0;32mpandas\\index.pyx\u001b[0m in \u001b[0;36mpandas.index.IndexEngine.get_loc (pandas\\index.c:4154)\u001b[0;34m()\u001b[0m\n",
      "\u001b[0;32mpandas\\index.pyx\u001b[0m in \u001b[0;36mpandas.index.IndexEngine.get_loc (pandas\\index.c:4018)\u001b[0;34m()\u001b[0m\n",
      "\u001b[0;32mpandas\\hashtable.pyx\u001b[0m in \u001b[0;36mpandas.hashtable.PyObjectHashTable.get_item (pandas\\hashtable.c:12368)\u001b[0;34m()\u001b[0m\n",
      "\u001b[0;32mpandas\\hashtable.pyx\u001b[0m in \u001b[0;36mpandas.hashtable.PyObjectHashTable.get_item (pandas\\hashtable.c:12322)\u001b[0;34m()\u001b[0m\n",
      "\u001b[0;31mKeyError\u001b[0m: 'Trips'",
      "\nDuring handling of the above exception, another exception occurred:\n",
      "\u001b[0;31mKeyError\u001b[0m                                  Traceback (most recent call last)",
      "\u001b[0;32m<ipython-input-29-714ff2a437af>\u001b[0m in \u001b[0;36m<module>\u001b[0;34m()\u001b[0m\n\u001b[1;32m      1\u001b[0m \u001b[0mdf\u001b[0m \u001b[1;33m=\u001b[0m \u001b[0mregression\u001b[0m\u001b[1;33m.\u001b[0m\u001b[0mgetDataFrame\u001b[0m\u001b[1;33m(\u001b[0m\u001b[1;33m)\u001b[0m\u001b[1;33m\u001b[0m\u001b[0m\n\u001b[0;32m----> 2\u001b[0;31m \u001b[0mplt\u001b[0m\u001b[1;33m.\u001b[0m\u001b[0mplot\u001b[0m\u001b[1;33m(\u001b[0m\u001b[0mdf\u001b[0m\u001b[1;33m[\u001b[0m\u001b[1;34m\"Trips\"\u001b[0m\u001b[1;33m]\u001b[0m\u001b[1;33m,\u001b[0m \u001b[0mdf\u001b[0m\u001b[1;33m[\u001b[0m\u001b[1;34m\"Autos\"\u001b[0m\u001b[1;33m]\u001b[0m\u001b[1;33m,\u001b[0m \u001b[1;34m'bo'\u001b[0m\u001b[1;33m)\u001b[0m\u001b[1;33m\u001b[0m\u001b[0m\n\u001b[0m\u001b[1;32m      3\u001b[0m \u001b[0mx\u001b[0m \u001b[1;33m=\u001b[0m \u001b[0mdf\u001b[0m\u001b[1;33m[\u001b[0m\u001b[1;34m\"Trips\"\u001b[0m\u001b[1;33m]\u001b[0m\u001b[1;33m\u001b[0m\u001b[0m\n\u001b[1;32m      4\u001b[0m \u001b[0my\u001b[0m \u001b[1;33m=\u001b[0m \u001b[0mdf\u001b[0m\u001b[1;33m[\u001b[0m\u001b[1;34m\"Autos\"\u001b[0m\u001b[1;33m]\u001b[0m\u001b[1;33m\u001b[0m\u001b[0m\n\u001b[1;32m      5\u001b[0m \u001b[0mfit\u001b[0m \u001b[1;33m=\u001b[0m \u001b[0mnp\u001b[0m\u001b[1;33m.\u001b[0m\u001b[0mpolyfit\u001b[0m\u001b[1;33m(\u001b[0m\u001b[0mx\u001b[0m\u001b[1;33m,\u001b[0m \u001b[0my\u001b[0m\u001b[1;33m,\u001b[0m \u001b[0mdeg\u001b[0m\u001b[1;33m=\u001b[0m\u001b[1;36m1\u001b[0m\u001b[1;33m)\u001b[0m\u001b[1;33m\u001b[0m\u001b[0m\n",
      "\u001b[0;32mC:\\Users\\ME\\Anaconda3\\lib\\site-packages\\pandas\\core\\frame.py\u001b[0m in \u001b[0;36m__getitem__\u001b[0;34m(self, key)\u001b[0m\n\u001b[1;32m   1995\u001b[0m             \u001b[1;32mreturn\u001b[0m \u001b[0mself\u001b[0m\u001b[1;33m.\u001b[0m\u001b[0m_getitem_multilevel\u001b[0m\u001b[1;33m(\u001b[0m\u001b[0mkey\u001b[0m\u001b[1;33m)\u001b[0m\u001b[1;33m\u001b[0m\u001b[0m\n\u001b[1;32m   1996\u001b[0m         \u001b[1;32melse\u001b[0m\u001b[1;33m:\u001b[0m\u001b[1;33m\u001b[0m\u001b[0m\n\u001b[0;32m-> 1997\u001b[0;31m             \u001b[1;32mreturn\u001b[0m \u001b[0mself\u001b[0m\u001b[1;33m.\u001b[0m\u001b[0m_getitem_column\u001b[0m\u001b[1;33m(\u001b[0m\u001b[0mkey\u001b[0m\u001b[1;33m)\u001b[0m\u001b[1;33m\u001b[0m\u001b[0m\n\u001b[0m\u001b[1;32m   1998\u001b[0m \u001b[1;33m\u001b[0m\u001b[0m\n\u001b[1;32m   1999\u001b[0m     \u001b[1;32mdef\u001b[0m \u001b[0m_getitem_column\u001b[0m\u001b[1;33m(\u001b[0m\u001b[0mself\u001b[0m\u001b[1;33m,\u001b[0m \u001b[0mkey\u001b[0m\u001b[1;33m)\u001b[0m\u001b[1;33m:\u001b[0m\u001b[1;33m\u001b[0m\u001b[0m\n",
      "\u001b[0;32mC:\\Users\\ME\\Anaconda3\\lib\\site-packages\\pandas\\core\\frame.py\u001b[0m in \u001b[0;36m_getitem_column\u001b[0;34m(self, key)\u001b[0m\n\u001b[1;32m   2002\u001b[0m         \u001b[1;31m# get column\u001b[0m\u001b[1;33m\u001b[0m\u001b[1;33m\u001b[0m\u001b[0m\n\u001b[1;32m   2003\u001b[0m         \u001b[1;32mif\u001b[0m \u001b[0mself\u001b[0m\u001b[1;33m.\u001b[0m\u001b[0mcolumns\u001b[0m\u001b[1;33m.\u001b[0m\u001b[0mis_unique\u001b[0m\u001b[1;33m:\u001b[0m\u001b[1;33m\u001b[0m\u001b[0m\n\u001b[0;32m-> 2004\u001b[0;31m             \u001b[1;32mreturn\u001b[0m \u001b[0mself\u001b[0m\u001b[1;33m.\u001b[0m\u001b[0m_get_item_cache\u001b[0m\u001b[1;33m(\u001b[0m\u001b[0mkey\u001b[0m\u001b[1;33m)\u001b[0m\u001b[1;33m\u001b[0m\u001b[0m\n\u001b[0m\u001b[1;32m   2005\u001b[0m \u001b[1;33m\u001b[0m\u001b[0m\n\u001b[1;32m   2006\u001b[0m         \u001b[1;31m# duplicate columns & possible reduce dimensionality\u001b[0m\u001b[1;33m\u001b[0m\u001b[1;33m\u001b[0m\u001b[0m\n",
      "\u001b[0;32mC:\\Users\\ME\\Anaconda3\\lib\\site-packages\\pandas\\core\\generic.py\u001b[0m in \u001b[0;36m_get_item_cache\u001b[0;34m(self, item)\u001b[0m\n\u001b[1;32m   1348\u001b[0m         \u001b[0mres\u001b[0m \u001b[1;33m=\u001b[0m \u001b[0mcache\u001b[0m\u001b[1;33m.\u001b[0m\u001b[0mget\u001b[0m\u001b[1;33m(\u001b[0m\u001b[0mitem\u001b[0m\u001b[1;33m)\u001b[0m\u001b[1;33m\u001b[0m\u001b[0m\n\u001b[1;32m   1349\u001b[0m         \u001b[1;32mif\u001b[0m \u001b[0mres\u001b[0m \u001b[1;32mis\u001b[0m \u001b[1;32mNone\u001b[0m\u001b[1;33m:\u001b[0m\u001b[1;33m\u001b[0m\u001b[0m\n\u001b[0;32m-> 1350\u001b[0;31m             \u001b[0mvalues\u001b[0m \u001b[1;33m=\u001b[0m \u001b[0mself\u001b[0m\u001b[1;33m.\u001b[0m\u001b[0m_data\u001b[0m\u001b[1;33m.\u001b[0m\u001b[0mget\u001b[0m\u001b[1;33m(\u001b[0m\u001b[0mitem\u001b[0m\u001b[1;33m)\u001b[0m\u001b[1;33m\u001b[0m\u001b[0m\n\u001b[0m\u001b[1;32m   1351\u001b[0m             \u001b[0mres\u001b[0m \u001b[1;33m=\u001b[0m \u001b[0mself\u001b[0m\u001b[1;33m.\u001b[0m\u001b[0m_box_item_values\u001b[0m\u001b[1;33m(\u001b[0m\u001b[0mitem\u001b[0m\u001b[1;33m,\u001b[0m \u001b[0mvalues\u001b[0m\u001b[1;33m)\u001b[0m\u001b[1;33m\u001b[0m\u001b[0m\n\u001b[1;32m   1352\u001b[0m             \u001b[0mcache\u001b[0m\u001b[1;33m[\u001b[0m\u001b[0mitem\u001b[0m\u001b[1;33m]\u001b[0m \u001b[1;33m=\u001b[0m \u001b[0mres\u001b[0m\u001b[1;33m\u001b[0m\u001b[0m\n",
      "\u001b[0;32mC:\\Users\\ME\\Anaconda3\\lib\\site-packages\\pandas\\core\\internals.py\u001b[0m in \u001b[0;36mget\u001b[0;34m(self, item, fastpath)\u001b[0m\n\u001b[1;32m   3288\u001b[0m \u001b[1;33m\u001b[0m\u001b[0m\n\u001b[1;32m   3289\u001b[0m             \u001b[1;32mif\u001b[0m \u001b[1;32mnot\u001b[0m \u001b[0misnull\u001b[0m\u001b[1;33m(\u001b[0m\u001b[0mitem\u001b[0m\u001b[1;33m)\u001b[0m\u001b[1;33m:\u001b[0m\u001b[1;33m\u001b[0m\u001b[0m\n\u001b[0;32m-> 3290\u001b[0;31m                 \u001b[0mloc\u001b[0m \u001b[1;33m=\u001b[0m \u001b[0mself\u001b[0m\u001b[1;33m.\u001b[0m\u001b[0mitems\u001b[0m\u001b[1;33m.\u001b[0m\u001b[0mget_loc\u001b[0m\u001b[1;33m(\u001b[0m\u001b[0mitem\u001b[0m\u001b[1;33m)\u001b[0m\u001b[1;33m\u001b[0m\u001b[0m\n\u001b[0m\u001b[1;32m   3291\u001b[0m             \u001b[1;32melse\u001b[0m\u001b[1;33m:\u001b[0m\u001b[1;33m\u001b[0m\u001b[0m\n\u001b[1;32m   3292\u001b[0m                 \u001b[0mindexer\u001b[0m \u001b[1;33m=\u001b[0m \u001b[0mnp\u001b[0m\u001b[1;33m.\u001b[0m\u001b[0marange\u001b[0m\u001b[1;33m(\u001b[0m\u001b[0mlen\u001b[0m\u001b[1;33m(\u001b[0m\u001b[0mself\u001b[0m\u001b[1;33m.\u001b[0m\u001b[0mitems\u001b[0m\u001b[1;33m)\u001b[0m\u001b[1;33m)\u001b[0m\u001b[1;33m[\u001b[0m\u001b[0misnull\u001b[0m\u001b[1;33m(\u001b[0m\u001b[0mself\u001b[0m\u001b[1;33m.\u001b[0m\u001b[0mitems\u001b[0m\u001b[1;33m)\u001b[0m\u001b[1;33m]\u001b[0m\u001b[1;33m\u001b[0m\u001b[0m\n",
      "\u001b[0;32mC:\\Users\\ME\\Anaconda3\\lib\\site-packages\\pandas\\indexes\\base.py\u001b[0m in \u001b[0;36mget_loc\u001b[0;34m(self, key, method, tolerance)\u001b[0m\n\u001b[1;32m   1945\u001b[0m                 \u001b[1;32mreturn\u001b[0m \u001b[0mself\u001b[0m\u001b[1;33m.\u001b[0m\u001b[0m_engine\u001b[0m\u001b[1;33m.\u001b[0m\u001b[0mget_loc\u001b[0m\u001b[1;33m(\u001b[0m\u001b[0mkey\u001b[0m\u001b[1;33m)\u001b[0m\u001b[1;33m\u001b[0m\u001b[0m\n\u001b[1;32m   1946\u001b[0m             \u001b[1;32mexcept\u001b[0m \u001b[0mKeyError\u001b[0m\u001b[1;33m:\u001b[0m\u001b[1;33m\u001b[0m\u001b[0m\n\u001b[0;32m-> 1947\u001b[0;31m                 \u001b[1;32mreturn\u001b[0m \u001b[0mself\u001b[0m\u001b[1;33m.\u001b[0m\u001b[0m_engine\u001b[0m\u001b[1;33m.\u001b[0m\u001b[0mget_loc\u001b[0m\u001b[1;33m(\u001b[0m\u001b[0mself\u001b[0m\u001b[1;33m.\u001b[0m\u001b[0m_maybe_cast_indexer\u001b[0m\u001b[1;33m(\u001b[0m\u001b[0mkey\u001b[0m\u001b[1;33m)\u001b[0m\u001b[1;33m)\u001b[0m\u001b[1;33m\u001b[0m\u001b[0m\n\u001b[0m\u001b[1;32m   1948\u001b[0m \u001b[1;33m\u001b[0m\u001b[0m\n\u001b[1;32m   1949\u001b[0m         \u001b[0mindexer\u001b[0m \u001b[1;33m=\u001b[0m \u001b[0mself\u001b[0m\u001b[1;33m.\u001b[0m\u001b[0mget_indexer\u001b[0m\u001b[1;33m(\u001b[0m\u001b[1;33m[\u001b[0m\u001b[0mkey\u001b[0m\u001b[1;33m]\u001b[0m\u001b[1;33m,\u001b[0m \u001b[0mmethod\u001b[0m\u001b[1;33m=\u001b[0m\u001b[0mmethod\u001b[0m\u001b[1;33m,\u001b[0m \u001b[0mtolerance\u001b[0m\u001b[1;33m=\u001b[0m\u001b[0mtolerance\u001b[0m\u001b[1;33m)\u001b[0m\u001b[1;33m\u001b[0m\u001b[0m\n",
      "\u001b[0;32mpandas\\index.pyx\u001b[0m in \u001b[0;36mpandas.index.IndexEngine.get_loc (pandas\\index.c:4154)\u001b[0;34m()\u001b[0m\n",
      "\u001b[0;32mpandas\\index.pyx\u001b[0m in \u001b[0;36mpandas.index.IndexEngine.get_loc (pandas\\index.c:4018)\u001b[0;34m()\u001b[0m\n",
      "\u001b[0;32mpandas\\hashtable.pyx\u001b[0m in \u001b[0;36mpandas.hashtable.PyObjectHashTable.get_item (pandas\\hashtable.c:12368)\u001b[0;34m()\u001b[0m\n",
      "\u001b[0;32mpandas\\hashtable.pyx\u001b[0m in \u001b[0;36mpandas.hashtable.PyObjectHashTable.get_item (pandas\\hashtable.c:12322)\u001b[0;34m()\u001b[0m\n",
      "\u001b[0;31mKeyError\u001b[0m: 'Trips'"
     ]
    }
   ],
   "source": [
    "df = regression.getDataFrame()\n",
    "plt.plot(df[\"Trips\"], df[\"Autos\"], 'bo')\n",
    "x = df[\"Trips\"]\n",
    "y = df[\"Autos\"]\n",
    "fit = np.polyfit(x, y, deg=1)\n",
    "plt.plot(x, fit[0] * x + fit[1], color='red')\n",
    "plt.xlabel('Trips')\n",
    "plt.ylabel('Establishments')\n",
    "plt.title('Observed Data (TRIPS x AUTOS)')\n",
    "plt.grid(True)\n",
    "# plt.axis([0, 220, 0, 120])\n",
    "plt.show()"
   ]
  },
  {
   "cell_type": "markdown",
   "metadata": {
    "deletable": true,
    "editable": true
   },
   "source": [
    "# Generate table that contains the aggregated information per zone, given the TAZ input file and the Households input file (income, houses, # amenities of each kind)\n",
    "\n",
    "#### Create TripGenTableModel:\n",
    "wherein its attributes are the columns in the table example (Out 348, remove trips column, shape coordinate, landuse).\n",
    "\n",
    "#### Get number of TAZs\n",
    "#### Get number of landuse per TAZ\n",
    "#### Create [ ][ ] of TripGenTableModel\n",
    "\n",
    "#### SAMPLE CODE\n",
    "TripGenTableModel tgtm = [# of TAZs][ ]\n",
    "for n in range(0,len(TAZ)):\n",
    "    LUShapes lus = getImpactingShapes(TAZ[n]) #Returns the whole shape coors of impacting landuses together with its category\n",
    "    for x in range(0, len(lus)):\n",
    "        tgtm[n][x] = new TripGenTableModel()\n",
    "        tgtm[n][x].setShapeCoordinate(TAZ[n], lus[x]) #sets a coor shape for the overlapping of the TAZ shape and landuse shape\n",
    "        \n",
    "for cbms_file in cmbs_files:\n",
    "    for row in cbms_file:\n",
    "        lat, long = getCoor(row)\n",
    "        add_info_to_respective_TGTM(lat, long, row) #adds the info of the HH to the correct zone and landuse\n",
    "        \n",
    "        \n",
    "        \n",
    "        \n",
    "\n"
   ]
  },
  {
   "cell_type": "markdown",
   "metadata": {
    "deletable": true,
    "editable": true
   },
   "source": [
    "\n",
    "\n",
    "    "
   ]
  },
  {
   "cell_type": "markdown",
   "metadata": {
    "deletable": true,
    "editable": true
   },
   "source": [
    "# Detemine landuse of each zone using the land use file"
   ]
  },
  {
   "cell_type": "markdown",
   "metadata": {
    "deletable": true,
    "editable": true
   },
   "source": [
    "# Get the corresponding trip productions and attractions per zone given the parameters"
   ]
  },
  {
   "cell_type": "code",
   "execution_count": null,
   "metadata": {
    "collapsed": true,
    "deletable": true,
    "editable": true
   },
   "outputs": [],
   "source": []
  },
  {
   "cell_type": "markdown",
   "metadata": {
    "deletable": true,
    "editable": true
   },
   "source": [
    "# MODEL FITTING"
   ]
  },
  {
   "cell_type": "markdown",
   "metadata": {
    "deletable": true,
    "editable": true
   },
   "source": [
    "### Retreival of intercepts and coefficients\n",
    "**Features for Trip production**: # of HH, # of HH members, # of employed, # of enrolled, Income, Landuse and Amenity Data\n",
    "\n",
    "**Features for Trip attraction**: # of Establishments, # of working in area, # of enrolled in area, Landuse and Amenity Data"
   ]
  },
  {
   "cell_type": "code",
   "execution_count": 39,
   "metadata": {
    "collapsed": false,
    "deletable": true,
    "editable": true
   },
   "outputs": [
    {
     "name": "stdout",
     "output_type": "stream",
     "text": [
      "R^2 score: 0.987350266174\n",
      "R^2 score: 0.996911644387\n",
      "Prod Intercept:344.745174492 Coef:[ 85.04687743   3.36621094 -26.75217765]\n",
      "Attr Intercept:4805.98183877 Coef:[  -49.6028897     -4.83505864  -154.53369632   312.99534481    19.79017006\n",
      "  -980.65529731  1164.01053445    58.86796291    13.15743504    81.67469428\n",
      "   -14.09065401    10.80746015     6.22225556 -3549.39096573     0.        ]\n"
     ]
    },
    {
     "data": {
      "text/html": [
       "<div>\n",
       "<table border=\"1\" class=\"dataframe\">\n",
       "  <thead>\n",
       "    <tr style=\"text-align: right;\">\n",
       "      <th></th>\n",
       "      <th>no_hh</th>\n",
       "      <th>avg_income</th>\n",
       "      <th>mem_no</th>\n",
       "      <th>no_mem_educwork</th>\n",
       "      <th>trips</th>\n",
       "    </tr>\n",
       "  </thead>\n",
       "  <tbody>\n",
       "    <tr>\n",
       "      <th>1</th>\n",
       "      <td>3779</td>\n",
       "      <td>18736.43821</td>\n",
       "      <td>12747</td>\n",
       "      <td>11894</td>\n",
       "      <td>37428</td>\n",
       "    </tr>\n",
       "    <tr>\n",
       "      <th>2</th>\n",
       "      <td>1349</td>\n",
       "      <td>18754.63306</td>\n",
       "      <td>4509</td>\n",
       "      <td>4238</td>\n",
       "      <td>14213</td>\n",
       "    </tr>\n",
       "    <tr>\n",
       "      <th>3</th>\n",
       "      <td>1060</td>\n",
       "      <td>28070.75472</td>\n",
       "      <td>3624</td>\n",
       "      <td>3321</td>\n",
       "      <td>13730</td>\n",
       "    </tr>\n",
       "    <tr>\n",
       "      <th>4</th>\n",
       "      <td>767</td>\n",
       "      <td>18507.17080</td>\n",
       "      <td>2598</td>\n",
       "      <td>2402</td>\n",
       "      <td>8437</td>\n",
       "    </tr>\n",
       "    <tr>\n",
       "      <th>5</th>\n",
       "      <td>862</td>\n",
       "      <td>21937.35499</td>\n",
       "      <td>2913</td>\n",
       "      <td>2720</td>\n",
       "      <td>11306</td>\n",
       "    </tr>\n",
       "  </tbody>\n",
       "</table>\n",
       "</div>"
      ],
      "text/plain": [
       "   no_hh   avg_income  mem_no  no_mem_educwork  trips\n",
       "1   3779  18736.43821   12747            11894  37428\n",
       "2   1349  18754.63306    4509             4238  14213\n",
       "3   1060  28070.75472    3624             3321  13730\n",
       "4    767  18507.17080    2598             2402   8437\n",
       "5    862  21937.35499    2913             2720  11306"
      ]
     },
     "execution_count": 39,
     "metadata": {},
     "output_type": "execute_result"
    }
   ],
   "source": [
    "dep_col_name = \"trips\"\n",
    "data_filepath = \"DummyDataRegression.csv\"\n",
    "regression = Regression(data_filepath)\n",
    "\n",
    "data_filepath2 = \"DummyDataRegressionAmenitiex.csv\"\n",
    "regression2 = Regression(data_filepath2)\n",
    "\n",
    "selected_feature_names = [\"no_hh\",\"avg_income\",\"mem_no\"]\n",
    "selected_feature_names_attraction = [\"sust_amt\",\"educ_amt\",\"tran_amt\",\"heal_amt\",\"fina_amt\",\"comm_amt\", \"ente_amt\",\"othe_amt\",\n",
    "                        \"comm_area\", \"park_area\",\"indu_area\",\"agri_area\",\"resi_area\",\"util_area\",\"othe_area\"]\n",
    "fitted_production_model = regression.getFittedRegressionModel(selected_feature_names, dep_col_name)\n",
    "fitted_production_model_attr = regression2.getFittedRegressionModel(selected_feature_names_attraction, dep_col_name)\n",
    "\n",
    "print(\"Prod Intercept:\"+str(fitted_production_model.intercept_)+\" Coef:\"+str(fitted_production_model.coef_))\n",
    "print(\"Attr Intercept:\"+str(fitted_production_model_attr.intercept_)+\" Coef:\"+str(fitted_production_model_attr.coef_))\n",
    "\n",
    "dummy_data = pd.read_csv('DummyDataRegressionHHTripsOnly.csv', index_col=0)\n",
    "dummy_data.head()"
   ]
  },
  {
   "cell_type": "code",
   "execution_count": 31,
   "metadata": {
    "collapsed": false,
    "deletable": true,
    "editable": true
   },
   "outputs": [
    {
     "name": "stdout",
     "output_type": "stream",
     "text": [
      "['no_hh', 'avg_income', 'mem_no', 'no_mem_educwork']\n",
      "Test row: 0\n",
      "Trained using index 0: RMS = 1642.8611353042031\n",
      "Test row: 1\n",
      "Trained using index 1: RMS = 1623.0075678854153\n",
      "Test row: 2\n",
      "Trained using index 2: RMS = 1613.9679788752348\n",
      "Test row: 3\n",
      "Trained using index 3: RMS = 1626.248724401083\n",
      "Test row: 4\n",
      "Trained using index 4: RMS = 1598.2276558902588\n",
      "Test row: 5\n",
      "Trained using index 5: RMS = 5983.535008027696\n",
      "Test row: 6\n",
      "Trained using index 6: RMS = 1604.1427427182311\n",
      "Test row: 7\n",
      "Trained using index 7: RMS = 1601.8320898685502\n",
      "Test row: 8\n",
      "Trained using index 8: RMS = 1641.223576273628\n",
      "Test row: 9\n",
      "Trained using index 9: RMS = 1614.0143609756592\n",
      "Test row: 10\n",
      "Trained using index 10: RMS = 1651.3620291500129\n",
      "Test row: 11\n",
      "Trained using index 11: RMS = 1615.7890835165513\n",
      "Test row: 12\n",
      "Trained using index 12: RMS = 1597.9605414533635\n",
      "Test row: 13\n",
      "Trained using index 13: RMS = 2396.378970999385\n",
      "Test row: 14\n",
      "Trained using index 14: RMS = 1598.4290560976747\n",
      "Test row: 15\n",
      "Trained using index 15: RMS = 1605.772559273726\n",
      "Test row: 16\n",
      "Trained using index 16: RMS = 1606.6848114811119\n"
     ]
    }
   ],
   "source": [
    "print(selected_feature_names)\n",
    "X_vals = regression.getXVals(selected_feature_names)\n",
    "Y_vals = regression.getYVals(dep_col_name)\n",
    "\n",
    "for x in range(len(X_vals.index)):\n",
    "    Predicted_vals = []\n",
    "    print(\"Test row: \"+str(x))\n",
    "    fitted_production_model2 = regression.kFoldTest(selected_feature_names, dep_col_name, x);\n",
    "    #testdframe.head()\n",
    "    #fitted_production_model2.predict(X_vals.iloc[x , :].values.reshape(1,-1))\n",
    "    for z in range(len(X_vals.index)):\n",
    "        #print(\"Actual Zone \"+str(z)+\": \"+str(Y_vals.iloc[z]))\n",
    "        #print(\"Predicted Zone \"+str(z)+\": \"+str(fitted_production_model2.predict(X_vals.iloc[z , :].values.reshape(1,-1))[0]))\n",
    "        Predicted_vals.append(fitted_production_model2.predict(X_vals.iloc[z , :].values.reshape(1,-1))[0])\n",
    "    rms = sqrt(mean_squared_error(Y_vals.values, Predicted_vals))\n",
    "    print(\"Trained using index \"+str(x)+\": RMS = \"+str(rms))"
   ]
  },
  {
   "cell_type": "code",
   "execution_count": 32,
   "metadata": {
    "collapsed": false,
    "deletable": true,
    "editable": true
   },
   "outputs": [
    {
     "data": {
      "text/plain": [
       "1606.6848114811119"
      ]
     },
     "execution_count": 32,
     "metadata": {},
     "output_type": "execute_result"
    }
   ],
   "source": [
    "rms = sqrt(mean_squared_error(Y_vals.values, Predicted_vals))\n",
    "rms"
   ]
  },
  {
   "cell_type": "code",
   "execution_count": 120,
   "metadata": {
    "collapsed": false,
    "deletable": true,
    "editable": true
   },
   "outputs": [
    {
     "name": "stdout",
     "output_type": "stream",
     "text": [
      "R^2 score: 0.832616068926\n",
      "R^2 score: 0.996911644387\n",
      "Prod Intercept:645.860276196 Coef:[ 2.81864012]\n",
      "Attr Intercept:4805.98183877 Coef:[  -49.6028897     -4.83505864  -154.53369632   312.99534481    19.79017006\n",
      "  -980.65529731  1164.01053445    58.86796291    13.15743504    81.67469428\n",
      "   -14.09065401    10.80746015     6.22225556 -3549.39096573     0.        ]\n"
     ]
    },
    {
     "data": {
      "text/html": [
       "<div>\n",
       "<table border=\"1\" class=\"dataframe\">\n",
       "  <thead>\n",
       "    <tr style=\"text-align: right;\">\n",
       "      <th></th>\n",
       "      <th>no_hh</th>\n",
       "      <th>avg_income</th>\n",
       "      <th>mem_no</th>\n",
       "      <th>no_mem_educwork</th>\n",
       "      <th>comm_area</th>\n",
       "      <th>park_area</th>\n",
       "      <th>indu_area</th>\n",
       "      <th>agri_area</th>\n",
       "      <th>resi_area</th>\n",
       "      <th>util_area</th>\n",
       "      <th>othe_area</th>\n",
       "      <th>trips</th>\n",
       "    </tr>\n",
       "  </thead>\n",
       "  <tbody>\n",
       "    <tr>\n",
       "      <th>1</th>\n",
       "      <td>3779</td>\n",
       "      <td>17110</td>\n",
       "      <td>12747</td>\n",
       "      <td>11894</td>\n",
       "      <td>63.27</td>\n",
       "      <td>267.37</td>\n",
       "      <td>41.97</td>\n",
       "      <td>3.23</td>\n",
       "      <td>628.96</td>\n",
       "      <td>0.00</td>\n",
       "      <td>0</td>\n",
       "      <td>37428</td>\n",
       "    </tr>\n",
       "    <tr>\n",
       "      <th>2</th>\n",
       "      <td>1349</td>\n",
       "      <td>6272</td>\n",
       "      <td>4509</td>\n",
       "      <td>4238</td>\n",
       "      <td>63.89</td>\n",
       "      <td>23.96</td>\n",
       "      <td>100.79</td>\n",
       "      <td>13.46</td>\n",
       "      <td>880.06</td>\n",
       "      <td>3.99</td>\n",
       "      <td>0</td>\n",
       "      <td>14213</td>\n",
       "    </tr>\n",
       "    <tr>\n",
       "      <th>3</th>\n",
       "      <td>1060</td>\n",
       "      <td>5670</td>\n",
       "      <td>3624</td>\n",
       "      <td>3321</td>\n",
       "      <td>363.71</td>\n",
       "      <td>17.29</td>\n",
       "      <td>67.77</td>\n",
       "      <td>3.86</td>\n",
       "      <td>1171.00</td>\n",
       "      <td>0.00</td>\n",
       "      <td>0</td>\n",
       "      <td>13093</td>\n",
       "    </tr>\n",
       "    <tr>\n",
       "      <th>4</th>\n",
       "      <td>767</td>\n",
       "      <td>3390</td>\n",
       "      <td>2598</td>\n",
       "      <td>2402</td>\n",
       "      <td>9.29</td>\n",
       "      <td>1.26</td>\n",
       "      <td>26.27</td>\n",
       "      <td>101.10</td>\n",
       "      <td>55.95</td>\n",
       "      <td>0.00</td>\n",
       "      <td>0</td>\n",
       "      <td>8437</td>\n",
       "    </tr>\n",
       "    <tr>\n",
       "      <th>5</th>\n",
       "      <td>862</td>\n",
       "      <td>4271</td>\n",
       "      <td>2913</td>\n",
       "      <td>2720</td>\n",
       "      <td>50.37</td>\n",
       "      <td>0.00</td>\n",
       "      <td>26.36</td>\n",
       "      <td>1.25</td>\n",
       "      <td>114.65</td>\n",
       "      <td>0.00</td>\n",
       "      <td>0</td>\n",
       "      <td>9969</td>\n",
       "    </tr>\n",
       "  </tbody>\n",
       "</table>\n",
       "</div>"
      ],
      "text/plain": [
       "   no_hh  avg_income  mem_no  no_mem_educwork  comm_area  park_area  \\\n",
       "1   3779       17110   12747            11894      63.27     267.37   \n",
       "2   1349        6272    4509             4238      63.89      23.96   \n",
       "3   1060        5670    3624             3321     363.71      17.29   \n",
       "4    767        3390    2598             2402       9.29       1.26   \n",
       "5    862        4271    2913             2720      50.37       0.00   \n",
       "\n",
       "   indu_area  agri_area  resi_area  util_area  othe_area  trips  \n",
       "1      41.97       3.23     628.96       0.00          0  37428  \n",
       "2     100.79      13.46     880.06       3.99          0  14213  \n",
       "3      67.77       3.86    1171.00       0.00          0  13093  \n",
       "4      26.27     101.10      55.95       0.00          0   8437  \n",
       "5      26.36       1.25     114.65       0.00          0   9969  "
      ]
     },
     "execution_count": 120,
     "metadata": {},
     "output_type": "execute_result"
    }
   ],
   "source": [
    "dep_col_name = \"trips\"\n",
    "data_filepath = \"DummyDataRegression.csv\"\n",
    "regression = Regression(data_filepath)\n",
    "\n",
    "data_filepath2 = \"DummyDataRegressionAmenitiex.csv\"\n",
    "regression2 = Regression(data_filepath2)\n",
    "\n",
    "selected_feature_names = [\"mem_no\"]\n",
    "selected_feature_names_attraction = [\"sust_amt\",\"educ_amt\",\"tran_amt\",\"heal_amt\",\"fina_amt\",\"comm_amt\", \"ente_amt\",\"othe_amt\",\n",
    "                        \"comm_area\", \"park_area\",\"indu_area\",\"agri_area\",\"resi_area\",\"util_area\",\"othe_area\"]\n",
    "fitted_production_model = regression.getFittedRegressionModel(selected_feature_names, dep_col_name)\n",
    "fitted_production_model_attr = regression2.getFittedRegressionModel(selected_feature_names_attraction, dep_col_name)\n",
    "\n",
    "print(\"Prod Intercept:\"+str(fitted_production_model.intercept_)+\" Coef:\"+str(fitted_production_model.coef_))\n",
    "print(\"Attr Intercept:\"+str(fitted_production_model_attr.intercept_)+\" Coef:\"+str(fitted_production_model_attr.coef_))\n",
    "\n",
    "dummy_data = pd.read_csv('DummyDataRegression.csv', index_col=0)\n",
    "dummy_data.head()"
   ]
  },
  {
   "cell_type": "code",
   "execution_count": 24,
   "metadata": {
    "collapsed": false,
    "deletable": true,
    "editable": true
   },
   "outputs": [
    {
     "name": "stdout",
     "output_type": "stream",
     "text": [
      "['no_hh', 'avg_income', 'mem_no', 'no_mem_educwork', 'comm_area', 'park_area', 'indu_area', 'agri_area', 'resi_area', 'util_area', 'othe_area']\n",
      "Test row: 0\n",
      "Trained using index 0: RMS = 1513.8400745835781\n",
      "Test row: 1\n",
      "Trained using index 1: RMS = 1750.189584314592\n",
      "Test row: 2\n",
      "Trained using index 2: RMS = 1156.465665211328\n",
      "Test row: 3\n",
      "Trained using index 3: RMS = 1206.031396848907\n",
      "Test row: 4\n",
      "Trained using index 4: RMS = 1161.20530774799\n",
      "Test row: 5\n",
      "Trained using index 5: RMS = 6472.118807400362\n",
      "Test row: 6\n",
      "Trained using index 6: RMS = 1260.61796218028\n",
      "Test row: 7\n",
      "Trained using index 7: RMS = 1173.0711517046389\n",
      "Test row: 8\n",
      "Trained using index 8: RMS = 1736.3256089725148\n",
      "Test row: 9\n",
      "Trained using index 9: RMS = 1258.9239107597048\n",
      "Test row: 10\n",
      "Trained using index 10: RMS = 1349.430196341538\n",
      "Test row: 11\n",
      "Trained using index 11: RMS = 1313.8326517895605\n",
      "Test row: 12\n",
      "Trained using index 12: RMS = 1179.1122567101238\n",
      "Test row: 13\n",
      "Trained using index 13: RMS = 11791.146640090681\n",
      "Test row: 14\n",
      "Trained using index 14: RMS = 1257.436687958817\n",
      "Test row: 15\n",
      "Trained using index 15: RMS = 1224.2060915352558\n",
      "Test row: 16\n",
      "Trained using index 16: RMS = 1186.091440791168\n"
     ]
    }
   ],
   "source": [
    "print(selected_feature_names)\n",
    "X_vals = regression.getXVals(selected_feature_names)\n",
    "Y_vals = regression.getYVals(dep_col_name)\n",
    "\n",
    "for x in range(len(X_vals.index)):\n",
    "    Predicted_vals = []\n",
    "    print(\"Test row: \"+str(x))\n",
    "    fitted_production_model2 = regression.kFoldTest(selected_feature_names, dep_col_name, x);\n",
    "    #testdframe.head()\n",
    "    #fitted_production_model2.predict(X_vals.iloc[x , :].values.reshape(1,-1))\n",
    "    for z in range(len(X_vals.index)):\n",
    "        #print(\"Actual Zone \"+str(z)+\": \"+str(Y_vals.iloc[z]))\n",
    "        #print(\"Predicted Zone \"+str(z)+\": \"+str(fitted_production_model2.predict(X_vals.iloc[z , :].values.reshape(1,-1))[0]))\n",
    "        Predicted_vals.append(fitted_production_model2.predict(X_vals.iloc[z , :].values.reshape(1,-1))[0])\n",
    "    rms = sqrt(mean_squared_error(Y_vals.values, Predicted_vals))\n",
    "    print(\"Trained using index \"+str(x)+\": RMS = \"+str(rms))"
   ]
  },
  {
   "cell_type": "code",
   "execution_count": 25,
   "metadata": {
    "collapsed": false,
    "deletable": true,
    "editable": true
   },
   "outputs": [
    {
     "name": "stdout",
     "output_type": "stream",
     "text": [
      "['no_hh', 'avg_income', 'mem_no', 'no_mem_educwork', 'comm_area', 'park_area', 'indu_area', 'agri_area', 'resi_area', 'util_area', 'othe_area']\n",
      "Test row: 0\n",
      "Actual Zone 0: 37428\n",
      "Predicted Zone 0: 41583.8900525\n",
      "Test row: 1\n",
      "Actual Zone 1: 14213\n",
      "Predicted Zone 1: 20711.7925161\n",
      "Test row: 2\n",
      "Actual Zone 2: 13093\n",
      "Predicted Zone 2: 12798.5943355\n",
      "Test row: 3\n",
      "Actual Zone 3: 8437\n",
      "Predicted Zone 3: 6403.17213939\n",
      "Test row: 4\n",
      "Actual Zone 4: 9969\n",
      "Predicted Zone 4: 9057.55220162\n",
      "Test row: 5\n",
      "Actual Zone 5: 6779\n",
      "Predicted Zone 5: 33417.09022\n",
      "Test row: 6\n",
      "Actual Zone 6: 10373\n",
      "Predicted Zone 6: 7287.32105234\n",
      "Test row: 7\n",
      "Actual Zone 7: 13713\n",
      "Predicted Zone 7: 14781.5778026\n",
      "Test row: 8\n",
      "Actual Zone 8: 6084\n",
      "Predicted Zone 8: 12138.1679747\n",
      "Test row: 9\n",
      "Actual Zone 9: 17149\n",
      "Predicted Zone 9: 19700.7350103\n",
      "Test row: 10\n",
      "Actual Zone 10: 13107\n",
      "Predicted Zone 10: 17188.0208826\n",
      "Test row: 11\n",
      "Actual Zone 11: 19694\n",
      "Predicted Zone 11: 16024.5765148\n",
      "Test row: 12\n",
      "Actual Zone 12: 1542\n",
      "Predicted Zone 12: 2929.74082313\n",
      "Test row: 13\n",
      "Actual Zone 13: 69952\n",
      "Predicted Zone 13: 21390.4140234\n",
      "Test row: 14\n",
      "Actual Zone 14: 2850\n",
      "Predicted Zone 14: 112.941859864\n",
      "Test row: 15\n",
      "Actual Zone 15: 15994\n",
      "Predicted Zone 15: 14154.8845349\n",
      "Test row: 16\n",
      "Actual Zone 16: 15132\n",
      "Predicted Zone 16: 13261.0284461\n"
     ]
    }
   ],
   "source": [
    "print(selected_feature_names)\n",
    "X_vals = regression.getXVals(selected_feature_names)\n",
    "Y_vals = regression.getYVals(dep_col_name)\n",
    "Predicted_vals = []\n",
    "for x in range(len(X_vals.index)):\n",
    "    \n",
    "    print(\"Test row: \"+str(x))\n",
    "    fitted_production_model2 = regression.kFoldTest(selected_feature_names, dep_col_name, x);\n",
    "    #testdframe.head()\n",
    "    #fitted_production_model2.predict(X_vals.iloc[x , :].values.reshape(1,-1))\n",
    "    #fitted\n",
    "    print(\"Actual Zone \"+str(x)+\": \"+str(Y_vals.iloc[x]))\n",
    "    print(\"Predicted Zone \"+str(x)+\": \"+str(fitted_production_model2.predict(X_vals.iloc[x , :].values.reshape(1,-1))[0]))\n",
    "    Predicted_vals.append(fitted_production_model2.predict(X_vals.iloc[x , :].values.reshape(1,-1))[0])"
   ]
  },
  {
   "cell_type": "code",
   "execution_count": 26,
   "metadata": {
    "collapsed": false,
    "deletable": true,
    "editable": true
   },
   "outputs": [
    {
     "data": {
      "text/plain": [
       "13789.642839207072"
      ]
     },
     "execution_count": 26,
     "metadata": {},
     "output_type": "execute_result"
    }
   ],
   "source": [
    "rms = sqrt(mean_squared_error(Y_vals.values, Predicted_vals))\n",
    "rms"
   ]
  },
  {
   "cell_type": "code",
   "execution_count": 27,
   "metadata": {
    "collapsed": false,
    "deletable": true,
    "editable": true
   },
   "outputs": [
    {
     "ename": "TypeError",
     "evalue": "'LinearRegression' object is not iterable",
     "output_type": "error",
     "traceback": [
      "\u001b[1;31m---------------------------------------------------------------------------\u001b[0m",
      "\u001b[1;31mTypeError\u001b[0m                                 Traceback (most recent call last)",
      "\u001b[1;32m<ipython-input-27-e81d65be4e2d>\u001b[0m in \u001b[0;36m<module>\u001b[1;34m()\u001b[0m\n\u001b[1;32m----> 1\u001b[1;33m \u001b[0mfitted_production_model2\u001b[0m\u001b[1;33m,\u001b[0m \u001b[0mtestdframe\u001b[0m \u001b[1;33m=\u001b[0m \u001b[0mregression\u001b[0m\u001b[1;33m.\u001b[0m\u001b[0mkFoldTest\u001b[0m\u001b[1;33m(\u001b[0m\u001b[0mselected_feature_names\u001b[0m\u001b[1;33m,\u001b[0m \u001b[0mdep_col_name\u001b[0m\u001b[1;33m,\u001b[0m \u001b[1;36m1\u001b[0m\u001b[1;33m)\u001b[0m\u001b[1;33m\u001b[0m\u001b[0m\n\u001b[0m\u001b[0;32m      2\u001b[0m \u001b[0mX_vals\u001b[0m \u001b[1;33m=\u001b[0m \u001b[0mregression\u001b[0m\u001b[1;33m.\u001b[0m\u001b[0mgetXVals\u001b[0m\u001b[1;33m(\u001b[0m\u001b[0mselected_feature_names\u001b[0m\u001b[1;33m)\u001b[0m\u001b[1;33m\u001b[0m\u001b[0m\n\u001b[0;32m      3\u001b[0m \u001b[0mtestdframe\u001b[0m\u001b[1;33m.\u001b[0m\u001b[0mhead\u001b[0m\u001b[1;33m(\u001b[0m\u001b[1;33m)\u001b[0m\u001b[1;33m\u001b[0m\u001b[0m\n\u001b[0;32m      4\u001b[0m \u001b[0mfitted_production_model2\u001b[0m\u001b[1;33m.\u001b[0m\u001b[0mpredict\u001b[0m\u001b[1;33m(\u001b[0m\u001b[0mX_vals\u001b[0m\u001b[1;33m.\u001b[0m\u001b[0mloc\u001b[0m\u001b[1;33m[\u001b[0m\u001b[1;36m1\u001b[0m \u001b[1;33m,\u001b[0m \u001b[1;33m:\u001b[0m\u001b[1;33m]\u001b[0m\u001b[1;33m)\u001b[0m\u001b[1;33m\u001b[0m\u001b[0m\n",
      "\u001b[1;31mTypeError\u001b[0m: 'LinearRegression' object is not iterable"
     ]
    }
   ],
   "source": [
    "fitted_production_model2, testdframe = regression.kFoldTest(selected_feature_names, dep_col_name, 1)\n",
    "X_vals = regression.getXVals(selected_feature_names)\n",
    "testdframe.head()\n",
    "fitted_production_model2.predict(X_vals.loc[1 , :])"
   ]
  },
  {
   "cell_type": "markdown",
   "metadata": {
    "deletable": true,
    "editable": true
   },
   "source": [
    "### Prediction of Trip Production & Attraction using the intercepts and coefficients"
   ]
  },
  {
   "cell_type": "code",
   "execution_count": null,
   "metadata": {
    "collapsed": false,
    "deletable": true,
    "editable": true
   },
   "outputs": [],
   "source": [
    "trip_gen = TripGeneration(\"DummyDataRegressionFused.csv\", \"trips\")\n",
    "prod_col_names = selected_feature_names\n",
    "attr_col_names = selected_feature_names_attraction\n",
    "trip_gen.setProductionParameters(prod_col_names, fitted_production_model.intercept_, fitted_production_model.coef_)\n",
    "trip_gen.setAttractionParameters(attr_col_names, fitted_production_model_attr.intercept_, fitted_production_model_attr.coef_)\n",
    "print(\"Example:\")\n",
    "print(\"Overall Trip Production: \"+str(trip_gen.getWholeTripProductionScore()))\n",
    "print(\"Overall Trip Attraction: \"+str(trip_gen.getWholeTripAttractionScore()))"
   ]
  },
  {
   "cell_type": "markdown",
   "metadata": {
    "collapsed": true,
    "deletable": true,
    "editable": true
   },
   "source": [
    "### Computing for Trip Balancing Factor"
   ]
  },
  {
   "cell_type": "code",
   "execution_count": null,
   "metadata": {
    "collapsed": false,
    "deletable": true,
    "editable": true
   },
   "outputs": [],
   "source": [
    "trip_gen.doTripBalancing()\n",
    "print(\"Balancing Factor: \"+str(trip_gen.getBalancingFactor()))\n"
   ]
  },
  {
   "cell_type": "markdown",
   "metadata": {
    "deletable": true,
    "editable": true
   },
   "source": [
    "### Zonal-level Trip Production & Attraction Scores"
   ]
  },
  {
   "cell_type": "code",
   "execution_count": null,
   "metadata": {
    "collapsed": false,
    "deletable": true,
    "editable": true
   },
   "outputs": [],
   "source": [
    "zonal_df, productions, attractions = trip_gen.printAllZonalTripsProductionAttraction()\n",
    "display(zonal_df)"
   ]
  },
  {
   "cell_type": "markdown",
   "metadata": {
    "deletable": true,
    "editable": true
   },
   "source": [
    "# Model Validation"
   ]
  },
  {
   "cell_type": "code",
   "execution_count": null,
   "metadata": {
    "collapsed": false,
    "deletable": true,
    "editable": true
   },
   "outputs": [],
   "source": [
    "from sklearn.model_selection import train_test_split\n",
    "from sklearn import datasets\n",
    "from sklearn import svm\n",
    "\n",
    "fitted_production_model = regression.getFittedRegressionModel(selected_feature_names, dep_col_name)\n",
    "X_digits = regression.getSubTable(selected_feature_names)\n",
    "Y_digits = regression.getSubTable(dep_col_name)\n",
    "scores = cross_validation.cross_val_score(fitted_production_model, X_digits, Y_digits, scoring='r2', cv=10,)\n",
    "#X_digits.shape, Y_digits.shape\n",
    "scores"
   ]
  },
  {
   "cell_type": "markdown",
   "metadata": {
    "collapsed": true,
    "deletable": true,
    "editable": true
   },
   "source": [
    "# MODEL OUTPUT"
   ]
  },
  {
   "cell_type": "markdown",
   "metadata": {
    "collapsed": true,
    "deletable": true,
    "editable": true
   },
   "source": [
    "# Trip Distribution Class"
   ]
  },
  {
   "cell_type": "code",
   "execution_count": null,
   "metadata": {
    "collapsed": true,
    "deletable": true,
    "editable": true
   },
   "outputs": [],
   "source": [
    "class TripDistribution:\n",
    "\n",
    "    def __init__(self, productions, attractions):\n",
    "        self.productions = productions\n",
    "        self.attractions = attractions\n",
    "        self.row = len(productions)\n",
    "        self.col = len(attractions)\n",
    "        self.possibleError = 3\n",
    "        self.error = 0\n",
    "\n",
    "    def getGeneralizedCost(self, cost):\n",
    "        return 1.0 / (cost * cost)\n",
    "\n",
    "    def getTripDistribution(self):\n",
    "        distributions = [[self.attractions[y] for x in range(self.row)] for y in range(self.col)]\n",
    "        costMatrix = [[1 for x in range(self.row)] for y in range(self.col)]\n",
    "        #costMatrix = [[1.0, 1.2, 1.8], [1.2, 1.0, 1.5], [1.8, 1.5, 1.0]]\n",
    "        A = [1 for x in range(self.row)]\n",
    "        B = [1 for x in range(self.col)]\n",
    "\n",
    "        currentBalancingFactor = 0  # 0 for A, 1 for B\n",
    "        isConvergent = False\n",
    "\n",
    "        while isConvergent == False:\n",
    "            if currentBalancingFactor == 0:\n",
    "                A = self.computeA(B, costMatrix)\n",
    "                currentBalancingFactor = 1\n",
    "            elif currentBalancingFactor == 1:\n",
    "                B = self.computeB(A, costMatrix)\n",
    "                currentBalancingFactor = 0\n",
    "            distributions = self.computeDistributions(A, B, costMatrix)\n",
    "            isConvergent = self.checkIfConvergent(distributions)\n",
    "        return distributions\n",
    "\n",
    "    def computeDistributions(self, A, B, costMatrix):\n",
    "        distributions = [[self.attractions[y] for x in range(self.row)] for y in range(self.col)]\n",
    "        for x in range(self.row):\n",
    "            for y in range(self.col):\n",
    "                distributions[x][y] = A[x] * self.productions[x] * B[y] * self.attractions[y] * self.getGeneralizedCost(costMatrix[x][y])\n",
    "        return distributions\n",
    "\n",
    "    def checkIfConvergent(self, distributions):\n",
    "        error = self.getError(distributions)\n",
    "        if error <= self.possibleError:\n",
    "            self.error = error\n",
    "            return True\n",
    "        return False\n",
    "\n",
    "    def getError(self, distributions):\n",
    "        error = 0\n",
    "        derivedProductions = [0 for x in range(self.row)]\n",
    "        derivedAttractions = [0 for x in range(self.col)]\n",
    "\n",
    "        for x in range(self.row):\n",
    "            for y in range(self.col):\n",
    "                derivedProductions[x] += distributions[x][y]\n",
    "                derivedAttractions[y] += distributions[x][y]\n",
    "\n",
    "        for x in range(self.row):\n",
    "            error += abs(derivedProductions[x] - self.productions[x])\n",
    "            error += abs(derivedAttractions[y] - self.attractions[y])\n",
    "\n",
    "        return error\n",
    "\n",
    "    def computeA(self, B, costMatrix):\n",
    "        A = [1 for x in range(self.row)]\n",
    "        for x in range(0, self.row):\n",
    "            sum = 0.0\n",
    "            for y in range(0, self.col):\n",
    "                sum += B[y] * self.attractions[y] * self.getGeneralizedCost(costMatrix[x][y])\n",
    "            A[x] = 1.0 / sum\n",
    "        return A\n",
    "\n",
    "    def computeB(self, A, costMatrix):\n",
    "        B = [1 for x in range(self.col)]\n",
    "        for x in range(0, self.row):\n",
    "            sum = 0.0\n",
    "            for y in range(0, self.col):\n",
    "                sum += A[y] * self.productions[y] * self.getGeneralizedCost(costMatrix[x][y])\n",
    "            B[x] = 1.0 / sum\n",
    "        return B"
   ]
  },
  {
   "cell_type": "markdown",
   "metadata": {
    "deletable": true,
    "editable": true
   },
   "source": [
    "# Data"
   ]
  },
  {
   "cell_type": "markdown",
   "metadata": {
    "deletable": true,
    "editable": true
   },
   "source": [
    "## The result from trip generation (trip production and attraction) will be passed to trip distribution"
   ]
  },
  {
   "cell_type": "code",
   "execution_count": null,
   "metadata": {
    "collapsed": false,
    "deletable": true,
    "editable": true
   },
   "outputs": [],
   "source": [
    "td = TripDistribution(productions, attractions)\n",
    "\n",
    "#pandas_distrib = pd.DataFrame(td, columns=('1','2'))\n",
    "\n",
    "#print(\"Productions: \" + str(productions))\n",
    "#print(\"Attractions: \" + str(attractions))"
   ]
  },
  {
   "cell_type": "code",
   "execution_count": null,
   "metadata": {
    "collapsed": false,
    "deletable": true,
    "editable": true
   },
   "outputs": [],
   "source": [
    "distribution = td.getTripDistribution()\n",
    "\n",
    "pandas_distrib = pd.DataFrame(distribution, columns=range(0,len(productions)))\n",
    "\n",
    "# pandas_distrib.head()\n",
    "display(HTML(\n",
    "    '<table><tr>{}</tr></table>'.format(\n",
    "        '</tr><tr>'.join(\n",
    "            '<td>{}</td>'.format('</td><td>'.join(str(_) for _ in row)) for row in distribution)\n",
    "        )\n",
    "))"
   ]
  },
  {
   "cell_type": "markdown",
   "metadata": {
    "deletable": true,
    "editable": true
   },
   "source": [
    "# Error"
   ]
  },
  {
   "cell_type": "code",
   "execution_count": null,
   "metadata": {
    "collapsed": false,
    "deletable": true,
    "editable": true
   },
   "outputs": [],
   "source": [
    "print(\"Error: \" + str(td.error))"
   ]
  },
  {
   "cell_type": "markdown",
   "metadata": {
    "deletable": true,
    "editable": true
   },
   "source": [
    "# Modal Split Class"
   ]
  },
  {
   "cell_type": "code",
   "execution_count": null,
   "metadata": {
    "collapsed": false,
    "deletable": true,
    "editable": true
   },
   "outputs": [],
   "source": [
    "import random\n",
    "class ModalSplit:\n",
    "\n",
    "    def __init__(self, od_matrix, pathToData):\n",
    "        self.od_matrix = od_matrix\n",
    "        self.pathToData = pathToData\n",
    "        self.travel_costs = []\n",
    "        self.travel_probabilities = []\n",
    "        self.modes = ['jeep','bus','train']\n",
    "        \n",
    "    def computeGeneralizedCosts(self, zone_number):\n",
    "        #data = pd.read_csv(self.pathToData, index_col=0)\n",
    "        self.travel_costs = [None] * len(self.modes)\n",
    "        for x in range(0, len(self.modes)):\n",
    "            self.travel_costs[x] = random.randrange(1,4)\n",
    "            \n",
    "        #Compute for generalized cost for each mode for this specific zone\n",
    "        # populate self.travel_costs with the travel costs\n",
    "        self.computeModalProbabilities()\n",
    "        \n",
    "    def computeModalProbabilities(self):\n",
    "        self.travel_probabilities = [None] * len(self.modes)\n",
    "        sum = 0\n",
    "        #print(len(self.travel_costs))\n",
    "        for x in range(0,3):\n",
    "            sum += exp(-self.travel_costs[x])\n",
    "        for x in range(0,3):\n",
    "            self.travel_probabilities[x] = exp(-self.travel_costs[x])/sum\n",
    "        #print(self.travel_costs)\n",
    "        #print(self.travel_probabilities)\n",
    "    \n",
    "    def getPartitionedTripsByMode(self, total_trips):\n",
    "        return total_trips*self.travel_probabilities[0], self.travel_probabilities[1], self.travel_probabilities[2]\n",
    "    \n",
    "    def process_od_matrix(self):\n",
    "        #print(\"size:\"+str(len(self.od_matrix))+\",\"+str(len(self.od_matrix[0])))\n",
    "        #df = DataFrame(columns=('lib', 'qty1', 'qty2'))\n",
    "        #for i in range(5):\n",
    "            #df.loc[i] = [randint(-1,1) for n in range(3)]\n",
    "        cols = list(range(len(self.od_matrix[0])))\n",
    "        df_list = []\n",
    "        for x in range(0, len(self.modes)):\n",
    "            df = pd.DataFrame(columns=cols) \n",
    "            df_list.append(df)\n",
    "            \n",
    "        for y in range(0, len(self.od_matrix)):\n",
    "            self.computeGeneralizedCosts(y)\n",
    "            for z in range(0, len(self.modes)):\n",
    "                od_row = []\n",
    "                for x in range(0, len(self.od_matrix[0])):\n",
    "                    #print(\"x:\"+str(x)+\" y:\"+str(y)+\" z:\"+str(z))\n",
    "                    od_row.append(round(self.od_matrix[x][y]*self.travel_probabilities[z],2))\n",
    "                df_list[z].loc[y] = od_row\n",
    "                \n",
    "        return df_list\n",
    "                "
   ]
  },
  {
   "cell_type": "code",
   "execution_count": null,
   "metadata": {
    "collapsed": false,
    "deletable": true,
    "editable": true
   },
   "outputs": [],
   "source": [
    "modal_split = ModalSplit(distribution,\"datapath\")\n",
    "list_of_dataframes_by_mode = modal_split.process_od_matrix()"
   ]
  },
  {
   "cell_type": "markdown",
   "metadata": {
    "deletable": true,
    "editable": true
   },
   "source": [
    "## Mode 1"
   ]
  },
  {
   "cell_type": "code",
   "execution_count": null,
   "metadata": {
    "collapsed": false,
    "deletable": true,
    "editable": true
   },
   "outputs": [],
   "source": [
    "display(list_of_dataframes_by_mode[0])"
   ]
  },
  {
   "cell_type": "markdown",
   "metadata": {
    "deletable": true,
    "editable": true
   },
   "source": [
    "## Mode 2"
   ]
  },
  {
   "cell_type": "code",
   "execution_count": null,
   "metadata": {
    "collapsed": false,
    "deletable": true,
    "editable": true
   },
   "outputs": [],
   "source": [
    "display(list_of_dataframes_by_mode[1])"
   ]
  },
  {
   "cell_type": "markdown",
   "metadata": {
    "deletable": true,
    "editable": true
   },
   "source": [
    "## Mode 3"
   ]
  },
  {
   "cell_type": "code",
   "execution_count": 71,
   "metadata": {
    "collapsed": false,
    "deletable": true,
    "editable": true
   },
   "outputs": [
    {
     "ename": "NameError",
     "evalue": "name 'list_of_dataframes_by_mode' is not defined",
     "output_type": "error",
     "traceback": [
      "\u001b[1;31m---------------------------------------------------------------------------\u001b[0m",
      "\u001b[1;31mNameError\u001b[0m                                 Traceback (most recent call last)",
      "\u001b[1;32m<ipython-input-71-0c5297863bcc>\u001b[0m in \u001b[0;36m<module>\u001b[1;34m()\u001b[0m\n\u001b[1;32m----> 1\u001b[1;33m \u001b[0mdisplay\u001b[0m\u001b[1;33m(\u001b[0m\u001b[0mlist_of_dataframes_by_mode\u001b[0m\u001b[1;33m[\u001b[0m\u001b[1;36m2\u001b[0m\u001b[1;33m]\u001b[0m\u001b[1;33m)\u001b[0m\u001b[1;33m\u001b[0m\u001b[0m\n\u001b[0m",
      "\u001b[1;31mNameError\u001b[0m: name 'list_of_dataframes_by_mode' is not defined"
     ]
    }
   ],
   "source": [
    "display(list_of_dataframes_by_mode[2])"
   ]
  },
  {
   "cell_type": "code",
   "execution_count": 143,
   "metadata": {
    "collapsed": true,
    "deletable": true,
    "editable": true
   },
   "outputs": [],
   "source": [
    "selected_feature_names = [\"no_hh\",\"avg_income\",\"mem_no\",\"no_mem_educwork\",\n",
    "                        \"comm_area\", \"park_area\",\"indu_area\",\"agri_area\",\"resi_area\",\"util_area\",\"othe_area\"]\n",
    "dep_col_name = \"trips\"\n",
    "data_filepath = \"DummyDataRegression_revised_2.csv\"\n",
    "array = pd.read_csv(data_filepath, index_col=0)\n",
    "X = array.loc[:, selected_feature_names]\n",
    "Y = array.loc[:, dep_col_name]\n",
    "\n",
    "\n",
    "selected_feature_names2 = [\"sust_amt\",\"educ_amt\",\"tran_amt\",\"heal_amt\",\"fina_amt\",\"comm_amt\", \"ente_amt\",\"othe_amt\",\n",
    "                        \"comm_area\", \"park_area\",\"indu_area\",\"agri_area\",\"resi_area\",\"util_area\",\"othe_area\"]\n",
    "dep_col_name2 = \"trips\"\n",
    "data_filepath2 = \"DummyDataRegressionAmenitiex_revised_2.csv\"\n",
    "array2 = pd.read_csv(data_filepath2, index_col=0)\n",
    "X2 = array2.loc[:, selected_feature_names2]\n",
    "Y2 = array2.loc[:, dep_col_name2]"
   ]
  },
  {
   "cell_type": "code",
   "execution_count": 117,
   "metadata": {
    "collapsed": false,
    "deletable": true,
    "editable": true
   },
   "outputs": [
    {
     "name": "stdout",
     "output_type": "stream",
     "text": [
      "coef_: [    0.             0.           885.76908737    60.29160405     0.             0.\n",
      "     0.             6.9591418   1876.26286501   844.92558909     0.\n",
      "    56.14005775     0.             0.        ]\n",
      "intercept_: 3201.21229873\n"
     ]
    }
   ],
   "source": [
    "from sklearn.linear_model import Lasso\n",
    "lin = Lasso(alpha=0.0001,precompute=True,max_iter=10000000,\n",
    "            positive=True, random_state=9999, selection='random')\n",
    "model = lin.fit(X2,Y2)\n",
    "print(\"coef_: \"+str(model.coef_))\n",
    "print(\"intercept_: \"+str(model.intercept_))"
   ]
  },
  {
   "cell_type": "code",
   "execution_count": null,
   "metadata": {
    "collapsed": true,
    "deletable": true,
    "editable": true
   },
   "outputs": [],
   "source": []
  },
  {
   "cell_type": "markdown",
   "metadata": {
    "collapsed": true,
    "deletable": true,
    "editable": true
   },
   "source": [
    "## FOR TRIP GENERATION EXPERIMENTS\n",
    "Use this section to test trip tripgeneration"
   ]
  },
  {
   "cell_type": "code",
   "execution_count": 309,
   "metadata": {
    "collapsed": false,
    "deletable": true,
    "editable": true
   },
   "outputs": [
    {
     "name": "stdout",
     "output_type": "stream",
     "text": [
      "R^2 score: 0.989666973118\n",
      "R^2 score: 0.996974590791\n"
     ]
    }
   ],
   "source": [
    "selected_feature_names = [\"no_hh\",\"mem_no\",\"no_mem_educwork\",\n",
    "                        \"comm_area\", \"park_area\",\"indu_area\",\"agri_area\",\"resi_area\",\"util_area\",\"othe_area\"]\n",
    "dep_col_name = \"trips\"\n",
    "data_filepath = \"DummyDataRegression_revised_2.csv\"\n",
    "array = pd.read_csv(data_filepath, index_col=0)\n",
    "X = array.loc[:, selected_feature_names]\n",
    "Y = array.loc[:, dep_col_name]\n",
    "\n",
    "\n",
    "selected_feature_names2 = [\"sust_amt\",\"educ_amt\",\"tran_amt\",\"heal_amt\",\"fina_amt\",\"comm_amt\", \"ente_amt\",\"othe_amt\",\n",
    "                        \"comm_area\", \"park_area\",\"indu_area\",\"agri_area\",\"resi_area\",\"util_area\",\"othe_area\"]\n",
    "dep_col_name2 = \"trips\"\n",
    "data_filepath2 = \"DummyDataRegressionAmenitiex_revised_2.csv\"\n",
    "array2 = pd.read_csv(data_filepath2, index_col=0)\n",
    "X2 = array2.loc[:, selected_feature_names2]\n",
    "Y2 = array2.loc[:, dep_col_name2]\n",
    "\n",
    "fitted_production_model = regression.getFittedRegressionModel(selected_feature_names, dep_col_name)\n",
    "fitted_production_model_attr = regression2.getFittedRegressionModel(selected_feature_names2, dep_col_name2)\n",
    "\n",
    "#print(\"Prod Intercept:\"+str(fitted_production_model.intercept_)+\" Coef:\"+str(fitted_production_model.coef_))\n",
    "#print(\"Attr Intercept:\"+str(fitted_production_model_attr.intercept_)+\" Coef:\"+str(fitted_production_model_attr.coef_))\n",
    "#print(fitted_production_model.coef_)\n"
   ]
  },
  {
   "cell_type": "code",
   "execution_count": 310,
   "metadata": {
    "collapsed": false,
    "deletable": true,
    "editable": true
   },
   "outputs": [
    {
     "name": "stdout",
     "output_type": "stream",
     "text": [
      "The relative change of the cost function is less than `tol`.\n",
      "Number of iterations 17, initial cost 2.8981e+12, final cost 8.3290e+07, first-order optimality 3.67e-05.\n",
      "[  3.29147761e+00   2.08982787e-20   5.28792145e-22   5.61467426e-19\n",
      "   6.00000000e+02   4.40542048e-20   1.94194107e-14   1.55278782e+02\n",
      "   4.20451846e-21   1.00000000e-01]\n"
     ]
    }
   ],
   "source": [
    "from scipy.sparse import rand\n",
    "from scipy.optimize import lsq_linear\n",
    "import sys\n",
    "\n",
    "A = np.array(X.values)\n",
    "b = np.array(Y.values)\n",
    "res = lsq_linear(A, b, bounds=(0, 600), lsmr_tol='auto', verbose=1)\n",
    "print(res['x'])\n",
    "#[ 85.04687743   3.36621094 -26.75217765]"
   ]
  },
  {
   "cell_type": "code",
   "execution_count": 311,
   "metadata": {
    "collapsed": false,
    "deletable": true,
    "editable": true,
    "scrolled": true
   },
   "outputs": [
    {
     "name": "stdout",
     "output_type": "stream",
     "text": [
      "The relative change of the cost function is less than `tol`.\n",
      "Number of iterations 12, initial cost 1.8900e+08, final cost 6.0515e+07, first-order optimality 1.68e-07.\n",
      "[  2.54890477e-15   1.10000000e+03   1.30374385e+02   1.75348756e+02\n",
      "   7.35037140e-15   1.36839648e-19   2.27627021e-14   1.10000000e+03\n",
      "   3.99399310e+02   1.10000000e+03   1.10000000e+03   3.42146846e+02\n",
      "   1.55961256e+02   3.70819319e-17   1.00000000e-01]\n"
     ]
    }
   ],
   "source": [
    "from scipy.sparse import rand\n",
    "from scipy.optimize import lsq_linear\n",
    "import sys\n",
    "\n",
    "A = np.array(X2.values)\n",
    "b = np.array(Y2.values)\n",
    "res2 = lsq_linear(A, b, bounds=(0, 1100), lsmr_tol='auto', verbose=1)\n",
    "print(res2['x'])\n",
    "#[ 85.04687743   3.36621094 -26.75217765]"
   ]
  },
  {
   "cell_type": "markdown",
   "metadata": {
    "deletable": true,
    "editable": true
   },
   "source": [
    "## Trip Production Experiment:\n",
    "Change the values after \"fitted_production_model.predict([\""
   ]
  },
  {
   "cell_type": "code",
   "execution_count": 90,
   "metadata": {
    "collapsed": false,
    "deletable": true,
    "editable": true
   },
   "outputs": [
    {
     "name": "stderr",
     "output_type": "stream",
     "text": [
      "C:\\Users\\xtiangabe\\Anaconda3\\lib\\site-packages\\sklearn\\utils\\validation.py:395: DeprecationWarning: Passing 1d arrays as data is deprecated in 0.17 and will raise ValueError in 0.19. Reshape your data either using X.reshape(-1, 1) if your data has a single feature or X.reshape(1, -1) if it contains a single sample.\n",
      "  DeprecationWarning)\n"
     ]
    },
    {
     "data": {
      "text/plain": [
       "223676.3835724805"
      ]
     },
     "execution_count": 90,
     "metadata": {},
     "output_type": "execute_result"
    }
   ],
   "source": [
    "#x4 x1.16\n",
    "#3.37 0.74\n",
    "#fitted_production_model.predict([73444,252283.04,294170,189034,3.74E-05,3.06E-05,9.67E-05,0,0.000137578,0,0])[0]\n",
    "#36088\n",
    "#print(fitted_production_model.intercept_)\n",
    "#fitted_production_model.coef_= res['x']\n",
    "fitted_production_model.coef_ = res['x']\n",
    "fitted_production_model.intercept_ = 0\n",
    "#print(fitted_production_model.coef_)\n",
    "fitted_production_model.predict([ \n",
    " \n",
    " \n",
    "73444,\n",
    "21023.5866,\n",
    "294170,\n",
    "189034,\n",
    "    3.74E-05,\n",
    "    3.06E-05,9.67E-05,0,0.000137578,0,0\n",
    "\n",
    "\n",
    "\n",
    "\n",
    "])[0]"
   ]
  },
  {
   "cell_type": "markdown",
   "metadata": {
    "deletable": true,
    "editable": true
   },
   "source": [
    "## Trip Attraction Experiment:\n",
    "Change the values after \"fitted_production_model_attr.predict([\""
   ]
  },
  {
   "cell_type": "code",
   "execution_count": null,
   "metadata": {
    "collapsed": false,
    "deletable": true,
    "editable": true
   },
   "outputs": [],
   "source": [
    "#x4 x1.16\n",
    "#3.37 0.74\n",
    "#fitted_production_model.predict([73444,252283.04,294170,189034,3.74E-05,3.06E-05,9.67E-05,0,0.000137578,0,0])[0]\n",
    "#36088\n",
    "fitted_production_model_attr.coef_ = res2['x']\n",
    "#print(res2['x'])\n",
    "fitted_production_model_attr.intercept_ = 0\n",
    "fitted_production_model_attr.predict([ \n",
    "214,41,43,65,104,1,7,68,76.58437814,28.72281707,120.8066626,16.13752741,1054.76527,4.793359305,0\n",
    "\n",
    "\n",
    "\n",
    "\n",
    "\n",
    "])[0]"
   ]
  },
  {
   "cell_type": "code",
   "execution_count": null,
   "metadata": {
    "collapsed": true,
    "deletable": true,
    "editable": true
   },
   "outputs": [],
   "source": []
  },
  {
   "cell_type": "markdown",
   "metadata": {
    "collapsed": false,
    "deletable": true,
    "editable": true
   },
   "source": [
    "## Additional regression info:"
   ]
  },
  {
   "cell_type": "code",
   "execution_count": 287,
   "metadata": {
    "collapsed": false,
    "deletable": true,
    "editable": true
   },
   "outputs": [
    {
     "name": "stderr",
     "output_type": "stream",
     "text": [
      "C:\\Users\\xtiangabe\\Anaconda3\\lib\\site-packages\\scipy\\stats\\stats.py:1327: UserWarning: kurtosistest only valid for n>=20 ... continuing anyway, n=17\n",
      "  \"anyway, n=%i\" % int(n))\n",
      "C:\\Users\\xtiangabe\\Anaconda3\\lib\\site-packages\\statsmodels\\regression\\linear_model.py:1471: RuntimeWarning: divide by zero encountered in double_scalars\n",
      "  return np.sqrt(eigvals[0]/eigvals[-1])\n",
      "C:\\Users\\xtiangabe\\Anaconda3\\lib\\site-packages\\statsmodels\\base\\model.py:1036: RuntimeWarning: invalid value encountered in true_divide\n",
      "  return self.params / self.bse\n",
      "C:\\Users\\xtiangabe\\Anaconda3\\lib\\site-packages\\scipy\\stats\\_distn_infrastructure.py:875: RuntimeWarning: invalid value encountered in greater\n",
      "  return (self.a < x) & (x < self.b)\n",
      "C:\\Users\\xtiangabe\\Anaconda3\\lib\\site-packages\\scipy\\stats\\_distn_infrastructure.py:875: RuntimeWarning: invalid value encountered in less\n",
      "  return (self.a < x) & (x < self.b)\n",
      "C:\\Users\\xtiangabe\\Anaconda3\\lib\\site-packages\\scipy\\stats\\_distn_infrastructure.py:1814: RuntimeWarning: invalid value encountered in less_equal\n",
      "  cond2 = cond0 & (x <= self.a)\n"
     ]
    },
    {
     "data": {
      "text/html": [
       "<table class=\"simpletable\">\n",
       "<caption>OLS Regression Results</caption>\n",
       "<tr>\n",
       "  <th>Dep. Variable:</th>          <td>trips</td>      <th>  R-squared:         </th> <td>   0.995</td>\n",
       "</tr>\n",
       "<tr>\n",
       "  <th>Model:</th>                   <td>OLS</td>       <th>  Adj. R-squared:    </th> <td>   0.989</td>\n",
       "</tr>\n",
       "<tr>\n",
       "  <th>Method:</th>             <td>Least Squares</td>  <th>  F-statistic:       </th> <td>   174.5</td>\n",
       "</tr>\n",
       "<tr>\n",
       "  <th>Date:</th>             <td>Sat, 08 Jul 2017</td> <th>  Prob (F-statistic):</th> <td>3.27e-08</td>\n",
       "</tr>\n",
       "<tr>\n",
       "  <th>Time:</th>                 <td>02:30:43</td>     <th>  Log-Likelihood:    </th> <td> -137.55</td>\n",
       "</tr>\n",
       "<tr>\n",
       "  <th>No. Observations:</th>      <td>    17</td>      <th>  AIC:               </th> <td>   293.1</td>\n",
       "</tr>\n",
       "<tr>\n",
       "  <th>Df Residuals:</th>          <td>     8</td>      <th>  BIC:               </th> <td>   300.6</td>\n",
       "</tr>\n",
       "<tr>\n",
       "  <th>Df Model:</th>              <td>     9</td>      <th>                     </th>     <td> </td>   \n",
       "</tr>\n",
       "<tr>\n",
       "  <th>Covariance Type:</th>      <td>nonrobust</td>    <th>                     </th>     <td> </td>   \n",
       "</tr>\n",
       "</table>\n",
       "<table class=\"simpletable\">\n",
       "<tr>\n",
       "         <td></td>            <th>coef</th>     <th>std err</th>      <th>t</th>      <th>P>|t|</th>  <th>[0.025</th>    <th>0.975]</th>  \n",
       "</tr>\n",
       "<tr>\n",
       "  <th>no_hh</th>           <td>   24.7675</td> <td>   19.037</td> <td>    1.301</td> <td> 0.229</td> <td>  -19.132</td> <td>   68.667</td>\n",
       "</tr>\n",
       "<tr>\n",
       "  <th>mem_no</th>          <td>  -38.8308</td> <td>   11.335</td> <td>   -3.426</td> <td> 0.009</td> <td>  -64.970</td> <td>  -12.692</td>\n",
       "</tr>\n",
       "<tr>\n",
       "  <th>no_mem_educwork</th> <td>   35.6160</td> <td>   17.694</td> <td>    2.013</td> <td> 0.079</td> <td>   -5.187</td> <td>   76.419</td>\n",
       "</tr>\n",
       "<tr>\n",
       "  <th>comm_area</th>       <td>  915.1899</td> <td>  537.080</td> <td>    1.704</td> <td> 0.127</td> <td> -323.320</td> <td> 2153.700</td>\n",
       "</tr>\n",
       "<tr>\n",
       "  <th>park_area</th>       <td> -340.1403</td> <td>  464.075</td> <td>   -0.733</td> <td> 0.485</td> <td>-1410.299</td> <td>  730.019</td>\n",
       "</tr>\n",
       "<tr>\n",
       "  <th>indu_area</th>       <td> -529.1575</td> <td>  344.893</td> <td>   -1.534</td> <td> 0.164</td> <td>-1324.482</td> <td>  266.167</td>\n",
       "</tr>\n",
       "<tr>\n",
       "  <th>agri_area</th>       <td>  342.7467</td> <td>  458.536</td> <td>    0.747</td> <td> 0.476</td> <td> -714.640</td> <td> 1400.134</td>\n",
       "</tr>\n",
       "<tr>\n",
       "  <th>resi_area</th>       <td>  -95.4159</td> <td>  101.792</td> <td>   -0.937</td> <td> 0.376</td> <td> -330.148</td> <td>  139.317</td>\n",
       "</tr>\n",
       "<tr>\n",
       "  <th>util_area</th>       <td>-2000.1525</td> <td> 2.01e+04</td> <td>   -0.100</td> <td> 0.923</td> <td>-4.83e+04</td> <td> 4.43e+04</td>\n",
       "</tr>\n",
       "<tr>\n",
       "  <th>othe_area</th>       <td>         0</td> <td>        0</td> <td>      nan</td> <td>   nan</td> <td>        0</td> <td>        0</td>\n",
       "</tr>\n",
       "</table>\n",
       "<table class=\"simpletable\">\n",
       "<tr>\n",
       "  <th>Omnibus:</th>       <td> 3.728</td> <th>  Durbin-Watson:     </th> <td>   2.208</td>\n",
       "</tr>\n",
       "<tr>\n",
       "  <th>Prob(Omnibus):</th> <td> 0.155</td> <th>  Jarque-Bera (JB):  </th> <td>   2.379</td>\n",
       "</tr>\n",
       "<tr>\n",
       "  <th>Skew:</th>          <td> 0.916</td> <th>  Prob(JB):          </th> <td>   0.304</td>\n",
       "</tr>\n",
       "<tr>\n",
       "  <th>Kurtosis:</th>      <td> 2.981</td> <th>  Cond. No.          </th> <td>     inf</td>\n",
       "</tr>\n",
       "</table>"
      ],
      "text/plain": [
       "<class 'statsmodels.iolib.summary.Summary'>\n",
       "\"\"\"\n",
       "                            OLS Regression Results                            \n",
       "==============================================================================\n",
       "Dep. Variable:                  trips   R-squared:                       0.995\n",
       "Model:                            OLS   Adj. R-squared:                  0.989\n",
       "Method:                 Least Squares   F-statistic:                     174.5\n",
       "Date:                Sat, 08 Jul 2017   Prob (F-statistic):           3.27e-08\n",
       "Time:                        02:30:43   Log-Likelihood:                -137.55\n",
       "No. Observations:                  17   AIC:                             293.1\n",
       "Df Residuals:                       8   BIC:                             300.6\n",
       "Df Model:                           9                                         \n",
       "Covariance Type:            nonrobust                                         \n",
       "===================================================================================\n",
       "                      coef    std err          t      P>|t|      [0.025      0.975]\n",
       "-----------------------------------------------------------------------------------\n",
       "no_hh              24.7675     19.037      1.301      0.229     -19.132      68.667\n",
       "mem_no            -38.8308     11.335     -3.426      0.009     -64.970     -12.692\n",
       "no_mem_educwork    35.6160     17.694      2.013      0.079      -5.187      76.419\n",
       "comm_area         915.1899    537.080      1.704      0.127    -323.320    2153.700\n",
       "park_area        -340.1403    464.075     -0.733      0.485   -1410.299     730.019\n",
       "indu_area        -529.1575    344.893     -1.534      0.164   -1324.482     266.167\n",
       "agri_area         342.7467    458.536      0.747      0.476    -714.640    1400.134\n",
       "resi_area         -95.4159    101.792     -0.937      0.376    -330.148     139.317\n",
       "util_area       -2000.1525   2.01e+04     -0.100      0.923   -4.83e+04    4.43e+04\n",
       "othe_area                0          0        nan        nan           0           0\n",
       "==============================================================================\n",
       "Omnibus:                        3.728   Durbin-Watson:                   2.208\n",
       "Prob(Omnibus):                  0.155   Jarque-Bera (JB):                2.379\n",
       "Skew:                           0.916   Prob(JB):                        0.304\n",
       "Kurtosis:                       2.981   Cond. No.                          inf\n",
       "==============================================================================\n",
       "\n",
       "Warnings:\n",
       "[1] Standard Errors assume that the covariance matrix of the errors is correctly specified.\n",
       "[2] The smallest eigenvalue is      0. This might indicate that there are\n",
       "strong multicollinearity problems or that the design matrix is singular.\n",
       "\"\"\""
      ]
     },
     "execution_count": 287,
     "metadata": {},
     "output_type": "execute_result"
    }
   ],
   "source": [
    "dep_col_name = \"trips\"\n",
    "data_filepath = \"DummyDataRegression_revised_2.csv\"\n",
    "regression = Regression(data_filepath)\n",
    "\n",
    "data_filepath2 = \"DummyDataRegressionAmenitiex_revised_2.csv\"\n",
    "regression2 = Regression(data_filepath2)\n",
    "\n",
    "selected_feature_names = [\"no_hh\",\"mem_no\",\"no_mem_educwork\", \"comm_area\", \"park_area\",\"indu_area\",\"agri_area\",\"resi_area\",\"util_area\",\"othe_area\"]\n",
    "selected_feature_names_attraction = [\"sust_amt\",\"educ_amt\",\"tran_amt\",\"heal_amt\",\"fina_amt\",\"comm_amt\", \"ente_amt\",\"othe_amt\",\n",
    "                        \"comm_area\", \"park_area\",\"indu_area\",\"agri_area\",\"resi_area\",\"util_area\",\"othe_area\"]\n",
    "result = regression.statsmodelsRegressionSummary(selected_feature_names, dep_col_name)\n",
    "\n",
    "result.summary()"
   ]
  },
  {
   "cell_type": "markdown",
   "metadata": {
    "deletable": true,
    "editable": true
   },
   "source": [
    "## K-fold validation (6-fold) and measuring by % RMSE values"
   ]
  },
  {
   "cell_type": "code",
   "execution_count": 288,
   "metadata": {
    "collapsed": false,
    "deletable": true,
    "editable": true,
    "scrolled": true
   },
   "outputs": [
    {
     "name": "stdout",
     "output_type": "stream",
     "text": [
      "['no_hh', 'mem_no', 'no_mem_educwork', 'comm_area', 'park_area', 'indu_area', 'agri_area', 'resi_area', 'util_area', 'othe_area']\n",
      "The relative change of the cost function is less than `tol`.\n",
      "Number of iterations 18, initial cost 2.4089e+12, final cost 5.7725e+07, first-order optimality 2.01e-05.\n",
      "pred: 11016.4241154\n",
      "Trained using slice 0: RawRMSE=9846.57588458824 %RMSE=47.1963566342\n",
      "The relative change of the cost function is less than `tol`.\n",
      "Number of iterations 17, initial cost 3.9599e+12, final cost 8.2602e+07, first-order optimality 1.48e-02.\n",
      "pred: 6174.20376365\n",
      "Trained using slice 1: RawRMSE=1214.7962363466759 %RMSE=16.4406040918\n",
      "The relative change of the cost function is less than `tol`.\n",
      "Number of iterations 21, initial cost 2.8270e+12, final cost 8.3251e+07, first-order optimality 1.56e-05.\n",
      "pred: 5749.11566601\n",
      "Trained using slice 2: RawRMSE=300.8843339865325 %RMSE=4.97329477664\n",
      "The relative change of the cost function is less than `tol`.\n",
      "Number of iterations 18, initial cost 3.2973e+12, final cost 8.1875e+07, first-order optimality 1.21e-08.\n",
      "pred: 2607.7997498\n",
      "Trained using slice 3: RawRMSE=1697.2002501969782 %RMSE=39.4239314796\n",
      "The relative change of the cost function is less than `tol`.\n",
      "Number of iterations 18, initial cost 3.0396e+12, final cost 8.1474e+07, first-order optimality 3.00e-05.\n",
      "pred: 3013.31384347\n",
      "Trained using slice 4: RawRMSE=1925.6861565330523 %RMSE=38.9893937342\n",
      "The relative change of the cost function is less than `tol`.\n",
      "Number of iterations 14, initial cost 8.7261e+09, final cost 8.3137e+05, first-order optimality 7.75e-05.\n",
      "pred: 16806.6241209\n",
      "Trained using slice 5: RawRMSE=16723.62412089079 %RMSE=20148.944724\n",
      "The relative change of the cost function is less than `tol`.\n",
      "Number of iterations 18, initial cost 3.3042e+12, final cost 8.3286e+07, first-order optimality 3.24e-08.\n",
      "pred: 5081.34446302\n",
      "Trained using slice 6: RawRMSE=89.65553698320309 %RMSE=1.73381429091\n",
      "The relative change of the cost function is less than `tol`.\n",
      "Number of iterations 17, initial cost 1.7532e+12, final cost 8.3069e+07, first-order optimality 2.42e-08.\n",
      "pred: 7085.00780255\n",
      "Trained using slice 7: RawRMSE=762.0078025483917 %RMSE=12.0513648988\n",
      "The relative change of the cost function is less than `tol`.\n",
      "Number of iterations 19, initial cost 3.8047e+12, final cost 8.2466e+07, first-order optimality 5.56e-06.\n",
      "pred: 2167.77189921\n",
      "Trained using slice 8: RawRMSE=1287.228100787821 %RMSE=37.2569638434\n",
      "The relative change of the cost function is less than `tol`.\n",
      "Number of iterations 17, initial cost 3.9906e+12, final cost 8.3271e+07, first-order optimality 3.33e-06.\n",
      "pred: 8084.88129662\n",
      "Trained using slice 9: RawRMSE=213.11870337692744 %RMSE=2.56831409227\n",
      "The relative change of the cost function is less than `tol`.\n",
      "Number of iterations 19, initial cost 2.4656e+12, final cost 8.2453e+07, first-order optimality 2.45e-05.\n",
      "pred: 5353.35595385\n",
      "Trained using slice 10: RawRMSE=1324.6440461471939 %RMSE=19.8359395949\n",
      "The relative change of the cost function is less than `tol`.\n",
      "Number of iterations 17, initial cost 2.4550e+12, final cost 7.9476e+07, first-order optimality 1.89e-05.\n",
      "pred: 6872.35372728\n",
      "Trained using slice 11: RawRMSE=2833.646272723343 %RMSE=29.1947895397\n",
      "The relative change of the cost function is less than `tol`.\n",
      "Number of iterations 17, initial cost 3.1022e+12, final cost 8.3252e+07, first-order optimality 1.33e-05.\n",
      "pred: 513.172733243\n",
      "Trained using slice 12: RawRMSE=275.82726675711353 %RMSE=34.9590959134\n",
      "The relative change of the cost function is less than `tol`.\n",
      "Number of iterations 16, initial cost 1.5458e+12, final cost 7.9607e+07, first-order optimality 3.33e-06.\n",
      "pred: 38769.2165201\n",
      "Trained using slice 13: RawRMSE=5423.216520133406 %RMSE=16.263469442\n",
      "The relative change of the cost function is less than `tol`.\n",
      "Number of iterations 17, initial cost 2.8980e+12, final cost 8.3151e+07, first-order optimality 3.45e-05.\n",
      "pred: 1162.75972397\n",
      "Trained using slice 14: RawRMSE=526.240276029049 %RMSE=31.1569139153\n",
      "The relative change of the cost function is less than `tol`.\n",
      "Number of iterations 19, initial cost 2.7377e+12, final cost 8.0774e+07, first-order optimality 5.56e-06.\n",
      "pred: 5759.5048688\n",
      "Trained using slice 15: RawRMSE=2320.4951311953046 %RMSE=28.7189991485\n",
      "The relative change of the cost function is less than `tol`.\n",
      "Number of iterations 17, initial cost 2.3574e+12, final cost 7.9605e+07, first-order optimality 6.67e-06.\n",
      "pred: 4756.86793836\n",
      "Trained using slice 16: RawRMSE=2803.1320616381527 %RMSE=37.0784664238\n"
     ]
    }
   ],
   "source": [
    "totalrmse = 0\n",
    "print(selected_feature_names)\n",
    "X_vals = regression.getXVals(selected_feature_names)\n",
    "Y_vals = regression.getYVals(dep_col_name)\n",
    "regression.kFoldTest2(selected_feature_names, dep_col_name, 1)\n"
   ]
  },
  {
   "cell_type": "code",
   "execution_count": 30,
   "metadata": {
    "collapsed": false,
    "deletable": true,
    "editable": true
   },
   "outputs": [
    {
     "name": "stdout",
     "output_type": "stream",
     "text": [
      "[  3.04156366e+00   1.38767539e-02   1.55423723e-22   1.84297629e-27\n",
      "   2.51584060e-23   7.44158844e+02   7.07666514e-17   9.76073097e-19\n",
      "   1.44405803e+02   4.69102139e-20   1.00000000e-01]\n"
     ]
    },
    {
     "name": "stderr",
     "output_type": "stream",
     "text": [
      "C:\\Users\\xtiangabe\\Anaconda3\\lib\\site-packages\\sklearn\\utils\\validation.py:395: DeprecationWarning: Passing 1d arrays as data is deprecated in 0.17 and will raise ValueError in 0.19. Reshape your data either using X.reshape(-1, 1) if your data has a single feature or X.reshape(1, -1) if it contains a single sample.\n",
      "  DeprecationWarning)\n"
     ]
    },
    {
     "data": {
      "text/plain": [
       "301522.7242228887"
      ]
     },
     "execution_count": 30,
     "metadata": {},
     "output_type": "execute_result"
    }
   ],
   "source": [
    "#x4 x1.16\n",
    "#3.37 0.74\n",
    "#fitted_production_model.predict([73444,252283.04,294170,189034,3.74E-05,3.06E-05,9.67E-05,0,0.000137578,0,0])[0]\n",
    "#36088\n",
    "#print(fitted_production_model.intercept_)\n",
    "#fitted_production_model.coef_= res['x']\n",
    "fitted_production_model.coef_ = res['x']\n",
    "fitted_production_model.intercept_ = 0\n",
    "print(fitted_production_model.coef_)\n",
    "fitted_production_model.predict([ \n",
    " \n",
    "3779,\n",
    "17110,\n",
    "12747,\n",
    "11894,\n",
    "63.27,\n",
    "267.37,\n",
    "41.97,\n",
    "3.23,\n",
    "628.96,\n",
    "0,\n",
    "0\n",
    "\n",
    "])[0]"
   ]
  },
  {
   "cell_type": "code",
   "execution_count": null,
   "metadata": {
    "collapsed": false,
    "deletable": true,
    "editable": true
   },
   "outputs": [],
   "source": [
    "#x4 x1.16\n",
    "#3.37 0.74\n",
    "#fitted_production_model.predict([73444,252283.04,294170,189034,3.74E-05,3.06E-05,9.67E-05,0,0.000137578,0,0])[0]\n",
    "#36088\n",
    "fitted_production_model_attr.coef_ = res2['x']\n",
    "print(res2['x'])\n",
    "fitted_production_model_attr.intercept_ = 0\n",
    "fitted_production_model_attr.predict([ \n",
    " 58,\n",
    "86,\n",
    "54,\n",
    "43,\n",
    "44,\n",
    "2,\n",
    "20,\n",
    "97,\n",
    "63.27,\n",
    "267.37,\n",
    "41.97,\n",
    "3.23,\n",
    "628.96,\n",
    "0,\n",
    "0\n",
    "\n",
    "])[0]"
   ]
  },
  {
   "cell_type": "markdown",
   "metadata": {
    "deletable": true,
    "editable": true
   },
   "source": [
    "## K-fold validation (17-fold)"
   ]
  },
  {
   "cell_type": "code",
   "execution_count": null,
   "metadata": {
    "collapsed": false,
    "deletable": true,
    "editable": true
   },
   "outputs": [],
   "source": [
    "regression.kFoldTest2(selected_feature_names, dep_col_name, 1);"
   ]
  },
  {
   "cell_type": "markdown",
   "metadata": {
    "deletable": true,
    "editable": true
   },
   "source": [
    "### 2.) with LANDUSE variables"
   ]
  },
  {
   "cell_type": "code",
   "execution_count": null,
   "metadata": {
    "collapsed": false,
    "deletable": true,
    "editable": true
   },
   "outputs": [],
   "source": [
    "dummy_data = pd.read_csv('DummyDataRegression.csv', index_col=0)\n",
    "dummy_data.head()"
   ]
  },
  {
   "cell_type": "code",
   "execution_count": null,
   "metadata": {
    "collapsed": false,
    "deletable": true,
    "editable": true
   },
   "outputs": [],
   "source": [
    "regression.kFoldTest2([\"no_hh\",\"avg_income\",\"mem_no\",\"no_mem_educwork\"], dep_col_name, 1)"
   ]
  },
  {
   "cell_type": "code",
   "execution_count": null,
   "metadata": {
    "collapsed": false,
    "deletable": true,
    "editable": true
   },
   "outputs": [],
   "source": [
    "regression.kFoldTest2(['no_hh', 'avg_income', 'mem_no', 'agri_area', 'resi_area', 'util_area'], dep_col_name, 1)"
   ]
  },
  {
   "cell_type": "code",
   "execution_count": null,
   "metadata": {
    "collapsed": false,
    "deletable": true,
    "editable": true
   },
   "outputs": [],
   "source": [
    "\n",
    "        \n",
    "dep_col_name = \"trips\"\n",
    "data_filepath = \"DummyDataRegression.csv\"\n",
    "regression = Regression(data_filepath)\n",
    "original_df  =  pd.read_csv(data_filepath, index_col=0)\n",
    "data_filepath2 = \"DummyDataRegressionAmenitiex.csv\"\n",
    "regression2 = Regression(data_filepath2)\n",
    "\n",
    "selected_feature_names_attraction = [\"sust_amt\",\"educ_amt\",\"tran_amt\",\"heal_amt\",\"fina_amt\",\"comm_amt\", \"ente_amt\",\"othe_amt\",\n",
    "                        \"comm_area\", \"park_area\",\"indu_area\",\"agri_area\",\"resi_area\",\"util_area\",\"othe_area\"]\n",
    "#fitted_production_model = regression.getFittedRegressionModel(selected_feature_names, dep_col_name)\n",
    "#fitted_production_model_attr = regression2.getFittedRegressionModel(selected_feature_names_attraction, dep_col_name)\n",
    "##\n",
    "\n",
    "selected_feature_names = [\"no_hh\",\"avg_income\",\"mem_no\",\"no_mem_educwork\"]\n",
    "landuse_names = [\"comm_area\",\"park_area\", \"indu_area\",\"agri_area\",\n",
    "                         \"resi_area\", \"util_area\"]\n",
    "totalrmse = 0\n",
    "print(selected_feature_names)\n",
    "X_vals = regression.getXVals(selected_feature_names+landuse_names)\n",
    "Y_vals = regression.getYVals(dep_col_name)\n",
    "best_comb = []\n",
    "best_score = 0\n",
    "initialized = False\n",
    "\n",
    "for L in range(1, len(selected_feature_names+landuse_names)+1):\n",
    "  for subset in itertools.combinations(selected_feature_names+landuse_names, L):\n",
    "    curr_cols = list(subset)\n",
    "    print(\"current: \"+str(curr_cols))\n",
    "    totalrmse = 0\n",
    "    rms = regression.kFoldTest3(curr_cols, dep_col_name, 3)\n",
    "    totalrmse += rms\n",
    "    #print(\"Trained using index \"+str(x)+\": RMSE = \"+str(rms))\n",
    "    print(\"TOTAL RMSE: \"+str(totalrmse))\n",
    "    if(initialized == False):\n",
    "        best_score = totalrmse\n",
    "        initialized = True \n",
    "        best_comb = curr_cols\n",
    "    else:\n",
    "        if(totalrmse < best_score):\n",
    "            best_score = totalrmse\n",
    "            best_comb = curr_cols\n",
    "print(\"\\n \\nBest Score: \"+str(best_score))\n",
    "print(\"Best Combination: \"+str(best_comb))      \n",
    "        "
   ]
  },
  {
   "cell_type": "code",
   "execution_count": null,
   "metadata": {
    "collapsed": false,
    "deletable": true,
    "editable": true
   },
   "outputs": [],
   "source": [
    "dep_col_name = \"trips\"\n",
    "data_filepath = \"DummyDataRegression.csv\"\n",
    "regression = Regression(data_filepath)\n",
    "original_df  =  pd.read_csv(data_filepath, index_col=0)\n",
    "data_filepath2 = \"DummyDataRegressionAmenitiex.csv\"\n",
    "regression2 = Regression(data_filepath2)\n",
    "\n",
    "selected_feature_names_attraction = [\"sust_amt\",\"educ_amt\",\"tran_amt\",\"heal_amt\",\"fina_amt\",\"comm_amt\", \"ente_amt\",\"othe_amt\",\n",
    "                        \"comm_area\", \"park_area\",\"indu_area\",\"agri_area\",\"resi_area\",\"util_area\",\"othe_area\"]\n",
    "#fitted_production_model = regression.getFittedRegressionModel(selected_feature_names, dep_col_name)\n",
    "#fitted_production_model_attr = regression2.getFittedRegressionModel(selected_feature_names_attraction, dep_col_name)\n",
    "##\n",
    "\n",
    "selected_feature_names = [\"no_hh\",\"avg_income\",\"mem_no\",\"no_mem_educwork\"]\n",
    "landuse_names = [\"comm_area\",\"park_area\", \"indu_area\",\"agri_area\",\n",
    "                         \"resi_area\", \"util_area\"]\n",
    "totalrmse = 0\n",
    "print(selected_feature_names)\n",
    "X_vals = regression.getXVals(selected_feature_names+landuse_names)\n",
    "Y_vals = regression.getYVals(dep_col_name)\n",
    "best_comb = []\n",
    "best_score = 0\n",
    "initialized = False\n",
    "\n",
    "for L in range(1, len(selected_feature_names+landuse_names)+1):\n",
    "  for subset in itertools.combinations(selected_feature_names+landuse_names, L):\n",
    "    curr_cols = list(subset)\n",
    "    print(\"current: \"+str(curr_cols))\n",
    "    totalrmse = 0\n",
    "    for x in range(len(X_vals.index)):\n",
    "        Predicted_vals = []\n",
    "        #print(\"Test row: \"+str(x))\n",
    "        fitted_production_model2 = regression.kFoldTest(curr_cols, dep_col_name, x);\n",
    "        #testdframe.head()\n",
    "        #fitted_production_model2.predict(X_vals.iloc[x , :].values.reshape(1,-1))\n",
    "        for z in range(len(X_vals.index)):\n",
    "            #print(\"Actual Zone \"+str(z)+\": \"+str(Y_vals.iloc[z]))\n",
    "            #print(\"Predicted Zone \"+str(z)+\": \"+str(fitted_production_model2.predict(X_vals.iloc[z , :].values.reshape(1,-1))[0]))\n",
    "            #print(\"subset\"+str(list(subset)))\n",
    "            Predicted_vals.append(fitted_production_model2.predict(X_vals.iloc[z , :].loc[curr_cols].values.reshape(1,-1))[0])\n",
    "        rms = sqrt(mean_squared_error(Y_vals.values, Predicted_vals))\n",
    "        rms = rms*((100)/sum(Predicted_vals))\n",
    "        totalrmse += rms\n",
    "        #print(\"Trained using index \"+str(x)+\": RMSE = \"+str(rms))\n",
    "    print(\"TOTAL RMSE: \"+str(totalrmse))\n",
    "    if(initialized == False):\n",
    "        best_score = totalrmse\n",
    "        initialized = True \n",
    "        best_comb = curr_cols\n",
    "    else:\n",
    "        if(totalrmse < best_score):\n",
    "            best_score = totalrmse\n",
    "            best_comb = curr_cols\n",
    "print(\"\\n \\nBest Score: \"+str(best_score))\n",
    "print(\"Best Combination: \"+str(best_comb)) \n",
    "\n"
   ]
  },
  {
   "cell_type": "markdown",
   "metadata": {
    "collapsed": true,
    "deletable": true,
    "editable": true
   },
   "source": [
    "## TRIP GENERATION TESTING #6:\n",
    "Examine the effect of increasing/decreasing the number of each of the types of landuse per zone, and verify its effect to the number of trips produced and attracted per zone"
   ]
  },
  {
   "cell_type": "markdown",
   "metadata": {
    "deletable": true,
    "editable": true
   },
   "source": [
    "## Base/Original data "
   ]
  },
  {
   "cell_type": "code",
   "execution_count": null,
   "metadata": {
    "collapsed": false,
    "deletable": true,
    "editable": true
   },
   "outputs": [],
   "source": [
    "dep_col_name = \"trips\"\n",
    "data_filepath = \"DummyDataRegression.csv\"\n",
    "regression = Regression(data_filepath)\n",
    "\n",
    "selected_feature_names = [\"no_hh\",\"avg_income\",\"mem_no\",\"no_mem_educwork\",\"comm_area\",\"park_area\", \"indu_area\",\"agri_area\",\n",
    "                         \"resi_area\", \"util_area\",\"othe_area\"]\n",
    "fitted_production_model = regression.getFittedRegressionModel(selected_feature_names, dep_col_name)\n",
    "\n",
    "dummy_data = pd.read_csv('DummyDataRegression.csv', index_col=0)\n",
    "dummy_data.head()"
   ]
  },
  {
   "cell_type": "markdown",
   "metadata": {
    "deletable": true,
    "editable": true
   },
   "source": [
    "## Case 1:\n",
    "Using the 1st row of the original data (zone 1), increase the number of residential areas, and check its effect to the resulting trips produced."
   ]
  },
  {
   "cell_type": "code",
   "execution_count": null,
   "metadata": {
    "collapsed": false,
    "deletable": true,
    "editable": true
   },
   "outputs": [],
   "source": [
    "data_filepath2 = \"DummyDataRegressionEXP6.csv\"\n",
    "regression2 = Regression(data_filepath2)\n",
    "dummy_data = pd.read_csv(data_filepath2, index_col=0)\n",
    "dummy_data.head()"
   ]
  },
  {
   "cell_type": "markdown",
   "metadata": {
    "deletable": true,
    "editable": true
   },
   "source": [
    "## Case 1 Result:\n",
    "The predicted number of trips produced from zone 1, given the original number of residential areas."
   ]
  },
  {
   "cell_type": "code",
   "execution_count": null,
   "metadata": {
    "collapsed": false,
    "deletable": true,
    "editable": true
   },
   "outputs": [],
   "source": [
    "X_vals = regression.getXVals(selected_feature_names)\n",
    "fitted_production_model.predict(X_vals.iloc[0 , :].values.reshape(1,-1))[0]"
   ]
  },
  {
   "cell_type": "markdown",
   "metadata": {
    "deletable": true,
    "editable": true
   },
   "source": [
    "The predicted number of trips produced from zone 1, given that the number of residential areas were increased."
   ]
  },
  {
   "cell_type": "code",
   "execution_count": null,
   "metadata": {
    "collapsed": false,
    "deletable": true,
    "editable": true
   },
   "outputs": [],
   "source": [
    "X_vals = regression2.getXVals(selected_feature_names)\n",
    "fitted_production_model.predict(X_vals.iloc[0 , :].values.reshape(1,-1))[0]"
   ]
  },
  {
   "cell_type": "markdown",
   "metadata": {
    "deletable": true,
    "editable": true
   },
   "source": [
    "# Scatter plots for the zonal trips produced of other studies"
   ]
  },
  {
   "cell_type": "markdown",
   "metadata": {
    "deletable": true,
    "editable": true
   },
   "source": [
    "## 1.) HHIS from MUCEP"
   ]
  },
  {
   "cell_type": "code",
   "execution_count": 301,
   "metadata": {
    "collapsed": false,
    "deletable": true,
    "editable": true
   },
   "outputs": [
    {
     "name": "stdout",
     "output_type": "stream",
     "text": [
      "R^2 score: 0.996974590791\n",
      "The relative change of the cost function is less than `tol`.\n",
      "Number of iterations 12, initial cost 1.8900e+08, final cost 6.0515e+07, first-order optimality 1.68e-07.\n",
      "[  2.54890477e-15   1.10000000e+03   1.30374385e+02   1.75348756e+02\n",
      "   7.35037140e-15   1.36839648e-19   2.27627021e-14   1.10000000e+03\n",
      "   3.99399310e+02   1.10000000e+03   1.10000000e+03   3.42146846e+02\n",
      "   1.55961256e+02   3.70819319e-17   1.00000000e-01]\n"
     ]
    }
   ],
   "source": [
    "dep_col_name = \"trips\"\n",
    "selected_feature_names = [\"sust_amt\",\"educ_amt\",\"tran_amt\",\"heal_amt\",\n",
    "                          \"fina_amt\",\"comm_amt\", \"ente_amt\",\"othe_amt\",\n",
    "                        \"comm_area\", \"park_area\",\"indu_area\",\"agri_area\",\n",
    "                          \"resi_area\",\"util_area\",\"othe_area\"]\n",
    "data_filepath = \"DummyDataRegressionAmenitiex_revised_2.csv\"\n",
    "regression = Regression(data_filepath)\n",
    "X_vals = regression.getXVals(selected_feature_names)\n",
    "Y_vals = regression.getYVals(dep_col_name)\n",
    "\n",
    "fitted_production_model = regression.getFittedRegressionModel(selected_feature_names, dep_col_name)\n",
    "\n",
    "from scipy.sparse import rand\n",
    "from scipy.optimize import lsq_linear\n",
    "import sys\n",
    "\n",
    "A = np.array(X_vals.values)\n",
    "b = np.array(Y_vals.values)\n",
    "res = lsq_linear(A, b, bounds=(0, 1100), lsmr_tol='auto', verbose=1)\n",
    "\n",
    "predictions = []\n",
    "predictions2 = []\n",
    "for x in range(0,list(X_vals.values.shape)[0]):\n",
    "    predictions.append(fitted_production_model.predict(X_vals.iloc[x , :].values.reshape(1,-1))[0])\n",
    "fitted_production_model.coef_ = res['x']\n",
    "fitted_production_model.intercept_ = 0\n",
    "for x in range(0,list(X_vals.values.shape)[0]):\n",
    "    predictions2.append(fitted_production_model.predict(X_vals.iloc[x , :].values.reshape(1,-1))[0])\n",
    "print(res['x'])\n",
    "    #print(predictions)\n",
    "#print(predictions2)\n",
    "#print (ret['x'].T)\n",
    "#output:\n",
    "#[ 2.50e-07  6.93e-01]"
   ]
  },
  {
   "cell_type": "code",
   "execution_count": 304,
   "metadata": {
    "collapsed": false,
    "deletable": true,
    "editable": true,
    "scrolled": true
   },
   "outputs": [
    {
     "name": "stdout",
     "output_type": "stream",
     "text": [
      "R^2 score: 0.989666973118\n",
      "The relative change of the cost function is less than `tol`.\n",
      "Number of iterations 17, initial cost 2.8981e+12, final cost 8.3290e+07, first-order optimality 3.67e-05.\n",
      "[  3.29147761e+00   2.08982787e-20   5.28792145e-22   5.61467426e-19\n",
      "   6.00000000e+02   4.40542048e-20   1.94194107e-14   1.55278782e+02\n",
      "   4.20451846e-21   1.00000000e-01]\n",
      "[15531.733094569856, 6250.3668575149441, 5792.6450629498067, 2637.7803584765538, 3050.6222485630551, 10368.31425569255, 5092.4101769350027, 6901.6765591671774, 2175.5082321798182, 8124.3946727627954, 5411.415443233016, 7005.9750820519557, 513.24949517493155, 34655.996848291274, 1163.3261573671596, 5904.1714338847723, 4922.6429100100568]\n"
     ]
    }
   ],
   "source": [
    "dep_col_name = \"trips\"\n",
    "selected_feature_names = [\"no_hh\",\"mem_no\",\"no_mem_educwork\",\"comm_area\",\n",
    "                          \"park_area\", \"indu_area\",\"agri_area\",\"resi_area\",\n",
    "                          \"util_area\",\"othe_area\"]\n",
    "data_filepath = \"DummyDataRegression_revised_2.csv\"\n",
    "regression = Regression(data_filepath)\n",
    "X_vals = regression.getXVals(selected_feature_names)\n",
    "Y_vals = regression.getYVals(dep_col_name)\n",
    "\n",
    "fitted_production_model = regression.getFittedRegressionModel(selected_feature_names, dep_col_name)\n",
    "\n",
    "from scipy.sparse import rand\n",
    "from scipy.optimize import lsq_linear\n",
    "import sys\n",
    "\n",
    "A = np.array(X_vals.values)\n",
    "b = np.array(Y_vals.values)\n",
    "res = lsq_linear(A, b, bounds=(0, 600), lsmr_tol='auto', verbose=1)\n",
    "\n",
    "predictions = []\n",
    "predictions2 = []\n",
    "for x in range(0,list(X_vals.values.shape)[0]):\n",
    "    predictions.append(fitted_production_model.predict(X_vals.iloc[x , :].values.reshape(1,-1))[0])\n",
    "fitted_production_model.coef_ = res['x']\n",
    "fitted_production_model.intercept_ = 0\n",
    "for x in range(0,list(X_vals.values.shape)[0]):\n",
    "    predictions2.append(fitted_production_model.predict(X_vals.iloc[x , :].values.reshape(1,-1))[0])\n",
    "print(res['x'])\n",
    "    #print(predictions)\n",
    "print(predictions2)\n",
    "#print (ret['x'].T)\n",
    "#output:\n",
    "#[ 2.50e-07  6.93e-01]"
   ]
  },
  {
   "cell_type": "code",
   "execution_count": 276,
   "metadata": {
    "collapsed": false,
    "deletable": true,
    "editable": true,
    "scrolled": true
   },
   "outputs": [
    {
     "name": "stdout",
     "output_type": "stream",
     "text": [
      "['no_hh', 'avg_income', 'mem_no', 'no_mem_educwork']\n"
     ]
    },
    {
     "data": {
      "image/png": "[encoded data removed]",
      "text/plain": [
       "<matplotlib.figure.Figure at 0x2615709b198>"
      ]
     },
     "metadata": {},
     "output_type": "display_data"
    }
   ],
   "source": [
    "dep_col_name = \"trips\"\n",
    "data_filepath = \"DummyDataRegression_revised_2.csv\"\n",
    "regression = Regression(data_filepath)\n",
    "original_df  =  pd.read_csv(data_filepath, index_col=0)\n",
    "\n",
    "#fitted_production_model = regression.getFittedRegressionModel(selected_feature_names, dep_col_name)\n",
    "#fitted_production_model_attr = regression2.getFittedRegressionModel(selected_feature_names_attraction, dep_col_name)\n",
    "##\n",
    "\n",
    "selected_feature_names = [\"no_hh\",\"avg_income\",\"mem_no\",\"no_mem_educwork\"]\n",
    "landuse_names = [\"comm_area\",\"park_area\", \"indu_area\",\"agri_area\",\n",
    "                         \"resi_area\", \"util_area\"]\n",
    "totalrmse = 0\n",
    "print(selected_feature_names)\n",
    "X_vals = regression.getXVals(selected_feature_names+landuse_names)\n",
    "Y_vals = regression.getYVals(dep_col_name)\n",
    "best_comb = []\n",
    "best_score = 0\n",
    "initialized = False\n",
    "\n",
    "fig = plt.figure(figsize=(14,8))\n",
    "ax1 = fig.add_subplot(221)\n",
    "ax1.grid()\n",
    "#hhisSum = sum(Y_vals.values)\n",
    "mark1 = ax1.plot(range(0, 17), Y_vals.values, label=\"DOTR Zonal Trips Original\", ls=\"dotted\", marker=\"o\")\n",
    "#mark1 = ax1.plot(range(0, 17), predictions, label=\"DOTR Zonal Trips Regular\", ls=\"dotted\", marker=\"x\")\n",
    "mark1 = ax1.plot(range(0, 17), predictions2, label=\"DOTR Zonal Trips Non-negative\", ls=\"dotted\", marker=\"v\")\n",
    "ax1.legend(bbox_to_anchor=(1.05, 1), loc=2, borderaxespad=0.)\n",
    "plt.show()"
   ]
  },
  {
   "cell_type": "code",
   "execution_count": 44,
   "metadata": {
    "collapsed": false,
    "deletable": true,
    "editable": true
   },
   "outputs": [
    {
     "name": "stdout",
     "output_type": "stream",
     "text": [
      "['no_hh', 'avg_income', 'mem_no', 'no_mem_educwork']\n",
      "predictionssss: [15227.309339904896, 6100.2084484095194, 5794.5578560321692, 2697.8083185720211, 3124.6751450816382, 10134.875696468578, 4999.9795857947311, 6737.4735186377229, 2239.091816976214, 8001.7221149130746, 5659.4531034483298, 6841.8305697430014, 726.10785960607018, 35005.596424286734, 1397.9807357687296, 5920.2323923124231, 4892.4494750907415]\n"
     ]
    },
    {
     "data": {
      "image/png": "[encoded data removed]",
      "text/plain": [
       "<matplotlib.figure.Figure at 0x1eb276e2978>"
      ]
     },
     "metadata": {},
     "output_type": "display_data"
    }
   ],
   "source": [
    "dep_col_name = \"trips\"\n",
    "data_filepath = \"DummyDataRegression_revised_2.csv\"\n",
    "regression = Regression(data_filepath)\n",
    "original_df  =  pd.read_csv(data_filepath, index_col=0)\n",
    "\n",
    "#fitted_production_model = regression.getFittedRegressionModel(selected_feature_names, dep_col_name)\n",
    "#fitted_production_model_attr = regression2.getFittedRegressionModel(selected_feature_names_attraction, dep_col_name)\n",
    "##\n",
    "\n",
    "selected_feature_names = [\"no_hh\",\"avg_income\",\"mem_no\",\"no_mem_educwork\"]\n",
    "landuse_names = [\"comm_area\",\"park_area\", \"indu_area\",\"agri_area\",\n",
    "                         \"resi_area\", \"util_area\"]\n",
    "totalrmse = 0\n",
    "print(selected_feature_names)\n",
    "X_vals = regression.getXVals(selected_feature_names+landuse_names)\n",
    "Y_vals = regression.getYVals(dep_col_name)\n",
    "best_comb = []\n",
    "best_score = 0\n",
    "initialized = False\n",
    "\n",
    "fig = plt.figure(figsize=(14,8))\n",
    "ax1 = fig.add_subplot(221)\n",
    "ax1.grid()\n",
    "#hhisSum = sum(Y_vals.values)\n",
    "mark1 = ax1.plot(range(0, 17), Y_vals.values, label=\"Raw Trip Data\", ls=\"dotted\", marker=\"o\")\n",
    "#mark1 = ax1.plot(range(0, 17), predictions, label=\"DOTR Zonal Trips Regular\", ls=\"dotted\", marker=\"x\")\n",
    "mark1 = ax1.plot(range(0, 17), predictions2, label=\"Forecasted Trip Data\", ls=\"dotted\", marker=\"v\")\n",
    "ax1.legend(bbox_to_anchor=(1.05, 1), loc=2, borderaxespad=0.)\n",
    "print(\"predictionssss: \"+str(predictions2))\n",
    "plt.show()"
   ]
  },
  {
   "cell_type": "markdown",
   "metadata": {
    "deletable": true,
    "editable": true
   },
   "source": [
    "## 2.) A study based on MUCEP"
   ]
  },
  {
   "cell_type": "code",
   "execution_count": 10,
   "metadata": {
    "collapsed": false,
    "deletable": true,
    "editable": true
   },
   "outputs": [
    {
     "data": {
      "image/png": "[encoded data removed]",
      "text/plain": [
       "<matplotlib.figure.Figure at 0x261563d6f98>"
      ]
     },
     "metadata": {},
     "output_type": "display_data"
    }
   ],
   "source": [
    "FILONE_MUCEP_TRIP_PROD = [326411,93639,535638,63112,231470,608551,84204,157800,29288,200924,153585\n",
    "                        ,159682,7882,1313553,37197,134726,120622]\n",
    "filoneSum = sum(FILONE_MUCEP_TRIP_PROD)\n",
    "#ratio = hhisSum/filoneSum\n",
    "fig = plt.figure(figsize=(14,8))\n",
    "ax1 = fig.add_subplot(221)\n",
    "ax1.grid()\n",
    "mark1 = ax1.plot(range(0, 17), FILONE_MUCEP_TRIP_PROD, label=\"Filone Stury Zonal Trips\", ls=\"dotted\", marker=\"o\")\n",
    "ax1.legend(bbox_to_anchor=(1.05, 1), loc=2, borderaxespad=0.)\n",
    "plt.show()\n"
   ]
  },
  {
   "cell_type": "code",
   "execution_count": 16,
   "metadata": {
    "collapsed": false,
    "deletable": true,
    "editable": true
   },
   "outputs": [
    {
     "name": "stdout",
     "output_type": "stream",
     "text": [
      "['no_hh', 'avg_income', 'mem_no', 'no_mem_educwork']\n",
      "predictionssss: [15227.309339904896, 6100.2084484095194, 5794.5578560321692, 2697.8083185720211, 3124.6751450816382, 10134.875696468578, 4999.9795857947311, 6737.4735186377229, 2239.091816976214, 8001.7221149130746, 5659.4531034483298, 6841.8305697430014, 726.10785960607018, 35005.596424286734, 1397.9807357687296, 5920.2323923124231, 4892.4494750907415]\n"
     ]
    },
    {
     "data": {
      "image/png": "[encoded data removed]",
      "text/plain": [
       "<matplotlib.figure.Figure at 0x26157016ac8>"
      ]
     },
     "metadata": {},
     "output_type": "display_data"
    },
    {
     "data": {
      "image/png": "[encoded data removed]",
      "text/plain": [
       "<matplotlib.figure.Figure at 0x261570b2dd8>"
      ]
     },
     "metadata": {},
     "output_type": "display_data"
    }
   ],
   "source": [
    "dep_col_name = \"trips\"\n",
    "data_filepath = \"DummyDataRegression_revised_2.csv\"\n",
    "regression = Regression(data_filepath)\n",
    "original_df  =  pd.read_csv(data_filepath, index_col=0)\n",
    "\n",
    "#fitted_production_model = regression.getFittedRegressionModel(selected_feature_names, dep_col_name)\n",
    "#fitted_production_model_attr = regression2.getFittedRegressionModel(selected_feature_names_attraction, dep_col_name)\n",
    "##\n",
    "\n",
    "selected_feature_names = [\"no_hh\",\"avg_income\",\"mem_no\",\"no_mem_educwork\"]\n",
    "landuse_names = [\"comm_area\",\"park_area\", \"indu_area\",\"agri_area\",\n",
    "                         \"resi_area\", \"util_area\"]\n",
    "totalrmse = 0\n",
    "print(selected_feature_names)\n",
    "X_vals = regression.getXVals(selected_feature_names+landuse_names)\n",
    "Y_vals = regression.getYVals(dep_col_name)\n",
    "best_comb = []\n",
    "best_score = 0\n",
    "initialized = False\n",
    "\n",
    "fig = plt.figure(figsize=(14,8))\n",
    "ax1 = fig.add_subplot(221)\n",
    "ax1.grid()\n",
    "#hhisSum = sum(Y_vals.values)\n",
    "#mark1 = ax1.plot(range(0, 17), predictions, label=\"DOTR Zonal Trips Regular\", ls=\"dotted\", marker=\"x\")\n",
    "mark1 = ax1.plot(range(0, 17), predictions2, label=\"Forecasted Trip Data\", ls=\"dotted\", marker=\"v\")\n",
    "ax1.legend(bbox_to_anchor=(1.05, 1), loc=2, borderaxespad=0.)\n",
    "print(\"predictionssss: \"+str(predictions2))\n",
    "plt.show()\n",
    "\n",
    "fig = plt.figure(figsize=(14,8))\n",
    "ax1 = fig.add_subplot(221)\n",
    "ax1.grid()\n",
    "mark1 = ax1.plot(range(0, 17), FILONE_MUCEP_TRIP_PROD, label=\"Filone Stury Zonal Trips\", ls=\"dotted\", marker=\"o\")\n",
    "ax1.legend(bbox_to_anchor=(1.05, 1), loc=2, borderaxespad=0.)\n",
    "plt.show()"
   ]
  },
  {
   "cell_type": "code",
   "execution_count": 14,
   "metadata": {
    "collapsed": false,
    "deletable": true,
    "editable": true
   },
   "outputs": [
    {
     "ename": "NameError",
     "evalue": "name 'hhisSum' is not defined",
     "output_type": "error",
     "traceback": [
      "\u001b[1;31m---------------------------------------------------------------------------\u001b[0m",
      "\u001b[1;31mNameError\u001b[0m                                 Traceback (most recent call last)",
      "\u001b[1;32m<ipython-input-14-9d8dd0d94fb6>\u001b[0m in \u001b[0;36m<module>\u001b[1;34m()\u001b[0m\n\u001b[0;32m      2\u001b[0m                         ,159682,7882,1313553,37197,134726,120622]\n\u001b[0;32m      3\u001b[0m \u001b[0mfiloneSum\u001b[0m \u001b[1;33m=\u001b[0m \u001b[0msum\u001b[0m\u001b[1;33m(\u001b[0m\u001b[0mFILONE_MUCEP_TRIP_PROD\u001b[0m\u001b[1;33m)\u001b[0m\u001b[1;33m\u001b[0m\u001b[0m\n\u001b[1;32m----> 4\u001b[1;33m \u001b[0mratio\u001b[0m \u001b[1;33m=\u001b[0m \u001b[0mhhisSum\u001b[0m\u001b[1;33m/\u001b[0m\u001b[0mfiloneSum\u001b[0m\u001b[1;33m\u001b[0m\u001b[0m\n\u001b[0m\u001b[0;32m      5\u001b[0m \u001b[0mFILONE_MUCEP_TRIP_PROD\u001b[0m \u001b[1;33m=\u001b[0m \u001b[1;33m[\u001b[0m\u001b[0mx\u001b[0m \u001b[1;33m*\u001b[0m \u001b[0mratio\u001b[0m \u001b[1;32mfor\u001b[0m \u001b[0mx\u001b[0m \u001b[1;32min\u001b[0m \u001b[0mFILONE_MUCEP_TRIP_PROD\u001b[0m\u001b[1;33m]\u001b[0m\u001b[1;33m\u001b[0m\u001b[0m\n\u001b[0;32m      6\u001b[0m \u001b[0mprint\u001b[0m\u001b[1;33m(\u001b[0m\u001b[0mstr\u001b[0m\u001b[1;33m(\u001b[0m\u001b[0msum\u001b[0m\u001b[1;33m(\u001b[0m\u001b[0mFILONE_MUCEP_TRIP_PROD\u001b[0m\u001b[1;33m)\u001b[0m\u001b[1;33m)\u001b[0m \u001b[1;33m+\u001b[0m \u001b[1;34m\" \"\u001b[0m \u001b[1;33m+\u001b[0m \u001b[0mstr\u001b[0m\u001b[1;33m(\u001b[0m\u001b[0mhhisSum\u001b[0m\u001b[1;33m)\u001b[0m\u001b[1;33m)\u001b[0m\u001b[1;33m\u001b[0m\u001b[0m\n",
      "\u001b[1;31mNameError\u001b[0m: name 'hhisSum' is not defined"
     ]
    }
   ],
   "source": [
    "FILONE_MUCEP_TRIP_PROD = [326411,93639,535638,63112,231470,608551,84204,157800,29288,200924,153585\n",
    "                        ,159682,7882,1313553,37197,134726,120622]\n",
    "filoneSum = sum(FILONE_MUCEP_TRIP_PROD)\n",
    "ratio = hhisSum/filoneSum\n",
    "FILONE_MUCEP_TRIP_PROD = [x * ratio for x in FILONE_MUCEP_TRIP_PROD]\n",
    "print(str(sum(FILONE_MUCEP_TRIP_PROD)) + \" \" + str(hhisSum))\n",
    "fig = plt.figure(figsize=(14,8))\n",
    "ax1 = fig.add_subplot(221)\n",
    "ax1.grid()\n",
    "mark1 = ax1.plot(range(0, 17), FILONE_MUCEP_TRIP_PROD, label=\"Filone Stury Zonal Trips\", ls=\"dotted\", marker=\"o\")\n",
    "ax1.legend(bbox_to_anchor=(1.05, 1), loc=2, borderaxespad=0.)\n",
    "plt.show()\n",
    "difference = myFormattedList = [ round(elem, 1) for elem in (FILONE_MUCEP_TRIP_PROD - Y_vals.values)]\n",
    "print(Y_vals.values)\n",
    "print(FILONE_MUCEP_TRIP_PROD)\n",
    "print([ round(elem, 1) for elem in FILONE_MUCEP_TRIP_PROD - Y_vals.values ])\n"
   ]
  },
  {
   "cell_type": "markdown",
   "metadata": {
    "collapsed": true,
    "deletable": true,
    "editable": true
   },
   "source": [
    "# SCRATCH CELLS:"
   ]
  },
  {
   "cell_type": "code",
   "execution_count": null,
   "metadata": {
    "collapsed": false,
    "deletable": true,
    "editable": true
   },
   "outputs": [],
   "source": [
    "dep_col_name = \"trips\"\n",
    "data_filepath = \"DummyDataRegression.csv\"\n",
    "regression = Regression(data_filepath)\n",
    "\n",
    "data_filepath2 = \"DummyDataRegressionAmenitiex.csv\"\n",
    "regression2 = Regression(data_filepath2)\n",
    "\n",
    "selected_feature_names = [\"no_hh\",\"avg_income\",\"mem_no\",\"no_mem_educwork\",\"comm_area\",\"park_area\", \"indu_area\",\"agri_area\",\n",
    "                         \"resi_area\", \"util_area\",\"othe_area\"]\n",
    "selected_feature_names_attraction = [\"sust_amt\",\"educ_amt\",\"tran_amt\",\"heal_amt\",\"fina_amt\",\"comm_amt\", \"ente_amt\",\"othe_amt\",\n",
    "                        \"comm_area\", \"park_area\",\"indu_area\",\"agri_area\",\"resi_area\",\"util_area\",\"othe_area\"]\n",
    "fitted_production_model = regression.getFittedRegressionModel(selected_feature_names, dep_col_name)\n",
    "fitted_production_model_attr = regression2.getFittedRegressionModel(selected_feature_names_attraction, dep_col_name)\n",
    "\n",
    "print(\"Prod Intercept:\"+str(fitted_production_model.intercept_)+\" Coef:\"+str(fitted_production_model.coef_))\n",
    "print(\"Attr Intercept:\"+str(fitted_production_model_attr.intercept_)+\" Coef:\"+str(fitted_production_model_attr.coef_))\n",
    "\n",
    "dummy_data = pd.read_csv('DummyDataRegression.csv', index_col=0)\n",
    "dummy_data.head()"
   ]
  },
  {
   "cell_type": "code",
   "execution_count": null,
   "metadata": {
    "collapsed": false,
    "deletable": true,
    "editable": true
   },
   "outputs": [],
   "source": [
    "totalrmse = 0\n",
    "print(selected_feature_names)\n",
    "X_vals = regression.getXVals(selected_feature_names)\n",
    "Y_vals = regression.getYVals(dep_col_name)\n",
    "\n",
    "for x in range(len(X_vals.index)):\n",
    "    Predicted_vals = []\n",
    "    print(\"Test row: \"+str(x))\n",
    "    fitted_production_model2 = regression.kFoldTest(selected_feature_names, dep_col_name, x);\n",
    "    #testdframe.head()\n",
    "    #fitted_production_model2.predict(X_vals.iloc[x , :].values.reshape(1,-1))\n",
    "    for z in range(len(X_vals.index)):\n",
    "        #print(\"Actual Zone \"+str(z)+\": \"+str(Y_vals.iloc[z]))\n",
    "        #print(\"Predicted Zone \"+str(z)+\": \"+str(fitted_production_model2.predict(X_vals.iloc[z , :].values.reshape(1,-1))[0]))\n",
    "        Predicted_vals.append(fitted_production_model2.predict(X_vals.iloc[z , :].values.reshape(1,-1))[0])\n",
    "    rms = sqrt(mean_squared_error(Y_vals.values, Predicted_vals))\n",
    "    totalrmse += rms\n",
    "    print(\"Trained using index \"+str(x)+\": RMSE = \"+str(rms))\n",
    "print(\"TOTAL RMSE: \"+str(totalrmse))"
   ]
  },
  {
   "cell_type": "code",
   "execution_count": null,
   "metadata": {
    "collapsed": true,
    "deletable": true,
    "editable": true
   },
   "outputs": [],
   "source": [
    "dep_col_name = \"trips\"\n",
    "data_filepath = \"DummyDataRegression.csv\"\n",
    "regression = Regression(data_filepath)\n",
    "\n",
    "data_filepath2 = \"DummyDataRegressionAmenitiex.csv\"\n",
    "regression2 = Regression(data_filepath2)\n",
    "\n",
    "selected_feature_names = [\"no_hh\",\"avg_income\",\"mem_no\",\"no_mem_educwork\",\"comm_area\",\"park_area\", \"indu_area\",\"agri_area\",\n",
    "                         \"resi_area\", \"util_area\",\"othe_area\"]\n",
    "selected_feature_names_attraction = [\"sust_amt\",\"educ_amt\",\"tran_amt\",\"heal_amt\",\"fina_amt\",\"comm_amt\", \"ente_amt\",\"othe_amt\",\n",
    "                        \"comm_area\", \"park_area\",\"indu_area\",\"agri_area\",\"resi_area\",\"util_area\",\"othe_area\"]\n",
    "fitted_production_model = regression.getFittedRegressionModel(selected_feature_names, dep_col_name)\n",
    "fitted_production_model_attr = regression2.getFittedRegressionModel(selected_feature_names_attraction, dep_col_name)\n",
    "\n",
    "#print(\"Prod Intercept:\"+str(fitted_production_model.intercept_)+\" Coef:\"+str(fitted_production_model.coef_))\n",
    "#print(\"Attr Intercept:\"+str(fitted_production_model_attr.intercept_)+\" Coef:\"+str(fitted_production_model_attr.coef_))\n",
    "\n",
    "dummy_data = pd.read_csv('DummyDataRegression.csv', index_col=0)\n",
    "dummy_data.head()"
   ]
  },
  {
   "cell_type": "code",
   "execution_count": null,
   "metadata": {
    "collapsed": false,
    "deletable": true,
    "editable": true
   },
   "outputs": [],
   "source": [
    "dummy_data_amenities = pd.read_csv('DummyDataRegressionAmenitiex_revised.csv', index_col=0)\n",
    "dummy_data_amenities.head()"
   ]
  },
  {
   "cell_type": "code",
   "execution_count": null,
   "metadata": {
    "collapsed": true,
    "deletable": true,
    "editable": true
   },
   "outputs": [],
   "source": []
  },
  {
   "cell_type": "code",
   "execution_count": null,
   "metadata": {
    "collapsed": true,
    "deletable": true,
    "editable": true
   },
   "outputs": [],
   "source": []
  }
 ],
 "metadata": {
  "anaconda-cloud": {},
  "kernelspec": {
   "display_name": "Python 3",
   "language": "python",
   "name": "python3"
  },
  "language_info": {
   "codemirror_mode": {
    "name": "ipython",
    "version": 3
   },
   "file_extension": ".py",
   "mimetype": "text/x-python",
   "name": "python",
   "nbconvert_exporter": "python",
   "pygments_lexer": "ipython3",
   "version": "3.5.0"
  }
 },
 "nbformat": 4,
 "nbformat_minor": 2
}
