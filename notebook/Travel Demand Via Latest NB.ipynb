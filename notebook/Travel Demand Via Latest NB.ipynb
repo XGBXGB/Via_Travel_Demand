{
 "cells": [
  {
   "cell_type": "code",
   "execution_count": null,
   "metadata": {
    "collapsed": false,
    "deletable": true,
    "editable": true
   },
   "outputs": [],
   "source": [
    "import pandas as pd\n",
    "import matplotlib.pyplot as plt\n",
    "from sklearn.feature_selection import RFECV\n",
    "import statsmodels.formula.api as smf\n",
    "from math import exp\n",
    "from sklearn import linear_model, cross_validation\n",
    "import scipy.stats as prr\n",
    "import numpy as np\n",
    "from IPython.display import display, HTML\n",
    "from sklearn.metrics import mean_squared_error\n",
    "from math import sqrt\n",
    "import statsmodels.formula.api as sm\n",
    "import itertools"
   ]
  },
  {
   "cell_type": "markdown",
   "metadata": {
    "deletable": true,
    "editable": true
   },
   "source": [
    "## Regression Class"
   ]
  },
  {
   "cell_type": "code",
   "execution_count": null,
   "metadata": {
    "collapsed": true,
    "deletable": true,
    "editable": true
   },
   "outputs": [],
   "source": [
    "class Regression:\n",
    "    def __init__(self, pathToData):\n",
    "        self.data = pd.read_csv(pathToData, index_col=0)\n",
    "\n",
    "    def getDataFrame(self):\n",
    "        return self.data\n",
    "\n",
    "    \n",
    "    \n",
    "    # get collinearity (r^2 value) of a pair of columns\n",
    "    def getCollinearityScore(self, dependentCol, independentCol):\n",
    "        array = self.data.values\n",
    "        X = array[:, independentCol]\n",
    "        Y = array[:, dependentCol]\n",
    "\n",
    "        return prr.pearsonr(X, Y)\n",
    "        # GET SUBTABLE CONTAINING ONLY THE INDEPENDENT COLUMN AND DEPENDENT COLUMN\n",
    "        # df2 = self.data.iloc[:, [independentCol, dependentCol]]\n",
    "        # CREATE FITTED MODEL USING ORDINARY LEAST SQUARES REGRESSION\n",
    "        # lm = smf.ols(formula='Sales ~ TV', data=df2).fit()\n",
    "        # RETURN RSQUARED VALUE FOR THE MODEL\n",
    "        # return lm.rsquared\n",
    "\n",
    "    # print collinearities (r^2 value) of each pair of columns\n",
    "    def printAllCollinearities(self):\n",
    "        array = self.data.values\n",
    "        length_col = self.data.shape[1]\n",
    "        while(0 != length_col-1):\n",
    "            for x in range(0, length_col-1):\n",
    "                X = array[:, x]\n",
    "                Y = array[:, length_col-1]\n",
    "\n",
    "                print(\"Collinearity between \"+self.data.columns.values[x]+\" & \"+self.data.columns.values[length_col-1]+\" = \"+str(prr.pearsonr(X, Y)))\n",
    "            length_col -= 1\n",
    "\n",
    "    def getSubTable(self, col_names):\n",
    "        array = self.data\n",
    "        return array.loc[:, col_names]\n",
    "            \n",
    "    def getFittedRegressionModel(self, col_names, dependent_col_name):\n",
    "        array = self.data\n",
    "        X = array.loc[:, col_names]\n",
    "        Y = array.loc[:, dependent_col_name]\n",
    "        model = linear_model.LinearRegression()\n",
    "        model.fit(X, Y)\n",
    "        print(\"R^2 score: \"+str(model.score(X, Y)))\n",
    "        m = model.coef_\n",
    "        b = model.intercept_\n",
    "        # print(\"Intercept=\" + str(b) + \" Coefficient=\" + str(m))\n",
    "        return model\n",
    "\n",
    "    def getBestFeaturesRCEV(self, col_names, dependent_col_name):\n",
    "        array = self.data\n",
    "        X = array.loc[:, col_names]\n",
    "        Y = array.loc[:, dependent_col_name]\n",
    "        feature_names = self.data.columns.values\n",
    "        model = linear_model.LinearRegression()\n",
    "        selector = RFECV(estimator=model, cv=10)\n",
    "        selector.fit(X, Y)\n",
    "        print(selector.ranking_)\n",
    "        print(\"Optimal number of features3: \" + str(selector.n_features_))\n",
    "        print(sorted(zip(map(lambda x: round(x, 4), selector.ranking_), col_names)))\n",
    "        print(selector.support_)\n",
    "        \n",
    "    def getXVals(self, col_names):\n",
    "        #array = self.data\n",
    "        array = self.data.copy()\n",
    "        X = array.loc[:, col_names]\n",
    "        return X\n",
    "    \n",
    "    def getYVals(self, col_names):\n",
    "        #array = self.data\n",
    "        array = self.data.copy()\n",
    "        X = array.loc[:, col_names]\n",
    "        return X\n",
    "        \n",
    "    def kFoldTest(self, col_names, dependent_col_name, test_row_num):\n",
    "        #array = self.data\n",
    "        array = self.data.copy()\n",
    "        array = array.drop(array.index[test_row_num])\n",
    "        \n",
    "        X = array.loc[:, col_names]\n",
    "        Y = array.loc[:, dependent_col_name]\n",
    "        model = linear_model.LinearRegression()\n",
    "        model.fit(X, Y)\n",
    "        m = model.coef_\n",
    "        b = model.intercept_\n",
    "        return model\n",
    "    \n",
    "    def kFoldTest2(self, col_names, dependent_col_name, slice_size):\n",
    "        #array = self.data\n",
    "        array = self.data.copy()\n",
    "        original = self.data.copy()\n",
    "        iterations = len(array.index)/slice_size\n",
    "        if(len(array.index)%slice_size>0):\n",
    "            iterations = int(iterations)+1\n",
    "            \n",
    "        for j in range(0, iterations):\n",
    "            for i in range(0,len(array.index)):\n",
    "                if (i/slice_size==j):\n",
    "                    array = array.drop(array.index[i])\n",
    "\n",
    "            X = original.loc[:, col_names]\n",
    "            Y = original.loc[:, dependent_col_name]\n",
    "            model = linear_model.LinearRegression()\n",
    "            model.fit(X, Y)\n",
    "            m = model.coef_\n",
    "            b = model.intercept_\n",
    "            \n",
    "            predicted_vals = []\n",
    "            observed_vals = []\n",
    "            array = self.data.copy()\n",
    "            size = 0\n",
    "            for i in range(0,len(array.index)):\n",
    "                #print(str(i)+\" / \"+str(slice_size)+\" == \"+str(j))\n",
    "                if (int(i/slice_size)==j):\n",
    "                    #print(\"WENT IN!\")\n",
    "                    size += 1\n",
    "                    print(\"length:\"+str(len(X.index))+\" index:\"+str(i))\n",
    "                    predicted_vals.append(model.predict(X.iloc[i , :].values.reshape(1,-1))[0])\n",
    "                    print(Y.iloc[i])\n",
    "                    observed_vals.append(Y.iloc[i])\n",
    "            rms = sqrt(mean_squared_error(observed_vals, predicted_vals))\n",
    "            rms = rms*((100*slice_size)/sum(observed_vals))\n",
    "            print(\"Trained using slice \"+str(j)+\": RMSE = \"+str(rms))  \n",
    "            print(\"slice size: \"+str(size))\n",
    "            \n",
    "    def statsmodelsRegressionSummary(self, col_names, dependent_col_name):\n",
    "        array = self.data.copy()\n",
    "        X = array.loc[:, col_names]\n",
    "        Y = array.loc[:, dependent_col_name]\n",
    "        result = sm.OLS( Y, X ).fit()\n",
    "        return result\n",
    "\n",
    "        \n"
   ]
  },
  {
   "cell_type": "markdown",
   "metadata": {
    "deletable": true,
    "editable": true
   },
   "source": [
    "## Trip Generation Class"
   ]
  },
  {
   "cell_type": "code",
   "execution_count": null,
   "metadata": {
    "collapsed": false,
    "deletable": true,
    "editable": true
   },
   "outputs": [],
   "source": [
    "class TripGeneration:\n",
    "\n",
    "    def __init__(self, pathToData, dependent_col_name):\n",
    "        self.pathToData = pathToData\n",
    "        self.dependent_col_name = dependent_col_name\n",
    "        self.production_col_names = []\n",
    "        self.production_constant = 0\n",
    "        self.production_intercepts = []\n",
    "        self.attraction_col_names = []\n",
    "        self.attraction_constant = 0\n",
    "        self.attraction_intercepts = []\n",
    "        self.production_score = 0\n",
    "        self.attraction_score = 0\n",
    "        self.balancing_factor = 0\n",
    "        \n",
    "    def printAttributes(self):\n",
    "        print(\"Attributes\")\n",
    "        print(self.production_col_names)\n",
    "        print(self.production_constant)\n",
    "        print(self.production_intercepts)\n",
    "        print(self.attraction_col_names)\n",
    "        print(self.attraction_constant)\n",
    "        print(self.attraction_intercepts)\n",
    "\n",
    "    def setProductionParameters(self, production_col_names, production_constant, production_intercepts):\n",
    "        self.production_col_names = production_col_names\n",
    "        self.production_constant = production_constant\n",
    "        self.production_intercepts = production_intercepts\n",
    "        \n",
    "    def setAttractionParameters(self, attraction_col_names, attraction_constant, attraction_intercepts):\n",
    "        self.attraction_col_names = attraction_col_names\n",
    "        self.attraction_constant = attraction_constant\n",
    "        self.attraction_intercepts = attraction_intercepts\n",
    "        \n",
    "    \n",
    "    # get trip production score for 'zone'\n",
    "    def getWholeTripProductionScore(self):\n",
    "        data = pd.read_csv(self.pathToData, index_col=0)\n",
    "        # implement specific way to get sub-table(data) just for specific 'zone' i.e: all rows related to zone1\n",
    "        sub_table = data.loc[:, self.production_col_names]\n",
    "        length_rows = sub_table.shape[0]\n",
    "        for x in range(0, length_rows):\n",
    "            row_values = sub_table.iloc[x, :].values\n",
    "            self.production_score += self.production_constant\n",
    "            for j in range(0,len(row_values)):\n",
    "                self.production_score += int(row_values[j]*self.production_intercepts[j])\n",
    "            #print(\"SELFPROD CURR: \"+str(self.production_score))\n",
    "        return int(self.production_score)\n",
    "\n",
    "    # get trip attraction score for 'zone'\n",
    "    def getWholeTripAttractionScore(self):\n",
    "        data = pd.read_csv(self.pathToData, index_col=0)\n",
    "        # implement specific way to get sub-table(data) just for specific 'zone' i.e: all rows related to zone1\n",
    "        sub_table = data.loc[:, self.attraction_col_names]\n",
    "        length_rows = sub_table.shape[0]\n",
    "        for x in range(0, length_rows):\n",
    "            row_values = sub_table.iloc[x, :].values\n",
    "            self.attraction_score += self.attraction_constant\n",
    "            for j in range(0,len(row_values)):\n",
    "                self.attraction_score += int(row_values[j]*self.attraction_intercepts[j])\n",
    "            #print(\"SELFATTR CURR: \"+str(self.attraction_score))\n",
    "        return int(self.attraction_score)\n",
    "    \n",
    "    def getZoneTripProductionScore(self, zone_number):\n",
    "        self.production_score = 0\n",
    "        data = pd.read_csv(self.pathToData, index_col=0)\n",
    "        # implement specific way to get sub-table(data) just for specific 'zone' i.e: all rows related to zone1\n",
    "        row_values = data.loc[zone_number, self.production_col_names].values\n",
    "        \n",
    "        self.production_score += self.production_constant\n",
    "        for j in range(0,len(row_values)):\n",
    "            self.production_score += row_values[j]*self.production_intercepts[j]\n",
    "\n",
    "        return self.production_score\n",
    "    \n",
    "    def getZoneTripAttractionScore(self, zone_number):\n",
    "        self.attraction_score = 0\n",
    "        data = pd.read_csv(self.pathToData, index_col=0)\n",
    "        # implement specific way to get sub-table(data) just for specific 'zone' i.e: all rows related to zone1\n",
    "        row_values = data.loc[zone_number, self.production_col_names].values\n",
    "        \n",
    "        self.attraction_score += self.attraction_constant\n",
    "        for j in range(0,len(row_values)):\n",
    "            self.attraction_score += row_values[j]*self.attraction_intercepts[j]\n",
    "\n",
    "        return self.attraction_score\n",
    "\n",
    "    def doTripBalancing(self):\n",
    "        self.balancing_factor = self.production_score/self.attraction_score\n",
    "        self.attraction_score = self.balancing_factor * self.attraction_score\n",
    "        self.production_score = self.balancing_factor * self.production_score\n",
    "        # Implement trip balancing here VOID\n",
    "        \n",
    "    def getBalancingFactor(self):\n",
    "        return self.balancing_factor\n",
    "    \n",
    "    def printAllZonalTripsProductionAttraction(self):\n",
    "        productionScores = []\n",
    "        attractionScores = []\n",
    "        df = pd.DataFrame(columns=('Trip Production', 'Trip Atraction'))\n",
    "        total_production = 0\n",
    "        total_attraction = 0\n",
    "        data = pd.read_csv(self.pathToData, index_col=0)\n",
    "        length_rows = data.shape[0]\n",
    "        for x in range(1, length_rows+1):\n",
    "            attr_score = 0\n",
    "            prod_score = 0\n",
    "            attr_row_values = data.loc[x, self.attraction_col_names].values\n",
    "            prod_row_values = data.loc[x, self.production_col_names].values\n",
    "            attr_score += self.attraction_constant\n",
    "            prod_score += self.production_constant\n",
    "            for j in range(0,len(attr_row_values)):\n",
    "                attr_score += attr_row_values[j]*self.attraction_intercepts[j]\n",
    "            total_attraction += attr_score\n",
    "            for j in range(0,len(prod_row_values)):\n",
    "                prod_score += prod_row_values[j]*self.production_intercepts[j]\n",
    "            total_production += prod_score\n",
    "            df.loc[x] = [int(prod_score),int(attr_score)]\n",
    "            productionScores.append(int(prod_score))\n",
    "            attractionScores.append(int(attr_score))\n",
    "            #print(\"Zone \"+str(x)+\": Production=\"+str(prod_score)+\" , Attraction=\"+str(attr_score))\n",
    "        return df, productionScores, attractionScores;\n",
    "        #print(\"Total Production=\"+str(total_production)+\" , Total Attraction=\"+str(total_attraction))\n",
    "        \n",
    "    def getTripProductionScores(self):\n",
    "        productionScores = []\n",
    "        total_production = 0\n",
    "        total_attraction = 0\n",
    "        data = pd.read_csv(self.pathToData, index_col=0)\n",
    "        length_rows = data.shape[0]\n",
    "        for x in range(1, length_rows+1):\n",
    "            prod_score = 0\n",
    "            prod_row_values = data.loc[x, self.production_col_names].values\n",
    "            prod_score += self.production_constant\n",
    "            for j in range(0,len(prod_row_values)):\n",
    "                prod_score += prod_row_values[j]*self.production_intercepts[j]\n",
    "            total_production += prod_score\n",
    "            productionScores.append(prod_score)\n",
    "        return productionScores\n",
    "    \n",
    "    def getProductionSubTable(self):\n",
    "        data = pd.read_csv(self.pathToData, index_col=0)\n",
    "        return data.loc[:, self.production_col_names]\n",
    "\n",
    "        \n"
   ]
  },
  {
   "cell_type": "markdown",
   "metadata": {
    "collapsed": true,
    "deletable": true,
    "editable": true
   },
   "source": [
    "# DATA\n",
    "### Expected available parameters from the MMUTIS Update and Enhancement Project (MUCEP) Database"
   ]
  },
  {
   "cell_type": "code",
   "execution_count": null,
   "metadata": {
    "collapsed": false,
    "deletable": true,
    "editable": true
   },
   "outputs": [],
   "source": [
    "dummy_data = pd.read_csv('DummyDataRegression.csv', index_col=0)\n",
    "dummy_data.head()"
   ]
  },
  {
   "cell_type": "markdown",
   "metadata": {
    "deletable": true,
    "editable": true
   },
   "source": [
    "### Fused Zonal and Amenity data (OpenStreetMap)"
   ]
  },
  {
   "cell_type": "code",
   "execution_count": null,
   "metadata": {
    "collapsed": false,
    "deletable": true,
    "editable": true
   },
   "outputs": [],
   "source": [
    "dummy_data_amenities = pd.read_csv('DummyDataRegressionAmenitiex.csv', index_col=0)\n",
    "dummy_data_amenities.head()"
   ]
  },
  {
   "cell_type": "markdown",
   "metadata": {
    "deletable": true,
    "editable": true
   },
   "source": [
    "# DATA PREPARATION (Example Plan)"
   ]
  },
  {
   "cell_type": "markdown",
   "metadata": {
    "collapsed": true,
    "deletable": true,
    "editable": true
   },
   "source": [
    "## Collinearity Checking using Peasrson Correlation (correlation coefficient, 2-tailed p-value)"
   ]
  },
  {
   "cell_type": "code",
   "execution_count": null,
   "metadata": {
    "collapsed": false,
    "deletable": true,
    "editable": true
   },
   "outputs": [],
   "source": [
    "data_filepath = \"DummyDataRegression.csv\"\n",
    "regression = Regression(data_filepath)\n",
    "array = regression.getDataFrame().values\n",
    "print(\"All collinearities:\")\n",
    "regression.printAllCollinearities()"
   ]
  },
  {
   "cell_type": "markdown",
   "metadata": {
    "deletable": true,
    "editable": true
   },
   "source": [
    "### Checking for Optimal Features using Recursive Feature Elimination with Cross-Validation"
   ]
  },
  {
   "cell_type": "code",
   "execution_count": null,
   "metadata": {
    "collapsed": false,
    "deletable": true,
    "editable": true
   },
   "outputs": [],
   "source": [
    "col_names = regression.getDataFrame().columns.values[0:11]\n",
    "print(str(1))\n",
    "dep_col_name = \"trips\"\n",
    "print(str(2))\n",
    "regression.getBestFeaturesRCEV(col_names, dep_col_name)\n",
    "print(str(3))\n",
    "col_names"
   ]
  },
  {
   "cell_type": "code",
   "execution_count": null,
   "metadata": {
    "collapsed": false,
    "deletable": true,
    "editable": true
   },
   "outputs": [],
   "source": [
    "data_filepath2 = \"DummyDataRegressionAmenitiex.csv\"\n",
    "regression2 = Regression(data_filepath2)\n",
    "array2 = regression2.getDataFrame().values\n",
    "print(\"All collinearities:\")\n",
    "regression2.printAllCollinearities()"
   ]
  },
  {
   "cell_type": "code",
   "execution_count": null,
   "metadata": {
    "collapsed": false,
    "deletable": true,
    "editable": true
   },
   "outputs": [],
   "source": [
    "col_names2 = regression2.getDataFrame().columns.values[1:15]\n",
    "print(str(1))\n",
    "dep_col_name2 = \"trips\"\n",
    "print(str(2))\n",
    "regression2.getBestFeaturesRCEV(col_names2, dep_col_name2)\n",
    "print(str(3))\n",
    "col_names2"
   ]
  },
  {
   "cell_type": "code",
   "execution_count": null,
   "metadata": {
    "collapsed": false,
    "deletable": true,
    "editable": true
   },
   "outputs": [],
   "source": [
    " 'util_area',\n",
    "       'othe_area'\n",
    "        \n",
    "\\n Correlation coeff=0.9125, P-value=3.31e-07'"
   ]
  },
  {
   "cell_type": "code",
   "execution_count": null,
   "metadata": {
    "collapsed": false,
    "deletable": true,
    "editable": true
   },
   "outputs": [],
   "source": [
    "df = regression2.getDataFrame()\n",
    "plt.plot(df[\"trips\"], df[\"comm_area\"], 'bo')\n",
    "x = df[\"trips\"]\n",
    "y = df[\"comm_area\"]\n",
    "fit = np.polyfit(x, y, deg=1)\n",
    "plt.plot(x, fit[0] * x + fit[1], color='red')\n",
    "plt.xlabel('trips')\n",
    "plt.ylabel('comm_area')\n",
    "plt.title('Observed Data (Trips produced & # of commercial area)\\n Correlation coeff=0.7024, P-value=0.001667')\n",
    "plt.grid(True)\n",
    "# plt.axis([0, 220, 0, 120])\n",
    "plt.show()"
   ]
  },
  {
   "cell_type": "code",
   "execution_count": null,
   "metadata": {
    "collapsed": false,
    "deletable": true,
    "editable": true
   },
   "outputs": [],
   "source": [
    "df = regression2.getDataFrame()\n",
    "plt.plot(df[\"trips\"], df[\"park_area\"], 'bo')\n",
    "x = df[\"trips\"]\n",
    "y = df[\"park_area\"]\n",
    "fit = np.polyfit(x, y, deg=1)\n",
    "plt.plot(x, fit[0] * x + fit[1], color='red')\n",
    "plt.xlabel('trips')\n",
    "plt.ylabel('park_area')\n",
    "plt.title('Observed Data (Trips produced & # of park area)\\n Correlation coeff=0.9400, P-value= 2.10e-08')\n",
    "plt.grid(True)\n",
    "# plt.axis([0, 220, 0, 120])\n",
    "plt.show()"
   ]
  },
  {
   "cell_type": "code",
   "execution_count": null,
   "metadata": {
    "collapsed": false,
    "deletable": true,
    "editable": true
   },
   "outputs": [],
   "source": [
    "df = regression2.getDataFrame()\n",
    "plt.plot(df[\"trips\"], df[\"indu_area\"], 'bo')\n",
    "x = df[\"trips\"]\n",
    "y = df[\"indu_area\"]\n",
    "fit = np.polyfit(x, y, deg=1)\n",
    "plt.plot(x, fit[0] * x + fit[1], color='red')\n",
    "plt.xlabel('trips')\n",
    "plt.ylabel('indu_area')\n",
    "plt.title('Observed Data (Trips produced & # of industrial area)\\n Correlation coeff=0.1509, P-value=0.5632')\n",
    "plt.grid(True)\n",
    "# plt.axis([0, 220, 0, 120])\n",
    "plt.show()"
   ]
  },
  {
   "cell_type": "code",
   "execution_count": null,
   "metadata": {
    "collapsed": false,
    "deletable": true,
    "editable": true
   },
   "outputs": [],
   "source": [
    "df = regression2.getDataFrame()\n",
    "plt.plot(df[\"trips\"], df[\"agri_area\"], 'bo')\n",
    "x = df[\"trips\"]\n",
    "y = df[\"agri_area\"]\n",
    "fit = np.polyfit(x, y, deg=1)\n",
    "plt.plot(x, fit[0] * x + fit[1], color='red')\n",
    "plt.xlabel('trips')\n",
    "plt.ylabel('agri_area')\n",
    "plt.title('Observed Data (Trips produced & # of agricultural area)\\n Correlation coeff=0.7027, P-value=0.0017')\n",
    "plt.grid(True)\n",
    "# plt.axis([0, 220, 0, 120])\n",
    "plt.show()"
   ]
  },
  {
   "cell_type": "code",
   "execution_count": null,
   "metadata": {
    "collapsed": false,
    "deletable": true,
    "editable": true
   },
   "outputs": [],
   "source": [
    "df = regression2.getDataFrame()\n",
    "plt.plot(df[\"trips\"], df[\"resi_area\"], 'bo')\n",
    "x = df[\"trips\"]\n",
    "y = df[\"resi_area\"]\n",
    "fit = np.polyfit(x, y, deg=1)\n",
    "plt.plot(x, fit[0] * x + fit[1], color='red')\n",
    "plt.xlabel('trips')\n",
    "plt.ylabel('resi_area')\n",
    "plt.title('Observed Data (Trips produced & # of residential area)\\n Correlation coeff=0.7443, P-value=0.0006')\n",
    "plt.grid(True)\n",
    "# plt.axis([0, 220, 0, 120])\n",
    "plt.show()"
   ]
  },
  {
   "cell_type": "code",
   "execution_count": null,
   "metadata": {
    "collapsed": false,
    "deletable": true,
    "editable": true
   },
   "outputs": [],
   "source": [
    "df = regression2.getDataFrame()\n",
    "plt.plot(df[\"trips\"], df[\"util_area\"], 'bo')\n",
    "x = df[\"trips\"]\n",
    "y = df[\"util_area\"]\n",
    "fit = np.polyfit(x, y, deg=1)\n",
    "plt.plot(x, fit[0] * x + fit[1], color='red')\n",
    "plt.xlabel('trips')\n",
    "plt.ylabel('util_area')\n",
    "plt.title('Observed Data (Trips produced & # of utility area)\\n Correlation coeff=0.8517, P-value=1.43e-05')\n",
    "plt.grid(True)\n",
    "# plt.axis([0, 220, 0, 120])\n",
    "plt.show()"
   ]
  },
  {
   "cell_type": "markdown",
   "metadata": {
    "deletable": true,
    "editable": true
   },
   "source": [
    "### Verify Collinearity through Scatter Plots"
   ]
  },
  {
   "cell_type": "code",
   "execution_count": null,
   "metadata": {
    "collapsed": false,
    "deletable": true,
    "editable": true
   },
   "outputs": [],
   "source": [
    "df = regression2.getDataFrame()\n",
    "plt.plot(df[\"trips\"], df[\"othe_amt\"], 'bo')\n",
    "x = df[\"trips\"]\n",
    "y = df[\"othe_amt\"]\n",
    "fit = np.polyfit(x, y, deg=1)\n",
    "plt.plot(x, fit[0] * x + fit[1], color='red')\n",
    "plt.xlabel('trips')\n",
    "plt.ylabel('othe_amt')\n",
    "plt.title('Observed Data (trips x othe_amt)')\n",
    "plt.grid(True)\n",
    "# plt.axis([0, 220, 0, 120])\n",
    "plt.show()"
   ]
  },
  {
   "cell_type": "code",
   "execution_count": null,
   "metadata": {
    "collapsed": false,
    "deletable": true,
    "editable": true
   },
   "outputs": [],
   "source": [
    "df = regression2.getDataFrame()\n",
    "plt.plot(df[\"trips\"], df[\"sust_amt\"], 'bo')\n",
    "x = df[\"trips\"]\n",
    "y = df[\"sust_amt\"]\n",
    "fit = np.polyfit(x, y, deg=1)\n",
    "plt.plot(x, fit[0] * x + fit[1], color='red')\n",
    "plt.xlabel('trips')\n",
    "plt.ylabel('sust_amt')\n",
    "plt.title('Observed Data (trips x sust_amt)')\n",
    "plt.grid(True)\n",
    "# plt.axis([0, 220, 0, 120])\n",
    "plt.show()"
   ]
  },
  {
   "cell_type": "code",
   "execution_count": null,
   "metadata": {
    "collapsed": false,
    "deletable": true,
    "editable": true
   },
   "outputs": [],
   "source": [
    "df = regression2.getDataFrame()\n",
    "plt.plot(df[\"trips\"], df[\"educ_amt\"], 'bo')\n",
    "x = df[\"trips\"]\n",
    "y = df[\"educ_amt\"]\n",
    "fit = np.polyfit(x, y, deg=1)\n",
    "plt.plot(x, fit[0] * x + fit[1], color='red')\n",
    "plt.xlabel('trips')\n",
    "plt.ylabel('educ_amt')\n",
    "plt.title('Observed Data (trips x educ_amt)')\n",
    "plt.grid(True)\n",
    "# plt.axis([0, 220, 0, 120])\n",
    "plt.show()"
   ]
  },
  {
   "cell_type": "code",
   "execution_count": null,
   "metadata": {
    "collapsed": false,
    "deletable": true,
    "editable": true
   },
   "outputs": [],
   "source": [
    "df = regression2.getDataFrame()\n",
    "plt.plot(df[\"trips\"], df[\"tran_amt\"], 'bo')\n",
    "x = df[\"trips\"]\n",
    "y = df[\"tran_amt\"]\n",
    "fit = np.polyfit(x, y, deg=1)\n",
    "plt.plot(x, fit[0] * x + fit[1], color='red')\n",
    "plt.xlabel('trips')\n",
    "plt.ylabel('tran_amt')\n",
    "plt.title('Observed Data (trips x tran_amt)')\n",
    "plt.grid(True)\n",
    "# plt.axis([0, 220, 0, 120])\n",
    "plt.show()"
   ]
  },
  {
   "cell_type": "code",
   "execution_count": null,
   "metadata": {
    "collapsed": false,
    "deletable": true,
    "editable": true
   },
   "outputs": [],
   "source": [
    "df = regression2.getDataFrame()\n",
    "plt.plot(df[\"trips\"], df[\"heal_amt\"], 'bo')\n",
    "x = df[\"trips\"]\n",
    "y = df[\"heal_amt\"]\n",
    "fit = np.polyfit(x, y, deg=1)\n",
    "plt.plot(x, fit[0] * x + fit[1], color='red')\n",
    "plt.xlabel('trips')\n",
    "plt.ylabel('heal_amt')\n",
    "plt.title('Observed Data (trips x heal_amt)')\n",
    "plt.grid(True)\n",
    "# plt.axis([0, 220, 0, 120])\n",
    "plt.show()"
   ]
  },
  {
   "cell_type": "code",
   "execution_count": null,
   "metadata": {
    "collapsed": false,
    "deletable": true,
    "editable": true
   },
   "outputs": [],
   "source": [
    "df = regression2.getDataFrame()\n",
    "plt.plot(df[\"trips\"], df[\"fina_amt\"], 'bo')\n",
    "x = df[\"trips\"]\n",
    "y = df[\"fina_amt\"]\n",
    "fit = np.polyfit(x, y, deg=1)\n",
    "plt.plot(x, fit[0] * x + fit[1], color='red')\n",
    "plt.xlabel('trips')\n",
    "plt.ylabel('fina_amt')\n",
    "plt.title('Observed Data (trips x fina_amt)')\n",
    "plt.grid(True)\n",
    "# plt.axis([0, 220, 0, 120])\n",
    "plt.show()"
   ]
  },
  {
   "cell_type": "code",
   "execution_count": null,
   "metadata": {
    "collapsed": false,
    "deletable": true,
    "editable": true
   },
   "outputs": [],
   "source": [
    "df = regression2.getDataFrame()\n",
    "plt.plot(df[\"trips\"], df[\"ente_amt\"], 'bo')\n",
    "x = df[\"trips\"]\n",
    "y = df[\"ente_amt\"]\n",
    "fit = np.polyfit(x, y, deg=1)\n",
    "plt.plot(x, fit[0] * x + fit[1], color='red')\n",
    "plt.xlabel('trips')\n",
    "plt.ylabel('ente_amt')\n",
    "plt.title('Observed Data (trips x ente_amt)')\n",
    "plt.grid(True)\n",
    "# plt.axis([0, 220, 0, 120])\n",
    "plt.show()"
   ]
  },
  {
   "cell_type": "code",
   "execution_count": null,
   "metadata": {
    "collapsed": false,
    "deletable": true,
    "editable": true
   },
   "outputs": [],
   "source": [
    "df = regression2.getDataFrame()\n",
    "plt.plot(df[\"trips\"], df[\"comm_amt\"], 'bo')\n",
    "x = df[\"trips\"]\n",
    "y = df[\"comm_amt\"]\n",
    "fit = np.polyfit(x, y, deg=1)\n",
    "plt.plot(x, fit[0] * x + fit[1], color='red')\n",
    "plt.xlabel('trips')\n",
    "plt.ylabel('comm_amt')\n",
    "plt.title('Observed Data (trips x comm_amt)')\n",
    "plt.grid(True)\n",
    "# plt.axis([0, 220, 0, 120])\n",
    "plt.show()"
   ]
  },
  {
   "cell_type": "code",
   "execution_count": null,
   "metadata": {
    "collapsed": false,
    "deletable": true,
    "editable": true
   },
   "outputs": [],
   "source": [
    "df = regression2.getDataFrame()\n",
    "plt.plot(df[\"trips\"], df[\"comm_amt\"], 'bo')\n",
    "x = df[\"trips\"]\n",
    "y = df[\"comm_amt\"]\n",
    "fit = np.polyfit(x, y, deg=1)\n",
    "plt.plot(x, fit[0] * x + fit[1], color='red')\n",
    "plt.xlabel('trips')\n",
    "plt.ylabel('comm_amt')\n",
    "plt.title('Observed Data (trips x comm_amt)')\n",
    "plt.grid(True)\n",
    "# plt.axis([0, 220, 0, 120])\n",
    "plt.show()"
   ]
  },
  {
   "cell_type": "code",
   "execution_count": null,
   "metadata": {
    "collapsed": false,
    "deletable": true,
    "editable": true
   },
   "outputs": [],
   "source": [
    "df = regression.getDataFrame()\n",
    "plt.plot(df[\"trips\"], df[\"agri_area\"], 'bo')\n",
    "x = df[\"trips\"]\n",
    "y = df[\"agri_area\"]\n",
    "fit = np.polyfit(x, y, deg=1)\n",
    "plt.plot(x, fit[0] * x + fit[1], color='red')\n",
    "plt.xlabel('trips')\n",
    "plt.ylabel('agri_area')\n",
    "plt.title('Observed Data (trips x agri_area)')\n",
    "plt.grid(True)\n",
    "# plt.axis([0, 220, 0, 120])\n",
    "plt.show()"
   ]
  },
  {
   "cell_type": "code",
   "execution_count": null,
   "metadata": {
    "collapsed": false,
    "deletable": true,
    "editable": true
   },
   "outputs": [],
   "source": [
    "Collinearity between no_hh & trips = (0.92914760415527753, 7.1205170410730196e-08)\n",
    "Collinearity between avg_income & trips = (0.91992035789848337, 1.7354578828442896e-07)\n",
    "Collinearity between mem_no & trips = (0.91247798270778113, 3.305852610863916e-07)\n",
    "Collinearity between no_mem_educwork & trips = (0.91764041951966036, 2.1277373172145904e-07)"
   ]
  },
  {
   "cell_type": "code",
   "execution_count": null,
   "metadata": {
    "collapsed": false,
    "deletable": true,
    "editable": true
   },
   "outputs": [],
   "source": [
    "df = regression.getDataFrame()\n",
    "plt.plot(df[\"trips\"], df[\"no_hh\"], 'bo')\n",
    "x = df[\"trips\"]\n",
    "y = df[\"no_hh\"]\n",
    "fit = np.polyfit(x, y, deg=1)\n",
    "plt.plot(x, fit[0] * x + fit[1], color='red')\n",
    "plt.xlabel('trips')\n",
    "plt.ylabel('no_hh')\n",
    "plt.title('Observed Data (Trips produced & # of households)\\n Correlation coeff=0.9291, P-value=7.12e-08')\n",
    "plt.grid(True)\n",
    "# plt.axis([0, 220, 0, 120])\n",
    "plt.show()"
   ]
  },
  {
   "cell_type": "code",
   "execution_count": null,
   "metadata": {
    "collapsed": false,
    "deletable": true,
    "editable": true
   },
   "outputs": [],
   "source": [
    "df = regression.getDataFrame()\n",
    "plt.plot(df[\"trips\"], df[\"mem_no\"], 'bo')\n",
    "x = df[\"trips\"]\n",
    "y = df[\"mem_no\"]\n",
    "fit = np.polyfit(x, y, deg=1)\n",
    "plt.plot(x, fit[0] * x + fit[1], color='red')\n",
    "plt.xlabel('trips')\n",
    "plt.ylabel('mem_no')\n",
    "plt.title('Observed Data (Trips produced & # of household members)\\n Correlation coeff=0.9125, P-value=3.31e-07')\n",
    "plt.grid(True)\n",
    "# plt.axis([0, 220, 0, 120])\n",
    "plt.show()"
   ]
  },
  {
   "cell_type": "code",
   "execution_count": null,
   "metadata": {
    "collapsed": false,
    "deletable": true,
    "editable": true
   },
   "outputs": [],
   "source": [
    "df = regression.getDataFrame()\n",
    "plt.plot(df[\"trips\"], df[\"avg_income\"], 'bo')\n",
    "x = df[\"trips\"]\n",
    "y = df[\"avg_income\"]\n",
    "fit = np.polyfit(x, y, deg=1)\n",
    "plt.plot(x, fit[0] * x + fit[1], color='red')\n",
    "plt.xlabel('trips')\n",
    "plt.ylabel('avg_income')\n",
    "plt.title('Observed Data (Trips produced & Average income)\\n Correlation coeff=0.9199, P-value=1.73e-07')\n",
    "plt.grid(True)\n",
    "# plt.axis([0, 220, 0, 120])\n",
    "plt.show()"
   ]
  },
  {
   "cell_type": "code",
   "execution_count": null,
   "metadata": {
    "collapsed": false,
    "deletable": true,
    "editable": true
   },
   "outputs": [],
   "source": [
    "df = regression.getDataFrame()\n",
    "plt.plot(df[\"trips\"], df[\"resi_area\"], 'bo')\n",
    "x = df[\"trips\"]\n",
    "y = df[\"resi_area\"]\n",
    "fit = np.polyfit(x, y, deg=1)\n",
    "plt.plot(x, fit[0] * x + fit[1], color='red')\n",
    "plt.xlabel('trips')\n",
    "plt.ylabel('resi_area')\n",
    "plt.title('Observed Data (trips x resi_area)')\n",
    "plt.grid(True)\n",
    "# plt.axis([0, 220, 0, 120])\n",
    "plt.show()"
   ]
  },
  {
   "cell_type": "code",
   "execution_count": null,
   "metadata": {
    "collapsed": false,
    "deletable": true,
    "editable": true
   },
   "outputs": [],
   "source": [
    "df = regression.getDataFrame()\n",
    "plt.plot(df[\"trips\"], df[\"no_mem_educwork\"], 'bo')\n",
    "x = df[\"trips\"]\n",
    "y = df[\"no_mem_educwork\"]\n",
    "fit = np.polyfit(x, y, deg=1)\n",
    "plt.plot(x, fit[0] * x + fit[1], color='red')\n",
    "plt.xlabel('trips')\n",
    "plt.ylabel('no_mem_educwork')\n",
    "plt.title('Observed Data (Trips produced & # of working/studying household members)\\n Correlation coeff=0.9176, P-value=2.13e-07')\n",
    "plt.grid(True)\n",
    "# plt.axis([0, 220, 0, 120])\n",
    "plt.show()"
   ]
  },
  {
   "cell_type": "code",
   "execution_count": null,
   "metadata": {
    "collapsed": false,
    "deletable": true,
    "editable": true
   },
   "outputs": [],
   "source": [
    "df = regression.getDataFrame()\n",
    "plt.plot(df[\"Trips\"], df[\"Autos\"], 'bo')\n",
    "x = df[\"Trips\"]\n",
    "y = df[\"Autos\"]\n",
    "fit = np.polyfit(x, y, deg=1)\n",
    "plt.plot(x, fit[0] * x + fit[1], color='red')\n",
    "plt.xlabel('Trips')\n",
    "plt.ylabel('Establishments')\n",
    "plt.title('Observed Data (TRIPS x AUTOS)')\n",
    "plt.grid(True)\n",
    "# plt.axis([0, 220, 0, 120])\n",
    "plt.show()"
   ]
  },
  {
   "cell_type": "markdown",
   "metadata": {
    "deletable": true,
    "editable": true
   },
   "source": [
    "# Generate table that contains the aggregated information per zone, given the TAZ input file and the Households input file (income, houses, # amenities of each kind)\n",
    "\n",
    "#### Create TripGenTableModel:\n",
    "wherein its attributes are the columns in the table example (Out 348, remove trips column, shape coordinate, landuse).\n",
    "\n",
    "#### Get number of TAZs\n",
    "#### Get number of landuse per TAZ\n",
    "#### Create [ ][ ] of TripGenTableModel\n",
    "\n",
    "#### SAMPLE CODE\n",
    "TripGenTableModel tgtm = [# of TAZs][ ]\n",
    "for n in range(0,len(TAZ)):\n",
    "    LUShapes lus = getImpactingShapes(TAZ[n]) #Returns the whole shape coors of impacting landuses together with its category\n",
    "    for x in range(0, len(lus)):\n",
    "        tgtm[n][x] = new TripGenTableModel()\n",
    "        tgtm[n][x].setShapeCoordinate(TAZ[n], lus[x]) #sets a coor shape for the overlapping of the TAZ shape and landuse shape\n",
    "        \n",
    "for cbms_file in cmbs_files:\n",
    "    for row in cbms_file:\n",
    "        lat, long = getCoor(row)\n",
    "        add_info_to_respective_TGTM(lat, long, row) #adds the info of the HH to the correct zone and landuse\n",
    "        \n",
    "        \n",
    "        \n",
    "        \n",
    "\n"
   ]
  },
  {
   "cell_type": "markdown",
   "metadata": {
    "deletable": true,
    "editable": true
   },
   "source": [
    "\n",
    "\n",
    "    "
   ]
  },
  {
   "cell_type": "markdown",
   "metadata": {
    "deletable": true,
    "editable": true
   },
   "source": [
    "# Detemine landuse of each zone using the land use file"
   ]
  },
  {
   "cell_type": "markdown",
   "metadata": {
    "deletable": true,
    "editable": true
   },
   "source": [
    "# Get the corresponding trip productions and attractions per zone given the parameters"
   ]
  },
  {
   "cell_type": "code",
   "execution_count": null,
   "metadata": {
    "collapsed": true,
    "deletable": true,
    "editable": true
   },
   "outputs": [],
   "source": []
  },
  {
   "cell_type": "markdown",
   "metadata": {
    "deletable": true,
    "editable": true
   },
   "source": [
    "# MODEL FITTING"
   ]
  },
  {
   "cell_type": "markdown",
   "metadata": {
    "deletable": true,
    "editable": true
   },
   "source": [
    "### Retreival of intercepts and coefficients\n",
    "**Features for Trip production**: # of HH, # of HH members, # of employed, # of enrolled, Income, Landuse and Amenity Data\n",
    "\n",
    "**Features for Trip attraction**: # of Establishments, # of working in area, # of enrolled in area, Landuse and Amenity Data"
   ]
  },
  {
   "cell_type": "code",
   "execution_count": null,
   "metadata": {
    "collapsed": false,
    "deletable": true,
    "editable": true
   },
   "outputs": [],
   "source": [
    "dep_col_name = \"trips\"\n",
    "data_filepath = \"DummyDataRegressionHHTripsOnly2.csv\"\n",
    "regression = Regression(data_filepath)\n",
    "\n",
    "data_filepath2 = \"DummyDataRegressionAmenitiex.csv\"\n",
    "regression2 = Regression(data_filepath2)\n",
    "\n",
    "selected_feature_names = [\"no_hh\",\"avg_income\",\"mem_no\",\"no_mem_educwork\"]\n",
    "selected_feature_names_attraction = [\"sust_amt\",\"educ_amt\",\"tran_amt\",\"heal_amt\",\"fina_amt\",\"comm_amt\", \"ente_amt\",\"othe_amt\",\n",
    "                        \"comm_area\", \"park_area\",\"indu_area\",\"agri_area\",\"resi_area\",\"util_area\",\"othe_area\"]\n",
    "fitted_production_model = regression.getFittedRegressionModel(selected_feature_names, dep_col_name)\n",
    "fitted_production_model_attr = regression2.getFittedRegressionModel(selected_feature_names_attraction, dep_col_name)\n",
    "\n",
    "print(\"Prod Intercept:\"+str(fitted_production_model.intercept_)+\" Coef:\"+str(fitted_production_model.coef_))\n",
    "print(\"Attr Intercept:\"+str(fitted_production_model_attr.intercept_)+\" Coef:\"+str(fitted_production_model_attr.coef_))\n",
    "\n",
    "dummy_data = pd.read_csv('DummyDataRegressionHHTripsOnly.csv', index_col=0)\n",
    "dummy_data.head()"
   ]
  },
  {
   "cell_type": "code",
   "execution_count": null,
   "metadata": {
    "collapsed": false,
    "deletable": true,
    "editable": true
   },
   "outputs": [],
   "source": [
    "print(selected_feature_names)\n",
    "X_vals = regression.getXVals(selected_feature_names)\n",
    "Y_vals = regression.getYVals(dep_col_name)\n",
    "\n",
    "for x in range(len(X_vals.index)):\n",
    "    Predicted_vals = []\n",
    "    print(\"Test row: \"+str(x))\n",
    "    fitted_production_model2 = regression.kFoldTest(selected_feature_names, dep_col_name, x);\n",
    "    #testdframe.head()\n",
    "    #fitted_production_model2.predict(X_vals.iloc[x , :].values.reshape(1,-1))\n",
    "    for z in range(len(X_vals.index)):\n",
    "        #print(\"Actual Zone \"+str(z)+\": \"+str(Y_vals.iloc[z]))\n",
    "        #print(\"Predicted Zone \"+str(z)+\": \"+str(fitted_production_model2.predict(X_vals.iloc[z , :].values.reshape(1,-1))[0]))\n",
    "        Predicted_vals.append(fitted_production_model2.predict(X_vals.iloc[z , :].values.reshape(1,-1))[0])\n",
    "    rms = sqrt(mean_squared_error(Y_vals.values, Predicted_vals))\n",
    "    print(\"Trained using index \"+str(x)+\": RMS = \"+str(rms))"
   ]
  },
  {
   "cell_type": "code",
   "execution_count": null,
   "metadata": {
    "collapsed": false,
    "deletable": true,
    "editable": true
   },
   "outputs": [],
   "source": [
    "rms = sqrt(mean_squared_error(Y_vals.values, Predicted_vals))\n",
    "rms"
   ]
  },
  {
   "cell_type": "code",
   "execution_count": null,
   "metadata": {
    "collapsed": false,
    "deletable": true,
    "editable": true
   },
   "outputs": [],
   "source": [
    "dep_col_name = \"trips\"\n",
    "data_filepath = \"DummyDataRegression.csv\"\n",
    "regression = Regression(data_filepath)\n",
    "\n",
    "data_filepath2 = \"DummyDataRegressionAmenitiex.csv\"\n",
    "regression2 = Regression(data_filepath2)\n",
    "\n",
    "selected_feature_names = [\"no_hh\",\"avg_income\",\"mem_no\",\"no_mem_educwork\",\"comm_area\",\"park_area\", \"indu_area\",\"agri_area\",\n",
    "                         \"resi_area\", \"util_area\",\"othe_area\"]\n",
    "selected_feature_names_attraction = [\"sust_amt\",\"educ_amt\",\"tran_amt\",\"heal_amt\",\"fina_amt\",\"comm_amt\", \"ente_amt\",\"othe_amt\",\n",
    "                        \"comm_area\", \"park_area\",\"indu_area\",\"agri_area\",\"resi_area\",\"util_area\",\"othe_area\"]\n",
    "fitted_production_model = regression.getFittedRegressionModel(selected_feature_names, dep_col_name)\n",
    "fitted_production_model_attr = regression2.getFittedRegressionModel(selected_feature_names_attraction, dep_col_name)\n",
    "\n",
    "print(\"Prod Intercept:\"+str(fitted_production_model.intercept_)+\" Coef:\"+str(fitted_production_model.coef_))\n",
    "print(\"Attr Intercept:\"+str(fitted_production_model_attr.intercept_)+\" Coef:\"+str(fitted_production_model_attr.coef_))\n",
    "\n",
    "dummy_data = pd.read_csv('DummyDataRegression.csv', index_col=0)\n",
    "dummy_data.head()"
   ]
  },
  {
   "cell_type": "code",
   "execution_count": null,
   "metadata": {
    "collapsed": false,
    "deletable": true,
    "editable": true
   },
   "outputs": [],
   "source": [
    "print(selected_feature_names)\n",
    "X_vals = regression.getXVals(selected_feature_names)\n",
    "Y_vals = regression.getYVals(dep_col_name)\n",
    "\n",
    "for x in range(len(X_vals.index)):\n",
    "    Predicted_vals = []\n",
    "    print(\"Test row: \"+str(x))\n",
    "    fitted_production_model2 = regression.kFoldTest(selected_feature_names, dep_col_name, x);\n",
    "    #testdframe.head()\n",
    "    #fitted_production_model2.predict(X_vals.iloc[x , :].values.reshape(1,-1))\n",
    "    for z in range(len(X_vals.index)):\n",
    "        #print(\"Actual Zone \"+str(z)+\": \"+str(Y_vals.iloc[z]))\n",
    "        #print(\"Predicted Zone \"+str(z)+\": \"+str(fitted_production_model2.predict(X_vals.iloc[z , :].values.reshape(1,-1))[0]))\n",
    "        Predicted_vals.append(fitted_production_model2.predict(X_vals.iloc[z , :].values.reshape(1,-1))[0])\n",
    "    rms = sqrt(mean_squared_error(Y_vals.values, Predicted_vals))\n",
    "    print(\"Trained using index \"+str(x)+\": RMS = \"+str(rms))"
   ]
  },
  {
   "cell_type": "code",
   "execution_count": null,
   "metadata": {
    "collapsed": false,
    "deletable": true,
    "editable": true
   },
   "outputs": [],
   "source": [
    "print(selected_feature_names)\n",
    "X_vals = regression.getXVals(selected_feature_names)\n",
    "Y_vals = regression.getYVals(dep_col_name)\n",
    "Predicted_vals = []\n",
    "for x in range(len(X_vals.index)):\n",
    "    \n",
    "    print(\"Test row: \"+str(x))\n",
    "    fitted_production_model2 = regression.kFoldTest(selected_feature_names, dep_col_name, x);\n",
    "    #testdframe.head()\n",
    "    #fitted_production_model2.predict(X_vals.iloc[x , :].values.reshape(1,-1))\n",
    "    #fitted\n",
    "    print(\"Actual Zone \"+str(x)+\": \"+str(Y_vals.iloc[x]))\n",
    "    print(\"Predicted Zone \"+str(x)+\": \"+str(fitted_production_model2.predict(X_vals.iloc[x , :].values.reshape(1,-1))[0]))\n",
    "    Predicted_vals.append(fitted_production_model2.predict(X_vals.iloc[x , :].values.reshape(1,-1))[0])"
   ]
  },
  {
   "cell_type": "code",
   "execution_count": null,
   "metadata": {
    "collapsed": false,
    "deletable": true,
    "editable": true
   },
   "outputs": [],
   "source": [
    "rms = sqrt(mean_squared_error(Y_vals.values, Predicted_vals))\n",
    "rms"
   ]
  },
  {
   "cell_type": "code",
   "execution_count": null,
   "metadata": {
    "collapsed": false,
    "deletable": true,
    "editable": true
   },
   "outputs": [],
   "source": [
    "fitted_production_model2, testdframe = regression.kFoldTest(selected_feature_names, dep_col_name, 1)\n",
    "X_vals = regression.getXVals(selected_feature_names)\n",
    "testdframe.head()\n",
    "fitted_production_model2.predict(X_vals.loc[1 , :])"
   ]
  },
  {
   "cell_type": "markdown",
   "metadata": {
    "deletable": true,
    "editable": true
   },
   "source": [
    "### Prediction of Trip Production & Attraction using the intercepts and coefficients"
   ]
  },
  {
   "cell_type": "code",
   "execution_count": null,
   "metadata": {
    "collapsed": false,
    "deletable": true,
    "editable": true
   },
   "outputs": [],
   "source": [
    "trip_gen = TripGeneration(\"DummyDataRegressionFused.csv\", \"trips\")\n",
    "prod_col_names = selected_feature_names\n",
    "attr_col_names = selected_feature_names_attraction\n",
    "trip_gen.setProductionParameters(prod_col_names, fitted_production_model.intercept_, fitted_production_model.coef_)\n",
    "trip_gen.setAttractionParameters(attr_col_names, fitted_production_model_attr.intercept_, fitted_production_model_attr.coef_)\n",
    "print(\"Example:\")\n",
    "print(\"Overall Trip Production: \"+str(trip_gen.getWholeTripProductionScore()))\n",
    "print(\"Overall Trip Attraction: \"+str(trip_gen.getWholeTripAttractionScore()))"
   ]
  },
  {
   "cell_type": "markdown",
   "metadata": {
    "collapsed": true,
    "deletable": true,
    "editable": true
   },
   "source": [
    "### Computing for Trip Balancing Factor"
   ]
  },
  {
   "cell_type": "code",
   "execution_count": null,
   "metadata": {
    "collapsed": false,
    "deletable": true,
    "editable": true
   },
   "outputs": [],
   "source": [
    "trip_gen.doTripBalancing()\n",
    "print(\"Balancing Factor: \"+str(trip_gen.getBalancingFactor()))\n"
   ]
  },
  {
   "cell_type": "markdown",
   "metadata": {
    "deletable": true,
    "editable": true
   },
   "source": [
    "### Zonal-level Trip Production & Attraction Scores"
   ]
  },
  {
   "cell_type": "code",
   "execution_count": null,
   "metadata": {
    "collapsed": false,
    "deletable": true,
    "editable": true
   },
   "outputs": [],
   "source": [
    "zonal_df, productions, attractions = trip_gen.printAllZonalTripsProductionAttraction()\n",
    "display(zonal_df)"
   ]
  },
  {
   "cell_type": "markdown",
   "metadata": {
    "deletable": true,
    "editable": true
   },
   "source": [
    "# Model Validation"
   ]
  },
  {
   "cell_type": "code",
   "execution_count": null,
   "metadata": {
    "collapsed": false,
    "deletable": true,
    "editable": true
   },
   "outputs": [],
   "source": [
    "from sklearn.model_selection import train_test_split\n",
    "from sklearn import datasets\n",
    "from sklearn import svm\n",
    "\n",
    "fitted_production_model = regression.getFittedRegressionModel(selected_feature_names, dep_col_name)\n",
    "X_digits = regression.getSubTable(selected_feature_names)\n",
    "Y_digits = regression.getSubTable(dep_col_name)\n",
    "scores = cross_validation.cross_val_score(fitted_production_model, X_digits, Y_digits, scoring='r2', cv=10,)\n",
    "#X_digits.shape, Y_digits.shape\n",
    "scores"
   ]
  },
  {
   "cell_type": "markdown",
   "metadata": {
    "collapsed": true,
    "deletable": true,
    "editable": true
   },
   "source": [
    "# MODEL OUTPUT"
   ]
  },
  {
   "cell_type": "markdown",
   "metadata": {
    "collapsed": true,
    "deletable": true,
    "editable": true
   },
   "source": [
    "# Trip Distribution Class"
   ]
  },
  {
   "cell_type": "code",
   "execution_count": 93,
   "metadata": {
    "collapsed": false,
    "deletable": true,
    "editable": true
   },
   "outputs": [],
   "source": [
    "\n",
    "from IPython.display import HTML, display\n",
    "import math as math\n",
    "\n",
    "\n",
    "class TripDistribution:\n",
    "\n",
    "    def __init__(self, productions, attractions, travelTime, fare, income):\n",
    "        self.productions = productions\n",
    "        self.attractions = attractions\n",
    "        self.travelTime = travelTime\n",
    "        self.fare = fare\n",
    "        self.income = income\n",
    "        self.row = len(productions)\n",
    "        self.col = len(attractions)\n",
    "        self.possibleError = sum(productions) * 0.2\n",
    "        self.error = 0\n",
    "\n",
    "    def getGeneralizedCost(self, cost):\n",
    "        return 1.0 / (cost * cost)\n",
    "    \n",
    "    def computeCost(self, travelTime, fare, income):\n",
    "        costMatrix = [[1 for x in range(self.row)] for y in range(self.col)]\n",
    "        for x in range(self.row):\n",
    "            for y in range(self.col):\n",
    "                costMatrix[x][y] = travelTime[x][y] * income[x] + fare[x][y]\n",
    "        return costMatrix\n",
    "\n",
    "    def getTripDistribution(self):\n",
    "        distributions = [[self.attractions[y] for x in range(self.row)] for y in range(self.col)]\n",
    "        finalDistributions = [[self.attractions[y] for x in range(self.row)] for y in range(self.col)]\n",
    "        #costMatrix = [[1 for x in range(self.row)] for y in range(self.col)]\n",
    "        costMatrix = self.computeCost(self.travelTime, self.fare, self.income)\n",
    "        A = [1 for x in range(self.row)]\n",
    "        B = [1 for x in range(self.col)]\n",
    "        A = self.computeA(B, costMatrix)\n",
    "        B = self.computeB(A, costMatrix)\n",
    "        \n",
    "        currentBalancingFactor = 0  # 0 for A, 1 for B\n",
    "        isConvergent = False\n",
    "        shit =0\n",
    "        smallestError = 1000000000\n",
    "\n",
    "#         while isConvergent == False:\n",
    "        for x in range(10000):\n",
    "            if currentBalancingFactor == 0:\n",
    "                tempA = self.computeA(B, costMatrix)\n",
    "                A = tempA\n",
    "                currentBalancingFactor = 1\n",
    "            elif currentBalancingFactor == 1:\n",
    "                tempB = self.computeB(A, costMatrix)\n",
    "                B = tempB\n",
    "                currentBalancingFactor = 0\n",
    "            distributions = self.computeDistributions(A, B, costMatrix)\n",
    "            error = self.getError(distributions)\n",
    "            if(smallestError > error and error != 0):\n",
    "                smallestError = error\n",
    "                finalDistributions = distributions\n",
    "                self.error = error\n",
    "                shit = x\n",
    "        return finalDistributions\n",
    "\n",
    "    def computeDistributions(self, A, B, costMatrix):\n",
    "        distributions = [[self.attractions[y] for x in range(self.row)] for y in range(self.col)]\n",
    "        for x in range(self.row):\n",
    "            for y in range(self.col):\n",
    "                distributions[x][y] = round(A[x] * self.productions[x] * B[y] * self.attractions[y] * self.getGeneralizedCost(costMatrix[x][y]), 1)\n",
    "        return distributions\n",
    "\n",
    "    def checkIfConvergent(self, distributions):\n",
    "        error = self.getError(distributions)\n",
    "        if error <= self.possibleError:\n",
    "            self.error = error\n",
    "            return True\n",
    "        return False\n",
    "\n",
    "    def getError(self, distributions):\n",
    "        error = 0\n",
    "        derivedProductions = [0 for x in range(self.row)]\n",
    "        derivedAttractions = [0 for x in range(self.col)]\n",
    "\n",
    "        for x in range(self.row):\n",
    "            for y in range(self.col):\n",
    "                derivedProductions[x] += distributions[x][y]\n",
    "                derivedAttractions[y] += distributions[x][y]\n",
    "\n",
    "        for x in range(self.row):\n",
    "            error += abs(derivedProductions[x] - self.productions[x])\n",
    "            error += abs(derivedAttractions[x] - self.attractions[x])\n",
    "\n",
    "        return error\n",
    "    \n",
    "    \n",
    "    def getErrorPercentage(self):\n",
    "        return self.error/sum(self.productions)\n",
    "\n",
    "    def computeA(self, B, costMatrix):\n",
    "        A = [1 for x in range(self.row)]\n",
    "        for x in range(0, self.row):\n",
    "            sum = 0.0\n",
    "            for y in range(0, self.col):\n",
    "                sum += B[y] * self.attractions[y] * self.getGeneralizedCost(costMatrix[x][y])\n",
    "            A[x] = 1.0 / sum\n",
    "        return A\n",
    "\n",
    "    def computeB(self, A, costMatrix):\n",
    "        B = [1 for x in range(self.col)]\n",
    "        for x in range(0, self.row):\n",
    "            sum = 0.0\n",
    "            for y in range(0, self.col):\n",
    "                sum += A[y] * self.productions[y] * self.getGeneralizedCost(costMatrix[x][y])\n",
    "            B[x] = 1.0 / sum\n",
    "        return B"
   ]
  },
  {
   "cell_type": "markdown",
   "metadata": {
    "deletable": true,
    "editable": true
   },
   "source": [
    "# Data"
   ]
  },
  {
   "cell_type": "markdown",
   "metadata": {
    "deletable": true,
    "editable": true
   },
   "source": [
    "## The result from trip generation (trip production and attraction) will be passed to trip distribution"
   ]
  },
  {
   "cell_type": "code",
   "execution_count": 97,
   "metadata": {
    "collapsed": false,
    "deletable": true,
    "editable": true
   },
   "outputs": [
    {
     "name": "stdout",
     "output_type": "stream",
     "text": [
      "fare\n",
      "[[5.335, 10.67, 17.65, 25.33, 54.35, 53.55, 47.0, 48.65], [12.0, 8.185, 56.65, 16.37, 45.6, 45.14, 38.58, 40.23], [17.65, 16.22, 5.335, 10.67, 43.72, 46.08, 40.25, 40.57], [16.67, 18.67, 10.67, 5.335, 42.02, 41.64, 35.08, 36.73], [52.0, 43.33, 40.97, 39.41, 5.335, 10.67, 11.31, 8.0], [52.77, 44.1, 45.35, 40.27, 8.0, 4.0, 10.64, 8.03], [45.17, 36.5, 37.83, 34.5, 11.01, 10.24, 4.0, 8.0], [47.43, 38.76, 40.09, 36.03, 9.33, 8.0, 8.0, 4.0]]\n",
      "trave time\n",
      "[[0.225, 0.45, 0.8945000000000001, 0.9445, 2.3444999999999996, 2.3778333333333332, 1.9111666666666667, 2.061166666666667], [0.4721666666666666, 0.425, 0.8445, 0.85, 2.0721666666666665, 2.2, 1.6388333333333334, 1.7778333333333334], [0.8721666666666666, 0.8388333333333333, 0.30833333333333335, 0.6166666666666667, 2.1278333333333332, 2.3833333333333333, 1.8166666666666667, 1.9555], [0.95, 0.85, 0.6166666666666667, 0.30833333333333335, 2.0445, 2.1666666666666665, 1.6055, 1.7445], [2.5221666666666667, 2.2278333333333333, 2.2666666666666666, 2.1888333333333336, 0.2639166666666667, 0.5278333333333334, 0.6445000000000001, 0.4445], [2.6166666666666667, 2.322166666666667, 2.4945, 2.2888333333333337, 0.5333333333333333, 0.26666666666666666, 0.6945, 0.5055], [2.0, 1.7, 1.8833333333333333, 1.6111666666666666, 0.6166666666666667, 0.6778333333333334, 0.125, 0.25], [2.15, 1.85, 2.027833333333333, 1.7555, 0.48333333333333334, 0.49450000000000005, 0.25, 0.125]]\n",
      "salary\n",
      "[102.38, 69.07, 87.66, 70.77, 120.99, 127.28, 113.65, 163.42]\n",
      "Productions: [102989, 73253, 92057, 15821, 56998, 103039, 32610, 172844]\n",
      "Attractions: [79227.72, 81252.94, 76014.79, 8298.81, 37049.12, 135318.44, 48810.73, 183638.44]\n"
     ]
    }
   ],
   "source": [
    "def computeYearlyToHourlyRate(salary):\n",
    "    return salary/(30.00 * 8)\n",
    "\n",
    "def deg2rad(deg):\n",
    "    return deg * (math.pi/180)\n",
    "\n",
    "def getDistance(lat1, lng1, lat2, lng2):\n",
    "    dlon = lng2 - lng1\n",
    "    dlat = lat2 - lat1\n",
    "    a = ((math.sin(deg2rad(dlat/2)))*(math.sin(deg2rad(dlat/2)))) + math.cos(deg2rad(lat1)) *math.cos(deg2rad(lat2)) *((math.sin(deg2rad(dlon/2)))*(math.sin(deg2rad(dlon/2))))\n",
    "    c = 2 * math.atan2(math.sqrt(a), math.sqrt(1-a))\n",
    "    d =  6373* c\n",
    "    return d\n",
    "\n",
    "\n",
    "\n",
    "def computeNearestZones(lat, lng) :\n",
    "    nearestZones = [None] * len(lat)\n",
    "    for currZone in range(len(lat)):\n",
    "        shortest = 1000\n",
    "        nearestZoneIndex = 0\n",
    "        for currPoint in range(len(lat)):\n",
    "            if(currZone != currPoint): \n",
    "                distance = getDistance(lat[currZone], lng[currZone], lat[currPoint], lng[currPoint])\n",
    "                if(distance < shortest):\n",
    "                    shortest = distance\n",
    "                    nearestZoneIndex = currPoint\n",
    "        nearestZones[currZone] = nearestZoneIndex\n",
    "        shortest = 1000\n",
    "        nearestZoneIndex = 0\n",
    "    return nearestZones\n",
    "\n",
    "productions = [\n",
    "    102989, \n",
    "    73253,\n",
    "    92057,\n",
    "    15821,\n",
    "    56998, \n",
    "    103039, \n",
    "    32610, \n",
    "    172844\n",
    "]\n",
    "attractions = [\n",
    "    79227.72,\n",
    "    81252.94,\n",
    "    76014.79,\n",
    "    8298.81,\n",
    "    37049.12,\n",
    "    135318.44,\n",
    "    48810.73,\n",
    "    183638.44\n",
    "]\n",
    "\n",
    "nearestZones = [\n",
    "    0, \n",
    "    0,\n",
    "    0,\n",
    "    0,\n",
    "    0,\n",
    "    0,\n",
    "    0,\n",
    "    0\n",
    "]\n",
    "\n",
    "lat = [\n",
    "    14.711029630751996,\n",
    "    14.681442858628275,\n",
    "    14.708693067291241, \n",
    "    14.686174778272566, \n",
    "    14.660783607519472,\n",
    "    14.65615255044289,\n",
    "    14.630416868404804,\n",
    "    14.637488044822764\n",
    "]\n",
    "\n",
    "lng = [\n",
    "    120.960596201819,\n",
    "    120.98000062117379,\n",
    "    121.00151327979542,\n",
    "    121.00714359391715,\n",
    "    121.09957600978247,\n",
    "    121.11920195444038,\n",
    "    121.080185938878,\n",
    "    121.09795399889786\n",
    "]\n",
    "\n",
    "travelTime = [\n",
    "        [001.00, 027.00, 053.67, 056.67, 140.67, 142.67, 114.67, 123.67], \n",
    "        [028.33, 001.00, 050.67, 051.00, 124.33, 132.00, 098.33, 106.67],\n",
    "        [052.33, 050.33, 001.00, 037.00, 127.67, 143.00, 109.00, 117.33], \n",
    "        [057.00, 051.00, 037.00, 001.00, 122.67, 130.00, 096.33, 104.67],\n",
    "        [151.33, 133.67, 136.00, 131.33, 001.00, 031.67, 038.67, 026.67],\n",
    "        [157.00, 139.33, 149.67, 137.33, 032.00, 001.00, 041.67, 030.33],\n",
    "        [120.00, 102.00, 113.00, 096.67, 037.00, 040.67, 001.00, 015.00], \n",
    "        [129.00, 111.00, 121.67, 105.33, 029.00, 029.67, 015.00, 001.00]\n",
    "        ]\n",
    "\n",
    "fares = [\n",
    "        [01.00, 10.67, 17.65, 25.33, 54.35, 53.55, 47.00, 48.65], \n",
    "        [12.00, 01.00, 56.65, 16.37, 45.60, 45.14, 38.58, 40.23],\n",
    "        [17.65, 16.22, 01.00, 10.67, 43.72, 46.08, 40.25, 40.57], \n",
    "        [16.67, 18.67, 10.67, 01.00, 42.02, 41.64, 35.08, 36.73],\n",
    "        [52.00, 43.33, 40.97, 39.41, 01.00, 10.67, 11.31, 08.00], \n",
    "        [52.77, 44.10, 45.35, 40.27, 08.00, 01.00, 10.64, 08.03],\n",
    "        [45.17, 36.50, 37.83, 34.50, 11.01, 10.24, 01.00, 08.00], \n",
    "        [47.43, 38.76, 40.09, 36.03, 09.33, 08.00, 08.00, 01.00]\n",
    "        ]\n",
    "salary = [computeYearlyToHourlyRate(24570.49), \n",
    "          computeYearlyToHourlyRate(16576.02), \n",
    "          computeYearlyToHourlyRate(21038.92), \n",
    "          computeYearlyToHourlyRate(16985.72), \n",
    "          computeYearlyToHourlyRate(29038.00), \n",
    "          computeYearlyToHourlyRate(30548.05), \n",
    "          computeYearlyToHourlyRate(27276.91), \n",
    "          computeYearlyToHourlyRate(39221.55)];\n",
    "            \n",
    "        \n",
    "\n",
    "    \n",
    "nearestZones = computeNearestZones(lat, lng)\n",
    "\n",
    "for x in range(len(productions)): \n",
    "    fares[x][x] = fares[x][nearestZones[x]] / 2\n",
    "    travelTime[x][x] = travelTime[x][nearestZones[x]] / 2\n",
    "\n",
    "td = TripDistribution(productions, attractions, travelTime, fares, salary)\n",
    "\n",
    "\n",
    "print(\"fare\")\n",
    "print(fares)\n",
    "for x in range(len(productions)):\n",
    "    salary[x] = round(salary[x],2)\n",
    "    for y in range(len(productions)):\n",
    "        travelTime[x][y] = travelTime[x][y]/60\n",
    "\n",
    "print(\"trave time\")\n",
    "print(travelTime)\n",
    "\n",
    "print(\"salary\")\n",
    "print(salary)\n",
    "\n",
    "print(\"Productions: \" + str(productions))\n",
    "print(\"Attractions: \" + str(attractions))"
   ]
  },
  {
   "cell_type": "code",
   "execution_count": 98,
   "metadata": {
    "collapsed": false,
    "deletable": true,
    "editable": true
   },
   "outputs": [
    {
     "name": "stdout",
     "output_type": "stream",
     "text": [
      "111111111111111111111111111\n",
      "[[69320.4, 22547.6, 5029.1, 570.6, 553.9, 1873.6, 807.3, 2286.5], [20730.7, 38092.9, 3356.2, 1114.6, 996.6, 3145.9, 1526.2, 4289.8], [7013.5, 10031.4, 63769.1, 2257.5, 1007.9, 2829.0, 1329.7, 3819.0], [1918.7, 2828.3, 4924.2, 2789.1, 333.3, 1052.3, 520.5, 1454.5], [221.5, 375.6, 305.8, 46.5, 17505.0, 15066.1, 3020.0, 20457.5], [243.0, 407.9, 295.4, 50.1, 5403.8, 74415.0, 3142.0, 19081.9], [83.9, 153.7, 105.6, 20.0, 815.3, 2423.3, 16019.8, 12988.2], [197.6, 351.4, 244.9, 45.9, 3466.1, 11800.3, 11217.9, 145520.0]]\n"
     ]
    },
    {
     "data": {
      "text/html": [
       "<table><tr><td>64016.6</td><td>22734.0</td><td>5272.1</td><td>626.1</td><td>1091.1</td><td>4051.6</td><td>1376.3</td><td>3821.1</td></tr><tr><td>17349.7</td><td>34807.0</td><td>3188.6</td><td>1108.5</td><td>1779.1</td><td>6165.3</td><td>2357.8</td><td>6497.1</td></tr><tr><td>5807.3</td><td>9068.7</td><td>59939.5</td><td>2221.2</td><td>1780.2</td><td>5485.3</td><td>2032.4</td><td>5722.5</td></tr><tr><td>1468.0</td><td>2362.5</td><td>4276.6</td><td>2535.7</td><td>544.0</td><td>1885.4</td><td>735.1</td><td>2013.8</td></tr><tr><td>108.6</td><td>201.0</td><td>170.2</td><td>27.1</td><td>18307.2</td><td>17298.3</td><td>2733.5</td><td>18152.0</td></tr><tr><td>110.2</td><td>202.0</td><td>152.1</td><td>27.0</td><td>5227.4</td><td>79029.0</td><td>2630.4</td><td>15660.9</td></tr><tr><td>45.0</td><td>89.9</td><td>64.2</td><td>12.8</td><td>931.4</td><td>3039.3</td><td>15838.8</td><td>12588.7</td></tr><tr><td>106.7</td><td>207.2</td><td>150.2</td><td>29.5</td><td>3993.5</td><td>14925.8</td><td>11185.6</td><td>142245.6</td></tr></table>"
      ],
      "text/plain": [
       "<IPython.core.display.HTML object>"
      ]
     },
     "metadata": {},
     "output_type": "display_data"
    }
   ],
   "source": [
    "distribution = td.getTripDistribution()\n",
    "\n",
    "display(HTML(\n",
    "    '<table><tr>{}</tr></table>'.format(\n",
    "        '</tr><tr>'.join(\n",
    "            '<td>{}</td>'.format('</td><td>'.join(str(_) for _ in row)) for row in distribution)\n",
    "        )\n",
    "))"
   ]
  },
  {
   "cell_type": "markdown",
   "metadata": {
    "deletable": true,
    "editable": true
   },
   "source": [
    "# Error"
   ]
  },
  {
   "cell_type": "code",
   "execution_count": 99,
   "metadata": {
    "collapsed": false,
    "deletable": true,
    "editable": true
   },
   "outputs": [
    {
     "name": "stdout",
     "output_type": "stream",
     "text": [
      "Error: 65695.67000000001\n",
      "Percentage: 0.10113078442329335\n"
     ]
    }
   ],
   "source": [
    "print(\"Error: \" + str(td.error))\n",
    "print(\"Percentage: \" + str(td.getErrorPercentage()))"
   ]
  },
  {
   "cell_type": "markdown",
   "metadata": {
    "deletable": true,
    "editable": true
   },
   "source": [
    "# Modal Split Class"
   ]
  },
  {
   "cell_type": "code",
   "execution_count": 85,
   "metadata": {
    "collapsed": false,
    "deletable": true,
    "editable": true
   },
   "outputs": [],
   "source": [
    "import random\n",
    "class ModalSplit:\n",
    "\n",
    "    def __init__(self, od_matrix, pathToData, income, fares, travelTimes):\n",
    "        self.od_matrix = od_matrix\n",
    "        self.pathToData = pathToData\n",
    "        self.travel_costs = []\n",
    "        self.travel_probabilities = []\n",
    "        self.modes = ['jeep','bus']\n",
    "        self.income = income\n",
    "        self.fares = fares\n",
    "        self.travelTimes = travelTimes\n",
    "        self.travel_costs = [None] * len(self.modes)\n",
    "        \n",
    "    def computeGeneralizedCosts(self, mode_number):\n",
    "        costMatrix = [[1 for x in range(len(self.od_matrix))] for y in range(len(self.od_matrix))]\n",
    "        for x in range(len(self.od_matrix)):\n",
    "            for y in range(len(self.od_matrix)):\n",
    "                if(self.fares[mode_number][x][y] == None):\n",
    "                    costMatrix[x][y] = None\n",
    "                else:\n",
    "                    costMatrix[x][y] = (self.travelTimes[mode_number][x][y]/60) * self.income[x] + self.fares[mode_number][x][y]\n",
    "        \n",
    "        return costMatrix\n",
    "        \n",
    "#         #data = pd.read_csv(self.pathToData, index_col=0)\n",
    "            \n",
    "#         self.travel_costs = [None] * len(self.modes)\n",
    "#         for x in range(0, len(self.modes)):\n",
    "#             self.travel_costs[x] = random.randrange(1,4)\n",
    "#         #Compute for generalized cost for each mode for this specific zone\n",
    "#         # populate self.travel_costs with the travel costs\n",
    "#         self.computeModalProbabilities()\n",
    "        \n",
    "    def computeModalProbabilities(self, mode_number, beta):\n",
    "        travel_probabilities = [[1 for x in range(len(self.od_matrix))] for y in range(len(self.od_matrix))]\n",
    "        sum = 0\n",
    "        #print(len(self.travel_costs))\n",
    "        for x in range(len(self.od_matrix)):\n",
    "            for y in range(len(self.od_matrix)):\n",
    "                sum = 0\n",
    "                for k in range(len(self.modes)):\n",
    "                    if(self.travel_costs[k][x][y] != None):\n",
    "                        sum += math.e ** ((-beta)*self.travel_costs[k][x][y])\n",
    "                \n",
    "                if(self.travel_costs[mode_number][x][y] != None):\n",
    "                    travel_probabilities[x][y] = math.e ** ((-beta)*self.travel_costs[mode_number][x][y]) / sum\n",
    "                else:\n",
    "                    travel_probabilities[x][y] = None\n",
    "        print(mode_number)\n",
    "        print(travel_probabilities)\n",
    "        return travel_probabilities\n",
    "        #print(self.travel_costs)\n",
    "        #print(self.travel_probabilities)\n",
    "        \n",
    "    def getBeta(self, mode_number):\n",
    "        sum = 0\n",
    "        for x in range(len(self.od_matrix)):\n",
    "            for y in range(len(self.od_matrix)):\n",
    "                if(self.travel_costs[mode_number][x][y] != None):\n",
    "                    sum += self.travel_costs[mode_number][x][y]\n",
    "        return 1/(sum/(len(self.od_matrix) * len(self.od_matrix)))\n",
    "    \n",
    "    def getSplittedTrips(self, mode_number):\n",
    "        splittedTrips = [[None for x in range(len(self.od_matrix))] for y in range(len(self.od_matrix))]\n",
    "        for x in range(len(self.od_matrix)):\n",
    "            for y in range(len(self.od_matrix)):\n",
    "                if(self.travel_probabilities[mode_number][x][y] != None):\n",
    "                    splittedTrips[x][y] = round(self.od_matrix[x][y] * self.travel_probabilities[mode_number][x][y], 2)\n",
    "        \n",
    "        return splittedTrips\n",
    "\n",
    "    def process_od_matrix(self):\n",
    "        #print(\"size:\"+str(len(self.od_matrix))+\",\"+str(len(self.od_matrix[0])))\n",
    "        #df = DataFrame(columns=('lib', 'qty1', 'qty2'))\n",
    "        #for i in range(5):\n",
    "            #df.loc[i] = [randint(-1,1) for n in range(3)]\n",
    "        for x in range(len(self.modes)):\n",
    "            self.travel_costs[x] = self.computeGeneralizedCosts(x)\n",
    "        \n",
    "        beta = [None] * len(self.modes)\n",
    "        for x in range(len(self.modes)):\n",
    "            beta[x] = self.getBeta(x)\n",
    "        \n",
    "        self.travel_probabilities = [None] * len(self.modes)\n",
    "        for x in range(len(self.modes)):\n",
    "            self.travel_probabilities[x] = self.computeModalProbabilities(x, beta[x]);\n",
    "        \n",
    "        final_matrices = [None] * len(self.modes)\n",
    "        for x in range(len(self.modes)):\n",
    "            final_matrices[x] = self.getSplittedTrips(x)\n",
    "            \n",
    "        return final_matrices\n",
    "                "
   ]
  },
  {
   "cell_type": "code",
   "execution_count": 86,
   "metadata": {
    "collapsed": false,
    "deletable": true,
    "editable": true
   },
   "outputs": [
    {
     "name": "stdout",
     "output_type": "stream",
     "text": [
      "0\n",
      "[[0.501330769757949, 0.5026615206622376, 0.5152114384316068, 0.564887631386476, 0.5870999112802011, 0.6094613931321816, 0.5259925625393892, 0.5797426991219572], [0.5049654542198035, 0.5117606880399188, 0.5494570679775923, 0.5235083699534996, 0.5494949829680501, 0.5771892293339984, 0.5138481297475719, 0.5524179359763055], [0.5128342749987438, 0.5596620700314157, 0.5030758674574491, 0.5061515021184213, 0.5904001630187572, 0.6129883294825988, 0.5083009083005763, 0.5698279764153047], [0.5510819039480395, 0.5236444830880799, 0.5061515021184214, 0.5030758674574493, 0.5819083607912929, 0.6017492352760259, 0.5364443612891248, 0.5755736072524397], [0.6021154517699643, 0.5573519570491816, 0.6200813287595139, 0.6327628378534333, 1.0, 1.0, 1.0, 1.0], [0.6438579303963046, 0.6270941563030769, 0.6707493162907203, 0.686198812657985, 1.0, 1.0, 1.0, 1.0], [0.5297281333301017, 0.506487350228418, 0.5168637807270964, 0.5665448440737031, 0.569484575996003, 0.5886263586600131, 0.5255784835098696, 0.5510234368855753], [0.6505541047138287, 0.6324789651353039, 0.658786985750513, 0.7013200641388195, 0.5199522873095067, 0.5587721165072478, 1.0, 1.0]]\n",
      "1\n",
      "[[0.4988579189764797, 0.4977158498702757, 0.486944325397637, 0.44422997150206006, 0.4250488694003937, 0.40565776568972967, 0.4776876163031984, 0.4314099143011827], [0.49573855913363657, 0.48990636588573244, 0.4575188535861408, 0.4798209552527891, 0.45748623018490986, 0.43361573051034596, 0.488114591574519, 0.4549708187494552], [0.48898485551497756, 0.4487330891290738, 0.4973602500934236, 0.49472064733886834, 0.422192659941205, 0.40259041750860747, 0.49287590253957114, 0.43996964396216354], [0.45612066931007655, 0.4797040730505741, 0.49472064733886834, 0.49736025009342355, 0.4295383509211848, 0.4123560720918852, 0.4687084564129746, 0.4350109024964038], [0.41203826488913786, 0.45072285539975826, 0.39641347800099025, 0.3853403381833169, None, None, None, None], [0.37561843569880576, 0.39029494450655805, 0.3519036635471328, 0.3381676691595943, None, None, None, None], [0.47447908030826863, 0.4944324068969871, 0.4855258832878417, 0.44280120339961454, 0.44026587582796234, 0.42372802689783595, 0.4780432325510109, 0.45617098491104613], [0.3697342927142455, 0.3855886462122294, 0.3624812835465689, 0.3246329226071275, 0.48287434566586973, 0.4494996994417419, None, None]]\n",
      "Bus Fare\n",
      "[[6.0, 12.0, 12.0, 31.92, 55.08, 56.58, 38.75, 41.75], [12.0, 8.0, 25.08, 16.0, 46.83, 48.33, 30.83, 33.83], [12.0, 25.0, 6.0, 12.0, 48.42, 49.92, 32.42, 35.42], [32.25, 16.0, 12.0, 6.0, 43.17, 44.67, 27.33, 30.33], [55.08, 46.5, 47.67, 42.67, None, None, None, None], [59.42, 50.83, 52.0, 47.0, None, None, None, None], [34.75, 26.0, 27.33, 22.25, 9.13, 8.25, 3.12, 6.25], [47.75, 39.0, 40.33, 35.25, 6.0, 6.0, None, None]]\n",
      "Bus Travel Time\n",
      "[[13.5, 27.0, 62.0, 75.33, 172.33, 189.33, 130.0, 157.67], [28.33, 27.16, 71.0, 54.33, 156.0, 173.33, 113.67, 141.67], [62.0, 71.0, 18.5, 37.0, 166.67, 184.33, 124.0, 152.0], [76.0, 54.33, 37.0, 18.5, 154.0, 171.33, 111.67, 139.67], [177.0, 159.0, 169.33, 157.33, 18.0, 36.0, 70.0, 39.0], [198.67, 180.67, 191.0, 178.67, 36.0, 18.0, 79.0, 47.0], [136.0, 118.0, 128.33, 116.0, 62.0, 72.5, 16.75, 33.5], [165.67, 148.33, 158.33, 146.0, 34.5, 44.5, 31.0, 15.5]]\n",
      "Jeep Fare\n",
      "[[4.0, 8.0, 16.32, 21.33, 45.06, 47.37, 42.31, 42.35], [8.0, 4.18, 16.22, 8.37, 41.79, 42.24, 37.18, 37.23], [16.32, 16.22, 4.0, 8.0, 39.64, 43.83, 41.15, 38.91], [21.33, 8.47, 8.0, 4.0, 32.68, 35.37, 31.51, 31.53], [46.88, 43.99, 40.63, 32.87, 5.33, 10.67, 11.31, 8.0], [50.86, 46.95, 46.64, 35.79, 8.0, 4.0, 10.64, 8.03], [43.81, 37.56, 41.61, 31.76, 11.01, 10.3, 4.0, 8.0], [43.88, 39.71, 39.61, 31.78, 8.0, 8.0, 8.0, 4.0]]\n",
      "Jeep Travel Time\n",
      "[[14.16, 28.33, 53.67, 56.67, 144.67, 152.33, 118.0, 126.67], [29.0, 23.84, 50.67, 47.67, 132.33, 134.67, 100.33, 109.0], [53.33, 50.33, 18.5, 37.0, 132.0, 137.33, 114.33, 118.33], [57.0, 47.67, 37.0, 18.5, 117.33, 122.33, 88.0, 96.67], [147.67, 141.67, 133.33, 118.33, 15.84, 31.67, 38.67, 26.67], [157.33, 142.67, 139.0, 124.0, 32.0, 16.0, 41.67, 30.33], [121.0, 109.67, 115.0, 88.0, 37.0, 40.67, 7.5, 15.0], [130.0, 115.67, 119.33, 96.33, 29.0, 29.67, 15.0, 7.5]]\n"
     ]
    }
   ],
   "source": [
    "fareBus = [\n",
    "    [00.00, 12.00, 12.00, 31.92, 55.08, 56.58, 38.75, 41.75],\n",
    "    [12.00, 00.00, 25.08, 16.00, 46.83, 48.33, 30.83, 33.83],\n",
    "    [12.00, 25.00, 00.00, 12.00, 48.42, 49.92, 32.42, 35.42],\n",
    "    [32.25, 16.00, 12.00, 00.00, 43.17, 44.67, 27.33, 30.33],\n",
    "    [55.08, 46.50, 47.67, 42.67, 00.00, None, None, None],\n",
    "    [59.42, 50.83, 52.00, 47.00, None, 00.00, None, None],\n",
    "    [34.75, 26.00, 27.33, 22.25, 09.13, 08.25, 00.00, 06.25],\n",
    "    [47.75, 39.00, 40.33, 35.25, 06.00, 06.00, None, 00.00]\n",
    "]\n",
    "\n",
    "travelTimeBus = [\n",
    "    [000.00, 027.00, 062.00, 075.33, 172.33, 189.33, 130.00, 157.67],\n",
    "    [028.33, 000.00, 071.00, 054.33, 156.00, 173.33, 113.67, 141.67],\n",
    "    [062.00, 071.00, 000.00 ,037.00, 166.67, 184.33, 124.00, 152.00],\n",
    "    [076.00, 054.33, 037.00, 000.00, 154.00, 171.33, 111.67, 139.67],\n",
    "    [177.00, 159.00, 169.33, 157.33, 000.00, 036.00, 070.00, 039.00],\n",
    "    [198.67, 180.67, 191.00, 178.67, 036.00, 000.00, 079.00, 047.00],\n",
    "    [136.00, 118.00, 128.33, 116.00, 062.00, 072.50, 000.00, 033.50],\n",
    "    [165.67, 148.33, 158.33, 146.00, 034.50, 044.50, 031.00, 000.00]\n",
    "]\n",
    "\n",
    "fareJeep = [\n",
    "    [00.00, 08.00, 16.32, 21.33, 45.06, 47.37, 42.31, 42.35],\n",
    "    [08.00, 00.00, 16.22, 08.37, 41.79, 42.24, 37.18, 37.23],\n",
    "    [16.32, 16.22, 00.00, 08.00, 39.64, 43.83, 41.15, 38.91],\n",
    "    [21.33, 08.47, 08.00, 00.00, 32.68, 35.37, 31.51, 31.53],\n",
    "    [46.88, 43.99, 40.63, 32.87, 00.00, 10.67, 11.31, 08.00],\n",
    "    [50.86, 46.95, 46.64, 35.79, 08.00, 00.00, 10.64, 08.03],\n",
    "    [43.81, 37.56, 41.61, 31.76, 11.01, 10.30, 00.00, 08.00],\n",
    "    [43.88, 39.71, 39.61, 31.78, 08.00, 08.00, 08.00, 00.00]\n",
    "]\n",
    "\n",
    "travelTimeJeep = [\n",
    "    [000.00, 028.33, 053.67, 056.67, 144.67, 152.33, 118.00, 126.67], \n",
    "    [029.00, 000.00, 050.67, 047.67, 132.33, 134.67, 100.33, 109.00],\n",
    "    [053.33, 050.33, 000.00, 037.00, 132.00, 137.33, 114.33, 118.33],\n",
    "    [057.00, 047.67, 037.00, 000.00, 117.33, 122.33, 088.00, 096.67],\n",
    "    [147.67, 141.67, 133.33, 118.33, 000.00, 031.67, 038.67, 026.67],\n",
    "    [157.33, 142.67, 139.00, 124.00, 032.00, 000.00, 041.67, 030.33],\n",
    "    [121.00, 109.67, 115.00, 088.00, 037.00, 040.67, 000.00, 015.00],\n",
    "    [130.00, 115.67, 119.33, 096.33, 029.00, 029.67, 015.00, 000.00]\n",
    "]\n",
    "\n",
    "\n",
    "for x in range(len(productions)): \n",
    "    if(fareBus[x][nearestZones[x]] != None):\n",
    "        fareBus[x][x] = fareBus[x][nearestZones[x]] / 2\n",
    "    else:\n",
    "        fareBus[x][x] = None\n",
    "    travelTimeBus[x][x] = travelTimeBus[x][nearestZones[x]] / 2\n",
    "    fareJeep[x][x] = fareJeep[x][nearestZones[x]] / 2\n",
    "    travelTimeJeep[x][x] = travelTimeJeep[x][nearestZones[x]] / 2\n",
    "\n",
    "fares = [fareJeep, fareBus]\n",
    "travelTimes = [travelTimeJeep, travelTimeBus]\n",
    "\n",
    "modal_split = ModalSplit(distribution,\"datapath\", salary, fares, travelTimes)\n",
    "list_of_dataframes_by_mode = modal_split.process_od_matrix()\n",
    "\n",
    "\n",
    "for x in range(len(productions)): \n",
    "    for y in range(len(productions)):\n",
    "        if(fareBus[x][y] != None):\n",
    "            fareBus[x][y] = round(fareBus[x][y], 2)\n",
    "        travelTimeBus[x][y] = round(travelTimeBus[x][y], 2)\n",
    "        fareJeep[x][y] = round(fareJeep[x][y], 2)\n",
    "        travelTimeJeep[x][y] = round(travelTimeJeep[x][y], 2)\n",
    "\n",
    "print(\"Bus Fare\")\n",
    "print(fareBus)\n",
    "\n",
    "print(\"Bus Travel Time\")\n",
    "print(travelTimeBus)\n",
    "\n",
    "print(\"Jeep Fare\")\n",
    "print(fareJeep)\n",
    "\n",
    "print(\"Jeep Travel Time\")\n",
    "print(travelTimeJeep)\n"
   ]
  },
  {
   "cell_type": "markdown",
   "metadata": {
    "deletable": true,
    "editable": true
   },
   "source": [
    "## Mode 1 (Jeep)"
   ]
  },
  {
   "cell_type": "code",
   "execution_count": 87,
   "metadata": {
    "collapsed": false,
    "deletable": true,
    "editable": true
   },
   "outputs": [
    {
     "name": "stdout",
     "output_type": "stream",
     "text": [
      "[[32093.49, 11427.51, 2716.25, 353.68, 640.58, 2469.29, 723.92, 2215.25], [8761.0, 17812.85, 1752.0, 580.31, 977.61, 3558.54, 1211.55, 3589.11], [2978.18, 5075.41, 30154.12, 1124.26, 1051.03, 3362.42, 1033.07, 3260.84], [808.99, 1237.11, 2164.61, 1275.65, 316.56, 1134.54, 394.34, 1159.09], [65.39, 112.03, 105.54, 17.15, 18307.2, 17298.3, 2733.5, 18152.0], [70.95, 126.67, 102.02, 18.53, 5227.4, 79029.0, 2630.4, 15660.9], [23.84, 45.53, 33.18, 7.25, 530.42, 1789.01, 8324.53, 6936.67], [69.41, 131.05, 98.95, 20.69, 2076.43, 8340.12, 11185.6, 142245.6]]\n"
     ]
    },
    {
     "data": {
      "text/html": [
       "<table><tr><td>32093.49</td><td>11427.51</td><td>2716.25</td><td>353.68</td><td>640.58</td><td>2469.29</td><td>723.92</td><td>2215.25</td></tr><tr><td>8761.0</td><td>17812.85</td><td>1752.0</td><td>580.31</td><td>977.61</td><td>3558.54</td><td>1211.55</td><td>3589.11</td></tr><tr><td>2978.18</td><td>5075.41</td><td>30154.12</td><td>1124.26</td><td>1051.03</td><td>3362.42</td><td>1033.07</td><td>3260.84</td></tr><tr><td>808.99</td><td>1237.11</td><td>2164.61</td><td>1275.65</td><td>316.56</td><td>1134.54</td><td>394.34</td><td>1159.09</td></tr><tr><td>65.39</td><td>112.03</td><td>105.54</td><td>17.15</td><td>18307.2</td><td>17298.3</td><td>2733.5</td><td>18152.0</td></tr><tr><td>70.95</td><td>126.67</td><td>102.02</td><td>18.53</td><td>5227.4</td><td>79029.0</td><td>2630.4</td><td>15660.9</td></tr><tr><td>23.84</td><td>45.53</td><td>33.18</td><td>7.25</td><td>530.42</td><td>1789.01</td><td>8324.53</td><td>6936.67</td></tr><tr><td>69.41</td><td>131.05</td><td>98.95</td><td>20.69</td><td>2076.43</td><td>8340.12</td><td>11185.6</td><td>142245.6</td></tr></table>"
      ],
      "text/plain": [
       "<IPython.core.display.HTML object>"
      ]
     },
     "metadata": {},
     "output_type": "display_data"
    }
   ],
   "source": [
    "print (list_of_dataframes_by_mode[0])\n",
    "display(HTML(\n",
    "    '<table><tr>{}</tr></table>'.format(\n",
    "        '</tr><tr>'.join(\n",
    "            '<td>{}</td>'.format('</td><td>'.join(str(_) for _ in row)) for row in list_of_dataframes_by_mode[0])\n",
    "        )\n",
    "))"
   ]
  },
  {
   "cell_type": "markdown",
   "metadata": {
    "deletable": true,
    "editable": true
   },
   "source": [
    "## Mode 2 (Bus)"
   ]
  },
  {
   "cell_type": "code",
   "execution_count": 88,
   "metadata": {
    "collapsed": false,
    "deletable": true,
    "editable": true,
    "scrolled": true
   },
   "outputs": [
    {
     "data": {
      "text/html": [
       "<table><tr><td>31935.19</td><td>11315.07</td><td>2567.22</td><td>278.13</td><td>463.77</td><td>1643.56</td><td>657.44</td><td>1648.46</td></tr><tr><td>8600.92</td><td>17052.17</td><td>1458.84</td><td>531.88</td><td>813.91</td><td>2673.37</td><td>1150.88</td><td>2955.99</td></tr><tr><td>2839.68</td><td>4069.43</td><td>29811.52</td><td>1098.87</td><td>751.59</td><td>2208.33</td><td>1001.72</td><td>2517.73</td></tr><tr><td>669.59</td><td>1133.3</td><td>2115.72</td><td>1261.16</td><td>233.67</td><td>777.46</td><td>344.55</td><td>876.02</td></tr><tr><td>44.75</td><td>90.6</td><td>67.47</td><td>10.44</td><td>None</td><td>None</td><td>None</td><td>None</td></tr><tr><td>41.39</td><td>78.84</td><td>53.52</td><td>9.13</td><td>None</td><td>None</td><td>None</td><td>None</td></tr><tr><td>21.35</td><td>44.45</td><td>31.17</td><td>5.67</td><td>410.06</td><td>1287.84</td><td>7571.63</td><td>5742.6</td></tr><tr><td>39.45</td><td>79.89</td><td>54.44</td><td>9.58</td><td>1928.36</td><td>6709.14</td><td>None</td><td>None</td></tr></table>"
      ],
      "text/plain": [
       "<IPython.core.display.HTML object>"
      ]
     },
     "metadata": {},
     "output_type": "display_data"
    }
   ],
   "source": [
    "display(HTML(\n",
    "    '<table><tr>{}</tr></table>'.format(\n",
    "        '</tr><tr>'.join(\n",
    "            '<td>{}</td>'.format('</td><td>'.join(str(_) for _ in row)) for row in list_of_dataframes_by_mode[1])\n",
    "        )\n",
    "))"
   ]
  },
  {
   "cell_type": "markdown",
   "metadata": {
    "deletable": true,
    "editable": true
   },
   "source": [
    "## Mode 3"
   ]
  },
  {
   "cell_type": "code",
   "execution_count": null,
   "metadata": {
    "collapsed": false,
    "deletable": true,
    "editable": true
   },
   "outputs": [],
   "source": []
  },
  {
   "cell_type": "markdown",
   "metadata": {
    "collapsed": true,
    "deletable": true,
    "editable": true
   },
   "source": [
    "## TRIP GENERATION TESTING #7:\n",
    "Compare the results of including and excluding the landuse dataset to the travel demand model by cross-checking it with the results of other studies"
   ]
  },
  {
   "cell_type": "code",
   "execution_count": null,
   "metadata": {
    "collapsed": false,
    "deletable": true,
    "editable": true
   },
   "outputs": [],
   "source": []
  },
  {
   "cell_type": "markdown",
   "metadata": {
    "deletable": true,
    "editable": true
   },
   "source": [
    "### 1.) without LANDUSE variables"
   ]
  },
  {
   "cell_type": "code",
   "execution_count": null,
   "metadata": {
    "collapsed": false,
    "deletable": true,
    "editable": true
   },
   "outputs": [],
   "source": [
    "dep_col_name = \"trips\"\n",
    "data_filepath = \"DummyDataRegressionHHTripsOnly2.csv\"\n",
    "regression = Regression(data_filepath)\n",
    "\n",
    "data_filepath2 = \"DummyDataRegressionAmenitiex.csv\"\n",
    "regression2 = Regression(data_filepath2)\n",
    "\n",
    "selected_feature_names = [\"no_hh\",\"avg_income\",\"mem_no\",\"no_mem_educwork\"]\n",
    "selected_feature_names_attraction = [\"sust_amt\",\"educ_amt\",\"tran_amt\",\"heal_amt\",\"fina_amt\",\"comm_amt\", \"ente_amt\",\"othe_amt\",\n",
    "                        \"comm_area\", \"park_area\",\"indu_area\",\"agri_area\",\"resi_area\",\"util_area\",\"othe_area\"]\n",
    "fitted_production_model = regression.getFittedRegressionModel(selected_feature_names, dep_col_name)\n",
    "fitted_production_model_attr = regression2.getFittedRegressionModel(selected_feature_names_attraction, dep_col_name)\n",
    "\n",
    "#print(\"Prod Intercept:\"+str(fitted_production_model.intercept_)+\" Coef:\"+str(fitted_production_model.coef_))\n",
    "#print(\"Attr Intercept:\"+str(fitted_production_model_attr.intercept_)+\" Coef:\"+str(fitted_production_model_attr.coef_))\n",
    "\n",
    "dummy_data = pd.read_csv('DummyDataRegressionHHTripsOnly.csv', index_col=0)\n",
    "dummy_data.head()"
   ]
  },
  {
   "cell_type": "markdown",
   "metadata": {
    "collapsed": false,
    "deletable": true,
    "editable": true
   },
   "source": [
    "## Additional regression info:"
   ]
  },
  {
   "cell_type": "code",
   "execution_count": null,
   "metadata": {
    "collapsed": false
   },
   "outputs": [],
   "source": [
    "dep_col_name = \"trips\"\n",
    "data_filepath = \"DummyDataRegressionHHTripsOnly2.csv\"\n",
    "regression = Regression(data_filepath)\n",
    "\n",
    "data_filepath2 = \"DummyDataRegressionAmenitiex.csv\"\n",
    "regression2 = Regression(data_filepath2)\n",
    "\n",
    "selected_feature_names = [\"no_hh\",\"avg_income\",\"mem_no\",\"no_mem_educwork\"]\n",
    "selected_feature_names_attraction = [\"sust_amt\",\"educ_amt\",\"tran_amt\",\"heal_amt\",\"fina_amt\",\"comm_amt\", \"ente_amt\",\"othe_amt\",\n",
    "                        \"comm_area\", \"park_area\",\"indu_area\",\"agri_area\",\"resi_area\",\"util_area\",\"othe_area\"]\n",
    "result = regression.statsmodelsRegressionSummary(selected_feature_names, dep_col_name)\n",
    "result.summary()"
   ]
  },
  {
   "cell_type": "markdown",
   "metadata": {},
   "source": [
    "## K-fold validation (6-fold) and measuring by % RMSE values"
   ]
  },
  {
   "cell_type": "code",
   "execution_count": null,
   "metadata": {
    "collapsed": false,
    "deletable": true,
    "editable": true
   },
   "outputs": [],
   "source": [
    "totalrmse = 0\n",
    "print(selected_feature_names)\n",
    "X_vals = regression.getXVals(selected_feature_names)\n",
    "Y_vals = regression.getYVals(dep_col_name)\n",
    "regression.kFoldTest2(selected_feature_names, dep_col_name, 3)\n"
   ]
  },
  {
   "cell_type": "markdown",
   "metadata": {},
   "source": [
    "## K-fold validation (17-fold)"
   ]
  },
  {
   "cell_type": "code",
   "execution_count": null,
   "metadata": {
    "collapsed": false,
    "deletable": true,
    "editable": true
   },
   "outputs": [],
   "source": [
    "totalrmse = 0\n",
    "print(selected_feature_names)\n",
    "X_vals = regression.getXVals(selected_feature_names)\n",
    "Y_vals = regression.getYVals(dep_col_name)\n",
    "\n",
    "for x in range(len(X_vals.index)):\n",
    "    Predicted_vals = []\n",
    "    print(\"Test row: \"+str(x))\n",
    "    fitted_production_model2 = regression.kFoldTest(selected_feature_names, dep_col_name, x);\n",
    "    #testdframe.head()\n",
    "    #fitted_production_model2.predict(X_vals.iloc[x , :].values.reshape(1,-1))\n",
    "    for z in range(len(X_vals.index)):\n",
    "        #print(\"Actual Zone \"+str(z)+\": \"+str(Y_vals.iloc[z]))\n",
    "        #print(\"Predicted Zone \"+str(z)+\": \"+str(fitted_production_model2.predict(X_vals.iloc[z , :].values.reshape(1,-1))[0]))\n",
    "        Predicted_vals.append(fitted_production_model2.predict(X_vals.iloc[z , :].values.reshape(1,-1))[0])\n",
    "    rms = sqrt(mean_squared_error(Y_vals.values, Predicted_vals))\n",
    "    print(\"raw RMSE: \"+str(rms))\n",
    "    rms = rms*((100*17)/sum(Y_vals.values))\n",
    "    totalrmse += rms\n",
    "    print(\"Trained using index \"+str(x)+\": %RMSE = \"+str(rms))\n",
    "print(\"TOTAL RMSE: \"+str(totalrmse))"
   ]
  },
  {
   "cell_type": "markdown",
   "metadata": {
    "deletable": true,
    "editable": true
   },
   "source": [
    "### 2.) with LANDUSE variables"
   ]
  },
  {
   "cell_type": "code",
   "execution_count": null,
   "metadata": {
    "collapsed": false,
    "deletable": true,
    "editable": true
   },
   "outputs": [],
   "source": [
    "dummy_data = pd.read_csv('DummyDataRegression.csv', index_col=0)\n",
    "dummy_data.head()"
   ]
  },
  {
   "cell_type": "code",
   "execution_count": null,
   "metadata": {
    "collapsed": false,
    "deletable": true,
    "editable": true
   },
   "outputs": [],
   "source": [
    "dep_col_name = \"trips\"\n",
    "data_filepath = \"DummyDataRegression.csv\"\n",
    "regression = Regression(data_filepath)\n",
    "\n",
    "data_filepath2 = \"DummyDataRegressionAmenitiex.csv\"\n",
    "regression2 = Regression(data_filepath2)\n",
    "\n",
    "selected_feature_names_attraction = [\"sust_amt\",\"educ_amt\",\"tran_amt\",\"heal_amt\",\"fina_amt\",\"comm_amt\", \"ente_amt\",\"othe_amt\",\n",
    "                        \"comm_area\", \"park_area\",\"indu_area\",\"agri_area\",\"resi_area\",\"util_area\",\"othe_area\"]\n",
    "#fitted_production_model = regression.getFittedRegressionModel(selected_feature_names, dep_col_name)\n",
    "#fitted_production_model_attr = regression2.getFittedRegressionModel(selected_feature_names_attraction, dep_col_name)\n",
    "##\n",
    "\n",
    "selected_feature_names = [\"no_hh\",\"avg_income\",\"mem_no\",\"no_mem_educwork\"]\n",
    "landuse_names = [\"comm_area\",\"park_area\", \"indu_area\",\"agri_area\",\n",
    "                         \"resi_area\", \"util_area\"]\n",
    "totalrmse = 0\n",
    "print(selected_feature_names)\n",
    "X_vals = regression.getXVals(selected_feature_names+landuse_names)\n",
    "Y_vals = regression.getYVals(dep_col_name)\n",
    "best_comb = []\n",
    "best_score = 0\n",
    "initialized = False\n",
    "\n",
    "for L in range(1, len(selected_feature_names+landuse_names)+1):\n",
    "  for subset in itertools.combinations(selected_feature_names+landuse_names, L):\n",
    "    curr_cols = list(subset)\n",
    "    print(\"current: \"+str(curr_cols))\n",
    "    totalrmse = 0\n",
    "    for x in range(len(X_vals.index)):\n",
    "        Predicted_vals = []\n",
    "        #print(\"Test row: \"+str(x))\n",
    "        fitted_production_model2 = regression.kFoldTest(curr_cols, dep_col_name, x);\n",
    "        #testdframe.head()\n",
    "        #fitted_production_model2.predict(X_vals.iloc[x , :].values.reshape(1,-1))\n",
    "        for z in range(len(X_vals.index)):\n",
    "            #print(\"Actual Zone \"+str(z)+\": \"+str(Y_vals.iloc[z]))\n",
    "            #print(\"Predicted Zone \"+str(z)+\": \"+str(fitted_production_model2.predict(X_vals.iloc[z , :].values.reshape(1,-1))[0]))\n",
    "            #print(\"subset\"+str(list(subset)))\n",
    "            Predicted_vals.append(fitted_production_model2.predict(X_vals.iloc[z , :].loc[curr_cols].values.reshape(1,-1))[0])\n",
    "        rms = sqrt(mean_squared_error(Y_vals.values, Predicted_vals))\n",
    "        totalrmse += rms\n",
    "        #print(\"Trained using index \"+str(x)+\": RMSE = \"+str(rms))\n",
    "    print(\"TOTAL RMSE: \"+str(totalrmse))\n",
    "    if(initialized == False):\n",
    "        best_score = totalrmse\n",
    "        initialized = True \n",
    "        best_comb = curr_cols\n",
    "    else:\n",
    "        if(totalrmse < best_score):\n",
    "            best_score = totalrmse\n",
    "            best_comb = curr_cols\n",
    "print(\"\\n \\nBest Score: \"+str(best_score))\n",
    "print(\"Best Combination: \"+str(best_comb)) \n"
   ]
  },
  {
   "cell_type": "markdown",
   "metadata": {
    "collapsed": true,
    "deletable": true,
    "editable": true
   },
   "source": [
    "## TRIP GENERATION TESTING #6:\n",
    "Examine the effect of increasing/decreasing the number of each of the types of landuse per zone, and verify its effect to the number of trips produced and attracted per zone"
   ]
  },
  {
   "cell_type": "markdown",
   "metadata": {
    "deletable": true,
    "editable": true
   },
   "source": [
    "## Base/Original data "
   ]
  },
  {
   "cell_type": "code",
   "execution_count": null,
   "metadata": {
    "collapsed": false,
    "deletable": true,
    "editable": true
   },
   "outputs": [],
   "source": [
    "dep_col_name = \"trips\"\n",
    "data_filepath = \"DummyDataRegression.csv\"\n",
    "regression = Regression(data_filepath)\n",
    "\n",
    "selected_feature_names = [\"no_hh\",\"avg_income\",\"mem_no\",\"no_mem_educwork\",\"comm_area\",\"park_area\", \"indu_area\",\"agri_area\",\n",
    "                         \"resi_area\", \"util_area\",\"othe_area\"]\n",
    "fitted_production_model = regression.getFittedRegressionModel(selected_feature_names, dep_col_name)\n",
    "\n",
    "dummy_data = pd.read_csv('DummyDataRegression.csv', index_col=0)\n",
    "dummy_data.head()"
   ]
  },
  {
   "cell_type": "markdown",
   "metadata": {
    "deletable": true,
    "editable": true
   },
   "source": [
    "## Case 1:\n",
    "Using the 1st row of the original data (zone 1), increase the number of residential areas, and check its effect to the resulting trips produced."
   ]
  },
  {
   "cell_type": "code",
   "execution_count": null,
   "metadata": {
    "collapsed": false,
    "deletable": true,
    "editable": true
   },
   "outputs": [],
   "source": [
    "data_filepath2 = \"DummyDataRegressionEXP6.csv\"\n",
    "regression2 = Regression(data_filepath2)\n",
    "dummy_data = pd.read_csv(data_filepath2, index_col=0)\n",
    "dummy_data.head()"
   ]
  },
  {
   "cell_type": "markdown",
   "metadata": {
    "deletable": true,
    "editable": true
   },
   "source": [
    "## Case 1 Result:\n",
    "The predicted number of trips produced from zone 1, given the original number of residential areas."
   ]
  },
  {
   "cell_type": "code",
   "execution_count": null,
   "metadata": {
    "collapsed": false,
    "deletable": true,
    "editable": true
   },
   "outputs": [],
   "source": [
    "X_vals = regression.getXVals(selected_feature_names)\n",
    "fitted_production_model.predict(X_vals.iloc[0 , :].values.reshape(1,-1))[0]"
   ]
  },
  {
   "cell_type": "markdown",
   "metadata": {
    "deletable": true,
    "editable": true
   },
   "source": [
    "The predicted number of trips produced from zone 1, given that the number of residential areas were increased."
   ]
  },
  {
   "cell_type": "code",
   "execution_count": null,
   "metadata": {
    "collapsed": false,
    "deletable": true,
    "editable": true
   },
   "outputs": [],
   "source": [
    "X_vals = regression2.getXVals(selected_feature_names)\n",
    "fitted_production_model.predict(X_vals.iloc[0 , :].values.reshape(1,-1))[0]"
   ]
  },
  {
   "cell_type": "markdown",
   "metadata": {
    "deletable": true,
    "editable": true
   },
   "source": [
    "# Scatter plots for the zonal trips produced of other studies"
   ]
  },
  {
   "cell_type": "markdown",
   "metadata": {
    "deletable": true,
    "editable": true
   },
   "source": [
    "## 1.) HHIS from MUCEP"
   ]
  },
  {
   "cell_type": "code",
   "execution_count": null,
   "metadata": {
    "collapsed": false,
    "deletable": true,
    "editable": true
   },
   "outputs": [],
   "source": [
    "fig = plt.figure(figsize=(14,8))\n",
    "ax1 = fig.add_subplot(221)\n",
    "ax1.grid()\n",
    "hhisSum = sum(Y_vals.values)\n",
    "mark1 = ax1.plot(range(0, 17), Y_vals.values, label=\"DOTR Zonal Trips\", ls=\"dotted\", marker=\"o\")\n",
    "ax1.legend(bbox_to_anchor=(1.05, 1), loc=2, borderaxespad=0.)\n",
    "plt.show()"
   ]
  },
  {
   "cell_type": "markdown",
   "metadata": {
    "deletable": true,
    "editable": true
   },
   "source": [
    "## 2.) A study based on MUCEP"
   ]
  },
  {
   "cell_type": "code",
   "execution_count": null,
   "metadata": {
    "collapsed": false,
    "deletable": true,
    "editable": true
   },
   "outputs": [],
   "source": [
    "FILONE_MUCEP_TRIP_PROD = [326411,93639,535638,63112,231470,608551,84204,157800,29288,200924,153585\n",
    "                        ,159682,7882,1313553,37197,134726,120622]\n",
    "filoneSum = sum(FILONE_MUCEP_TRIP_PROD)\n",
    "ratio = hhisSum/filoneSum\n",
    "FILONE_MUCEP_TRIP_PROD = [x * ratio for x in FILONE_MUCEP_TRIP_PROD]\n",
    "print(str(sum(FILONE_MUCEP_TRIP_PROD)) + \" \" + str(hhisSum))\n",
    "fig = plt.figure(figsize=(14,8))\n",
    "ax1 = fig.add_subplot(221)\n",
    "ax1.grid()\n",
    "mark1 = ax1.plot(range(0, 17), FILONE_MUCEP_TRIP_PROD, label=\"Filone Stury Zonal Trips\", ls=\"dotted\", marker=\"o\")\n",
    "ax1.legend(bbox_to_anchor=(1.05, 1), loc=2, borderaxespad=0.)\n",
    "plt.show()\n",
    "difference = myFormattedList = [ round(elem, 1) for elem in (FILONE_MUCEP_TRIP_PROD - Y_vals.values)]\n",
    "print(Y_vals.values)\n",
    "print(FILONE_MUCEP_TRIP_PROD)\n",
    "print([ round(elem, 1) for elem in FILONE_MUCEP_TRIP_PROD - Y_vals.values ])\n"
   ]
  },
  {
   "cell_type": "markdown",
   "metadata": {
    "collapsed": true,
    "deletable": true,
    "editable": true
   },
   "source": [
    "# SCRATCH CELLS:"
   ]
  },
  {
   "cell_type": "code",
   "execution_count": null,
   "metadata": {
    "collapsed": false,
    "deletable": true,
    "editable": true
   },
   "outputs": [],
   "source": [
    "dep_col_name = \"trips\"\n",
    "data_filepath = \"DummyDataRegression.csv\"\n",
    "regression = Regression(data_filepath)\n",
    "\n",
    "data_filepath2 = \"DummyDataRegressionAmenitiex.csv\"\n",
    "regression2 = Regression(data_filepath2)\n",
    "\n",
    "selected_feature_names = [\"no_hh\",\"avg_income\",\"mem_no\",\"no_mem_educwork\",\"comm_area\",\"park_area\", \"indu_area\",\"agri_area\",\n",
    "                         \"resi_area\", \"util_area\",\"othe_area\"]\n",
    "selected_feature_names_attraction = [\"sust_amt\",\"educ_amt\",\"tran_amt\",\"heal_amt\",\"fina_amt\",\"comm_amt\", \"ente_amt\",\"othe_amt\",\n",
    "                        \"comm_area\", \"park_area\",\"indu_area\",\"agri_area\",\"resi_area\",\"util_area\",\"othe_area\"]\n",
    "fitted_production_model = regression.getFittedRegressionModel(selected_feature_names, dep_col_name)\n",
    "fitted_production_model_attr = regression2.getFittedRegressionModel(selected_feature_names_attraction, dep_col_name)\n",
    "\n",
    "print(\"Prod Intercept:\"+str(fitted_production_model.intercept_)+\" Coef:\"+str(fitted_production_model.coef_))\n",
    "print(\"Attr Intercept:\"+str(fitted_production_model_attr.intercept_)+\" Coef:\"+str(fitted_production_model_attr.coef_))\n",
    "\n",
    "dummy_data = pd.read_csv('DummyDataRegression.csv', index_col=0)\n",
    "dummy_data.head()"
   ]
  },
  {
   "cell_type": "code",
   "execution_count": null,
   "metadata": {
    "collapsed": false,
    "deletable": true,
    "editable": true
   },
   "outputs": [],
   "source": [
    "totalrmse = 0\n",
    "print(selected_feature_names)\n",
    "X_vals = regression.getXVals(selected_feature_names)\n",
    "Y_vals = regression.getYVals(dep_col_name)\n",
    "\n",
    "for x in range(len(X_vals.index)):\n",
    "    Predicted_vals = []\n",
    "    print(\"Test row: \"+str(x))\n",
    "    fitted_production_model2 = regression.kFoldTest(selected_feature_names, dep_col_name, x);\n",
    "    #testdframe.head()\n",
    "    #fitted_production_model2.predict(X_vals.iloc[x , :].values.reshape(1,-1))\n",
    "    for z in range(len(X_vals.index)):\n",
    "        #print(\"Actual Zone \"+str(z)+\": \"+str(Y_vals.iloc[z]))\n",
    "        #print(\"Predicted Zone \"+str(z)+\": \"+str(fitted_production_model2.predict(X_vals.iloc[z , :].values.reshape(1,-1))[0]))\n",
    "        Predicted_vals.append(fitted_production_model2.predict(X_vals.iloc[z , :].values.reshape(1,-1))[0])\n",
    "    rms = sqrt(mean_squared_error(Y_vals.values, Predicted_vals))\n",
    "    totalrmse += rms\n",
    "    print(\"Trained using index \"+str(x)+\": RMSE = \"+str(rms))\n",
    "print(\"TOTAL RMSE: \"+str(totalrmse))"
   ]
  },
  {
   "cell_type": "code",
   "execution_count": null,
   "metadata": {
    "collapsed": true,
    "deletable": true,
    "editable": true
   },
   "outputs": [],
   "source": [
    "dep_col_name = \"trips\"\n",
    "data_filepath = \"DummyDataRegression.csv\"\n",
    "regression = Regression(data_filepath)\n",
    "\n",
    "data_filepath2 = \"DummyDataRegressionAmenitiex.csv\"\n",
    "regression2 = Regression(data_filepath2)\n",
    "\n",
    "selected_feature_names = [\"no_hh\",\"avg_income\",\"mem_no\",\"no_mem_educwork\",\"comm_area\",\"park_area\", \"indu_area\",\"agri_area\",\n",
    "                         \"resi_area\", \"util_area\",\"othe_area\"]\n",
    "selected_feature_names_attraction = [\"sust_amt\",\"educ_amt\",\"tran_amt\",\"heal_amt\",\"fina_amt\",\"comm_amt\", \"ente_amt\",\"othe_amt\",\n",
    "                        \"comm_area\", \"park_area\",\"indu_area\",\"agri_area\",\"resi_area\",\"util_area\",\"othe_area\"]\n",
    "fitted_production_model = regression.getFittedRegressionModel(selected_feature_names, dep_col_name)\n",
    "fitted_production_model_attr = regression2.getFittedRegressionModel(selected_feature_names_attraction, dep_col_name)\n",
    "\n",
    "#print(\"Prod Intercept:\"+str(fitted_production_model.intercept_)+\" Coef:\"+str(fitted_production_model.coef_))\n",
    "#print(\"Attr Intercept:\"+str(fitted_production_model_attr.intercept_)+\" Coef:\"+str(fitted_production_model_attr.coef_))\n",
    "\n",
    "dummy_data = pd.read_csv('DummyDataRegression.csv', index_col=0)\n",
    "dummy_data.head()"
   ]
  },
  {
   "cell_type": "code",
   "execution_count": null,
   "metadata": {
    "collapsed": true
   },
   "outputs": [],
   "source": []
  },
  {
   "cell_type": "code",
   "execution_count": null,
   "metadata": {
    "collapsed": true
   },
   "outputs": [],
   "source": []
  },
  {
   "cell_type": "code",
   "execution_count": null,
   "metadata": {
    "collapsed": true
   },
   "outputs": [],
   "source": []
  }
 ],
 "metadata": {
  "anaconda-cloud": {},
  "kernelspec": {
   "display_name": "Python [default]",
   "language": "python",
   "name": "python3"
  },
  "language_info": {
   "codemirror_mode": {
    "name": "ipython",
    "version": 3
   },
   "file_extension": ".py",
   "mimetype": "text/x-python",
   "name": "python",
   "nbconvert_exporter": "python",
   "pygments_lexer": "ipython3",
   "version": "3.5.2"
  }
 },
 "nbformat": 4,
 "nbformat_minor": 2
}
