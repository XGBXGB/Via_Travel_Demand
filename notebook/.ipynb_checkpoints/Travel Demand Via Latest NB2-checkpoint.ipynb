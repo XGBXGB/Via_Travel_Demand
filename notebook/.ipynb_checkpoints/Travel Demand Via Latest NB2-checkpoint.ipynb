{
 "cells": [
  {
   "cell_type": "code",
   "execution_count": 1,
   "metadata": {
    "collapsed": false,
    "deletable": true,
    "editable": true
   },
   "outputs": [
    {
     "name": "stderr",
     "output_type": "stream",
     "text": [
      "C:\\Users\\xtiangabe\\Anaconda3\\lib\\site-packages\\sklearn\\cross_validation.py:44: DeprecationWarning: This module was deprecated in version 0.18 in favor of the model_selection module into which all the refactored classes and functions are moved. Also note that the interface of the new CV iterators are different from that of this module. This module will be removed in 0.20.\n",
      "  \"This module will be removed in 0.20.\", DeprecationWarning)\n"
     ]
    }
   ],
   "source": [
    "import pandas as pd\n",
    "import matplotlib.pyplot as plt\n",
    "from sklearn.feature_selection import RFECV\n",
    "import statsmodels.formula.api as smf\n",
    "from math import exp\n",
    "from sklearn import linear_model, cross_validation\n",
    "import scipy.stats as prr\n",
    "import numpy as np\n",
    "from IPython.display import display, HTML\n",
    "from sklearn.metrics import mean_squared_error\n",
    "from math import sqrt\n",
    "import statsmodels.formula.api as sm\n",
    "import itertools"
   ]
  },
  {
   "cell_type": "markdown",
   "metadata": {
    "deletable": true,
    "editable": true
   },
   "source": [
    "## Regression Class"
   ]
  },
  {
   "cell_type": "code",
   "execution_count": 2,
   "metadata": {
    "collapsed": true,
    "deletable": true,
    "editable": true
   },
   "outputs": [],
   "source": [
    "class Regression:\n",
    "    def __init__(self, pathToData):\n",
    "        self.data = pd.read_csv(pathToData, index_col=0)\n",
    "\n",
    "    def getDataFrame(self):\n",
    "        return self.data\n",
    "\n",
    "    \n",
    "    \n",
    "    # get collinearity (r^2 value) of a pair of columns\n",
    "    def getCollinearityScore(self, dependentCol, independentCol):\n",
    "        array = self.data.values\n",
    "        X = array[:, independentCol]\n",
    "        Y = array[:, dependentCol]\n",
    "\n",
    "        return prr.pearsonr(X, Y)\n",
    "        # GET SUBTABLE CONTAINING ONLY THE INDEPENDENT COLUMN AND DEPENDENT COLUMN\n",
    "        # df2 = self.data.iloc[:, [independentCol, dependentCol]]\n",
    "        # CREATE FITTED MODEL USING ORDINARY LEAST SQUARES REGRESSION\n",
    "        # lm = smf.ols(formula='Sales ~ TV', data=df2).fit()\n",
    "        # RETURN RSQUARED VALUE FOR THE MODEL\n",
    "        # return lm.rsquared\n",
    "\n",
    "    # print collinearities (r^2 value) of each pair of columns\n",
    "    def printAllCollinearities(self):\n",
    "        array = self.data.values\n",
    "        length_col = self.data.shape[1]\n",
    "        while(0 != length_col-1):\n",
    "            for x in range(0, length_col-1):\n",
    "                X = array[:, x]\n",
    "                Y = array[:, length_col-1]\n",
    "\n",
    "                print(\"Collinearity between \"+self.data.columns.values[x]+\" & \"+self.data.columns.values[length_col-1]+\" = \"+str(prr.pearsonr(X, Y)))\n",
    "            length_col -= 1\n",
    "\n",
    "    def getSubTable(self, col_names):\n",
    "        array = self.data\n",
    "        return array.loc[:, col_names]\n",
    "            \n",
    "    def getFittedRegressionModel(self, col_names, dependent_col_name):\n",
    "        array = self.data\n",
    "        X = array.loc[:, col_names]\n",
    "        Y = array.loc[:, dependent_col_name]\n",
    "        model = linear_model.LinearRegression()\n",
    "        model.fit(X, Y)\n",
    "        print(\"R^2 score: \"+str(model.score(X, Y)))\n",
    "        m = model.coef_\n",
    "        b = model.intercept_\n",
    "        # print(\"Intercept=\" + str(b) + \" Coefficient=\" + str(m))\n",
    "        return model\n",
    "\n",
    "    def getBestFeaturesRCEV(self, col_names, dependent_col_name):\n",
    "        array = self.data\n",
    "        X = array.loc[:, col_names]\n",
    "        Y = array.loc[:, dependent_col_name]\n",
    "        feature_names = self.data.columns.values\n",
    "        model = linear_model.LinearRegression()\n",
    "        selector = RFECV(estimator=model, cv=10)\n",
    "        selector.fit(X, Y)\n",
    "        print(selector.ranking_)\n",
    "        print(\"Optimal number of features3: \" + str(selector.n_features_))\n",
    "        print(sorted(zip(map(lambda x: round(x, 4), selector.ranking_), col_names)))\n",
    "        print(selector.support_)\n",
    "        \n",
    "    def getXVals(self, col_names):\n",
    "        #array = self.data\n",
    "        array = self.data.copy()\n",
    "        X = array.loc[:, col_names]\n",
    "        return X\n",
    "    \n",
    "    def getYVals(self, col_names):\n",
    "        #array = self.data\n",
    "        array = self.data.copy()\n",
    "        X = array.loc[:, col_names]\n",
    "        return X\n",
    "        \n",
    "    def kFoldTest(self, col_names, dependent_col_name, test_row_num):\n",
    "        #array = self.data\n",
    "        array = self.data.copy()\n",
    "        array = array.drop(array.index[test_row_num])\n",
    "        \n",
    "        X = array.loc[:, col_names]\n",
    "        Y = array.loc[:, dependent_col_name]\n",
    "        model = linear_model.LinearRegression()\n",
    "        model.fit(X, Y)\n",
    "        m = model.coef_\n",
    "        b = model.intercept_\n",
    "        return model\n",
    "    \n",
    "    def kFoldTest2(self, col_names, dependent_col_name, slice_size):\n",
    "        #array = self.data\n",
    "        array = self.data.copy()\n",
    "        original = self.data.copy()\n",
    "        iterations = len(array.index)/slice_size\n",
    "        #print(\"ITERATIONS: \"+str(iterations))\n",
    "        if(len(array.index)%slice_size>0):\n",
    "            iterations = int(iterations)+1\n",
    "        iterations = int(iterations)\n",
    "        for j in range(0, iterations):\n",
    "            for i in range(0,len(array.index)):\n",
    "                if (i/slice_size==j):\n",
    "                    array = array.drop(array.index[i])\n",
    "\n",
    "            X = array.loc[:, col_names]\n",
    "            Y = array.loc[:, dependent_col_name]\n",
    "            \n",
    "            A = np.array(X.values)\n",
    "            b = np.array(Y.values)\n",
    "            res = lsq_linear(A, b, bounds=(0, 1000), lsmr_tol='auto', verbose=1);\n",
    "            #print(res['x'])\n",
    "            \n",
    "            \n",
    "            model = linear_model.LinearRegression()\n",
    "            model.fit(X, Y)\n",
    "            model.coef_ = res['x']\n",
    "            model.intercept_ = 0\n",
    "            m = model.coef_\n",
    "            b = model.intercept_\n",
    "            \n",
    "            predicted_vals = []\n",
    "            observed_vals = []\n",
    "            array = self.data.copy()\n",
    "            X = array.loc[:, col_names]\n",
    "            Y = array.loc[:, dependent_col_name]\n",
    "            size = 0\n",
    "            for i in range(0,len(array.index)):\n",
    "                #print(str(i)+\" / \"+str(slice_size)+\" == \"+str(j))\n",
    "                if (int(i/slice_size)==j):\n",
    "                    #print(\"WENT IN!\")\n",
    "                    size += 1\n",
    "                    #print(\"length:\"+str(len(X.index))+\" index:\"+str(i))\n",
    "                    predicted_vals.append(model.predict(X.iloc[i , :].values.reshape(1,-1))[0])\n",
    "                    #print(Y.iloc[i])\n",
    "                    observed_vals.append(Y.iloc[i])\n",
    "            rms1 = sqrt(mean_squared_error(observed_vals, predicted_vals))\n",
    "            print(\"rms1:\"+str(rms1)+\" * \"+str((100*slice_size)/sum(observed_vals)))\n",
    "            rms2 = rms1*((100*slice_size)/sum(observed_vals))\n",
    "            print(\"Trained using slice \"+str(j)+\": RawRMSE=\"+str(rms1)+\" %RMSE=\"+str(rms2))  \n",
    "            print(\"slice size: \"+str(size))\n",
    "            \n",
    "    def statsmodelsRegressionSummary(self, col_names, dependent_col_name):\n",
    "        array = self.data.copy()\n",
    "        X = array.loc[:, col_names]\n",
    "        Y = array.loc[:, dependent_col_name]\n",
    "        result = sm.OLS( Y, X ).fit()\n",
    "        return result\n",
    "\n",
    "    def kFoldTest3(self, col_names, dependent_col_name, slice_size):\n",
    "        total_rmse = 0\n",
    "        #array = self.data\n",
    "        array = self.data.copy()\n",
    "        original = self.data.copy()\n",
    "        iterations = len(array.index)/slice_size\n",
    "        #print(\"ITERATIONS: \"+str(iterations))\n",
    "        if(len(array.index)%slice_size>0):\n",
    "            iterations = int(iterations)+1\n",
    "        iterations = int(iterations)\n",
    "        for j in range(0, iterations):\n",
    "            for i in range(0,len(array.index)):\n",
    "                if (i/slice_size==j):\n",
    "                    array = array.drop(array.index[i])\n",
    "\n",
    "            X = array.loc[:, col_names]\n",
    "            Y = array.loc[:, dependent_col_name]\n",
    "            model = linear_model.LinearRegression()\n",
    "            model.fit(X, Y)\n",
    "            m = model.coef_\n",
    "            b = model.intercept_\n",
    "            \n",
    "            predicted_vals = []\n",
    "            observed_vals = []\n",
    "            array = self.data.copy()\n",
    "            X = array.loc[:, col_names]\n",
    "            Y = array.loc[:, dependent_col_name]\n",
    "            size = 0\n",
    "            for i in range(0,len(array.index)):\n",
    "                #print(str(i)+\" / \"+str(slice_size)+\" == \"+str(j))\n",
    "                if (int(i/slice_size)==j):\n",
    "                    #print(\"WENT IN!\")\n",
    "                    size += 1\n",
    "                    #print(\"length:\"+str(len(X.index))+\" index:\"+str(i))\n",
    "                    predicted_vals.append(model.predict(X.iloc[i , :].values.reshape(1,-1))[0])\n",
    "                    #print(Y.iloc[i])\n",
    "                    observed_vals.append(Y.iloc[i])\n",
    "            rms = sqrt(mean_squared_error(observed_vals, predicted_vals))\n",
    "            rms = rms*((100*slice_size)/sum(observed_vals))\n",
    "            total_rmse = total_rmse + rms\n",
    "        return total_rmse\n"
   ]
  },
  {
   "cell_type": "markdown",
   "metadata": {
    "deletable": true,
    "editable": true
   },
   "source": [
    "## Trip Generation Class"
   ]
  },
  {
   "cell_type": "code",
   "execution_count": 7,
   "metadata": {
    "collapsed": false,
    "deletable": true,
    "editable": true
   },
   "outputs": [],
   "source": [
    "class TripGeneration:\n",
    "\n",
    "    def __init__(self, pathToData, dependent_col_name):\n",
    "        self.pathToData = pathToData\n",
    "        self.dependent_col_name = dependent_col_name\n",
    "        self.production_col_names = []\n",
    "        self.production_constant = 0\n",
    "        self.production_intercepts = []\n",
    "        self.attraction_col_names = []\n",
    "        self.attraction_constant = 0\n",
    "        self.attraction_intercepts = []\n",
    "        self.production_score = 0\n",
    "        self.attraction_score = 0\n",
    "        self.balancing_factor = 0\n",
    "        \n",
    "    def printAttributes(self):\n",
    "        print(\"Attributes\")\n",
    "        print(self.production_col_names)\n",
    "        print(self.production_constant)\n",
    "        print(self.production_intercepts)\n",
    "        print(self.attraction_col_names)\n",
    "        print(self.attraction_constant)\n",
    "        print(self.attraction_intercepts)\n",
    "\n",
    "    def setProductionParameters(self, production_col_names, production_constant, production_intercepts):\n",
    "        self.production_col_names = production_col_names\n",
    "        self.production_constant = production_constant\n",
    "        self.production_intercepts = production_intercepts\n",
    "        \n",
    "    def setAttractionParameters(self, attraction_col_names, attraction_constant, attraction_intercepts):\n",
    "        self.attraction_col_names = attraction_col_names\n",
    "        self.attraction_constant = attraction_constant\n",
    "        self.attraction_intercepts = attraction_intercepts\n",
    "        \n",
    "    \n",
    "    # get trip production score for 'zone'\n",
    "    def getWholeTripProductionScore(self):\n",
    "        data = pd.read_csv(self.pathToData, index_col=0)\n",
    "        # implement specific way to get sub-table(data) just for specific 'zone' i.e: all rows related to zone1\n",
    "        sub_table = data.loc[:, self.production_col_names]\n",
    "        length_rows = sub_table.shape[0]\n",
    "        for x in range(0, length_rows):\n",
    "            row_values = sub_table.iloc[x, :].values\n",
    "            self.production_score += self.production_constant\n",
    "            for j in range(0,len(row_values)):\n",
    "                self.production_score += int(row_values[j]*self.production_intercepts[j])\n",
    "            #print(\"SELFPROD CURR: \"+str(self.production_score))\n",
    "        return int(self.production_score)\n",
    "\n",
    "    # get trip attraction score for 'zone'\n",
    "    def getWholeTripAttractionScore(self):\n",
    "        data = pd.read_csv(self.pathToData, index_col=0)\n",
    "        # implement specific way to get sub-table(data) just for specific 'zone' i.e: all rows related to zone1\n",
    "        sub_table = data.loc[:, self.attraction_col_names]\n",
    "        length_rows = sub_table.shape[0]\n",
    "        for x in range(0, length_rows):\n",
    "            row_values = sub_table.iloc[x, :].values\n",
    "            self.attraction_score += self.attraction_constant\n",
    "            for j in range(0,len(row_values)):\n",
    "                self.attraction_score += int(row_values[j]*self.attraction_intercepts[j])\n",
    "            #print(\"SELFATTR CURR: \"+str(self.attraction_score))\n",
    "        return int(self.attraction_score)\n",
    "    \n",
    "    def getZoneTripProductionScore(self, zone_number):\n",
    "        self.production_score = 0\n",
    "        data = pd.read_csv(self.pathToData, index_col=0)\n",
    "        # implement specific way to get sub-table(data) just for specific 'zone' i.e: all rows related to zone1\n",
    "        row_values = data.loc[zone_number, self.production_col_names].values\n",
    "        \n",
    "        self.production_score += self.production_constant\n",
    "        for j in range(0,len(row_values)):\n",
    "            self.production_score += row_values[j]*self.production_intercepts[j]\n",
    "\n",
    "        return self.production_score\n",
    "    \n",
    "    def getZoneTripAttractionScore(self, zone_number):\n",
    "        self.attraction_score = 0\n",
    "        data = pd.read_csv(self.pathToData, index_col=0)\n",
    "        # implement specific way to get sub-table(data) just for specific 'zone' i.e: all rows related to zone1\n",
    "        row_values = data.loc[zone_number, self.production_col_names].values\n",
    "        \n",
    "        self.attraction_score += self.attraction_constant\n",
    "        for j in range(0,len(row_values)):\n",
    "            self.attraction_score += row_values[j]*self.attraction_intercepts[j]\n",
    "\n",
    "        return self.attraction_score\n",
    "\n",
    "    def doTripBalancing(self):\n",
    "        self.balancing_factor = self.production_score/self.attraction_score\n",
    "        self.attraction_score = self.balancing_factor * self.attraction_score\n",
    "        self.production_score = self.balancing_factor * self.production_score\n",
    "        # Implement trip balancing here VOID\n",
    "        \n",
    "    def getBalancingFactor(self):\n",
    "        return self.balancing_factor\n",
    "    \n",
    "    def printAllZonalTripsProductionAttraction(self):\n",
    "        productionScores = []\n",
    "        attractionScores = []\n",
    "        df = pd.DataFrame(columns=('Trip Production', 'Trip Atraction'))\n",
    "        total_production = 0\n",
    "        total_attraction = 0\n",
    "        data = pd.read_csv(self.pathToData, index_col=0)\n",
    "        length_rows = data.shape[0]\n",
    "        for x in range(1, length_rows+1):\n",
    "            attr_score = 0\n",
    "            prod_score = 0\n",
    "            attr_row_values = data.loc[x, self.attraction_col_names].values\n",
    "            prod_row_values = data.loc[x, self.production_col_names].values\n",
    "            attr_score += self.attraction_constant\n",
    "            prod_score += self.production_constant\n",
    "            for j in range(0,len(attr_row_values)):\n",
    "                attr_score += attr_row_values[j]*self.attraction_intercepts[j]\n",
    "            total_attraction += attr_score\n",
    "            for j in range(0,len(prod_row_values)):\n",
    "                prod_score += prod_row_values[j]*self.production_intercepts[j]\n",
    "            total_production += prod_score\n",
    "            df.loc[x] = [int(prod_score),int(attr_score)]\n",
    "            productionScores.append(int(prod_score))\n",
    "            attractionScores.append(int(attr_score))\n",
    "            #print(\"Zone \"+str(x)+\": Production=\"+str(prod_score)+\" , Attraction=\"+str(attr_score))\n",
    "        return df, productionScores, attractionScores;\n",
    "        #print(\"Total Production=\"+str(total_production)+\" , Total Attraction=\"+str(total_attraction))\n",
    "        \n",
    "    def getTripProductionScores(self):\n",
    "        productionScores = []\n",
    "        total_production = 0\n",
    "        total_attraction = 0\n",
    "        data = pd.read_csv(self.pathToData, index_col=0)\n",
    "        length_rows = data.shape[0]\n",
    "        for x in range(1, length_rows+1):\n",
    "            prod_score = 0\n",
    "            prod_row_values = data.loc[x, self.production_col_names].values\n",
    "            prod_score += self.production_constant\n",
    "            for j in range(0,len(prod_row_values)):\n",
    "                prod_score += prod_row_values[j]*self.production_intercepts[j]\n",
    "            total_production += prod_score\n",
    "            productionScores.append(prod_score)\n",
    "        return productionScores\n",
    "    \n",
    "    def getProductionSubTable(self):\n",
    "        data = pd.read_csv(self.pathToData, index_col=0)\n",
    "        return data.loc[:, self.production_col_names]\n",
    "\n",
    "        \n"
   ]
  },
  {
   "cell_type": "markdown",
   "metadata": {
    "collapsed": true,
    "deletable": true,
    "editable": true
   },
   "source": [
    "# DATA\n",
    "### Expected available parameters from the MMUTIS Update and Enhancement Project (MUCEP) Database"
   ]
  },
  {
   "cell_type": "code",
   "execution_count": 8,
   "metadata": {
    "collapsed": false,
    "deletable": true,
    "editable": true
   },
   "outputs": [
    {
     "data": {
      "text/html": [
       "<div>\n",
       "<table border=\"1\" class=\"dataframe\">\n",
       "  <thead>\n",
       "    <tr style=\"text-align: right;\">\n",
       "      <th></th>\n",
       "      <th>no_hh</th>\n",
       "      <th>avg_income</th>\n",
       "      <th>mem_no</th>\n",
       "      <th>no_mem_educwork</th>\n",
       "      <th>comm_area</th>\n",
       "      <th>park_area</th>\n",
       "      <th>indu_area</th>\n",
       "      <th>agri_area</th>\n",
       "      <th>resi_area</th>\n",
       "      <th>util_area</th>\n",
       "      <th>othe_area</th>\n",
       "      <th>trips</th>\n",
       "    </tr>\n",
       "  </thead>\n",
       "  <tbody>\n",
       "    <tr>\n",
       "      <th>1</th>\n",
       "      <td>3779</td>\n",
       "      <td>18736.43821</td>\n",
       "      <td>12747</td>\n",
       "      <td>11894</td>\n",
       "      <td>75.838787</td>\n",
       "      <td>320.453730</td>\n",
       "      <td>50.304504</td>\n",
       "      <td>3.877656</td>\n",
       "      <td>753.816342</td>\n",
       "      <td>0.000000</td>\n",
       "      <td>0</td>\n",
       "      <td>20863</td>\n",
       "    </tr>\n",
       "    <tr>\n",
       "      <th>2</th>\n",
       "      <td>1349</td>\n",
       "      <td>18754.63306</td>\n",
       "      <td>4509</td>\n",
       "      <td>4238</td>\n",
       "      <td>76.584378</td>\n",
       "      <td>28.722817</td>\n",
       "      <td>120.806663</td>\n",
       "      <td>16.137527</td>\n",
       "      <td>1054.765270</td>\n",
       "      <td>4.793359</td>\n",
       "      <td>0</td>\n",
       "      <td>7389</td>\n",
       "    </tr>\n",
       "    <tr>\n",
       "      <th>3</th>\n",
       "      <td>1060</td>\n",
       "      <td>28070.75472</td>\n",
       "      <td>3624</td>\n",
       "      <td>3321</td>\n",
       "      <td>435.919028</td>\n",
       "      <td>20.733238</td>\n",
       "      <td>81.223612</td>\n",
       "      <td>4.631663</td>\n",
       "      <td>1403.462437</td>\n",
       "      <td>0.000000</td>\n",
       "      <td>0</td>\n",
       "      <td>6050</td>\n",
       "    </tr>\n",
       "    <tr>\n",
       "      <th>4</th>\n",
       "      <td>767</td>\n",
       "      <td>18507.17080</td>\n",
       "      <td>2598</td>\n",
       "      <td>2402</td>\n",
       "      <td>11.141258</td>\n",
       "      <td>1.514845</td>\n",
       "      <td>31.493130</td>\n",
       "      <td>121.179552</td>\n",
       "      <td>67.058721</td>\n",
       "      <td>0.000000</td>\n",
       "      <td>0</td>\n",
       "      <td>4305</td>\n",
       "    </tr>\n",
       "    <tr>\n",
       "      <th>5</th>\n",
       "      <td>862</td>\n",
       "      <td>21937.35499</td>\n",
       "      <td>2913</td>\n",
       "      <td>2720</td>\n",
       "      <td>60.375364</td>\n",
       "      <td>0.000000</td>\n",
       "      <td>31.602269</td>\n",
       "      <td>1.507656</td>\n",
       "      <td>137.409984</td>\n",
       "      <td>0.000000</td>\n",
       "      <td>0</td>\n",
       "      <td>4939</td>\n",
       "    </tr>\n",
       "  </tbody>\n",
       "</table>\n",
       "</div>"
      ],
      "text/plain": [
       "   no_hh   avg_income  mem_no  no_mem_educwork   comm_area   park_area  \\\n",
       "1   3779  18736.43821   12747            11894   75.838787  320.453730   \n",
       "2   1349  18754.63306    4509             4238   76.584378   28.722817   \n",
       "3   1060  28070.75472    3624             3321  435.919028   20.733238   \n",
       "4    767  18507.17080    2598             2402   11.141258    1.514845   \n",
       "5    862  21937.35499    2913             2720   60.375364    0.000000   \n",
       "\n",
       "    indu_area   agri_area    resi_area  util_area  othe_area  trips  \n",
       "1   50.304504    3.877656   753.816342   0.000000          0  20863  \n",
       "2  120.806663   16.137527  1054.765270   4.793359          0   7389  \n",
       "3   81.223612    4.631663  1403.462437   0.000000          0   6050  \n",
       "4   31.493130  121.179552    67.058721   0.000000          0   4305  \n",
       "5   31.602269    1.507656   137.409984   0.000000          0   4939  "
      ]
     },
     "execution_count": 8,
     "metadata": {},
     "output_type": "execute_result"
    }
   ],
   "source": [
    "dummy_data = pd.read_csv('DummyDataRegression_revised.csv', index_col=0)\n",
    "dummy_data.head()"
   ]
  },
  {
   "cell_type": "markdown",
   "metadata": {
    "deletable": true,
    "editable": true
   },
   "source": [
    "### Fused Zonal and Amenity data (OpenStreetMap)"
   ]
  },
  {
   "cell_type": "code",
   "execution_count": 9,
   "metadata": {
    "collapsed": false,
    "deletable": true,
    "editable": true
   },
   "outputs": [
    {
     "data": {
      "text/html": [
       "<div>\n",
       "<table border=\"1\" class=\"dataframe\">\n",
       "  <thead>\n",
       "    <tr style=\"text-align: right;\">\n",
       "      <th></th>\n",
       "      <th>sust_amt</th>\n",
       "      <th>educ_amt</th>\n",
       "      <th>tran_amt</th>\n",
       "      <th>heal_amt</th>\n",
       "      <th>fina_amt</th>\n",
       "      <th>comm_amt</th>\n",
       "      <th>ente_amt</th>\n",
       "      <th>othe_amt</th>\n",
       "      <th>comm_area</th>\n",
       "      <th>park_area</th>\n",
       "      <th>indu_area</th>\n",
       "      <th>agri_area</th>\n",
       "      <th>resi_area</th>\n",
       "      <th>util_area</th>\n",
       "      <th>othe_area</th>\n",
       "      <th>trips</th>\n",
       "    </tr>\n",
       "  </thead>\n",
       "  <tbody>\n",
       "    <tr>\n",
       "      <th>1</th>\n",
       "      <td>58</td>\n",
       "      <td>86</td>\n",
       "      <td>54</td>\n",
       "      <td>43</td>\n",
       "      <td>44</td>\n",
       "      <td>2</td>\n",
       "      <td>0</td>\n",
       "      <td>97</td>\n",
       "      <td>75.838787</td>\n",
       "      <td>320.453730</td>\n",
       "      <td>50.304504</td>\n",
       "      <td>3.877656</td>\n",
       "      <td>753.816342</td>\n",
       "      <td>0.000000</td>\n",
       "      <td>0</td>\n",
       "      <td>15611</td>\n",
       "    </tr>\n",
       "    <tr>\n",
       "      <th>2</th>\n",
       "      <td>214</td>\n",
       "      <td>41</td>\n",
       "      <td>43</td>\n",
       "      <td>65</td>\n",
       "      <td>104</td>\n",
       "      <td>1</td>\n",
       "      <td>7</td>\n",
       "      <td>68</td>\n",
       "      <td>76.584378</td>\n",
       "      <td>28.722817</td>\n",
       "      <td>120.806663</td>\n",
       "      <td>16.137527</td>\n",
       "      <td>1054.765270</td>\n",
       "      <td>4.793359</td>\n",
       "      <td>0</td>\n",
       "      <td>6412</td>\n",
       "    </tr>\n",
       "    <tr>\n",
       "      <th>3</th>\n",
       "      <td>1129</td>\n",
       "      <td>47</td>\n",
       "      <td>138</td>\n",
       "      <td>102</td>\n",
       "      <td>467</td>\n",
       "      <td>7</td>\n",
       "      <td>26</td>\n",
       "      <td>147</td>\n",
       "      <td>435.919028</td>\n",
       "      <td>20.733238</td>\n",
       "      <td>81.223612</td>\n",
       "      <td>4.631663</td>\n",
       "      <td>1403.462437</td>\n",
       "      <td>0.000000</td>\n",
       "      <td>0</td>\n",
       "      <td>7180</td>\n",
       "    </tr>\n",
       "    <tr>\n",
       "      <th>4</th>\n",
       "      <td>23</td>\n",
       "      <td>14</td>\n",
       "      <td>18</td>\n",
       "      <td>16</td>\n",
       "      <td>15</td>\n",
       "      <td>3</td>\n",
       "      <td>0</td>\n",
       "      <td>42</td>\n",
       "      <td>11.141258</td>\n",
       "      <td>1.514845</td>\n",
       "      <td>31.493130</td>\n",
       "      <td>121.179552</td>\n",
       "      <td>67.058721</td>\n",
       "      <td>0.000000</td>\n",
       "      <td>0</td>\n",
       "      <td>3890</td>\n",
       "    </tr>\n",
       "    <tr>\n",
       "      <th>5</th>\n",
       "      <td>184</td>\n",
       "      <td>14</td>\n",
       "      <td>36</td>\n",
       "      <td>42</td>\n",
       "      <td>78</td>\n",
       "      <td>3</td>\n",
       "      <td>4</td>\n",
       "      <td>44</td>\n",
       "      <td>60.375364</td>\n",
       "      <td>0.000000</td>\n",
       "      <td>31.602269</td>\n",
       "      <td>1.507656</td>\n",
       "      <td>137.409984</td>\n",
       "      <td>0.000000</td>\n",
       "      <td>0</td>\n",
       "      <td>5979</td>\n",
       "    </tr>\n",
       "  </tbody>\n",
       "</table>\n",
       "</div>"
      ],
      "text/plain": [
       "   sust_amt  educ_amt  tran_amt  heal_amt  fina_amt  comm_amt  ente_amt  \\\n",
       "1        58        86        54        43        44         2         0   \n",
       "2       214        41        43        65       104         1         7   \n",
       "3      1129        47       138       102       467         7        26   \n",
       "4        23        14        18        16        15         3         0   \n",
       "5       184        14        36        42        78         3         4   \n",
       "\n",
       "   othe_amt   comm_area   park_area   indu_area   agri_area    resi_area  \\\n",
       "1        97   75.838787  320.453730   50.304504    3.877656   753.816342   \n",
       "2        68   76.584378   28.722817  120.806663   16.137527  1054.765270   \n",
       "3       147  435.919028   20.733238   81.223612    4.631663  1403.462437   \n",
       "4        42   11.141258    1.514845   31.493130  121.179552    67.058721   \n",
       "5        44   60.375364    0.000000   31.602269    1.507656   137.409984   \n",
       "\n",
       "   util_area  othe_area  trips  \n",
       "1   0.000000          0  15611  \n",
       "2   4.793359          0   6412  \n",
       "3   0.000000          0   7180  \n",
       "4   0.000000          0   3890  \n",
       "5   0.000000          0   5979  "
      ]
     },
     "execution_count": 9,
     "metadata": {},
     "output_type": "execute_result"
    }
   ],
   "source": [
    "dummy_data_amenities = pd.read_csv('DummyDataRegressionAmenitiex_revised.csv', index_col=0)\n",
    "dummy_data_amenities.head()"
   ]
  },
  {
   "cell_type": "markdown",
   "metadata": {
    "deletable": true,
    "editable": true
   },
   "source": [
    "# DATA PREPARATION (Example Plan)"
   ]
  },
  {
   "cell_type": "markdown",
   "metadata": {
    "collapsed": true,
    "deletable": true,
    "editable": true
   },
   "source": [
    "## Collinearity Checking using Peasrson Correlation (correlation coefficient, 2-tailed p-value)"
   ]
  },
  {
   "cell_type": "code",
   "execution_count": 10,
   "metadata": {
    "collapsed": false,
    "deletable": true,
    "editable": true
   },
   "outputs": [
    {
     "name": "stdout",
     "output_type": "stream",
     "text": [
      "All collinearities:\n",
      "Collinearity between no_hh & trips = (0.88819908302512485, 1.9285699992241247e-06)\n",
      "Collinearity between avg_income & trips = (-0.26124022358668669, 0.31115282884985307)\n",
      "Collinearity between mem_no & trips = (0.86767932652407465, 6.4153591620644434e-06)\n",
      "Collinearity between no_mem_educwork & trips = (0.87429475815909696, 4.4550812074522216e-06)\n",
      "Collinearity between comm_area & trips = (0.64193276618452488, 0.0054670728832082183)\n",
      "Collinearity between park_area & trips = (0.9103825506661708, 3.9232064579873457e-07)\n",
      "Collinearity between indu_area & trips = (0.12611598135042928, 0.62958180030553945)\n",
      "Collinearity between agri_area & trips = (0.66983263263870818, 0.0032642464610524533)\n",
      "Collinearity between resi_area & trips = (0.70387236988126478, 0.0016136580187106745)\n",
      "Collinearity between util_area & trips = (0.80628723468478913, 9.2652976729832789e-05)\n",
      "Collinearity between othe_area & trips = (nan, 1.0)\n",
      "Collinearity between no_hh & othe_area = (nan, 1.0)\n",
      "Collinearity between avg_income & othe_area = (nan, 1.0)\n",
      "Collinearity between mem_no & othe_area = (nan, 1.0)\n",
      "Collinearity between no_mem_educwork & othe_area = (nan, 1.0)\n",
      "Collinearity between comm_area & othe_area = (nan, 1.0)\n",
      "Collinearity between park_area & othe_area = (nan, 1.0)\n",
      "Collinearity between indu_area & othe_area = (nan, 1.0)\n",
      "Collinearity between agri_area & othe_area = (nan, 1.0)\n",
      "Collinearity between resi_area & othe_area = (nan, 1.0)\n",
      "Collinearity between util_area & othe_area = (nan, 1.0)\n",
      "Collinearity between no_hh & util_area = (0.79483153549669161, 0.00013755960941817154)\n",
      "Collinearity between avg_income & util_area = (-0.11834012214069232, 0.6510105808808182)\n",
      "Collinearity between mem_no & util_area = (0.78135642699731067, 0.00021249206698539005)\n",
      "Collinearity between no_mem_educwork & util_area = (0.78440521266009511, 0.0001930918908735126)\n",
      "Collinearity between comm_area & util_area = (0.69299308104631596, 0.002041397936234454)\n",
      "Collinearity between park_area & util_area = (0.94166622265560951, 1.7189509969265287e-08)\n",
      "Collinearity between indu_area & util_area = (0.087244951052083339, 0.73916749953597516)\n",
      "Collinearity between agri_area & util_area = (0.85046082766030306, 1.523833725079732e-05)\n",
      "Collinearity between resi_area & util_area = (0.76875589950042045, 0.00031088279657796744)\n",
      "Collinearity between no_hh & resi_area = (0.66951647857016272, 0.0032843319295653641)\n",
      "Collinearity between avg_income & resi_area = (-0.023004898516844587, 0.93016465735754117)\n",
      "Collinearity between mem_no & resi_area = (0.65656054247347673, 0.0041982254523316564)\n",
      "Collinearity between no_mem_educwork & resi_area = (0.66015316230262155, 0.0039263729350530688)\n",
      "Collinearity between comm_area & resi_area = (0.84240772276889186, 2.2034109050151555e-05)\n",
      "Collinearity between park_area & resi_area = (0.71529828166907128, 0.0012466444521858121)\n",
      "Collinearity between indu_area & resi_area = (0.31809668749002595, 0.21339693142284341)\n",
      "Collinearity between agri_area & resi_area = (0.55350028619983194, 0.021168330348077847)\n",
      "Collinearity between no_hh & agri_area = (0.64274619222721197, 0.0053892435641128347)\n",
      "Collinearity between avg_income & agri_area = (-0.21866719469092161, 0.39912286763569416)\n",
      "Collinearity between mem_no & agri_area = (0.63240184152938828, 0.0064484113896487866)\n",
      "Collinearity between no_mem_educwork & agri_area = (0.63506589572312711, 0.0061608893594094641)\n",
      "Collinearity between comm_area & agri_area = (0.51378721231685154, 0.034886921514415192)\n",
      "Collinearity between park_area & agri_area = (0.81776163603274565, 6.0733897466314931e-05)\n",
      "Collinearity between indu_area & agri_area = (-0.065038799203292322, 0.80413605213344252)\n",
      "Collinearity between no_hh & indu_area = (0.30612439944375219, 0.23208721712181882)\n",
      "Collinearity between avg_income & indu_area = (0.28342647897541368, 0.27029371896964766)\n",
      "Collinearity between mem_no & indu_area = (0.31779709299110331, 0.21385238203845414)\n",
      "Collinearity between no_mem_educwork & indu_area = (0.31493967041730048, 0.21822785517333362)\n",
      "Collinearity between comm_area & indu_area = (0.34228122432198838, 0.17868565178884646)\n",
      "Collinearity between park_area & indu_area = (0.091493652367743525, 0.72691094761462693)\n",
      "Collinearity between no_hh & park_area = (0.88659985524137241, 2.1350620738235181e-06)\n",
      "Collinearity between avg_income & park_area = (-0.13135655972095156, 0.61529449244709133)\n",
      "Collinearity between mem_no & park_area = (0.87150361427183354, 5.2086207936389237e-06)\n",
      "Collinearity between no_mem_educwork & park_area = (0.8751263194921115, 4.2494030620660641e-06)\n",
      "Collinearity between comm_area & park_area = (0.70718203500775545, 0.0014992483959008389)\n",
      "Collinearity between no_hh & comm_area = (0.66063550947547167, 0.0038909875975263754)\n",
      "Collinearity between avg_income & comm_area = (0.23639299821297938, 0.36099287371932404)\n",
      "Collinearity between mem_no & comm_area = (0.65329427225372616, 0.0044584318720515383)\n",
      "Collinearity between no_mem_educwork & comm_area = (0.65333888895708614, 0.0044547916374885052)\n",
      "Collinearity between no_hh & no_mem_educwork = (0.99947584559975466, 9.1133470341420151e-24)\n",
      "Collinearity between avg_income & no_mem_educwork = (0.16270137745958221, 0.53268193219483284)\n",
      "Collinearity between mem_no & no_mem_educwork = (0.99989549547732492, 5.1023410360678625e-29)\n",
      "Collinearity between no_hh & mem_no = (0.99897834560456877, 1.357981687669208e-21)\n",
      "Collinearity between avg_income & mem_no = (0.17552648650566718, 0.50040621132636942)\n",
      "Collinearity between no_hh & avg_income = (0.13762029256903149, 0.5983880322754942)\n"
     ]
    },
    {
     "name": "stderr",
     "output_type": "stream",
     "text": [
      "C:\\Users\\xtiangabe\\Anaconda3\\lib\\site-packages\\scipy\\stats\\stats.py:3029: RuntimeWarning: invalid value encountered in double_scalars\n",
      "  r = r_num / r_den\n",
      "C:\\Users\\xtiangabe\\Anaconda3\\lib\\site-packages\\scipy\\stats\\stats.py:5084: RuntimeWarning: invalid value encountered in less\n",
      "  x = np.where(x < 1.0, x, 1.0)  # if x > 1 then return 1.0\n"
     ]
    }
   ],
   "source": [
    "data_filepath = \"DummyDataRegression_revised.csv\"\n",
    "regression = Regression(data_filepath)\n",
    "array = regression.getDataFrame().values\n",
    "print(\"All collinearities:\")\n",
    "regression.printAllCollinearities()"
   ]
  },
  {
   "cell_type": "markdown",
   "metadata": {
    "deletable": true,
    "editable": true
   },
   "source": [
    "### Checking for Optimal Features using Recursive Feature Elimination with Cross-Validation"
   ]
  },
  {
   "cell_type": "code",
   "execution_count": 11,
   "metadata": {
    "collapsed": false,
    "deletable": true,
    "editable": true
   },
   "outputs": [
    {
     "name": "stdout",
     "output_type": "stream",
     "text": [
      "1\n",
      "2\n",
      "[ 2 10  3  4  6  8  5  7  9  1 11]\n",
      "Optimal number of features3: 1\n",
      "[(1, 'util_area'), (2, 'no_hh'), (3, 'mem_no'), (4, 'no_mem_educwork'), (5, 'indu_area'), (6, 'comm_area'), (7, 'agri_area'), (8, 'park_area'), (9, 'resi_area'), (10, 'avg_income'), (11, 'othe_area')]\n",
      "[False False False False False False False False False  True False]\n",
      "3\n"
     ]
    },
    {
     "data": {
      "text/plain": [
       "array(['no_hh', 'avg_income', 'mem_no', 'no_mem_educwork', 'comm_area',\n",
       "       'park_area', 'indu_area', 'agri_area', 'resi_area', 'util_area',\n",
       "       'othe_area'], dtype=object)"
      ]
     },
     "execution_count": 11,
     "metadata": {},
     "output_type": "execute_result"
    }
   ],
   "source": [
    "col_names = regression.getDataFrame().columns.values[0:11]\n",
    "print(str(1))\n",
    "dep_col_name = \"trips\"\n",
    "print(str(2))\n",
    "regression.getBestFeaturesRCEV(col_names, dep_col_name)\n",
    "print(str(3))\n",
    "col_names"
   ]
  },
  {
   "cell_type": "code",
   "execution_count": 12,
   "metadata": {
    "collapsed": false,
    "deletable": true,
    "editable": true
   },
   "outputs": [
    {
     "name": "stdout",
     "output_type": "stream",
     "text": [
      "All collinearities:\n",
      "Collinearity between sust_amt & trips = (0.61766649945179353, 0.0082397277247921313)\n",
      "Collinearity between educ_amt & trips = (0.79298891907477898, 0.00014625516874859079)\n",
      "Collinearity between tran_amt & trips = (0.82659474668514443, 4.2998072277589239e-05)\n",
      "Collinearity between heal_amt & trips = (0.7836582956773025, 0.00019770168871971209)\n",
      "Collinearity between fina_amt & trips = (0.56994354452005569, 0.016913167026585154)\n",
      "Collinearity between comm_amt & trips = (0.40246884564223007, 0.10924012866786645)\n",
      "Collinearity between ente_amt & trips = (0.63964348181274389, 0.0056909899532994433)\n",
      "Collinearity between othe_amt & trips = (0.81734620789132073, 6.1700600812943568e-05)\n",
      "Collinearity between comm_area & trips = (0.70239128224202696, 0.0016671293361775938)\n",
      "Collinearity between park_area & trips = (0.94004785612710895, 2.1005501466413752e-08)\n",
      "Collinearity between indu_area & trips = (0.15090461252797308, 0.56317607573574535)\n",
      "Collinearity between agri_area & trips = (0.70269953374106242, 0.0016558823959018866)\n",
      "Collinearity between resi_area & trips = (0.74431330821911379, 0.00061114429021143885)\n",
      "Collinearity between util_area & trips = (0.85172785701036735, 1.4351618108703435e-05)\n",
      "Collinearity between othe_area & trips = (nan, 1.0)\n",
      "Collinearity between sust_amt & othe_area = (nan, 1.0)\n",
      "Collinearity between educ_amt & othe_area = (nan, 1.0)\n",
      "Collinearity between tran_amt & othe_area = (nan, 1.0)\n",
      "Collinearity between heal_amt & othe_area = (nan, 1.0)\n",
      "Collinearity between fina_amt & othe_area = (nan, 1.0)\n",
      "Collinearity between comm_amt & othe_area = (nan, 1.0)\n",
      "Collinearity between ente_amt & othe_area = (nan, 1.0)\n",
      "Collinearity between othe_amt & othe_area = (nan, 1.0)\n",
      "Collinearity between comm_area & othe_area = (nan, 1.0)\n",
      "Collinearity between park_area & othe_area = (nan, 1.0)\n",
      "Collinearity between indu_area & othe_area = (nan, 1.0)\n",
      "Collinearity between agri_area & othe_area = (nan, 1.0)\n",
      "Collinearity between resi_area & othe_area = (nan, 1.0)\n",
      "Collinearity between util_area & othe_area = (nan, 1.0)\n",
      "Collinearity between sust_amt & util_area = (0.69481718142051463, 0.0019638341874689412)\n",
      "Collinearity between educ_amt & util_area = (0.78896393133506493, 0.0001668637311291222)\n",
      "Collinearity between tran_amt & util_area = (0.88933489690008305, 1.7924892395278015e-06)\n",
      "Collinearity between heal_amt & util_area = (0.86028662706942971, 9.4309607198135424e-06)\n",
      "Collinearity between fina_amt & util_area = (0.6259326456225377, 0.0071916677943492553)\n",
      "Collinearity between comm_amt & util_area = (0.51849731518624675, 0.032975840222316963)\n",
      "Collinearity between ente_amt & util_area = (0.73177843291838962, 0.00084061178248506937)\n",
      "Collinearity between othe_amt & util_area = (0.86620926622561067, 6.9386288283576697e-06)\n",
      "Collinearity between comm_area & util_area = (0.69310246271197162, 0.0020366772255687861)\n",
      "Collinearity between park_area & util_area = (0.94178062694929132, 1.6943967585258747e-08)\n",
      "Collinearity between indu_area & util_area = (0.06824552647828562, 0.79466828621010677)\n",
      "Collinearity between agri_area & util_area = (0.85048551603196687, 1.5220625655298571e-05)\n",
      "Collinearity between resi_area & util_area = (0.76870804039722185, 0.00031131858123301716)\n",
      "Collinearity between sust_amt & resi_area = (0.74992580524825336, 0.00052677753856286127)\n",
      "Collinearity between educ_amt & resi_area = (0.6914064333275004, 0.0021108887624022234)\n",
      "Collinearity between tran_amt & resi_area = (0.80959950730682384, 8.2253369798209727e-05)\n",
      "Collinearity between heal_amt & resi_area = (0.81538450963708953, 6.6442668655031922e-05)\n",
      "Collinearity between fina_amt & resi_area = (0.70894214476847095, 0.0014411760725897185)\n",
      "Collinearity between comm_amt & resi_area = (0.6259475715424484, 0.0071898772261741366)\n",
      "Collinearity between ente_amt & resi_area = (0.78302308582073543, 0.00020169423476601727)\n",
      "Collinearity between othe_amt & resi_area = (0.76325242919780578, 0.00036445511562274501)\n",
      "Collinearity between comm_area & resi_area = (0.84240610596310672, 2.203569543399217e-05)\n",
      "Collinearity between park_area & resi_area = (0.71529570536581089, 0.0012467186692438064)\n",
      "Collinearity between indu_area & resi_area = (0.27624966775047405, 0.28313141642021455)\n",
      "Collinearity between agri_area & resi_area = (0.55349860176891386, 0.02116880521418955)\n",
      "Collinearity between sust_amt & agri_area = (0.52690191100149875, 0.029766021967637248)\n",
      "Collinearity between educ_amt & agri_area = (0.63304864674278993, 0.006377632369350566)\n",
      "Collinearity between tran_amt & agri_area = (0.72407645567893786, 0.0010140160494240007)\n",
      "Collinearity between heal_amt & agri_area = (0.66264166217045772, 0.0037465791472153817)\n",
      "Collinearity between fina_amt & agri_area = (0.45700680485065615, 0.065146223418644233)\n",
      "Collinearity between comm_amt & agri_area = (0.37645866209129553, 0.13638631540649229)\n",
      "Collinearity between ente_amt & agri_area = (0.55775141358940628, 0.019996049783986725)\n",
      "Collinearity between othe_amt & agri_area = (0.70972408153495736, 0.001415977724252787)\n",
      "Collinearity between comm_area & agri_area = (0.5137855673517514, 0.034887603390677563)\n",
      "Collinearity between park_area & agri_area = (0.81776573329392221, 6.0724427101748198e-05)\n",
      "Collinearity between indu_area & agri_area = (0.036571778564583088, 0.88917409803320036)\n",
      "Collinearity between sust_amt & indu_area = (0.16229248543689778, 0.53372621910983742)\n",
      "Collinearity between educ_amt & indu_area = (0.30333368364316493, 0.23658866648852947)\n",
      "Collinearity between tran_amt & indu_area = (0.16926814531855836, 0.51603892277632935)\n",
      "Collinearity between heal_amt & indu_area = (0.28069233938006538, 0.2751415966504589)\n",
      "Collinearity between fina_amt & indu_area = (0.20067140286548707, 0.43995247353272593)\n",
      "Collinearity between comm_amt & indu_area = (0.38883489024396944, 0.12294410159344821)\n",
      "Collinearity between ente_amt & indu_area = (0.059453401362573932, 0.82068769097633165)\n",
      "Collinearity between othe_amt & indu_area = (0.30938731338792441, 0.2268936280376545)\n",
      "Collinearity between comm_area & indu_area = (0.28960345860124087, 0.25953583374224071)\n",
      "Collinearity between park_area & indu_area = (0.065204241033517366, 0.80364694815294158)\n",
      "Collinearity between sust_amt & park_area = (0.66689471651724719, 0.0034547988619792018)\n",
      "Collinearity between educ_amt & park_area = (0.81070853530588827, 7.8998960313364817e-05)\n",
      "Collinearity between tran_amt & park_area = (0.88905308013642648, 1.8254640591664167e-06)\n",
      "Collinearity between heal_amt & park_area = (0.81904076158377814, 5.7837165864726537e-05)\n",
      "Collinearity between fina_amt & park_area = (0.59871735326619868, 0.011105531985629757)\n",
      "Collinearity between comm_amt & park_area = (0.49190303869204599, 0.044896867241817399)\n",
      "Collinearity between ente_amt & park_area = (0.68044337759272555, 0.0026458457618055353)\n",
      "Collinearity between othe_amt & park_area = (0.87083228614206154, 5.4052241299678657e-06)\n",
      "Collinearity between comm_area & park_area = (0.70718113165699381, 0.0014992786871288997)\n",
      "Collinearity between sust_amt & comm_area = (0.94260304563521624, 1.5265951889789318e-08)\n",
      "Collinearity between educ_amt & comm_area = (0.68683530637861756, 0.002321994355890606)\n",
      "Collinearity between tran_amt & comm_area = (0.87880726191485503, 3.4331655751587803e-06)\n",
      "Collinearity between heal_amt & comm_area = (0.84367002539319802, 2.0824700889914594e-05)\n",
      "Collinearity between fina_amt & comm_area = (0.93027659194599632, 6.3334351654084526e-08)\n",
      "Collinearity between comm_amt & comm_area = (0.6102470463080375, 0.0092812609504885017)\n",
      "Collinearity between ente_amt & comm_area = (0.93046023013331836, 6.2127588052699386e-08)\n",
      "Collinearity between othe_amt & comm_area = (0.82114042936845777, 5.3334948924616728e-05)\n",
      "Collinearity between sust_amt & othe_amt = (0.85427780403814813, 1.26991002312223e-05)\n",
      "Collinearity between educ_amt & othe_amt = (0.9527455470158257, 3.6583371996180667e-09)\n",
      "Collinearity between tran_amt & othe_amt = (0.97181358224554903, 8.0237873479760702e-11)\n",
      "Collinearity between heal_amt & othe_amt = (0.98054878010015356, 5.0952658291417737e-12)\n",
      "Collinearity between fina_amt & othe_amt = (0.81884565306254342, 5.8271326412332119e-05)\n",
      "Collinearity between comm_amt & othe_amt = (0.78696464463823146, 0.00017797237654992162)\n",
      "Collinearity between ente_amt & othe_amt = (0.79023668595001628, 0.00016009943949598209)\n",
      "Collinearity between sust_amt & ente_amt = (0.96980934683842079, 1.3353590146295719e-10)\n",
      "Collinearity between educ_amt & ente_amt = (0.64875261697718889, 0.0048417844306554584)\n",
      "Collinearity between tran_amt & ente_amt = (0.88034202209974066, 3.1346707588723248e-06)\n",
      "Collinearity between heal_amt & ente_amt = (0.84611793791143941, 1.8639057392682429e-05)\n",
      "Collinearity between fina_amt & ente_amt = (0.94801227069359029, 7.3825008770073216e-09)\n",
      "Collinearity between comm_amt & ente_amt = (0.55409040524017317, 0.02100247697943099)\n",
      "Collinearity between sust_amt & comm_amt = (0.6807351408484219, 0.002630302010329742)\n",
      "Collinearity between educ_amt & comm_amt = (0.79255981218877525, 0.00014834504006284879)\n",
      "Collinearity between tran_amt & comm_amt = (0.71750446566464376, 0.0011844117315903027)\n",
      "Collinearity between heal_amt & comm_amt = (0.78800868802175084, 0.0001720965192155377)\n",
      "Collinearity between fina_amt & comm_amt = (0.66324383610796944, 0.0037040925238367339)\n",
      "Collinearity between sust_amt & fina_amt = (0.99052323850341195, 2.3851237316826585e-14)\n",
      "Collinearity between educ_amt & fina_amt = (0.7114756117300266, 0.0013608472133041808)\n",
      "Collinearity between tran_amt & fina_amt = (0.85869537441944022, 1.0217461183619518e-05)\n",
      "Collinearity between heal_amt & fina_amt = (0.8624808686230232, 8.4311975688567123e-06)\n",
      "Collinearity between sust_amt & heal_amt = (0.89173952434256809, 1.5312085355383966e-06)\n",
      "Collinearity between educ_amt & heal_amt = (0.92782092042598119, 8.151469794911823e-08)\n",
      "Collinearity between tran_amt & heal_amt = (0.96955419236128038, 1.421309746844876e-10)\n",
      "Collinearity between sust_amt & tran_amt = (0.90448959639992821, 6.2151551862926879e-07)\n",
      "Collinearity between educ_amt & tran_amt = (0.8837657131462745, 2.5474978035545389e-06)\n",
      "Collinearity between sust_amt & educ_amt = (0.73775999576960838, 0.00072355088037530661)\n"
     ]
    },
    {
     "name": "stderr",
     "output_type": "stream",
     "text": [
      "C:\\Users\\xtiangabe\\Anaconda3\\lib\\site-packages\\scipy\\stats\\stats.py:3029: RuntimeWarning: invalid value encountered in double_scalars\n",
      "  r = r_num / r_den\n",
      "C:\\Users\\xtiangabe\\Anaconda3\\lib\\site-packages\\scipy\\stats\\stats.py:5084: RuntimeWarning: invalid value encountered in less\n",
      "  x = np.where(x < 1.0, x, 1.0)  # if x > 1 then return 1.0\n"
     ]
    }
   ],
   "source": [
    "data_filepath2 = \"DummyDataRegressionAmenitiex.csv\"\n",
    "regression2 = Regression(data_filepath2)\n",
    "array2 = regression2.getDataFrame().values\n",
    "print(\"All collinearities:\")\n",
    "regression2.printAllCollinearities()"
   ]
  },
  {
   "cell_type": "code",
   "execution_count": 13,
   "metadata": {
    "collapsed": false,
    "deletable": true,
    "editable": true
   },
   "outputs": [
    {
     "name": "stdout",
     "output_type": "stream",
     "text": [
      "1\n",
      "2\n",
      "[5 1 1 1 1 1 1 3 1 4 1 2 1 6]\n",
      "Optimal number of features3: 9\n",
      "[(1, 'agri_area'), (1, 'comm_amt'), (1, 'ente_amt'), (1, 'fina_amt'), (1, 'heal_amt'), (1, 'othe_amt'), (1, 'park_area'), (1, 'tran_amt'), (1, 'util_area'), (2, 'resi_area'), (3, 'comm_area'), (4, 'indu_area'), (5, 'educ_amt'), (6, 'othe_area')]\n",
      "[False  True  True  True  True  True  True False  True False  True False\n",
      "  True False]\n",
      "3\n"
     ]
    },
    {
     "data": {
      "text/plain": [
       "array(['educ_amt', 'tran_amt', 'heal_amt', 'fina_amt', 'comm_amt',\n",
       "       'ente_amt', 'othe_amt', 'comm_area', 'park_area', 'indu_area',\n",
       "       'agri_area', 'resi_area', 'util_area', 'othe_area'], dtype=object)"
      ]
     },
     "execution_count": 13,
     "metadata": {},
     "output_type": "execute_result"
    }
   ],
   "source": [
    "col_names2 = regression2.getDataFrame().columns.values[1:15]\n",
    "print(str(1))\n",
    "dep_col_name2 = \"trips\"\n",
    "print(str(2))\n",
    "regression2.getBestFeaturesRCEV(col_names2, dep_col_name2)\n",
    "print(str(3))\n",
    "col_names2"
   ]
  },
  {
   "cell_type": "code",
   "execution_count": 10,
   "metadata": {
    "collapsed": false,
    "deletable": true,
    "editable": true
   },
   "outputs": [
    {
     "ename": "IndentationError",
     "evalue": "unexpected indent (<ipython-input-10-1debb5dd00cc>, line 2)",
     "output_type": "error",
     "traceback": [
      "\u001b[1;36m  File \u001b[1;32m\"<ipython-input-10-1debb5dd00cc>\"\u001b[1;36m, line \u001b[1;32m2\u001b[0m\n\u001b[1;33m    'othe_area'\u001b[0m\n\u001b[1;37m    ^\u001b[0m\n\u001b[1;31mIndentationError\u001b[0m\u001b[1;31m:\u001b[0m unexpected indent\n"
     ]
    }
   ],
   "source": [
    " 'util_area',\n",
    "       'othe_area'\n",
    "        \n",
    "\\n Correlation coeff=0.9125, P-value=3.31e-07'"
   ]
  },
  {
   "cell_type": "code",
   "execution_count": 14,
   "metadata": {
    "collapsed": false,
    "deletable": true,
    "editable": true
   },
   "outputs": [
    {
     "data": {
      "image/png": "[encoded data removed]",
      "text/plain": [
       "<matplotlib.figure.Figure at 0x154d81d7780>"
      ]
     },
     "metadata": {},
     "output_type": "display_data"
    }
   ],
   "source": [
    "df = regression2.getDataFrame()\n",
    "plt.plot(df[\"trips\"], df[\"comm_area\"], 'bo')\n",
    "x = df[\"trips\"]\n",
    "y = df[\"comm_area\"]\n",
    "fit = np.polyfit(x, y, deg=1)\n",
    "plt.plot(x, fit[0] * x + fit[1], color='red')\n",
    "plt.xlabel('trips')\n",
    "plt.ylabel('comm_area')\n",
    "plt.title('Observed Data (Trips produced & # of commercial area)\\n Correlation coeff=0.7024, P-value=0.001667')\n",
    "plt.grid(True)\n",
    "# plt.axis([0, 220, 0, 120])\n",
    "plt.show()"
   ]
  },
  {
   "cell_type": "code",
   "execution_count": 15,
   "metadata": {
    "collapsed": false,
    "deletable": true,
    "editable": true
   },
   "outputs": [
    {
     "data": {
      "image/png": "[encoded data removed]",
      "text/plain": [
       "<matplotlib.figure.Figure at 0x154d84186a0>"
      ]
     },
     "metadata": {},
     "output_type": "display_data"
    }
   ],
   "source": [
    "df = regression2.getDataFrame()\n",
    "plt.plot(df[\"trips\"], df[\"park_area\"], 'bo')\n",
    "x = df[\"trips\"]\n",
    "y = df[\"park_area\"]\n",
    "fit = np.polyfit(x, y, deg=1)\n",
    "plt.plot(x, fit[0] * x + fit[1], color='red')\n",
    "plt.xlabel('trips')\n",
    "plt.ylabel('park_area')\n",
    "plt.title('Observed Data (Trips produced & # of park area)\\n Correlation coeff=0.9400, P-value= 2.10e-08')\n",
    "plt.grid(True)\n",
    "# plt.axis([0, 220, 0, 120])\n",
    "plt.show()"
   ]
  },
  {
   "cell_type": "code",
   "execution_count": 16,
   "metadata": {
    "collapsed": false,
    "deletable": true,
    "editable": true
   },
   "outputs": [
    {
     "data": {
      "image/png": "[encoded data removed]",
      "text/plain": [
       "<matplotlib.figure.Figure at 0x154d86a1780>"
      ]
     },
     "metadata": {},
     "output_type": "display_data"
    }
   ],
   "source": [
    "df = regression2.getDataFrame()\n",
    "plt.plot(df[\"trips\"], df[\"indu_area\"], 'bo')\n",
    "x = df[\"trips\"]\n",
    "y = df[\"indu_area\"]\n",
    "fit = np.polyfit(x, y, deg=1)\n",
    "plt.plot(x, fit[0] * x + fit[1], color='red')\n",
    "plt.xlabel('trips')\n",
    "plt.ylabel('indu_area')\n",
    "plt.title('Observed Data (Trips produced & # of industrial area)\\n Correlation coeff=0.1509, P-value=0.5632')\n",
    "plt.grid(True)\n",
    "# plt.axis([0, 220, 0, 120])\n",
    "plt.show()"
   ]
  },
  {
   "cell_type": "code",
   "execution_count": 17,
   "metadata": {
    "collapsed": false,
    "deletable": true,
    "editable": true
   },
   "outputs": [
    {
     "data": {
      "image/png": "[encoded data removed]",
      "text/plain": [
       "<matplotlib.figure.Figure at 0x154d8768048>"
      ]
     },
     "metadata": {},
     "output_type": "display_data"
    }
   ],
   "source": [
    "df = regression2.getDataFrame()\n",
    "plt.plot(df[\"trips\"], df[\"agri_area\"], 'bo')\n",
    "x = df[\"trips\"]\n",
    "y = df[\"agri_area\"]\n",
    "fit = np.polyfit(x, y, deg=1)\n",
    "plt.plot(x, fit[0] * x + fit[1], color='red')\n",
    "plt.xlabel('trips')\n",
    "plt.ylabel('agri_area')\n",
    "plt.title('Observed Data (Trips produced & # of agricultural area)\\n Correlation coeff=0.7027, P-value=0.0017')\n",
    "plt.grid(True)\n",
    "# plt.axis([0, 220, 0, 120])\n",
    "plt.show()"
   ]
  },
  {
   "cell_type": "code",
   "execution_count": 18,
   "metadata": {
    "collapsed": false,
    "deletable": true,
    "editable": true
   },
   "outputs": [
    {
     "data": {
      "image/png": "[encoded data removed]",
      "text/plain": [
       "<matplotlib.figure.Figure at 0x154d8420c88>"
      ]
     },
     "metadata": {},
     "output_type": "display_data"
    }
   ],
   "source": [
    "df = regression2.getDataFrame()\n",
    "plt.plot(df[\"trips\"], df[\"resi_area\"], 'bo')\n",
    "x = df[\"trips\"]\n",
    "y = df[\"resi_area\"]\n",
    "fit = np.polyfit(x, y, deg=1)\n",
    "plt.plot(x, fit[0] * x + fit[1], color='red')\n",
    "plt.xlabel('trips')\n",
    "plt.ylabel('resi_area')\n",
    "plt.title('Observed Data (Trips produced & # of residential area)\\n Correlation coeff=0.7443, P-value=0.0006')\n",
    "plt.grid(True)\n",
    "# plt.axis([0, 220, 0, 120])\n",
    "plt.show()"
   ]
  },
  {
   "cell_type": "code",
   "execution_count": 19,
   "metadata": {
    "collapsed": false,
    "deletable": true,
    "editable": true
   },
   "outputs": [
    {
     "data": {
      "image/png": "[encoded data removed]",
      "text/plain": [
       "<matplotlib.figure.Figure at 0x154d8864b70>"
      ]
     },
     "metadata": {},
     "output_type": "display_data"
    }
   ],
   "source": [
    "df = regression2.getDataFrame()\n",
    "plt.plot(df[\"trips\"], df[\"util_area\"], 'bo')\n",
    "x = df[\"trips\"]\n",
    "y = df[\"util_area\"]\n",
    "fit = np.polyfit(x, y, deg=1)\n",
    "plt.plot(x, fit[0] * x + fit[1], color='red')\n",
    "plt.xlabel('trips')\n",
    "plt.ylabel('util_area')\n",
    "plt.title('Observed Data (Trips produced & # of utility area)\\n Correlation coeff=0.8517, P-value=1.43e-05')\n",
    "plt.grid(True)\n",
    "# plt.axis([0, 220, 0, 120])\n",
    "plt.show()"
   ]
  },
  {
   "cell_type": "markdown",
   "metadata": {
    "deletable": true,
    "editable": true
   },
   "source": [
    "### Verify Collinearity through Scatter Plots"
   ]
  },
  {
   "cell_type": "code",
   "execution_count": 20,
   "metadata": {
    "collapsed": false,
    "deletable": true,
    "editable": true
   },
   "outputs": [
    {
     "data": {
      "image/png": "[encoded data removed]",
      "text/plain": [
       "<matplotlib.figure.Figure at 0x154d88d65c0>"
      ]
     },
     "metadata": {},
     "output_type": "display_data"
    }
   ],
   "source": [
    "df = regression2.getDataFrame()\n",
    "plt.plot(df[\"trips\"], df[\"othe_amt\"], 'bo')\n",
    "x = df[\"trips\"]\n",
    "y = df[\"othe_amt\"]\n",
    "fit = np.polyfit(x, y, deg=1)\n",
    "plt.plot(x, fit[0] * x + fit[1], color='red')\n",
    "plt.xlabel('trips')\n",
    "plt.ylabel('othe_amt')\n",
    "plt.title('Observed Data (trips x othe_amt)')\n",
    "plt.grid(True)\n",
    "# plt.axis([0, 220, 0, 120])\n",
    "plt.show()"
   ]
  },
  {
   "cell_type": "code",
   "execution_count": 21,
   "metadata": {
    "collapsed": false,
    "deletable": true,
    "editable": true
   },
   "outputs": [
    {
     "data": {
      "image/png": "[encoded data removed]",
      "text/plain": [
       "<matplotlib.figure.Figure at 0x154d9917f28>"
      ]
     },
     "metadata": {},
     "output_type": "display_data"
    }
   ],
   "source": [
    "df = regression2.getDataFrame()\n",
    "plt.plot(df[\"trips\"], df[\"sust_amt\"], 'bo')\n",
    "x = df[\"trips\"]\n",
    "y = df[\"sust_amt\"]\n",
    "fit = np.polyfit(x, y, deg=1)\n",
    "plt.plot(x, fit[0] * x + fit[1], color='red')\n",
    "plt.xlabel('trips')\n",
    "plt.ylabel('sust_amt')\n",
    "plt.title('Observed Data (trips x sust_amt)')\n",
    "plt.grid(True)\n",
    "# plt.axis([0, 220, 0, 120])\n",
    "plt.show()"
   ]
  },
  {
   "cell_type": "code",
   "execution_count": 22,
   "metadata": {
    "collapsed": false,
    "deletable": true,
    "editable": true
   },
   "outputs": [
    {
     "data": {
      "image/png": "[encoded data removed]",
      "text/plain": [
       "<matplotlib.figure.Figure at 0x154d998c5f8>"
      ]
     },
     "metadata": {},
     "output_type": "display_data"
    }
   ],
   "source": [
    "df = regression2.getDataFrame()\n",
    "plt.plot(df[\"trips\"], df[\"educ_amt\"], 'bo')\n",
    "x = df[\"trips\"]\n",
    "y = df[\"educ_amt\"]\n",
    "fit = np.polyfit(x, y, deg=1)\n",
    "plt.plot(x, fit[0] * x + fit[1], color='red')\n",
    "plt.xlabel('trips')\n",
    "plt.ylabel('educ_amt')\n",
    "plt.title('Observed Data (trips x educ_amt)')\n",
    "plt.grid(True)\n",
    "# plt.axis([0, 220, 0, 120])\n",
    "plt.show()"
   ]
  },
  {
   "cell_type": "code",
   "execution_count": 23,
   "metadata": {
    "collapsed": false,
    "deletable": true,
    "editable": true
   },
   "outputs": [
    {
     "data": {
      "image/png": "[encoded data removed]",
      "text/plain": [
       "<matplotlib.figure.Figure at 0x154d9973ac8>"
      ]
     },
     "metadata": {},
     "output_type": "display_data"
    }
   ],
   "source": [
    "df = regression2.getDataFrame()\n",
    "plt.plot(df[\"trips\"], df[\"tran_amt\"], 'bo')\n",
    "x = df[\"trips\"]\n",
    "y = df[\"tran_amt\"]\n",
    "fit = np.polyfit(x, y, deg=1)\n",
    "plt.plot(x, fit[0] * x + fit[1], color='red')\n",
    "plt.xlabel('trips')\n",
    "plt.ylabel('tran_amt')\n",
    "plt.title('Observed Data (trips x tran_amt)')\n",
    "plt.grid(True)\n",
    "# plt.axis([0, 220, 0, 120])\n",
    "plt.show()"
   ]
  },
  {
   "cell_type": "code",
   "execution_count": 24,
   "metadata": {
    "collapsed": false,
    "deletable": true,
    "editable": true
   },
   "outputs": [
    {
     "data": {
      "image/png": "[encoded data removed]",
      "text/plain": [
       "<matplotlib.figure.Figure at 0x154d87f8940>"
      ]
     },
     "metadata": {},
     "output_type": "display_data"
    }
   ],
   "source": [
    "df = regression2.getDataFrame()\n",
    "plt.plot(df[\"trips\"], df[\"heal_amt\"], 'bo')\n",
    "x = df[\"trips\"]\n",
    "y = df[\"heal_amt\"]\n",
    "fit = np.polyfit(x, y, deg=1)\n",
    "plt.plot(x, fit[0] * x + fit[1], color='red')\n",
    "plt.xlabel('trips')\n",
    "plt.ylabel('heal_amt')\n",
    "plt.title('Observed Data (trips x heal_amt)')\n",
    "plt.grid(True)\n",
    "# plt.axis([0, 220, 0, 120])\n",
    "plt.show()"
   ]
  },
  {
   "cell_type": "code",
   "execution_count": 25,
   "metadata": {
    "collapsed": false,
    "deletable": true,
    "editable": true
   },
   "outputs": [
    {
     "data": {
      "image/png": "[encoded data removed]",
      "text/plain": [
       "<matplotlib.figure.Figure at 0x154d997a828>"
      ]
     },
     "metadata": {},
     "output_type": "display_data"
    }
   ],
   "source": [
    "df = regression2.getDataFrame()\n",
    "plt.plot(df[\"trips\"], df[\"fina_amt\"], 'bo')\n",
    "x = df[\"trips\"]\n",
    "y = df[\"fina_amt\"]\n",
    "fit = np.polyfit(x, y, deg=1)\n",
    "plt.plot(x, fit[0] * x + fit[1], color='red')\n",
    "plt.xlabel('trips')\n",
    "plt.ylabel('fina_amt')\n",
    "plt.title('Observed Data (trips x fina_amt)')\n",
    "plt.grid(True)\n",
    "# plt.axis([0, 220, 0, 120])\n",
    "plt.show()"
   ]
  },
  {
   "cell_type": "code",
   "execution_count": 26,
   "metadata": {
    "collapsed": false,
    "deletable": true,
    "editable": true
   },
   "outputs": [
    {
     "data": {
      "image/png": "[encoded data removed]",
      "text/plain": [
       "<matplotlib.figure.Figure at 0x154d99b1ba8>"
      ]
     },
     "metadata": {},
     "output_type": "display_data"
    }
   ],
   "source": [
    "df = regression2.getDataFrame()\n",
    "plt.plot(df[\"trips\"], df[\"ente_amt\"], 'bo')\n",
    "x = df[\"trips\"]\n",
    "y = df[\"ente_amt\"]\n",
    "fit = np.polyfit(x, y, deg=1)\n",
    "plt.plot(x, fit[0] * x + fit[1], color='red')\n",
    "plt.xlabel('trips')\n",
    "plt.ylabel('ente_amt')\n",
    "plt.title('Observed Data (trips x ente_amt)')\n",
    "plt.grid(True)\n",
    "# plt.axis([0, 220, 0, 120])\n",
    "plt.show()"
   ]
  },
  {
   "cell_type": "code",
   "execution_count": 27,
   "metadata": {
    "collapsed": false,
    "deletable": true,
    "editable": true
   },
   "outputs": [
    {
     "data": {
      "image/png": "[encoded data removed]",
      "text/plain": [
       "<matplotlib.figure.Figure at 0x154d86a4710>"
      ]
     },
     "metadata": {},
     "output_type": "display_data"
    }
   ],
   "source": [
    "df = regression2.getDataFrame()\n",
    "plt.plot(df[\"trips\"], df[\"comm_amt\"], 'bo')\n",
    "x = df[\"trips\"]\n",
    "y = df[\"comm_amt\"]\n",
    "fit = np.polyfit(x, y, deg=1)\n",
    "plt.plot(x, fit[0] * x + fit[1], color='red')\n",
    "plt.xlabel('trips')\n",
    "plt.ylabel('comm_amt')\n",
    "plt.title('Observed Data (trips x comm_amt)')\n",
    "plt.grid(True)\n",
    "# plt.axis([0, 220, 0, 120])\n",
    "plt.show()"
   ]
  },
  {
   "cell_type": "code",
   "execution_count": 28,
   "metadata": {
    "collapsed": false,
    "deletable": true,
    "editable": true
   },
   "outputs": [
    {
     "data": {
      "image/png": "[encoded data removed]",
      "text/plain": [
       "<matplotlib.figure.Figure at 0x154d887fb00>"
      ]
     },
     "metadata": {},
     "output_type": "display_data"
    }
   ],
   "source": [
    "df = regression2.getDataFrame()\n",
    "plt.plot(df[\"trips\"], df[\"comm_amt\"], 'bo')\n",
    "x = df[\"trips\"]\n",
    "y = df[\"comm_amt\"]\n",
    "fit = np.polyfit(x, y, deg=1)\n",
    "plt.plot(x, fit[0] * x + fit[1], color='red')\n",
    "plt.xlabel('trips')\n",
    "plt.ylabel('comm_amt')\n",
    "plt.title('Observed Data (trips x comm_amt)')\n",
    "plt.grid(True)\n",
    "# plt.axis([0, 220, 0, 120])\n",
    "plt.show()"
   ]
  },
  {
   "cell_type": "code",
   "execution_count": 29,
   "metadata": {
    "collapsed": false,
    "deletable": true,
    "editable": true
   },
   "outputs": [
    {
     "data": {
      "image/png": "[encoded data removed]",
      "text/plain": [
       "<matplotlib.figure.Figure at 0x154d87e9320>"
      ]
     },
     "metadata": {},
     "output_type": "display_data"
    }
   ],
   "source": [
    "df = regression.getDataFrame()\n",
    "plt.plot(df[\"trips\"], df[\"agri_area\"], 'bo')\n",
    "x = df[\"trips\"]\n",
    "y = df[\"agri_area\"]\n",
    "fit = np.polyfit(x, y, deg=1)\n",
    "plt.plot(x, fit[0] * x + fit[1], color='red')\n",
    "plt.xlabel('trips')\n",
    "plt.ylabel('agri_area')\n",
    "plt.title('Observed Data (trips x agri_area)')\n",
    "plt.grid(True)\n",
    "# plt.axis([0, 220, 0, 120])\n",
    "plt.show()"
   ]
  },
  {
   "cell_type": "code",
   "execution_count": 23,
   "metadata": {
    "collapsed": false,
    "deletable": true,
    "editable": true
   },
   "outputs": [
    {
     "ename": "SyntaxError",
     "evalue": "invalid syntax (<ipython-input-23-988561d38e77>, line 1)",
     "output_type": "error",
     "traceback": [
      "\u001b[0;36m  File \u001b[0;32m\"<ipython-input-23-988561d38e77>\"\u001b[0;36m, line \u001b[0;32m1\u001b[0m\n\u001b[0;31m    Collinearity between no_hh & trips = (0.92914760415527753, 7.1205170410730196e-08)\u001b[0m\n\u001b[0m                       ^\u001b[0m\n\u001b[0;31mSyntaxError\u001b[0m\u001b[0;31m:\u001b[0m invalid syntax\n"
     ]
    }
   ],
   "source": [
    "Collinearity between no_hh & trips = (0.92914760415527753, 7.1205170410730196e-08)\n",
    "Collinearity between avg_income & trips = (0.91992035789848337, 1.7354578828442896e-07)\n",
    "Collinearity between mem_no & trips = (0.91247798270778113, 3.305852610863916e-07)\n",
    "Collinearity between no_mem_educwork & trips = (0.91764041951966036, 2.1277373172145904e-07)"
   ]
  },
  {
   "cell_type": "code",
   "execution_count": 30,
   "metadata": {
    "collapsed": false,
    "deletable": true,
    "editable": true
   },
   "outputs": [
    {
     "data": {
      "image/png": "[encoded data removed]",
      "text/plain": [
       "<matplotlib.figure.Figure at 0x154d87549e8>"
      ]
     },
     "metadata": {},
     "output_type": "display_data"
    }
   ],
   "source": [
    "df = regression.getDataFrame()\n",
    "plt.plot(df[\"trips\"], df[\"no_hh\"], 'bo')\n",
    "x = df[\"trips\"]\n",
    "y = df[\"no_hh\"]\n",
    "fit = np.polyfit(x, y, deg=1)\n",
    "plt.plot(x, fit[0] * x + fit[1], color='red')\n",
    "plt.xlabel('trips')\n",
    "plt.ylabel('no_hh')\n",
    "plt.title('Observed Data (Trips produced & # of households)\\n Correlation coeff=0.9291, P-value=7.12e-08')\n",
    "plt.grid(True)\n",
    "# plt.axis([0, 220, 0, 120])\n",
    "plt.show()"
   ]
  },
  {
   "cell_type": "code",
   "execution_count": 31,
   "metadata": {
    "collapsed": false,
    "deletable": true,
    "editable": true
   },
   "outputs": [
    {
     "data": {
      "image/png": "[encoded data removed]",
      "text/plain": [
       "<matplotlib.figure.Figure at 0x154d9a1bf98>"
      ]
     },
     "metadata": {},
     "output_type": "display_data"
    }
   ],
   "source": [
    "df = regression.getDataFrame()\n",
    "plt.plot(df[\"trips\"], df[\"mem_no\"], 'bo')\n",
    "x = df[\"trips\"]\n",
    "y = df[\"mem_no\"]\n",
    "fit = np.polyfit(x, y, deg=1)\n",
    "plt.plot(x, fit[0] * x + fit[1], color='red')\n",
    "plt.xlabel('trips')\n",
    "plt.ylabel('mem_no')\n",
    "plt.title('Observed Data (Trips produced & # of household members)\\n Correlation coeff=0.9125, P-value=3.31e-07')\n",
    "plt.grid(True)\n",
    "# plt.axis([0, 220, 0, 120])\n",
    "plt.show()"
   ]
  },
  {
   "cell_type": "code",
   "execution_count": 32,
   "metadata": {
    "collapsed": false,
    "deletable": true,
    "editable": true
   },
   "outputs": [
    {
     "data": {
      "image/png": "[encoded data removed]",
      "text/plain": [
       "<matplotlib.figure.Figure at 0x154d9a86a90>"
      ]
     },
     "metadata": {},
     "output_type": "display_data"
    }
   ],
   "source": [
    "df = regression.getDataFrame()\n",
    "plt.plot(df[\"trips\"], df[\"avg_income\"], 'bo')\n",
    "x = df[\"trips\"]\n",
    "y = df[\"avg_income\"]\n",
    "fit = np.polyfit(x, y, deg=1)\n",
    "plt.plot(x, fit[0] * x + fit[1], color='red')\n",
    "plt.xlabel('trips')\n",
    "plt.ylabel('avg_income')\n",
    "plt.title('Observed Data (Trips produced & Average income)\\n Correlation coeff=0.9199, P-value=1.73e-07')\n",
    "plt.grid(True)\n",
    "# plt.axis([0, 220, 0, 120])\n",
    "plt.show()"
   ]
  },
  {
   "cell_type": "code",
   "execution_count": 33,
   "metadata": {
    "collapsed": false,
    "deletable": true,
    "editable": true
   },
   "outputs": [
    {
     "data": {
      "image/png": "[encoded data removed]",
      "text/plain": [
       "<matplotlib.figure.Figure at 0x154d9a2f630>"
      ]
     },
     "metadata": {},
     "output_type": "display_data"
    }
   ],
   "source": [
    "df = regression.getDataFrame()\n",
    "plt.plot(df[\"trips\"], df[\"resi_area\"], 'bo')\n",
    "x = df[\"trips\"]\n",
    "y = df[\"resi_area\"]\n",
    "fit = np.polyfit(x, y, deg=1)\n",
    "plt.plot(x, fit[0] * x + fit[1], color='red')\n",
    "plt.xlabel('trips')\n",
    "plt.ylabel('resi_area')\n",
    "plt.title('Observed Data (trips x resi_area)')\n",
    "plt.grid(True)\n",
    "# plt.axis([0, 220, 0, 120])\n",
    "plt.show()"
   ]
  },
  {
   "cell_type": "code",
   "execution_count": 34,
   "metadata": {
    "collapsed": false,
    "deletable": true,
    "editable": true
   },
   "outputs": [
    {
     "data": {
      "image/png": "[encoded data removed]",
      "text/plain": [
       "<matplotlib.figure.Figure at 0x154d9ac0c50>"
      ]
     },
     "metadata": {},
     "output_type": "display_data"
    }
   ],
   "source": [
    "df = regression.getDataFrame()\n",
    "plt.plot(df[\"trips\"], df[\"no_mem_educwork\"], 'bo')\n",
    "x = df[\"trips\"]\n",
    "y = df[\"no_mem_educwork\"]\n",
    "fit = np.polyfit(x, y, deg=1)\n",
    "plt.plot(x, fit[0] * x + fit[1], color='red')\n",
    "plt.xlabel('trips')\n",
    "plt.ylabel('no_mem_educwork')\n",
    "plt.title('Observed Data (Trips produced & # of working/studying household members)\\n Correlation coeff=0.9176, P-value=2.13e-07')\n",
    "plt.grid(True)\n",
    "# plt.axis([0, 220, 0, 120])\n",
    "plt.show()"
   ]
  },
  {
   "cell_type": "code",
   "execution_count": 29,
   "metadata": {
    "collapsed": false,
    "deletable": true,
    "editable": true
   },
   "outputs": [
    {
     "ename": "KeyError",
     "evalue": "'Trips'",
     "output_type": "error",
     "traceback": [
      "\u001b[0;31m---------------------------------------------------------------------------\u001b[0m",
      "\u001b[0;31mKeyError\u001b[0m                                  Traceback (most recent call last)",
      "\u001b[0;32mC:\\Users\\ME\\Anaconda3\\lib\\site-packages\\pandas\\indexes\\base.py\u001b[0m in \u001b[0;36mget_loc\u001b[0;34m(self, key, method, tolerance)\u001b[0m\n\u001b[1;32m   1944\u001b[0m             \u001b[1;32mtry\u001b[0m\u001b[1;33m:\u001b[0m\u001b[1;33m\u001b[0m\u001b[0m\n\u001b[0;32m-> 1945\u001b[0;31m                 \u001b[1;32mreturn\u001b[0m \u001b[0mself\u001b[0m\u001b[1;33m.\u001b[0m\u001b[0m_engine\u001b[0m\u001b[1;33m.\u001b[0m\u001b[0mget_loc\u001b[0m\u001b[1;33m(\u001b[0m\u001b[0mkey\u001b[0m\u001b[1;33m)\u001b[0m\u001b[1;33m\u001b[0m\u001b[0m\n\u001b[0m\u001b[1;32m   1946\u001b[0m             \u001b[1;32mexcept\u001b[0m \u001b[0mKeyError\u001b[0m\u001b[1;33m:\u001b[0m\u001b[1;33m\u001b[0m\u001b[0m\n",
      "\u001b[0;32mpandas\\index.pyx\u001b[0m in \u001b[0;36mpandas.index.IndexEngine.get_loc (pandas\\index.c:4154)\u001b[0;34m()\u001b[0m\n",
      "\u001b[0;32mpandas\\index.pyx\u001b[0m in \u001b[0;36mpandas.index.IndexEngine.get_loc (pandas\\index.c:4018)\u001b[0;34m()\u001b[0m\n",
      "\u001b[0;32mpandas\\hashtable.pyx\u001b[0m in \u001b[0;36mpandas.hashtable.PyObjectHashTable.get_item (pandas\\hashtable.c:12368)\u001b[0;34m()\u001b[0m\n",
      "\u001b[0;32mpandas\\hashtable.pyx\u001b[0m in \u001b[0;36mpandas.hashtable.PyObjectHashTable.get_item (pandas\\hashtable.c:12322)\u001b[0;34m()\u001b[0m\n",
      "\u001b[0;31mKeyError\u001b[0m: 'Trips'",
      "\nDuring handling of the above exception, another exception occurred:\n",
      "\u001b[0;31mKeyError\u001b[0m                                  Traceback (most recent call last)",
      "\u001b[0;32m<ipython-input-29-714ff2a437af>\u001b[0m in \u001b[0;36m<module>\u001b[0;34m()\u001b[0m\n\u001b[1;32m      1\u001b[0m \u001b[0mdf\u001b[0m \u001b[1;33m=\u001b[0m \u001b[0mregression\u001b[0m\u001b[1;33m.\u001b[0m\u001b[0mgetDataFrame\u001b[0m\u001b[1;33m(\u001b[0m\u001b[1;33m)\u001b[0m\u001b[1;33m\u001b[0m\u001b[0m\n\u001b[0;32m----> 2\u001b[0;31m \u001b[0mplt\u001b[0m\u001b[1;33m.\u001b[0m\u001b[0mplot\u001b[0m\u001b[1;33m(\u001b[0m\u001b[0mdf\u001b[0m\u001b[1;33m[\u001b[0m\u001b[1;34m\"Trips\"\u001b[0m\u001b[1;33m]\u001b[0m\u001b[1;33m,\u001b[0m \u001b[0mdf\u001b[0m\u001b[1;33m[\u001b[0m\u001b[1;34m\"Autos\"\u001b[0m\u001b[1;33m]\u001b[0m\u001b[1;33m,\u001b[0m \u001b[1;34m'bo'\u001b[0m\u001b[1;33m)\u001b[0m\u001b[1;33m\u001b[0m\u001b[0m\n\u001b[0m\u001b[1;32m      3\u001b[0m \u001b[0mx\u001b[0m \u001b[1;33m=\u001b[0m \u001b[0mdf\u001b[0m\u001b[1;33m[\u001b[0m\u001b[1;34m\"Trips\"\u001b[0m\u001b[1;33m]\u001b[0m\u001b[1;33m\u001b[0m\u001b[0m\n\u001b[1;32m      4\u001b[0m \u001b[0my\u001b[0m \u001b[1;33m=\u001b[0m \u001b[0mdf\u001b[0m\u001b[1;33m[\u001b[0m\u001b[1;34m\"Autos\"\u001b[0m\u001b[1;33m]\u001b[0m\u001b[1;33m\u001b[0m\u001b[0m\n\u001b[1;32m      5\u001b[0m \u001b[0mfit\u001b[0m \u001b[1;33m=\u001b[0m \u001b[0mnp\u001b[0m\u001b[1;33m.\u001b[0m\u001b[0mpolyfit\u001b[0m\u001b[1;33m(\u001b[0m\u001b[0mx\u001b[0m\u001b[1;33m,\u001b[0m \u001b[0my\u001b[0m\u001b[1;33m,\u001b[0m \u001b[0mdeg\u001b[0m\u001b[1;33m=\u001b[0m\u001b[1;36m1\u001b[0m\u001b[1;33m)\u001b[0m\u001b[1;33m\u001b[0m\u001b[0m\n",
      "\u001b[0;32mC:\\Users\\ME\\Anaconda3\\lib\\site-packages\\pandas\\core\\frame.py\u001b[0m in \u001b[0;36m__getitem__\u001b[0;34m(self, key)\u001b[0m\n\u001b[1;32m   1995\u001b[0m             \u001b[1;32mreturn\u001b[0m \u001b[0mself\u001b[0m\u001b[1;33m.\u001b[0m\u001b[0m_getitem_multilevel\u001b[0m\u001b[1;33m(\u001b[0m\u001b[0mkey\u001b[0m\u001b[1;33m)\u001b[0m\u001b[1;33m\u001b[0m\u001b[0m\n\u001b[1;32m   1996\u001b[0m         \u001b[1;32melse\u001b[0m\u001b[1;33m:\u001b[0m\u001b[1;33m\u001b[0m\u001b[0m\n\u001b[0;32m-> 1997\u001b[0;31m             \u001b[1;32mreturn\u001b[0m \u001b[0mself\u001b[0m\u001b[1;33m.\u001b[0m\u001b[0m_getitem_column\u001b[0m\u001b[1;33m(\u001b[0m\u001b[0mkey\u001b[0m\u001b[1;33m)\u001b[0m\u001b[1;33m\u001b[0m\u001b[0m\n\u001b[0m\u001b[1;32m   1998\u001b[0m \u001b[1;33m\u001b[0m\u001b[0m\n\u001b[1;32m   1999\u001b[0m     \u001b[1;32mdef\u001b[0m \u001b[0m_getitem_column\u001b[0m\u001b[1;33m(\u001b[0m\u001b[0mself\u001b[0m\u001b[1;33m,\u001b[0m \u001b[0mkey\u001b[0m\u001b[1;33m)\u001b[0m\u001b[1;33m:\u001b[0m\u001b[1;33m\u001b[0m\u001b[0m\n",
      "\u001b[0;32mC:\\Users\\ME\\Anaconda3\\lib\\site-packages\\pandas\\core\\frame.py\u001b[0m in \u001b[0;36m_getitem_column\u001b[0;34m(self, key)\u001b[0m\n\u001b[1;32m   2002\u001b[0m         \u001b[1;31m# get column\u001b[0m\u001b[1;33m\u001b[0m\u001b[1;33m\u001b[0m\u001b[0m\n\u001b[1;32m   2003\u001b[0m         \u001b[1;32mif\u001b[0m \u001b[0mself\u001b[0m\u001b[1;33m.\u001b[0m\u001b[0mcolumns\u001b[0m\u001b[1;33m.\u001b[0m\u001b[0mis_unique\u001b[0m\u001b[1;33m:\u001b[0m\u001b[1;33m\u001b[0m\u001b[0m\n\u001b[0;32m-> 2004\u001b[0;31m             \u001b[1;32mreturn\u001b[0m \u001b[0mself\u001b[0m\u001b[1;33m.\u001b[0m\u001b[0m_get_item_cache\u001b[0m\u001b[1;33m(\u001b[0m\u001b[0mkey\u001b[0m\u001b[1;33m)\u001b[0m\u001b[1;33m\u001b[0m\u001b[0m\n\u001b[0m\u001b[1;32m   2005\u001b[0m \u001b[1;33m\u001b[0m\u001b[0m\n\u001b[1;32m   2006\u001b[0m         \u001b[1;31m# duplicate columns & possible reduce dimensionality\u001b[0m\u001b[1;33m\u001b[0m\u001b[1;33m\u001b[0m\u001b[0m\n",
      "\u001b[0;32mC:\\Users\\ME\\Anaconda3\\lib\\site-packages\\pandas\\core\\generic.py\u001b[0m in \u001b[0;36m_get_item_cache\u001b[0;34m(self, item)\u001b[0m\n\u001b[1;32m   1348\u001b[0m         \u001b[0mres\u001b[0m \u001b[1;33m=\u001b[0m \u001b[0mcache\u001b[0m\u001b[1;33m.\u001b[0m\u001b[0mget\u001b[0m\u001b[1;33m(\u001b[0m\u001b[0mitem\u001b[0m\u001b[1;33m)\u001b[0m\u001b[1;33m\u001b[0m\u001b[0m\n\u001b[1;32m   1349\u001b[0m         \u001b[1;32mif\u001b[0m \u001b[0mres\u001b[0m \u001b[1;32mis\u001b[0m \u001b[1;32mNone\u001b[0m\u001b[1;33m:\u001b[0m\u001b[1;33m\u001b[0m\u001b[0m\n\u001b[0;32m-> 1350\u001b[0;31m             \u001b[0mvalues\u001b[0m \u001b[1;33m=\u001b[0m \u001b[0mself\u001b[0m\u001b[1;33m.\u001b[0m\u001b[0m_data\u001b[0m\u001b[1;33m.\u001b[0m\u001b[0mget\u001b[0m\u001b[1;33m(\u001b[0m\u001b[0mitem\u001b[0m\u001b[1;33m)\u001b[0m\u001b[1;33m\u001b[0m\u001b[0m\n\u001b[0m\u001b[1;32m   1351\u001b[0m             \u001b[0mres\u001b[0m \u001b[1;33m=\u001b[0m \u001b[0mself\u001b[0m\u001b[1;33m.\u001b[0m\u001b[0m_box_item_values\u001b[0m\u001b[1;33m(\u001b[0m\u001b[0mitem\u001b[0m\u001b[1;33m,\u001b[0m \u001b[0mvalues\u001b[0m\u001b[1;33m)\u001b[0m\u001b[1;33m\u001b[0m\u001b[0m\n\u001b[1;32m   1352\u001b[0m             \u001b[0mcache\u001b[0m\u001b[1;33m[\u001b[0m\u001b[0mitem\u001b[0m\u001b[1;33m]\u001b[0m \u001b[1;33m=\u001b[0m \u001b[0mres\u001b[0m\u001b[1;33m\u001b[0m\u001b[0m\n",
      "\u001b[0;32mC:\\Users\\ME\\Anaconda3\\lib\\site-packages\\pandas\\core\\internals.py\u001b[0m in \u001b[0;36mget\u001b[0;34m(self, item, fastpath)\u001b[0m\n\u001b[1;32m   3288\u001b[0m \u001b[1;33m\u001b[0m\u001b[0m\n\u001b[1;32m   3289\u001b[0m             \u001b[1;32mif\u001b[0m \u001b[1;32mnot\u001b[0m \u001b[0misnull\u001b[0m\u001b[1;33m(\u001b[0m\u001b[0mitem\u001b[0m\u001b[1;33m)\u001b[0m\u001b[1;33m:\u001b[0m\u001b[1;33m\u001b[0m\u001b[0m\n\u001b[0;32m-> 3290\u001b[0;31m                 \u001b[0mloc\u001b[0m \u001b[1;33m=\u001b[0m \u001b[0mself\u001b[0m\u001b[1;33m.\u001b[0m\u001b[0mitems\u001b[0m\u001b[1;33m.\u001b[0m\u001b[0mget_loc\u001b[0m\u001b[1;33m(\u001b[0m\u001b[0mitem\u001b[0m\u001b[1;33m)\u001b[0m\u001b[1;33m\u001b[0m\u001b[0m\n\u001b[0m\u001b[1;32m   3291\u001b[0m             \u001b[1;32melse\u001b[0m\u001b[1;33m:\u001b[0m\u001b[1;33m\u001b[0m\u001b[0m\n\u001b[1;32m   3292\u001b[0m                 \u001b[0mindexer\u001b[0m \u001b[1;33m=\u001b[0m \u001b[0mnp\u001b[0m\u001b[1;33m.\u001b[0m\u001b[0marange\u001b[0m\u001b[1;33m(\u001b[0m\u001b[0mlen\u001b[0m\u001b[1;33m(\u001b[0m\u001b[0mself\u001b[0m\u001b[1;33m.\u001b[0m\u001b[0mitems\u001b[0m\u001b[1;33m)\u001b[0m\u001b[1;33m)\u001b[0m\u001b[1;33m[\u001b[0m\u001b[0misnull\u001b[0m\u001b[1;33m(\u001b[0m\u001b[0mself\u001b[0m\u001b[1;33m.\u001b[0m\u001b[0mitems\u001b[0m\u001b[1;33m)\u001b[0m\u001b[1;33m]\u001b[0m\u001b[1;33m\u001b[0m\u001b[0m\n",
      "\u001b[0;32mC:\\Users\\ME\\Anaconda3\\lib\\site-packages\\pandas\\indexes\\base.py\u001b[0m in \u001b[0;36mget_loc\u001b[0;34m(self, key, method, tolerance)\u001b[0m\n\u001b[1;32m   1945\u001b[0m                 \u001b[1;32mreturn\u001b[0m \u001b[0mself\u001b[0m\u001b[1;33m.\u001b[0m\u001b[0m_engine\u001b[0m\u001b[1;33m.\u001b[0m\u001b[0mget_loc\u001b[0m\u001b[1;33m(\u001b[0m\u001b[0mkey\u001b[0m\u001b[1;33m)\u001b[0m\u001b[1;33m\u001b[0m\u001b[0m\n\u001b[1;32m   1946\u001b[0m             \u001b[1;32mexcept\u001b[0m \u001b[0mKeyError\u001b[0m\u001b[1;33m:\u001b[0m\u001b[1;33m\u001b[0m\u001b[0m\n\u001b[0;32m-> 1947\u001b[0;31m                 \u001b[1;32mreturn\u001b[0m \u001b[0mself\u001b[0m\u001b[1;33m.\u001b[0m\u001b[0m_engine\u001b[0m\u001b[1;33m.\u001b[0m\u001b[0mget_loc\u001b[0m\u001b[1;33m(\u001b[0m\u001b[0mself\u001b[0m\u001b[1;33m.\u001b[0m\u001b[0m_maybe_cast_indexer\u001b[0m\u001b[1;33m(\u001b[0m\u001b[0mkey\u001b[0m\u001b[1;33m)\u001b[0m\u001b[1;33m)\u001b[0m\u001b[1;33m\u001b[0m\u001b[0m\n\u001b[0m\u001b[1;32m   1948\u001b[0m \u001b[1;33m\u001b[0m\u001b[0m\n\u001b[1;32m   1949\u001b[0m         \u001b[0mindexer\u001b[0m \u001b[1;33m=\u001b[0m \u001b[0mself\u001b[0m\u001b[1;33m.\u001b[0m\u001b[0mget_indexer\u001b[0m\u001b[1;33m(\u001b[0m\u001b[1;33m[\u001b[0m\u001b[0mkey\u001b[0m\u001b[1;33m]\u001b[0m\u001b[1;33m,\u001b[0m \u001b[0mmethod\u001b[0m\u001b[1;33m=\u001b[0m\u001b[0mmethod\u001b[0m\u001b[1;33m,\u001b[0m \u001b[0mtolerance\u001b[0m\u001b[1;33m=\u001b[0m\u001b[0mtolerance\u001b[0m\u001b[1;33m)\u001b[0m\u001b[1;33m\u001b[0m\u001b[0m\n",
      "\u001b[0;32mpandas\\index.pyx\u001b[0m in \u001b[0;36mpandas.index.IndexEngine.get_loc (pandas\\index.c:4154)\u001b[0;34m()\u001b[0m\n",
      "\u001b[0;32mpandas\\index.pyx\u001b[0m in \u001b[0;36mpandas.index.IndexEngine.get_loc (pandas\\index.c:4018)\u001b[0;34m()\u001b[0m\n",
      "\u001b[0;32mpandas\\hashtable.pyx\u001b[0m in \u001b[0;36mpandas.hashtable.PyObjectHashTable.get_item (pandas\\hashtable.c:12368)\u001b[0;34m()\u001b[0m\n",
      "\u001b[0;32mpandas\\hashtable.pyx\u001b[0m in \u001b[0;36mpandas.hashtable.PyObjectHashTable.get_item (pandas\\hashtable.c:12322)\u001b[0;34m()\u001b[0m\n",
      "\u001b[0;31mKeyError\u001b[0m: 'Trips'"
     ]
    }
   ],
   "source": [
    "df = regression.getDataFrame()\n",
    "plt.plot(df[\"Trips\"], df[\"Autos\"], 'bo')\n",
    "x = df[\"Trips\"]\n",
    "y = df[\"Autos\"]\n",
    "fit = np.polyfit(x, y, deg=1)\n",
    "plt.plot(x, fit[0] * x + fit[1], color='red')\n",
    "plt.xlabel('Trips')\n",
    "plt.ylabel('Establishments')\n",
    "plt.title('Observed Data (TRIPS x AUTOS)')\n",
    "plt.grid(True)\n",
    "# plt.axis([0, 220, 0, 120])\n",
    "plt.show()"
   ]
  },
  {
   "cell_type": "markdown",
   "metadata": {
    "deletable": true,
    "editable": true
   },
   "source": [
    "# Generate table that contains the aggregated information per zone, given the TAZ input file and the Households input file (income, houses, # amenities of each kind)\n",
    "\n",
    "#### Create TripGenTableModel:\n",
    "wherein its attributes are the columns in the table example (Out 348, remove trips column, shape coordinate, landuse).\n",
    "\n",
    "#### Get number of TAZs\n",
    "#### Get number of landuse per TAZ\n",
    "#### Create [ ][ ] of TripGenTableModel\n",
    "\n",
    "#### SAMPLE CODE\n",
    "TripGenTableModel tgtm = [# of TAZs][ ]\n",
    "for n in range(0,len(TAZ)):\n",
    "    LUShapes lus = getImpactingShapes(TAZ[n]) #Returns the whole shape coors of impacting landuses together with its category\n",
    "    for x in range(0, len(lus)):\n",
    "        tgtm[n][x] = new TripGenTableModel()\n",
    "        tgtm[n][x].setShapeCoordinate(TAZ[n], lus[x]) #sets a coor shape for the overlapping of the TAZ shape and landuse shape\n",
    "        \n",
    "for cbms_file in cmbs_files:\n",
    "    for row in cbms_file:\n",
    "        lat, long = getCoor(row)\n",
    "        add_info_to_respective_TGTM(lat, long, row) #adds the info of the HH to the correct zone and landuse\n",
    "        \n",
    "        \n",
    "        \n",
    "        \n",
    "\n"
   ]
  },
  {
   "cell_type": "markdown",
   "metadata": {
    "deletable": true,
    "editable": true
   },
   "source": [
    "\n",
    "\n",
    "    "
   ]
  },
  {
   "cell_type": "markdown",
   "metadata": {
    "deletable": true,
    "editable": true
   },
   "source": [
    "# Detemine landuse of each zone using the land use file"
   ]
  },
  {
   "cell_type": "markdown",
   "metadata": {
    "deletable": true,
    "editable": true
   },
   "source": [
    "# Get the corresponding trip productions and attractions per zone given the parameters"
   ]
  },
  {
   "cell_type": "code",
   "execution_count": null,
   "metadata": {
    "collapsed": true,
    "deletable": true,
    "editable": true
   },
   "outputs": [],
   "source": []
  },
  {
   "cell_type": "markdown",
   "metadata": {
    "deletable": true,
    "editable": true
   },
   "source": [
    "# MODEL FITTING"
   ]
  },
  {
   "cell_type": "markdown",
   "metadata": {
    "deletable": true,
    "editable": true
   },
   "source": [
    "### Retreival of intercepts and coefficients\n",
    "**Features for Trip production**: # of HH, # of HH members, # of employed, # of enrolled, Income, Landuse and Amenity Data\n",
    "\n",
    "**Features for Trip attraction**: # of Establishments, # of working in area, # of enrolled in area, Landuse and Amenity Data"
   ]
  },
  {
   "cell_type": "code",
   "execution_count": 39,
   "metadata": {
    "collapsed": false,
    "deletable": true,
    "editable": true
   },
   "outputs": [
    {
     "name": "stdout",
     "output_type": "stream",
     "text": [
      "R^2 score: 0.987350266174\n",
      "R^2 score: 0.996911644387\n",
      "Prod Intercept:344.745174492 Coef:[ 85.04687743   3.36621094 -26.75217765]\n",
      "Attr Intercept:4805.98183877 Coef:[  -49.6028897     -4.83505864  -154.53369632   312.99534481    19.79017006\n",
      "  -980.65529731  1164.01053445    58.86796291    13.15743504    81.67469428\n",
      "   -14.09065401    10.80746015     6.22225556 -3549.39096573     0.        ]\n"
     ]
    },
    {
     "data": {
      "text/html": [
       "<div>\n",
       "<table border=\"1\" class=\"dataframe\">\n",
       "  <thead>\n",
       "    <tr style=\"text-align: right;\">\n",
       "      <th></th>\n",
       "      <th>no_hh</th>\n",
       "      <th>avg_income</th>\n",
       "      <th>mem_no</th>\n",
       "      <th>no_mem_educwork</th>\n",
       "      <th>trips</th>\n",
       "    </tr>\n",
       "  </thead>\n",
       "  <tbody>\n",
       "    <tr>\n",
       "      <th>1</th>\n",
       "      <td>3779</td>\n",
       "      <td>18736.43821</td>\n",
       "      <td>12747</td>\n",
       "      <td>11894</td>\n",
       "      <td>37428</td>\n",
       "    </tr>\n",
       "    <tr>\n",
       "      <th>2</th>\n",
       "      <td>1349</td>\n",
       "      <td>18754.63306</td>\n",
       "      <td>4509</td>\n",
       "      <td>4238</td>\n",
       "      <td>14213</td>\n",
       "    </tr>\n",
       "    <tr>\n",
       "      <th>3</th>\n",
       "      <td>1060</td>\n",
       "      <td>28070.75472</td>\n",
       "      <td>3624</td>\n",
       "      <td>3321</td>\n",
       "      <td>13730</td>\n",
       "    </tr>\n",
       "    <tr>\n",
       "      <th>4</th>\n",
       "      <td>767</td>\n",
       "      <td>18507.17080</td>\n",
       "      <td>2598</td>\n",
       "      <td>2402</td>\n",
       "      <td>8437</td>\n",
       "    </tr>\n",
       "    <tr>\n",
       "      <th>5</th>\n",
       "      <td>862</td>\n",
       "      <td>21937.35499</td>\n",
       "      <td>2913</td>\n",
       "      <td>2720</td>\n",
       "      <td>11306</td>\n",
       "    </tr>\n",
       "  </tbody>\n",
       "</table>\n",
       "</div>"
      ],
      "text/plain": [
       "   no_hh   avg_income  mem_no  no_mem_educwork  trips\n",
       "1   3779  18736.43821   12747            11894  37428\n",
       "2   1349  18754.63306    4509             4238  14213\n",
       "3   1060  28070.75472    3624             3321  13730\n",
       "4    767  18507.17080    2598             2402   8437\n",
       "5    862  21937.35499    2913             2720  11306"
      ]
     },
     "execution_count": 39,
     "metadata": {},
     "output_type": "execute_result"
    }
   ],
   "source": [
    "dep_col_name = \"trips\"\n",
    "data_filepath = \"DummyDataRegression.csv\"\n",
    "regression = Regression(data_filepath)\n",
    "\n",
    "data_filepath2 = \"DummyDataRegressionAmenitiex.csv\"\n",
    "regression2 = Regression(data_filepath2)\n",
    "\n",
    "selected_feature_names = [\"no_hh\",\"avg_income\",\"mem_no\"]\n",
    "selected_feature_names_attraction = [\"sust_amt\",\"educ_amt\",\"tran_amt\",\"heal_amt\",\"fina_amt\",\"comm_amt\", \"ente_amt\",\"othe_amt\",\n",
    "                        \"comm_area\", \"park_area\",\"indu_area\",\"agri_area\",\"resi_area\",\"util_area\",\"othe_area\"]\n",
    "fitted_production_model = regression.getFittedRegressionModel(selected_feature_names, dep_col_name)\n",
    "fitted_production_model_attr = regression2.getFittedRegressionModel(selected_feature_names_attraction, dep_col_name)\n",
    "\n",
    "print(\"Prod Intercept:\"+str(fitted_production_model.intercept_)+\" Coef:\"+str(fitted_production_model.coef_))\n",
    "print(\"Attr Intercept:\"+str(fitted_production_model_attr.intercept_)+\" Coef:\"+str(fitted_production_model_attr.coef_))\n",
    "\n",
    "dummy_data = pd.read_csv('DummyDataRegressionHHTripsOnly.csv', index_col=0)\n",
    "dummy_data.head()"
   ]
  },
  {
   "cell_type": "code",
   "execution_count": 31,
   "metadata": {
    "collapsed": false,
    "deletable": true,
    "editable": true
   },
   "outputs": [
    {
     "name": "stdout",
     "output_type": "stream",
     "text": [
      "['no_hh', 'avg_income', 'mem_no', 'no_mem_educwork']\n",
      "Test row: 0\n",
      "Trained using index 0: RMS = 1642.8611353042031\n",
      "Test row: 1\n",
      "Trained using index 1: RMS = 1623.0075678854153\n",
      "Test row: 2\n",
      "Trained using index 2: RMS = 1613.9679788752348\n",
      "Test row: 3\n",
      "Trained using index 3: RMS = 1626.248724401083\n",
      "Test row: 4\n",
      "Trained using index 4: RMS = 1598.2276558902588\n",
      "Test row: 5\n",
      "Trained using index 5: RMS = 5983.535008027696\n",
      "Test row: 6\n",
      "Trained using index 6: RMS = 1604.1427427182311\n",
      "Test row: 7\n",
      "Trained using index 7: RMS = 1601.8320898685502\n",
      "Test row: 8\n",
      "Trained using index 8: RMS = 1641.223576273628\n",
      "Test row: 9\n",
      "Trained using index 9: RMS = 1614.0143609756592\n",
      "Test row: 10\n",
      "Trained using index 10: RMS = 1651.3620291500129\n",
      "Test row: 11\n",
      "Trained using index 11: RMS = 1615.7890835165513\n",
      "Test row: 12\n",
      "Trained using index 12: RMS = 1597.9605414533635\n",
      "Test row: 13\n",
      "Trained using index 13: RMS = 2396.378970999385\n",
      "Test row: 14\n",
      "Trained using index 14: RMS = 1598.4290560976747\n",
      "Test row: 15\n",
      "Trained using index 15: RMS = 1605.772559273726\n",
      "Test row: 16\n",
      "Trained using index 16: RMS = 1606.6848114811119\n"
     ]
    }
   ],
   "source": [
    "print(selected_feature_names)\n",
    "X_vals = regression.getXVals(selected_feature_names)\n",
    "Y_vals = regression.getYVals(dep_col_name)\n",
    "\n",
    "for x in range(len(X_vals.index)):\n",
    "    Predicted_vals = []\n",
    "    print(\"Test row: \"+str(x))\n",
    "    fitted_production_model2 = regression.kFoldTest(selected_feature_names, dep_col_name, x);\n",
    "    #testdframe.head()\n",
    "    #fitted_production_model2.predict(X_vals.iloc[x , :].values.reshape(1,-1))\n",
    "    for z in range(len(X_vals.index)):\n",
    "        #print(\"Actual Zone \"+str(z)+\": \"+str(Y_vals.iloc[z]))\n",
    "        #print(\"Predicted Zone \"+str(z)+\": \"+str(fitted_production_model2.predict(X_vals.iloc[z , :].values.reshape(1,-1))[0]))\n",
    "        Predicted_vals.append(fitted_production_model2.predict(X_vals.iloc[z , :].values.reshape(1,-1))[0])\n",
    "    rms = sqrt(mean_squared_error(Y_vals.values, Predicted_vals))\n",
    "    print(\"Trained using index \"+str(x)+\": RMS = \"+str(rms))"
   ]
  },
  {
   "cell_type": "code",
   "execution_count": 32,
   "metadata": {
    "collapsed": false,
    "deletable": true,
    "editable": true
   },
   "outputs": [
    {
     "data": {
      "text/plain": [
       "1606.6848114811119"
      ]
     },
     "execution_count": 32,
     "metadata": {},
     "output_type": "execute_result"
    }
   ],
   "source": [
    "rms = sqrt(mean_squared_error(Y_vals.values, Predicted_vals))\n",
    "rms"
   ]
  },
  {
   "cell_type": "code",
   "execution_count": 120,
   "metadata": {
    "collapsed": false,
    "deletable": true,
    "editable": true
   },
   "outputs": [
    {
     "name": "stdout",
     "output_type": "stream",
     "text": [
      "R^2 score: 0.832616068926\n",
      "R^2 score: 0.996911644387\n",
      "Prod Intercept:645.860276196 Coef:[ 2.81864012]\n",
      "Attr Intercept:4805.98183877 Coef:[  -49.6028897     -4.83505864  -154.53369632   312.99534481    19.79017006\n",
      "  -980.65529731  1164.01053445    58.86796291    13.15743504    81.67469428\n",
      "   -14.09065401    10.80746015     6.22225556 -3549.39096573     0.        ]\n"
     ]
    },
    {
     "data": {
      "text/html": [
       "<div>\n",
       "<table border=\"1\" class=\"dataframe\">\n",
       "  <thead>\n",
       "    <tr style=\"text-align: right;\">\n",
       "      <th></th>\n",
       "      <th>no_hh</th>\n",
       "      <th>avg_income</th>\n",
       "      <th>mem_no</th>\n",
       "      <th>no_mem_educwork</th>\n",
       "      <th>comm_area</th>\n",
       "      <th>park_area</th>\n",
       "      <th>indu_area</th>\n",
       "      <th>agri_area</th>\n",
       "      <th>resi_area</th>\n",
       "      <th>util_area</th>\n",
       "      <th>othe_area</th>\n",
       "      <th>trips</th>\n",
       "    </tr>\n",
       "  </thead>\n",
       "  <tbody>\n",
       "    <tr>\n",
       "      <th>1</th>\n",
       "      <td>3779</td>\n",
       "      <td>17110</td>\n",
       "      <td>12747</td>\n",
       "      <td>11894</td>\n",
       "      <td>63.27</td>\n",
       "      <td>267.37</td>\n",
       "      <td>41.97</td>\n",
       "      <td>3.23</td>\n",
       "      <td>628.96</td>\n",
       "      <td>0.00</td>\n",
       "      <td>0</td>\n",
       "      <td>37428</td>\n",
       "    </tr>\n",
       "    <tr>\n",
       "      <th>2</th>\n",
       "      <td>1349</td>\n",
       "      <td>6272</td>\n",
       "      <td>4509</td>\n",
       "      <td>4238</td>\n",
       "      <td>63.89</td>\n",
       "      <td>23.96</td>\n",
       "      <td>100.79</td>\n",
       "      <td>13.46</td>\n",
       "      <td>880.06</td>\n",
       "      <td>3.99</td>\n",
       "      <td>0</td>\n",
       "      <td>14213</td>\n",
       "    </tr>\n",
       "    <tr>\n",
       "      <th>3</th>\n",
       "      <td>1060</td>\n",
       "      <td>5670</td>\n",
       "      <td>3624</td>\n",
       "      <td>3321</td>\n",
       "      <td>363.71</td>\n",
       "      <td>17.29</td>\n",
       "      <td>67.77</td>\n",
       "      <td>3.86</td>\n",
       "      <td>1171.00</td>\n",
       "      <td>0.00</td>\n",
       "      <td>0</td>\n",
       "      <td>13093</td>\n",
       "    </tr>\n",
       "    <tr>\n",
       "      <th>4</th>\n",
       "      <td>767</td>\n",
       "      <td>3390</td>\n",
       "      <td>2598</td>\n",
       "      <td>2402</td>\n",
       "      <td>9.29</td>\n",
       "      <td>1.26</td>\n",
       "      <td>26.27</td>\n",
       "      <td>101.10</td>\n",
       "      <td>55.95</td>\n",
       "      <td>0.00</td>\n",
       "      <td>0</td>\n",
       "      <td>8437</td>\n",
       "    </tr>\n",
       "    <tr>\n",
       "      <th>5</th>\n",
       "      <td>862</td>\n",
       "      <td>4271</td>\n",
       "      <td>2913</td>\n",
       "      <td>2720</td>\n",
       "      <td>50.37</td>\n",
       "      <td>0.00</td>\n",
       "      <td>26.36</td>\n",
       "      <td>1.25</td>\n",
       "      <td>114.65</td>\n",
       "      <td>0.00</td>\n",
       "      <td>0</td>\n",
       "      <td>9969</td>\n",
       "    </tr>\n",
       "  </tbody>\n",
       "</table>\n",
       "</div>"
      ],
      "text/plain": [
       "   no_hh  avg_income  mem_no  no_mem_educwork  comm_area  park_area  \\\n",
       "1   3779       17110   12747            11894      63.27     267.37   \n",
       "2   1349        6272    4509             4238      63.89      23.96   \n",
       "3   1060        5670    3624             3321     363.71      17.29   \n",
       "4    767        3390    2598             2402       9.29       1.26   \n",
       "5    862        4271    2913             2720      50.37       0.00   \n",
       "\n",
       "   indu_area  agri_area  resi_area  util_area  othe_area  trips  \n",
       "1      41.97       3.23     628.96       0.00          0  37428  \n",
       "2     100.79      13.46     880.06       3.99          0  14213  \n",
       "3      67.77       3.86    1171.00       0.00          0  13093  \n",
       "4      26.27     101.10      55.95       0.00          0   8437  \n",
       "5      26.36       1.25     114.65       0.00          0   9969  "
      ]
     },
     "execution_count": 120,
     "metadata": {},
     "output_type": "execute_result"
    }
   ],
   "source": [
    "dep_col_name = \"trips\"\n",
    "data_filepath = \"DummyDataRegression.csv\"\n",
    "regression = Regression(data_filepath)\n",
    "\n",
    "data_filepath2 = \"DummyDataRegressionAmenitiex.csv\"\n",
    "regression2 = Regression(data_filepath2)\n",
    "\n",
    "selected_feature_names = [\"mem_no\"]\n",
    "selected_feature_names_attraction = [\"sust_amt\",\"educ_amt\",\"tran_amt\",\"heal_amt\",\"fina_amt\",\"comm_amt\", \"ente_amt\",\"othe_amt\",\n",
    "                        \"comm_area\", \"park_area\",\"indu_area\",\"agri_area\",\"resi_area\",\"util_area\",\"othe_area\"]\n",
    "fitted_production_model = regression.getFittedRegressionModel(selected_feature_names, dep_col_name)\n",
    "fitted_production_model_attr = regression2.getFittedRegressionModel(selected_feature_names_attraction, dep_col_name)\n",
    "\n",
    "print(\"Prod Intercept:\"+str(fitted_production_model.intercept_)+\" Coef:\"+str(fitted_production_model.coef_))\n",
    "print(\"Attr Intercept:\"+str(fitted_production_model_attr.intercept_)+\" Coef:\"+str(fitted_production_model_attr.coef_))\n",
    "\n",
    "dummy_data = pd.read_csv('DummyDataRegression.csv', index_col=0)\n",
    "dummy_data.head()"
   ]
  },
  {
   "cell_type": "code",
   "execution_count": 24,
   "metadata": {
    "collapsed": false,
    "deletable": true,
    "editable": true
   },
   "outputs": [
    {
     "name": "stdout",
     "output_type": "stream",
     "text": [
      "['no_hh', 'avg_income', 'mem_no', 'no_mem_educwork', 'comm_area', 'park_area', 'indu_area', 'agri_area', 'resi_area', 'util_area', 'othe_area']\n",
      "Test row: 0\n",
      "Trained using index 0: RMS = 1513.8400745835781\n",
      "Test row: 1\n",
      "Trained using index 1: RMS = 1750.189584314592\n",
      "Test row: 2\n",
      "Trained using index 2: RMS = 1156.465665211328\n",
      "Test row: 3\n",
      "Trained using index 3: RMS = 1206.031396848907\n",
      "Test row: 4\n",
      "Trained using index 4: RMS = 1161.20530774799\n",
      "Test row: 5\n",
      "Trained using index 5: RMS = 6472.118807400362\n",
      "Test row: 6\n",
      "Trained using index 6: RMS = 1260.61796218028\n",
      "Test row: 7\n",
      "Trained using index 7: RMS = 1173.0711517046389\n",
      "Test row: 8\n",
      "Trained using index 8: RMS = 1736.3256089725148\n",
      "Test row: 9\n",
      "Trained using index 9: RMS = 1258.9239107597048\n",
      "Test row: 10\n",
      "Trained using index 10: RMS = 1349.430196341538\n",
      "Test row: 11\n",
      "Trained using index 11: RMS = 1313.8326517895605\n",
      "Test row: 12\n",
      "Trained using index 12: RMS = 1179.1122567101238\n",
      "Test row: 13\n",
      "Trained using index 13: RMS = 11791.146640090681\n",
      "Test row: 14\n",
      "Trained using index 14: RMS = 1257.436687958817\n",
      "Test row: 15\n",
      "Trained using index 15: RMS = 1224.2060915352558\n",
      "Test row: 16\n",
      "Trained using index 16: RMS = 1186.091440791168\n"
     ]
    }
   ],
   "source": [
    "print(selected_feature_names)\n",
    "X_vals = regression.getXVals(selected_feature_names)\n",
    "Y_vals = regression.getYVals(dep_col_name)\n",
    "\n",
    "for x in range(len(X_vals.index)):\n",
    "    Predicted_vals = []\n",
    "    print(\"Test row: \"+str(x))\n",
    "    fitted_production_model2 = regression.kFoldTest(selected_feature_names, dep_col_name, x);\n",
    "    #testdframe.head()\n",
    "    #fitted_production_model2.predict(X_vals.iloc[x , :].values.reshape(1,-1))\n",
    "    for z in range(len(X_vals.index)):\n",
    "        #print(\"Actual Zone \"+str(z)+\": \"+str(Y_vals.iloc[z]))\n",
    "        #print(\"Predicted Zone \"+str(z)+\": \"+str(fitted_production_model2.predict(X_vals.iloc[z , :].values.reshape(1,-1))[0]))\n",
    "        Predicted_vals.append(fitted_production_model2.predict(X_vals.iloc[z , :].values.reshape(1,-1))[0])\n",
    "    rms = sqrt(mean_squared_error(Y_vals.values, Predicted_vals))\n",
    "    print(\"Trained using index \"+str(x)+\": RMS = \"+str(rms))"
   ]
  },
  {
   "cell_type": "code",
   "execution_count": 25,
   "metadata": {
    "collapsed": false,
    "deletable": true,
    "editable": true
   },
   "outputs": [
    {
     "name": "stdout",
     "output_type": "stream",
     "text": [
      "['no_hh', 'avg_income', 'mem_no', 'no_mem_educwork', 'comm_area', 'park_area', 'indu_area', 'agri_area', 'resi_area', 'util_area', 'othe_area']\n",
      "Test row: 0\n",
      "Actual Zone 0: 37428\n",
      "Predicted Zone 0: 41583.8900525\n",
      "Test row: 1\n",
      "Actual Zone 1: 14213\n",
      "Predicted Zone 1: 20711.7925161\n",
      "Test row: 2\n",
      "Actual Zone 2: 13093\n",
      "Predicted Zone 2: 12798.5943355\n",
      "Test row: 3\n",
      "Actual Zone 3: 8437\n",
      "Predicted Zone 3: 6403.17213939\n",
      "Test row: 4\n",
      "Actual Zone 4: 9969\n",
      "Predicted Zone 4: 9057.55220162\n",
      "Test row: 5\n",
      "Actual Zone 5: 6779\n",
      "Predicted Zone 5: 33417.09022\n",
      "Test row: 6\n",
      "Actual Zone 6: 10373\n",
      "Predicted Zone 6: 7287.32105234\n",
      "Test row: 7\n",
      "Actual Zone 7: 13713\n",
      "Predicted Zone 7: 14781.5778026\n",
      "Test row: 8\n",
      "Actual Zone 8: 6084\n",
      "Predicted Zone 8: 12138.1679747\n",
      "Test row: 9\n",
      "Actual Zone 9: 17149\n",
      "Predicted Zone 9: 19700.7350103\n",
      "Test row: 10\n",
      "Actual Zone 10: 13107\n",
      "Predicted Zone 10: 17188.0208826\n",
      "Test row: 11\n",
      "Actual Zone 11: 19694\n",
      "Predicted Zone 11: 16024.5765148\n",
      "Test row: 12\n",
      "Actual Zone 12: 1542\n",
      "Predicted Zone 12: 2929.74082313\n",
      "Test row: 13\n",
      "Actual Zone 13: 69952\n",
      "Predicted Zone 13: 21390.4140234\n",
      "Test row: 14\n",
      "Actual Zone 14: 2850\n",
      "Predicted Zone 14: 112.941859864\n",
      "Test row: 15\n",
      "Actual Zone 15: 15994\n",
      "Predicted Zone 15: 14154.8845349\n",
      "Test row: 16\n",
      "Actual Zone 16: 15132\n",
      "Predicted Zone 16: 13261.0284461\n"
     ]
    }
   ],
   "source": [
    "print(selected_feature_names)\n",
    "X_vals = regression.getXVals(selected_feature_names)\n",
    "Y_vals = regression.getYVals(dep_col_name)\n",
    "Predicted_vals = []\n",
    "for x in range(len(X_vals.index)):\n",
    "    \n",
    "    print(\"Test row: \"+str(x))\n",
    "    fitted_production_model2 = regression.kFoldTest(selected_feature_names, dep_col_name, x);\n",
    "    #testdframe.head()\n",
    "    #fitted_production_model2.predict(X_vals.iloc[x , :].values.reshape(1,-1))\n",
    "    #fitted\n",
    "    print(\"Actual Zone \"+str(x)+\": \"+str(Y_vals.iloc[x]))\n",
    "    print(\"Predicted Zone \"+str(x)+\": \"+str(fitted_production_model2.predict(X_vals.iloc[x , :].values.reshape(1,-1))[0]))\n",
    "    Predicted_vals.append(fitted_production_model2.predict(X_vals.iloc[x , :].values.reshape(1,-1))[0])"
   ]
  },
  {
   "cell_type": "code",
   "execution_count": 26,
   "metadata": {
    "collapsed": false,
    "deletable": true,
    "editable": true
   },
   "outputs": [
    {
     "data": {
      "text/plain": [
       "13789.642839207072"
      ]
     },
     "execution_count": 26,
     "metadata": {},
     "output_type": "execute_result"
    }
   ],
   "source": [
    "rms = sqrt(mean_squared_error(Y_vals.values, Predicted_vals))\n",
    "rms"
   ]
  },
  {
   "cell_type": "code",
   "execution_count": 27,
   "metadata": {
    "collapsed": false,
    "deletable": true,
    "editable": true
   },
   "outputs": [
    {
     "ename": "TypeError",
     "evalue": "'LinearRegression' object is not iterable",
     "output_type": "error",
     "traceback": [
      "\u001b[1;31m---------------------------------------------------------------------------\u001b[0m",
      "\u001b[1;31mTypeError\u001b[0m                                 Traceback (most recent call last)",
      "\u001b[1;32m<ipython-input-27-e81d65be4e2d>\u001b[0m in \u001b[0;36m<module>\u001b[1;34m()\u001b[0m\n\u001b[1;32m----> 1\u001b[1;33m \u001b[0mfitted_production_model2\u001b[0m\u001b[1;33m,\u001b[0m \u001b[0mtestdframe\u001b[0m \u001b[1;33m=\u001b[0m \u001b[0mregression\u001b[0m\u001b[1;33m.\u001b[0m\u001b[0mkFoldTest\u001b[0m\u001b[1;33m(\u001b[0m\u001b[0mselected_feature_names\u001b[0m\u001b[1;33m,\u001b[0m \u001b[0mdep_col_name\u001b[0m\u001b[1;33m,\u001b[0m \u001b[1;36m1\u001b[0m\u001b[1;33m)\u001b[0m\u001b[1;33m\u001b[0m\u001b[0m\n\u001b[0m\u001b[0;32m      2\u001b[0m \u001b[0mX_vals\u001b[0m \u001b[1;33m=\u001b[0m \u001b[0mregression\u001b[0m\u001b[1;33m.\u001b[0m\u001b[0mgetXVals\u001b[0m\u001b[1;33m(\u001b[0m\u001b[0mselected_feature_names\u001b[0m\u001b[1;33m)\u001b[0m\u001b[1;33m\u001b[0m\u001b[0m\n\u001b[0;32m      3\u001b[0m \u001b[0mtestdframe\u001b[0m\u001b[1;33m.\u001b[0m\u001b[0mhead\u001b[0m\u001b[1;33m(\u001b[0m\u001b[1;33m)\u001b[0m\u001b[1;33m\u001b[0m\u001b[0m\n\u001b[0;32m      4\u001b[0m \u001b[0mfitted_production_model2\u001b[0m\u001b[1;33m.\u001b[0m\u001b[0mpredict\u001b[0m\u001b[1;33m(\u001b[0m\u001b[0mX_vals\u001b[0m\u001b[1;33m.\u001b[0m\u001b[0mloc\u001b[0m\u001b[1;33m[\u001b[0m\u001b[1;36m1\u001b[0m \u001b[1;33m,\u001b[0m \u001b[1;33m:\u001b[0m\u001b[1;33m]\u001b[0m\u001b[1;33m)\u001b[0m\u001b[1;33m\u001b[0m\u001b[0m\n",
      "\u001b[1;31mTypeError\u001b[0m: 'LinearRegression' object is not iterable"
     ]
    }
   ],
   "source": [
    "fitted_production_model2, testdframe = regression.kFoldTest(selected_feature_names, dep_col_name, 1)\n",
    "X_vals = regression.getXVals(selected_feature_names)\n",
    "testdframe.head()\n",
    "fitted_production_model2.predict(X_vals.loc[1 , :])"
   ]
  },
  {
   "cell_type": "markdown",
   "metadata": {
    "deletable": true,
    "editable": true
   },
   "source": [
    "### Prediction of Trip Production & Attraction using the intercepts and coefficients"
   ]
  },
  {
   "cell_type": "code",
   "execution_count": null,
   "metadata": {
    "collapsed": false,
    "deletable": true,
    "editable": true
   },
   "outputs": [],
   "source": [
    "trip_gen = TripGeneration(\"DummyDataRegressionFused.csv\", \"trips\")\n",
    "prod_col_names = selected_feature_names\n",
    "attr_col_names = selected_feature_names_attraction\n",
    "trip_gen.setProductionParameters(prod_col_names, fitted_production_model.intercept_, fitted_production_model.coef_)\n",
    "trip_gen.setAttractionParameters(attr_col_names, fitted_production_model_attr.intercept_, fitted_production_model_attr.coef_)\n",
    "print(\"Example:\")\n",
    "print(\"Overall Trip Production: \"+str(trip_gen.getWholeTripProductionScore()))\n",
    "print(\"Overall Trip Attraction: \"+str(trip_gen.getWholeTripAttractionScore()))"
   ]
  },
  {
   "cell_type": "markdown",
   "metadata": {
    "collapsed": true,
    "deletable": true,
    "editable": true
   },
   "source": [
    "### Computing for Trip Balancing Factor"
   ]
  },
  {
   "cell_type": "code",
   "execution_count": null,
   "metadata": {
    "collapsed": false,
    "deletable": true,
    "editable": true
   },
   "outputs": [],
   "source": [
    "trip_gen.doTripBalancing()\n",
    "print(\"Balancing Factor: \"+str(trip_gen.getBalancingFactor()))\n"
   ]
  },
  {
   "cell_type": "markdown",
   "metadata": {
    "deletable": true,
    "editable": true
   },
   "source": [
    "### Zonal-level Trip Production & Attraction Scores"
   ]
  },
  {
   "cell_type": "code",
   "execution_count": null,
   "metadata": {
    "collapsed": false,
    "deletable": true,
    "editable": true
   },
   "outputs": [],
   "source": [
    "zonal_df, productions, attractions = trip_gen.printAllZonalTripsProductionAttraction()\n",
    "display(zonal_df)"
   ]
  },
  {
   "cell_type": "markdown",
   "metadata": {
    "deletable": true,
    "editable": true
   },
   "source": [
    "# Model Validation"
   ]
  },
  {
   "cell_type": "code",
   "execution_count": null,
   "metadata": {
    "collapsed": false,
    "deletable": true,
    "editable": true
   },
   "outputs": [],
   "source": [
    "from sklearn.model_selection import train_test_split\n",
    "from sklearn import datasets\n",
    "from sklearn import svm\n",
    "\n",
    "fitted_production_model = regression.getFittedRegressionModel(selected_feature_names, dep_col_name)\n",
    "X_digits = regression.getSubTable(selected_feature_names)\n",
    "Y_digits = regression.getSubTable(dep_col_name)\n",
    "scores = cross_validation.cross_val_score(fitted_production_model, X_digits, Y_digits, scoring='r2', cv=10,)\n",
    "#X_digits.shape, Y_digits.shape\n",
    "scores"
   ]
  },
  {
   "cell_type": "markdown",
   "metadata": {
    "collapsed": true,
    "deletable": true,
    "editable": true
   },
   "source": [
    "# MODEL OUTPUT"
   ]
  },
  {
   "cell_type": "markdown",
   "metadata": {
    "collapsed": true,
    "deletable": true,
    "editable": true
   },
   "source": [
    "# Trip Distribution Class"
   ]
  },
  {
   "cell_type": "code",
   "execution_count": null,
   "metadata": {
    "collapsed": true,
    "deletable": true,
    "editable": true
   },
   "outputs": [],
   "source": [
    "class TripDistribution:\n",
    "\n",
    "    def __init__(self, productions, attractions):\n",
    "        self.productions = productions\n",
    "        self.attractions = attractions\n",
    "        self.row = len(productions)\n",
    "        self.col = len(attractions)\n",
    "        self.possibleError = 3\n",
    "        self.error = 0\n",
    "\n",
    "    def getGeneralizedCost(self, cost):\n",
    "        return 1.0 / (cost * cost)\n",
    "\n",
    "    def getTripDistribution(self):\n",
    "        distributions = [[self.attractions[y] for x in range(self.row)] for y in range(self.col)]\n",
    "        costMatrix = [[1 for x in range(self.row)] for y in range(self.col)]\n",
    "        #costMatrix = [[1.0, 1.2, 1.8], [1.2, 1.0, 1.5], [1.8, 1.5, 1.0]]\n",
    "        A = [1 for x in range(self.row)]\n",
    "        B = [1 for x in range(self.col)]\n",
    "\n",
    "        currentBalancingFactor = 0  # 0 for A, 1 for B\n",
    "        isConvergent = False\n",
    "\n",
    "        while isConvergent == False:\n",
    "            if currentBalancingFactor == 0:\n",
    "                A = self.computeA(B, costMatrix)\n",
    "                currentBalancingFactor = 1\n",
    "            elif currentBalancingFactor == 1:\n",
    "                B = self.computeB(A, costMatrix)\n",
    "                currentBalancingFactor = 0\n",
    "            distributions = self.computeDistributions(A, B, costMatrix)\n",
    "            isConvergent = self.checkIfConvergent(distributions)\n",
    "        return distributions\n",
    "\n",
    "    def computeDistributions(self, A, B, costMatrix):\n",
    "        distributions = [[self.attractions[y] for x in range(self.row)] for y in range(self.col)]\n",
    "        for x in range(self.row):\n",
    "            for y in range(self.col):\n",
    "                distributions[x][y] = A[x] * self.productions[x] * B[y] * self.attractions[y] * self.getGeneralizedCost(costMatrix[x][y])\n",
    "        return distributions\n",
    "\n",
    "    def checkIfConvergent(self, distributions):\n",
    "        error = self.getError(distributions)\n",
    "        if error <= self.possibleError:\n",
    "            self.error = error\n",
    "            return True\n",
    "        return False\n",
    "\n",
    "    def getError(self, distributions):\n",
    "        error = 0\n",
    "        derivedProductions = [0 for x in range(self.row)]\n",
    "        derivedAttractions = [0 for x in range(self.col)]\n",
    "\n",
    "        for x in range(self.row):\n",
    "            for y in range(self.col):\n",
    "                derivedProductions[x] += distributions[x][y]\n",
    "                derivedAttractions[y] += distributions[x][y]\n",
    "\n",
    "        for x in range(self.row):\n",
    "            error += abs(derivedProductions[x] - self.productions[x])\n",
    "            error += abs(derivedAttractions[y] - self.attractions[y])\n",
    "\n",
    "        return error\n",
    "\n",
    "    def computeA(self, B, costMatrix):\n",
    "        A = [1 for x in range(self.row)]\n",
    "        for x in range(0, self.row):\n",
    "            sum = 0.0\n",
    "            for y in range(0, self.col):\n",
    "                sum += B[y] * self.attractions[y] * self.getGeneralizedCost(costMatrix[x][y])\n",
    "            A[x] = 1.0 / sum\n",
    "        return A\n",
    "\n",
    "    def computeB(self, A, costMatrix):\n",
    "        B = [1 for x in range(self.col)]\n",
    "        for x in range(0, self.row):\n",
    "            sum = 0.0\n",
    "            for y in range(0, self.col):\n",
    "                sum += A[y] * self.productions[y] * self.getGeneralizedCost(costMatrix[x][y])\n",
    "            B[x] = 1.0 / sum\n",
    "        return B"
   ]
  },
  {
   "cell_type": "markdown",
   "metadata": {
    "deletable": true,
    "editable": true
   },
   "source": [
    "# Data"
   ]
  },
  {
   "cell_type": "markdown",
   "metadata": {
    "deletable": true,
    "editable": true
   },
   "source": [
    "## The result from trip generation (trip production and attraction) will be passed to trip distribution"
   ]
  },
  {
   "cell_type": "code",
   "execution_count": null,
   "metadata": {
    "collapsed": false,
    "deletable": true,
    "editable": true
   },
   "outputs": [],
   "source": [
    "td = TripDistribution(productions, attractions)\n",
    "\n",
    "#pandas_distrib = pd.DataFrame(td, columns=('1','2'))\n",
    "\n",
    "#print(\"Productions: \" + str(productions))\n",
    "#print(\"Attractions: \" + str(attractions))"
   ]
  },
  {
   "cell_type": "code",
   "execution_count": null,
   "metadata": {
    "collapsed": false,
    "deletable": true,
    "editable": true
   },
   "outputs": [],
   "source": [
    "distribution = td.getTripDistribution()\n",
    "\n",
    "pandas_distrib = pd.DataFrame(distribution, columns=range(0,len(productions)))\n",
    "\n",
    "# pandas_distrib.head()\n",
    "display(HTML(\n",
    "    '<table><tr>{}</tr></table>'.format(\n",
    "        '</tr><tr>'.join(\n",
    "            '<td>{}</td>'.format('</td><td>'.join(str(_) for _ in row)) for row in distribution)\n",
    "        )\n",
    "))"
   ]
  },
  {
   "cell_type": "markdown",
   "metadata": {
    "deletable": true,
    "editable": true
   },
   "source": [
    "# Error"
   ]
  },
  {
   "cell_type": "code",
   "execution_count": null,
   "metadata": {
    "collapsed": false,
    "deletable": true,
    "editable": true
   },
   "outputs": [],
   "source": [
    "print(\"Error: \" + str(td.error))"
   ]
  },
  {
   "cell_type": "markdown",
   "metadata": {
    "deletable": true,
    "editable": true
   },
   "source": [
    "# Modal Split Class"
   ]
  },
  {
   "cell_type": "code",
   "execution_count": null,
   "metadata": {
    "collapsed": false,
    "deletable": true,
    "editable": true
   },
   "outputs": [],
   "source": [
    "import random\n",
    "class ModalSplit:\n",
    "\n",
    "    def __init__(self, od_matrix, pathToData):\n",
    "        self.od_matrix = od_matrix\n",
    "        self.pathToData = pathToData\n",
    "        self.travel_costs = []\n",
    "        self.travel_probabilities = []\n",
    "        self.modes = ['jeep','bus','train']\n",
    "        \n",
    "    def computeGeneralizedCosts(self, zone_number):\n",
    "        #data = pd.read_csv(self.pathToData, index_col=0)\n",
    "        self.travel_costs = [None] * len(self.modes)\n",
    "        for x in range(0, len(self.modes)):\n",
    "            self.travel_costs[x] = random.randrange(1,4)\n",
    "            \n",
    "        #Compute for generalized cost for each mode for this specific zone\n",
    "        # populate self.travel_costs with the travel costs\n",
    "        self.computeModalProbabilities()\n",
    "        \n",
    "    def computeModalProbabilities(self):\n",
    "        self.travel_probabilities = [None] * len(self.modes)\n",
    "        sum = 0\n",
    "        #print(len(self.travel_costs))\n",
    "        for x in range(0,3):\n",
    "            sum += exp(-self.travel_costs[x])\n",
    "        for x in range(0,3):\n",
    "            self.travel_probabilities[x] = exp(-self.travel_costs[x])/sum\n",
    "        #print(self.travel_costs)\n",
    "        #print(self.travel_probabilities)\n",
    "    \n",
    "    def getPartitionedTripsByMode(self, total_trips):\n",
    "        return total_trips*self.travel_probabilities[0], self.travel_probabilities[1], self.travel_probabilities[2]\n",
    "    \n",
    "    def process_od_matrix(self):\n",
    "        #print(\"size:\"+str(len(self.od_matrix))+\",\"+str(len(self.od_matrix[0])))\n",
    "        #df = DataFrame(columns=('lib', 'qty1', 'qty2'))\n",
    "        #for i in range(5):\n",
    "            #df.loc[i] = [randint(-1,1) for n in range(3)]\n",
    "        cols = list(range(len(self.od_matrix[0])))\n",
    "        df_list = []\n",
    "        for x in range(0, len(self.modes)):\n",
    "            df = pd.DataFrame(columns=cols) \n",
    "            df_list.append(df)\n",
    "            \n",
    "        for y in range(0, len(self.od_matrix)):\n",
    "            self.computeGeneralizedCosts(y)\n",
    "            for z in range(0, len(self.modes)):\n",
    "                od_row = []\n",
    "                for x in range(0, len(self.od_matrix[0])):\n",
    "                    #print(\"x:\"+str(x)+\" y:\"+str(y)+\" z:\"+str(z))\n",
    "                    od_row.append(round(self.od_matrix[x][y]*self.travel_probabilities[z],2))\n",
    "                df_list[z].loc[y] = od_row\n",
    "                \n",
    "        return df_list\n",
    "                "
   ]
  },
  {
   "cell_type": "code",
   "execution_count": null,
   "metadata": {
    "collapsed": false,
    "deletable": true,
    "editable": true
   },
   "outputs": [],
   "source": [
    "modal_split = ModalSplit(distribution,\"datapath\")\n",
    "list_of_dataframes_by_mode = modal_split.process_od_matrix()"
   ]
  },
  {
   "cell_type": "markdown",
   "metadata": {
    "deletable": true,
    "editable": true
   },
   "source": [
    "## Mode 1"
   ]
  },
  {
   "cell_type": "code",
   "execution_count": null,
   "metadata": {
    "collapsed": false,
    "deletable": true,
    "editable": true
   },
   "outputs": [],
   "source": [
    "display(list_of_dataframes_by_mode[0])"
   ]
  },
  {
   "cell_type": "markdown",
   "metadata": {
    "deletable": true,
    "editable": true
   },
   "source": [
    "## Mode 2"
   ]
  },
  {
   "cell_type": "code",
   "execution_count": null,
   "metadata": {
    "collapsed": false,
    "deletable": true,
    "editable": true
   },
   "outputs": [],
   "source": [
    "display(list_of_dataframes_by_mode[1])"
   ]
  },
  {
   "cell_type": "markdown",
   "metadata": {
    "deletable": true,
    "editable": true
   },
   "source": [
    "## Mode 3"
   ]
  },
  {
   "cell_type": "code",
   "execution_count": null,
   "metadata": {
    "collapsed": false,
    "deletable": true,
    "editable": true
   },
   "outputs": [],
   "source": [
    "display(list_of_dataframes_by_mode[2])"
   ]
  },
  {
   "cell_type": "markdown",
   "metadata": {
    "collapsed": true,
    "deletable": true,
    "editable": true
   },
   "source": [
    "## FOR TRIP GENERATION EXPERIMENTS\n",
    "Use this section to test trip tripgeneration"
   ]
  },
  {
   "cell_type": "code",
   "execution_count": 35,
   "metadata": {
    "collapsed": false,
    "deletable": true,
    "editable": true
   },
   "outputs": [
    {
     "name": "stdout",
     "output_type": "stream",
     "text": [
      "R^2 score: 0.99170614505\n",
      "R^2 score: 0.996911644387\n"
     ]
    }
   ],
   "source": [
    "selected_feature_names = [\"no_hh\",\"avg_income\",\"mem_no\",\"no_mem_educwork\",\n",
    "                        \"comm_area\", \"park_area\",\"indu_area\",\"agri_area\",\"resi_area\",\"util_area\",\"othe_area\"]\n",
    "dep_col_name = \"trips\"\n",
    "data_filepath = \"DummyDataRegression_revised.csv\"\n",
    "array = pd.read_csv(data_filepath, index_col=0)\n",
    "X = array.loc[:, selected_feature_names]\n",
    "Y = array.loc[:, dep_col_name]\n",
    "\n",
    "\n",
    "selected_feature_names2 = [\"sust_amt\",\"educ_amt\",\"tran_amt\",\"heal_amt\",\"fina_amt\",\"comm_amt\", \"ente_amt\",\"othe_amt\",\n",
    "                        \"comm_area\", \"park_area\",\"indu_area\",\"agri_area\",\"resi_area\",\"util_area\",\"othe_area\"]\n",
    "dep_col_name2 = \"trips\"\n",
    "data_filepath2 = \"DummyDataRegressionAmenitiex_revised.csv\"\n",
    "array2 = pd.read_csv(data_filepath2, index_col=0)\n",
    "X2 = array2.loc[:, selected_feature_names2]\n",
    "Y2 = array2.loc[:, dep_col_name2]\n",
    "\n",
    "fitted_production_model = regression.getFittedRegressionModel(selected_feature_names, dep_col_name)\n",
    "fitted_production_model_attr = regression2.getFittedRegressionModel(selected_feature_names2, dep_col_name2)\n",
    "\n",
    "#print(\"Prod Intercept:\"+str(fitted_production_model.intercept_)+\" Coef:\"+str(fitted_production_model.coef_))\n",
    "#print(\"Attr Intercept:\"+str(fitted_production_model_attr.intercept_)+\" Coef:\"+str(fitted_production_model_attr.coef_))\n",
    "#print(fitted_production_model.coef_)\n"
   ]
  },
  {
   "cell_type": "code",
   "execution_count": 36,
   "metadata": {
    "collapsed": false,
    "deletable": true,
    "editable": true
   },
   "outputs": [
    {
     "name": "stdout",
     "output_type": "stream",
     "text": [
      "The relative change of the cost function is less than `tol`.\n",
      "Number of iterations 20, initial cost 2.8864e+12, final cost 8.3017e+07, first-order optimality 1.59e-07.\n",
      "[  3.04156366e+00   1.38767539e-02   8.81298622e-18   2.75093984e-17\n",
      "   4.88221301e-23   7.44158845e+00   8.59505052e-18   2.18538435e-21\n",
      "   1.44405803e+00   1.23602105e-16   1.00000000e-01]\n"
     ]
    }
   ],
   "source": [
    "from scipy.sparse import rand\n",
    "from scipy.optimize import lsq_linear\n",
    "import sys\n",
    "\n",
    "A = np.array(X.values)\n",
    "b = np.array(Y.values)\n",
    "res = lsq_linear(A, b, bounds=(0, 1000), lsmr_tol='auto', verbose=1)\n",
    "print(res['x'])\n",
    "#[ 85.04687743   3.36621094 -26.75217765]"
   ]
  },
  {
   "cell_type": "code",
   "execution_count": 37,
   "metadata": {
    "collapsed": false,
    "deletable": true,
    "editable": true
   },
   "outputs": [
    {
     "name": "stdout",
     "output_type": "stream",
     "text": [
      "The relative change of the cost function is less than `tol`.\n",
      "Number of iterations 14, initial cost 3.0053e+10, final cost 5.3578e+07, first-order optimality 1.56e-05.\n",
      "[  7.19248083e-22   3.06103118e+01   1.22181039e-20   1.18773210e-19\n",
      "   7.85821582e-24   1.34278010e-24   2.84369185e-22   1.11817815e-22\n",
      "   4.84500091e+00   1.44005060e+01   1.37141692e+01   3.23873059e-01\n",
      "   1.09169247e+00   3.22354125e-24   1.00000000e-01]\n"
     ]
    }
   ],
   "source": [
    "from scipy.sparse import rand\n",
    "from scipy.optimize import lsq_linear\n",
    "import sys\n",
    "\n",
    "A = np.array(X2.values)\n",
    "b = np.array(Y2.values)\n",
    "res2 = lsq_linear(A, b, bounds=(0, 1000), lsmr_tol='auto', verbose=1)\n",
    "print(res2['x'])\n",
    "#[ 85.04687743   3.36621094 -26.75217765]"
   ]
  },
  {
   "cell_type": "markdown",
   "metadata": {
    "deletable": true,
    "editable": true
   },
   "source": [
    "## Trip Production Experiment:\n",
    "Change the values after \"fitted_production_model.predict([\""
   ]
  },
  {
   "cell_type": "code",
   "execution_count": 13,
   "metadata": {
    "collapsed": false,
    "deletable": true,
    "editable": true
   },
   "outputs": [
    {
     "name": "stderr",
     "output_type": "stream",
     "text": [
      "C:\\Users\\xtiangabe\\Anaconda3\\lib\\site-packages\\sklearn\\utils\\validation.py:395: DeprecationWarning: Passing 1d arrays as data is deprecated in 0.17 and will raise ValueError in 0.19. Reshape your data either using X.reshape(-1, 1) if your data has a single feature or X.reshape(1, -1) if it contains a single sample.\n",
      "  DeprecationWarning)\n"
     ]
    },
    {
     "data": {
      "text/plain": [
       "434868.3672945298"
      ]
     },
     "execution_count": 13,
     "metadata": {},
     "output_type": "execute_result"
    }
   ],
   "source": [
    "#x4 x1.16\n",
    "#3.37 0.74\n",
    "#fitted_production_model.predict([73444,252283.04,294170,189034,3.74E-05,3.06E-05,9.67E-05,0,0.000137578,0,0])[0]\n",
    "#36088\n",
    "#print(fitted_production_model.intercept_)\n",
    "#fitted_production_model.coef_= res['x']\n",
    "fitted_production_model.coef_ = res['x']\n",
    "fitted_production_model.intercept_ = 0\n",
    "#print(fitted_production_model.coef_)\n",
    "fitted_production_model.predict([ \n",
    " \n",
    " \n",
    "73444,\n",
    "21023.5866,\n",
    "294170,\n",
    "189034,\n",
    "    3.74E-05,\n",
    "    3.06E-05,9.67E-05,0,0.000137578,0,0\n",
    "\n",
    "\n",
    "\n",
    "\n",
    "])[0]"
   ]
  },
  {
   "cell_type": "markdown",
   "metadata": {
    "deletable": true,
    "editable": true
   },
   "source": [
    "## Trip Attraction Experiment:\n",
    "Change the values after \"fitted_production_model_attr.predict([\""
   ]
  },
  {
   "cell_type": "code",
   "execution_count": 25,
   "metadata": {
    "collapsed": false,
    "deletable": true,
    "editable": true
   },
   "outputs": [
    {
     "name": "stderr",
     "output_type": "stream",
     "text": [
      "C:\\Users\\xtiangabe\\Anaconda3\\lib\\site-packages\\sklearn\\utils\\validation.py:395: DeprecationWarning: Passing 1d arrays as data is deprecated in 0.17 and will raise ValueError in 0.19. Reshape your data either using X.reshape(-1, 1) if your data has a single feature or X.reshape(1, -1) if it contains a single sample.\n",
      "  DeprecationWarning)\n"
     ]
    },
    {
     "data": {
      "text/plain": [
       "2564.3663311868436"
      ]
     },
     "execution_count": 25,
     "metadata": {},
     "output_type": "execute_result"
    }
   ],
   "source": [
    "#x4 x1.16\n",
    "#3.37 0.74\n",
    "#fitted_production_model.predict([73444,252283.04,294170,189034,3.74E-05,3.06E-05,9.67E-05,0,0.000137578,0,0])[0]\n",
    "#36088\n",
    "fitted_production_model_attr.coef_ = res2['x']\n",
    "#print(res2['x'])\n",
    "fitted_production_model_attr.intercept_ = 0\n",
    "fitted_production_model_attr.predict([ \n",
    "58,86,54,43,44,2,0,97,6.33E-05,0.000267378,4.20E-05,3.24E-06,0.000628963,0,0\n",
    "\n",
    "\n",
    "])[0]"
   ]
  },
  {
   "cell_type": "code",
   "execution_count": null,
   "metadata": {
    "collapsed": true,
    "deletable": true,
    "editable": true
   },
   "outputs": [],
   "source": []
  },
  {
   "cell_type": "markdown",
   "metadata": {
    "collapsed": false,
    "deletable": true,
    "editable": true
   },
   "source": [
    "## Additional regression info:"
   ]
  },
  {
   "cell_type": "code",
   "execution_count": 38,
   "metadata": {
    "collapsed": false,
    "deletable": true,
    "editable": true
   },
   "outputs": [
    {
     "name": "stderr",
     "output_type": "stream",
     "text": [
      "C:\\Users\\xtiangabe\\Anaconda3\\lib\\site-packages\\scipy\\stats\\stats.py:1327: UserWarning: kurtosistest only valid for n>=20 ... continuing anyway, n=17\n",
      "  \"anyway, n=%i\" % int(n))\n"
     ]
    },
    {
     "data": {
      "text/html": [
       "<table class=\"simpletable\">\n",
       "<caption>OLS Regression Results</caption>\n",
       "<tr>\n",
       "  <th>Dep. Variable:</th>          <td>trips</td>      <th>  R-squared:         </th> <td>   0.991</td>\n",
       "</tr>\n",
       "<tr>\n",
       "  <th>Model:</th>                   <td>OLS</td>       <th>  Adj. R-squared:    </th> <td>   0.989</td>\n",
       "</tr>\n",
       "<tr>\n",
       "  <th>Method:</th>             <td>Least Squares</td>  <th>  F-statistic:       </th> <td>   495.4</td>\n",
       "</tr>\n",
       "<tr>\n",
       "  <th>Date:</th>             <td>Wed, 05 Jul 2017</td> <th>  Prob (F-statistic):</th> <td>1.93e-14</td>\n",
       "</tr>\n",
       "<tr>\n",
       "  <th>Time:</th>                 <td>21:57:23</td>     <th>  Log-Likelihood:    </th> <td> -142.74</td>\n",
       "</tr>\n",
       "<tr>\n",
       "  <th>No. Observations:</th>      <td>    17</td>      <th>  AIC:               </th> <td>   291.5</td>\n",
       "</tr>\n",
       "<tr>\n",
       "  <th>Df Residuals:</th>          <td>    14</td>      <th>  BIC:               </th> <td>   294.0</td>\n",
       "</tr>\n",
       "<tr>\n",
       "  <th>Df Model:</th>              <td>     3</td>      <th>                     </th>     <td> </td>   \n",
       "</tr>\n",
       "<tr>\n",
       "  <th>Covariance Type:</th>      <td>nonrobust</td>    <th>                     </th>     <td> </td>   \n",
       "</tr>\n",
       "</table>\n",
       "<table class=\"simpletable\">\n",
       "<tr>\n",
       "         <td></td>            <th>coef</th>     <th>std err</th>      <th>t</th>      <th>P>|t|</th>  <th>[0.025</th>    <th>0.975]</th>  \n",
       "</tr>\n",
       "<tr>\n",
       "  <th>no_hh</th>           <td>   33.5216</td> <td>   10.812</td> <td>    3.101</td> <td> 0.008</td> <td>   10.333</td> <td>   56.710</td>\n",
       "</tr>\n",
       "<tr>\n",
       "  <th>mem_no</th>          <td>  -29.8981</td> <td>    7.124</td> <td>   -4.197</td> <td> 0.001</td> <td>  -45.178</td> <td>  -14.618</td>\n",
       "</tr>\n",
       "<tr>\n",
       "  <th>no_mem_educwork</th> <td>   23.1163</td> <td>   10.705</td> <td>    2.159</td> <td> 0.049</td> <td>    0.155</td> <td>   46.077</td>\n",
       "</tr>\n",
       "</table>\n",
       "<table class=\"simpletable\">\n",
       "<tr>\n",
       "  <th>Omnibus:</th>       <td> 0.686</td> <th>  Durbin-Watson:     </th> <td>   2.604</td>\n",
       "</tr>\n",
       "<tr>\n",
       "  <th>Prob(Omnibus):</th> <td> 0.710</td> <th>  Jarque-Bera (JB):  </th> <td>   0.661</td>\n",
       "</tr>\n",
       "<tr>\n",
       "  <th>Skew:</th>          <td> 0.391</td> <th>  Prob(JB):          </th> <td>   0.719</td>\n",
       "</tr>\n",
       "<tr>\n",
       "  <th>Kurtosis:</th>      <td> 2.433</td> <th>  Cond. No.          </th> <td>    594.</td>\n",
       "</tr>\n",
       "</table>"
      ],
      "text/plain": [
       "<class 'statsmodels.iolib.summary.Summary'>\n",
       "\"\"\"\n",
       "                            OLS Regression Results                            \n",
       "==============================================================================\n",
       "Dep. Variable:                  trips   R-squared:                       0.991\n",
       "Model:                            OLS   Adj. R-squared:                  0.989\n",
       "Method:                 Least Squares   F-statistic:                     495.4\n",
       "Date:                Wed, 05 Jul 2017   Prob (F-statistic):           1.93e-14\n",
       "Time:                        21:57:23   Log-Likelihood:                -142.74\n",
       "No. Observations:                  17   AIC:                             291.5\n",
       "Df Residuals:                      14   BIC:                             294.0\n",
       "Df Model:                           3                                         \n",
       "Covariance Type:            nonrobust                                         \n",
       "===================================================================================\n",
       "                      coef    std err          t      P>|t|      [0.025      0.975]\n",
       "-----------------------------------------------------------------------------------\n",
       "no_hh              33.5216     10.812      3.101      0.008      10.333      56.710\n",
       "mem_no            -29.8981      7.124     -4.197      0.001     -45.178     -14.618\n",
       "no_mem_educwork    23.1163     10.705      2.159      0.049       0.155      46.077\n",
       "==============================================================================\n",
       "Omnibus:                        0.686   Durbin-Watson:                   2.604\n",
       "Prob(Omnibus):                  0.710   Jarque-Bera (JB):                0.661\n",
       "Skew:                           0.391   Prob(JB):                        0.719\n",
       "Kurtosis:                       2.433   Cond. No.                         594.\n",
       "==============================================================================\n",
       "\n",
       "Warnings:\n",
       "[1] Standard Errors assume that the covariance matrix of the errors is correctly specified.\n",
       "\"\"\""
      ]
     },
     "execution_count": 38,
     "metadata": {},
     "output_type": "execute_result"
    }
   ],
   "source": [
    "dep_col_name = \"trips\"\n",
    "data_filepath = \"DummyDataRegression_revised.csv\"\n",
    "regression = Regression(data_filepath)\n",
    "\n",
    "data_filepath2 = \"DummyDataRegressionAmenitiex_revised.csv\"\n",
    "regression2 = Regression(data_filepath2)\n",
    "\n",
    "selected_feature_names = [\"no_hh\",\"mem_no\",\"no_mem_educwork\"]\n",
    "selected_feature_names_attraction = [\"sust_amt\",\"educ_amt\",\"tran_amt\",\"heal_amt\",\"fina_amt\",\"comm_amt\", \"ente_amt\",\"othe_amt\",\n",
    "                        \"comm_area\", \"park_area\",\"indu_area\",\"agri_area\",\"resi_area\",\"util_area\",\"othe_area\"]\n",
    "result = regression.statsmodelsRegressionSummary(selected_feature_names, dep_col_name)\n",
    "result.summary()"
   ]
  },
  {
   "cell_type": "markdown",
   "metadata": {
    "deletable": true,
    "editable": true
   },
   "source": [
    "## K-fold validation (6-fold) and measuring by % RMSE values"
   ]
  },
  {
   "cell_type": "code",
   "execution_count": 83,
   "metadata": {
    "collapsed": false,
    "deletable": true,
    "editable": true,
    "scrolled": true
   },
   "outputs": [
    {
     "name": "stdout",
     "output_type": "stream",
     "text": [
      "['no_hh', 'avg_income', 'mem_no', 'no_mem_educwork', 'comm_area', 'park_area', 'indu_area', 'agri_area', 'resi_area', 'util_area', 'othe_area']\n",
      "The relative change of the cost function is less than `tol`.\n",
      "Number of iterations 19, initial cost 3.4193e+12, final cost 1.2915e+08, first-order optimality 3.83e-07.\n",
      "rms1:9398.854228678712 * 0.00463434980072\n",
      "Trained using slice 0: RawRMSE=9398.854228678712 %RMSE=43.5575782217\n",
      "slice size: 3\n",
      "The relative change of the cost function is less than `tol`.\n",
      "Number of iterations 24, initial cost 5.0990e+12, final cost 1.6692e+08, first-order optimality 1.21e-07.\n",
      "rms1:8537.622966295372 * 0.011911852293\n",
      "Trained using slice 1: RawRMSE=8537.622966295372 %RMSE=101.698903708\n",
      "slice size: 3\n",
      "The relative change of the cost function is less than `tol`.\n",
      "Number of iterations 20, initial cost 5.6892e+12, final cost 1.7184e+08, first-order optimality 2.22e-05.\n",
      "rms1:1077.9049385311462 * 0.00994365263507\n",
      "Trained using slice 2: RawRMSE=1077.9049385311462 %RMSE=10.7183122824\n",
      "slice size: 3\n",
      "The relative change of the cost function is less than `tol`.\n",
      "Number of iterations 23, initial cost 6.4282e+12, final cost 1.7186e+08, first-order optimality 8.51e-05.\n",
      "rms1:3301.733122197721 * 0.00600600600601\n",
      "Trained using slice 3: RawRMSE=3301.733122197721 %RMSE=19.8302289621\n",
      "slice size: 3\n",
      "The relative change of the cost function is less than `tol`.\n",
      "Number of iterations 24, initial cost 4.5369e+12, final cost 1.7176e+08, first-order optimality 2.72e-07.\n",
      "rms1:1227.5453549027231 * 0.00403529538362\n",
      "Trained using slice 4: RawRMSE=1227.5453549027231 %RMSE=4.95350810383\n",
      "slice size: 3\n",
      "The relative change of the cost function is less than `tol`.\n",
      "Number of iterations 25, initial cost 4.3195e+12, final cost 1.6361e+08, first-order optimality 3.92e-05.\n",
      "rms1:4847.170804187077 * 0.00963824455439\n",
      "Trained using slice 5: RawRMSE=4847.170804187077 %RMSE=46.7182176077\n",
      "slice size: 2\n"
     ]
    }
   ],
   "source": [
    "totalrmse = 0\n",
    "print(selected_feature_names)\n",
    "X_vals = regression.getXVals(selected_feature_names)\n",
    "Y_vals = regression.getYVals(dep_col_name)\n",
    "regression.kFoldTest2(selected_feature_names, dep_col_name, 3)\n"
   ]
  },
  {
   "cell_type": "code",
   "execution_count": 19,
   "metadata": {
    "collapsed": false,
    "deletable": true,
    "editable": true
   },
   "outputs": [
    {
     "name": "stdout",
     "output_type": "stream",
     "text": [
      "[  5.90456940e+000   5.77052508e-002   1.37222509e-033   4.94065646e-324\n",
      "   5.79718102e-026   1.94474899e+001   8.64172470e-029   1.70091033e-025\n",
      "   3.71466566e+000   1.04524070e-029   1.00000000e-001]\n"
     ]
    },
    {
     "name": "stderr",
     "output_type": "stream",
     "text": [
      "C:\\Users\\xtiangabe\\Anaconda3\\lib\\site-packages\\sklearn\\utils\\validation.py:395: DeprecationWarning: Passing 1d arrays as data is deprecated in 0.17 and will raise ValueError in 0.19. Reshape your data either using X.reshape(-1, 1) if your data has a single feature or X.reshape(1, -1) if it contains a single sample.\n",
      "  DeprecationWarning)\n"
     ]
    },
    {
     "data": {
      "text/plain": [
       "30836.756076565678"
      ]
     },
     "execution_count": 19,
     "metadata": {},
     "output_type": "execute_result"
    }
   ],
   "source": [
    "#x4 x1.16\n",
    "#3.37 0.74\n",
    "#fitted_production_model.predict([73444,252283.04,294170,189034,3.74E-05,3.06E-05,9.67E-05,0,0.000137578,0,0])[0]\n",
    "#36088\n",
    "#print(fitted_production_model.intercept_)\n",
    "#fitted_production_model.coef_= res['x']\n",
    "fitted_production_model.coef_ = res['x']\n",
    "fitted_production_model.intercept_ = 0\n",
    "print(fitted_production_model.coef_)\n",
    "fitted_production_model.predict([ \n",
    " \n",
    "3779,\n",
    "17110,\n",
    "12747,\n",
    "11894,\n",
    "63.27,\n",
    "267.37,\n",
    "41.97,\n",
    "3.23,\n",
    "628.96,\n",
    "0,\n",
    "0\n",
    "\n",
    "])[0]"
   ]
  },
  {
   "cell_type": "code",
   "execution_count": 25,
   "metadata": {
    "collapsed": false,
    "deletable": true,
    "editable": true
   },
   "outputs": [
    {
     "name": "stdout",
     "output_type": "stream",
     "text": [
      "[  2.23501746e-16   2.98180289e+01   7.26239182e-16   1.43687118e-15\n",
      "   1.16790905e-17   2.80332165e-19   1.37219337e-19   8.98948053e-17\n",
      "   5.98251085e-01   4.15707106e+01   3.83165553e+01   6.38897234e-21\n",
      "   4.90685694e+00   6.17212673e-23   1.00000000e-01]\n"
     ]
    },
    {
     "name": "stderr",
     "output_type": "stream",
     "text": [
      "C:\\Users\\xtiangabe\\Anaconda3\\lib\\site-packages\\sklearn\\utils\\validation.py:395: DeprecationWarning: Passing 1d arrays as data is deprecated in 0.17 and will raise ValueError in 0.19. Reshape your data either using X.reshape(-1, 1) if your data has a single feature or X.reshape(1, -1) if it contains a single sample.\n",
      "  DeprecationWarning)\n"
     ]
    },
    {
     "data": {
      "text/plain": [
       "18411.325285029558"
      ]
     },
     "execution_count": 25,
     "metadata": {},
     "output_type": "execute_result"
    }
   ],
   "source": [
    "#x4 x1.16\n",
    "#3.37 0.74\n",
    "#fitted_production_model.predict([73444,252283.04,294170,189034,3.74E-05,3.06E-05,9.67E-05,0,0.000137578,0,0])[0]\n",
    "#36088\n",
    "fitted_production_model_attr.coef_ = res2['x']\n",
    "print(res2['x'])\n",
    "fitted_production_model_attr.intercept_ = 0\n",
    "fitted_production_model_attr.predict([ \n",
    " 58,\n",
    "86,\n",
    "54,\n",
    "43,\n",
    "44,\n",
    "2,\n",
    "20,\n",
    "97,\n",
    "63.27,\n",
    "267.37,\n",
    "41.97,\n",
    "3.23,\n",
    "628.96,\n",
    "0,\n",
    "0\n",
    "\n",
    "])[0]"
   ]
  },
  {
   "cell_type": "markdown",
   "metadata": {
    "deletable": true,
    "editable": true
   },
   "source": [
    "## K-fold validation (17-fold)"
   ]
  },
  {
   "cell_type": "code",
   "execution_count": 82,
   "metadata": {
    "collapsed": false,
    "deletable": true,
    "editable": true
   },
   "outputs": [
    {
     "name": "stdout",
     "output_type": "stream",
     "text": [
      "The relative change of the cost function is less than `tol`.\n",
      "Number of iterations 19, initial cost 3.4193e+12, final cost 1.2915e+08, first-order optimality 3.83e-07.\n",
      "rms1:15860.527952685807 * 0.00267179651598\n",
      "Trained using slice 0: RawRMSE=15860.527952685807 %RMSE=42.3761033255\n",
      "slice size: 1\n",
      "The relative change of the cost function is less than `tol`.\n",
      "Number of iterations 27, initial cost 7.8273e+12, final cost 1.7096e+08, first-order optimality 4.44e-03.\n",
      "rms1:1439.986447313906 * 0.00703581228453\n",
      "Trained using slice 1: RawRMSE=1439.986447313906 %RMSE=10.1314743356\n",
      "slice size: 1\n",
      "The relative change of the cost function is less than `tol`.\n",
      "Number of iterations 23, initial cost 3.1603e+12, final cost 1.7127e+08, first-order optimality 8.88e-05.\n",
      "rms1:1231.4532126301074 * 0.00763766898343\n",
      "Trained using slice 2: RawRMSE=1231.4532126301074 %RMSE=9.40543200665\n",
      "slice size: 1\n",
      "The relative change of the cost function is less than `tol`.\n",
      "Number of iterations 24, initial cost 5.0990e+12, final cost 1.6692e+08, first-order optimality 1.21e-07.\n",
      "rms1:3198.1803232494276 * 0.0118525542254\n",
      "Trained using slice 3: RawRMSE=3198.1803232494276 %RMSE=37.906605704\n",
      "slice size: 1\n",
      "The relative change of the cost function is less than `tol`.\n",
      "Number of iterations 25, initial cost 4.6651e+12, final cost 1.6446e+08, first-order optimality 5.50e-07.\n",
      "rms1:3940.684266051372 * 0.0100310963988\n",
      "Trained using slice 4: RawRMSE=3940.684266051372 %RMSE=39.5293837501\n",
      "slice size: 1\n",
      "The relative change of the cost function is less than `tol`.\n",
      "Number of iterations 18, initial cost 1.1199e+11, final cost 1.3259e+06, first-order optimality 6.18e-07.\n",
      "rms1:25333.947824844934 * 0.0147514382652\n",
      "Trained using slice 5: RawRMSE=25333.947824844934 %RMSE=373.712167353\n",
      "slice size: 1\n",
      "The relative change of the cost function is less than `tol`.\n",
      "Number of iterations 20, initial cost 5.6892e+12, final cost 1.7184e+08, first-order optimality 2.22e-05.\n",
      "rms1:317.773686464594 * 0.00964041260966\n",
      "Trained using slice 6: RawRMSE=317.773686464594 %RMSE=3.06346945401\n",
      "slice size: 1\n",
      "The relative change of the cost function is less than `tol`.\n",
      "Number of iterations 29, initial cost 4.2504e+12, final cost 1.7150e+08, first-order optimality 4.81e-05.\n",
      "rms1:1040.2162206209996 * 0.00729235032451\n",
      "Trained using slice 7: RawRMSE=1040.2162206209996 %RMSE=7.58562109401\n",
      "slice size: 1\n",
      "The relative change of the cost function is less than `tol`.\n",
      "Number of iterations 23, initial cost 6.3261e+12, final cost 1.7049e+08, first-order optimality 2.59e-05.\n",
      "rms1:1682.384428365428 * 0.0164365548981\n",
      "Trained using slice 8: RawRMSE=1682.384428365428 %RMSE=27.6526040165\n",
      "slice size: 1\n",
      "The relative change of the cost function is less than `tol`.\n",
      "Number of iterations 23, initial cost 6.4282e+12, final cost 1.7186e+08, first-order optimality 8.51e-05.\n",
      "rms1:257.6792584000068 * 0.0058312438043\n",
      "Trained using slice 9: RawRMSE=257.6792584000068 %RMSE=1.50259057904\n",
      "slice size: 1\n",
      "The relative change of the cost function is less than `tol`.\n",
      "Number of iterations 17, initial cost 2.6824e+12, final cost 1.6976e+08, first-order optimality 3.18e-07.\n",
      "rms1:2149.2158955061204 * 0.00762951094835\n",
      "Trained using slice 10: RawRMSE=2149.2158955061204 %RMSE=16.3974662051\n",
      "slice size: 1\n",
      "The relative change of the cost function is less than `tol`.\n",
      "Number of iterations 23, initial cost 4.5188e+12, final cost 1.5606e+08, first-order optimality 3.27e-07.\n",
      "rms1:5925.338049199016 * 0.00507768863613\n",
      "Trained using slice 11: RawRMSE=5925.338049199016 %RMSE=30.0870216777\n",
      "slice size: 1\n",
      "The relative change of the cost function is less than `tol`.\n",
      "Number of iterations 24, initial cost 4.5369e+12, final cost 1.7176e+08, first-order optimality 2.72e-07.\n",
      "rms1:496.1216765661193 * 0.064850843061\n",
      "Trained using slice 12: RawRMSE=496.1216765661193 %RMSE=32.1739089861\n",
      "slice size: 1\n",
      "The relative change of the cost function is less than `tol`.\n",
      "Number of iterations 15, initial cost 2.7013e+12, final cost 1.1822e+08, first-order optimality 2.23e-05.\n",
      "rms1:61804.70144215436 * 0.00142955169259\n",
      "Trained using slice 13: RawRMSE=61804.70144215436 %RMSE=88.3530155566\n",
      "slice size: 1\n",
      "The relative change of the cost function is less than `tol`.\n",
      "Number of iterations 24, initial cost 4.1293e+12, final cost 1.7177e+08, first-order optimality 7.41e-07.\n",
      "rms1:471.7242628284662 * 0.0350877192982\n",
      "Trained using slice 14: RawRMSE=471.7242628284662 %RMSE=16.5517285203\n",
      "slice size: 1\n",
      "The relative change of the cost function is less than `tol`.\n",
      "Number of iterations 25, initial cost 4.3195e+12, final cost 1.6361e+08, first-order optimality 3.92e-05.\n",
      "rms1:4209.459814634045 * 0.00625234462924\n",
      "Trained using slice 15: RawRMSE=4209.459814634045 %RMSE=26.318993464\n",
      "slice size: 1\n",
      "The relative change of the cost function is less than `tol`.\n",
      "Number of iterations 21, initial cost 2.7633e+12, final cost 1.5765e+08, first-order optimality 6.53e-07.\n",
      "rms1:5543.559064277211 * 0.00660851176315\n",
      "Trained using slice 16: RawRMSE=5543.559064277211 %RMSE=36.634675286\n",
      "slice size: 1\n"
     ]
    }
   ],
   "source": [
    "regression.kFoldTest2(selected_feature_names, dep_col_name, 1);"
   ]
  },
  {
   "cell_type": "markdown",
   "metadata": {
    "deletable": true,
    "editable": true
   },
   "source": [
    "### 2.) with LANDUSE variables"
   ]
  },
  {
   "cell_type": "code",
   "execution_count": null,
   "metadata": {
    "collapsed": false,
    "deletable": true,
    "editable": true
   },
   "outputs": [],
   "source": [
    "dummy_data = pd.read_csv('DummyDataRegression.csv', index_col=0)\n",
    "dummy_data.head()"
   ]
  },
  {
   "cell_type": "code",
   "execution_count": null,
   "metadata": {
    "collapsed": false,
    "deletable": true,
    "editable": true
   },
   "outputs": [],
   "source": [
    "regression.kFoldTest2([\"no_hh\",\"avg_income\",\"mem_no\",\"no_mem_educwork\"], dep_col_name, 1)"
   ]
  },
  {
   "cell_type": "code",
   "execution_count": null,
   "metadata": {
    "collapsed": false,
    "deletable": true,
    "editable": true
   },
   "outputs": [],
   "source": [
    "regression.kFoldTest2(['no_hh', 'avg_income', 'mem_no', 'agri_area', 'resi_area', 'util_area'], dep_col_name, 1)"
   ]
  },
  {
   "cell_type": "code",
   "execution_count": null,
   "metadata": {
    "collapsed": false,
    "deletable": true,
    "editable": true
   },
   "outputs": [],
   "source": [
    "\n",
    "        \n",
    "dep_col_name = \"trips\"\n",
    "data_filepath = \"DummyDataRegression.csv\"\n",
    "regression = Regression(data_filepath)\n",
    "original_df  =  pd.read_csv(data_filepath, index_col=0)\n",
    "data_filepath2 = \"DummyDataRegressionAmenitiex.csv\"\n",
    "regression2 = Regression(data_filepath2)\n",
    "\n",
    "selected_feature_names_attraction = [\"sust_amt\",\"educ_amt\",\"tran_amt\",\"heal_amt\",\"fina_amt\",\"comm_amt\", \"ente_amt\",\"othe_amt\",\n",
    "                        \"comm_area\", \"park_area\",\"indu_area\",\"agri_area\",\"resi_area\",\"util_area\",\"othe_area\"]\n",
    "#fitted_production_model = regression.getFittedRegressionModel(selected_feature_names, dep_col_name)\n",
    "#fitted_production_model_attr = regression2.getFittedRegressionModel(selected_feature_names_attraction, dep_col_name)\n",
    "##\n",
    "\n",
    "selected_feature_names = [\"no_hh\",\"avg_income\",\"mem_no\",\"no_mem_educwork\"]\n",
    "landuse_names = [\"comm_area\",\"park_area\", \"indu_area\",\"agri_area\",\n",
    "                         \"resi_area\", \"util_area\"]\n",
    "totalrmse = 0\n",
    "print(selected_feature_names)\n",
    "X_vals = regression.getXVals(selected_feature_names+landuse_names)\n",
    "Y_vals = regression.getYVals(dep_col_name)\n",
    "best_comb = []\n",
    "best_score = 0\n",
    "initialized = False\n",
    "\n",
    "for L in range(1, len(selected_feature_names+landuse_names)+1):\n",
    "  for subset in itertools.combinations(selected_feature_names+landuse_names, L):\n",
    "    curr_cols = list(subset)\n",
    "    print(\"current: \"+str(curr_cols))\n",
    "    totalrmse = 0\n",
    "    rms = regression.kFoldTest3(curr_cols, dep_col_name, 3)\n",
    "    totalrmse += rms\n",
    "    #print(\"Trained using index \"+str(x)+\": RMSE = \"+str(rms))\n",
    "    print(\"TOTAL RMSE: \"+str(totalrmse))\n",
    "    if(initialized == False):\n",
    "        best_score = totalrmse\n",
    "        initialized = True \n",
    "        best_comb = curr_cols\n",
    "    else:\n",
    "        if(totalrmse < best_score):\n",
    "            best_score = totalrmse\n",
    "            best_comb = curr_cols\n",
    "print(\"\\n \\nBest Score: \"+str(best_score))\n",
    "print(\"Best Combination: \"+str(best_comb))      \n",
    "        "
   ]
  },
  {
   "cell_type": "code",
   "execution_count": 26,
   "metadata": {
    "collapsed": false,
    "deletable": true,
    "editable": true
   },
   "outputs": [
    {
     "name": "stdout",
     "output_type": "stream",
     "text": [
      "['no_hh', 'avg_income', 'mem_no', 'no_mem_educwork']\n",
      "current: ['no_hh']\n",
      "TOTAL RMSE: 36.2228552615\n",
      "current: ['avg_income']\n",
      "TOTAL RMSE: 95.1221104612\n",
      "current: ['mem_no']\n",
      "TOTAL RMSE: 40.1719419942\n",
      "current: ['no_mem_educwork']\n",
      "TOTAL RMSE: 38.999776254\n",
      "current: ['comm_area']\n",
      "TOTAL RMSE: 70.3617498867\n",
      "current: ['park_area']\n",
      "TOTAL RMSE: 34.5821077079\n",
      "current: ['indu_area']\n",
      "TOTAL RMSE: 95.3271958003\n",
      "current: ['agri_area']\n",
      "TOTAL RMSE: 73.446540179\n",
      "current: ['resi_area']\n",
      "TOTAL RMSE: 65.8815832609\n",
      "current: ['util_area']\n",
      "TOTAL RMSE: 53.9174901731\n",
      "current: ['no_hh', 'avg_income']\n",
      "TOTAL RMSE: 22.6910997796\n",
      "current: ['no_hh', 'mem_no']\n",
      "TOTAL RMSE: 13.4882343458\n",
      "current: ['no_hh', 'no_mem_educwork']\n",
      "TOTAL RMSE: 14.9726303869\n",
      "current: ['no_hh', 'comm_area']\n",
      "TOTAL RMSE: 34.3878182543\n",
      "current: ['no_hh', 'park_area']\n",
      "TOTAL RMSE: 27.7020226485\n",
      "current: ['no_hh', 'indu_area']\n",
      "TOTAL RMSE: 34.9581155703\n",
      "current: ['no_hh', 'agri_area']\n",
      "TOTAL RMSE: 34.2733683201\n",
      "current: ['no_hh', 'resi_area']\n"
     ]
    },
    {
     "ename": "KeyboardInterrupt",
     "evalue": "",
     "output_type": "error",
     "traceback": [
      "\u001b[1;31m---------------------------------------------------------------------------\u001b[0m",
      "\u001b[1;31mKeyboardInterrupt\u001b[0m                         Traceback (most recent call last)",
      "\u001b[1;32m<ipython-input-26-d1bc502906f1>\u001b[0m in \u001b[0;36m<module>\u001b[1;34m()\u001b[0m\n\u001b[0;32m     38\u001b[0m             \u001b[1;31m#print(\"Predicted Zone \"+str(z)+\": \"+str(fitted_production_model2.predict(X_vals.iloc[z , :].values.reshape(1,-1))[0]))\u001b[0m\u001b[1;33m\u001b[0m\u001b[1;33m\u001b[0m\u001b[0m\n\u001b[0;32m     39\u001b[0m             \u001b[1;31m#print(\"subset\"+str(list(subset)))\u001b[0m\u001b[1;33m\u001b[0m\u001b[1;33m\u001b[0m\u001b[0m\n\u001b[1;32m---> 40\u001b[1;33m             \u001b[0mPredicted_vals\u001b[0m\u001b[1;33m.\u001b[0m\u001b[0mappend\u001b[0m\u001b[1;33m(\u001b[0m\u001b[0mfitted_production_model2\u001b[0m\u001b[1;33m.\u001b[0m\u001b[0mpredict\u001b[0m\u001b[1;33m(\u001b[0m\u001b[0mX_vals\u001b[0m\u001b[1;33m.\u001b[0m\u001b[0miloc\u001b[0m\u001b[1;33m[\u001b[0m\u001b[0mz\u001b[0m \u001b[1;33m,\u001b[0m \u001b[1;33m:\u001b[0m\u001b[1;33m]\u001b[0m\u001b[1;33m.\u001b[0m\u001b[0mloc\u001b[0m\u001b[1;33m[\u001b[0m\u001b[0mcurr_cols\u001b[0m\u001b[1;33m]\u001b[0m\u001b[1;33m.\u001b[0m\u001b[0mvalues\u001b[0m\u001b[1;33m.\u001b[0m\u001b[0mreshape\u001b[0m\u001b[1;33m(\u001b[0m\u001b[1;36m1\u001b[0m\u001b[1;33m,\u001b[0m\u001b[1;33m-\u001b[0m\u001b[1;36m1\u001b[0m\u001b[1;33m)\u001b[0m\u001b[1;33m)\u001b[0m\u001b[1;33m[\u001b[0m\u001b[1;36m0\u001b[0m\u001b[1;33m]\u001b[0m\u001b[1;33m)\u001b[0m\u001b[1;33m\u001b[0m\u001b[0m\n\u001b[0m\u001b[0;32m     41\u001b[0m         \u001b[0mrms\u001b[0m \u001b[1;33m=\u001b[0m \u001b[0msqrt\u001b[0m\u001b[1;33m(\u001b[0m\u001b[0mmean_squared_error\u001b[0m\u001b[1;33m(\u001b[0m\u001b[0mY_vals\u001b[0m\u001b[1;33m.\u001b[0m\u001b[0mvalues\u001b[0m\u001b[1;33m,\u001b[0m \u001b[0mPredicted_vals\u001b[0m\u001b[1;33m)\u001b[0m\u001b[1;33m)\u001b[0m\u001b[1;33m\u001b[0m\u001b[0m\n\u001b[0;32m     42\u001b[0m         \u001b[0mrms\u001b[0m \u001b[1;33m=\u001b[0m \u001b[0mrms\u001b[0m\u001b[1;33m*\u001b[0m\u001b[1;33m(\u001b[0m\u001b[1;33m(\u001b[0m\u001b[1;36m100\u001b[0m\u001b[1;33m)\u001b[0m\u001b[1;33m/\u001b[0m\u001b[0msum\u001b[0m\u001b[1;33m(\u001b[0m\u001b[0mPredicted_vals\u001b[0m\u001b[1;33m)\u001b[0m\u001b[1;33m)\u001b[0m\u001b[1;33m\u001b[0m\u001b[0m\n",
      "\u001b[1;32mC:\\Users\\xtiangabe\\Anaconda3\\lib\\site-packages\\pandas\\core\\indexing.py\u001b[0m in \u001b[0;36m__getitem__\u001b[1;34m(self, key)\u001b[0m\n\u001b[0;32m   1310\u001b[0m             \u001b[1;32mreturn\u001b[0m \u001b[0mself\u001b[0m\u001b[1;33m.\u001b[0m\u001b[0m_getitem_tuple\u001b[0m\u001b[1;33m(\u001b[0m\u001b[0mkey\u001b[0m\u001b[1;33m)\u001b[0m\u001b[1;33m\u001b[0m\u001b[0m\n\u001b[0;32m   1311\u001b[0m         \u001b[1;32melse\u001b[0m\u001b[1;33m:\u001b[0m\u001b[1;33m\u001b[0m\u001b[0m\n\u001b[1;32m-> 1312\u001b[1;33m             \u001b[1;32mreturn\u001b[0m \u001b[0mself\u001b[0m\u001b[1;33m.\u001b[0m\u001b[0m_getitem_axis\u001b[0m\u001b[1;33m(\u001b[0m\u001b[0mkey\u001b[0m\u001b[1;33m,\u001b[0m \u001b[0maxis\u001b[0m\u001b[1;33m=\u001b[0m\u001b[1;36m0\u001b[0m\u001b[1;33m)\u001b[0m\u001b[1;33m\u001b[0m\u001b[0m\n\u001b[0m\u001b[0;32m   1313\u001b[0m \u001b[1;33m\u001b[0m\u001b[0m\n\u001b[0;32m   1314\u001b[0m     \u001b[1;32mdef\u001b[0m \u001b[0m_getitem_axis\u001b[0m\u001b[1;33m(\u001b[0m\u001b[0mself\u001b[0m\u001b[1;33m,\u001b[0m \u001b[0mkey\u001b[0m\u001b[1;33m,\u001b[0m \u001b[0maxis\u001b[0m\u001b[1;33m=\u001b[0m\u001b[1;36m0\u001b[0m\u001b[1;33m)\u001b[0m\u001b[1;33m:\u001b[0m\u001b[1;33m\u001b[0m\u001b[0m\n",
      "\u001b[1;32mC:\\Users\\xtiangabe\\Anaconda3\\lib\\site-packages\\pandas\\core\\indexing.py\u001b[0m in \u001b[0;36m_getitem_axis\u001b[1;34m(self, key, axis)\u001b[0m\n\u001b[0;32m   1470\u001b[0m                     \u001b[1;32mraise\u001b[0m \u001b[0mValueError\u001b[0m\u001b[1;33m(\u001b[0m\u001b[1;34m'Cannot index with multidimensional key'\u001b[0m\u001b[1;33m)\u001b[0m\u001b[1;33m\u001b[0m\u001b[0m\n\u001b[0;32m   1471\u001b[0m \u001b[1;33m\u001b[0m\u001b[0m\n\u001b[1;32m-> 1472\u001b[1;33m                 \u001b[1;32mreturn\u001b[0m \u001b[0mself\u001b[0m\u001b[1;33m.\u001b[0m\u001b[0m_getitem_iterable\u001b[0m\u001b[1;33m(\u001b[0m\u001b[0mkey\u001b[0m\u001b[1;33m,\u001b[0m \u001b[0maxis\u001b[0m\u001b[1;33m=\u001b[0m\u001b[0maxis\u001b[0m\u001b[1;33m)\u001b[0m\u001b[1;33m\u001b[0m\u001b[0m\n\u001b[0m\u001b[0;32m   1473\u001b[0m \u001b[1;33m\u001b[0m\u001b[0m\n\u001b[0;32m   1474\u001b[0m             \u001b[1;31m# nested tuple slicing\u001b[0m\u001b[1;33m\u001b[0m\u001b[1;33m\u001b[0m\u001b[0m\n",
      "\u001b[1;32mC:\\Users\\xtiangabe\\Anaconda3\\lib\\site-packages\\pandas\\core\\indexing.py\u001b[0m in \u001b[0;36m_getitem_iterable\u001b[1;34m(self, key, axis)\u001b[0m\n\u001b[0;32m   1071\u001b[0m                 \u001b[1;32mtry\u001b[0m\u001b[1;33m:\u001b[0m\u001b[1;33m\u001b[0m\u001b[0m\n\u001b[0;32m   1072\u001b[0m                     result = self.obj.reindex_axis(keyarr, axis=axis,\n\u001b[1;32m-> 1073\u001b[1;33m                                                    level=level)\n\u001b[0m\u001b[0;32m   1074\u001b[0m \u001b[1;33m\u001b[0m\u001b[0m\n\u001b[0;32m   1075\u001b[0m                     \u001b[1;31m# this is an error as we are trying to find\u001b[0m\u001b[1;33m\u001b[0m\u001b[1;33m\u001b[0m\u001b[0m\n",
      "\u001b[1;32mC:\\Users\\xtiangabe\\Anaconda3\\lib\\site-packages\\pandas\\core\\series.py\u001b[0m in \u001b[0;36mreindex_axis\u001b[1;34m(self, labels, axis, **kwargs)\u001b[0m\n\u001b[0;32m   2378\u001b[0m         \u001b[1;32mif\u001b[0m \u001b[0maxis\u001b[0m \u001b[1;33m!=\u001b[0m \u001b[1;36m0\u001b[0m\u001b[1;33m:\u001b[0m\u001b[1;33m\u001b[0m\u001b[0m\n\u001b[0;32m   2379\u001b[0m             \u001b[1;32mraise\u001b[0m \u001b[0mValueError\u001b[0m\u001b[1;33m(\u001b[0m\u001b[1;34m\"cannot reindex series on non-zero axis!\"\u001b[0m\u001b[1;33m)\u001b[0m\u001b[1;33m\u001b[0m\u001b[0m\n\u001b[1;32m-> 2380\u001b[1;33m         \u001b[1;32mreturn\u001b[0m \u001b[0mself\u001b[0m\u001b[1;33m.\u001b[0m\u001b[0mreindex\u001b[0m\u001b[1;33m(\u001b[0m\u001b[0mindex\u001b[0m\u001b[1;33m=\u001b[0m\u001b[0mlabels\u001b[0m\u001b[1;33m,\u001b[0m \u001b[1;33m**\u001b[0m\u001b[0mkwargs\u001b[0m\u001b[1;33m)\u001b[0m\u001b[1;33m\u001b[0m\u001b[0m\n\u001b[0m\u001b[0;32m   2381\u001b[0m \u001b[1;33m\u001b[0m\u001b[0m\n\u001b[0;32m   2382\u001b[0m     \u001b[1;32mdef\u001b[0m \u001b[0mmemory_usage\u001b[0m\u001b[1;33m(\u001b[0m\u001b[0mself\u001b[0m\u001b[1;33m,\u001b[0m \u001b[0mindex\u001b[0m\u001b[1;33m=\u001b[0m\u001b[1;32mTrue\u001b[0m\u001b[1;33m,\u001b[0m \u001b[0mdeep\u001b[0m\u001b[1;33m=\u001b[0m\u001b[1;32mFalse\u001b[0m\u001b[1;33m)\u001b[0m\u001b[1;33m:\u001b[0m\u001b[1;33m\u001b[0m\u001b[0m\n",
      "\u001b[1;32mC:\\Users\\xtiangabe\\Anaconda3\\lib\\site-packages\\pandas\\core\\series.py\u001b[0m in \u001b[0;36mreindex\u001b[1;34m(self, index, **kwargs)\u001b[0m\n\u001b[0;32m   2360\u001b[0m     \u001b[1;33m@\u001b[0m\u001b[0mAppender\u001b[0m\u001b[1;33m(\u001b[0m\u001b[0mgeneric\u001b[0m\u001b[1;33m.\u001b[0m\u001b[0m_shared_docs\u001b[0m\u001b[1;33m[\u001b[0m\u001b[1;34m'reindex'\u001b[0m\u001b[1;33m]\u001b[0m \u001b[1;33m%\u001b[0m \u001b[0m_shared_doc_kwargs\u001b[0m\u001b[1;33m)\u001b[0m\u001b[1;33m\u001b[0m\u001b[0m\n\u001b[0;32m   2361\u001b[0m     \u001b[1;32mdef\u001b[0m \u001b[0mreindex\u001b[0m\u001b[1;33m(\u001b[0m\u001b[0mself\u001b[0m\u001b[1;33m,\u001b[0m \u001b[0mindex\u001b[0m\u001b[1;33m=\u001b[0m\u001b[1;32mNone\u001b[0m\u001b[1;33m,\u001b[0m \u001b[1;33m**\u001b[0m\u001b[0mkwargs\u001b[0m\u001b[1;33m)\u001b[0m\u001b[1;33m:\u001b[0m\u001b[1;33m\u001b[0m\u001b[0m\n\u001b[1;32m-> 2362\u001b[1;33m         \u001b[1;32mreturn\u001b[0m \u001b[0msuper\u001b[0m\u001b[1;33m(\u001b[0m\u001b[0mSeries\u001b[0m\u001b[1;33m,\u001b[0m \u001b[0mself\u001b[0m\u001b[1;33m)\u001b[0m\u001b[1;33m.\u001b[0m\u001b[0mreindex\u001b[0m\u001b[1;33m(\u001b[0m\u001b[0mindex\u001b[0m\u001b[1;33m=\u001b[0m\u001b[0mindex\u001b[0m\u001b[1;33m,\u001b[0m \u001b[1;33m**\u001b[0m\u001b[0mkwargs\u001b[0m\u001b[1;33m)\u001b[0m\u001b[1;33m\u001b[0m\u001b[0m\n\u001b[0m\u001b[0;32m   2363\u001b[0m \u001b[1;33m\u001b[0m\u001b[0m\n\u001b[0;32m   2364\u001b[0m     \u001b[1;33m@\u001b[0m\u001b[0mAppender\u001b[0m\u001b[1;33m(\u001b[0m\u001b[0mgeneric\u001b[0m\u001b[1;33m.\u001b[0m\u001b[0m_shared_docs\u001b[0m\u001b[1;33m[\u001b[0m\u001b[1;34m'fillna'\u001b[0m\u001b[1;33m]\u001b[0m \u001b[1;33m%\u001b[0m \u001b[0m_shared_doc_kwargs\u001b[0m\u001b[1;33m)\u001b[0m\u001b[1;33m\u001b[0m\u001b[0m\n",
      "\u001b[1;32mC:\\Users\\xtiangabe\\Anaconda3\\lib\\site-packages\\pandas\\core\\generic.py\u001b[0m in \u001b[0;36mreindex\u001b[1;34m(self, *args, **kwargs)\u001b[0m\n\u001b[0;32m   2257\u001b[0m         \u001b[1;31m# perform the reindex on the axes\u001b[0m\u001b[1;33m\u001b[0m\u001b[1;33m\u001b[0m\u001b[0m\n\u001b[0;32m   2258\u001b[0m         return self._reindex_axes(axes, level, limit, tolerance, method,\n\u001b[1;32m-> 2259\u001b[1;33m                                   fill_value, copy).__finalize__(self)\n\u001b[0m\u001b[0;32m   2260\u001b[0m \u001b[1;33m\u001b[0m\u001b[0m\n\u001b[0;32m   2261\u001b[0m     def _reindex_axes(self, axes, level, limit, tolerance, method, fill_value,\n",
      "\u001b[1;32mC:\\Users\\xtiangabe\\Anaconda3\\lib\\site-packages\\pandas\\core\\generic.py\u001b[0m in \u001b[0;36m_reindex_axes\u001b[1;34m(self, axes, level, limit, tolerance, method, fill_value, copy)\u001b[0m\n\u001b[0;32m   2275\u001b[0m             obj = obj._reindex_with_indexers({axis: [new_index, indexer]},\n\u001b[0;32m   2276\u001b[0m                                              \u001b[0mfill_value\u001b[0m\u001b[1;33m=\u001b[0m\u001b[0mfill_value\u001b[0m\u001b[1;33m,\u001b[0m\u001b[1;33m\u001b[0m\u001b[0m\n\u001b[1;32m-> 2277\u001b[1;33m                                              copy=copy, allow_dups=False)\n\u001b[0m\u001b[0;32m   2278\u001b[0m \u001b[1;33m\u001b[0m\u001b[0m\n\u001b[0;32m   2279\u001b[0m         \u001b[1;32mreturn\u001b[0m \u001b[0mobj\u001b[0m\u001b[1;33m\u001b[0m\u001b[0m\n",
      "\u001b[1;32mC:\\Users\\xtiangabe\\Anaconda3\\lib\\site-packages\\pandas\\core\\generic.py\u001b[0m in \u001b[0;36m_reindex_with_indexers\u001b[1;34m(self, reindexers, fill_value, copy, allow_dups)\u001b[0m\n\u001b[0;32m   2369\u001b[0m                                                 \u001b[0mfill_value\u001b[0m\u001b[1;33m=\u001b[0m\u001b[0mfill_value\u001b[0m\u001b[1;33m,\u001b[0m\u001b[1;33m\u001b[0m\u001b[0m\n\u001b[0;32m   2370\u001b[0m                                                 \u001b[0mallow_dups\u001b[0m\u001b[1;33m=\u001b[0m\u001b[0mallow_dups\u001b[0m\u001b[1;33m,\u001b[0m\u001b[1;33m\u001b[0m\u001b[0m\n\u001b[1;32m-> 2371\u001b[1;33m                                                 copy=copy)\n\u001b[0m\u001b[0;32m   2372\u001b[0m \u001b[1;33m\u001b[0m\u001b[0m\n\u001b[0;32m   2373\u001b[0m         \u001b[1;32mif\u001b[0m \u001b[0mcopy\u001b[0m \u001b[1;32mand\u001b[0m \u001b[0mnew_data\u001b[0m \u001b[1;32mis\u001b[0m \u001b[0mself\u001b[0m\u001b[1;33m.\u001b[0m\u001b[0m_data\u001b[0m\u001b[1;33m:\u001b[0m\u001b[1;33m\u001b[0m\u001b[0m\n",
      "\u001b[1;32mC:\\Users\\xtiangabe\\Anaconda3\\lib\\site-packages\\pandas\\core\\internals.py\u001b[0m in \u001b[0;36mreindex_indexer\u001b[1;34m(self, new_axis, indexer, axis, fill_value, allow_dups, copy)\u001b[0m\n\u001b[0;32m   3844\u001b[0m         \u001b[1;32mif\u001b[0m \u001b[0maxis\u001b[0m \u001b[1;33m==\u001b[0m \u001b[1;36m0\u001b[0m\u001b[1;33m:\u001b[0m\u001b[1;33m\u001b[0m\u001b[0m\n\u001b[0;32m   3845\u001b[0m             new_blocks = self._slice_take_blocks_ax0(indexer,\n\u001b[1;32m-> 3846\u001b[1;33m                                                      fill_tuple=(fill_value,))\n\u001b[0m\u001b[0;32m   3847\u001b[0m         \u001b[1;32melse\u001b[0m\u001b[1;33m:\u001b[0m\u001b[1;33m\u001b[0m\u001b[0m\n\u001b[0;32m   3848\u001b[0m             new_blocks = [blk.take_nd(indexer, axis=axis, fill_tuple=(\n",
      "\u001b[1;32mC:\\Users\\xtiangabe\\Anaconda3\\lib\\site-packages\\pandas\\core\\internals.py\u001b[0m in \u001b[0;36m_slice_take_blocks_ax0\u001b[1;34m(self, slice_or_indexer, fill_tuple)\u001b[0m\n\u001b[0;32m   3883\u001b[0m                 return [blk.take_nd(slobj, axis=0,\n\u001b[0;32m   3884\u001b[0m                                     \u001b[0mnew_mgr_locs\u001b[0m\u001b[1;33m=\u001b[0m\u001b[0mslice\u001b[0m\u001b[1;33m(\u001b[0m\u001b[1;36m0\u001b[0m\u001b[1;33m,\u001b[0m \u001b[0msllen\u001b[0m\u001b[1;33m)\u001b[0m\u001b[1;33m,\u001b[0m\u001b[1;33m\u001b[0m\u001b[0m\n\u001b[1;32m-> 3885\u001b[1;33m                                     fill_tuple=fill_tuple)]\n\u001b[0m\u001b[0;32m   3886\u001b[0m \u001b[1;33m\u001b[0m\u001b[0m\n\u001b[0;32m   3887\u001b[0m         \u001b[1;32mif\u001b[0m \u001b[0msl_type\u001b[0m \u001b[1;32min\u001b[0m \u001b[1;33m(\u001b[0m\u001b[1;34m'slice'\u001b[0m\u001b[1;33m,\u001b[0m \u001b[1;34m'mask'\u001b[0m\u001b[1;33m)\u001b[0m\u001b[1;33m:\u001b[0m\u001b[1;33m\u001b[0m\u001b[0m\n",
      "\u001b[1;32mC:\\Users\\xtiangabe\\Anaconda3\\lib\\site-packages\\pandas\\core\\internals.py\u001b[0m in \u001b[0;36mtake_nd\u001b[1;34m(self, indexer, axis, new_mgr_locs, fill_tuple)\u001b[0m\n\u001b[0;32m   1020\u001b[0m             \u001b[0mfill_value\u001b[0m \u001b[1;33m=\u001b[0m \u001b[0mfill_tuple\u001b[0m\u001b[1;33m[\u001b[0m\u001b[1;36m0\u001b[0m\u001b[1;33m]\u001b[0m\u001b[1;33m\u001b[0m\u001b[0m\n\u001b[0;32m   1021\u001b[0m             new_values = algos.take_nd(values, indexer, axis=axis,\n\u001b[1;32m-> 1022\u001b[1;33m                                        allow_fill=True, fill_value=fill_value)\n\u001b[0m\u001b[0;32m   1023\u001b[0m \u001b[1;33m\u001b[0m\u001b[0m\n\u001b[0;32m   1024\u001b[0m         \u001b[1;32mif\u001b[0m \u001b[0mnew_mgr_locs\u001b[0m \u001b[1;32mis\u001b[0m \u001b[1;32mNone\u001b[0m\u001b[1;33m:\u001b[0m\u001b[1;33m\u001b[0m\u001b[0m\n",
      "\u001b[1;32mC:\\Users\\xtiangabe\\Anaconda3\\lib\\site-packages\\pandas\\core\\algorithms.py\u001b[0m in \u001b[0;36mtake_nd\u001b[1;34m(arr, indexer, axis, out, fill_value, mask_info, allow_fill)\u001b[0m\n\u001b[0;32m   1103\u001b[0m                                  mask_info=mask_info)\n\u001b[0;32m   1104\u001b[0m     \u001b[0mindexer\u001b[0m \u001b[1;33m=\u001b[0m \u001b[0m_ensure_int64\u001b[0m\u001b[1;33m(\u001b[0m\u001b[0mindexer\u001b[0m\u001b[1;33m)\u001b[0m\u001b[1;33m\u001b[0m\u001b[0m\n\u001b[1;32m-> 1105\u001b[1;33m     \u001b[0mfunc\u001b[0m\u001b[1;33m(\u001b[0m\u001b[0marr\u001b[0m\u001b[1;33m,\u001b[0m \u001b[0mindexer\u001b[0m\u001b[1;33m,\u001b[0m \u001b[0mout\u001b[0m\u001b[1;33m,\u001b[0m \u001b[0mfill_value\u001b[0m\u001b[1;33m)\u001b[0m\u001b[1;33m\u001b[0m\u001b[0m\n\u001b[0m\u001b[0;32m   1106\u001b[0m \u001b[1;33m\u001b[0m\u001b[0m\n\u001b[0;32m   1107\u001b[0m     \u001b[1;32mif\u001b[0m \u001b[0mflip_order\u001b[0m\u001b[1;33m:\u001b[0m\u001b[1;33m\u001b[0m\u001b[0m\n",
      "\u001b[1;31mKeyboardInterrupt\u001b[0m: "
     ]
    }
   ],
   "source": [
    "dep_col_name = \"trips\"\n",
    "data_filepath = \"DummyDataRegression.csv\"\n",
    "regression = Regression(data_filepath)\n",
    "original_df  =  pd.read_csv(data_filepath, index_col=0)\n",
    "data_filepath2 = \"DummyDataRegressionAmenitiex.csv\"\n",
    "regression2 = Regression(data_filepath2)\n",
    "\n",
    "selected_feature_names_attraction = [\"sust_amt\",\"educ_amt\",\"tran_amt\",\"heal_amt\",\"fina_amt\",\"comm_amt\", \"ente_amt\",\"othe_amt\",\n",
    "                        \"comm_area\", \"park_area\",\"indu_area\",\"agri_area\",\"resi_area\",\"util_area\",\"othe_area\"]\n",
    "#fitted_production_model = regression.getFittedRegressionModel(selected_feature_names, dep_col_name)\n",
    "#fitted_production_model_attr = regression2.getFittedRegressionModel(selected_feature_names_attraction, dep_col_name)\n",
    "##\n",
    "\n",
    "selected_feature_names = [\"no_hh\",\"avg_income\",\"mem_no\",\"no_mem_educwork\"]\n",
    "landuse_names = [\"comm_area\",\"park_area\", \"indu_area\",\"agri_area\",\n",
    "                         \"resi_area\", \"util_area\"]\n",
    "totalrmse = 0\n",
    "print(selected_feature_names)\n",
    "X_vals = regression.getXVals(selected_feature_names+landuse_names)\n",
    "Y_vals = regression.getYVals(dep_col_name)\n",
    "best_comb = []\n",
    "best_score = 0\n",
    "initialized = False\n",
    "\n",
    "for L in range(1, len(selected_feature_names+landuse_names)+1):\n",
    "  for subset in itertools.combinations(selected_feature_names+landuse_names, L):\n",
    "    curr_cols = list(subset)\n",
    "    print(\"current: \"+str(curr_cols))\n",
    "    totalrmse = 0\n",
    "    for x in range(len(X_vals.index)):\n",
    "        Predicted_vals = []\n",
    "        #print(\"Test row: \"+str(x))\n",
    "        fitted_production_model2 = regression.kFoldTest(curr_cols, dep_col_name, x);\n",
    "        #testdframe.head()\n",
    "        #fitted_production_model2.predict(X_vals.iloc[x , :].values.reshape(1,-1))\n",
    "        for z in range(len(X_vals.index)):\n",
    "            #print(\"Actual Zone \"+str(z)+\": \"+str(Y_vals.iloc[z]))\n",
    "            #print(\"Predicted Zone \"+str(z)+\": \"+str(fitted_production_model2.predict(X_vals.iloc[z , :].values.reshape(1,-1))[0]))\n",
    "            #print(\"subset\"+str(list(subset)))\n",
    "            Predicted_vals.append(fitted_production_model2.predict(X_vals.iloc[z , :].loc[curr_cols].values.reshape(1,-1))[0])\n",
    "        rms = sqrt(mean_squared_error(Y_vals.values, Predicted_vals))\n",
    "        rms = rms*((100)/sum(Predicted_vals))\n",
    "        totalrmse += rms\n",
    "        #print(\"Trained using index \"+str(x)+\": RMSE = \"+str(rms))\n",
    "    print(\"TOTAL RMSE: \"+str(totalrmse))\n",
    "    if(initialized == False):\n",
    "        best_score = totalrmse\n",
    "        initialized = True \n",
    "        best_comb = curr_cols\n",
    "    else:\n",
    "        if(totalrmse < best_score):\n",
    "            best_score = totalrmse\n",
    "            best_comb = curr_cols\n",
    "print(\"\\n \\nBest Score: \"+str(best_score))\n",
    "print(\"Best Combination: \"+str(best_comb)) \n",
    "\n"
   ]
  },
  {
   "cell_type": "markdown",
   "metadata": {
    "collapsed": true,
    "deletable": true,
    "editable": true
   },
   "source": [
    "## TRIP GENERATION TESTING #6:\n",
    "Examine the effect of increasing/decreasing the number of each of the types of landuse per zone, and verify its effect to the number of trips produced and attracted per zone"
   ]
  },
  {
   "cell_type": "markdown",
   "metadata": {
    "deletable": true,
    "editable": true
   },
   "source": [
    "## Base/Original data "
   ]
  },
  {
   "cell_type": "code",
   "execution_count": null,
   "metadata": {
    "collapsed": false,
    "deletable": true,
    "editable": true
   },
   "outputs": [],
   "source": [
    "dep_col_name = \"trips\"\n",
    "data_filepath = \"DummyDataRegression.csv\"\n",
    "regression = Regression(data_filepath)\n",
    "\n",
    "selected_feature_names = [\"no_hh\",\"avg_income\",\"mem_no\",\"no_mem_educwork\",\"comm_area\",\"park_area\", \"indu_area\",\"agri_area\",\n",
    "                         \"resi_area\", \"util_area\",\"othe_area\"]\n",
    "fitted_production_model = regression.getFittedRegressionModel(selected_feature_names, dep_col_name)\n",
    "\n",
    "dummy_data = pd.read_csv('DummyDataRegression.csv', index_col=0)\n",
    "dummy_data.head()"
   ]
  },
  {
   "cell_type": "markdown",
   "metadata": {
    "deletable": true,
    "editable": true
   },
   "source": [
    "## Case 1:\n",
    "Using the 1st row of the original data (zone 1), increase the number of residential areas, and check its effect to the resulting trips produced."
   ]
  },
  {
   "cell_type": "code",
   "execution_count": null,
   "metadata": {
    "collapsed": false,
    "deletable": true,
    "editable": true
   },
   "outputs": [],
   "source": [
    "data_filepath2 = \"DummyDataRegressionEXP6.csv\"\n",
    "regression2 = Regression(data_filepath2)\n",
    "dummy_data = pd.read_csv(data_filepath2, index_col=0)\n",
    "dummy_data.head()"
   ]
  },
  {
   "cell_type": "markdown",
   "metadata": {
    "deletable": true,
    "editable": true
   },
   "source": [
    "## Case 1 Result:\n",
    "The predicted number of trips produced from zone 1, given the original number of residential areas."
   ]
  },
  {
   "cell_type": "code",
   "execution_count": null,
   "metadata": {
    "collapsed": false,
    "deletable": true,
    "editable": true
   },
   "outputs": [],
   "source": [
    "X_vals = regression.getXVals(selected_feature_names)\n",
    "fitted_production_model.predict(X_vals.iloc[0 , :].values.reshape(1,-1))[0]"
   ]
  },
  {
   "cell_type": "markdown",
   "metadata": {
    "deletable": true,
    "editable": true
   },
   "source": [
    "The predicted number of trips produced from zone 1, given that the number of residential areas were increased."
   ]
  },
  {
   "cell_type": "code",
   "execution_count": null,
   "metadata": {
    "collapsed": false,
    "deletable": true,
    "editable": true
   },
   "outputs": [],
   "source": [
    "X_vals = regression2.getXVals(selected_feature_names)\n",
    "fitted_production_model.predict(X_vals.iloc[0 , :].values.reshape(1,-1))[0]"
   ]
  },
  {
   "cell_type": "markdown",
   "metadata": {
    "deletable": true,
    "editable": true
   },
   "source": [
    "# Scatter plots for the zonal trips produced of other studies"
   ]
  },
  {
   "cell_type": "markdown",
   "metadata": {
    "deletable": true,
    "editable": true
   },
   "source": [
    "## 1.) HHIS from MUCEP"
   ]
  },
  {
   "cell_type": "code",
   "execution_count": 43,
   "metadata": {
    "collapsed": false,
    "deletable": true,
    "editable": true
   },
   "outputs": [
    {
     "name": "stdout",
     "output_type": "stream",
     "text": [
      "R^2 score: 0.99170614505\n",
      "The relative change of the cost function is less than `tol`.\n",
      "Number of iterations 20, initial cost 2.8864e+12, final cost 8.3017e+07, first-order optimality 1.59e-07.\n",
      "[20775.899376246118, 8246.0126828577304, 5790.0968753636644, 3705.6580185484577, 5006.0196449572986, 613.69733384046776, 3989.4907638937511, 6977.5930588402753, 4225.3730333967851, 8950.7844890683482, 7899.8864239089271, 8432.2997284426001, 1000.235397293618, 33157.259006779823, 769.61664594949252, 8032.2310723784831, 7151.8464482345571]\n",
      "[15227.309339872902, 6100.2084482055025, 5794.5578563966847, 2697.8083185759056, 3124.6751451460436, 10134.875696519412, 4999.9795858261768, 6737.4735184308429, 2239.0918170256896, 8001.7221149331363, 5659.4531035168311, 6841.8305696903772, 726.10785926783683, 35005.59642426452, 1397.9807356076949, 5920.2323923479807, 4892.4494752041401]\n"
     ]
    }
   ],
   "source": [
    "dep_col_name = \"trips\"\n",
    "selected_feature_names = [\"no_hh\",\"avg_income\",\"mem_no\",\"no_mem_educwork\",\"comm_area\", \n",
    "                          \"park_area\",\"indu_area\",\"agri_area\",\"resi_area\",\"util_area\",\"othe_area\"]\n",
    "data_filepath = \"DummyDataRegression_revised.csv\"\n",
    "regression = Regression(data_filepath)\n",
    "X_vals = regression.getXVals(selected_feature_names)\n",
    "Y_vals = regression.getYVals(dep_col_name)\n",
    "\n",
    "fitted_production_model = regression.getFittedRegressionModel(selected_feature_names, dep_col_name)\n",
    "\n",
    "from scipy.sparse import rand\n",
    "from scipy.optimize import lsq_linear\n",
    "import sys\n",
    "\n",
    "A = np.array(X_vals.values)\n",
    "b = np.array(Y_vals.values)\n",
    "res = lsq_linear(A, b, bounds=(0, 1000), lsmr_tol='auto', verbose=1)\n",
    "\n",
    "predictions = []\n",
    "predictions2 = []\n",
    "for x in range(0,list(X_vals.values.shape)[0]):\n",
    "    predictions.append(fitted_production_model.predict(X_vals.iloc[x , :].values.reshape(1,-1))[0])\n",
    "fitted_production_model.coef_ = res['x']\n",
    "fitted_production_model.intercept_ = 0\n",
    "for x in range(0,list(X_vals.values.shape)[0]):\n",
    "    predictions2.append(fitted_production_model.predict(X_vals.iloc[x , :].values.reshape(1,-1))[0])\n",
    "print(predictions)\n",
    "print(predictions2)\n",
    "#print (ret['x'].T)\n",
    "#output:\n",
    "#[ 2.50e-07  6.93e-01]"
   ]
  },
  {
   "cell_type": "code",
   "execution_count": 44,
   "metadata": {
    "collapsed": false,
    "deletable": true,
    "editable": true,
    "scrolled": true
   },
   "outputs": [
    {
     "name": "stdout",
     "output_type": "stream",
     "text": [
      "['no_hh', 'avg_income', 'mem_no', 'no_mem_educwork']\n"
     ]
    },
    {
     "data": {
      "image/png": "[encoded data removed]",
      "text/plain": [
       "<matplotlib.figure.Figure at 0x154d8714278>"
      ]
     },
     "metadata": {},
     "output_type": "display_data"
    }
   ],
   "source": [
    "dep_col_name = \"trips\"\n",
    "data_filepath = \"DummyDataRegression_revised.csv\"\n",
    "regression = Regression(data_filepath)\n",
    "original_df  =  pd.read_csv(data_filepath, index_col=0)\n",
    "\n",
    "#fitted_production_model = regression.getFittedRegressionModel(selected_feature_names, dep_col_name)\n",
    "#fitted_production_model_attr = regression2.getFittedRegressionModel(selected_feature_names_attraction, dep_col_name)\n",
    "##\n",
    "\n",
    "selected_feature_names = [\"no_hh\",\"avg_income\",\"mem_no\",\"no_mem_educwork\"]\n",
    "landuse_names = [\"comm_area\",\"park_area\", \"indu_area\",\"agri_area\",\n",
    "                         \"resi_area\", \"util_area\"]\n",
    "totalrmse = 0\n",
    "print(selected_feature_names)\n",
    "X_vals = regression.getXVals(selected_feature_names+landuse_names)\n",
    "Y_vals = regression.getYVals(dep_col_name)\n",
    "best_comb = []\n",
    "best_score = 0\n",
    "initialized = False\n",
    "\n",
    "fig = plt.figure(figsize=(14,8))\n",
    "ax1 = fig.add_subplot(221)\n",
    "ax1.grid()\n",
    "#hhisSum = sum(Y_vals.values)\n",
    "mark1 = ax1.plot(range(0, 17), Y_vals.values, label=\"DOTR Zonal Trips Original\", ls=\"dotted\", marker=\"o\")\n",
    "mark1 = ax1.plot(range(0, 17), predictions, label=\"DOTR Zonal Trips Regular\", ls=\"dotted\", marker=\"x\")\n",
    "mark1 = ax1.plot(range(0, 17), predictions2, label=\"DOTR Zonal Trips Non-negative\", ls=\"dotted\", marker=\"v\")\n",
    "ax1.legend(bbox_to_anchor=(1.05, 1), loc=2, borderaxespad=0.)\n",
    "plt.show()"
   ]
  },
  {
   "cell_type": "markdown",
   "metadata": {
    "deletable": true,
    "editable": true
   },
   "source": [
    "## 2.) A study based on MUCEP"
   ]
  },
  {
   "cell_type": "code",
   "execution_count": 46,
   "metadata": {
    "collapsed": false,
    "deletable": true,
    "editable": true
   },
   "outputs": [
    {
     "data": {
      "image/png": "[encoded data removed]",
      "text/plain": [
       "<matplotlib.figure.Figure at 0x154d9966d30>"
      ]
     },
     "metadata": {},
     "output_type": "display_data"
    }
   ],
   "source": [
    "FILONE_MUCEP_TRIP_PROD = [326411,93639,535638,63112,231470,608551,84204,157800,29288,200924,153585\n",
    "                        ,159682,7882,1313553,37197,134726,120622]\n",
    "filoneSum = sum(FILONE_MUCEP_TRIP_PROD)\n",
    "#ratio = hhisSum/filoneSum\n",
    "fig = plt.figure(figsize=(14,8))\n",
    "ax1 = fig.add_subplot(221)\n",
    "ax1.grid()\n",
    "mark1 = ax1.plot(range(0, 17), FILONE_MUCEP_TRIP_PROD, label=\"Filone Stury Zonal Trips\", ls=\"dotted\", marker=\"o\")\n",
    "ax1.legend(bbox_to_anchor=(1.05, 1), loc=2, borderaxespad=0.)\n",
    "plt.show()\n"
   ]
  },
  {
   "cell_type": "code",
   "execution_count": null,
   "metadata": {
    "collapsed": false,
    "deletable": true,
    "editable": true
   },
   "outputs": [],
   "source": [
    "FILONE_MUCEP_TRIP_PROD = [326411,93639,535638,63112,231470,608551,84204,157800,29288,200924,153585\n",
    "                        ,159682,7882,1313553,37197,134726,120622]\n",
    "filoneSum = sum(FILONE_MUCEP_TRIP_PROD)\n",
    "ratio = hhisSum/filoneSum\n",
    "FILONE_MUCEP_TRIP_PROD = [x * ratio for x in FILONE_MUCEP_TRIP_PROD]\n",
    "print(str(sum(FILONE_MUCEP_TRIP_PROD)) + \" \" + str(hhisSum))\n",
    "fig = plt.figure(figsize=(14,8))\n",
    "ax1 = fig.add_subplot(221)\n",
    "ax1.grid()\n",
    "mark1 = ax1.plot(range(0, 17), FILONE_MUCEP_TRIP_PROD, label=\"Filone Stury Zonal Trips\", ls=\"dotted\", marker=\"o\")\n",
    "ax1.legend(bbox_to_anchor=(1.05, 1), loc=2, borderaxespad=0.)\n",
    "plt.show()\n",
    "difference = myFormattedList = [ round(elem, 1) for elem in (FILONE_MUCEP_TRIP_PROD - Y_vals.values)]\n",
    "print(Y_vals.values)\n",
    "print(FILONE_MUCEP_TRIP_PROD)\n",
    "print([ round(elem, 1) for elem in FILONE_MUCEP_TRIP_PROD - Y_vals.values ])\n"
   ]
  },
  {
   "cell_type": "markdown",
   "metadata": {
    "collapsed": true,
    "deletable": true,
    "editable": true
   },
   "source": [
    "# SCRATCH CELLS:"
   ]
  },
  {
   "cell_type": "code",
   "execution_count": null,
   "metadata": {
    "collapsed": false,
    "deletable": true,
    "editable": true
   },
   "outputs": [],
   "source": [
    "dep_col_name = \"trips\"\n",
    "data_filepath = \"DummyDataRegression.csv\"\n",
    "regression = Regression(data_filepath)\n",
    "\n",
    "data_filepath2 = \"DummyDataRegressionAmenitiex.csv\"\n",
    "regression2 = Regression(data_filepath2)\n",
    "\n",
    "selected_feature_names = [\"no_hh\",\"avg_income\",\"mem_no\",\"no_mem_educwork\",\"comm_area\",\"park_area\", \"indu_area\",\"agri_area\",\n",
    "                         \"resi_area\", \"util_area\",\"othe_area\"]\n",
    "selected_feature_names_attraction = [\"sust_amt\",\"educ_amt\",\"tran_amt\",\"heal_amt\",\"fina_amt\",\"comm_amt\", \"ente_amt\",\"othe_amt\",\n",
    "                        \"comm_area\", \"park_area\",\"indu_area\",\"agri_area\",\"resi_area\",\"util_area\",\"othe_area\"]\n",
    "fitted_production_model = regression.getFittedRegressionModel(selected_feature_names, dep_col_name)\n",
    "fitted_production_model_attr = regression2.getFittedRegressionModel(selected_feature_names_attraction, dep_col_name)\n",
    "\n",
    "print(\"Prod Intercept:\"+str(fitted_production_model.intercept_)+\" Coef:\"+str(fitted_production_model.coef_))\n",
    "print(\"Attr Intercept:\"+str(fitted_production_model_attr.intercept_)+\" Coef:\"+str(fitted_production_model_attr.coef_))\n",
    "\n",
    "dummy_data = pd.read_csv('DummyDataRegression.csv', index_col=0)\n",
    "dummy_data.head()"
   ]
  },
  {
   "cell_type": "code",
   "execution_count": null,
   "metadata": {
    "collapsed": false,
    "deletable": true,
    "editable": true
   },
   "outputs": [],
   "source": [
    "totalrmse = 0\n",
    "print(selected_feature_names)\n",
    "X_vals = regression.getXVals(selected_feature_names)\n",
    "Y_vals = regression.getYVals(dep_col_name)\n",
    "\n",
    "for x in range(len(X_vals.index)):\n",
    "    Predicted_vals = []\n",
    "    print(\"Test row: \"+str(x))\n",
    "    fitted_production_model2 = regression.kFoldTest(selected_feature_names, dep_col_name, x);\n",
    "    #testdframe.head()\n",
    "    #fitted_production_model2.predict(X_vals.iloc[x , :].values.reshape(1,-1))\n",
    "    for z in range(len(X_vals.index)):\n",
    "        #print(\"Actual Zone \"+str(z)+\": \"+str(Y_vals.iloc[z]))\n",
    "        #print(\"Predicted Zone \"+str(z)+\": \"+str(fitted_production_model2.predict(X_vals.iloc[z , :].values.reshape(1,-1))[0]))\n",
    "        Predicted_vals.append(fitted_production_model2.predict(X_vals.iloc[z , :].values.reshape(1,-1))[0])\n",
    "    rms = sqrt(mean_squared_error(Y_vals.values, Predicted_vals))\n",
    "    totalrmse += rms\n",
    "    print(\"Trained using index \"+str(x)+\": RMSE = \"+str(rms))\n",
    "print(\"TOTAL RMSE: \"+str(totalrmse))"
   ]
  },
  {
   "cell_type": "code",
   "execution_count": null,
   "metadata": {
    "collapsed": true,
    "deletable": true,
    "editable": true
   },
   "outputs": [],
   "source": [
    "dep_col_name = \"trips\"\n",
    "data_filepath = \"DummyDataRegression.csv\"\n",
    "regression = Regression(data_filepath)\n",
    "\n",
    "data_filepath2 = \"DummyDataRegressionAmenitiex.csv\"\n",
    "regression2 = Regression(data_filepath2)\n",
    "\n",
    "selected_feature_names = [\"no_hh\",\"avg_income\",\"mem_no\",\"no_mem_educwork\",\"comm_area\",\"park_area\", \"indu_area\",\"agri_area\",\n",
    "                         \"resi_area\", \"util_area\",\"othe_area\"]\n",
    "selected_feature_names_attraction = [\"sust_amt\",\"educ_amt\",\"tran_amt\",\"heal_amt\",\"fina_amt\",\"comm_amt\", \"ente_amt\",\"othe_amt\",\n",
    "                        \"comm_area\", \"park_area\",\"indu_area\",\"agri_area\",\"resi_area\",\"util_area\",\"othe_area\"]\n",
    "fitted_production_model = regression.getFittedRegressionModel(selected_feature_names, dep_col_name)\n",
    "fitted_production_model_attr = regression2.getFittedRegressionModel(selected_feature_names_attraction, dep_col_name)\n",
    "\n",
    "#print(\"Prod Intercept:\"+str(fitted_production_model.intercept_)+\" Coef:\"+str(fitted_production_model.coef_))\n",
    "#print(\"Attr Intercept:\"+str(fitted_production_model_attr.intercept_)+\" Coef:\"+str(fitted_production_model_attr.coef_))\n",
    "\n",
    "dummy_data = pd.read_csv('DummyDataRegression.csv', index_col=0)\n",
    "dummy_data.head()"
   ]
  },
  {
   "cell_type": "code",
   "execution_count": null,
   "metadata": {
    "collapsed": true,
    "deletable": true,
    "editable": true
   },
   "outputs": [],
   "source": []
  },
  {
   "cell_type": "code",
   "execution_count": null,
   "metadata": {
    "collapsed": true,
    "deletable": true,
    "editable": true
   },
   "outputs": [],
   "source": []
  },
  {
   "cell_type": "code",
   "execution_count": null,
   "metadata": {
    "collapsed": true,
    "deletable": true,
    "editable": true
   },
   "outputs": [],
   "source": []
  }
 ],
 "metadata": {
  "anaconda-cloud": {},
  "kernelspec": {
   "display_name": "Python 3",
   "language": "python",
   "name": "python3"
  },
  "language_info": {
   "codemirror_mode": {
    "name": "ipython",
    "version": 3
   },
   "file_extension": ".py",
   "mimetype": "text/x-python",
   "name": "python",
   "nbconvert_exporter": "python",
   "pygments_lexer": "ipython3",
   "version": "3.5.0"
  }
 },
 "nbformat": 4,
 "nbformat_minor": 2
}
