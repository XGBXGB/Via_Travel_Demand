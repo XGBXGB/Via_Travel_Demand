{
 "cells": [
  {
   "cell_type": "code",
   "execution_count": null,
   "metadata": {
    "collapsed": false,
    "deletable": true,
    "editable": true
   },
   "outputs": [],
   "source": [
    "import pandas as pd\n",
    "import matplotlib.pyplot as plt\n",
    "from sklearn.feature_selection import RFECV\n",
    "import statsmodels.formula.api as smf\n",
    "from math import exp\n",
    "from sklearn import linear_model, cross_validation\n",
    "import scipy.stats as prr\n",
    "import numpy as np\n",
    "from IPython.display import display, HTML\n",
    "from sklearn.metrics import mean_squared_error\n",
    "from math import sqrt\n",
    "import statsmodels.formula.api as sm\n",
    "import itertools"
   ]
  },
  {
   "cell_type": "markdown",
   "metadata": {
    "deletable": true,
    "editable": true
   },
   "source": [
    "## Regression Class"
   ]
  },
  {
   "cell_type": "code",
   "execution_count": null,
   "metadata": {
    "collapsed": true,
    "deletable": true,
    "editable": true
   },
   "outputs": [],
   "source": [
    "class Regression:\n",
    "    def __init__(self, pathToData):\n",
    "        self.data = pd.read_csv(pathToData, index_col=0)\n",
    "\n",
    "    def getDataFrame(self):\n",
    "        return self.data\n",
    "\n",
    "    \n",
    "    \n",
    "    # get collinearity (r^2 value) of a pair of columns\n",
    "    def getCollinearityScore(self, dependentCol, independentCol):\n",
    "        array = self.data.values\n",
    "        X = array[:, independentCol]\n",
    "        Y = array[:, dependentCol]\n",
    "\n",
    "        return prr.pearsonr(X, Y)\n",
    "        # GET SUBTABLE CONTAINING ONLY THE INDEPENDENT COLUMN AND DEPENDENT COLUMN\n",
    "        # df2 = self.data.iloc[:, [independentCol, dependentCol]]\n",
    "        # CREATE FITTED MODEL USING ORDINARY LEAST SQUARES REGRESSION\n",
    "        # lm = smf.ols(formula='Sales ~ TV', data=df2).fit()\n",
    "        # RETURN RSQUARED VALUE FOR THE MODEL\n",
    "        # return lm.rsquared\n",
    "\n",
    "    # print collinearities (r^2 value) of each pair of columns\n",
    "    def printAllCollinearities(self):\n",
    "        array = self.data.values\n",
    "        length_col = self.data.shape[1]\n",
    "        while(0 != length_col-1):\n",
    "            for x in range(0, length_col-1):\n",
    "                X = array[:, x]\n",
    "                Y = array[:, length_col-1]\n",
    "\n",
    "                print(\"Collinearity between \"+self.data.columns.values[x]+\" & \"+self.data.columns.values[length_col-1]+\" = \"+str(prr.pearsonr(X, Y)))\n",
    "            length_col -= 1\n",
    "\n",
    "    def getSubTable(self, col_names):\n",
    "        array = self.data\n",
    "        return array.loc[:, col_names]\n",
    "            \n",
    "    def getFittedRegressionModel(self, col_names, dependent_col_name):\n",
    "        array = self.data\n",
    "        X = array.loc[:, col_names]\n",
    "        Y = array.loc[:, dependent_col_name]\n",
    "        model = linear_model.LinearRegression()\n",
    "        model.fit(X, Y)\n",
    "        print(\"R^2 score: \"+str(model.score(X, Y)))\n",
    "        m = model.coef_\n",
    "        b = model.intercept_\n",
    "        # print(\"Intercept=\" + str(b) + \" Coefficient=\" + str(m))\n",
    "        return model\n",
    "\n",
    "    def getBestFeaturesRCEV(self, col_names, dependent_col_name):\n",
    "        array = self.data\n",
    "        X = array.loc[:, col_names]\n",
    "        Y = array.loc[:, dependent_col_name]\n",
    "        feature_names = self.data.columns.values\n",
    "        model = linear_model.LinearRegression()\n",
    "        selector = RFECV(estimator=model, cv=10)\n",
    "        selector.fit(X, Y)\n",
    "        print(selector.ranking_)\n",
    "        print(\"Optimal number of features3: \" + str(selector.n_features_))\n",
    "        print(sorted(zip(map(lambda x: round(x, 4), selector.ranking_), col_names)))\n",
    "        print(selector.support_)\n",
    "        \n",
    "    def getXVals(self, col_names):\n",
    "        #array = self.data\n",
    "        array = self.data.copy()\n",
    "        X = array.loc[:, col_names]\n",
    "        return X\n",
    "    \n",
    "    def getYVals(self, col_names):\n",
    "        #array = self.data\n",
    "        array = self.data.copy()\n",
    "        X = array.loc[:, col_names]\n",
    "        return X\n",
    "        \n",
    "    def kFoldTest(self, col_names, dependent_col_name, test_row_num):\n",
    "        #array = self.data\n",
    "        array = self.data.copy()\n",
    "        array = array.drop(array.index[test_row_num])\n",
    "        \n",
    "        X = array.loc[:, col_names]\n",
    "        Y = array.loc[:, dependent_col_name]\n",
    "        model = linear_model.LinearRegression()\n",
    "        model.fit(X, Y)\n",
    "        m = model.coef_\n",
    "        b = model.intercept_\n",
    "        return model\n",
    "    \n",
    "    def kFoldTest2(self, col_names, dependent_col_name, slice_size):\n",
    "        #array = self.data\n",
    "        array = self.data.copy()\n",
    "        original = self.data.copy()\n",
    "        iterations = len(array.index)/slice_size\n",
    "        if(len(array.index)%slice_size>0):\n",
    "            iterations = int(iterations)+1\n",
    "            \n",
    "        for j in range(0, iterations):\n",
    "            for i in range(0,len(array.index)):\n",
    "                if (i/slice_size==j):\n",
    "                    array = array.drop(array.index[i])\n",
    "\n",
    "            X = original.loc[:, col_names]\n",
    "            Y = original.loc[:, dependent_col_name]\n",
    "            model = linear_model.LinearRegression()\n",
    "            model.fit(X, Y)\n",
    "            m = model.coef_\n",
    "            b = model.intercept_\n",
    "            \n",
    "            predicted_vals = []\n",
    "            observed_vals = []\n",
    "            array = self.data.copy()\n",
    "            size = 0\n",
    "            for i in range(0,len(array.index)):\n",
    "                #print(str(i)+\" / \"+str(slice_size)+\" == \"+str(j))\n",
    "                if (int(i/slice_size)==j):\n",
    "                    #print(\"WENT IN!\")\n",
    "                    size += 1\n",
    "                    print(\"length:\"+str(len(X.index))+\" index:\"+str(i))\n",
    "                    predicted_vals.append(model.predict(X.iloc[i , :].values.reshape(1,-1))[0])\n",
    "                    print(Y.iloc[i])\n",
    "                    observed_vals.append(Y.iloc[i])\n",
    "            rms = sqrt(mean_squared_error(observed_vals, predicted_vals))\n",
    "            rms = rms*((100*slice_size)/sum(observed_vals))\n",
    "            print(\"Trained using slice \"+str(j)+\": RMSE = \"+str(rms))  \n",
    "            print(\"slice size: \"+str(size))\n",
    "            \n",
    "    def statsmodelsRegressionSummary(self, col_names, dependent_col_name):\n",
    "        array = self.data.copy()\n",
    "        X = array.loc[:, col_names]\n",
    "        Y = array.loc[:, dependent_col_name]\n",
    "        result = sm.OLS( Y, X ).fit()\n",
    "        return result\n",
    "\n",
    "        \n"
   ]
  },
  {
   "cell_type": "markdown",
   "metadata": {
    "deletable": true,
    "editable": true
   },
   "source": [
    "## Trip Generation Class"
   ]
  },
  {
   "cell_type": "code",
   "execution_count": null,
   "metadata": {
    "collapsed": false,
    "deletable": true,
    "editable": true
   },
   "outputs": [],
   "source": [
    "class TripGeneration:\n",
    "\n",
    "    def __init__(self, pathToData, dependent_col_name):\n",
    "        self.pathToData = pathToData\n",
    "        self.dependent_col_name = dependent_col_name\n",
    "        self.production_col_names = []\n",
    "        self.production_constant = 0\n",
    "        self.production_intercepts = []\n",
    "        self.attraction_col_names = []\n",
    "        self.attraction_constant = 0\n",
    "        self.attraction_intercepts = []\n",
    "        self.production_score = 0\n",
    "        self.attraction_score = 0\n",
    "        self.balancing_factor = 0\n",
    "        \n",
    "    def printAttributes(self):\n",
    "        print(\"Attributes\")\n",
    "        print(self.production_col_names)\n",
    "        print(self.production_constant)\n",
    "        print(self.production_intercepts)\n",
    "        print(self.attraction_col_names)\n",
    "        print(self.attraction_constant)\n",
    "        print(self.attraction_intercepts)\n",
    "\n",
    "    def setProductionParameters(self, production_col_names, production_constant, production_intercepts):\n",
    "        self.production_col_names = production_col_names\n",
    "        self.production_constant = production_constant\n",
    "        self.production_intercepts = production_intercepts\n",
    "        \n",
    "    def setAttractionParameters(self, attraction_col_names, attraction_constant, attraction_intercepts):\n",
    "        self.attraction_col_names = attraction_col_names\n",
    "        self.attraction_constant = attraction_constant\n",
    "        self.attraction_intercepts = attraction_intercepts\n",
    "        \n",
    "    \n",
    "    # get trip production score for 'zone'\n",
    "    def getWholeTripProductionScore(self):\n",
    "        data = pd.read_csv(self.pathToData, index_col=0)\n",
    "        # implement specific way to get sub-table(data) just for specific 'zone' i.e: all rows related to zone1\n",
    "        sub_table = data.loc[:, self.production_col_names]\n",
    "        length_rows = sub_table.shape[0]\n",
    "        for x in range(0, length_rows):\n",
    "            row_values = sub_table.iloc[x, :].values\n",
    "            self.production_score += self.production_constant\n",
    "            for j in range(0,len(row_values)):\n",
    "                self.production_score += int(row_values[j]*self.production_intercepts[j])\n",
    "            #print(\"SELFPROD CURR: \"+str(self.production_score))\n",
    "        return int(self.production_score)\n",
    "\n",
    "    # get trip attraction score for 'zone'\n",
    "    def getWholeTripAttractionScore(self):\n",
    "        data = pd.read_csv(self.pathToData, index_col=0)\n",
    "        # implement specific way to get sub-table(data) just for specific 'zone' i.e: all rows related to zone1\n",
    "        sub_table = data.loc[:, self.attraction_col_names]\n",
    "        length_rows = sub_table.shape[0]\n",
    "        for x in range(0, length_rows):\n",
    "            row_values = sub_table.iloc[x, :].values\n",
    "            self.attraction_score += self.attraction_constant\n",
    "            for j in range(0,len(row_values)):\n",
    "                self.attraction_score += int(row_values[j]*self.attraction_intercepts[j])\n",
    "            #print(\"SELFATTR CURR: \"+str(self.attraction_score))\n",
    "        return int(self.attraction_score)\n",
    "    \n",
    "    def getZoneTripProductionScore(self, zone_number):\n",
    "        self.production_score = 0\n",
    "        data = pd.read_csv(self.pathToData, index_col=0)\n",
    "        # implement specific way to get sub-table(data) just for specific 'zone' i.e: all rows related to zone1\n",
    "        row_values = data.loc[zone_number, self.production_col_names].values\n",
    "        \n",
    "        self.production_score += self.production_constant\n",
    "        for j in range(0,len(row_values)):\n",
    "            self.production_score += row_values[j]*self.production_intercepts[j]\n",
    "\n",
    "        return self.production_score\n",
    "    \n",
    "    def getZoneTripAttractionScore(self, zone_number):\n",
    "        self.attraction_score = 0\n",
    "        data = pd.read_csv(self.pathToData, index_col=0)\n",
    "        # implement specific way to get sub-table(data) just for specific 'zone' i.e: all rows related to zone1\n",
    "        row_values = data.loc[zone_number, self.production_col_names].values\n",
    "        \n",
    "        self.attraction_score += self.attraction_constant\n",
    "        for j in range(0,len(row_values)):\n",
    "            self.attraction_score += row_values[j]*self.attraction_intercepts[j]\n",
    "\n",
    "        return self.attraction_score\n",
    "\n",
    "    def doTripBalancing(self):\n",
    "        self.balancing_factor = self.production_score/self.attraction_score\n",
    "        self.attraction_score = self.balancing_factor * self.attraction_score\n",
    "        self.production_score = self.balancing_factor * self.production_score\n",
    "        # Implement trip balancing here VOID\n",
    "        \n",
    "    def getBalancingFactor(self):\n",
    "        return self.balancing_factor\n",
    "    \n",
    "    def printAllZonalTripsProductionAttraction(self):\n",
    "        productionScores = []\n",
    "        attractionScores = []\n",
    "        df = pd.DataFrame(columns=('Trip Production', 'Trip Atraction'))\n",
    "        total_production = 0\n",
    "        total_attraction = 0\n",
    "        data = pd.read_csv(self.pathToData, index_col=0)\n",
    "        length_rows = data.shape[0]\n",
    "        for x in range(1, length_rows+1):\n",
    "            attr_score = 0\n",
    "            prod_score = 0\n",
    "            attr_row_values = data.loc[x, self.attraction_col_names].values\n",
    "            prod_row_values = data.loc[x, self.production_col_names].values\n",
    "            attr_score += self.attraction_constant\n",
    "            prod_score += self.production_constant\n",
    "            for j in range(0,len(attr_row_values)):\n",
    "                attr_score += attr_row_values[j]*self.attraction_intercepts[j]\n",
    "            total_attraction += attr_score\n",
    "            for j in range(0,len(prod_row_values)):\n",
    "                prod_score += prod_row_values[j]*self.production_intercepts[j]\n",
    "            total_production += prod_score\n",
    "            df.loc[x] = [int(prod_score),int(attr_score)]\n",
    "            productionScores.append(int(prod_score))\n",
    "            attractionScores.append(int(attr_score))\n",
    "            #print(\"Zone \"+str(x)+\": Production=\"+str(prod_score)+\" , Attraction=\"+str(attr_score))\n",
    "        return df, productionScores, attractionScores;\n",
    "        #print(\"Total Production=\"+str(total_production)+\" , Total Attraction=\"+str(total_attraction))\n",
    "        \n",
    "    def getTripProductionScores(self):\n",
    "        productionScores = []\n",
    "        total_production = 0\n",
    "        total_attraction = 0\n",
    "        data = pd.read_csv(self.pathToData, index_col=0)\n",
    "        length_rows = data.shape[0]\n",
    "        for x in range(1, length_rows+1):\n",
    "            prod_score = 0\n",
    "            prod_row_values = data.loc[x, self.production_col_names].values\n",
    "            prod_score += self.production_constant\n",
    "            for j in range(0,len(prod_row_values)):\n",
    "                prod_score += prod_row_values[j]*self.production_intercepts[j]\n",
    "            total_production += prod_score\n",
    "            productionScores.append(prod_score)\n",
    "        return productionScores\n",
    "    \n",
    "    def getProductionSubTable(self):\n",
    "        data = pd.read_csv(self.pathToData, index_col=0)\n",
    "        return data.loc[:, self.production_col_names]\n",
    "\n",
    "        \n"
   ]
  },
  {
   "cell_type": "markdown",
   "metadata": {
    "collapsed": true,
    "deletable": true,
    "editable": true
   },
   "source": [
    "# DATA\n",
    "### Expected available parameters from the MMUTIS Update and Enhancement Project (MUCEP) Database"
   ]
  },
  {
   "cell_type": "code",
   "execution_count": null,
   "metadata": {
    "collapsed": false,
    "deletable": true,
    "editable": true
   },
   "outputs": [],
   "source": [
    "dummy_data = pd.read_csv('DummyDataRegression.csv', index_col=0)\n",
    "dummy_data.head()"
   ]
  },
  {
   "cell_type": "markdown",
   "metadata": {
    "deletable": true,
    "editable": true
   },
   "source": [
    "### Fused Zonal and Amenity data (OpenStreetMap)"
   ]
  },
  {
   "cell_type": "code",
   "execution_count": null,
   "metadata": {
    "collapsed": false,
    "deletable": true,
    "editable": true
   },
   "outputs": [],
   "source": [
    "dummy_data_amenities = pd.read_csv('DummyDataRegressionAmenitiex.csv', index_col=0)\n",
    "dummy_data_amenities.head()"
   ]
  },
  {
   "cell_type": "markdown",
   "metadata": {
    "deletable": true,
    "editable": true
   },
   "source": [
    "# DATA PREPARATION (Example Plan)"
   ]
  },
  {
   "cell_type": "markdown",
   "metadata": {
    "collapsed": true,
    "deletable": true,
    "editable": true
   },
   "source": [
    "## Collinearity Checking using Peasrson Correlation (correlation coefficient, 2-tailed p-value)"
   ]
  },
  {
   "cell_type": "code",
   "execution_count": null,
   "metadata": {
    "collapsed": false,
    "deletable": true,
    "editable": true
   },
   "outputs": [],
   "source": [
    "data_filepath = \"DummyDataRegression.csv\"\n",
    "regression = Regression(data_filepath)\n",
    "array = regression.getDataFrame().values\n",
    "print(\"All collinearities:\")\n",
    "regression.printAllCollinearities()"
   ]
  },
  {
   "cell_type": "markdown",
   "metadata": {
    "deletable": true,
    "editable": true
   },
   "source": [
    "### Checking for Optimal Features using Recursive Feature Elimination with Cross-Validation"
   ]
  },
  {
   "cell_type": "code",
   "execution_count": null,
   "metadata": {
    "collapsed": false,
    "deletable": true,
    "editable": true
   },
   "outputs": [],
   "source": [
    "col_names = regression.getDataFrame().columns.values[0:11]\n",
    "print(str(1))\n",
    "dep_col_name = \"trips\"\n",
    "print(str(2))\n",
    "regression.getBestFeaturesRCEV(col_names, dep_col_name)\n",
    "print(str(3))\n",
    "col_names"
   ]
  },
  {
   "cell_type": "code",
   "execution_count": null,
   "metadata": {
    "collapsed": false,
    "deletable": true,
    "editable": true
   },
   "outputs": [],
   "source": [
    "data_filepath2 = \"DummyDataRegressionAmenitiex.csv\"\n",
    "regression2 = Regression(data_filepath2)\n",
    "array2 = regression2.getDataFrame().values\n",
    "print(\"All collinearities:\")\n",
    "regression2.printAllCollinearities()"
   ]
  },
  {
   "cell_type": "code",
   "execution_count": null,
   "metadata": {
    "collapsed": false,
    "deletable": true,
    "editable": true
   },
   "outputs": [],
   "source": [
    "col_names2 = regression2.getDataFrame().columns.values[1:15]\n",
    "print(str(1))\n",
    "dep_col_name2 = \"trips\"\n",
    "print(str(2))\n",
    "regression2.getBestFeaturesRCEV(col_names2, dep_col_name2)\n",
    "print(str(3))\n",
    "col_names2"
   ]
  },
  {
   "cell_type": "code",
   "execution_count": null,
   "metadata": {
    "collapsed": false,
    "deletable": true,
    "editable": true
   },
   "outputs": [],
   "source": [
    " 'util_area',\n",
    "       'othe_area'\n",
    "        \n",
    "\\n Correlation coeff=0.9125, P-value=3.31e-07'"
   ]
  },
  {
   "cell_type": "code",
   "execution_count": null,
   "metadata": {
    "collapsed": false,
    "deletable": true,
    "editable": true
   },
   "outputs": [],
   "source": [
    "df = regression2.getDataFrame()\n",
    "plt.plot(df[\"trips\"], df[\"comm_area\"], 'bo')\n",
    "x = df[\"trips\"]\n",
    "y = df[\"comm_area\"]\n",
    "fit = np.polyfit(x, y, deg=1)\n",
    "plt.plot(x, fit[0] * x + fit[1], color='red')\n",
    "plt.xlabel('trips')\n",
    "plt.ylabel('comm_area')\n",
    "plt.title('Observed Data (Trips produced & # of commercial area)\\n Correlation coeff=0.7024, P-value=0.001667')\n",
    "plt.grid(True)\n",
    "# plt.axis([0, 220, 0, 120])\n",
    "plt.show()"
   ]
  },
  {
   "cell_type": "code",
   "execution_count": null,
   "metadata": {
    "collapsed": false,
    "deletable": true,
    "editable": true
   },
   "outputs": [],
   "source": [
    "df = regression2.getDataFrame()\n",
    "plt.plot(df[\"trips\"], df[\"park_area\"], 'bo')\n",
    "x = df[\"trips\"]\n",
    "y = df[\"park_area\"]\n",
    "fit = np.polyfit(x, y, deg=1)\n",
    "plt.plot(x, fit[0] * x + fit[1], color='red')\n",
    "plt.xlabel('trips')\n",
    "plt.ylabel('park_area')\n",
    "plt.title('Observed Data (Trips produced & # of park area)\\n Correlation coeff=0.9400, P-value= 2.10e-08')\n",
    "plt.grid(True)\n",
    "# plt.axis([0, 220, 0, 120])\n",
    "plt.show()"
   ]
  },
  {
   "cell_type": "code",
   "execution_count": null,
   "metadata": {
    "collapsed": false,
    "deletable": true,
    "editable": true
   },
   "outputs": [],
   "source": [
    "df = regression2.getDataFrame()\n",
    "plt.plot(df[\"trips\"], df[\"indu_area\"], 'bo')\n",
    "x = df[\"trips\"]\n",
    "y = df[\"indu_area\"]\n",
    "fit = np.polyfit(x, y, deg=1)\n",
    "plt.plot(x, fit[0] * x + fit[1], color='red')\n",
    "plt.xlabel('trips')\n",
    "plt.ylabel('indu_area')\n",
    "plt.title('Observed Data (Trips produced & # of industrial area)\\n Correlation coeff=0.1509, P-value=0.5632')\n",
    "plt.grid(True)\n",
    "# plt.axis([0, 220, 0, 120])\n",
    "plt.show()"
   ]
  },
  {
   "cell_type": "code",
   "execution_count": null,
   "metadata": {
    "collapsed": false,
    "deletable": true,
    "editable": true
   },
   "outputs": [],
   "source": [
    "df = regression2.getDataFrame()\n",
    "plt.plot(df[\"trips\"], df[\"agri_area\"], 'bo')\n",
    "x = df[\"trips\"]\n",
    "y = df[\"agri_area\"]\n",
    "fit = np.polyfit(x, y, deg=1)\n",
    "plt.plot(x, fit[0] * x + fit[1], color='red')\n",
    "plt.xlabel('trips')\n",
    "plt.ylabel('agri_area')\n",
    "plt.title('Observed Data (Trips produced & # of agricultural area)\\n Correlation coeff=0.7027, P-value=0.0017')\n",
    "plt.grid(True)\n",
    "# plt.axis([0, 220, 0, 120])\n",
    "plt.show()"
   ]
  },
  {
   "cell_type": "code",
   "execution_count": null,
   "metadata": {
    "collapsed": false,
    "deletable": true,
    "editable": true
   },
   "outputs": [],
   "source": [
    "df = regression2.getDataFrame()\n",
    "plt.plot(df[\"trips\"], df[\"resi_area\"], 'bo')\n",
    "x = df[\"trips\"]\n",
    "y = df[\"resi_area\"]\n",
    "fit = np.polyfit(x, y, deg=1)\n",
    "plt.plot(x, fit[0] * x + fit[1], color='red')\n",
    "plt.xlabel('trips')\n",
    "plt.ylabel('resi_area')\n",
    "plt.title('Observed Data (Trips produced & # of residential area)\\n Correlation coeff=0.7443, P-value=0.0006')\n",
    "plt.grid(True)\n",
    "# plt.axis([0, 220, 0, 120])\n",
    "plt.show()"
   ]
  },
  {
   "cell_type": "code",
   "execution_count": null,
   "metadata": {
    "collapsed": false,
    "deletable": true,
    "editable": true
   },
   "outputs": [],
   "source": [
    "df = regression2.getDataFrame()\n",
    "plt.plot(df[\"trips\"], df[\"util_area\"], 'bo')\n",
    "x = df[\"trips\"]\n",
    "y = df[\"util_area\"]\n",
    "fit = np.polyfit(x, y, deg=1)\n",
    "plt.plot(x, fit[0] * x + fit[1], color='red')\n",
    "plt.xlabel('trips')\n",
    "plt.ylabel('util_area')\n",
    "plt.title('Observed Data (Trips produced & # of utility area)\\n Correlation coeff=0.8517, P-value=1.43e-05')\n",
    "plt.grid(True)\n",
    "# plt.axis([0, 220, 0, 120])\n",
    "plt.show()"
   ]
  },
  {
   "cell_type": "markdown",
   "metadata": {
    "deletable": true,
    "editable": true
   },
   "source": [
    "### Verify Collinearity through Scatter Plots"
   ]
  },
  {
   "cell_type": "code",
   "execution_count": null,
   "metadata": {
    "collapsed": false,
    "deletable": true,
    "editable": true
   },
   "outputs": [],
   "source": [
    "df = regression2.getDataFrame()\n",
    "plt.plot(df[\"trips\"], df[\"othe_amt\"], 'bo')\n",
    "x = df[\"trips\"]\n",
    "y = df[\"othe_amt\"]\n",
    "fit = np.polyfit(x, y, deg=1)\n",
    "plt.plot(x, fit[0] * x + fit[1], color='red')\n",
    "plt.xlabel('trips')\n",
    "plt.ylabel('othe_amt')\n",
    "plt.title('Observed Data (trips x othe_amt)')\n",
    "plt.grid(True)\n",
    "# plt.axis([0, 220, 0, 120])\n",
    "plt.show()"
   ]
  },
  {
   "cell_type": "code",
   "execution_count": null,
   "metadata": {
    "collapsed": false,
    "deletable": true,
    "editable": true
   },
   "outputs": [],
   "source": [
    "df = regression2.getDataFrame()\n",
    "plt.plot(df[\"trips\"], df[\"sust_amt\"], 'bo')\n",
    "x = df[\"trips\"]\n",
    "y = df[\"sust_amt\"]\n",
    "fit = np.polyfit(x, y, deg=1)\n",
    "plt.plot(x, fit[0] * x + fit[1], color='red')\n",
    "plt.xlabel('trips')\n",
    "plt.ylabel('sust_amt')\n",
    "plt.title('Observed Data (trips x sust_amt)')\n",
    "plt.grid(True)\n",
    "# plt.axis([0, 220, 0, 120])\n",
    "plt.show()"
   ]
  },
  {
   "cell_type": "code",
   "execution_count": null,
   "metadata": {
    "collapsed": false,
    "deletable": true,
    "editable": true
   },
   "outputs": [],
   "source": [
    "df = regression2.getDataFrame()\n",
    "plt.plot(df[\"trips\"], df[\"educ_amt\"], 'bo')\n",
    "x = df[\"trips\"]\n",
    "y = df[\"educ_amt\"]\n",
    "fit = np.polyfit(x, y, deg=1)\n",
    "plt.plot(x, fit[0] * x + fit[1], color='red')\n",
    "plt.xlabel('trips')\n",
    "plt.ylabel('educ_amt')\n",
    "plt.title('Observed Data (trips x educ_amt)')\n",
    "plt.grid(True)\n",
    "# plt.axis([0, 220, 0, 120])\n",
    "plt.show()"
   ]
  },
  {
   "cell_type": "code",
   "execution_count": null,
   "metadata": {
    "collapsed": false,
    "deletable": true,
    "editable": true
   },
   "outputs": [],
   "source": [
    "df = regression2.getDataFrame()\n",
    "plt.plot(df[\"trips\"], df[\"tran_amt\"], 'bo')\n",
    "x = df[\"trips\"]\n",
    "y = df[\"tran_amt\"]\n",
    "fit = np.polyfit(x, y, deg=1)\n",
    "plt.plot(x, fit[0] * x + fit[1], color='red')\n",
    "plt.xlabel('trips')\n",
    "plt.ylabel('tran_amt')\n",
    "plt.title('Observed Data (trips x tran_amt)')\n",
    "plt.grid(True)\n",
    "# plt.axis([0, 220, 0, 120])\n",
    "plt.show()"
   ]
  },
  {
   "cell_type": "code",
   "execution_count": null,
   "metadata": {
    "collapsed": false,
    "deletable": true,
    "editable": true
   },
   "outputs": [],
   "source": [
    "df = regression2.getDataFrame()\n",
    "plt.plot(df[\"trips\"], df[\"heal_amt\"], 'bo')\n",
    "x = df[\"trips\"]\n",
    "y = df[\"heal_amt\"]\n",
    "fit = np.polyfit(x, y, deg=1)\n",
    "plt.plot(x, fit[0] * x + fit[1], color='red')\n",
    "plt.xlabel('trips')\n",
    "plt.ylabel('heal_amt')\n",
    "plt.title('Observed Data (trips x heal_amt)')\n",
    "plt.grid(True)\n",
    "# plt.axis([0, 220, 0, 120])\n",
    "plt.show()"
   ]
  },
  {
   "cell_type": "code",
   "execution_count": null,
   "metadata": {
    "collapsed": false,
    "deletable": true,
    "editable": true
   },
   "outputs": [],
   "source": [
    "df = regression2.getDataFrame()\n",
    "plt.plot(df[\"trips\"], df[\"fina_amt\"], 'bo')\n",
    "x = df[\"trips\"]\n",
    "y = df[\"fina_amt\"]\n",
    "fit = np.polyfit(x, y, deg=1)\n",
    "plt.plot(x, fit[0] * x + fit[1], color='red')\n",
    "plt.xlabel('trips')\n",
    "plt.ylabel('fina_amt')\n",
    "plt.title('Observed Data (trips x fina_amt)')\n",
    "plt.grid(True)\n",
    "# plt.axis([0, 220, 0, 120])\n",
    "plt.show()"
   ]
  },
  {
   "cell_type": "code",
   "execution_count": null,
   "metadata": {
    "collapsed": false,
    "deletable": true,
    "editable": true
   },
   "outputs": [],
   "source": [
    "df = regression2.getDataFrame()\n",
    "plt.plot(df[\"trips\"], df[\"ente_amt\"], 'bo')\n",
    "x = df[\"trips\"]\n",
    "y = df[\"ente_amt\"]\n",
    "fit = np.polyfit(x, y, deg=1)\n",
    "plt.plot(x, fit[0] * x + fit[1], color='red')\n",
    "plt.xlabel('trips')\n",
    "plt.ylabel('ente_amt')\n",
    "plt.title('Observed Data (trips x ente_amt)')\n",
    "plt.grid(True)\n",
    "# plt.axis([0, 220, 0, 120])\n",
    "plt.show()"
   ]
  },
  {
   "cell_type": "code",
   "execution_count": null,
   "metadata": {
    "collapsed": false,
    "deletable": true,
    "editable": true
   },
   "outputs": [],
   "source": [
    "df = regression2.getDataFrame()\n",
    "plt.plot(df[\"trips\"], df[\"comm_amt\"], 'bo')\n",
    "x = df[\"trips\"]\n",
    "y = df[\"comm_amt\"]\n",
    "fit = np.polyfit(x, y, deg=1)\n",
    "plt.plot(x, fit[0] * x + fit[1], color='red')\n",
    "plt.xlabel('trips')\n",
    "plt.ylabel('comm_amt')\n",
    "plt.title('Observed Data (trips x comm_amt)')\n",
    "plt.grid(True)\n",
    "# plt.axis([0, 220, 0, 120])\n",
    "plt.show()"
   ]
  },
  {
   "cell_type": "code",
   "execution_count": null,
   "metadata": {
    "collapsed": false,
    "deletable": true,
    "editable": true
   },
   "outputs": [],
   "source": [
    "df = regression2.getDataFrame()\n",
    "plt.plot(df[\"trips\"], df[\"comm_amt\"], 'bo')\n",
    "x = df[\"trips\"]\n",
    "y = df[\"comm_amt\"]\n",
    "fit = np.polyfit(x, y, deg=1)\n",
    "plt.plot(x, fit[0] * x + fit[1], color='red')\n",
    "plt.xlabel('trips')\n",
    "plt.ylabel('comm_amt')\n",
    "plt.title('Observed Data (trips x comm_amt)')\n",
    "plt.grid(True)\n",
    "# plt.axis([0, 220, 0, 120])\n",
    "plt.show()"
   ]
  },
  {
   "cell_type": "code",
   "execution_count": null,
   "metadata": {
    "collapsed": false,
    "deletable": true,
    "editable": true
   },
   "outputs": [],
   "source": [
    "df = regression.getDataFrame()\n",
    "plt.plot(df[\"trips\"], df[\"agri_area\"], 'bo')\n",
    "x = df[\"trips\"]\n",
    "y = df[\"agri_area\"]\n",
    "fit = np.polyfit(x, y, deg=1)\n",
    "plt.plot(x, fit[0] * x + fit[1], color='red')\n",
    "plt.xlabel('trips')\n",
    "plt.ylabel('agri_area')\n",
    "plt.title('Observed Data (trips x agri_area)')\n",
    "plt.grid(True)\n",
    "# plt.axis([0, 220, 0, 120])\n",
    "plt.show()"
   ]
  },
  {
   "cell_type": "code",
   "execution_count": null,
   "metadata": {
    "collapsed": false,
    "deletable": true,
    "editable": true
   },
   "outputs": [],
   "source": [
    "Collinearity between no_hh & trips = (0.92914760415527753, 7.1205170410730196e-08)\n",
    "Collinearity between avg_income & trips = (0.91992035789848337, 1.7354578828442896e-07)\n",
    "Collinearity between mem_no & trips = (0.91247798270778113, 3.305852610863916e-07)\n",
    "Collinearity between no_mem_educwork & trips = (0.91764041951966036, 2.1277373172145904e-07)"
   ]
  },
  {
   "cell_type": "code",
   "execution_count": null,
   "metadata": {
    "collapsed": false,
    "deletable": true,
    "editable": true
   },
   "outputs": [],
   "source": [
    "df = regression.getDataFrame()\n",
    "plt.plot(df[\"trips\"], df[\"no_hh\"], 'bo')\n",
    "x = df[\"trips\"]\n",
    "y = df[\"no_hh\"]\n",
    "fit = np.polyfit(x, y, deg=1)\n",
    "plt.plot(x, fit[0] * x + fit[1], color='red')\n",
    "plt.xlabel('trips')\n",
    "plt.ylabel('no_hh')\n",
    "plt.title('Observed Data (Trips produced & # of households)\\n Correlation coeff=0.9291, P-value=7.12e-08')\n",
    "plt.grid(True)\n",
    "# plt.axis([0, 220, 0, 120])\n",
    "plt.show()"
   ]
  },
  {
   "cell_type": "code",
   "execution_count": null,
   "metadata": {
    "collapsed": false,
    "deletable": true,
    "editable": true
   },
   "outputs": [],
   "source": [
    "df = regression.getDataFrame()\n",
    "plt.plot(df[\"trips\"], df[\"mem_no\"], 'bo')\n",
    "x = df[\"trips\"]\n",
    "y = df[\"mem_no\"]\n",
    "fit = np.polyfit(x, y, deg=1)\n",
    "plt.plot(x, fit[0] * x + fit[1], color='red')\n",
    "plt.xlabel('trips')\n",
    "plt.ylabel('mem_no')\n",
    "plt.title('Observed Data (Trips produced & # of household members)\\n Correlation coeff=0.9125, P-value=3.31e-07')\n",
    "plt.grid(True)\n",
    "# plt.axis([0, 220, 0, 120])\n",
    "plt.show()"
   ]
  },
  {
   "cell_type": "code",
   "execution_count": null,
   "metadata": {
    "collapsed": false,
    "deletable": true,
    "editable": true
   },
   "outputs": [],
   "source": [
    "df = regression.getDataFrame()\n",
    "plt.plot(df[\"trips\"], df[\"avg_income\"], 'bo')\n",
    "x = df[\"trips\"]\n",
    "y = df[\"avg_income\"]\n",
    "fit = np.polyfit(x, y, deg=1)\n",
    "plt.plot(x, fit[0] * x + fit[1], color='red')\n",
    "plt.xlabel('trips')\n",
    "plt.ylabel('avg_income')\n",
    "plt.title('Observed Data (Trips produced & Average income)\\n Correlation coeff=0.9199, P-value=1.73e-07')\n",
    "plt.grid(True)\n",
    "# plt.axis([0, 220, 0, 120])\n",
    "plt.show()"
   ]
  },
  {
   "cell_type": "code",
   "execution_count": null,
   "metadata": {
    "collapsed": false,
    "deletable": true,
    "editable": true
   },
   "outputs": [],
   "source": [
    "df = regression.getDataFrame()\n",
    "plt.plot(df[\"trips\"], df[\"resi_area\"], 'bo')\n",
    "x = df[\"trips\"]\n",
    "y = df[\"resi_area\"]\n",
    "fit = np.polyfit(x, y, deg=1)\n",
    "plt.plot(x, fit[0] * x + fit[1], color='red')\n",
    "plt.xlabel('trips')\n",
    "plt.ylabel('resi_area')\n",
    "plt.title('Observed Data (trips x resi_area)')\n",
    "plt.grid(True)\n",
    "# plt.axis([0, 220, 0, 120])\n",
    "plt.show()"
   ]
  },
  {
   "cell_type": "code",
   "execution_count": null,
   "metadata": {
    "collapsed": false,
    "deletable": true,
    "editable": true
   },
   "outputs": [],
   "source": [
    "df = regression.getDataFrame()\n",
    "plt.plot(df[\"trips\"], df[\"no_mem_educwork\"], 'bo')\n",
    "x = df[\"trips\"]\n",
    "y = df[\"no_mem_educwork\"]\n",
    "fit = np.polyfit(x, y, deg=1)\n",
    "plt.plot(x, fit[0] * x + fit[1], color='red')\n",
    "plt.xlabel('trips')\n",
    "plt.ylabel('no_mem_educwork')\n",
    "plt.title('Observed Data (Trips produced & # of working/studying household members)\\n Correlation coeff=0.9176, P-value=2.13e-07')\n",
    "plt.grid(True)\n",
    "# plt.axis([0, 220, 0, 120])\n",
    "plt.show()"
   ]
  },
  {
   "cell_type": "code",
   "execution_count": null,
   "metadata": {
    "collapsed": false,
    "deletable": true,
    "editable": true
   },
   "outputs": [],
   "source": [
    "df = regression.getDataFrame()\n",
    "plt.plot(df[\"Trips\"], df[\"Autos\"], 'bo')\n",
    "x = df[\"Trips\"]\n",
    "y = df[\"Autos\"]\n",
    "fit = np.polyfit(x, y, deg=1)\n",
    "plt.plot(x, fit[0] * x + fit[1], color='red')\n",
    "plt.xlabel('Trips')\n",
    "plt.ylabel('Establishments')\n",
    "plt.title('Observed Data (TRIPS x AUTOS)')\n",
    "plt.grid(True)\n",
    "# plt.axis([0, 220, 0, 120])\n",
    "plt.show()"
   ]
  },
  {
   "cell_type": "markdown",
   "metadata": {
    "deletable": true,
    "editable": true
   },
   "source": [
    "# Generate table that contains the aggregated information per zone, given the TAZ input file and the Households input file (income, houses, # amenities of each kind)\n",
    "\n",
    "#### Create TripGenTableModel:\n",
    "wherein its attributes are the columns in the table example (Out 348, remove trips column, shape coordinate, landuse).\n",
    "\n",
    "#### Get number of TAZs\n",
    "#### Get number of landuse per TAZ\n",
    "#### Create [ ][ ] of TripGenTableModel\n",
    "\n",
    "#### SAMPLE CODE\n",
    "TripGenTableModel tgtm = [# of TAZs][ ]\n",
    "for n in range(0,len(TAZ)):\n",
    "    LUShapes lus = getImpactingShapes(TAZ[n]) #Returns the whole shape coors of impacting landuses together with its category\n",
    "    for x in range(0, len(lus)):\n",
    "        tgtm[n][x] = new TripGenTableModel()\n",
    "        tgtm[n][x].setShapeCoordinate(TAZ[n], lus[x]) #sets a coor shape for the overlapping of the TAZ shape and landuse shape\n",
    "        \n",
    "for cbms_file in cmbs_files:\n",
    "    for row in cbms_file:\n",
    "        lat, long = getCoor(row)\n",
    "        add_info_to_respective_TGTM(lat, long, row) #adds the info of the HH to the correct zone and landuse\n",
    "        \n",
    "        \n",
    "        \n",
    "        \n",
    "\n"
   ]
  },
  {
   "cell_type": "markdown",
   "metadata": {
    "deletable": true,
    "editable": true
   },
   "source": [
    "\n",
    "\n",
    "    "
   ]
  },
  {
   "cell_type": "markdown",
   "metadata": {
    "deletable": true,
    "editable": true
   },
   "source": [
    "# Detemine landuse of each zone using the land use file"
   ]
  },
  {
   "cell_type": "markdown",
   "metadata": {
    "deletable": true,
    "editable": true
   },
   "source": [
    "# Get the corresponding trip productions and attractions per zone given the parameters"
   ]
  },
  {
   "cell_type": "code",
   "execution_count": null,
   "metadata": {
    "collapsed": true,
    "deletable": true,
    "editable": true
   },
   "outputs": [],
   "source": []
  },
  {
   "cell_type": "markdown",
   "metadata": {
    "deletable": true,
    "editable": true
   },
   "source": [
    "# MODEL FITTING"
   ]
  },
  {
   "cell_type": "markdown",
   "metadata": {
    "deletable": true,
    "editable": true
   },
   "source": [
    "### Retreival of intercepts and coefficients\n",
    "**Features for Trip production**: # of HH, # of HH members, # of employed, # of enrolled, Income, Landuse and Amenity Data\n",
    "\n",
    "**Features for Trip attraction**: # of Establishments, # of working in area, # of enrolled in area, Landuse and Amenity Data"
   ]
  },
  {
   "cell_type": "code",
   "execution_count": null,
   "metadata": {
    "collapsed": false,
    "deletable": true,
    "editable": true
   },
   "outputs": [],
   "source": [
    "dep_col_name = \"trips\"\n",
    "data_filepath = \"DummyDataRegressionHHTripsOnly2.csv\"\n",
    "regression = Regression(data_filepath)\n",
    "\n",
    "data_filepath2 = \"DummyDataRegressionAmenitiex.csv\"\n",
    "regression2 = Regression(data_filepath2)\n",
    "\n",
    "selected_feature_names = [\"no_hh\",\"avg_income\",\"mem_no\",\"no_mem_educwork\"]\n",
    "selected_feature_names_attraction = [\"sust_amt\",\"educ_amt\",\"tran_amt\",\"heal_amt\",\"fina_amt\",\"comm_amt\", \"ente_amt\",\"othe_amt\",\n",
    "                        \"comm_area\", \"park_area\",\"indu_area\",\"agri_area\",\"resi_area\",\"util_area\",\"othe_area\"]\n",
    "fitted_production_model = regression.getFittedRegressionModel(selected_feature_names, dep_col_name)\n",
    "fitted_production_model_attr = regression2.getFittedRegressionModel(selected_feature_names_attraction, dep_col_name)\n",
    "\n",
    "print(\"Prod Intercept:\"+str(fitted_production_model.intercept_)+\" Coef:\"+str(fitted_production_model.coef_))\n",
    "print(\"Attr Intercept:\"+str(fitted_production_model_attr.intercept_)+\" Coef:\"+str(fitted_production_model_attr.coef_))\n",
    "\n",
    "dummy_data = pd.read_csv('DummyDataRegressionHHTripsOnly.csv', index_col=0)\n",
    "dummy_data.head()"
   ]
  },
  {
   "cell_type": "code",
   "execution_count": null,
   "metadata": {
    "collapsed": false,
    "deletable": true,
    "editable": true
   },
   "outputs": [],
   "source": [
    "print(selected_feature_names)\n",
    "X_vals = regression.getXVals(selected_feature_names)\n",
    "Y_vals = regression.getYVals(dep_col_name)\n",
    "\n",
    "for x in range(len(X_vals.index)):\n",
    "    Predicted_vals = []\n",
    "    print(\"Test row: \"+str(x))\n",
    "    fitted_production_model2 = regression.kFoldTest(selected_feature_names, dep_col_name, x);\n",
    "    #testdframe.head()\n",
    "    #fitted_production_model2.predict(X_vals.iloc[x , :].values.reshape(1,-1))\n",
    "    for z in range(len(X_vals.index)):\n",
    "        #print(\"Actual Zone \"+str(z)+\": \"+str(Y_vals.iloc[z]))\n",
    "        #print(\"Predicted Zone \"+str(z)+\": \"+str(fitted_production_model2.predict(X_vals.iloc[z , :].values.reshape(1,-1))[0]))\n",
    "        Predicted_vals.append(fitted_production_model2.predict(X_vals.iloc[z , :].values.reshape(1,-1))[0])\n",
    "    rms = sqrt(mean_squared_error(Y_vals.values, Predicted_vals))\n",
    "    print(\"Trained using index \"+str(x)+\": RMS = \"+str(rms))"
   ]
  },
  {
   "cell_type": "code",
   "execution_count": null,
   "metadata": {
    "collapsed": false,
    "deletable": true,
    "editable": true
   },
   "outputs": [],
   "source": [
    "rms = sqrt(mean_squared_error(Y_vals.values, Predicted_vals))\n",
    "rms"
   ]
  },
  {
   "cell_type": "code",
   "execution_count": null,
   "metadata": {
    "collapsed": false,
    "deletable": true,
    "editable": true
   },
   "outputs": [],
   "source": [
    "dep_col_name = \"trips\"\n",
    "data_filepath = \"DummyDataRegression.csv\"\n",
    "regression = Regression(data_filepath)\n",
    "\n",
    "data_filepath2 = \"DummyDataRegressionAmenitiex.csv\"\n",
    "regression2 = Regression(data_filepath2)\n",
    "\n",
    "selected_feature_names = [\"no_hh\",\"avg_income\",\"mem_no\",\"no_mem_educwork\",\"comm_area\",\"park_area\", \"indu_area\",\"agri_area\",\n",
    "                         \"resi_area\", \"util_area\",\"othe_area\"]\n",
    "selected_feature_names_attraction = [\"sust_amt\",\"educ_amt\",\"tran_amt\",\"heal_amt\",\"fina_amt\",\"comm_amt\", \"ente_amt\",\"othe_amt\",\n",
    "                        \"comm_area\", \"park_area\",\"indu_area\",\"agri_area\",\"resi_area\",\"util_area\",\"othe_area\"]\n",
    "fitted_production_model = regression.getFittedRegressionModel(selected_feature_names, dep_col_name)\n",
    "fitted_production_model_attr = regression2.getFittedRegressionModel(selected_feature_names_attraction, dep_col_name)\n",
    "\n",
    "print(\"Prod Intercept:\"+str(fitted_production_model.intercept_)+\" Coef:\"+str(fitted_production_model.coef_))\n",
    "print(\"Attr Intercept:\"+str(fitted_production_model_attr.intercept_)+\" Coef:\"+str(fitted_production_model_attr.coef_))\n",
    "\n",
    "dummy_data = pd.read_csv('DummyDataRegression.csv', index_col=0)\n",
    "dummy_data.head()"
   ]
  },
  {
   "cell_type": "code",
   "execution_count": null,
   "metadata": {
    "collapsed": false,
    "deletable": true,
    "editable": true
   },
   "outputs": [],
   "source": [
    "print(selected_feature_names)\n",
    "X_vals = regression.getXVals(selected_feature_names)\n",
    "Y_vals = regression.getYVals(dep_col_name)\n",
    "\n",
    "for x in range(len(X_vals.index)):\n",
    "    Predicted_vals = []\n",
    "    print(\"Test row: \"+str(x))\n",
    "    fitted_production_model2 = regression.kFoldTest(selected_feature_names, dep_col_name, x);\n",
    "    #testdframe.head()\n",
    "    #fitted_production_model2.predict(X_vals.iloc[x , :].values.reshape(1,-1))\n",
    "    for z in range(len(X_vals.index)):\n",
    "        #print(\"Actual Zone \"+str(z)+\": \"+str(Y_vals.iloc[z]))\n",
    "        #print(\"Predicted Zone \"+str(z)+\": \"+str(fitted_production_model2.predict(X_vals.iloc[z , :].values.reshape(1,-1))[0]))\n",
    "        Predicted_vals.append(fitted_production_model2.predict(X_vals.iloc[z , :].values.reshape(1,-1))[0])\n",
    "    rms = sqrt(mean_squared_error(Y_vals.values, Predicted_vals))\n",
    "    print(\"Trained using index \"+str(x)+\": RMS = \"+str(rms))"
   ]
  },
  {
   "cell_type": "code",
   "execution_count": null,
   "metadata": {
    "collapsed": false,
    "deletable": true,
    "editable": true
   },
   "outputs": [],
   "source": [
    "print(selected_feature_names)\n",
    "X_vals = regression.getXVals(selected_feature_names)\n",
    "Y_vals = regression.getYVals(dep_col_name)\n",
    "Predicted_vals = []\n",
    "for x in range(len(X_vals.index)):\n",
    "    \n",
    "    print(\"Test row: \"+str(x))\n",
    "    fitted_production_model2 = regression.kFoldTest(selected_feature_names, dep_col_name, x);\n",
    "    #testdframe.head()\n",
    "    #fitted_production_model2.predict(X_vals.iloc[x , :].values.reshape(1,-1))\n",
    "    #fitted\n",
    "    print(\"Actual Zone \"+str(x)+\": \"+str(Y_vals.iloc[x]))\n",
    "    print(\"Predicted Zone \"+str(x)+\": \"+str(fitted_production_model2.predict(X_vals.iloc[x , :].values.reshape(1,-1))[0]))\n",
    "    Predicted_vals.append(fitted_production_model2.predict(X_vals.iloc[x , :].values.reshape(1,-1))[0])"
   ]
  },
  {
   "cell_type": "code",
   "execution_count": null,
   "metadata": {
    "collapsed": false,
    "deletable": true,
    "editable": true
   },
   "outputs": [],
   "source": [
    "rms = sqrt(mean_squared_error(Y_vals.values, Predicted_vals))\n",
    "rms"
   ]
  },
  {
   "cell_type": "code",
   "execution_count": null,
   "metadata": {
    "collapsed": false,
    "deletable": true,
    "editable": true
   },
   "outputs": [],
   "source": [
    "fitted_production_model2, testdframe = regression.kFoldTest(selected_feature_names, dep_col_name, 1)\n",
    "X_vals = regression.getXVals(selected_feature_names)\n",
    "testdframe.head()\n",
    "fitted_production_model2.predict(X_vals.loc[1 , :])"
   ]
  },
  {
   "cell_type": "markdown",
   "metadata": {
    "deletable": true,
    "editable": true
   },
   "source": [
    "### Prediction of Trip Production & Attraction using the intercepts and coefficients"
   ]
  },
  {
   "cell_type": "code",
   "execution_count": null,
   "metadata": {
    "collapsed": false,
    "deletable": true,
    "editable": true
   },
   "outputs": [],
   "source": [
    "trip_gen = TripGeneration(\"DummyDataRegressionFused.csv\", \"trips\")\n",
    "prod_col_names = selected_feature_names\n",
    "attr_col_names = selected_feature_names_attraction\n",
    "trip_gen.setProductionParameters(prod_col_names, fitted_production_model.intercept_, fitted_production_model.coef_)\n",
    "trip_gen.setAttractionParameters(attr_col_names, fitted_production_model_attr.intercept_, fitted_production_model_attr.coef_)\n",
    "print(\"Example:\")\n",
    "print(\"Overall Trip Production: \"+str(trip_gen.getWholeTripProductionScore()))\n",
    "print(\"Overall Trip Attraction: \"+str(trip_gen.getWholeTripAttractionScore()))"
   ]
  },
  {
   "cell_type": "markdown",
   "metadata": {
    "collapsed": true,
    "deletable": true,
    "editable": true
   },
   "source": [
    "### Computing for Trip Balancing Factor"
   ]
  },
  {
   "cell_type": "code",
   "execution_count": null,
   "metadata": {
    "collapsed": false,
    "deletable": true,
    "editable": true
   },
   "outputs": [],
   "source": [
    "trip_gen.doTripBalancing()\n",
    "print(\"Balancing Factor: \"+str(trip_gen.getBalancingFactor()))\n"
   ]
  },
  {
   "cell_type": "markdown",
   "metadata": {
    "deletable": true,
    "editable": true
   },
   "source": [
    "### Zonal-level Trip Production & Attraction Scores"
   ]
  },
  {
   "cell_type": "code",
   "execution_count": null,
   "metadata": {
    "collapsed": false,
    "deletable": true,
    "editable": true
   },
   "outputs": [],
   "source": [
    "zonal_df, productions, attractions = trip_gen.printAllZonalTripsProductionAttraction()\n",
    "display(zonal_df)"
   ]
  },
  {
   "cell_type": "markdown",
   "metadata": {
    "deletable": true,
    "editable": true
   },
   "source": [
    "# Model Validation"
   ]
  },
  {
   "cell_type": "code",
   "execution_count": null,
   "metadata": {
    "collapsed": false,
    "deletable": true,
    "editable": true
   },
   "outputs": [],
   "source": [
    "from sklearn.model_selection import train_test_split\n",
    "from sklearn import datasets\n",
    "from sklearn import svm\n",
    "\n",
    "fitted_production_model = regression.getFittedRegressionModel(selected_feature_names, dep_col_name)\n",
    "X_digits = regression.getSubTable(selected_feature_names)\n",
    "Y_digits = regression.getSubTable(dep_col_name)\n",
    "scores = cross_validation.cross_val_score(fitted_production_model, X_digits, Y_digits, scoring='r2', cv=10,)\n",
    "#X_digits.shape, Y_digits.shape\n",
    "scores"
   ]
  },
  {
   "cell_type": "markdown",
   "metadata": {
    "collapsed": true,
    "deletable": true,
    "editable": true
   },
   "source": [
    "# MODEL OUTPUT"
   ]
  },
  {
   "cell_type": "markdown",
   "metadata": {
    "collapsed": true,
    "deletable": true,
    "editable": true
   },
   "source": [
    "# Trip Distribution Class"
   ]
  },
  {
   "cell_type": "code",
   "execution_count": 16,
   "metadata": {
    "collapsed": false,
    "deletable": true,
    "editable": true
   },
   "outputs": [],
   "source": [
    "\n",
    "from IPython.display import HTML, display\n",
    "import math as math\n",
    "\n",
    "\n",
    "class TripDistribution:\n",
    "\n",
    "    def __init__(self, productions, attractions, travelTime, fare, income):\n",
    "        self.productions = productions\n",
    "        self.attractions = attractions\n",
    "        self.travelTime = travelTime\n",
    "        self.fare = fare\n",
    "        self.income = income\n",
    "        self.row = len(productions)\n",
    "        self.col = len(attractions)\n",
    "        self.possibleError = sum(productions) * 0.2\n",
    "        self.error = 0\n",
    "\n",
    "    def getGeneralizedCost(self, cost):\n",
    "        return 1.0 / (cost * cost)\n",
    "    \n",
    "    def computeCost(self, travelTime, fare, income):\n",
    "        costMatrix = [[1 for x in range(self.row)] for y in range(self.col)]\n",
    "        for x in range(self.row):\n",
    "            for y in range(self.col):\n",
    "                costMatrix[x][y] = travelTime[x][y] * income[x] + fare[x][y]\n",
    "        return costMatrix\n",
    "\n",
    "    def getTripDistribution(self):\n",
    "        distributions = [[self.attractions[y] for x in range(self.row)] for y in range(self.col)]\n",
    "        finalDistributions = [[self.attractions[y] for x in range(self.row)] for y in range(self.col)]\n",
    "        #costMatrix = [[1 for x in range(self.row)] for y in range(self.col)]\n",
    "        costMatrix = self.computeCost(self.travelTime, self.fare, self.income)\n",
    "        A = [1 for x in range(self.row)]\n",
    "        B = [1 for x in range(self.col)]\n",
    "        A = self.computeA(B, costMatrix)\n",
    "        B = self.computeB(A, costMatrix)\n",
    "        \n",
    "        currentBalancingFactor = 0  # 0 for A, 1 for B\n",
    "        isConvergent = False\n",
    "        shit =0\n",
    "        smallestError = 1000000000\n",
    "\n",
    "#         while isConvergent == False:\n",
    "        for x in range(1000):\n",
    "            if currentBalancingFactor == 0:\n",
    "                tempA = self.computeA(B, costMatrix)\n",
    "                A = tempA\n",
    "                currentBalancingFactor = 1\n",
    "            elif currentBalancingFactor == 1:\n",
    "                tempB = self.computeB(A, costMatrix)\n",
    "                B = tempB\n",
    "                currentBalancingFactor = 0\n",
    "            distributions = self.computeDistributions(A, B, costMatrix)\n",
    "            error = self.getError(distributions)\n",
    "            if(smallestError > error and error != 0):\n",
    "                print(error)\n",
    "                print(distributions)\n",
    "                smallestError = error\n",
    "                finalDistributions = distributions\n",
    "                self.error = error\n",
    "                shit = x\n",
    "#             isConvergent = self.checkIfConvergent(distributions)\n",
    "        print(shit)\n",
    "        return finalDistributions\n",
    "\n",
    "    def computeDistributions(self, A, B, costMatrix):\n",
    "        distributions = [[self.attractions[y] for x in range(self.row)] for y in range(self.col)]\n",
    "        for x in range(self.row):\n",
    "            for y in range(self.col):\n",
    "                distributions[x][y] = A[x] * self.productions[x] * B[y] * self.attractions[y] * self.getGeneralizedCost(costMatrix[x][y])\n",
    "        return distributions\n",
    "\n",
    "    def checkIfConvergent(self, distributions):\n",
    "        error = self.getError(distributions)\n",
    "        if error <= self.possibleError:\n",
    "            self.error = error\n",
    "            return True\n",
    "        return False\n",
    "\n",
    "    def getError(self, distributions):\n",
    "        error = 0\n",
    "        derivedProductions = [0 for x in range(self.row)]\n",
    "        derivedAttractions = [0 for x in range(self.col)]\n",
    "\n",
    "        for x in range(self.row):\n",
    "            for y in range(self.col):\n",
    "                derivedProductions[x] += distributions[x][y]\n",
    "                derivedAttractions[y] += distributions[x][y]\n",
    "\n",
    "        for x in range(self.row):\n",
    "            error += abs(derivedProductions[x] - self.productions[x])\n",
    "            error += abs(derivedAttractions[x] - self.attractions[x])\n",
    "\n",
    "        return error\n",
    "    \n",
    "    \n",
    "    \n",
    "\n",
    "    def computeA(self, B, costMatrix):\n",
    "        A = [1 for x in range(self.row)]\n",
    "        for x in range(0, self.row):\n",
    "            sum = 0.0\n",
    "            for y in range(0, self.col):\n",
    "                sum += B[y] * self.attractions[y] * self.getGeneralizedCost(costMatrix[x][y])\n",
    "            A[x] = 1.0 / sum\n",
    "        return A\n",
    "\n",
    "    def computeB(self, A, costMatrix):\n",
    "        B = [1 for x in range(self.col)]\n",
    "        for x in range(0, self.row):\n",
    "            sum = 0.0\n",
    "            for y in range(0, self.col):\n",
    "                sum += A[y] * self.productions[y] * self.getGeneralizedCost(costMatrix[x][y])\n",
    "            B[x] = 1.0 / sum\n",
    "        return B"
   ]
  },
  {
   "cell_type": "markdown",
   "metadata": {
    "deletable": true,
    "editable": true
   },
   "source": [
    "# Data"
   ]
  },
  {
   "cell_type": "markdown",
   "metadata": {
    "deletable": true,
    "editable": true
   },
   "source": [
    "## The result from trip generation (trip production and attraction) will be passed to trip distribution"
   ]
  },
  {
   "cell_type": "code",
   "execution_count": 17,
   "metadata": {
    "collapsed": false,
    "deletable": true,
    "editable": true
   },
   "outputs": [
    {
     "name": "stdout",
     "output_type": "stream",
     "text": [
      "3.8972919033706943\n",
      "3.8972919033706943\n",
      "3.8137190579442217\n",
      "2.9675509846852295\n",
      "4.409695353064177\n",
      "3.8137190579442217\n",
      "2.576917469557242\n",
      "5.7204275656322325\n",
      "2.9675509846852295\n",
      "2.576917469557242\n",
      "15.963942541851932\n",
      "13.070287911910077\n",
      "11.820569829043027\n",
      "10.3391369702715\n",
      "2.173848992699761\n",
      "18.12430372972955\n",
      "15.240532763981337\n",
      "13.946521878486973\n",
      "12.511710142114591\n",
      "2.173848992699761\n",
      "15.684105726598903\n",
      "12.183710760129195\n",
      "12.143735071696549\n",
      "10.01221924018903\n",
      "3.9702638544076576\n",
      "2.0676624512310244\n",
      "16.89257423199684\n",
      "13.601889082590215\n",
      "13.054326989667869\n",
      "11.172150066414227\n",
      "2.5970341357325517\n",
      "2.0676624512310244\n",
      "Productions: 592941\n",
      "Attractions: 612940.9899999999\n",
      "[[5.335, 10.67, 17.65, 25.33, 54.35, 53.55, 47.0, 48.65], [12.0, 8.185, 56.65, 16.37, 45.6, 45.14, 38.58, 40.23], [17.65, 16.22, 5.335, 10.67, 43.72, 46.08, 40.25, 40.57], [16.67, 18.67, 10.67, 5.335, 42.02, 41.64, 35.08, 36.73], [52.0, 43.33, 40.97, 39.41, 5.335, 10.67, 11.31, 8.0], [52.77, 44.1, 45.35, 40.27, 8.0, 4.0, 10.64, 8.03], [45.17, 36.5, 37.83, 34.5, 11.01, 10.24, 4.0, 8.0], [47.43, 38.76, 40.09, 36.03, 9.33, 8.0, 8.0, 4.0]]\n",
      "[[13.5, 27.0, 53.67, 56.67, 140.67, 142.67, 114.67, 123.67], [28.33, 25.5, 50.67, 51.0, 124.33, 132.0, 98.33, 106.67], [52.33, 50.33, 18.5, 37.0, 127.67, 143.0, 109.0, 117.33], [57.0, 51.0, 37.0, 18.5, 122.67, 130.0, 96.33, 104.67], [151.33, 133.67, 136.0, 131.33, 15.835, 31.67, 38.67, 26.67], [157.0, 139.33, 149.67, 137.33, 32.0, 16.0, 41.67, 30.33], [120.0, 102.0, 113.0, 96.67, 37.0, 40.67, 7.5, 15.0], [129.0, 111.0, 121.67, 105.33, 29.0, 29.67, 15.0, 7.5]]\n"
     ]
    }
   ],
   "source": [
    "def computeYearlyToHourlyRate(salary):\n",
    "    return salary/(30.00 * 8)\n",
    "\n",
    "def deg2rad(deg):\n",
    "    return deg * (math.pi/180)\n",
    "\n",
    "def getDistance(lat1, lng1, lat2, lng2):\n",
    "    dlon = lng2 - lng1\n",
    "    dlat = lat2 - lat1\n",
    "    a = ((math.sin(deg2rad(dlat/2)))*(math.sin(deg2rad(dlat/2)))) + math.cos(deg2rad(lat1)) *math.cos(deg2rad(lat2)) *((math.sin(deg2rad(dlon/2)))*(math.sin(deg2rad(dlon/2))))\n",
    "    c = 2 * math.atan2(math.sqrt(a), math.sqrt(1-a))\n",
    "    d =  6373* c\n",
    "    return d\n",
    "\n",
    "\n",
    "\n",
    "def computeNearestZones(lat, lng) :\n",
    "    nearestZones = [None] * len(lat)\n",
    "    for currZone in range(len(lat)):\n",
    "        shortest = 1000\n",
    "        nearestZoneIndex = 0\n",
    "        for currPoint in range(len(lat)):\n",
    "            if(currZone != currPoint): \n",
    "                distance = getDistance(lat[currZone], lng[currZone], lat[currPoint], lng[currPoint])\n",
    "                if(distance < shortest):\n",
    "                    shortest = distance\n",
    "                    nearestZoneIndex = currPoint\n",
    "        nearestZones[currZone] = nearestZoneIndex\n",
    "        shortest = 1000\n",
    "        nearestZoneIndex = 0\n",
    "    return nearestZones\n",
    "\n",
    "productions = [\n",
    "    102989, \n",
    "    73253,\n",
    "    92057,\n",
    "    15821,\n",
    "    56998, \n",
    "    103039, \n",
    "    32610, \n",
    "    172844\n",
    "]\n",
    "attractions = [\n",
    "    79305.39, \n",
    "    81250.91, \n",
    "    76218.9, \n",
    "    11167.77, \n",
    "    38786.66, \n",
    "    133188.75, \n",
    "    50085.41, \n",
    "    179607.21\n",
    "]\n",
    "\n",
    "nearestZones = [\n",
    "    0, \n",
    "    0,\n",
    "    0,\n",
    "    0,\n",
    "    0,\n",
    "    0,\n",
    "    0,\n",
    "    0\n",
    "]\n",
    "\n",
    "lat = [\n",
    "    14.711029630751996,\n",
    "    14.681442858628275,\n",
    "    14.708693067291241, \n",
    "    14.686174778272566, \n",
    "    14.660783607519472,\n",
    "    14.65615255044289,\n",
    "    14.630416868404804,\n",
    "    14.637488044822764\n",
    "]\n",
    "\n",
    "lng = [\n",
    "    120.960596201819,\n",
    "    120.98000062117379,\n",
    "    121.00151327979542,\n",
    "    121.00714359391715,\n",
    "    121.09957600978247,\n",
    "    121.11920195444038,\n",
    "    121.080185938878,\n",
    "    121.09795399889786\n",
    "]\n",
    "\n",
    "travelTime = [\n",
    "        [001.00, 027.00, 053.67, 056.67, 140.67, 142.67, 114.67, 123.67], \n",
    "        [028.33, 001.00, 050.67, 051.00, 124.33, 132.00, 098.33, 106.67],\n",
    "        [052.33, 050.33, 001.00, 037.00, 127.67, 143.00, 109.00, 117.33], \n",
    "        [057.00, 051.00, 037.00, 001.00, 122.67, 130.00, 096.33, 104.67],\n",
    "        [151.33, 133.67, 136.00, 131.33, 001.00, 031.67, 038.67, 026.67],\n",
    "        [157.00, 139.33, 149.67, 137.33, 032.00, 001.00, 041.67, 030.33],\n",
    "        [120.00, 102.00, 113.00, 096.67, 037.00, 040.67, 001.00, 015.00], \n",
    "        [129.00, 111.00, 121.67, 105.33, 029.00, 029.67, 015.00, 001.00]\n",
    "        ]\n",
    "\n",
    "fares = [\n",
    "        [01.00, 10.67, 17.65, 25.33, 54.35, 53.55, 47.00, 48.65], \n",
    "        [12.00, 01.00, 56.65, 16.37, 45.60, 45.14, 38.58, 40.23],\n",
    "        [17.65, 16.22, 01.00, 10.67, 43.72, 46.08, 40.25, 40.57], \n",
    "        [16.67, 18.67, 10.67, 01.00, 42.02, 41.64, 35.08, 36.73],\n",
    "        [52.00, 43.33, 40.97, 39.41, 01.00, 10.67, 11.31, 08.00], \n",
    "        [52.77, 44.10, 45.35, 40.27, 08.00, 01.00, 10.64, 08.03],\n",
    "        [45.17, 36.50, 37.83, 34.50, 11.01, 10.24, 01.00, 08.00], \n",
    "        [47.43, 38.76, 40.09, 36.03, 09.33, 08.00, 08.00, 01.00]\n",
    "        ]\n",
    "salary = [computeYearlyToHourlyRate(24570.49), \n",
    "          computeYearlyToHourlyRate(16576.02), \n",
    "          computeYearlyToHourlyRate(21038.92), \n",
    "          computeYearlyToHourlyRate(16985.72), \n",
    "          computeYearlyToHourlyRate(29038.00), \n",
    "          computeYearlyToHourlyRate(30548.05), \n",
    "          computeYearlyToHourlyRate(27276.91), \n",
    "          computeYearlyToHourlyRate(39221.55)];\n",
    "            \n",
    "        \n",
    "\n",
    "    \n",
    "nearestZones = computeNearestZones(lat, lng)\n",
    "\n",
    "for x in range(len(productions)): \n",
    "    fares[x][x] = fares[x][nearestZones[x]] / 2\n",
    "    travelTime[x][x] = travelTime[x][nearestZones[x]] / 2\n",
    "\n",
    "td = TripDistribution(productions, attractions, travelTime, fares, salary)\n",
    "\n",
    "print(\"Productions: \" + str(productions))\n",
    "print(\"Attractions: \" + str(attractions))"
   ]
  },
  {
   "cell_type": "code",
   "execution_count": 18,
   "metadata": {
    "collapsed": false,
    "deletable": true,
    "editable": true
   },
   "outputs": [
    {
     "name": "stdout",
     "output_type": "stream",
     "text": [
      "114352.19823434926\n",
      "[[70247.60194165187, 17836.721207754777, 5177.564512112711, 708.6143610108078, 254.6933718503441, 1315.0642623606677, 387.26335068681584, 1170.4769925720236], [23736.093182243825, 29843.442113731326, 8462.379962851233, 1307.0744610905363, 485.8564548234489, 2290.4495442977154, 784.6063446350653, 2344.09793632684], [7160.260973292083, 7864.446024604624, 66726.54687384782, 2551.3182231600554, 473.42226570015305, 2004.7133857232973, 656.1343787187459, 1991.1578749532155], [1916.3023408660729, 2426.1493864133236, 5291.625275353656, 3237.241098819201, 162.61928987149386, 769.3646502220797, 266.4070552224317, 793.2909032317413], [383.6269028994707, 499.54438025502157, 552.9853331748842, 90.69803214254205, 13791.707489510116, 18308.65946094935, 2339.4193596117966, 17282.35904145682], [375.1736559394566, 483.97094188391424, 480.5255466163973, 87.30670726551925, 3559.303455143602, 75600.29813911818, 2121.61059029445, 14071.810963738464], [141.2557134776913, 198.63381027852913, 185.46322087212465, 38.74260267879761, 585.6159743788661, 2575.820424227002, 14347.711886000912, 12605.756368086071], [286.9227825456013, 393.67700018474875, 375.4126149241916, 76.60039509537114, 2235.8321721657653, 11349.45401957744, 8425.874471613517, 118446.22654389337]]\n",
      "105944.46088634462\n",
      "[[69645.54208109835, 18033.086919943187, 5487.468596671094, 748.7480883910118, 278.5062437459045, 1529.7555279276612, 374.6512163760823, 1114.2130001492656], [23532.662053544842, 30171.990656737573, 8968.897285703963, 1381.1031189520645, 531.2822051454485, 2664.377667399396, 759.0538089199216, 2231.4188239951377], [7098.893672431227, 7951.026261330945, 70720.47671794819, 2695.8170022736927, 517.6854661270881, 2331.993554608298, 634.7658322358054, 1895.444339104292], [1899.8785955960418, 2452.85903481728, 5608.356488059553, 3420.5884297125135, 177.82358156280765, 894.9675391198277, 257.7308880720072, 755.1579765260273], [380.3390133020995, 505.0438993009237, 586.0843728972973, 95.83488837381766, 15081.180243680265, 21297.645918120903, 2263.230711447113, 16451.60839507359], [371.95821523066377, 489.29901185678636, 509.2874923695958, 92.25148933691193, 3892.0849350816143, 87942.45064776717, 2052.5153927437073, 13395.38906867969], [140.0450757789211, 200.8205837984899, 196.5641563697245, 40.93686395751689, 640.3688643993878, 2996.336867855321, 13880.44518225261, 11999.806669563071], [284.4636994498892, 398.01101783368, 397.88300664747635, 80.93880473413182, 2444.87406716663, 13202.313014151214, 8151.46621600941, 112752.60109455774]]\n",
      "96181.50399651687\n",
      "[[69563.88939057081, 18011.944862296255, 5481.035068239627, 747.8702533693059, 278.1797219980503, 1527.9620369019297, 374.2119739075421, 1112.9066927164508], [23202.06078935016, 29748.116033811726, 8842.896717882975, 1361.7005355949473, 523.818427003155, 2626.946856421441, 748.3901556430533, 2200.0704842925543], [6764.690744585736, 7576.706490035774, 67391.08604548969, 2568.902869358251, 493.31378140181494, 2222.207564054083, 604.8822180533109, 1806.210287021375], [1825.6438681932277, 2357.017478293998, 5389.21889893466, 3286.9343898041025, 170.87540859338392, 859.9981092547133, 247.6604644861736, 725.6513824397438], [357.43604519256974, 474.6315463340877, 550.7919857571469, 90.06397527933977, 14173.033095754823, 20015.160324450448, 2126.945189857431, 15460.937837374158], [331.03165996394296, 435.4614509944991, 453.25059938098894, 82.10105973975115, 3463.838904543996, 78266.14449468291, 1826.6771635629702, 11921.494667130923], [142.76114263252796, 204.7153450254973, 200.37636745071813, 41.73080304225235, 652.788327468712, 3054.448523718675, 14149.645772584952, 12232.533718076662], [292.4730893144718, 409.2174579467561, 409.0858424641192, 83.21772623990793, 2513.71219875113, 13574.03872906345, 8380.979756817082, 115927.27519940308]]\n",
      "94161.92715487359\n",
      "[[70036.38048444946, 18300.172638832526, 5711.18285508028, 773.8615904757777, 292.2838834782945, 1655.8878997588677, 371.69234572909704, 1097.9249344944365], [23359.653574610453, 30224.146435088198, 9214.208538286066, 1409.0248107606747, 550.3768678115466, 2846.883239113521, 743.3511268141814, 2170.45351434999], [6810.637803579442, 7697.9492143382595, 70220.82698183782, 2658.1820192782593, 518.3255873787073, 2408.2578802355174, 600.8094507783011, 1781.8953952201412], [1838.0439866436548, 2394.7345550572013, 5615.511339495159, 3401.1678673189067, 179.53906796615692, 931.9998982551854, 245.99292755920095, 715.882788507896], [359.86381841606624, 482.2266170674103, 573.919653242093, 93.19404113245815, 14891.62877919135, 21690.893485934488, 2112.6241327880575, 15252.805355036618], [333.2800896089081, 442.4297204816066, 472.2825196356493, 84.95438397731873, 3639.461135022691, 84818.83613567994, 1814.3778584226907, 11761.009559154762], [143.73080331476913, 207.9912071920014, 208.79013910694718, 43.181107242357164, 685.8857506629945, 3310.1767116657243, 14054.373978282536, 12067.861455966762], [294.45962185471524, 415.7657701321167, 426.26329163179963, 86.1098588875043, 2641.161469716662, 14710.500614196259, 8324.549299668024, 114366.68218676234]]\n",
      "87608.92859070281\n",
      "[[69222.66827390052, 18087.553513909617, 5644.827923633067, 764.8705400946864, 288.8880060316329, 1636.6490956685673, 367.37386727268256, 1085.1687794892155], [22940.91151189569, 29682.35238058314, 9049.035853799018, 1383.7668182228279, 540.5108848181862, 2795.8503864195854, 730.0259127578465, 2131.54625150371], [6570.465899510281, 7426.486955801528, 67744.54352529057, 2564.4432747810943, 500.0472341849604, 2323.3325182845797, 579.6223675802587, 1719.058224566731], [1782.880324616287, 2322.863409099667, 5446.977739704426, 3299.0914882471916, 174.15071353178948, 904.0285723399815, 238.61014955410127, 694.3976029065595], [345.5350019631525, 463.02564066727797, 551.0677049517042, 89.48330323229958, 14298.683880198321, 20827.220019600314, 2028.5050802921578, 14645.479369094764], [312.04312876283944, 414.23762937280185, 442.18817649755607, 79.54100051254193, 3407.550810838717, 79414.08992315852, 1698.7637766318694, 11011.585554225147], [143.52967204734412, 207.70015242746237, 208.4979663483183, 43.12068128892079, 684.9259489562058, 3305.5445797770562, 14034.706836751806, 12050.974162402888], [295.1360394872882, 416.7208460646546, 427.2424819355915, 86.30766606569397, 2647.2286112056577, 14744.292826305826, 8343.67202995631, 114629.39949897898]]\n",
      "83539.21085306717\n",
      "[[69053.5412182855, 18123.248324884382, 5730.90645178626, 773.3816431906163, 293.80162985559673, 1688.074062047702, 363.77701823065513, 1071.2696517192876], [22812.883491228695, 29647.386979120107, 9158.130213555254, 1394.7640064237696, 547.9753553625551, 2874.628604153268, 720.6048290539555, 2097.626521102392], [6473.769681515576, 7349.589688880245, 67931.37292241996, 2561.0760920490043, 502.2953737341414, 2366.8500931114436, 566.8858212223832, 1676.16032706726], [1761.9119462421259, 2305.7078255972583, 5478.385647541486, 3304.643943166891, 175.4584692692395, 923.7245101431416, 234.06706008325855, 679.1005979566011], [340.2206288820737, 457.9227604357633, 552.2154440999649, 89.30564465056392, 14353.298960645112, 21203.043459401895, 1982.595313038372, 14270.397788846252], [303.73833555623816, 404.9982302367077, 438.05344830960945, 78.47735203450266, 3381.5389595529755, 79924.6698233225, 1641.3732685677699, 10607.150582419696], [143.98874954463977, 209.28701107207021, 212.8745208320448, 43.84709121057513, 700.5151912281467, 3428.6897473551417, 13975.893817302436, 11963.903871454952], [296.5808430100644, 420.6149154841575, 436.948519347431, 87.91005041338052, 2712.0604677974625, 15319.447419244461, 8322.761593000827, 113993.6761917022]]\n",
      "81610.48329925144\n",
      "[[68971.89397426946, 18140.556873118236, 5775.5551082361935, 777.6661829749863, 295.8787625900829, 1710.8712010904596, 361.76090986173585, 1063.816987858843], [22751.57058283557, 29630.97885348214, 9215.570583485256, 1400.3773849159209, 551.0177928978713, 2909.059236028677, 715.531157142853, 2079.8944092117063], [6425.625716344866, 7310.543259158119, 68031.92949295758, 2559.13867457473, 502.67901448159205, 2383.793082279013, 560.2139986811533, 1654.0767615229388], [1751.719921114614, 2297.2757014035747, 5495.627467798336, 3307.640491449833, 175.88475619750795, 931.8855088691245, 231.69728813200786, 671.2688650350038], [338.0257671980376, 455.94217953114173, 553.5819595882123, 89.32668793388281, 14378.523484184601, 21376.02702825859, 1961.206937703533, 14096.365955602003], [300.2020442261343, 401.1396014322108, 436.8429747285062, 78.08570484044148, 3369.7821704980734, 80155.71816969012, 1615.1824025365308, 10423.04693204797], [144.32421771322907, 210.22352034809813, 215.28736949177411, 44.245040542918225, 707.9484022701389, 3487.212904049519, 13947.309105600098, 11922.449439984226], [297.5101465120029, 422.83578256173246, 442.2554306075183, 88.77902541700779, 2743.0356439569196, 15593.421171148697, 8312.397871647036, 113689.76492814909]]\n",
      "80698.33941272143\n",
      "[[68934.31759090697, 18148.862827301535, 5798.499947406335, 779.7871138513635, 296.5991602525708, 1720.0235129772052, 360.50628775383376, 1059.403559550142], [22723.62394346361, 29624.27185453886, 9245.85413862775, 1403.236301424861, 551.9816352399661, 2922.621098174922, 712.5619676049666, 2069.8490609250675], [6401.917951802031, 7290.8775594961235, 68087.29239025306, 2558.044000181692, 502.3174073204791, 2389.0045295569334, 556.5145373686786, 1642.0316240209952], [1746.9132499748523, 2293.2703899002695, 5505.319803441636, 3309.363565008813, 175.9250429078411, 934.8091774644606, 230.38568907314138, 667.0130822289851], [337.2934143261162, 455.4107731999316, 554.879371899953, 89.42496880687335, 14390.144008989297, 21455.50710035678, 1951.233992168204, 14015.10637025285], [298.83388359989993, 399.71201863748325, 436.81761786476403, 77.98431106416665, 3364.4247280700692, 80260.97706500246, 1603.1185731721312, 10338.13180258903], [144.60598829357502, 210.84526131652962, 216.6826876716888, 44.47655844482943, 711.4452208417649, 3514.627218021111, 13933.665153515347, 11902.651911895156], [298.2081307992457, 424.2529841683698, 445.29669303242736, 89.2786435652149, 2757.6677759777967, 15722.182999573772, 8307.529631151057, 113545.58314173215]]\n",
      "80267.92147851721\n",
      "[[68918.63487915587, 18152.690263027194, 5810.187755154459, 780.8056355995618, 296.69708698313036, 1722.8809361469484, 359.6309080042705, 1056.4725359285742], [22712.18120113243, 29622.33771243667, 9261.932511842873, 1404.6811729544563, 552.0114157428594, 2926.668019555422, 710.6354514954213, 2063.552514839872], [6390.535437867214, 7281.105804850545, 68118.72822952164, 2557.4129113374906, 501.7039861669981, 2389.262202618682, 554.3022444214763, 1634.9491832159297], [1744.7887814073358, 2291.485842188077, 5510.961751814908, 3310.409364189034, 175.8091063536935, 935.4362261906496, 229.59900390984305, 664.5099239464586], [337.2284849375139, 455.52276216966857, 556.0172853030658, 89.54490632004737, 14395.399085125126, 21491.902870711492, 1946.5641594289943, 13976.820446004089], [298.4484238420728, 399.3714831511123, 437.2329875182206, 78.00319468899805, 3361.9592614558737, 80308.88366509837, 1597.526519716922, 10298.574464528441], [144.8572630271044, 211.30425165548914, 217.54621648794827, 44.62218898983998, 713.0789940189061, 3527.385791395053, 13927.15300431365, 11893.052290112008], [298.78654534598724, 425.2622724518699, 447.1614436855617, 89.58903094406328, 2764.5578365251304, 15782.438265152836, 8305.321241926888, 113476.88336396766]]\n",
      "80065.56773922835\n",
      "[[68913.62167354215, 18154.293907595486, 5816.076695214391, 781.2675763732153, 296.52662510546867, 1722.940999679578, 358.959492950786, 1054.3130295389376], [22708.75073263379, 29622.63480628394, 9270.593985244817, 1405.402151825412, 551.6510669013886, 2926.54086712874, 709.2531835321837, 2059.1732064497323], [6385.34721737918, 7276.366560603009, 68137.36769917367, 2557.0344410478133, 501.04510840300895, 2387.5793582749197, 552.8584263058316, 1630.4011888125483], [1743.9854927324775, 2290.799834075517, 5514.408753098667, 3311.083730957766, 175.63997987490023, 935.1061747336869, 229.08150784805267, 662.8945266789319], [337.4516957006819, 455.8977024853516, 556.9897544819244, 89.66370979538688, 14397.69858164657, 21508.442608563364, 1944.3574652459295, 13958.498482080782], [298.4966118176732, 399.5003133184902, 437.77865917910725, 78.06762368077858, 3360.814693745155, 80330.4939866769, 1594.9174816114694, 10279.930629970419], [145.08480584590777, 211.67026332629518, 218.1246474525031, 44.72197583862071, 713.8406989945006, 3533.306815929483, 13924.000496100281, 11888.250296512411], [299.28897752509596, 426.04600580146797, 448.3999809885465, 89.79930561494743, 2767.8169862818327, 15810.678849295346, 8304.35959209935, 113443.61030239338]]\n",
      "79971.14260576706\n",
      "[[68913.64394938595, 18154.808227019024, 5818.9953524596995, 781.4521377587677, 296.2543942267831, 1721.8386732684162, 358.4108593999487, 1052.5964064813784], [22709.08099700068, 29623.89528185677, 9275.378104536056, 1405.7541444285482, 551.1524524692147, 2924.710074853791, 708.1792315728565, 2055.8497132820867], [6383.242314060254, 7274.171659943483, 68149.06628515453, 2556.794556201022, 500.4199385790037, 2385.264477443772, 551.8312903761032, 1627.209478241832], [1743.8187548877675, 2290.644969520519, 5516.646759753833, 3311.548209873614, 175.46189708585638, 934.418252028578, 228.7094374281027, 661.7517194217303], [337.7839756114119, 456.3593940919132, 557.8178145483214, 89.77317270782578, 14398.639920333362, 21515.83994659743, 1943.2967139185914, 13949.489062191149], [298.72328547609516, 399.81488499150055, 438.33081520532625, 78.14533792710813, 3360.277966447127, 80340.03578358017, 1593.688599458963, 10270.983326913707], [145.29051869795927, 211.9763230680924, 218.5434671704289, 44.79595155380672, 714.1963268588527, 3536.0516862870695, 13922.42694679763, 11885.718779566161], [299.73319859641765, 426.6903166556866, 449.2907281942634, 89.95380664832098, 2769.379427501872, 15824.010225415157, 8303.971473919371, 113426.9708230689]]\n",
      "79927.75511172996\n",
      "[[68915.8984543694, 18154.804380682777, 5820.401589446677, 781.5013417582744, 295.9567746097665, 1720.3257818367376, 357.9458716689397, 1051.1658056274662], [22711.060155324933, 29625.50161214981, 9278.124658662908, 1405.9191859705027, 550.6287325558097, 2922.2993516213946, 707.2989689661373, 2053.1673347484875], [6382.643827786782, 7273.250156196406, 68156.91452645171, 2556.632166752598, 499.85398815132385, 2382.8672689536666, 551.0456673793733, 1624.7923983281166], [1743.9456374950587, 2290.7362133297647, 5518.20089833393, 3311.8893406028906, 175.29264594384023, 933.6346125857492, 228.42186588090033, 660.878785827865], [338.14237370269575, 456.82856206203934, 558.5263495103429, 89.87114293574102, 14398.96587165687, 21519.03992598096, 1942.7712181187626, 13944.854556032598], [299.0107289391852, 400.1864259665991, 438.8442681963061, 78.22289857472346, 3360.0224257141795, 80344.05512241398, 1593.100415494636, 10266.55771470039], [145.47537016790332, 212.23902977444374, 218.86723841132473, 44.8543016847462, 714.3632199644087, 3537.323940820449, 13921.59947433154, 11884.277424845188], [300.1277198072482, 427.23787649101996, 449.9761022086428, 90.07493214851537, 2770.1481703711397, 15830.398502820019, 8303.84242799179, 113418.19426816163]]\n",
      "79908.45098834207\n",
      "[[68919.00806844595, 18154.568543512436, 5821.043652119382, 781.4869685220776, 295.66734894257064, 1718.7396181646307, 357.54413738661384, 1049.9416629063485], [22713.652704483196, 29627.161747358296, 9279.78867790516, 1405.9903754155127, 550.1282269408495, 2919.806488315157, 706.5539134208791, 2050.9178661609544], [6382.755635086551, 7272.954911605015, 68162.55152337835, 2556.5145756214565, 499.351380738604, 2380.6045188768844, 550.4120173550588, 1622.8554373380884], [1744.1958365411433, 2290.931726062225, 5519.352349341791, 3312.1541171752106, 175.13844319898215, 932.8655186619957, 228.1879386046271, 660.1740704140243], [338.4899157390272, 457.27151611378486, 559.136848171517, 89.95779865451007, 14399.019703123637, 21520.32487504431, 1942.497668947657, 13942.301674205559], [299.30581480750493, 400.5580818653201, 439.30598757503367, 78.29512180372971, 3359.8976221625453, 80345.56781405467, 1592.8109811441302, 10264.258576587066], [145.64048021722803, 212.46756739322439, 219.12992959169097, 44.90235796391717, 714.4423714662945, 3537.913894648492, 13921.129515180834, 11883.373883538325], [300.4779454162659, 427.711574136619, 450.53055627964284, 90.17431515033036, 2770.543526461555, 15833.544028388413, 8303.827131883407, 113413.19092228379]]\n",
      "79900.45278889968\n",
      "[[68922.31101090508, 18154.242547058253, 5821.304111163208, 781.4449681151801, 295.39964828323076, 1717.2243800460417, 357.19373346458286, 1048.8796009644288], [22716.362643747707, 29628.74450208937, 9280.86632124239, 1406.015166351505, 549.6693672708884, 2917.4406248263963, 705.9118541942817, 2048.9895202774537], [6383.178879196255, 7272.958021866145, 68166.85461891032, 2556.4241759563156, 498.90843429668854, 2378.549509815766, 549.8827063963454, 1621.243653562167], [1744.4861183936127, 2291.162051340218, 5520.253363494673, 3312.3685661569784, 175.00060534475134, 932.1535499001375, 227.9913206266239, 659.5844247430078], [338.81147530520093, 457.67576314611654, 559.6662385150864, 90.03410281991394, 14398.959027917525, 21520.747122429853, 1942.344407154733, 13940.761862711568], [299.5857427065416, 400.90629380607214, 439.71545313997717, 78.36038060931902, 3359.8340348379093, 80345.96222895119, 1592.6618784607701, 10262.973987488198], [145.78725976016403, 212.66768552106882, 219.35007571651352, 44.94304193693645, 714.4806436959682, 3538.1877484925735, 13920.835494735908, 11882.748050140868], [300.78828138168143, 428.12511186822553, 450.99443338486, 90.25827090645438, 2770.761103598723, 15835.164892034922, 8303.85902365927, 113410.04888316586]]\n",
      "79897.70308775979\n",
      "[[68925.50234071017, 18153.8952384564, 5821.377741930138, 781.393080861769, 295.15795988865534, 1715.8352013111937, 356.88671269547416, 1047.9517241461965], [22718.96294761476, 29630.19718701126, 9281.616319516825, 1406.017638454248, 549.2570777715591, 2915.279207489512, 705.3531726644289, 2047.3164494774192], [6383.716456278689, 7273.094615355247, 68170.30125112316, 2556.351346221245, 498.5191397488878, 2376.715444872819, 549.4308922054123, 1619.870854194527], [1744.777010635313, 2291.3941629436977, 5520.988057807029, 3312.547545196921, 174.8784842946189, 931.5116463314284, 227.82278976861147, 659.0803030223823], [339.10217198928996, 458.03847214903095, 560.1275755265686, 90.10119583792815, 14398.855503214056, 21520.79069129346, 1942.2500388653202, 13939.734351124338], [299.8418537340056, 401.22276791636835, 440.0765483038312, 78.41853109304047, 3359.7994532742996, 80345.87558156817, 1592.5795577303534, 10262.18570637994], [145.91730072642724, 212.84345572022792, 219.53834565050292, 44.97806126673531, 714.4997794004153, 3538.3151134530644, 13920.632059412874, 11882.275884369752], [301.0627565693104, 428.48774608015765, 451.390783352888, 90.33045220815254, 2770.8921417323295, 15836.05970447599, 8303.907982673809, 113407.86843290737]]\n",
      "79897.3333981335\n",
      "[[68928.45356272021, 18153.558723550035, 5821.363151743, 781.3398338581621, 294.9424330091603, 1714.5868545477877, 356.6171400884119, 1047.1383004832478], [22721.359465954272, 29631.5046840644, 9282.174689127267, 1406.0099295056748, 548.890399664793, 2913.3407650643567, 704.8645553075121, 2045.8555113117227], [6384.273359237667, 7273.282850110643, 68173.15841569126, 2556.290688788163, 498.1772441321383, 2375.091771732585, 549.0402688155403, 1618.6854014920261], [1745.050892085087, 2291.6132450304863, 5521.604438201799, 3312.6999166400083, 174.77073427707202, 930.9401844346642, 227.67669122143968, 658.6438981094426], [339.36180237924145, 458.3610420336835, 560.5310264373448, 90.16017600409896, 14398.741114426779, 21520.67709486677, 1942.185752513499, 13938.981991338584], [300.0719734362416, 401.5060598539057, 440.3943335346348, 78.47000725940435, 3359.7789045365585, 80345.59837149204, 1592.5297566276347, 10261.650593259601], [146.03224459641936, 212.9980509303399, 219.70132550531787, 45.00849742957519, 714.5098760010629, 3538.374546219186, 13920.478596161041, 11881.896863157057], [301.3051469865538, 428.80641875762313, 451.73373088308034, 90.39314787303242, 2770.979426238998, 15836.600766555699, 8303.96067018563, 113406.22069251939]]\n",
      "26\n"
     ]
    },
    {
     "data": {
      "text/html": [
       "<table><tr><td>68928.45356272021</td><td>18153.558723550035</td><td>5821.363151743</td><td>781.3398338581621</td><td>294.9424330091603</td><td>1714.5868545477877</td><td>356.6171400884119</td><td>1047.1383004832478</td></tr><tr><td>22721.359465954272</td><td>29631.5046840644</td><td>9282.174689127267</td><td>1406.0099295056748</td><td>548.890399664793</td><td>2913.3407650643567</td><td>704.8645553075121</td><td>2045.8555113117227</td></tr><tr><td>6384.273359237667</td><td>7273.282850110643</td><td>68173.15841569126</td><td>2556.290688788163</td><td>498.1772441321383</td><td>2375.091771732585</td><td>549.0402688155403</td><td>1618.6854014920261</td></tr><tr><td>1745.050892085087</td><td>2291.6132450304863</td><td>5521.604438201799</td><td>3312.6999166400083</td><td>174.77073427707202</td><td>930.9401844346642</td><td>227.67669122143968</td><td>658.6438981094426</td></tr><tr><td>339.36180237924145</td><td>458.3610420336835</td><td>560.5310264373448</td><td>90.16017600409896</td><td>14398.741114426779</td><td>21520.67709486677</td><td>1942.185752513499</td><td>13938.981991338584</td></tr><tr><td>300.0719734362416</td><td>401.5060598539057</td><td>440.3943335346348</td><td>78.47000725940435</td><td>3359.7789045365585</td><td>80345.59837149204</td><td>1592.5297566276347</td><td>10261.650593259601</td></tr><tr><td>146.03224459641936</td><td>212.9980509303399</td><td>219.70132550531787</td><td>45.00849742957519</td><td>714.5098760010629</td><td>3538.374546219186</td><td>13920.478596161041</td><td>11881.896863157057</td></tr><tr><td>301.3051469865538</td><td>428.80641875762313</td><td>451.73373088308034</td><td>90.39314787303242</td><td>2770.979426238998</td><td>15836.600766555699</td><td>8303.96067018563</td><td>113406.22069251939</td></tr></table>"
      ],
      "text/plain": [
       "<IPython.core.display.HTML object>"
      ]
     },
     "metadata": {},
     "output_type": "display_data"
    }
   ],
   "source": [
    "distribution = td.getTripDistribution()\n",
    "\n",
    "display(HTML(\n",
    "    '<table><tr>{}</tr></table>'.format(\n",
    "        '</tr><tr>'.join(\n",
    "            '<td>{}</td>'.format('</td><td>'.join(str(_) for _ in row)) for row in distribution)\n",
    "        )\n",
    "))"
   ]
  },
  {
   "cell_type": "markdown",
   "metadata": {
    "deletable": true,
    "editable": true
   },
   "source": [
    "# Error"
   ]
  },
  {
   "cell_type": "code",
   "execution_count": 19,
   "metadata": {
    "collapsed": false,
    "deletable": true,
    "editable": true
   },
   "outputs": [
    {
     "name": "stdout",
     "output_type": "stream",
     "text": [
      "Error: 79897.3333981335\n"
     ]
    }
   ],
   "source": [
    "print(\"Error: \" + str(td.error))"
   ]
  },
  {
   "cell_type": "markdown",
   "metadata": {
    "deletable": true,
    "editable": true
   },
   "source": [
    "# Modal Split Class"
   ]
  },
  {
   "cell_type": "code",
   "execution_count": null,
   "metadata": {
    "collapsed": false,
    "deletable": true,
    "editable": true
   },
   "outputs": [],
   "source": [
    "import random\n",
    "class ModalSplit:\n",
    "\n",
    "    def __init__(self, od_matrix, pathToData, income, fares, travelTimes):\n",
    "        self.od_matrix = od_matrix\n",
    "        self.pathToData = pathToData\n",
    "        self.travel_costs = []\n",
    "        self.travel_probabilities = []\n",
    "        self.modes = ['jeep','bus']\n",
    "        self.income = income\n",
    "        self.fares = fares\n",
    "        self.travelTimes = travelTimes\n",
    "        self.travel_costs = [None] * len(self.modes)\n",
    "        \n",
    "    def computeGeneralizedCosts(self, mode_number):\n",
    "        costMatrix = [[1 for x in range(len(self.od_matrix))] for y in range(len(self.od_matrix))]\n",
    "        for x in range(len(self.od_matrix)):\n",
    "            for y in range(len(self.od_matrix)):\n",
    "                costMatrix[x][y] = (self.travelTimes[mode_number][x][y]/60) * self.income[x] + self.fares[mode_number][x][y]\n",
    "                if(x == 1 and y == 2):\n",
    "                    print(self.travelTimes[mode_number][x][y])\n",
    "                    print(self.income[x])\n",
    "                    print(self.fares[mode_number][x][y])\n",
    "                    print(costMatrix[x][y])\n",
    "            \n",
    "        return costMatrix\n",
    "        \n",
    "#         #data = pd.read_csv(self.pathToData, index_col=0)\n",
    "            \n",
    "#         self.travel_costs = [None] * len(self.modes)\n",
    "#         for x in range(0, len(self.modes)):\n",
    "#             self.travel_costs[x] = random.randrange(1,4)\n",
    "#         #Compute for generalized cost for each mode for this specific zone\n",
    "#         # populate self.travel_costs with the travel costs\n",
    "#         self.computeModalProbabilities()\n",
    "        \n",
    "    def computeModalProbabilities(self, mode_number, beta):\n",
    "        travel_probabilities = [[1 for x in range(len(self.od_matrix))] for y in range(len(self.od_matrix))]\n",
    "        sum = 0\n",
    "        #print(len(self.travel_costs))\n",
    "        for x in range(len(self.od_matrix)):\n",
    "            for y in range(len(self.od_matrix)):\n",
    "                sum = 0\n",
    "                for k in range(len(self.modes)):\n",
    "                    sum += math.e ** ((-beta)*self.travel_costs[k][x][y])\n",
    "                print (sum)\n",
    "                travel_probabilities[x][y] = math.e ** ((-beta)*self.travel_costs[mode_number][x][y]) / sum\n",
    "        \n",
    "        print(travel_probabilities)\n",
    "        return travel_probabilities\n",
    "        #print(self.travel_costs)\n",
    "        #print(self.travel_probabilities)\n",
    "        \n",
    "    def getBeta(self, mode_number):\n",
    "        sum = 0\n",
    "        for x in range(len(self.od_matrix)):\n",
    "            for y in range(len(self.od_matrix)):\n",
    "                sum += self.travel_costs[mode_number][x][y]\n",
    "        return 1/(sum/(len(self.od_matrix) * len(self.od_matrix)))\n",
    "    \n",
    "    def getSplittedTrips(self, mode_number):\n",
    "        splittedTrips = [[1 for x in range(len(self.od_matrix))] for y in range(len(self.od_matrix))]\n",
    "        for x in range(len(self.od_matrix)):\n",
    "            for y in range(len(self.od_matrix)):\n",
    "                splittedTrips[x][y] = self.od_matrix[x][y] * self.travel_probabilities[mode_number][x][y]\n",
    "        \n",
    "        return splittedTrips\n",
    "\n",
    "    def process_od_matrix(self):\n",
    "        #print(\"size:\"+str(len(self.od_matrix))+\",\"+str(len(self.od_matrix[0])))\n",
    "        #df = DataFrame(columns=('lib', 'qty1', 'qty2'))\n",
    "        #for i in range(5):\n",
    "            #df.loc[i] = [randint(-1,1) for n in range(3)]\n",
    "        for x in range(len(self.modes)):\n",
    "            self.travel_costs[x] = self.computeGeneralizedCosts(x)\n",
    "        \n",
    "        beta = [None] * len(self.modes)\n",
    "        for x in range(len(self.modes)):\n",
    "            beta[x] = self.getBeta(x)\n",
    "        \n",
    "        self.travel_probabilities = [None] * len(self.modes)\n",
    "        for x in range(len(self.modes)):\n",
    "            self.travel_probabilities[x] = self.computeModalProbabilities(x, beta[x]);\n",
    "        \n",
    "        final_matrices = [None] * len(self.modes)\n",
    "        for x in range(len(self.modes)):\n",
    "            final_matrices[x] = self.getSplittedTrips(x)\n",
    "            \n",
    "        return final_matrices\n",
    "                "
   ]
  },
  {
   "cell_type": "code",
   "execution_count": null,
   "metadata": {
    "collapsed": false,
    "deletable": true,
    "editable": true
   },
   "outputs": [],
   "source": [
    "fareBus = [\n",
    "    [00.00, 12.00, 12.00, 31.92, 55.08, 56.58, 38.75, 41.75],\n",
    "    [12.00, 00.00, 25.08, 16.00, 46.83, 48.33, 30.83, 33.83],\n",
    "    [12.00, 25.00, 00.00, 12.00, 48.42, 49.92, 32.42, 35.42],\n",
    "    [32.25, 16.00, 12.00, 00.00, 43.17, 44.67, 27.33, 30.33],\n",
    "    [55.08, 46.50, 47.67, 42.67, 00.00, 00.01, 00.01, 00.01],\n",
    "    [59.42, 50.83, 52.00, 47.00, 00.01, 00.00, 00.01, 00.01],\n",
    "    [34.75, 26.00, 27.33, 22.25, 09.13, 08.25, 00.00, 06.25],\n",
    "    [47.75, 39.00, 40.33, 35.25, 06.00, 06.00, 00.01, 00.00]\n",
    "]\n",
    "\n",
    "travelTimeBus = [\n",
    "    [000.00, 027.00, 062.00, 075.33, 172.33, 189.33, 130.00, 157.67],\n",
    "    [028.33, 000.00, 071.00, 054.33, 156.00, 173.33, 113.67, 141.67],\n",
    "    [062.00, 071.00, 000.00 ,037.00, 166.67, 184.33, 124.00, 152.00],\n",
    "    [076.00, 054.33, 037.00, 000.00, 154.00, 171.33, 111.67, 139.67],\n",
    "    [177.00, 159.00, 169.33, 157.33, 000.00, 036.00, 070.00, 039.00],\n",
    "    [198.67, 180.67, 191.00, 178.67, 036.00, 000.00, 079.00, 047.00],\n",
    "    [136.00, 118.00, 128.33, 116.00, 062.00, 072.50, 000.00, 033.50],\n",
    "    [165.67, 148.33, 158.33, 146.00, 034.50, 044.50, 031.00, 000.00]\n",
    "]\n",
    "\n",
    "fareJeep = [\n",
    "    [00.00, 08.00, 16.32, 21.33, 45.06, 47.37, 42.31, 42.35],\n",
    "    [08.00, 00.00, 16.22, 08.37, 41.79, 42.24, 37.18, 37.23],\n",
    "    [16.32, 16.22, 00.00, 08.00, 39.64, 43.83, 41.15, 38.91],\n",
    "    [21.33, 08.47, 08.00, 00.00, 32.68, 35.37, 31.51, 31.53],\n",
    "    [46.88, 43.99, 40.63, 32.87, 00.00, 10.67, 11.31, 08.00],\n",
    "    [50.86, 46.95, 46.64, 35.79, 08.00, 00.00, 10.64, 08.03],\n",
    "    [43.81, 37.56, 41.61, 31.76, 11.01, 10.30, 00.00, 08.00],\n",
    "    [43.88, 39.71, 39.61, 31.78, 08.00, 08.00, 08.00, 00.00]\n",
    "]\n",
    "\n",
    "travelTimeJeep = [\n",
    "    [000.00, 028.33, 053.67, 056.67, 144.67, 152.33, 118.00, 126.67], \n",
    "    [029.00, 000.00, 050.67, 047.67, 132.33, 134.67, 100.33, 109.00],\n",
    "    [053.33, 050.33, 000.00, 037.00, 132.00, 137.33, 114.33, 118.33],\n",
    "    [057.00, 047.67, 037.00, 000.00, 117.33, 122.33, 088.00, 096.67],\n",
    "    [147.67, 141.67, 133.33, 118.33, 000.00, 031.67, 038.67, 026.67],\n",
    "    [157.33, 142.67, 139.00, 124.00, 032.00, 000.00, 041.67, 030.33],\n",
    "    [121.00, 109.67, 115.00, 088.00, 037.00, 040.67, 000.00, 015.00],\n",
    "    [130.00, 115.67, 119.33, 096.33, 029.00, 029.67, 015.00, 000.00]\n",
    "]\n",
    "\n",
    "\n",
    "for x in range(len(productions)): \n",
    "    fareBus[x][x] = fareBus[x][nearestZones[x]] / 2\n",
    "    travelTimeBus[x][x] = travelTimeBus[x][nearestZones[x]] / 2\n",
    "    fareJeep[x][x] = fareJeep[x][nearestZones[x]] / 2\n",
    "    travelTimeJeep[x][x] = travelTimeJeep[x][nearestZones[x]] / 2\n",
    "\n",
    "fares = [fareJeep, fareBus]\n",
    "travelTimes = [travelTimeJeep, travelTimeBus]\n",
    "\n",
    "modal_split = ModalSplit(distribution,\"datapath\", salary, fares, travelTimes)\n",
    "list_of_dataframes_by_mode = modal_split.process_od_matrix()"
   ]
  },
  {
   "cell_type": "markdown",
   "metadata": {
    "deletable": true,
    "editable": true
   },
   "source": [
    "## Mode 1 (Jeep)"
   ]
  },
  {
   "cell_type": "code",
   "execution_count": null,
   "metadata": {
    "collapsed": false,
    "deletable": true,
    "editable": true
   },
   "outputs": [],
   "source": [
    "display(HTML(\n",
    "    '<table><tr>{}</tr></table>'.format(\n",
    "        '</tr><tr>'.join(\n",
    "            '<td>{}</td>'.format('</td><td>'.join(str(_) for _ in row)) for row in list_of_dataframes_by_mode[0])\n",
    "        )\n",
    "))"
   ]
  },
  {
   "cell_type": "markdown",
   "metadata": {
    "deletable": true,
    "editable": true
   },
   "source": [
    "## Mode 2 (Bus)"
   ]
  },
  {
   "cell_type": "code",
   "execution_count": null,
   "metadata": {
    "collapsed": false,
    "deletable": true,
    "editable": true,
    "scrolled": true
   },
   "outputs": [],
   "source": [
    "display(HTML(\n",
    "    '<table><tr>{}</tr></table>'.format(\n",
    "        '</tr><tr>'.join(\n",
    "            '<td>{}</td>'.format('</td><td>'.join(str(_) for _ in row)) for row in list_of_dataframes_by_mode[1])\n",
    "        )\n",
    "))"
   ]
  },
  {
   "cell_type": "markdown",
   "metadata": {
    "deletable": true,
    "editable": true
   },
   "source": [
    "## Mode 3"
   ]
  },
  {
   "cell_type": "code",
   "execution_count": null,
   "metadata": {
    "collapsed": false,
    "deletable": true,
    "editable": true
   },
   "outputs": [],
   "source": []
  },
  {
   "cell_type": "markdown",
   "metadata": {
    "collapsed": true,
    "deletable": true,
    "editable": true
   },
   "source": [
    "## TRIP GENERATION TESTING #7:\n",
    "Compare the results of including and excluding the landuse dataset to the travel demand model by cross-checking it with the results of other studies"
   ]
  },
  {
   "cell_type": "code",
   "execution_count": null,
   "metadata": {
    "collapsed": false,
    "deletable": true,
    "editable": true
   },
   "outputs": [],
   "source": []
  },
  {
   "cell_type": "markdown",
   "metadata": {
    "deletable": true,
    "editable": true
   },
   "source": [
    "### 1.) without LANDUSE variables"
   ]
  },
  {
   "cell_type": "code",
   "execution_count": null,
   "metadata": {
    "collapsed": false,
    "deletable": true,
    "editable": true
   },
   "outputs": [],
   "source": [
    "dep_col_name = \"trips\"\n",
    "data_filepath = \"DummyDataRegressionHHTripsOnly2.csv\"\n",
    "regression = Regression(data_filepath)\n",
    "\n",
    "data_filepath2 = \"DummyDataRegressionAmenitiex.csv\"\n",
    "regression2 = Regression(data_filepath2)\n",
    "\n",
    "selected_feature_names = [\"no_hh\",\"avg_income\",\"mem_no\",\"no_mem_educwork\"]\n",
    "selected_feature_names_attraction = [\"sust_amt\",\"educ_amt\",\"tran_amt\",\"heal_amt\",\"fina_amt\",\"comm_amt\", \"ente_amt\",\"othe_amt\",\n",
    "                        \"comm_area\", \"park_area\",\"indu_area\",\"agri_area\",\"resi_area\",\"util_area\",\"othe_area\"]\n",
    "fitted_production_model = regression.getFittedRegressionModel(selected_feature_names, dep_col_name)\n",
    "fitted_production_model_attr = regression2.getFittedRegressionModel(selected_feature_names_attraction, dep_col_name)\n",
    "\n",
    "#print(\"Prod Intercept:\"+str(fitted_production_model.intercept_)+\" Coef:\"+str(fitted_production_model.coef_))\n",
    "#print(\"Attr Intercept:\"+str(fitted_production_model_attr.intercept_)+\" Coef:\"+str(fitted_production_model_attr.coef_))\n",
    "\n",
    "dummy_data = pd.read_csv('DummyDataRegressionHHTripsOnly.csv', index_col=0)\n",
    "dummy_data.head()"
   ]
  },
  {
   "cell_type": "markdown",
   "metadata": {
    "collapsed": false,
    "deletable": true,
    "editable": true
   },
   "source": [
    "## Additional regression info:"
   ]
  },
  {
   "cell_type": "code",
   "execution_count": null,
   "metadata": {
    "collapsed": false
   },
   "outputs": [],
   "source": [
    "dep_col_name = \"trips\"\n",
    "data_filepath = \"DummyDataRegressionHHTripsOnly2.csv\"\n",
    "regression = Regression(data_filepath)\n",
    "\n",
    "data_filepath2 = \"DummyDataRegressionAmenitiex.csv\"\n",
    "regression2 = Regression(data_filepath2)\n",
    "\n",
    "selected_feature_names = [\"no_hh\",\"avg_income\",\"mem_no\",\"no_mem_educwork\"]\n",
    "selected_feature_names_attraction = [\"sust_amt\",\"educ_amt\",\"tran_amt\",\"heal_amt\",\"fina_amt\",\"comm_amt\", \"ente_amt\",\"othe_amt\",\n",
    "                        \"comm_area\", \"park_area\",\"indu_area\",\"agri_area\",\"resi_area\",\"util_area\",\"othe_area\"]\n",
    "result = regression.statsmodelsRegressionSummary(selected_feature_names, dep_col_name)\n",
    "result.summary()"
   ]
  },
  {
   "cell_type": "markdown",
   "metadata": {},
   "source": [
    "## K-fold validation (6-fold) and measuring by % RMSE values"
   ]
  },
  {
   "cell_type": "code",
   "execution_count": null,
   "metadata": {
    "collapsed": false,
    "deletable": true,
    "editable": true
   },
   "outputs": [],
   "source": [
    "totalrmse = 0\n",
    "print(selected_feature_names)\n",
    "X_vals = regression.getXVals(selected_feature_names)\n",
    "Y_vals = regression.getYVals(dep_col_name)\n",
    "regression.kFoldTest2(selected_feature_names, dep_col_name, 3)\n"
   ]
  },
  {
   "cell_type": "markdown",
   "metadata": {},
   "source": [
    "## K-fold validation (17-fold)"
   ]
  },
  {
   "cell_type": "code",
   "execution_count": null,
   "metadata": {
    "collapsed": false,
    "deletable": true,
    "editable": true
   },
   "outputs": [],
   "source": [
    "totalrmse = 0\n",
    "print(selected_feature_names)\n",
    "X_vals = regression.getXVals(selected_feature_names)\n",
    "Y_vals = regression.getYVals(dep_col_name)\n",
    "\n",
    "for x in range(len(X_vals.index)):\n",
    "    Predicted_vals = []\n",
    "    print(\"Test row: \"+str(x))\n",
    "    fitted_production_model2 = regression.kFoldTest(selected_feature_names, dep_col_name, x);\n",
    "    #testdframe.head()\n",
    "    #fitted_production_model2.predict(X_vals.iloc[x , :].values.reshape(1,-1))\n",
    "    for z in range(len(X_vals.index)):\n",
    "        #print(\"Actual Zone \"+str(z)+\": \"+str(Y_vals.iloc[z]))\n",
    "        #print(\"Predicted Zone \"+str(z)+\": \"+str(fitted_production_model2.predict(X_vals.iloc[z , :].values.reshape(1,-1))[0]))\n",
    "        Predicted_vals.append(fitted_production_model2.predict(X_vals.iloc[z , :].values.reshape(1,-1))[0])\n",
    "    rms = sqrt(mean_squared_error(Y_vals.values, Predicted_vals))\n",
    "    print(\"raw RMSE: \"+str(rms))\n",
    "    rms = rms*((100*17)/sum(Y_vals.values))\n",
    "    totalrmse += rms\n",
    "    print(\"Trained using index \"+str(x)+\": %RMSE = \"+str(rms))\n",
    "print(\"TOTAL RMSE: \"+str(totalrmse))"
   ]
  },
  {
   "cell_type": "markdown",
   "metadata": {
    "deletable": true,
    "editable": true
   },
   "source": [
    "### 2.) with LANDUSE variables"
   ]
  },
  {
   "cell_type": "code",
   "execution_count": null,
   "metadata": {
    "collapsed": false,
    "deletable": true,
    "editable": true
   },
   "outputs": [],
   "source": [
    "dummy_data = pd.read_csv('DummyDataRegression.csv', index_col=0)\n",
    "dummy_data.head()"
   ]
  },
  {
   "cell_type": "code",
   "execution_count": null,
   "metadata": {
    "collapsed": false,
    "deletable": true,
    "editable": true
   },
   "outputs": [],
   "source": [
    "dep_col_name = \"trips\"\n",
    "data_filepath = \"DummyDataRegression.csv\"\n",
    "regression = Regression(data_filepath)\n",
    "\n",
    "data_filepath2 = \"DummyDataRegressionAmenitiex.csv\"\n",
    "regression2 = Regression(data_filepath2)\n",
    "\n",
    "selected_feature_names_attraction = [\"sust_amt\",\"educ_amt\",\"tran_amt\",\"heal_amt\",\"fina_amt\",\"comm_amt\", \"ente_amt\",\"othe_amt\",\n",
    "                        \"comm_area\", \"park_area\",\"indu_area\",\"agri_area\",\"resi_area\",\"util_area\",\"othe_area\"]\n",
    "#fitted_production_model = regression.getFittedRegressionModel(selected_feature_names, dep_col_name)\n",
    "#fitted_production_model_attr = regression2.getFittedRegressionModel(selected_feature_names_attraction, dep_col_name)\n",
    "##\n",
    "\n",
    "selected_feature_names = [\"no_hh\",\"avg_income\",\"mem_no\",\"no_mem_educwork\"]\n",
    "landuse_names = [\"comm_area\",\"park_area\", \"indu_area\",\"agri_area\",\n",
    "                         \"resi_area\", \"util_area\"]\n",
    "totalrmse = 0\n",
    "print(selected_feature_names)\n",
    "X_vals = regression.getXVals(selected_feature_names+landuse_names)\n",
    "Y_vals = regression.getYVals(dep_col_name)\n",
    "best_comb = []\n",
    "best_score = 0\n",
    "initialized = False\n",
    "\n",
    "for L in range(1, len(selected_feature_names+landuse_names)+1):\n",
    "  for subset in itertools.combinations(selected_feature_names+landuse_names, L):\n",
    "    curr_cols = list(subset)\n",
    "    print(\"current: \"+str(curr_cols))\n",
    "    totalrmse = 0\n",
    "    for x in range(len(X_vals.index)):\n",
    "        Predicted_vals = []\n",
    "        #print(\"Test row: \"+str(x))\n",
    "        fitted_production_model2 = regression.kFoldTest(curr_cols, dep_col_name, x);\n",
    "        #testdframe.head()\n",
    "        #fitted_production_model2.predict(X_vals.iloc[x , :].values.reshape(1,-1))\n",
    "        for z in range(len(X_vals.index)):\n",
    "            #print(\"Actual Zone \"+str(z)+\": \"+str(Y_vals.iloc[z]))\n",
    "            #print(\"Predicted Zone \"+str(z)+\": \"+str(fitted_production_model2.predict(X_vals.iloc[z , :].values.reshape(1,-1))[0]))\n",
    "            #print(\"subset\"+str(list(subset)))\n",
    "            Predicted_vals.append(fitted_production_model2.predict(X_vals.iloc[z , :].loc[curr_cols].values.reshape(1,-1))[0])\n",
    "        rms = sqrt(mean_squared_error(Y_vals.values, Predicted_vals))\n",
    "        totalrmse += rms\n",
    "        #print(\"Trained using index \"+str(x)+\": RMSE = \"+str(rms))\n",
    "    print(\"TOTAL RMSE: \"+str(totalrmse))\n",
    "    if(initialized == False):\n",
    "        best_score = totalrmse\n",
    "        initialized = True \n",
    "        best_comb = curr_cols\n",
    "    else:\n",
    "        if(totalrmse < best_score):\n",
    "            best_score = totalrmse\n",
    "            best_comb = curr_cols\n",
    "print(\"\\n \\nBest Score: \"+str(best_score))\n",
    "print(\"Best Combination: \"+str(best_comb)) \n"
   ]
  },
  {
   "cell_type": "markdown",
   "metadata": {
    "collapsed": true,
    "deletable": true,
    "editable": true
   },
   "source": [
    "## TRIP GENERATION TESTING #6:\n",
    "Examine the effect of increasing/decreasing the number of each of the types of landuse per zone, and verify its effect to the number of trips produced and attracted per zone"
   ]
  },
  {
   "cell_type": "markdown",
   "metadata": {
    "deletable": true,
    "editable": true
   },
   "source": [
    "## Base/Original data "
   ]
  },
  {
   "cell_type": "code",
   "execution_count": null,
   "metadata": {
    "collapsed": false,
    "deletable": true,
    "editable": true
   },
   "outputs": [],
   "source": [
    "dep_col_name = \"trips\"\n",
    "data_filepath = \"DummyDataRegression.csv\"\n",
    "regression = Regression(data_filepath)\n",
    "\n",
    "selected_feature_names = [\"no_hh\",\"avg_income\",\"mem_no\",\"no_mem_educwork\",\"comm_area\",\"park_area\", \"indu_area\",\"agri_area\",\n",
    "                         \"resi_area\", \"util_area\",\"othe_area\"]\n",
    "fitted_production_model = regression.getFittedRegressionModel(selected_feature_names, dep_col_name)\n",
    "\n",
    "dummy_data = pd.read_csv('DummyDataRegression.csv', index_col=0)\n",
    "dummy_data.head()"
   ]
  },
  {
   "cell_type": "markdown",
   "metadata": {
    "deletable": true,
    "editable": true
   },
   "source": [
    "## Case 1:\n",
    "Using the 1st row of the original data (zone 1), increase the number of residential areas, and check its effect to the resulting trips produced."
   ]
  },
  {
   "cell_type": "code",
   "execution_count": null,
   "metadata": {
    "collapsed": false,
    "deletable": true,
    "editable": true
   },
   "outputs": [],
   "source": [
    "data_filepath2 = \"DummyDataRegressionEXP6.csv\"\n",
    "regression2 = Regression(data_filepath2)\n",
    "dummy_data = pd.read_csv(data_filepath2, index_col=0)\n",
    "dummy_data.head()"
   ]
  },
  {
   "cell_type": "markdown",
   "metadata": {
    "deletable": true,
    "editable": true
   },
   "source": [
    "## Case 1 Result:\n",
    "The predicted number of trips produced from zone 1, given the original number of residential areas."
   ]
  },
  {
   "cell_type": "code",
   "execution_count": null,
   "metadata": {
    "collapsed": false,
    "deletable": true,
    "editable": true
   },
   "outputs": [],
   "source": [
    "X_vals = regression.getXVals(selected_feature_names)\n",
    "fitted_production_model.predict(X_vals.iloc[0 , :].values.reshape(1,-1))[0]"
   ]
  },
  {
   "cell_type": "markdown",
   "metadata": {
    "deletable": true,
    "editable": true
   },
   "source": [
    "The predicted number of trips produced from zone 1, given that the number of residential areas were increased."
   ]
  },
  {
   "cell_type": "code",
   "execution_count": null,
   "metadata": {
    "collapsed": false,
    "deletable": true,
    "editable": true
   },
   "outputs": [],
   "source": [
    "X_vals = regression2.getXVals(selected_feature_names)\n",
    "fitted_production_model.predict(X_vals.iloc[0 , :].values.reshape(1,-1))[0]"
   ]
  },
  {
   "cell_type": "markdown",
   "metadata": {
    "deletable": true,
    "editable": true
   },
   "source": [
    "# Scatter plots for the zonal trips produced of other studies"
   ]
  },
  {
   "cell_type": "markdown",
   "metadata": {
    "deletable": true,
    "editable": true
   },
   "source": [
    "## 1.) HHIS from MUCEP"
   ]
  },
  {
   "cell_type": "code",
   "execution_count": null,
   "metadata": {
    "collapsed": false,
    "deletable": true,
    "editable": true
   },
   "outputs": [],
   "source": [
    "fig = plt.figure(figsize=(14,8))\n",
    "ax1 = fig.add_subplot(221)\n",
    "ax1.grid()\n",
    "hhisSum = sum(Y_vals.values)\n",
    "mark1 = ax1.plot(range(0, 17), Y_vals.values, label=\"DOTR Zonal Trips\", ls=\"dotted\", marker=\"o\")\n",
    "ax1.legend(bbox_to_anchor=(1.05, 1), loc=2, borderaxespad=0.)\n",
    "plt.show()"
   ]
  },
  {
   "cell_type": "markdown",
   "metadata": {
    "deletable": true,
    "editable": true
   },
   "source": [
    "## 2.) A study based on MUCEP"
   ]
  },
  {
   "cell_type": "code",
   "execution_count": null,
   "metadata": {
    "collapsed": false,
    "deletable": true,
    "editable": true
   },
   "outputs": [],
   "source": [
    "FILONE_MUCEP_TRIP_PROD = [326411,93639,535638,63112,231470,608551,84204,157800,29288,200924,153585\n",
    "                        ,159682,7882,1313553,37197,134726,120622]\n",
    "filoneSum = sum(FILONE_MUCEP_TRIP_PROD)\n",
    "ratio = hhisSum/filoneSum\n",
    "FILONE_MUCEP_TRIP_PROD = [x * ratio for x in FILONE_MUCEP_TRIP_PROD]\n",
    "print(str(sum(FILONE_MUCEP_TRIP_PROD)) + \" \" + str(hhisSum))\n",
    "fig = plt.figure(figsize=(14,8))\n",
    "ax1 = fig.add_subplot(221)\n",
    "ax1.grid()\n",
    "mark1 = ax1.plot(range(0, 17), FILONE_MUCEP_TRIP_PROD, label=\"Filone Stury Zonal Trips\", ls=\"dotted\", marker=\"o\")\n",
    "ax1.legend(bbox_to_anchor=(1.05, 1), loc=2, borderaxespad=0.)\n",
    "plt.show()\n",
    "difference = myFormattedList = [ round(elem, 1) for elem in (FILONE_MUCEP_TRIP_PROD - Y_vals.values)]\n",
    "print(Y_vals.values)\n",
    "print(FILONE_MUCEP_TRIP_PROD)\n",
    "print([ round(elem, 1) for elem in FILONE_MUCEP_TRIP_PROD - Y_vals.values ])\n"
   ]
  },
  {
   "cell_type": "markdown",
   "metadata": {
    "collapsed": true,
    "deletable": true,
    "editable": true
   },
   "source": [
    "# SCRATCH CELLS:"
   ]
  },
  {
   "cell_type": "code",
   "execution_count": null,
   "metadata": {
    "collapsed": false,
    "deletable": true,
    "editable": true
   },
   "outputs": [],
   "source": [
    "dep_col_name = \"trips\"\n",
    "data_filepath = \"DummyDataRegression.csv\"\n",
    "regression = Regression(data_filepath)\n",
    "\n",
    "data_filepath2 = \"DummyDataRegressionAmenitiex.csv\"\n",
    "regression2 = Regression(data_filepath2)\n",
    "\n",
    "selected_feature_names = [\"no_hh\",\"avg_income\",\"mem_no\",\"no_mem_educwork\",\"comm_area\",\"park_area\", \"indu_area\",\"agri_area\",\n",
    "                         \"resi_area\", \"util_area\",\"othe_area\"]\n",
    "selected_feature_names_attraction = [\"sust_amt\",\"educ_amt\",\"tran_amt\",\"heal_amt\",\"fina_amt\",\"comm_amt\", \"ente_amt\",\"othe_amt\",\n",
    "                        \"comm_area\", \"park_area\",\"indu_area\",\"agri_area\",\"resi_area\",\"util_area\",\"othe_area\"]\n",
    "fitted_production_model = regression.getFittedRegressionModel(selected_feature_names, dep_col_name)\n",
    "fitted_production_model_attr = regression2.getFittedRegressionModel(selected_feature_names_attraction, dep_col_name)\n",
    "\n",
    "print(\"Prod Intercept:\"+str(fitted_production_model.intercept_)+\" Coef:\"+str(fitted_production_model.coef_))\n",
    "print(\"Attr Intercept:\"+str(fitted_production_model_attr.intercept_)+\" Coef:\"+str(fitted_production_model_attr.coef_))\n",
    "\n",
    "dummy_data = pd.read_csv('DummyDataRegression.csv', index_col=0)\n",
    "dummy_data.head()"
   ]
  },
  {
   "cell_type": "code",
   "execution_count": null,
   "metadata": {
    "collapsed": false,
    "deletable": true,
    "editable": true
   },
   "outputs": [],
   "source": [
    "totalrmse = 0\n",
    "print(selected_feature_names)\n",
    "X_vals = regression.getXVals(selected_feature_names)\n",
    "Y_vals = regression.getYVals(dep_col_name)\n",
    "\n",
    "for x in range(len(X_vals.index)):\n",
    "    Predicted_vals = []\n",
    "    print(\"Test row: \"+str(x))\n",
    "    fitted_production_model2 = regression.kFoldTest(selected_feature_names, dep_col_name, x);\n",
    "    #testdframe.head()\n",
    "    #fitted_production_model2.predict(X_vals.iloc[x , :].values.reshape(1,-1))\n",
    "    for z in range(len(X_vals.index)):\n",
    "        #print(\"Actual Zone \"+str(z)+\": \"+str(Y_vals.iloc[z]))\n",
    "        #print(\"Predicted Zone \"+str(z)+\": \"+str(fitted_production_model2.predict(X_vals.iloc[z , :].values.reshape(1,-1))[0]))\n",
    "        Predicted_vals.append(fitted_production_model2.predict(X_vals.iloc[z , :].values.reshape(1,-1))[0])\n",
    "    rms = sqrt(mean_squared_error(Y_vals.values, Predicted_vals))\n",
    "    totalrmse += rms\n",
    "    print(\"Trained using index \"+str(x)+\": RMSE = \"+str(rms))\n",
    "print(\"TOTAL RMSE: \"+str(totalrmse))"
   ]
  },
  {
   "cell_type": "code",
   "execution_count": null,
   "metadata": {
    "collapsed": true,
    "deletable": true,
    "editable": true
   },
   "outputs": [],
   "source": [
    "dep_col_name = \"trips\"\n",
    "data_filepath = \"DummyDataRegression.csv\"\n",
    "regression = Regression(data_filepath)\n",
    "\n",
    "data_filepath2 = \"DummyDataRegressionAmenitiex.csv\"\n",
    "regression2 = Regression(data_filepath2)\n",
    "\n",
    "selected_feature_names = [\"no_hh\",\"avg_income\",\"mem_no\",\"no_mem_educwork\",\"comm_area\",\"park_area\", \"indu_area\",\"agri_area\",\n",
    "                         \"resi_area\", \"util_area\",\"othe_area\"]\n",
    "selected_feature_names_attraction = [\"sust_amt\",\"educ_amt\",\"tran_amt\",\"heal_amt\",\"fina_amt\",\"comm_amt\", \"ente_amt\",\"othe_amt\",\n",
    "                        \"comm_area\", \"park_area\",\"indu_area\",\"agri_area\",\"resi_area\",\"util_area\",\"othe_area\"]\n",
    "fitted_production_model = regression.getFittedRegressionModel(selected_feature_names, dep_col_name)\n",
    "fitted_production_model_attr = regression2.getFittedRegressionModel(selected_feature_names_attraction, dep_col_name)\n",
    "\n",
    "#print(\"Prod Intercept:\"+str(fitted_production_model.intercept_)+\" Coef:\"+str(fitted_production_model.coef_))\n",
    "#print(\"Attr Intercept:\"+str(fitted_production_model_attr.intercept_)+\" Coef:\"+str(fitted_production_model_attr.coef_))\n",
    "\n",
    "dummy_data = pd.read_csv('DummyDataRegression.csv', index_col=0)\n",
    "dummy_data.head()"
   ]
  },
  {
   "cell_type": "code",
   "execution_count": null,
   "metadata": {
    "collapsed": true
   },
   "outputs": [],
   "source": []
  },
  {
   "cell_type": "code",
   "execution_count": null,
   "metadata": {
    "collapsed": true
   },
   "outputs": [],
   "source": []
  },
  {
   "cell_type": "code",
   "execution_count": null,
   "metadata": {
    "collapsed": true
   },
   "outputs": [],
   "source": []
  }
 ],
 "metadata": {
  "anaconda-cloud": {},
  "kernelspec": {
   "display_name": "Python [default]",
   "language": "python",
   "name": "python3"
  },
  "language_info": {
   "codemirror_mode": {
    "name": "ipython",
    "version": 3
   },
   "file_extension": ".py",
   "mimetype": "text/x-python",
   "name": "python",
   "nbconvert_exporter": "python",
   "pygments_lexer": "ipython3",
   "version": "3.5.2"
  }
 },
 "nbformat": 4,
 "nbformat_minor": 2
}
