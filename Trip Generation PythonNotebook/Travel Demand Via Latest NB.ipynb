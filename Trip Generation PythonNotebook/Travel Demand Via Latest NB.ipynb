{
 "cells": [
  {
   "cell_type": "code",
   "execution_count": 71,
   "metadata": {
    "collapsed": false
   },
   "outputs": [],
   "source": [
    "import pandas as pd\n",
    "import matplotlib.pyplot as plt\n",
    "from sklearn.feature_selection import RFECV\n",
    "import statsmodels.formula.api as smf\n",
    "from sklearn import linear_model, cross_validation\n",
    "import scipy.stats as prr"
   ]
  },
  {
   "cell_type": "markdown",
   "metadata": {},
   "source": [
    "## Regression Class"
   ]
  },
  {
   "cell_type": "code",
   "execution_count": 72,
   "metadata": {
    "collapsed": true
   },
   "outputs": [],
   "source": [
    "class Regression:\n",
    "    def __init__(self, pathToData):\n",
    "        self.data = pd.read_csv(pathToData, index_col=0)\n",
    "\n",
    "    def getDataFrame(self):\n",
    "        return self.data\n",
    "\n",
    "    \n",
    "    \n",
    "    # get collinearity (r^2 value) of a pair of columns\n",
    "    def getCollinearityScore(self, dependentCol, independentCol):\n",
    "        array = self.data.values\n",
    "        X = array[:, independentCol]\n",
    "        Y = array[:, dependentCol]\n",
    "\n",
    "        return prr.pearsonr(X, Y)\n",
    "        # GET SUBTABLE CONTAINING ONLY THE INDEPENDENT COLUMN AND DEPENDENT COLUMN\n",
    "        # df2 = self.data.iloc[:, [independentCol, dependentCol]]\n",
    "        # CREATE FITTED MODEL USING ORDINARY LEAST SQUARES REGRESSION\n",
    "        # lm = smf.ols(formula='Sales ~ TV', data=df2).fit()\n",
    "        # RETURN RSQUARED VALUE FOR THE MODEL\n",
    "        # return lm.rsquared\n",
    "\n",
    "    # print collinearities (r^2 value) of each pair of columns\n",
    "    def printAllCollinearities(self):\n",
    "        array = self.data.values\n",
    "        length_col = self.data.shape[1]\n",
    "        while(0 != length_col-1):\n",
    "            for x in range(0, length_col-1):\n",
    "                X = array[:, x]\n",
    "                Y = array[:, length_col-1]\n",
    "\n",
    "                print(\"Collinearity between \"+self.data.columns.values[x]+\" & \"+self.data.columns.values[length_col-1]+\" = \"+str(prr.pearsonr(X, Y)))\n",
    "            length_col -= 1\n",
    "\n",
    "    def getSubTable(self, col_names):\n",
    "        array = self.data\n",
    "        return array.loc[:, col_names]\n",
    "            \n",
    "    def getFittedRegressionModel(self, col_names, dependent_col_name):\n",
    "        array = self.data\n",
    "        X = array.loc[:, col_names]\n",
    "        Y = array.loc[:, dependent_col_name]\n",
    "        model = linear_model.LinearRegression()\n",
    "        model.fit(X, Y)\n",
    "        m = model.coef_\n",
    "        b = model.intercept_\n",
    "        # print(\"Intercept=\" + str(b) + \" Coefficient=\" + str(m))\n",
    "        return model\n",
    "\n",
    "    def getBestFeaturesRCEV(self, col_names, dependent_col_name):\n",
    "        array = self.data\n",
    "        X = array.loc[:, col_names]\n",
    "        Y = array.loc[:, dependent_col_name]\n",
    "        feature_names = self.data.columns.values\n",
    "        model = linear_model.LinearRegression()\n",
    "        selector = RFECV(estimator=model, cv=10, scoring='neg_mean_squared_error')\n",
    "        selector.fit(X, Y)\n",
    "        print(\"Optimal number of features: \" + str(selector.n_features_))\n",
    "        print(feature_names[selector.support_])\n"
   ]
  },
  {
   "cell_type": "markdown",
   "metadata": {},
   "source": [
    "## Trip Generation Class"
   ]
  },
  {
   "cell_type": "code",
   "execution_count": 73,
   "metadata": {
    "collapsed": false
   },
   "outputs": [],
   "source": [
    "class TripGeneration:\n",
    "\n",
    "    def __init__(self, pathToData, dependent_col_name):\n",
    "        self.pathToData = pathToData\n",
    "        self.dependent_col_name = dependent_col_name\n",
    "        self.production_col_names = []\n",
    "        self.production_constant = 0\n",
    "        self.production_intercepts = []\n",
    "        self.attraction_col_names = []\n",
    "        self.attraction_constant = 0\n",
    "        self.attraction_intercepts = []\n",
    "        self.production_score = 0\n",
    "        self.attraction_score = 0\n",
    "        self.balancing_factor = 0\n",
    "        \n",
    "    def printAttributes(self):\n",
    "        print(\"Attributes\")\n",
    "        print(self.production_col_names)\n",
    "        print(self.production_constant)\n",
    "        print(self.production_intercepts)\n",
    "        print(self.attraction_col_names)\n",
    "        print(self.attraction_constant)\n",
    "        print(self.attraction_intercepts)\n",
    "\n",
    "    def setProductionParameters(self, production_col_names, production_constant, production_intercepts):\n",
    "        self.production_col_names = production_col_names\n",
    "        self.production_constant = production_constant\n",
    "        self.production_intercepts = production_intercepts\n",
    "        \n",
    "    def setAttractionParameters(self, attraction_col_names, attraction_constant, attraction_intercepts):\n",
    "        self.attraction_col_names = attraction_col_names\n",
    "        self.attraction_constant = attraction_constant\n",
    "        self.attraction_intercepts = attraction_intercepts\n",
    "        \n",
    "    \n",
    "    # get trip production score for 'zone'\n",
    "    def getWholeTripProductionScore(self):\n",
    "        data = pd.read_csv(self.pathToData, index_col=0)\n",
    "        # implement specific way to get sub-table(data) just for specific 'zone' i.e: all rows related to zone1\n",
    "        sub_table = data.loc[:, self.production_col_names]\n",
    "        length_rows = sub_table.shape[0]\n",
    "        for x in range(0, length_rows):\n",
    "            row_values = sub_table.iloc[x, :].values\n",
    "            self.production_score += self.production_constant\n",
    "            for j in range(0,len(row_values)):\n",
    "                self.production_score += row_values[j]*self.production_intercepts[j]\n",
    "\n",
    "        return self.production_score\n",
    "\n",
    "    # get trip attraction score for 'zone'\n",
    "    def getWholeTripAttractionScore(self):\n",
    "        data = pd.read_csv(self.pathToData, index_col=0)\n",
    "        # implement specific way to get sub-table(data) just for specific 'zone' i.e: all rows related to zone1\n",
    "        sub_table = data.loc[:, self.attraction_col_names]\n",
    "        length_rows = sub_table.shape[0]\n",
    "        for x in range(0, length_rows):\n",
    "            row_values = sub_table.iloc[x, :].values\n",
    "            self.attraction_score += self.attraction_constant\n",
    "            for j in range(0,len(row_values)):\n",
    "                self.attraction_score += row_values[j]*self.attraction_intercepts[j]\n",
    "\n",
    "        return self.attraction_score\n",
    "    \n",
    "    def getZoneTripProductionScore(self, zone_number):\n",
    "        self.production_score = 0\n",
    "        data = pd.read_csv(self.pathToData, index_col=0)\n",
    "        # implement specific way to get sub-table(data) just for specific 'zone' i.e: all rows related to zone1\n",
    "        row_values = data.loc[zone_number, self.production_col_names].values\n",
    "        \n",
    "        self.production_score += self.production_constant\n",
    "        for j in range(0,len(row_values)):\n",
    "            self.production_score += row_values[j]*self.production_intercepts[j]\n",
    "\n",
    "        return self.production_score\n",
    "    \n",
    "    def getZoneTripAttractionScore(self, zone_number):\n",
    "        self.attraction_score = 0\n",
    "        data = pd.read_csv(self.pathToData, index_col=0)\n",
    "        # implement specific way to get sub-table(data) just for specific 'zone' i.e: all rows related to zone1\n",
    "        row_values = data.loc[zone_number, self.production_col_names].values\n",
    "        \n",
    "        self.attraction_score += self.attraction_constant\n",
    "        for j in range(0,len(row_values)):\n",
    "            self.attraction_score += row_values[j]*self.attraction_intercepts[j]\n",
    "\n",
    "        return self.attraction_score\n",
    "\n",
    "    def doTripBalancing(self):\n",
    "        self.balancing_factor = self.production_score/self.attraction_score\n",
    "        self.attraction_score = self.balancing_factor * self.attraction_score\n",
    "        self.production_score = self.balancing_factor * self.production_score\n",
    "        # Implement trip balancing here VOID\n",
    "        \n",
    "    def getBalancingFactor(self):\n",
    "        return self.balancing_factor\n",
    "    \n",
    "    def printAllZonalTripsProductionAttraction(self):\n",
    "        total_production = 0\n",
    "        total_attraction = 0\n",
    "        data = pd.read_csv(self.pathToData, index_col=0)\n",
    "        length_rows = data.shape[0]\n",
    "        for x in range(1, length_rows+1):\n",
    "            attr_score = 0\n",
    "            prod_score = 0\n",
    "            attr_row_values = data.loc[x, self.attraction_col_names].values\n",
    "            prod_row_values = data.loc[x, self.production_col_names].values\n",
    "            attr_score += self.attraction_constant\n",
    "            prod_score += self.production_constant\n",
    "            for j in range(0,len(attr_row_values)):\n",
    "                attr_score += attr_row_values[j]*self.attraction_intercepts[j]\n",
    "            total_attraction += attr_score\n",
    "            for j in range(0,len(prod_row_values)):\n",
    "                prod_score += prod_row_values[j]*self.production_intercepts[j]\n",
    "            total_production += prod_score\n",
    "            print(\"Zone \"+str(x)+\": Production=\"+str(prod_score)+\" , Attraction=\"+str(attr_score))\n",
    "        print(\"Total Production=\"+str(total_production)+\" , Total Attraction=\"+str(total_attraction))\n",
    "        \n",
    "    def getTripProductionScores(self):\n",
    "        productionScores = []\n",
    "        total_production = 0\n",
    "        total_attraction = 0\n",
    "        data = pd.read_csv(self.pathToData, index_col=0)\n",
    "        length_rows = data.shape[0]\n",
    "        for x in range(1, length_rows+1):\n",
    "            prod_score = 0\n",
    "            prod_row_values = data.loc[x, self.production_col_names].values\n",
    "            prod_score += self.production_constant\n",
    "            for j in range(0,len(prod_row_values)):\n",
    "                prod_score += prod_row_values[j]*self.production_intercepts[j]\n",
    "            total_production += prod_score\n",
    "            productionScores.append(prod_score)\n",
    "        return productionScores\n",
    "    \n",
    "    def getProductionSubTable(self):\n",
    "        data = pd.read_csv(self.pathToData, index_col=0)\n",
    "        return data.loc[:, self.production_col_names]\n",
    "\n",
    "        \n"
   ]
  },
  {
   "cell_type": "markdown",
   "metadata": {
    "collapsed": true
   },
   "source": [
    "# DATA\n",
    "### Expected available parameters from the MMUTIS Update and Enhancement Project (MUCEP) Database"
   ]
  },
  {
   "cell_type": "code",
   "execution_count": 74,
   "metadata": {
    "collapsed": false
   },
   "outputs": [
    {
     "data": {
      "text/html": [
       "<div>\n",
       "<table border=\"1\" class=\"dataframe\">\n",
       "  <thead>\n",
       "    <tr style=\"text-align: right;\">\n",
       "      <th></th>\n",
       "      <th>Trips</th>\n",
       "      <th>no_Household</th>\n",
       "      <th># Cars owned</th>\n",
       "      <th>no_HH_mem</th>\n",
       "      <th>Income</th>\n",
       "      <th>Employed in HH</th>\n",
       "      <th>Works_in</th>\n",
       "      <th>Establishments</th>\n",
       "      <th>Enrolled</th>\n",
       "      <th>Landuse_ind_1</th>\n",
       "      <th>Landuse_ind_2</th>\n",
       "    </tr>\n",
       "  </thead>\n",
       "  <tbody>\n",
       "    <tr>\n",
       "      <th>1</th>\n",
       "      <td>5869</td>\n",
       "      <td>105</td>\n",
       "      <td>1</td>\n",
       "      <td>9</td>\n",
       "      <td>216290</td>\n",
       "      <td>3</td>\n",
       "      <td>1402</td>\n",
       "      <td>67</td>\n",
       "      <td>3</td>\n",
       "      <td>0</td>\n",
       "      <td>1</td>\n",
       "    </tr>\n",
       "    <tr>\n",
       "      <th>2</th>\n",
       "      <td>5708</td>\n",
       "      <td>66</td>\n",
       "      <td>1</td>\n",
       "      <td>4</td>\n",
       "      <td>231440</td>\n",
       "      <td>3</td>\n",
       "      <td>1997</td>\n",
       "      <td>70</td>\n",
       "      <td>8</td>\n",
       "      <td>1</td>\n",
       "      <td>1</td>\n",
       "    </tr>\n",
       "    <tr>\n",
       "      <th>3</th>\n",
       "      <td>2565</td>\n",
       "      <td>102</td>\n",
       "      <td>0</td>\n",
       "      <td>13</td>\n",
       "      <td>161121</td>\n",
       "      <td>1</td>\n",
       "      <td>3755</td>\n",
       "      <td>37</td>\n",
       "      <td>0</td>\n",
       "      <td>0</td>\n",
       "      <td>0</td>\n",
       "    </tr>\n",
       "    <tr>\n",
       "      <th>4</th>\n",
       "      <td>5412</td>\n",
       "      <td>78</td>\n",
       "      <td>4</td>\n",
       "      <td>14</td>\n",
       "      <td>177915</td>\n",
       "      <td>1</td>\n",
       "      <td>1234</td>\n",
       "      <td>41</td>\n",
       "      <td>9</td>\n",
       "      <td>0</td>\n",
       "      <td>0</td>\n",
       "    </tr>\n",
       "    <tr>\n",
       "      <th>5</th>\n",
       "      <td>3445</td>\n",
       "      <td>99</td>\n",
       "      <td>5</td>\n",
       "      <td>15</td>\n",
       "      <td>257947</td>\n",
       "      <td>3</td>\n",
       "      <td>1931</td>\n",
       "      <td>47</td>\n",
       "      <td>9</td>\n",
       "      <td>0</td>\n",
       "      <td>1</td>\n",
       "    </tr>\n",
       "  </tbody>\n",
       "</table>\n",
       "</div>"
      ],
      "text/plain": [
       "   Trips  no_Household  # Cars owned  no_HH_mem  Income  Employed in HH  \\\n",
       "1   5869           105             1          9  216290               3   \n",
       "2   5708            66             1          4  231440               3   \n",
       "3   2565           102             0         13  161121               1   \n",
       "4   5412            78             4         14  177915               1   \n",
       "5   3445            99             5         15  257947               3   \n",
       "\n",
       "   Works_in  Establishments  Enrolled  Landuse_ind_1  Landuse_ind_2  \n",
       "1      1402              67         3              0              1  \n",
       "2      1997              70         8              1              1  \n",
       "3      3755              37         0              0              0  \n",
       "4      1234              41         9              0              0  \n",
       "5      1931              47         9              0              1  "
      ]
     },
     "execution_count": 74,
     "metadata": {},
     "output_type": "execute_result"
    }
   ],
   "source": [
    "dummy_data = pd.read_csv('DummyDemoData.csv', index_col=0)\n",
    "dummy_data.head()"
   ]
  },
  {
   "cell_type": "markdown",
   "metadata": {},
   "source": [
    "### Fused Zonal and Amenity data (OpenStreetMap)"
   ]
  },
  {
   "cell_type": "code",
   "execution_count": 75,
   "metadata": {
    "collapsed": false
   },
   "outputs": [
    {
     "data": {
      "text/html": [
       "<div>\n",
       "<table border=\"1\" class=\"dataframe\">\n",
       "  <thead>\n",
       "    <tr style=\"text-align: right;\">\n",
       "      <th></th>\n",
       "      <th>Sustenance</th>\n",
       "      <th>Education</th>\n",
       "      <th>Transportation</th>\n",
       "      <th>Financial</th>\n",
       "      <th>Healthcare</th>\n",
       "      <th>Entertainment</th>\n",
       "      <th>Others</th>\n",
       "    </tr>\n",
       "  </thead>\n",
       "  <tbody>\n",
       "    <tr>\n",
       "      <th>1</th>\n",
       "      <td>9</td>\n",
       "      <td>9</td>\n",
       "      <td>15</td>\n",
       "      <td>11</td>\n",
       "      <td>5</td>\n",
       "      <td>2</td>\n",
       "      <td>12</td>\n",
       "    </tr>\n",
       "    <tr>\n",
       "      <th>2</th>\n",
       "      <td>0</td>\n",
       "      <td>13</td>\n",
       "      <td>10</td>\n",
       "      <td>8</td>\n",
       "      <td>11</td>\n",
       "      <td>3</td>\n",
       "      <td>3</td>\n",
       "    </tr>\n",
       "    <tr>\n",
       "      <th>3</th>\n",
       "      <td>12</td>\n",
       "      <td>15</td>\n",
       "      <td>2</td>\n",
       "      <td>5</td>\n",
       "      <td>12</td>\n",
       "      <td>2</td>\n",
       "      <td>12</td>\n",
       "    </tr>\n",
       "    <tr>\n",
       "      <th>4</th>\n",
       "      <td>15</td>\n",
       "      <td>5</td>\n",
       "      <td>14</td>\n",
       "      <td>10</td>\n",
       "      <td>0</td>\n",
       "      <td>7</td>\n",
       "      <td>14</td>\n",
       "    </tr>\n",
       "    <tr>\n",
       "      <th>5</th>\n",
       "      <td>5</td>\n",
       "      <td>1</td>\n",
       "      <td>13</td>\n",
       "      <td>10</td>\n",
       "      <td>4</td>\n",
       "      <td>0</td>\n",
       "      <td>4</td>\n",
       "    </tr>\n",
       "  </tbody>\n",
       "</table>\n",
       "</div>"
      ],
      "text/plain": [
       "   Sustenance  Education  Transportation  Financial  Healthcare  \\\n",
       "1           9          9              15         11           5   \n",
       "2           0         13              10          8          11   \n",
       "3          12         15               2          5          12   \n",
       "4          15          5              14         10           0   \n",
       "5           5          1              13         10           4   \n",
       "\n",
       "   Entertainment  Others  \n",
       "1              2      12  \n",
       "2              3       3  \n",
       "3              2      12  \n",
       "4              7      14  \n",
       "5              0       4  "
      ]
     },
     "execution_count": 75,
     "metadata": {},
     "output_type": "execute_result"
    }
   ],
   "source": [
    "dummy_data_amenities = pd.read_csv('AmenitiesData.csv', index_col=0)\n",
    "dummy_data_amenities.head()"
   ]
  },
  {
   "cell_type": "markdown",
   "metadata": {},
   "source": [
    "# DATA PREPARATION (Example Plan)"
   ]
  },
  {
   "cell_type": "markdown",
   "metadata": {
    "collapsed": true
   },
   "source": [
    "## Collinearity Checking using Peasrson Correlation (correlation coefficient, 2-tailed p-value)"
   ]
  },
  {
   "cell_type": "code",
   "execution_count": 76,
   "metadata": {
    "collapsed": false
   },
   "outputs": [
    {
     "name": "stdout",
     "output_type": "stream",
     "text": [
      "All collinearities:\n",
      "Collinearity between TV & Sales = (0.78222442486160637, 1.4673897001947305e-42)\n",
      "Collinearity between Radio & Sales = (0.57622257457105519, 4.3549660017668541e-19)\n",
      "Collinearity between Newspaper & Sales = (0.22829902637616534, 0.001148195868888206)\n",
      "Collinearity between TV & Newspaper = (0.056647874965057021, 0.42560175788196242)\n",
      "Collinearity between Radio & Newspaper = (0.35410375076117534, 2.6888350787190535e-07)\n",
      "Collinearity between TV & Radio = (0.054808664465830104, 0.44080606378843956)\n"
     ]
    }
   ],
   "source": [
    "data_filepath = \"Advertising.csv\"\n",
    "regression = Regression(data_filepath)\n",
    "array = regression.getDataFrame().values\n",
    "print(\"All collinearities:\")\n",
    "regression.printAllCollinearities()"
   ]
  },
  {
   "cell_type": "markdown",
   "metadata": {},
   "source": [
    "### Checking for Optimal Features using Recursive Feature Elimination with Cross-Validation"
   ]
  },
  {
   "cell_type": "code",
   "execution_count": 77,
   "metadata": {
    "collapsed": false
   },
   "outputs": [
    {
     "name": "stdout",
     "output_type": "stream",
     "text": [
      "Optimal number of features: 2\n",
      "['TV' 'Radio']\n"
     ]
    },
    {
     "name": "stderr",
     "output_type": "stream",
     "text": [
      "C:\\Users\\xtiangabe\\Anaconda3\\lib\\site-packages\\ipykernel\\__main__.py:60: VisibleDeprecationWarning: boolean index did not match indexed array along dimension 0; dimension is 4 but corresponding boolean dimension is 3\n"
     ]
    }
   ],
   "source": [
    "col_names = regression.getDataFrame().columns.values[0:3]\n",
    "dep_col_name = \"Sales\"\n",
    "regression.getBestFeaturesRCEV(col_names, dep_col_name)"
   ]
  },
  {
   "cell_type": "markdown",
   "metadata": {},
   "source": [
    "### Verify Collinearity through Scatter Plots"
   ]
  },
  {
   "cell_type": "code",
   "execution_count": 78,
   "metadata": {
    "collapsed": false
   },
   "outputs": [
    {
     "data": {
      "image/png": "[encoded data removed]",
      "text/plain": [
       "<matplotlib.figure.Figure at 0x26bcc977278>"
      ]
     },
     "metadata": {},
     "output_type": "display_data"
    }
   ],
   "source": [
    "df = regression.getDataFrame()\n",
    "plt.plot(df[\"TV\"], df[\"Radio\"], 'ro')\n",
    "plt.xlabel('TV Ads')\n",
    "plt.ylabel('Radio Ads')\n",
    "plt.title('Observed Data')\n",
    "plt.grid(True)\n",
    "# plt.axis([0, 220, 0, 120])\n",
    "plt.show()"
   ]
  },
  {
   "cell_type": "code",
   "execution_count": 79,
   "metadata": {
    "collapsed": false
   },
   "outputs": [
    {
     "data": {
      "image/png": "[encoded data removed]",
      "text/plain": [
       "<matplotlib.figure.Figure at 0x26bcc97abe0>"
      ]
     },
     "metadata": {},
     "output_type": "display_data"
    }
   ],
   "source": [
    "#X_new = regression.getDataFrame({'TV': [data.TV.min(), data.TV.max()]})\n",
    "#X_new.head()\n",
    "#min_max = [data.loc[df['TV'].idxmin(), \"TV\"], data.loc[df['TV'].idxmax(), \"TV\"]]\n",
    "#feature_names = [\"TV\", \"Radio\"]\n",
    "#fitted_production_model = regression.getFittedRegressionModel(selected_feature_names, dep_col_name)\n",
    "\n",
    "df = regression.getDataFrame()\n",
    "plt.plot(df[\"TV\"], df[\"Sales\"], 'go')\n",
    "plt.xlabel('Sales')\n",
    "plt.ylabel('TV Ads')\n",
    "plt.title('Observed Data')\n",
    "plt.grid(True)\n",
    "#plt.axis([0, 220, 0, 120])\n",
    "plt.show()"
   ]
  },
  {
   "cell_type": "code",
   "execution_count": 80,
   "metadata": {
    "collapsed": false
   },
   "outputs": [
    {
     "data": {
      "image/png": "[encoded data removed]",
      "text/plain": [
       "<matplotlib.figure.Figure at 0x26bcc92f7b8>"
      ]
     },
     "metadata": {},
     "output_type": "display_data"
    }
   ],
   "source": [
    "#X_new = regression.getDataFrame({'TV': [data.TV.min(), data.TV.max()]})\n",
    "#X_new.head()\n",
    "\n",
    "#selected_feature_names_attraction = [\"Newspaper\", \"Radio\"]\n",
    "#fitted_production_model_attr = regression.getFittedRegressionModel(selected_feature_names_attraction, dep_col_name)\n",
    "\n",
    "df = regression.getDataFrame()\n",
    "plt.plot(df[\"Radio\"], df[\"Sales\"], 'go')\n",
    "plt.xlabel('Sales')\n",
    "plt.ylabel('Radio Ads')\n",
    "plt.title('Observed Data')\n",
    "plt.grid(True)\n",
    "#plt.axis([0, 220, 0, 120])\n",
    "plt.show()"
   ]
  },
  {
   "cell_type": "markdown",
   "metadata": {},
   "source": [
    "# MODEL FITTING"
   ]
  },
  {
   "cell_type": "markdown",
   "metadata": {},
   "source": [
    "### Retreival of intercepts and coefficients\n",
    "**Features for Trip production**: # of HH, # of HH members, # of employed, # of enrolled, Income, Landuse and Amenity Data\n",
    "\n",
    "**Features for Trip attraction**: # of Establishments, # of working in area, # of enrolled in area, Landuse and Amenity Data"
   ]
  },
  {
   "cell_type": "code",
   "execution_count": 81,
   "metadata": {
    "collapsed": false
   },
   "outputs": [
    {
     "data": {
      "text/html": [
       "<div>\n",
       "<table border=\"1\" class=\"dataframe\">\n",
       "  <thead>\n",
       "    <tr style=\"text-align: right;\">\n",
       "      <th></th>\n",
       "      <th>Trips</th>\n",
       "      <th>no_Household</th>\n",
       "      <th># Cars owned</th>\n",
       "      <th>no_HH_mem</th>\n",
       "      <th>Income</th>\n",
       "      <th>Employed in HH</th>\n",
       "      <th>Works_in</th>\n",
       "      <th>Establishments</th>\n",
       "      <th>Enrolled</th>\n",
       "      <th>Landuse_ind_1</th>\n",
       "      <th>Landuse_ind_2</th>\n",
       "    </tr>\n",
       "  </thead>\n",
       "  <tbody>\n",
       "    <tr>\n",
       "      <th>1</th>\n",
       "      <td>5869</td>\n",
       "      <td>105</td>\n",
       "      <td>1</td>\n",
       "      <td>9</td>\n",
       "      <td>216290</td>\n",
       "      <td>3</td>\n",
       "      <td>1402</td>\n",
       "      <td>67</td>\n",
       "      <td>3</td>\n",
       "      <td>0</td>\n",
       "      <td>1</td>\n",
       "    </tr>\n",
       "    <tr>\n",
       "      <th>2</th>\n",
       "      <td>5708</td>\n",
       "      <td>66</td>\n",
       "      <td>1</td>\n",
       "      <td>4</td>\n",
       "      <td>231440</td>\n",
       "      <td>3</td>\n",
       "      <td>1997</td>\n",
       "      <td>70</td>\n",
       "      <td>8</td>\n",
       "      <td>1</td>\n",
       "      <td>1</td>\n",
       "    </tr>\n",
       "    <tr>\n",
       "      <th>3</th>\n",
       "      <td>2565</td>\n",
       "      <td>102</td>\n",
       "      <td>0</td>\n",
       "      <td>13</td>\n",
       "      <td>161121</td>\n",
       "      <td>1</td>\n",
       "      <td>3755</td>\n",
       "      <td>37</td>\n",
       "      <td>0</td>\n",
       "      <td>0</td>\n",
       "      <td>0</td>\n",
       "    </tr>\n",
       "    <tr>\n",
       "      <th>4</th>\n",
       "      <td>5412</td>\n",
       "      <td>78</td>\n",
       "      <td>4</td>\n",
       "      <td>14</td>\n",
       "      <td>177915</td>\n",
       "      <td>1</td>\n",
       "      <td>1234</td>\n",
       "      <td>41</td>\n",
       "      <td>9</td>\n",
       "      <td>0</td>\n",
       "      <td>0</td>\n",
       "    </tr>\n",
       "    <tr>\n",
       "      <th>5</th>\n",
       "      <td>3445</td>\n",
       "      <td>99</td>\n",
       "      <td>5</td>\n",
       "      <td>15</td>\n",
       "      <td>257947</td>\n",
       "      <td>3</td>\n",
       "      <td>1931</td>\n",
       "      <td>47</td>\n",
       "      <td>9</td>\n",
       "      <td>0</td>\n",
       "      <td>1</td>\n",
       "    </tr>\n",
       "  </tbody>\n",
       "</table>\n",
       "</div>"
      ],
      "text/plain": [
       "   Trips  no_Household  # Cars owned  no_HH_mem  Income  Employed in HH  \\\n",
       "1   5869           105             1          9  216290               3   \n",
       "2   5708            66             1          4  231440               3   \n",
       "3   2565           102             0         13  161121               1   \n",
       "4   5412            78             4         14  177915               1   \n",
       "5   3445            99             5         15  257947               3   \n",
       "\n",
       "   Works_in  Establishments  Enrolled  Landuse_ind_1  Landuse_ind_2  \n",
       "1      1402              67         3              0              1  \n",
       "2      1997              70         8              1              1  \n",
       "3      3755              37         0              0              0  \n",
       "4      1234              41         9              0              0  \n",
       "5      1931              47         9              0              1  "
      ]
     },
     "execution_count": 81,
     "metadata": {},
     "output_type": "execute_result"
    }
   ],
   "source": [
    "selected_feature_names = [\"TV\", \"Radio\"]\n",
    "selected_feature_names_attraction = [\"Newspaper\", \"Radio\"]\n",
    "fitted_production_model = regression.getFittedRegressionModel(selected_feature_names, dep_col_name)\n",
    "fitted_production_model_attr = regression.getFittedRegressionModel(selected_feature_names_attraction, dep_col_name)\n",
    "\n",
    "dummy_data = pd.read_csv('DummyDemoData.csv', index_col=0)\n",
    "dummy_data.head()"
   ]
  },
  {
   "cell_type": "markdown",
   "metadata": {},
   "source": [
    "### Prediction of Trip Production & Attraction using the intercepts and coefficients"
   ]
  },
  {
   "cell_type": "code",
   "execution_count": 82,
   "metadata": {
    "collapsed": false
   },
   "outputs": [
    {
     "name": "stdout",
     "output_type": "stream",
     "text": [
      "Example:\n",
      "Overall Trip Production: 2804.5\n",
      "Overall Trip Attraction: 2804.5\n"
     ]
    }
   ],
   "source": [
    "trip_gen = TripGeneration(\"Advertising.csv\", \"Sales\")\n",
    "prod_col_names = selected_feature_names\n",
    "attr_col_names = selected_feature_names_attraction\n",
    "trip_gen.setProductionParameters(prod_col_names, fitted_production_model.intercept_, fitted_production_model.coef_)\n",
    "trip_gen.setAttractionParameters(attr_col_names, fitted_production_model_attr.intercept_, fitted_production_model_attr.coef_)\n",
    "print(\"Example:\")\n",
    "print(\"Overall Trip Production: \"+str(trip_gen.getWholeTripProductionScore()))\n",
    "print(\"Overall Trip Attraction: \"+str(trip_gen.getWholeTripAttractionScore()))"
   ]
  },
  {
   "cell_type": "markdown",
   "metadata": {
    "collapsed": true
   },
   "source": [
    "### Computing for Trip Balancing Factor"
   ]
  },
  {
   "cell_type": "code",
   "execution_count": 83,
   "metadata": {
    "collapsed": false
   },
   "outputs": [
    {
     "name": "stdout",
     "output_type": "stream",
     "text": [
      "Balancing Factor: 1.0\n"
     ]
    }
   ],
   "source": [
    "trip_gen.doTripBalancing()\n",
    "print(\"Balancing Factor: \"+str(trip_gen.getBalancingFactor()))\n"
   ]
  },
  {
   "cell_type": "markdown",
   "metadata": {},
   "source": [
    "### Zonal-level Trip Production & Attraction Scores"
   ]
  },
  {
   "cell_type": "code",
   "execution_count": 84,
   "metadata": {
    "collapsed": false
   },
   "outputs": [
    {
     "name": "stdout",
     "output_type": "stream",
     "text": [
      "Zone 1: Production=20.5554646334 , Attraction=17.1725829855\n",
      "Zone 2: Production=12.3453622906 , Attraction=17.3110252703\n",
      "Zone 3: Production=12.337017734 , Attraction=18.7855086135\n",
      "Zone 4: Production=17.6171159596 , Attraction=17.7981463968\n",
      "Zone 5: Production=13.2239081302 , Attraction=11.7266218654\n",
      "Zone 6: Production=12.5120844855 , Attraction=19.42051419\n",
      "Zone 7: Production=11.7182124139 , Attraction=15.8737212403\n",
      "Zone 8: Production=12.1055155293 , Attraction=13.167266924\n",
      "Zone 9: Production=3.70937919818 , Attraction=9.6135582809\n",
      "Zone 10: Production=12.5516969588 , Attraction=9.84729290322\n",
      "Zone 11: Production=7.03585970498 , Attraction=10.5041681273\n",
      "Zone 12: Production=17.2565201535 , Attraction=13.9925674108\n",
      "Zone 13: Production=10.6086618662 , Attraction=16.6132368061\n",
      "Zone 14: Production=8.81095050707 , Attraction=10.7494974294\n",
      "Zone 15: Production=18.4446677303 , Attraction=16.0431196265\n",
      "Zone 16: Production=20.8289153929 , Attraction=19.0348244204\n",
      "Zone 17: Production=12.9038650706 , Attraction=17.2313884915\n",
      "Zone 18: Production=23.241076256 , Attraction=17.4418313159\n",
      "Zone 19: Production=9.94121476312 , Attraction=13.3909230279\n",
      "Zone 20: Production=14.153846193 , Attraction=14.0729899867\n",
      "Zone 21: Production=18.1213916079 , Attraction=15.0572546297\n",
      "Zone 22: Production=14.7420635732 , Attraction=10.3601859894\n",
      "Zone 23: Production=6.514171675 , Attraction=12.6832805585\n",
      "Zone 24: Production=16.5440266299 , Attraction=12.7268514686\n",
      "Zone 25: Production=8.14035214862 , Attraction=11.8184707361\n",
      "Zone 26: Production=15.6080205956 , Attraction=10.015137941\n",
      "Zone 27: Production=14.9676938303 , Attraction=15.1046436594\n",
      "Zone 28: Production=17.0463346027 , Attraction=12.6651167739\n",
      "Zone 29: Production=19.399541451 , Attraction=14.7351805504\n",
      "Zone 30: Production=9.15929748447 , Attraction=12.6447162821\n",
      "Zone 31: Production=21.6429218689 , Attraction=15.1089108059\n",
      "Zone 32: Production=11.3579180805 , Attraction=12.9087615296\n",
      "Zone 33: Production=7.65045928016 , Attraction=9.68681258574\n",
      "Zone 34: Production=18.8334633357 , Attraction=13.1718055895\n",
      "Zone 35: Production=7.56302763485 , Attraction=9.51674978212\n",
      "Zone 36: Production=16.9928009914 , Attraction=10.0614787776\n",
      "Zone 37: Production=23.3672071889 , Attraction=17.9402945445\n",
      "Zone 38: Production=15.6258993955 , Attraction=19.3253621734\n",
      "Zone 39: Production=9.91257829402 , Attraction=14.736621642\n",
      "Zone 40: Production=20.440580099 , Attraction=16.9055152339\n",
      "Zone 41: Production=16.378721224 , Attraction=13.837570818\n",
      "Zone 42: Production=17.2987093544 , Attraction=16.0941394494\n",
      "Zone 43: Production=21.5621537035 , Attraction=14.7144152243\n",
      "Zone 44: Production=13.9669226604 , Attraction=11.0363012553\n",
      "Zone 45: Production=8.90099739558 , Attraction=14.5920592792\n",
      "Zone 46: Production=15.1626381356 , Attraction=13.8767153194\n",
      "Zone 47: Production=8.88644967051 , Attraction=11.3966589693\n",
      "Zone 48: Production=21.6994404599 , Attraction=17.5721883346\n",
      "Zone 49: Production=16.286902684 , Attraction=12.6653693515\n",
      "Zone 50: Production=8.18162949412 , Attraction=11.7622478302\n",
      "Zone 51: Production=12.6456940721 , Attraction=10.0358471388\n",
      "Zone 52: Production=9.31962792411 , Attraction=11.1236675889\n",
      "Zone 53: Production=20.6618011503 , Attraction=17.7521893358\n",
      "Zone 54: Production=19.9612624197 , Attraction=18.7747937418\n",
      "Zone 55: Production=20.3551235661 , Attraction=15.0270471383\n",
      "Zone 56: Production=21.3086474311 , Attraction=19.4203738691\n",
      "Zone 57: Production=8.53774783067 , Attraction=15.057142373\n",
      "Zone 58: Production=12.7623948803 , Attraction=13.1208699591\n",
      "Zone 59: Production=21.8907285761 , Attraction=19.312017696\n",
      "Zone 60: Production=18.1074691395 , Attraction=15.1225268022\n",
      "Zone 61: Production=5.74497097355 , Attraction=9.72919498179\n",
      "Zone 62: Production=22.904186575 , Attraction=18.051560965\n",
      "Zone 63: Production=16.7841376787 , Attraction=12.4554976291\n",
      "Zone 64: Production=13.1847485312 , Attraction=15.1364515045\n",
      "Zone 65: Production=16.9657090715 , Attraction=17.9000457217\n",
      "Zone 66: Production=7.82652846195 , Attraction=11.0460149395\n",
      "Zone 67: Production=8.98703456295 , Attraction=14.100034653\n",
      "Zone 68: Production=12.020661942 , Attraction=12.1428376508\n",
      "Zone 69: Production=18.9531342495 , Attraction=14.7357327111\n",
      "Zone 70: Production=21.093690375 , Attraction=18.1076996783\n",
      "Zone 71: Production=17.7835069336 , Attraction=15.5368145865\n",
      "Zone 72: Production=10.6332960512 , Attraction=12.2458784843\n",
      "Zone 73: Production=10.3511384356 , Attraction=15.8856246261\n",
      "Zone 74: Production=9.91334007822 , Attraction=10.531437307\n",
      "Zone 75: Production=17.3098354298 , Attraction=14.1724561553\n",
      "Zone 76: Production=11.9097039909 , Attraction=18.4811584149\n",
      "Zone 77: Production=4.48014809028 , Attraction=9.64492622206\n",
      "Zone 78: Production=13.7923905908 , Attraction=14.9560386635\n",
      "Zone 79: Production=8.7892032899 , Attraction=15.2028090572\n",
      "Zone 80: Production=9.67621400911 , Attraction=10.8750442637\n",
      "Zone 81: Production=11.4362136369 , Attraction=14.6515762081\n",
      "Zone 82: Production=14.6638809028 , Attraction=10.2501733341\n",
      "Zone 83: Production=10.1827202899 , Attraction=13.4454613873\n",
      "Zone 84: Production=14.4164723499 , Attraction=18.2829375006\n",
      "Zone 85: Production=20.7735046812 , Attraction=17.9724110957\n",
      "Zone 86: Production=15.2200239597 , Attraction=13.2878632531\n",
      "Zone 87: Production=11.5820335367 , Attraction=14.7689535837\n",
      "Zone 88: Production=15.6187235449 , Attraction=17.6900428013\n",
      "Zone 89: Production=11.7551028646 , Attraction=14.7522400136\n",
      "Zone 90: Production=16.931102643 , Attraction=19.044762618\n",
      "Zone 91: Production=9.98714329092 , Attraction=10.2260297924\n",
      "Zone 92: Production=4.51167896423 , Attraction=9.70674510931\n",
      "Zone 93: Production=19.1797297517 , Attraction=16.2489206516\n",
      "Zone 94: Production=21.2627722929 , Attraction=16.9344219545\n",
      "Zone 95: Production=10.4670862269 , Attraction=12.0479662761\n",
      "Zone 96: Production=16.3334787796 , Attraction=15.8302064586\n",
      "Zone 97: Production=12.6202311695 , Attraction=9.92477716752\n",
      "Zone 98: Production=15.3290439836 , Attraction=13.5150287705\n",
      "Zone 99: Production=24.1284256332 , Attraction=17.9486885166\n",
      "Zone 100: Production=16.9465101641 , Attraction=17.7940476353\n",
      "Zone 101: Production=13.9053459654 , Attraction=10.3756921042\n",
      "Zone 102: Production=23.3070175347 , Attraction=17.0846364271\n",
      "Zone 103: Production=17.6403407926 , Attraction=11.3414561924\n",
      "Zone 104: Production=14.7519303678 , Attraction=12.7314181982\n",
      "Zone 105: Production=20.2680988426 , Attraction=16.0513641548\n",
      "Zone 106: Production=17.95362103 , Attraction=18.8165959129\n",
      "Zone 107: Production=6.13290678276 , Attraction=11.5757429754\n",
      "Zone 108: Production=7.11373346553 , Attraction=9.40277868631\n",
      "Zone 109: Production=3.59568568088 , Attraction=9.43862916455\n",
      "Zone 110: Production=19.6639243853 , Attraction=14.5797629949\n",
      "Zone 111: Production=14.7940898205 , Attraction=11.1964819897\n",
      "Zone 112: Production=21.1238193339 , Attraction=16.9067598762\n",
      "Zone 113: Production=13.8553320156 , Attraction=12.2701532241\n",
      "Zone 114: Production=16.383990226 , Attraction=13.3603317609\n",
      "Zone 115: Production=15.2972562591 , Attraction=18.7334314746\n",
      "Zone 116: Production=12.9370844582 , Attraction=16.505629243\n",
      "Zone 117: Production=11.9784876151 , Attraction=12.2053490197\n",
      "Zone 118: Production=6.56716316742 , Attraction=9.44648991726\n",
      "Zone 119: Production=15.6094671329 , Attraction=17.0598845962\n",
      "Zone 120: Production=6.81665095129 , Attraction=12.5217990534\n",
      "Zone 121: Production=14.4245005596 , Attraction=14.8302764386\n",
      "Zone 122: Production=7.86076515397 , Attraction=13.8430545427\n",
      "Zone 123: Production=13.6213646389 , Attraction=9.77027660711\n",
      "Zone 124: Production=15.0581178924 , Attraction=16.1582511721\n",
      "Zone 125: Production=19.4940434979 , Attraction=16.1110585917\n",
      "Zone 126: Production=9.12925166334 , Attraction=11.7097307873\n",
      "Zone 127: Production=10.5909628857 , Attraction=17.2679503927\n",
      "Zone 128: Production=6.59063608351 , Attraction=9.25004686481\n",
      "Zone 129: Production=22.2126027836 , Attraction=18.9633669186\n",
      "Zone 130: Production=7.90401761187 , Attraction=11.8638195079\n",
      "Zone 131: Production=10.3976996571 , Attraction=17.1288906959\n",
      "Zone 132: Production=15.6004601344 , Attraction=10.051849286\n",
      "Zone 133: Production=8.41888332333 , Attraction=14.6168861797\n",
      "Zone 134: Production=19.2758148634 , Attraction=16.1565666257\n",
      "Zone 135: Production=11.8660297372 , Attraction=17.3078996323\n",
      "Zone 136: Production=13.9667861329 , Attraction=18.6004918558\n",
      "Zone 137: Production=11.4241980172 , Attraction=17.0134504442\n",
      "Zone 138: Production=20.8772259549 , Attraction=15.3379664419\n",
      "Zone 139: Production=9.75760743122 , Attraction=14.4803810189\n",
      "Zone 140: Production=19.6341117732 , Attraction=17.938273228\n",
      "Zone 141: Production=9.47540519337 , Attraction=12.6583884068\n",
      "Zone 142: Production=18.4388032198 , Attraction=16.7373986771\n",
      "Zone 143: Production=19.251444966 , Attraction=16.049015191\n",
      "Zone 144: Production=8.77862066371 , Attraction=10.552034248\n",
      "Zone 145: Production=10.1050276791 , Attraction=12.3932388378\n",
      "Zone 146: Production=9.69768950166 , Attraction=9.62690275831\n",
      "Zone 147: Production=15.2791888725 , Attraction=10.699750313\n",
      "Zone 148: Production=23.2603880494 , Attraction=19.2364424915\n",
      "Zone 149: Production=12.235950219 , Attraction=17.2894832701\n",
      "Zone 150: Production=9.81659119423 , Attraction=14.4611409769\n",
      "Zone 151: Production=18.3775962613 , Attraction=12.2014747717\n",
      "Zone 152: Production=10.0365840432 , Attraction=11.1844663472\n",
      "Zone 153: Production=16.3425168566 , Attraction=13.9210067752\n",
      "Zone 154: Production=18.222270536 , Attraction=17.3414762164\n",
      "Zone 155: Production=15.4805323701 , Attraction=13.4518810484\n",
      "Zone 156: Production=5.28942768312 , Attraction=11.5357095432\n",
      "Zone 157: Production=15.3952259084 , Attraction=18.1828911071\n",
      "Zone 158: Production=10.0195637092 , Attraction=9.60913187218\n",
      "Zone 159: Production=10.3934182114 , Attraction=16.8339826624\n",
      "Zone 160: Production=12.406102831 , Attraction=13.0812294254\n",
      "Zone 161: Production=14.2165010192 , Attraction=12.9956037666\n",
      "Zone 162: Production=13.5724808796 , Attraction=16.6422747247\n",
      "Zone 163: Production=14.9440025793 , Attraction=12.9617184765\n",
      "Zone 164: Production=17.3201997211 , Attraction=16.5629284061\n",
      "Zone 165: Production=11.0470793736 , Attraction=12.1507545319\n",
      "Zone 166: Production=14.2897844241 , Attraction=10.429098078\n",
      "Zone 167: Production=10.8086940236 , Attraction=16.8165113594\n",
      "Zone 168: Production=13.3607656537 , Attraction=10.3528493332\n",
      "Zone 169: Production=17.2133508334 , Attraction=14.2690773277\n",
      "Zone 170: Production=17.9219326478 , Attraction=11.3413158715\n",
      "Zone 171: Production=7.38957369625 , Attraction=11.6200905596\n",
      "Zone 172: Production=14.3768463329 , Attraction=13.663886344\n",
      "Zone 173: Production=7.59657824345 , Attraction=13.3026677634\n",
      "Zone 174: Production=11.9609697844 , Attraction=10.6871825098\n",
      "Zone 175: Production=13.7361511614 , Attraction=9.9527107647\n",
      "Zone 176: Production=24.7835258956 , Attraction=19.1999275958\n",
      "Zone 177: Production=19.9640216274 , Attraction=15.3349439377\n",
      "Zone 178: Production=12.1749244102 , Attraction=10.9753432348\n",
      "Zone 179: Production=16.0138439721 , Attraction=9.80418996136\n",
      "Zone 180: Production=12.3780395593 , Attraction=11.2963038698\n",
      "Zone 181: Production=10.5750889464 , Attraction=9.76158305187\n",
      "Zone 182: Production=13.9336958357 , Attraction=10.4458116482\n",
      "Zone 183: Production=6.56408761282 , Attraction=10.5208066278\n",
      "Zone 184: Production=24.1639364801 , Attraction=18.2248897275\n",
      "Zone 185: Production=18.5379490121 , Attraction=13.6278955449\n",
      "Zone 186: Production=20.7793766287 , Attraction=18.2960574646\n",
      "Zone 187: Production=9.69868449491 , Attraction=9.7836491487\n",
      "Zone 188: Production=17.0602793822 , Attraction=15.0224242804\n",
      "Zone 189: Production=18.6200967813 , Attraction=11.9802237601\n",
      "Zone 190: Production=6.0514450969 , Attraction=11.7528337292\n",
      "Zone 191: Production=12.454977823 , Attraction=17.4081894806\n",
      "Zone 192: Production=8.40592610004 , Attraction=11.3784671204\n",
      "Zone 193: Production=4.47885906129 , Attraction=10.2149592091\n",
      "Zone 194: Production=18.4487605893 , Attraction=17.5727124312\n",
      "Zone 195: Production=16.4631902007 , Attraction=16.3147730491\n",
      "Zone 196: Production=5.36451248776 , Attraction=10.017075065\n",
      "Zone 197: Production=8.15237520537 , Attraction=10.2180567829\n",
      "Zone 198: Production=12.7680484929 , Attraction=11.0825578994\n",
      "Zone 199: Production=23.7929229931 , Attraction=17.9886377563\n",
      "Zone 200: Production=15.1575428463 , Attraction=10.9585082851\n",
      "Total Production=2804.5 , Total Attraction=2804.5\n"
     ]
    }
   ],
   "source": [
    "TEST_Y_TEST = trip_gen.printAllZonalTripsProductionAttraction()"
   ]
  },
  {
   "cell_type": "markdown",
   "metadata": {},
   "source": [
    "# Model Validation"
   ]
  },
  {
   "cell_type": "code",
   "execution_count": 95,
   "metadata": {
    "collapsed": false
   },
   "outputs": [
    {
     "data": {
      "text/plain": [
       "array([ 0.87936561,  0.85860496,  0.92960574,  0.89040105,  0.93302554,\n",
       "        0.93129743,  0.76486772,  0.91373255,  0.83925519,  0.92951475])"
      ]
     },
     "execution_count": 95,
     "metadata": {},
     "output_type": "execute_result"
    }
   ],
   "source": [
    "from sklearn.model_selection import train_test_split\n",
    "from sklearn import datasets\n",
    "from sklearn import svm\n",
    "\n",
    "fitted_production_model = regression.getFittedRegressionModel(selected_feature_names, dep_col_name)\n",
    "X_digits = regression.getSubTable(selected_feature_names)\n",
    "Y_digits = regression.getSubTable(dep_col_name)\n",
    "scores = cross_validation.cross_val_score(fitted_production_model, X_digits, Y_digits, scoring='r2', cv=10,)\n",
    "#X_digits.shape, Y_digits.shape\n",
    "scores"
   ]
  },
  {
   "cell_type": "markdown",
   "metadata": {
    "collapsed": true
   },
   "source": [
    "# MODEL OUTPUT"
   ]
  },
  {
   "cell_type": "code",
   "execution_count": null,
   "metadata": {
    "collapsed": true
   },
   "outputs": [],
   "source": []
  }
 ],
 "metadata": {
  "anaconda-cloud": {},
  "kernelspec": {
   "display_name": "Python [default]",
   "language": "python",
   "name": "python3"
  },
  "language_info": {
   "codemirror_mode": {
    "name": "ipython",
    "version": 3
   },
   "file_extension": ".py",
   "mimetype": "text/x-python",
   "name": "python",
   "nbconvert_exporter": "python",
   "pygments_lexer": "ipython3",
   "version": "3.5.2"
  }
 },
 "nbformat": 4,
 "nbformat_minor": 2
}
