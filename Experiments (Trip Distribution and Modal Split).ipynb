{
 "cells": [
  {
   "cell_type": "code",
   "execution_count": 52,
   "metadata": {
    "collapsed": true
   },
   "outputs": [],
   "source": [
    "\n",
    "from IPython.display import HTML, display\n",
    "import math as math\n",
    "\n",
    "\n",
    "class TripDistribution:\n",
    "\n",
    "    def __init__(self, productions, attractions, travelTime, fare, income):\n",
    "        self.productions = productions\n",
    "        self.attractions = attractions\n",
    "        self.travelTime = travelTime\n",
    "        self.fare = fare\n",
    "        self.income = income\n",
    "        self.row = len(productions)\n",
    "        self.col = len(attractions)\n",
    "        self.possibleError = sum(productions) * 0.2\n",
    "        self.error = 0\n",
    "\n",
    "    def getGeneralizedCost(self, cost):\n",
    "        return 1.0 / (cost * cost)\n",
    "    \n",
    "    def computeCost(self, travelTime, fare, income):\n",
    "        costMatrix = [[1 for x in range(self.row)] for y in range(self.col)]\n",
    "        for x in range(self.row):\n",
    "            for y in range(self.col):\n",
    "                costMatrix[x][y] = travelTime[x][y] * income[x] + fare[x][y]\n",
    "        return costMatrix\n",
    "\n",
    "    def getTripDistribution(self):\n",
    "        distributions = [[self.attractions[y] for x in range(self.row)] for y in range(self.col)]\n",
    "        finalDistributions = [[self.attractions[y] for x in range(self.row)] for y in range(self.col)]\n",
    "        #costMatrix = [[1 for x in range(self.row)] for y in range(self.col)]\n",
    "        costMatrix = self.computeCost(self.travelTime, self.fare, self.income)\n",
    "        A = [1 for x in range(self.row)]\n",
    "        B = [1 for x in range(self.col)]\n",
    "        A = self.computeA(B, costMatrix)\n",
    "        B = self.computeB(A, costMatrix)\n",
    "        \n",
    "        currentBalancingFactor = 0  # 0 for A, 1 for B\n",
    "        isConvergent = False\n",
    "        shit =0\n",
    "        smallestError = 1000000000\n",
    "\n",
    "#         while isConvergent == False:\n",
    "        for x in range(1000):\n",
    "            if currentBalancingFactor == 0:\n",
    "                tempA = self.computeA(B, costMatrix)\n",
    "                A = tempA\n",
    "                currentBalancingFactor = 1\n",
    "            elif currentBalancingFactor == 1:\n",
    "                tempB = self.computeB(A, costMatrix)\n",
    "                B = tempB\n",
    "                currentBalancingFactor = 0\n",
    "            distributions = self.computeDistributions(A, B, costMatrix)\n",
    "            error = self.getError(distributions)\n",
    "            if(smallestError > error and error != 0):\n",
    "                smallestError = error\n",
    "                finalDistributions = distributions\n",
    "                self.error = error\n",
    "                shit = x\n",
    "        return finalDistributions\n",
    "\n",
    "    def computeDistributions(self, A, B, costMatrix):\n",
    "        distributions = [[self.attractions[y] for x in range(self.row)] for y in range(self.col)]\n",
    "        for x in range(self.row):\n",
    "            for y in range(self.col):\n",
    "                distributions[x][y] = round(A[x] * self.productions[x] * B[y] * self.attractions[y] * self.getGeneralizedCost(costMatrix[x][y]), 1)\n",
    "        return distributions\n",
    "\n",
    "    def checkIfConvergent(self, distributions):\n",
    "        error = self.getError(distributions)\n",
    "        if error <= self.possibleError:\n",
    "            self.error = error\n",
    "            return True\n",
    "        return False\n",
    "\n",
    "    def getError(self, distributions):\n",
    "        error = 0\n",
    "        derivedProductions = [0 for x in range(self.row)]\n",
    "        derivedAttractions = [0 for x in range(self.col)]\n",
    "\n",
    "        for x in range(self.row):\n",
    "            for y in range(self.col):\n",
    "                derivedProductions[x] += distributions[x][y]\n",
    "                derivedAttractions[y] += distributions[x][y]\n",
    "\n",
    "        for x in range(self.row):\n",
    "            error += abs(derivedProductions[x] - self.productions[x])\n",
    "            error += abs(derivedAttractions[x] - self.attractions[x])\n",
    "\n",
    "        return error\n",
    "    \n",
    "    \n",
    "    def getErrorPercentage(self):\n",
    "        return self.error/sum(self.productions)\n",
    "\n",
    "    def computeA(self, B, costMatrix):\n",
    "        A = [1 for x in range(self.row)]\n",
    "        for x in range(0, self.row):\n",
    "            sum = 0.0\n",
    "            for y in range(0, self.col):\n",
    "                sum += B[y] * self.attractions[y] * self.getGeneralizedCost(costMatrix[x][y])\n",
    "            A[x] = 1.0 / sum\n",
    "        return A\n",
    "\n",
    "    def computeB(self, A, costMatrix):\n",
    "        B = [1 for x in range(self.col)]\n",
    "        for x in range(0, self.row):\n",
    "            sum = 0.0\n",
    "            for y in range(0, self.col):\n",
    "                sum += A[y] * self.productions[y] * self.getGeneralizedCost(costMatrix[x][y])\n",
    "            B[x] = 1.0 / sum\n",
    "        return B"
   ]
  },
  {
   "cell_type": "code",
   "execution_count": 30,
   "metadata": {
    "collapsed": true
   },
   "outputs": [],
   "source": [
    "import random\n",
    "class ModalSplit:\n",
    "\n",
    "    def __init__(self, od_matrix, pathToData, income, fares, travelTimes):\n",
    "        self.od_matrix = od_matrix\n",
    "        self.pathToData = pathToData\n",
    "        self.travel_costs = []\n",
    "        self.travel_probabilities = []\n",
    "        self.modes = ['jeep','bus']\n",
    "        self.income = income\n",
    "        self.fares = fares\n",
    "        self.travelTimes = travelTimes\n",
    "        self.travel_costs = [None] * len(self.modes)\n",
    "        \n",
    "    def computeGeneralizedCosts(self, mode_number):\n",
    "        costMatrix = [[1 for x in range(len(self.od_matrix))] for y in range(len(self.od_matrix))]\n",
    "        for x in range(len(self.od_matrix)):\n",
    "            for y in range(len(self.od_matrix)):\n",
    "                if(self.fares[mode_number][x][y] == None):\n",
    "                    costMatrix[x][y] = None\n",
    "                else:\n",
    "                    costMatrix[x][y] = (self.travelTimes[mode_number][x][y]/60) * self.income[x] + self.fares[mode_number][x][y]\n",
    "        \n",
    "        return costMatrix\n",
    "        \n",
    "#         #data = pd.read_csv(self.pathToData, index_col=0)\n",
    "            \n",
    "#         self.travel_costs = [None] * len(self.modes)\n",
    "#         for x in range(0, len(self.modes)):\n",
    "#             self.travel_costs[x] = random.randrange(1,4)\n",
    "#         #Compute for generalized cost for each mode for this specific zone\n",
    "#         # populate self.travel_costs with the travel costs\n",
    "#         self.computeModalProbabilities()\n",
    "        \n",
    "    def computeModalProbabilities(self, mode_number, beta):\n",
    "        travel_probabilities = [[1 for x in range(len(self.od_matrix))] for y in range(len(self.od_matrix))]\n",
    "        sum = 0\n",
    "        #print(len(self.travel_costs))\n",
    "        for x in range(len(self.od_matrix)):\n",
    "            for y in range(len(self.od_matrix)):\n",
    "                sum = 0\n",
    "                for k in range(len(self.modes)):\n",
    "                    if(self.travel_costs[k][x][y] != None):\n",
    "                        sum += math.e ** ((-beta)*self.travel_costs[k][x][y])\n",
    "                \n",
    "                if(self.travel_costs[mode_number][x][y] != None):\n",
    "                    travel_probabilities[x][y] = math.e ** ((-beta)*self.travel_costs[mode_number][x][y]) / sum\n",
    "                else:\n",
    "                    travel_probabilities[x][y] = None\n",
    "        return travel_probabilities\n",
    "        #print(self.travel_costs)\n",
    "        #print(self.travel_probabilities)\n",
    "        \n",
    "    def getBeta(self, mode_number):\n",
    "        sum = 0\n",
    "        for x in range(len(self.od_matrix)):\n",
    "            for y in range(len(self.od_matrix)):\n",
    "                if(self.travel_costs[mode_number][x][y] != None):\n",
    "                    sum += self.travel_costs[mode_number][x][y]\n",
    "        return 1/(sum/(len(self.od_matrix) * len(self.od_matrix)))\n",
    "    \n",
    "    def getSplittedTrips(self, mode_number):\n",
    "        splittedTrips = [[None for x in range(len(self.od_matrix))] for y in range(len(self.od_matrix))]\n",
    "        for x in range(len(self.od_matrix)):\n",
    "            for y in range(len(self.od_matrix)):\n",
    "                if(self.travel_probabilities[mode_number][x][y] != None):\n",
    "                    splittedTrips[x][y] = round(self.od_matrix[x][y] * self.travel_probabilities[mode_number][x][y], 2)\n",
    "        \n",
    "        return splittedTrips\n",
    "\n",
    "    def process_od_matrix(self):\n",
    "        #print(\"size:\"+str(len(self.od_matrix))+\",\"+str(len(self.od_matrix[0])))\n",
    "        #df = DataFrame(columns=('lib', 'qty1', 'qty2'))\n",
    "        #for i in range(5):\n",
    "            #df.loc[i] = [randint(-1,1) for n in range(3)]\n",
    "        for x in range(len(self.modes)):\n",
    "            self.travel_costs[x] = self.computeGeneralizedCosts(x)\n",
    "        \n",
    "        beta = [None] * len(self.modes)\n",
    "        for x in range(len(self.modes)):\n",
    "            beta[x] = self.getBeta(x)\n",
    "        \n",
    "        self.travel_probabilities = [None] * len(self.modes)\n",
    "        for x in range(len(self.modes)):\n",
    "            self.travel_probabilities[x] = self.computeModalProbabilities(x, beta[x]);\n",
    "        \n",
    "        final_matrices = [None] * len(self.modes)\n",
    "        for x in range(len(self.modes)):\n",
    "            final_matrices[x] = self.getSplittedTrips(x)\n",
    "            \n",
    "        return final_matrices"
   ]
  },
  {
   "cell_type": "code",
   "execution_count": 31,
   "metadata": {
    "collapsed": true
   },
   "outputs": [],
   "source": [
    "def computeYearlyToHourlyRate(salary):\n",
    "    return salary/(30.00 * 8)\n",
    "\n",
    "def deg2rad(deg):\n",
    "    return deg * (math.pi/180)\n",
    "\n",
    "def getDistance(lat1, lng1, lat2, lng2):\n",
    "    dlon = lng2 - lng1\n",
    "    dlat = lat2 - lat1\n",
    "    a = ((math.sin(deg2rad(dlat/2)))*(math.sin(deg2rad(dlat/2)))) + math.cos(deg2rad(lat1)) *math.cos(deg2rad(lat2)) *((math.sin(deg2rad(dlon/2)))*(math.sin(deg2rad(dlon/2))))\n",
    "    c = 2 * math.atan2(math.sqrt(a), math.sqrt(1-a))\n",
    "    d =  6373* c\n",
    "    return d\n",
    "\n",
    "\n",
    "\n",
    "def computeNearestZones(lat, lng) :\n",
    "    nearestZones = [None] * len(lat)\n",
    "    for currZone in range(len(lat)):\n",
    "        shortest = 1000\n",
    "        nearestZoneIndex = 0\n",
    "        for currPoint in range(len(lat)):\n",
    "            if(currZone != currPoint): \n",
    "                distance = getDistance(lat[currZone], lng[currZone], lat[currPoint], lng[currPoint])\n",
    "                if(distance < shortest):\n",
    "                    shortest = distance\n",
    "                    nearestZoneIndex = currPoint\n",
    "        nearestZones[currZone] = nearestZoneIndex\n",
    "        shortest = 1000\n",
    "        nearestZoneIndex = 0\n",
    "    return nearestZones"
   ]
  },
  {
   "cell_type": "code",
   "execution_count": 32,
   "metadata": {
    "collapsed": false
   },
   "outputs": [],
   "source": [
    "nearestZones = [\n",
    "    0, \n",
    "    0,\n",
    "    0,\n",
    "    0,\n",
    "    0,\n",
    "    0,\n",
    "    0,\n",
    "    0\n",
    "]\n",
    "\n",
    "lat = [\n",
    "    14.711029630751996,\n",
    "    14.681442858628275,\n",
    "    14.708693067291241, \n",
    "    14.686174778272566, \n",
    "    14.660783607519472,\n",
    "    14.65615255044289,\n",
    "    14.630416868404804,\n",
    "    14.637488044822764\n",
    "]\n",
    "\n",
    "lng = [\n",
    "    120.960596201819,\n",
    "    120.98000062117379,\n",
    "    121.00151327979542,\n",
    "    121.00714359391715,\n",
    "    121.09957600978247,\n",
    "    121.11920195444038,\n",
    "    121.080185938878,\n",
    "    121.09795399889786\n",
    "]\n",
    "\n",
    "travelTime = [\n",
    "        [001.00, 027.00, 053.67, 056.67, 140.67, 142.67, 114.67, 123.67], \n",
    "        [028.33, 001.00, 050.67, 051.00, 124.33, 132.00, 098.33, 106.67],\n",
    "        [052.33, 050.33, 001.00, 037.00, 127.67, 143.00, 109.00, 117.33], \n",
    "        [057.00, 051.00, 037.00, 001.00, 122.67, 130.00, 096.33, 104.67],\n",
    "        [151.33, 133.67, 136.00, 131.33, 001.00, 031.67, 038.67, 026.67],\n",
    "        [157.00, 139.33, 149.67, 137.33, 032.00, 001.00, 041.67, 030.33],\n",
    "        [120.00, 102.00, 113.00, 096.67, 037.00, 040.67, 001.00, 015.00], \n",
    "        [129.00, 111.00, 121.67, 105.33, 029.00, 029.67, 015.00, 001.00]\n",
    "        ]\n",
    "\n",
    "fares = [\n",
    "        [01.00, 10.67, 17.65, 25.33, 54.35, 53.55, 47.00, 48.65], \n",
    "        [12.00, 01.00, 56.65, 16.37, 45.60, 45.14, 38.58, 40.23],\n",
    "        [17.65, 16.22, 01.00, 10.67, 43.72, 46.08, 40.25, 40.57], \n",
    "        [16.67, 18.67, 10.67, 01.00, 42.02, 41.64, 35.08, 36.73],\n",
    "        [52.00, 43.33, 40.97, 39.41, 01.00, 10.67, 11.31, 08.00], \n",
    "        [52.77, 44.10, 45.35, 40.27, 08.00, 01.00, 10.64, 08.03],\n",
    "        [45.17, 36.50, 37.83, 34.50, 11.01, 10.24, 01.00, 08.00], \n",
    "        [47.43, 38.76, 40.09, 36.03, 09.33, 08.00, 08.00, 01.00]\n",
    "        ]\n",
    "salary = [computeYearlyToHourlyRate(24570.49), \n",
    "          computeYearlyToHourlyRate(16576.02), \n",
    "          computeYearlyToHourlyRate(21038.92), \n",
    "          computeYearlyToHourlyRate(16985.72), \n",
    "          computeYearlyToHourlyRate(29038.00), \n",
    "          computeYearlyToHourlyRate(30548.05), \n",
    "          computeYearlyToHourlyRate(27276.91), \n",
    "          computeYearlyToHourlyRate(39221.55)];\n",
    "\n",
    "nearestZones = computeNearestZones(lat, lng)\n",
    "\n",
    "    \n",
    "fareBus = [\n",
    "    [00.00, 12.00, 12.00, 31.92, 55.08, 56.58, 38.75, 41.75],\n",
    "    [12.00, 00.00, 25.08, 16.00, 46.83, 48.33, 30.83, 33.83],\n",
    "    [12.00, 25.00, 00.00, 12.00, 48.42, 49.92, 32.42, 35.42],\n",
    "    [32.25, 16.00, 12.00, 00.00, 43.17, 44.67, 27.33, 30.33],\n",
    "    [55.08, 46.50, 47.67, 42.67, 00.00, None, None, None],\n",
    "    [59.42, 50.83, 52.00, 47.00, None, 00.00, None, None],\n",
    "    [34.75, 26.00, 27.33, 22.25, 09.13, 08.25, 00.00, 06.25],\n",
    "    [47.75, 39.00, 40.33, 35.25, 06.00, 06.00, None, 00.00]\n",
    "]\n",
    "\n",
    "travelTimeBus = [\n",
    "    [000.00, 027.00, 062.00, 075.33, 172.33, 189.33, 130.00, 157.67],\n",
    "    [028.33, 000.00, 071.00, 054.33, 156.00, 173.33, 113.67, 141.67],\n",
    "    [062.00, 071.00, 000.00 ,037.00, 166.67, 184.33, 124.00, 152.00],\n",
    "    [076.00, 054.33, 037.00, 000.00, 154.00, 171.33, 111.67, 139.67],\n",
    "    [177.00, 159.00, 169.33, 157.33, 000.00, 036.00, 070.00, 039.00],\n",
    "    [198.67, 180.67, 191.00, 178.67, 036.00, 000.00, 079.00, 047.00],\n",
    "    [136.00, 118.00, 128.33, 116.00, 062.00, 072.50, 000.00, 033.50],\n",
    "    [165.67, 148.33, 158.33, 146.00, 034.50, 044.50, 031.00, 000.00]\n",
    "]\n",
    "\n",
    "fareJeep = [\n",
    "    [00.00, 08.00, 16.32, 21.33, 45.06, 47.37, 42.31, 42.35],\n",
    "    [08.00, 00.00, 16.22, 08.37, 41.79, 42.24, 37.18, 37.23],\n",
    "    [16.32, 16.22, 00.00, 08.00, 39.64, 43.83, 41.15, 38.91],\n",
    "    [21.33, 08.47, 08.00, 00.00, 32.68, 35.37, 31.51, 31.53],\n",
    "    [46.88, 43.99, 40.63, 32.87, 00.00, 10.67, 11.31, 08.00],\n",
    "    [50.86, 46.95, 46.64, 35.79, 08.00, 00.00, 10.64, 08.03],\n",
    "    [43.81, 37.56, 41.61, 31.76, 11.01, 10.30, 00.00, 08.00],\n",
    "    [43.88, 39.71, 39.61, 31.78, 08.00, 08.00, 08.00, 00.00]\n",
    "]\n",
    "\n",
    "travelTimeJeep = [\n",
    "    [000.00, 028.33, 053.67, 056.67, 144.67, 152.33, 118.00, 126.67], \n",
    "    [029.00, 000.00, 050.67, 047.67, 132.33, 134.67, 100.33, 109.00],\n",
    "    [053.33, 050.33, 000.00, 037.00, 132.00, 137.33, 114.33, 118.33],\n",
    "    [057.00, 047.67, 037.00, 000.00, 117.33, 122.33, 088.00, 096.67],\n",
    "    [147.67, 141.67, 133.33, 118.33, 000.00, 031.67, 038.67, 026.67],\n",
    "    [157.33, 142.67, 139.00, 124.00, 032.00, 000.00, 041.67, 030.33],\n",
    "    [121.00, 109.67, 115.00, 088.00, 037.00, 040.67, 000.00, 015.00],\n",
    "    [130.00, 115.67, 119.33, 096.33, 029.00, 029.67, 015.00, 000.00]\n",
    "]\n",
    "\n",
    "\n",
    "for x in range(len(fareBus)): \n",
    "    if(fareBus[x][nearestZones[x]] != None):\n",
    "        fareBus[x][x] = fareBus[x][nearestZones[x]] / 2\n",
    "    else:\n",
    "        fareBus[x][x] = None\n",
    "    travelTimeBus[x][x] = travelTimeBus[x][nearestZones[x]] / 2\n",
    "    fareJeep[x][x] = fareJeep[x][nearestZones[x]] / 2\n",
    "    travelTimeJeep[x][x] = travelTimeJeep[x][nearestZones[x]] / 2\n",
    "\n",
    "faresModes = [fareJeep, fareBus]\n",
    "travelTimesModes = [travelTimeJeep, travelTimeBus]\n",
    "\n"
   ]
  },
  {
   "cell_type": "markdown",
   "metadata": {},
   "source": [
    "Experiment 4: \n",
    "Scenario 1"
   ]
  },
  {
   "cell_type": "code",
   "execution_count": 33,
   "metadata": {
    "collapsed": true
   },
   "outputs": [],
   "source": [
    "productions = [\n",
    "    102989, \n",
    "    73253,\n",
    "    92057,\n",
    "    15821,\n",
    "    56998, \n",
    "    103039, \n",
    "    32610, \n",
    "    172844\n",
    "]\n",
    "attractions = [\n",
    "    78255.29,\n",
    "    80916.36,\n",
    "    76111.38,\n",
    "    8144.68,\n",
    "    36841.49,\n",
    "    135327.90,\n",
    "    54376.29,\n",
    "    179637.58\n",
    "]\n",
    "for x in range(len(fares)): \n",
    "    fares[x][x] = fares[x][nearestZones[x]] / 2\n",
    "    travelTime[x][x] = travelTime[x][nearestZones[x]] / 2"
   ]
  },
  {
   "cell_type": "code",
   "execution_count": 34,
   "metadata": {
    "collapsed": false
   },
   "outputs": [
    {
     "data": {
      "text/html": [
       "<table><tr><td>65513.2</td><td>19613.0</td><td>5465.3</td><td>669.8</td><td>1224.7</td><td>4766.2</td><td>1608.7</td><td>4128.1</td></tr><tr><td>18577.9</td><td>27540.3</td><td>7496.8</td><td>1036.8</td><td>1960.7</td><td>6966.9</td><td>2735.3</td><td>6938.3</td></tr><tr><td>5720.4</td><td>7408.0</td><td>60337.9</td><td>2065.8</td><td>1950.1</td><td>6224.2</td><td>2334.8</td><td>6015.8</td></tr><tr><td>1374.2</td><td>2051.3</td><td>4295.0</td><td>2352.8</td><td>601.3</td><td>2144.1</td><td>850.9</td><td>2151.3</td></tr><tr><td>99.5</td><td>152.8</td><td>162.4</td><td>23.8</td><td>18446.1</td><td>18456.9</td><td>2703.0</td><td>16953.6</td></tr><tr><td>102.7</td><td>156.2</td><td>148.9</td><td>24.2</td><td>5023.8</td><td>80428.5</td><td>2586.9</td><td>14567.7</td></tr><tr><td>36.8</td><td>61.0</td><td>54.7</td><td>10.2</td><td>786.3</td><td>2606.6</td><td>16641.1</td><td>12413.4</td></tr><tr><td>91.4</td><td>147.9</td><td>135.4</td><td>24.7</td><td>3673.9</td><td>14056.7</td><td>11960.7</td><td>142753.1</td></tr></table>"
      ],
      "text/plain": [
       "<IPython.core.display.HTML object>"
      ]
     },
     "metadata": {},
     "output_type": "display_data"
    }
   ],
   "source": [
    "td = TripDistribution(productions, attractions, travelTime, fares, salary)\n",
    "distribution = td.getTripDistribution()\n",
    "\n",
    "display(HTML(\n",
    "    '<table><tr>{}</tr></table>'.format(\n",
    "        '</tr><tr>'.join(\n",
    "            '<td>{}</td>'.format('</td><td>'.join(str(_) for _ in row)) for row in distribution)\n",
    "        )\n",
    "))"
   ]
  },
  {
   "cell_type": "code",
   "execution_count": 35,
   "metadata": {
    "collapsed": false
   },
   "outputs": [
    {
     "data": {
      "text/html": [
       "<table><tr><td>32843.79</td><td>9858.7</td><td>2815.78</td><td>378.36</td><td>719.02</td><td>2904.8</td><td>846.16</td><td>2393.22</td></tr><tr><td>9381.2</td><td>14094.03</td><td>4119.15</td><td>542.77</td><td>1077.39</td><td>4021.19</td><td>1405.53</td><td>3832.82</td></tr><tr><td>2933.62</td><td>4145.98</td><td>30354.54</td><td>1045.61</td><td>1151.34</td><td>3815.37</td><td>1186.78</td><td>3427.98</td></tr><tr><td>757.3</td><td>1074.15</td><td>2173.92</td><td>1183.64</td><td>349.9</td><td>1290.22</td><td>456.46</td><td>1238.24</td></tr><tr><td>59.91</td><td>85.16</td><td>100.7</td><td>15.06</td><td>18446.1</td><td>18456.9</td><td>2703.0</td><td>16953.6</td></tr><tr><td>66.12</td><td>97.95</td><td>99.87</td><td>16.61</td><td>5023.8</td><td>80428.5</td><td>2586.9</td><td>14567.7</td></tr><tr><td>19.49</td><td>30.9</td><td>28.27</td><td>5.78</td><td>447.79</td><td>1534.32</td><td>8746.21</td><td>6840.09</td></tr><tr><td>59.46</td><td>93.54</td><td>89.2</td><td>17.32</td><td>1910.25</td><td>7854.5</td><td>11960.7</td><td>142753.1</td></tr></table>"
      ],
      "text/plain": [
       "<IPython.core.display.HTML object>"
      ]
     },
     "metadata": {},
     "output_type": "display_data"
    }
   ],
   "source": [
    "modal_split = ModalSplit(distribution,\"datapath\", salary, faresModes, travelTimesModes)\n",
    "list_of_dataframes_by_mode = modal_split.process_od_matrix()\n",
    "display(HTML(\n",
    "    '<table><tr>{}</tr></table>'.format(\n",
    "        '</tr><tr>'.join(\n",
    "            '<td>{}</td>'.format('</td><td>'.join(str(_) for _ in row)) for row in list_of_dataframes_by_mode[0])\n",
    "        )\n",
    "))"
   ]
  },
  {
   "cell_type": "code",
   "execution_count": 36,
   "metadata": {
    "collapsed": false
   },
   "outputs": [
    {
     "data": {
      "text/html": [
       "<table><tr><td>32681.78</td><td>9761.7</td><td>2661.3</td><td>297.55</td><td>520.56</td><td>1933.46</td><td>768.46</td><td>1780.91</td></tr><tr><td>9209.78</td><td>13492.18</td><td>3429.94</td><td>497.48</td><td>897.0</td><td>3020.98</td><td>1335.14</td><td>3156.74</td></tr><tr><td>2797.19</td><td>3324.21</td><td>30009.67</td><td>1021.99</td><td>823.32</td><td>2505.8</td><td>1150.77</td><td>2646.76</td></tr><tr><td>626.8</td><td>984.02</td><td>2124.83</td><td>1170.19</td><td>258.28</td><td>884.13</td><td>398.82</td><td>935.83</td></tr><tr><td>41.0</td><td>68.87</td><td>64.38</td><td>9.17</td><td>None</td><td>None</td><td>None</td><td>None</td></tr><tr><td>38.58</td><td>60.96</td><td>52.4</td><td>8.18</td><td>None</td><td>None</td><td>None</td><td>None</td></tr><tr><td>17.46</td><td>30.16</td><td>26.56</td><td>4.52</td><td>346.18</td><td>1104.48</td><td>7955.16</td><td>5662.62</td></tr><tr><td>33.79</td><td>57.03</td><td>49.08</td><td>8.02</td><td>1774.03</td><td>6318.48</td><td>None</td><td>None</td></tr></table>"
      ],
      "text/plain": [
       "<IPython.core.display.HTML object>"
      ]
     },
     "metadata": {},
     "output_type": "display_data"
    }
   ],
   "source": [
    "display(HTML(\n",
    "    '<table><tr>{}</tr></table>'.format(\n",
    "        '</tr><tr>'.join(\n",
    "            '<td>{}</td>'.format('</td><td>'.join(str(_) for _ in row)) for row in list_of_dataframes_by_mode[1])\n",
    "        )\n",
    "))"
   ]
  },
  {
   "cell_type": "markdown",
   "metadata": {},
   "source": [
    "Scenario 2"
   ]
  },
  {
   "cell_type": "code",
   "execution_count": 38,
   "metadata": {
    "collapsed": false
   },
   "outputs": [
    {
     "name": "stdout",
     "output_type": "stream",
     "text": [
      "OD Matrix\n"
     ]
    },
    {
     "data": {
      "text/html": [
       "<table><tr><td>65462.9</td><td>19438.3</td><td>5351.8</td><td>672.7</td><td>1516.9</td><td>4843.8</td><td>1433.8</td><td>4268.8</td></tr><tr><td>18535.9</td><td>27254.2</td><td>7330.0</td><td>1039.7</td><td>2424.9</td><td>7069.7</td><td>2434.3</td><td>7164.1</td></tr><tr><td>5765.9</td><td>7406.1</td><td>59600.5</td><td>2092.8</td><td>2436.5</td><td>6380.7</td><td>2099.2</td><td>6275.2</td></tr><tr><td>1367.9</td><td>2025.3</td><td>4189.7</td><td>2353.9</td><td>741.9</td><td>2170.7</td><td>755.5</td><td>2216.2</td></tr><tr><td>91.4</td><td>139.3</td><td>146.2</td><td>22.0</td><td>21011.1</td><td>17249.8</td><td>2215.5</td><td>16122.6</td></tr><tr><td>100.0</td><td>150.8</td><td>142.0</td><td>23.7</td><td>6062.6</td><td>79636.3</td><td>2246.4</td><td>14677.1</td></tr><tr><td>38.1</td><td>62.7</td><td>55.5</td><td>10.6</td><td>1009.7</td><td>2746.5</td><td>15377.9</td><td>13309.0</td></tr><tr><td>89.0</td><td>142.8</td><td>129.1</td><td>24.2</td><td>4430.9</td><td>13909.8</td><td>10380.2</td><td>143738.1</td></tr></table>"
      ],
      "text/plain": [
       "<IPython.core.display.HTML object>"
      ]
     },
     "metadata": {},
     "output_type": "display_data"
    },
    {
     "name": "stdout",
     "output_type": "stream",
     "text": [
      "Jeep: \n"
     ]
    },
    {
     "data": {
      "text/html": [
       "<table><tr><td>32818.57</td><td>9770.89</td><td>2757.3</td><td>380.0</td><td>890.57</td><td>2952.09</td><td>754.17</td><td>2474.79</td></tr><tr><td>9359.99</td><td>13947.62</td><td>4027.5</td><td>544.29</td><td>1332.46</td><td>4080.53</td><td>1250.86</td><td>3957.55</td></tr><tr><td>2956.95</td><td>4144.92</td><td>29983.57</td><td>1059.27</td><td>1438.51</td><td>3911.3</td><td>1067.03</td><td>3575.79</td></tr><tr><td>753.83</td><td>1060.54</td><td>2120.62</td><td>1184.19</td><td>431.72</td><td>1306.22</td><td>405.29</td><td>1275.59</td></tr><tr><td>55.03</td><td>77.64</td><td>90.66</td><td>13.92</td><td>21011.1</td><td>17249.8</td><td>2215.5</td><td>16122.6</td></tr><tr><td>64.39</td><td>94.57</td><td>95.25</td><td>16.26</td><td>6062.6</td><td>79636.3</td><td>2246.4</td><td>14677.1</td></tr><tr><td>20.18</td><td>31.76</td><td>28.69</td><td>6.01</td><td>575.01</td><td>1616.67</td><td>8082.3</td><td>7333.59</td></tr><tr><td>57.9</td><td>90.32</td><td>85.05</td><td>16.97</td><td>2303.86</td><td>7772.42</td><td>10380.2</td><td>143738.1</td></tr></table>"
      ],
      "text/plain": [
       "<IPython.core.display.HTML object>"
      ]
     },
     "metadata": {},
     "output_type": "display_data"
    },
    {
     "name": "stdout",
     "output_type": "stream",
     "text": [
      "Bus: \n"
     ]
    },
    {
     "data": {
      "text/html": [
       "<table><tr><td>32656.68</td><td>9674.75</td><td>2606.03</td><td>298.83</td><td>644.76</td><td>1964.94</td><td>684.91</td><td>1841.61</td></tr><tr><td>9188.96</td><td>13352.02</td><td>3353.63</td><td>498.87</td><td>1109.36</td><td>3065.56</td><td>1188.22</td><td>3259.48</td></tr><tr><td>2819.44</td><td>3323.36</td><td>29642.92</td><td>1035.35</td><td>1028.67</td><td>2568.8</td><td>1034.64</td><td>2760.89</td></tr><tr><td>623.93</td><td>971.54</td><td>2072.73</td><td>1170.74</td><td>318.67</td><td>895.09</td><td>354.11</td><td>964.06</td></tr><tr><td>37.66</td><td>62.79</td><td>57.96</td><td>8.48</td><td>None</td><td>None</td><td>None</td><td>None</td></tr><tr><td>37.56</td><td>58.86</td><td>49.97</td><td>8.01</td><td>None</td><td>None</td><td>None</td><td>None</td></tr><tr><td>18.08</td><td>31.0</td><td>26.95</td><td>4.69</td><td>444.54</td><td>1163.76</td><td>7351.29</td><td>6071.17</td></tr><tr><td>32.91</td><td>55.06</td><td>46.8</td><td>7.86</td><td>2139.57</td><td>6252.44</td><td>None</td><td>None</td></tr></table>"
      ],
      "text/plain": [
       "<IPython.core.display.HTML object>"
      ]
     },
     "metadata": {},
     "output_type": "display_data"
    }
   ],
   "source": [
    "productions = [\n",
    "    102989, \n",
    "    73253,\n",
    "    92057,\n",
    "    15821,\n",
    "    56998, \n",
    "    103039, \n",
    "    32610, \n",
    "    172844\n",
    "]\n",
    "attractions = [\n",
    "    78400.74,\n",
    "    80404.81,\n",
    "    75221.34,\n",
    "    8212.19,\n",
    "    43443.11,\n",
    "    133905.97,\n",
    "    48301.24,\n",
    "    181721.6\n",
    "]\n",
    "for x in range(len(fares)): \n",
    "    fares[x][x] = fares[x][nearestZones[x]] / 2\n",
    "    travelTime[x][x] = travelTime[x][nearestZones[x]] / 2\n",
    "td = TripDistribution(productions, attractions, travelTime, fares, salary)\n",
    "distribution = td.getTripDistribution()\n",
    "print(\"OD Matrix\")\n",
    "display(HTML(\n",
    "    '<table><tr>{}</tr></table>'.format(\n",
    "        '</tr><tr>'.join(\n",
    "            '<td>{}</td>'.format('</td><td>'.join(str(_) for _ in row)) for row in distribution)\n",
    "        )\n",
    "))\n",
    "modal_split = ModalSplit(distribution,\"datapath\", salary, faresModes, travelTimesModes)\n",
    "list_of_dataframes_by_mode = modal_split.process_od_matrix()\n",
    "print(\"Jeep: \")\n",
    "display(HTML(\n",
    "    '<table><tr>{}</tr></table>'.format(\n",
    "        '</tr><tr>'.join(\n",
    "            '<td>{}</td>'.format('</td><td>'.join(str(_) for _ in row)) for row in list_of_dataframes_by_mode[0])\n",
    "        )\n",
    "))\n",
    "print(\"Bus: \")\n",
    "display(HTML(\n",
    "    '<table><tr>{}</tr></table>'.format(\n",
    "        '</tr><tr>'.join(\n",
    "            '<td>{}</td>'.format('</td><td>'.join(str(_) for _ in row)) for row in list_of_dataframes_by_mode[1])\n",
    "        )\n",
    "))"
   ]
  },
  {
   "cell_type": "markdown",
   "metadata": {},
   "source": [
    "Scenario 3"
   ]
  },
  {
   "cell_type": "code",
   "execution_count": 39,
   "metadata": {
    "collapsed": false
   },
   "outputs": [
    {
     "name": "stdout",
     "output_type": "stream",
     "text": [
      "OD Matrix\n"
     ]
    },
    {
     "data": {
      "text/html": [
       "<table><tr><td>59162.1</td><td>18357.2</td><td>5212.4</td><td>672.4</td><td>6006.0</td><td>6593.4</td><td>1757.4</td><td>5228.3</td></tr><tr><td>15028.9</td><td>23091.1</td><td>6404.8</td><td>932.4</td><td>8613.5</td><td>8633.5</td><td>2676.8</td><td>7871.9</td></tr><tr><td>4752.6</td><td>6378.9</td><td>52941.6</td><td>1907.9</td><td>8798.4</td><td>7921.4</td><td>2346.6</td><td>7009.6</td></tr><tr><td>1023.2</td><td>1583.1</td><td>3377.4</td><td>1947.5</td><td>2431.2</td><td>2445.6</td><td>766.5</td><td>2246.6</td></tr><tr><td>36.4</td><td>57.9</td><td>62.7</td><td>9.7</td><td>36612.1</td><td>10333.8</td><td>1195.1</td><td>8690.4</td></tr><tr><td>60.6</td><td>95.6</td><td>92.9</td><td>15.9</td><td>16109.8</td><td>72751.9</td><td>1847.9</td><td>12064.4</td></tr><tr><td>26.1</td><td>44.8</td><td>40.9</td><td>8.1</td><td>3028.7</td><td>2832.4</td><td>14279.5</td><td>12349.4</td></tr><tr><td>61.6</td><td>103.3</td><td>96.3</td><td>18.5</td><td>13440.2</td><td>14505.7</td><td>9746.9</td><td>134871.5</td></tr></table>"
      ],
      "text/plain": [
       "<IPython.core.display.HTML object>"
      ]
     },
     "metadata": {},
     "output_type": "display_data"
    },
    {
     "name": "stdout",
     "output_type": "stream",
     "text": [
      "Jeep: \n"
     ]
    },
    {
     "data": {
      "text/html": [
       "<table><tr><td>29659.78</td><td>9227.46</td><td>2685.48</td><td>379.83</td><td>3526.1</td><td>4018.4</td><td>924.38</td><td>3031.05</td></tr><tr><td>7589.08</td><td>11817.11</td><td>3519.15</td><td>488.12</td><td>4733.05</td><td>4983.13</td><td>1375.47</td><td>4348.55</td></tr><tr><td>2437.3</td><td>3570.03</td><td>26633.64</td><td>965.69</td><td>5194.58</td><td>4855.74</td><td>1192.78</td><td>3994.27</td></tr><tr><td>563.87</td><td>828.98</td><td>1709.48</td><td>979.74</td><td>1414.74</td><td>1471.65</td><td>411.19</td><td>1293.09</td></tr><tr><td>21.92</td><td>32.27</td><td>38.88</td><td>6.14</td><td>36612.1</td><td>10333.8</td><td>1195.1</td><td>8690.4</td></tr><tr><td>39.02</td><td>59.95</td><td>62.31</td><td>10.91</td><td>16109.8</td><td>72751.9</td><td>1847.9</td><td>12064.4</td></tr><tr><td>13.83</td><td>22.69</td><td>21.14</td><td>4.59</td><td>1724.8</td><td>1667.23</td><td>7505.01</td><td>6804.82</td></tr><tr><td>40.07</td><td>65.34</td><td>63.44</td><td>12.97</td><td>6988.27</td><td>8105.39</td><td>9746.9</td><td>134871.5</td></tr></table>"
      ],
      "text/plain": [
       "<IPython.core.display.HTML object>"
      ]
     },
     "metadata": {},
     "output_type": "display_data"
    },
    {
     "name": "stdout",
     "output_type": "stream",
     "text": [
      "Bus: \n"
     ]
    },
    {
     "data": {
      "text/html": [
       "<table><tr><td>29513.48</td><td>9136.67</td><td>2538.15</td><td>298.7</td><td>2552.86</td><td>2674.69</td><td>839.49</td><td>2255.55</td></tr><tr><td>7450.41</td><td>11312.49</td><td>2930.33</td><td>447.39</td><td>3940.58</td><td>3743.65</td><td>1306.59</td><td>3581.51</td></tr><tr><td>2323.95</td><td>2862.42</td><td>26331.05</td><td>943.88</td><td>3714.61</td><td>3189.07</td><td>1156.58</td><td>3084.0</td></tr><tr><td>466.7</td><td>759.42</td><td>1670.87</td><td>968.61</td><td>1044.29</td><td>1008.45</td><td>359.26</td><td>977.29</td></tr><tr><td>15.0</td><td>26.1</td><td>24.86</td><td>3.74</td><td>None</td><td>None</td><td>None</td><td>None</td></tr><tr><td>22.76</td><td>37.31</td><td>32.69</td><td>5.38</td><td>None</td><td>None</td><td>None</td><td>None</td></tr><tr><td>12.38</td><td>22.15</td><td>19.86</td><td>3.59</td><td>1333.43</td><td>1200.16</td><td>6826.21</td><td>5633.43</td></tr><tr><td>22.78</td><td>39.83</td><td>34.91</td><td>6.01</td><td>6489.93</td><td>6520.3</td><td>None</td><td>None</td></tr></table>"
      ],
      "text/plain": [
       "<IPython.core.display.HTML object>"
      ]
     },
     "metadata": {},
     "output_type": "display_data"
    }
   ],
   "source": [
    "productions = [\n",
    "    102989, \n",
    "    73253,\n",
    "    92057,\n",
    "    15821,\n",
    "    56998, \n",
    "    103039, \n",
    "    32610, \n",
    "    172844\n",
    "]\n",
    "attractions = [\n",
    "    70990.66,\n",
    "    72805.32,\n",
    "    68111.76,\n",
    "    7436.01,\n",
    "    100735.33,\n",
    "    121249.79,\n",
    "    43736.03,\n",
    "    164546.11\n",
    "]\n",
    "for x in range(len(fares)): \n",
    "    fares[x][x] = fares[x][nearestZones[x]] / 2\n",
    "    travelTime[x][x] = travelTime[x][nearestZones[x]] / 2\n",
    "td = TripDistribution(productions, attractions, travelTime, fares, salary)\n",
    "distribution = td.getTripDistribution()\n",
    "print(\"OD Matrix\")\n",
    "display(HTML(\n",
    "    '<table><tr>{}</tr></table>'.format(\n",
    "        '</tr><tr>'.join(\n",
    "            '<td>{}</td>'.format('</td><td>'.join(str(_) for _ in row)) for row in distribution)\n",
    "        )\n",
    "))\n",
    "modal_split = ModalSplit(distribution,\"datapath\", salary, faresModes, travelTimesModes)\n",
    "list_of_dataframes_by_mode = modal_split.process_od_matrix()\n",
    "print(\"Jeep: \")\n",
    "display(HTML(\n",
    "    '<table><tr>{}</tr></table>'.format(\n",
    "        '</tr><tr>'.join(\n",
    "            '<td>{}</td>'.format('</td><td>'.join(str(_) for _ in row)) for row in list_of_dataframes_by_mode[0])\n",
    "        )\n",
    "))\n",
    "print(\"Bus: \")\n",
    "display(HTML(\n",
    "    '<table><tr>{}</tr></table>'.format(\n",
    "        '</tr><tr>'.join(\n",
    "            '<td>{}</td>'.format('</td><td>'.join(str(_) for _ in row)) for row in list_of_dataframes_by_mode[1])\n",
    "        )\n",
    "))"
   ]
  },
  {
   "cell_type": "markdown",
   "metadata": {},
   "source": [
    "Experiment 5"
   ]
  },
  {
   "cell_type": "code",
   "execution_count": null,
   "metadata": {
    "collapsed": true
   },
   "outputs": [],
   "source": []
  },
  {
   "cell_type": "markdown",
   "metadata": {},
   "source": [
    "Experiment 6"
   ]
  },
  {
   "cell_type": "code",
   "execution_count": 57,
   "metadata": {
    "collapsed": false
   },
   "outputs": [
    {
     "name": "stdout",
     "output_type": "stream",
     "text": [
      "OD Matrix\n"
     ]
    },
    {
     "data": {
      "text/html": [
       "<table><tr><td>89756.9</td><td>14405.7</td><td>1893.3</td><td>36.6</td><td>109.9</td><td>34840.8</td><td>19368.4</td><td>14464.4</td></tr><tr><td>0.8</td><td>72627.3</td><td>14.6</td><td>0.3</td><td>1.0</td><td>286.6</td><td>185.5</td><td>136.9</td></tr><tr><td>0.6</td><td>70.2</td><td>90760.2</td><td>1.5</td><td>2.3</td><td>587.1</td><td>363.0</td><td>272.1</td></tr><tr><td>2.1</td><td>299.0</td><td>294.9</td><td>8574.5</td><td>10.7</td><td>3109.6</td><td>2034.0</td><td>1496.1</td></tr><tr><td>0.1</td><td>10.0</td><td>5.0</td><td>0.1</td><td>36701.3</td><td>12059.2</td><td>2910.8</td><td>5311.5</td></tr><tr><td>0.0</td><td>0.1</td><td>0.0</td><td>0.0</td><td>0.3</td><td>102981.6</td><td>21.6</td><td>35.3</td></tr><tr><td>0.0</td><td>0.1</td><td>0.1</td><td>0.0</td><td>0.2</td><td>55.2</td><td>32428.2</td><td>126.1</td></tr><tr><td>0.0</td><td>0.7</td><td>0.3</td><td>0.0</td><td>2.0</td><td>629.0</td><td>882.2</td><td>171329.8</td></tr></table>"
      ],
      "text/plain": [
       "<IPython.core.display.HTML object>"
      ]
     },
     "metadata": {},
     "output_type": "display_data"
    },
    {
     "name": "stdout",
     "output_type": "stream",
     "text": [
      "Jeep: \n"
     ]
    },
    {
     "data": {
      "text/html": [
       "<table><tr><td>44997.9</td><td>7241.19</td><td>975.45</td><td>20.67</td><td>64.52</td><td>21233.99</td><td>10187.61</td><td>8385.58</td></tr><tr><td>0.4</td><td>37167.77</td><td>8.02</td><td>0.16</td><td>0.55</td><td>165.42</td><td>95.32</td><td>75.63</td></tr><tr><td>0.31</td><td>39.29</td><td>45659.26</td><td>0.76</td><td>1.36</td><td>359.89</td><td>184.51</td><td>155.05</td></tr><tr><td>1.16</td><td>156.57</td><td>149.26</td><td>4313.62</td><td>6.23</td><td>1871.21</td><td>1091.13</td><td>861.12</td></tr><tr><td>0.06</td><td>5.57</td><td>3.1</td><td>0.06</td><td>36701.3</td><td>12059.2</td><td>2910.8</td><td>5311.5</td></tr><tr><td>0.0</td><td>0.06</td><td>0.0</td><td>0.0</td><td>0.3</td><td>102981.6</td><td>21.6</td><td>35.3</td></tr><tr><td>0.0</td><td>0.05</td><td>0.05</td><td>0.0</td><td>0.11</td><td>32.49</td><td>17043.58</td><td>69.48</td></tr><tr><td>0.0</td><td>0.44</td><td>0.2</td><td>0.0</td><td>1.04</td><td>351.47</td><td>882.2</td><td>171329.8</td></tr></table>"
      ],
      "text/plain": [
       "<IPython.core.display.HTML object>"
      ]
     },
     "metadata": {},
     "output_type": "display_data"
    },
    {
     "name": "stdout",
     "output_type": "stream",
     "text": [
      "Bus: \n"
     ]
    },
    {
     "data": {
      "text/html": [
       "<table><tr><td>44775.94</td><td>7169.94</td><td>921.93</td><td>16.26</td><td>46.71</td><td>14133.56</td><td>9252.06</td><td>6240.13</td></tr><tr><td>0.4</td><td>35580.6</td><td>6.68</td><td>0.14</td><td>0.46</td><td>124.28</td><td>90.55</td><td>62.29</td></tr><tr><td>0.29</td><td>31.5</td><td>45140.52</td><td>0.74</td><td>0.97</td><td>236.36</td><td>178.91</td><td>119.72</td></tr><tr><td>0.96</td><td>143.43</td><td>145.89</td><td>4264.62</td><td>4.6</td><td>1282.25</td><td>953.35</td><td>650.82</td></tr><tr><td>0.04</td><td>4.51</td><td>1.98</td><td>0.04</td><td>None</td><td>None</td><td>None</td><td>None</td></tr><tr><td>0.0</td><td>0.04</td><td>0.0</td><td>0.0</td><td>None</td><td>None</td><td>None</td><td>None</td></tr><tr><td>0.0</td><td>0.05</td><td>0.05</td><td>0.0</td><td>0.09</td><td>23.39</td><td>15502.06</td><td>57.52</td></tr><tr><td>0.0</td><td>0.27</td><td>0.11</td><td>0.0</td><td>0.97</td><td>282.74</td><td>None</td><td>None</td></tr></table>"
      ],
      "text/plain": [
       "<IPython.core.display.HTML object>"
      ]
     },
     "metadata": {},
     "output_type": "display_data"
    }
   ],
   "source": [
    "productions = [\n",
    "    174876, \n",
    "    73253,\n",
    "    92057,\n",
    "    15821,\n",
    "    56998, \n",
    "    103039, \n",
    "    32610, \n",
    "    172844\n",
    "]\n",
    "attractions = [\n",
    "    87995.19,\n",
    "    90244.52,\n",
    "    84426.71,\n",
    "    9217.17,\n",
    "    41149.04,\n",
    "    150292.99,\n",
    "    54212.21,\n",
    "    203960.17\n",
    "]\n",
    "for x in range(len(fares)): \n",
    "    fares[x][x] = fares[x][nearestZones[x]] / 2\n",
    "    travelTime[x][x] = travelTime[x][nearestZones[x]] / 2\n",
    "td = TripDistribution(productions, attractions, travelTime, fares, salary)\n",
    "distribution = td.getTripDistribution()\n",
    "print(\"OD Matrix\")\n",
    "display(HTML(\n",
    "    '<table><tr>{}</tr></table>'.format(\n",
    "        '</tr><tr>'.join(\n",
    "            '<td>{}</td>'.format('</td><td>'.join(str(_) for _ in row)) for row in distribution)\n",
    "        )\n",
    "))\n",
    "modal_split = ModalSplit(distribution,\"datapath\", salary, faresModes, travelTimesModes)\n",
    "list_of_dataframes_by_mode = modal_split.process_od_matrix()\n",
    "print(\"Jeep: \")\n",
    "display(HTML(\n",
    "    '<table><tr>{}</tr></table>'.format(\n",
    "        '</tr><tr>'.join(\n",
    "            '<td>{}</td>'.format('</td><td>'.join(str(_) for _ in row)) for row in list_of_dataframes_by_mode[0])\n",
    "        )\n",
    "))\n",
    "print(\"Bus: \")\n",
    "display(HTML(\n",
    "    '<table><tr>{}</tr></table>'.format(\n",
    "        '</tr><tr>'.join(\n",
    "            '<td>{}</td>'.format('</td><td>'.join(str(_) for _ in row)) for row in list_of_dataframes_by_mode[1])\n",
    "        )\n",
    "))"
   ]
  },
  {
   "cell_type": "markdown",
   "metadata": {},
   "source": [
    "Experiment 7"
   ]
  },
  {
   "cell_type": "code",
   "execution_count": 53,
   "metadata": {
    "collapsed": false,
    "scrolled": false
   },
   "outputs": [
    {
     "name": "stdout",
     "output_type": "stream",
     "text": [
      "OD Matrix\n"
     ]
    },
    {
     "data": {
      "text/html": [
       "<table><tr><td>97914.9</td><td>4030.5</td><td>813.9</td><td>85.2</td><td>16.7</td><td>62.2</td><td>17.6</td><td>48.1</td></tr><tr><td>58275.6</td><td>11878.2</td><td>2343.1</td><td>276.7</td><td>56.0</td><td>190.9</td><td>63.0</td><td>169.6</td></tr><tr><td>40313.2</td><td>7178.1</td><td>42367.6</td><td>1238.7</td><td>125.1</td><td>383.1</td><td>120.8</td><td>330.4</td></tr><tr><td>9324.6</td><td>1913.8</td><td>2903.8</td><td>1358.4</td><td>37.1</td><td>127.1</td><td>42.4</td><td>113.8</td></tr><tr><td>9152.3</td><td>1932.1</td><td>1487.8</td><td>186.6</td><td>15437.7</td><td>14826.0</td><td>1824.7</td><td>12150.8</td></tr><tr><td>10357.1</td><td>2166.0</td><td>1496.0</td><td>207.8</td><td>4610.1</td><td>70839.0</td><td>1914.9</td><td>11448.1</td></tr><tr><td>3994.4</td><td>910.6</td><td>591.5</td><td>94.5</td><td>777.0</td><td>2472.3</td><td>13264.8</td><td>10505.0</td></tr><tr><td>10651.6</td><td>2369.3</td><td>1571.7</td><td>245.2</td><td>3894.3</td><td>14301.1</td><td>10226.7</td><td>129584.0</td></tr></table>"
      ],
      "text/plain": [
       "<IPython.core.display.HTML object>"
      ]
     },
     "metadata": {},
     "output_type": "display_data"
    },
    {
     "name": "stdout",
     "output_type": "stream",
     "text": [
      "Jeep: \n"
     ]
    },
    {
     "data": {
      "text/html": [
       "<table><tr><td>49087.76</td><td>2025.98</td><td>419.33</td><td>48.13</td><td>9.8</td><td>37.91</td><td>9.26</td><td>27.89</td></tr><tr><td>29427.16</td><td>6078.79</td><td>1287.43</td><td>144.85</td><td>30.77</td><td>110.18</td><td>32.37</td><td>93.69</td></tr><tr><td>20674.0</td><td>4017.31</td><td>21314.12</td><td>626.97</td><td>73.86</td><td>234.84</td><td>61.4</td><td>188.27</td></tr><tr><td>5138.63</td><td>1002.15</td><td>1469.76</td><td>683.38</td><td>21.59</td><td>76.48</td><td>22.75</td><td>65.5</td></tr><tr><td>5510.74</td><td>1076.86</td><td>922.56</td><td>118.07</td><td>15437.7</td><td>14826.0</td><td>1824.7</td><td>12150.8</td></tr><tr><td>6668.52</td><td>1358.29</td><td>1003.44</td><td>142.59</td><td>4610.1</td><td>70839.0</td><td>1914.9</td><td>11448.1</td></tr><tr><td>2115.95</td><td>461.21</td><td>305.73</td><td>53.54</td><td>442.49</td><td>1455.27</td><td>6971.7</td><td>5788.51</td></tr><tr><td>6929.45</td><td>1498.53</td><td>1035.42</td><td>171.96</td><td>2024.85</td><td>7991.06</td><td>10226.7</td><td>129584.0</td></tr></table>"
      ],
      "text/plain": [
       "<IPython.core.display.HTML object>"
      ]
     },
     "metadata": {},
     "output_type": "display_data"
    },
    {
     "name": "stdout",
     "output_type": "stream",
     "text": [
      "Bus: \n"
     ]
    },
    {
     "data": {
      "text/html": [
       "<table><tr><td>48845.62</td><td>2006.04</td><td>396.32</td><td>37.85</td><td>7.1</td><td>25.23</td><td>8.41</td><td>20.75</td></tr><tr><td>28889.46</td><td>5819.21</td><td>1072.02</td><td>132.77</td><td>25.62</td><td>82.78</td><td>30.75</td><td>77.16</td></tr><tr><td>19712.53</td><td>3221.05</td><td>21071.96</td><td>612.81</td><td>52.82</td><td>154.23</td><td>59.54</td><td>145.37</td></tr><tr><td>4253.13</td><td>918.06</td><td>1436.57</td><td>675.61</td><td>15.94</td><td>52.41</td><td>19.87</td><td>49.5</td></tr><tr><td>3771.1</td><td>870.84</td><td>589.78</td><td>71.9</td><td>None</td><td>None</td><td>None</td><td>None</td></tr><tr><td>3890.3</td><td>845.38</td><td>526.44</td><td>70.27</td><td>None</td><td>None</td><td>None</td><td>None</td></tr><tr><td>1895.26</td><td>450.23</td><td>287.19</td><td>41.84</td><td>342.09</td><td>1047.58</td><td>6341.14</td><td>4792.07</td></tr><tr><td>3938.25</td><td>913.57</td><td>569.71</td><td>79.6</td><td>1880.46</td><td>6428.33</td><td>None</td><td>None</td></tr></table>"
      ],
      "text/plain": [
       "<IPython.core.display.HTML object>"
      ]
     },
     "metadata": {},
     "output_type": "display_data"
    }
   ],
   "source": [
    "productions = [\n",
    "    102989, \n",
    "    73253,\n",
    "    92057,\n",
    "    15821,\n",
    "    56998, \n",
    "    103039, \n",
    "    32610, \n",
    "    172844\n",
    "]\n",
    "attractions = [\n",
    "    266532.47,\n",
    "    75437.47,\n",
    "    70574.22,\n",
    "    7704.85,\n",
    "    34397.42,\n",
    "    125633.36,\n",
    "    45317.23,\n",
    "    170494.98\n",
    "]\n",
    "for x in range(len(fares)): \n",
    "    fares[x][x] = fares[x][nearestZones[x]] / 2\n",
    "    travelTime[x][x] = travelTime[x][nearestZones[x]] / 2\n",
    "td = TripDistribution(productions, attractions, travelTime, fares, salary)\n",
    "distribution = td.getTripDistribution()\n",
    "print(\"OD Matrix\")\n",
    "display(HTML(\n",
    "    '<table><tr>{}</tr></table>'.format(\n",
    "        '</tr><tr>'.join(\n",
    "            '<td>{}</td>'.format('</td><td>'.join(str(_) for _ in row)) for row in distribution)\n",
    "        )\n",
    "))\n",
    "modal_split = ModalSplit(distribution,\"datapath\", salary, faresModes, travelTimesModes)\n",
    "list_of_dataframes_by_mode = modal_split.process_od_matrix()\n",
    "print(\"Jeep: \")\n",
    "display(HTML(\n",
    "    '<table><tr>{}</tr></table>'.format(\n",
    "        '</tr><tr>'.join(\n",
    "            '<td>{}</td>'.format('</td><td>'.join(str(_) for _ in row)) for row in list_of_dataframes_by_mode[0])\n",
    "        )\n",
    "))\n",
    "print(\"Bus: \")\n",
    "display(HTML(\n",
    "    '<table><tr>{}</tr></table>'.format(\n",
    "        '</tr><tr>'.join(\n",
    "            '<td>{}</td>'.format('</td><td>'.join(str(_) for _ in row)) for row in list_of_dataframes_by_mode[1])\n",
    "        )\n",
    "))"
   ]
  },
  {
   "cell_type": "markdown",
   "metadata": {},
   "source": [
    "Experiment 3\n",
    "decrease the travel fares of zone 1 to n to half "
   ]
  },
  {
   "cell_type": "code",
   "execution_count": 62,
   "metadata": {
    "collapsed": false
   },
   "outputs": [
    {
     "name": "stdout",
     "output_type": "stream",
     "text": [
      "Fares\n"
     ]
    },
    {
     "data": {
      "text/html": [
       "<table><tr><td>2.6675</td><td>5.335</td><td>8.825</td><td>12.665</td><td>27.175</td><td>26.775</td><td>23.5</td><td>24.325</td></tr><tr><td>12.0</td><td>8.185</td><td>56.65</td><td>16.37</td><td>45.6</td><td>45.14</td><td>38.58</td><td>40.23</td></tr><tr><td>17.65</td><td>16.22</td><td>5.335</td><td>10.67</td><td>43.72</td><td>46.08</td><td>40.25</td><td>40.57</td></tr><tr><td>16.67</td><td>18.67</td><td>10.67</td><td>5.335</td><td>42.02</td><td>41.64</td><td>35.08</td><td>36.73</td></tr><tr><td>52.0</td><td>43.33</td><td>40.97</td><td>39.41</td><td>5.335</td><td>10.67</td><td>11.31</td><td>8.0</td></tr><tr><td>52.77</td><td>44.1</td><td>45.35</td><td>40.27</td><td>8.0</td><td>4.0</td><td>10.64</td><td>8.03</td></tr><tr><td>45.17</td><td>36.5</td><td>37.83</td><td>34.5</td><td>11.01</td><td>10.24</td><td>4.0</td><td>8.0</td></tr><tr><td>47.43</td><td>38.76</td><td>40.09</td><td>36.03</td><td>9.33</td><td>8.0</td><td>8.0</td><td>4.0</td></tr></table>"
      ],
      "text/plain": [
       "<IPython.core.display.HTML object>"
      ]
     },
     "metadata": {},
     "output_type": "display_data"
    },
    {
     "name": "stdout",
     "output_type": "stream",
     "text": [
      "OD Matrix\n"
     ]
    },
    {
     "data": {
      "text/html": [
       "<table><tr><td>65169.9</td><td>19473.2</td><td>5368.3</td><td>676.9</td><td>1297.6</td><td>5014.2</td><td>1500.7</td><td>4488.1</td></tr><tr><td>18357.6</td><td>27162.1</td><td>7319.4</td><td>1040.3</td><td>2063.8</td><td>7282.0</td><td>2534.4</td><td>7493.3</td></tr><tr><td>5708.1</td><td>7378.0</td><td>59489.7</td><td>2093.1</td><td>2072.9</td><td>6569.7</td><td>2184.6</td><td>6560.8</td></tr><tr><td>1349.4</td><td>2010.4</td><td>4167.1</td><td>2345.8</td><td>628.9</td><td>2227.0</td><td>783.5</td><td>2308.8</td></tr><tr><td>93.5</td><td>143.3</td><td>150.7</td><td>22.7</td><td>18459.1</td><td>18340.7</td><td>2381.0</td><td>17407.0</td></tr><tr><td>96.9</td><td>147.1</td><td>138.8</td><td>23.2</td><td>5049.4</td><td>80271.9</td><td>2288.8</td><td>15022.9</td></tr><tr><td>36.4</td><td>60.3</td><td>53.5</td><td>10.3</td><td>829.5</td><td>2730.6</td><td>15453.3</td><td>13436.1</td></tr><tr><td>84.8</td><td>136.9</td><td>124.1</td><td>23.3</td><td>3628.6</td><td>13786.2</td><td>10398.7</td><td>144661.4</td></tr></table>"
      ],
      "text/plain": [
       "<IPython.core.display.HTML object>"
      ]
     },
     "metadata": {},
     "output_type": "display_data"
    }
   ],
   "source": [
    "productions = [\n",
    "    102989, \n",
    "    73253,\n",
    "    92057,\n",
    "    15821,\n",
    "    56998, \n",
    "    103039, \n",
    "    32610, \n",
    "    172844\n",
    "]\n",
    "attractions = [\n",
    "    79227.72,\n",
    "    81252.94,\n",
    "    76014.79,\n",
    "    8298.81,\n",
    "    37049.12,\n",
    "    135318.44,\n",
    "    48810.73,\n",
    "    183638.44\n",
    "]\n",
    "\n",
    "travelTime = [\n",
    "        [001.00, 027.00, 053.67, 056.67, 140.67, 142.67, 114.67, 123.67], \n",
    "        [028.33, 001.00, 050.67, 051.00, 124.33, 132.00, 098.33, 106.67],\n",
    "        [052.33, 050.33, 001.00, 037.00, 127.67, 143.00, 109.00, 117.33], \n",
    "        [057.00, 051.00, 037.00, 001.00, 122.67, 130.00, 096.33, 104.67],\n",
    "        [151.33, 133.67, 136.00, 131.33, 001.00, 031.67, 038.67, 026.67],\n",
    "        [157.00, 139.33, 149.67, 137.33, 032.00, 001.00, 041.67, 030.33],\n",
    "        [120.00, 102.00, 113.00, 096.67, 037.00, 040.67, 001.00, 015.00], \n",
    "        [129.00, 111.00, 121.67, 105.33, 029.00, 029.67, 015.00, 001.00]\n",
    "        ]\n",
    "\n",
    "fares = [\n",
    "        [01.00, 10.67, 17.65, 25.33, 54.35, 53.55, 47.00, 48.65], \n",
    "        [12.00, 01.00, 56.65, 16.37, 45.60, 45.14, 38.58, 40.23],\n",
    "        [17.65, 16.22, 01.00, 10.67, 43.72, 46.08, 40.25, 40.57], \n",
    "        [16.67, 18.67, 10.67, 01.00, 42.02, 41.64, 35.08, 36.73],\n",
    "        [52.00, 43.33, 40.97, 39.41, 01.00, 10.67, 11.31, 08.00], \n",
    "        [52.77, 44.10, 45.35, 40.27, 08.00, 01.00, 10.64, 08.03],\n",
    "        [45.17, 36.50, 37.83, 34.50, 11.01, 10.24, 01.00, 08.00], \n",
    "        [47.43, 38.76, 40.09, 36.03, 09.33, 08.00, 08.00, 01.00]\n",
    "        ]\n",
    "\n",
    "for x in range(len(productions)):\n",
    "    for y in range(len(productions)):\n",
    "        if(x== 0):\n",
    "            fares[x][y] = fares[x][y]/2\n",
    "\n",
    "for x in range(len(fares)): \n",
    "    fares[x][x] = fares[x][nearestZones[x]] / 2\n",
    "    travelTime[x][x] = travelTime[x][nearestZones[x]] / 2\n",
    "\n",
    "td = TripDistribution(productions, attractions, travelTime, fares, salary)\n",
    "distribution = td.getTripDistribution()\n",
    "print(\"Fares\")\n",
    "display(HTML(\n",
    "    '<table><tr>{}</tr></table>'.format(\n",
    "        '</tr><tr>'.join(\n",
    "            '<td>{}</td>'.format('</td><td>'.join(str(_) for _ in row)) for row in fares)\n",
    "        )\n",
    "))\n",
    "\n",
    "print(\"OD Matrix\")\n",
    "display(HTML(\n",
    "    '<table><tr>{}</tr></table>'.format(\n",
    "        '</tr><tr>'.join(\n",
    "            '<td>{}</td>'.format('</td><td>'.join(str(_) for _ in row)) for row in distribution)\n",
    "        )\n",
    "))\n",
    "modal_split = ModalSplit(distribution,\"datapath\", salary, faresModes, travelTimesModes)\n",
    "list_of_dataframes_by_mode = modal_split.process_od_matrix()"
   ]
  },
  {
   "cell_type": "markdown",
   "metadata": {},
   "source": [
    "Increase the travel fare of zone 1 to n by x2"
   ]
  },
  {
   "cell_type": "code",
   "execution_count": 61,
   "metadata": {
    "collapsed": false
   },
   "outputs": [
    {
     "name": "stdout",
     "output_type": "stream",
     "text": [
      "Fare\n"
     ]
    },
    {
     "data": {
      "text/html": [
       "<table><tr><td>10.67</td><td>21.34</td><td>35.3</td><td>50.66</td><td>108.7</td><td>107.1</td><td>94.0</td><td>97.3</td></tr><tr><td>12.0</td><td>8.185</td><td>56.65</td><td>16.37</td><td>45.6</td><td>45.14</td><td>38.58</td><td>40.23</td></tr><tr><td>17.65</td><td>16.22</td><td>5.335</td><td>10.67</td><td>43.72</td><td>46.08</td><td>40.25</td><td>40.57</td></tr><tr><td>16.67</td><td>18.67</td><td>10.67</td><td>5.335</td><td>42.02</td><td>41.64</td><td>35.08</td><td>36.73</td></tr><tr><td>52.0</td><td>43.33</td><td>40.97</td><td>39.41</td><td>5.335</td><td>10.67</td><td>11.31</td><td>8.0</td></tr><tr><td>52.77</td><td>44.1</td><td>45.35</td><td>40.27</td><td>8.0</td><td>4.0</td><td>10.64</td><td>8.03</td></tr><tr><td>45.17</td><td>36.5</td><td>37.83</td><td>34.5</td><td>11.01</td><td>10.24</td><td>4.0</td><td>8.0</td></tr><tr><td>47.43</td><td>38.76</td><td>40.09</td><td>36.03</td><td>9.33</td><td>8.0</td><td>8.0</td><td>4.0</td></tr></table>"
      ],
      "text/plain": [
       "<IPython.core.display.HTML object>"
      ]
     },
     "metadata": {},
     "output_type": "display_data"
    },
    {
     "name": "stdout",
     "output_type": "stream",
     "text": [
      "OD Matrix\n"
     ]
    },
    {
     "data": {
      "text/html": [
       "<table><tr><td>66006.0</td><td>19428.2</td><td>5358.5</td><td>670.1</td><td>1217.5</td><td>4699.7</td><td>1408.5</td><td>4200.4</td></tr><tr><td>18873.3</td><td>27507.6</td><td>7401.9</td><td>1047.1</td><td>1965.1</td><td>6924.1</td><td>2415.6</td><td>7118.3</td></tr><tr><td>5863.1</td><td>7465.0</td><td>60104.3</td><td>2104.7</td><td>1971.9</td><td>6241.0</td><td>2080.3</td><td>6226.8</td></tr><tr><td>1402.0</td><td>2057.6</td><td>4258.8</td><td>2386.1</td><td>605.2</td><td>2140.0</td><td>754.7</td><td>2216.5</td></tr><tr><td>101.0</td><td>152.5</td><td>160.2</td><td>24.1</td><td>18470.6</td><td>18327.0</td><td>2384.9</td><td>17377.8</td></tr><tr><td>104.8</td><td>156.6</td><td>147.6</td><td>24.6</td><td>5055.0</td><td>80251.7</td><td>2293.7</td><td>15005.0</td></tr><tr><td>39.3</td><td>64.1</td><td>56.8</td><td>10.9</td><td>829.7</td><td>2727.6</td><td>15473.0</td><td>13408.6</td></tr><tr><td>91.7</td><td>145.9</td><td>132.0</td><td>24.7</td><td>3635.3</td><td>13792.6</td><td>10428.4</td><td>144593.4</td></tr></table>"
      ],
      "text/plain": [
       "<IPython.core.display.HTML object>"
      ]
     },
     "metadata": {},
     "output_type": "display_data"
    }
   ],
   "source": [
    "productions = [\n",
    "    102989, \n",
    "    73253,\n",
    "    92057,\n",
    "    15821,\n",
    "    56998, \n",
    "    103039, \n",
    "    32610, \n",
    "    172844\n",
    "]\n",
    "attractions = [\n",
    "    79227.72,\n",
    "    81252.94,\n",
    "    76014.79,\n",
    "    8298.81,\n",
    "    37049.12,\n",
    "    135318.44,\n",
    "    48810.73,\n",
    "    183638.44\n",
    "]\n",
    "\n",
    "travelTime = [\n",
    "        [001.00, 027.00, 053.67, 056.67, 140.67, 142.67, 114.67, 123.67], \n",
    "        [028.33, 001.00, 050.67, 051.00, 124.33, 132.00, 098.33, 106.67],\n",
    "        [052.33, 050.33, 001.00, 037.00, 127.67, 143.00, 109.00, 117.33], \n",
    "        [057.00, 051.00, 037.00, 001.00, 122.67, 130.00, 096.33, 104.67],\n",
    "        [151.33, 133.67, 136.00, 131.33, 001.00, 031.67, 038.67, 026.67],\n",
    "        [157.00, 139.33, 149.67, 137.33, 032.00, 001.00, 041.67, 030.33],\n",
    "        [120.00, 102.00, 113.00, 096.67, 037.00, 040.67, 001.00, 015.00], \n",
    "        [129.00, 111.00, 121.67, 105.33, 029.00, 029.67, 015.00, 001.00]\n",
    "        ]\n",
    "\n",
    "fares = [\n",
    "        [01.00, 10.67, 17.65, 25.33, 54.35, 53.55, 47.00, 48.65], \n",
    "        [12.00, 01.00, 56.65, 16.37, 45.60, 45.14, 38.58, 40.23],\n",
    "        [17.65, 16.22, 01.00, 10.67, 43.72, 46.08, 40.25, 40.57], \n",
    "        [16.67, 18.67, 10.67, 01.00, 42.02, 41.64, 35.08, 36.73],\n",
    "        [52.00, 43.33, 40.97, 39.41, 01.00, 10.67, 11.31, 08.00], \n",
    "        [52.77, 44.10, 45.35, 40.27, 08.00, 01.00, 10.64, 08.03],\n",
    "        [45.17, 36.50, 37.83, 34.50, 11.01, 10.24, 01.00, 08.00], \n",
    "        [47.43, 38.76, 40.09, 36.03, 09.33, 08.00, 08.00, 01.00]\n",
    "        ]\n",
    "\n",
    "for x in range(len(productions)):\n",
    "    for y in range(len(productions)):\n",
    "        if(x== 0):\n",
    "            fares[x][y] = fares[x][y]*2\n",
    "\n",
    "for x in range(len(fares)): \n",
    "    fares[x][x] = fares[x][nearestZones[x]] / 2\n",
    "    travelTime[x][x] = travelTime[x][nearestZones[x]] / 2\n",
    "            \n",
    "print(\"Fare\")\n",
    "display(HTML(\n",
    "    '<table><tr>{}</tr></table>'.format(\n",
    "        '</tr><tr>'.join(\n",
    "            '<td>{}</td>'.format('</td><td>'.join(str(_) for _ in row)) for row in fares)\n",
    "        )\n",
    "))\n",
    "\n",
    "td = TripDistribution(productions, attractions, travelTime, fares, salary)\n",
    "distribution = td.getTripDistribution()\n",
    "print(\"OD Matrix\")\n",
    "display(HTML(\n",
    "    '<table><tr>{}</tr></table>'.format(\n",
    "        '</tr><tr>'.join(\n",
    "            '<td>{}</td>'.format('</td><td>'.join(str(_) for _ in row)) for row in distribution)\n",
    "        )\n",
    "))\n",
    "modal_split = ModalSplit(distribution,\"datapath\", salary, faresModes, travelTimesModes)\n",
    "list_of_dataframes_by_mode = modal_split.process_od_matrix()"
   ]
  },
  {
   "cell_type": "markdown",
   "metadata": {},
   "source": [
    "decrease travel time of zone 1 to n by half"
   ]
  },
  {
   "cell_type": "code",
   "execution_count": 64,
   "metadata": {
    "collapsed": false
   },
   "outputs": [
    {
     "name": "stdout",
     "output_type": "stream",
     "text": [
      "Fare\n"
     ]
    },
    {
     "data": {
      "text/html": [
       "<table><tr><td>6.75</td><td>13.5</td><td>26.835</td><td>28.335</td><td>70.335</td><td>71.335</td><td>57.335</td><td>61.835</td></tr><tr><td>28.33</td><td>25.5</td><td>50.67</td><td>51.0</td><td>124.33</td><td>132.0</td><td>98.33</td><td>106.67</td></tr><tr><td>52.33</td><td>50.33</td><td>18.5</td><td>37.0</td><td>127.67</td><td>143.0</td><td>109.0</td><td>117.33</td></tr><tr><td>57.0</td><td>51.0</td><td>37.0</td><td>18.5</td><td>122.67</td><td>130.0</td><td>96.33</td><td>104.67</td></tr><tr><td>151.33</td><td>133.67</td><td>136.0</td><td>131.33</td><td>15.835</td><td>31.67</td><td>38.67</td><td>26.67</td></tr><tr><td>157.0</td><td>139.33</td><td>149.67</td><td>137.33</td><td>32.0</td><td>16.0</td><td>41.67</td><td>30.33</td></tr><tr><td>120.0</td><td>102.0</td><td>113.0</td><td>96.67</td><td>37.0</td><td>40.67</td><td>7.5</td><td>15.0</td></tr><tr><td>129.0</td><td>111.0</td><td>121.67</td><td>105.33</td><td>29.0</td><td>29.67</td><td>15.0</td><td>7.5</td></tr></table>"
      ],
      "text/plain": [
       "<IPython.core.display.HTML object>"
      ]
     },
     "metadata": {},
     "output_type": "display_data"
    },
    {
     "name": "stdout",
     "output_type": "stream",
     "text": [
      "OD Matrix\n"
     ]
    },
    {
     "data": {
      "text/html": [
       "<table><tr><td>45323.1</td><td>35502.4</td><td>7244.6</td><td>948.2</td><td>1484.6</td><td>5736.4</td><td>1710.8</td><td>5038.8</td></tr><tr><td>9783.2</td><td>37946.6</td><td>7554.6</td><td>1118.5</td><td>1808.9</td><td>6380.1</td><td>2214.8</td><td>6446.2</td></tr><tr><td>3039.7</td><td>10299.7</td><td>61354.4</td><td>2248.6</td><td>1815.5</td><td>5751.6</td><td>1907.7</td><td>5639.8</td></tr><tr><td>732.9</td><td>2862.4</td><td>4383.2</td><td>2570.3</td><td>561.8</td><td>1988.5</td><td>697.8</td><td>2024.2</td></tr><tr><td>57.1</td><td>229.4</td><td>178.3</td><td>28.0</td><td>18542.4</td><td>18416.2</td><td>2384.7</td><td>17162.0</td></tr><tr><td>59.1</td><td>235.0</td><td>163.8</td><td>28.5</td><td>5061.0</td><td>80425.4</td><td>2287.3</td><td>14778.9</td></tr><tr><td>22.3</td><td>96.9</td><td>63.5</td><td>12.7</td><td>836.2</td><td>2751.6</td><td>15532.4</td><td>13294.4</td></tr><tr><td>52.3</td><td>221.6</td><td>148.4</td><td>29.0</td><td>3684.9</td><td>13994.3</td><td>10528.6</td><td>144184.9</td></tr></table>"
      ],
      "text/plain": [
       "<IPython.core.display.HTML object>"
      ]
     },
     "metadata": {},
     "output_type": "display_data"
    }
   ],
   "source": [
    "productions = [\n",
    "    102989, \n",
    "    73253,\n",
    "    92057,\n",
    "    15821,\n",
    "    56998, \n",
    "    103039, \n",
    "    32610, \n",
    "    172844\n",
    "]\n",
    "attractions = [\n",
    "    79227.72,\n",
    "    81252.94,\n",
    "    76014.79,\n",
    "    8298.81,\n",
    "    37049.12,\n",
    "    135318.44,\n",
    "    48810.73,\n",
    "    183638.44\n",
    "]\n",
    "\n",
    "travelTime = [\n",
    "        [001.00, 027.00, 053.67, 056.67, 140.67, 142.67, 114.67, 123.67], \n",
    "        [028.33, 001.00, 050.67, 051.00, 124.33, 132.00, 098.33, 106.67],\n",
    "        [052.33, 050.33, 001.00, 037.00, 127.67, 143.00, 109.00, 117.33], \n",
    "        [057.00, 051.00, 037.00, 001.00, 122.67, 130.00, 096.33, 104.67],\n",
    "        [151.33, 133.67, 136.00, 131.33, 001.00, 031.67, 038.67, 026.67],\n",
    "        [157.00, 139.33, 149.67, 137.33, 032.00, 001.00, 041.67, 030.33],\n",
    "        [120.00, 102.00, 113.00, 096.67, 037.00, 040.67, 001.00, 015.00], \n",
    "        [129.00, 111.00, 121.67, 105.33, 029.00, 029.67, 015.00, 001.00]\n",
    "        ]\n",
    "\n",
    "fares = [\n",
    "        [01.00, 10.67, 17.65, 25.33, 54.35, 53.55, 47.00, 48.65], \n",
    "        [12.00, 01.00, 56.65, 16.37, 45.60, 45.14, 38.58, 40.23],\n",
    "        [17.65, 16.22, 01.00, 10.67, 43.72, 46.08, 40.25, 40.57], \n",
    "        [16.67, 18.67, 10.67, 01.00, 42.02, 41.64, 35.08, 36.73],\n",
    "        [52.00, 43.33, 40.97, 39.41, 01.00, 10.67, 11.31, 08.00], \n",
    "        [52.77, 44.10, 45.35, 40.27, 08.00, 01.00, 10.64, 08.03],\n",
    "        [45.17, 36.50, 37.83, 34.50, 11.01, 10.24, 01.00, 08.00], \n",
    "        [47.43, 38.76, 40.09, 36.03, 09.33, 08.00, 08.00, 01.00]\n",
    "        ]\n",
    "\n",
    "for x in range(len(productions)):\n",
    "    for y in range(len(productions)):\n",
    "        if(x== 0):\n",
    "            travelTime[x][y] = travelTime[x][y]/2\n",
    "\n",
    "for x in range(len(fares)): \n",
    "    fares[x][x] = fares[x][nearestZones[x]] / 2\n",
    "    travelTime[x][x] = travelTime[x][nearestZones[x]] / 2\n",
    "            \n",
    "print(\"Fare\")\n",
    "display(HTML(\n",
    "    '<table><tr>{}</tr></table>'.format(\n",
    "        '</tr><tr>'.join(\n",
    "            '<td>{}</td>'.format('</td><td>'.join(str(_) for _ in row)) for row in travelTime)\n",
    "        )\n",
    "))\n",
    "\n",
    "td = TripDistribution(productions, attractions, travelTime, fares, salary)\n",
    "distribution = td.getTripDistribution()\n",
    "print(\"OD Matrix\")\n",
    "display(HTML(\n",
    "    '<table><tr>{}</tr></table>'.format(\n",
    "        '</tr><tr>'.join(\n",
    "            '<td>{}</td>'.format('</td><td>'.join(str(_) for _ in row)) for row in distribution)\n",
    "        )\n",
    "))\n",
    "modal_split = ModalSplit(distribution,\"datapath\", salary, faresModes, travelTimesModes)\n",
    "list_of_dataframes_by_mode = modal_split.process_od_matrix()"
   ]
  },
  {
   "cell_type": "markdown",
   "metadata": {},
   "source": [
    "Increase travel time of zone 1 to n by x2"
   ]
  },
  {
   "cell_type": "code",
   "execution_count": 68,
   "metadata": {
    "collapsed": false
   },
   "outputs": [
    {
     "name": "stdout",
     "output_type": "stream",
     "text": [
      "travel Time\n"
     ]
    },
    {
     "data": {
      "text/html": [
       "<table><tr><td>6.75</td><td>13.5</td><td>26.835</td><td>28.335</td><td>70.335</td><td>71.335</td><td>57.335</td><td>61.835</td></tr><tr><td>28.33</td><td>25.5</td><td>50.67</td><td>51.0</td><td>124.33</td><td>132.0</td><td>98.33</td><td>106.67</td></tr><tr><td>52.33</td><td>50.33</td><td>18.5</td><td>37.0</td><td>127.67</td><td>143.0</td><td>109.0</td><td>117.33</td></tr><tr><td>57.0</td><td>51.0</td><td>37.0</td><td>18.5</td><td>122.67</td><td>130.0</td><td>96.33</td><td>104.67</td></tr><tr><td>151.33</td><td>133.67</td><td>136.0</td><td>131.33</td><td>15.835</td><td>31.67</td><td>38.67</td><td>26.67</td></tr><tr><td>157.0</td><td>139.33</td><td>149.67</td><td>137.33</td><td>32.0</td><td>16.0</td><td>41.67</td><td>30.33</td></tr><tr><td>120.0</td><td>102.0</td><td>113.0</td><td>96.67</td><td>37.0</td><td>40.67</td><td>7.5</td><td>15.0</td></tr><tr><td>129.0</td><td>111.0</td><td>121.67</td><td>105.33</td><td>29.0</td><td>29.67</td><td>15.0</td><td>7.5</td></tr></table>"
      ],
      "text/plain": [
       "<IPython.core.display.HTML object>"
      ]
     },
     "metadata": {},
     "output_type": "display_data"
    },
    {
     "name": "stdout",
     "output_type": "stream",
     "text": [
      "OD Matrix\n"
     ]
    },
    {
     "data": {
      "text/html": [
       "<table><tr><td>45323.1</td><td>35502.4</td><td>7244.6</td><td>948.2</td><td>1484.6</td><td>5736.4</td><td>1710.8</td><td>5038.8</td></tr><tr><td>9783.2</td><td>37946.6</td><td>7554.6</td><td>1118.5</td><td>1808.9</td><td>6380.1</td><td>2214.8</td><td>6446.2</td></tr><tr><td>3039.7</td><td>10299.7</td><td>61354.4</td><td>2248.6</td><td>1815.5</td><td>5751.6</td><td>1907.7</td><td>5639.8</td></tr><tr><td>732.9</td><td>2862.4</td><td>4383.2</td><td>2570.3</td><td>561.8</td><td>1988.5</td><td>697.8</td><td>2024.2</td></tr><tr><td>57.1</td><td>229.4</td><td>178.3</td><td>28.0</td><td>18542.4</td><td>18416.2</td><td>2384.7</td><td>17162.0</td></tr><tr><td>59.1</td><td>235.0</td><td>163.8</td><td>28.5</td><td>5061.0</td><td>80425.4</td><td>2287.3</td><td>14778.9</td></tr><tr><td>22.3</td><td>96.9</td><td>63.5</td><td>12.7</td><td>836.2</td><td>2751.6</td><td>15532.4</td><td>13294.4</td></tr><tr><td>52.3</td><td>221.6</td><td>148.4</td><td>29.0</td><td>3684.9</td><td>13994.3</td><td>10528.6</td><td>144184.9</td></tr></table>"
      ],
      "text/plain": [
       "<IPython.core.display.HTML object>"
      ]
     },
     "metadata": {},
     "output_type": "display_data"
    }
   ],
   "source": [
    "productions = [\n",
    "    102989, \n",
    "    73253,\n",
    "    92057,\n",
    "    15821,\n",
    "    56998, \n",
    "    103039, \n",
    "    32610, \n",
    "    172844\n",
    "]\n",
    "attractions = [\n",
    "    79227.72,\n",
    "    81252.94,\n",
    "    76014.79,\n",
    "    8298.81,\n",
    "    37049.12,\n",
    "    135318.44,\n",
    "    48810.73,\n",
    "    183638.44\n",
    "]\n",
    "\n",
    "travelTime = [\n",
    "        [001.00, 027.00, 053.67, 056.67, 140.67, 142.67, 114.67, 123.67], \n",
    "        [028.33, 001.00, 050.67, 051.00, 124.33, 132.00, 098.33, 106.67],\n",
    "        [052.33, 050.33, 001.00, 037.00, 127.67, 143.00, 109.00, 117.33], \n",
    "        [057.00, 051.00, 037.00, 001.00, 122.67, 130.00, 096.33, 104.67],\n",
    "        [151.33, 133.67, 136.00, 131.33, 001.00, 031.67, 038.67, 026.67],\n",
    "        [157.00, 139.33, 149.67, 137.33, 032.00, 001.00, 041.67, 030.33],\n",
    "        [120.00, 102.00, 113.00, 096.67, 037.00, 040.67, 001.00, 015.00], \n",
    "        [129.00, 111.00, 121.67, 105.33, 029.00, 029.67, 015.00, 001.00]\n",
    "        ]\n",
    "\n",
    "fares = [\n",
    "        [01.00, 10.67, 17.65, 25.33, 54.35, 53.55, 47.00, 48.65], \n",
    "        [12.00, 01.00, 56.65, 16.37, 45.60, 45.14, 38.58, 40.23],\n",
    "        [17.65, 16.22, 01.00, 10.67, 43.72, 46.08, 40.25, 40.57], \n",
    "        [16.67, 18.67, 10.67, 01.00, 42.02, 41.64, 35.08, 36.73],\n",
    "        [52.00, 43.33, 40.97, 39.41, 01.00, 10.67, 11.31, 08.00], \n",
    "        [52.77, 44.10, 45.35, 40.27, 08.00, 01.00, 10.64, 08.03],\n",
    "        [45.17, 36.50, 37.83, 34.50, 11.01, 10.24, 01.00, 08.00], \n",
    "        [47.43, 38.76, 40.09, 36.03, 09.33, 08.00, 08.00, 01.00]\n",
    "        ]\n",
    "\n",
    "for x in range(len(productions)):\n",
    "    for y in range(len(productions)):\n",
    "        if(x== 0):\n",
    "            travelTime[x][y] = travelTime[x][y]/2\n",
    "\n",
    "for x in range(len(fares)): \n",
    "    fares[x][x] = fares[x][nearestZones[x]] / 2\n",
    "    travelTime[x][x] = travelTime[x][nearestZones[x]] / 2\n",
    "            \n",
    "print(\"travel Time\")\n",
    "display(HTML(\n",
    "    '<table><tr>{}</tr></table>'.format(\n",
    "        '</tr><tr>'.join(\n",
    "            '<td>{}</td>'.format('</td><td>'.join(str(_) for _ in row)) for row in travelTime)\n",
    "        )\n",
    "))\n",
    "\n",
    "td = TripDistribution(productions, attractions, travelTime, fares, salary)\n",
    "distribution = td.getTripDistribution()\n",
    "print(\"OD Matrix\")\n",
    "display(HTML(\n",
    "    '<table><tr>{}</tr></table>'.format(\n",
    "        '</tr><tr>'.join(\n",
    "            '<td>{}</td>'.format('</td><td>'.join(str(_) for _ in row)) for row in distribution)\n",
    "        )\n",
    "))\n",
    "modal_split = ModalSplit(distribution,\"datapath\", salary, faresModes, travelTimesModes)\n",
    "list_of_dataframes_by_mode = modal_split.process_od_matrix()"
   ]
  },
  {
   "cell_type": "markdown",
   "metadata": {},
   "source": [
    "Increase travel time of zone 1 to n by x2"
   ]
  },
  {
   "cell_type": "code",
   "execution_count": 69,
   "metadata": {
    "collapsed": false
   },
   "outputs": [
    {
     "name": "stdout",
     "output_type": "stream",
     "text": [
      "Travel Time\n"
     ]
    },
    {
     "data": {
      "text/html": [
       "<table><tr><td>27.0</td><td>54.0</td><td>107.34</td><td>113.34</td><td>281.34</td><td>285.34</td><td>229.34</td><td>247.34</td></tr><tr><td>28.33</td><td>25.5</td><td>50.67</td><td>51.0</td><td>124.33</td><td>132.0</td><td>98.33</td><td>106.67</td></tr><tr><td>52.33</td><td>50.33</td><td>18.5</td><td>37.0</td><td>127.67</td><td>143.0</td><td>109.0</td><td>117.33</td></tr><tr><td>57.0</td><td>51.0</td><td>37.0</td><td>18.5</td><td>122.67</td><td>130.0</td><td>96.33</td><td>104.67</td></tr><tr><td>151.33</td><td>133.67</td><td>136.0</td><td>131.33</td><td>15.835</td><td>31.67</td><td>38.67</td><td>26.67</td></tr><tr><td>157.0</td><td>139.33</td><td>149.67</td><td>137.33</td><td>32.0</td><td>16.0</td><td>41.67</td><td>30.33</td></tr><tr><td>120.0</td><td>102.0</td><td>113.0</td><td>96.67</td><td>37.0</td><td>40.67</td><td>7.5</td><td>15.0</td></tr><tr><td>129.0</td><td>111.0</td><td>121.67</td><td>105.33</td><td>29.0</td><td>29.67</td><td>15.0</td><td>7.5</td></tr></table>"
      ],
      "text/plain": [
       "<IPython.core.display.HTML object>"
      ]
     },
     "metadata": {},
     "output_type": "display_data"
    },
    {
     "name": "stdout",
     "output_type": "stream",
     "text": [
      "OD Matrix\n"
     ]
    },
    {
     "data": {
      "text/html": [
       "<table><tr><td>80671.0</td><td>8131.9</td><td>3437.6</td><td>399.7</td><td>1071.8</td><td>4136.5</td><td>1250.6</td><td>3889.9</td></tr><tr><td>29892.4</td><td>14920.7</td><td>6165.5</td><td>808.1</td><td>2242.5</td><td>7902.4</td><td>2778.1</td><td>8543.2</td></tr><tr><td>10145.1</td><td>4423.7</td><td>54695.6</td><td>1774.6</td><td>2458.3</td><td>7781.5</td><td>2613.8</td><td>8164.4</td></tr><tr><td>2283.2</td><td>1147.6</td><td>3647.5</td><td>1893.5</td><td>710.1</td><td>2511.3</td><td>892.4</td><td>2735.3</td></tr><tr><td>138.2</td><td>71.4</td><td>115.2</td><td>16.0</td><td>18206.2</td><td>18066.7</td><td>2369.2</td><td>18015.0</td></tr><tr><td>144.4</td><td>73.9</td><td>107.0</td><td>16.5</td><td>5020.2</td><td>79708.6</td><td>2295.7</td><td>15672.6</td></tr><tr><td>53.3</td><td>29.8</td><td>40.5</td><td>7.2</td><td>810.3</td><td>2664.3</td><td>15230.8</td><td>13773.7</td></tr><tr><td>122.0</td><td>66.5</td><td>92.4</td><td>16.0</td><td>3484.5</td><td>13222.1</td><td>10074.1</td><td>145766.4</td></tr></table>"
      ],
      "text/plain": [
       "<IPython.core.display.HTML object>"
      ]
     },
     "metadata": {},
     "output_type": "display_data"
    }
   ],
   "source": [
    "productions = [\n",
    "    102989, \n",
    "    73253,\n",
    "    92057,\n",
    "    15821,\n",
    "    56998, \n",
    "    103039, \n",
    "    32610, \n",
    "    172844\n",
    "]\n",
    "attractions = [\n",
    "    79227.72,\n",
    "    81252.94,\n",
    "    76014.79,\n",
    "    8298.81,\n",
    "    37049.12,\n",
    "    135318.44,\n",
    "    48810.73,\n",
    "    183638.44\n",
    "]\n",
    "\n",
    "travelTime = [\n",
    "        [001.00, 027.00, 053.67, 056.67, 140.67, 142.67, 114.67, 123.67], \n",
    "        [028.33, 001.00, 050.67, 051.00, 124.33, 132.00, 098.33, 106.67],\n",
    "        [052.33, 050.33, 001.00, 037.00, 127.67, 143.00, 109.00, 117.33], \n",
    "        [057.00, 051.00, 037.00, 001.00, 122.67, 130.00, 096.33, 104.67],\n",
    "        [151.33, 133.67, 136.00, 131.33, 001.00, 031.67, 038.67, 026.67],\n",
    "        [157.00, 139.33, 149.67, 137.33, 032.00, 001.00, 041.67, 030.33],\n",
    "        [120.00, 102.00, 113.00, 096.67, 037.00, 040.67, 001.00, 015.00], \n",
    "        [129.00, 111.00, 121.67, 105.33, 029.00, 029.67, 015.00, 001.00]\n",
    "        ]\n",
    "\n",
    "fares = [\n",
    "        [01.00, 10.67, 17.65, 25.33, 54.35, 53.55, 47.00, 48.65], \n",
    "        [12.00, 01.00, 56.65, 16.37, 45.60, 45.14, 38.58, 40.23],\n",
    "        [17.65, 16.22, 01.00, 10.67, 43.72, 46.08, 40.25, 40.57], \n",
    "        [16.67, 18.67, 10.67, 01.00, 42.02, 41.64, 35.08, 36.73],\n",
    "        [52.00, 43.33, 40.97, 39.41, 01.00, 10.67, 11.31, 08.00], \n",
    "        [52.77, 44.10, 45.35, 40.27, 08.00, 01.00, 10.64, 08.03],\n",
    "        [45.17, 36.50, 37.83, 34.50, 11.01, 10.24, 01.00, 08.00], \n",
    "        [47.43, 38.76, 40.09, 36.03, 09.33, 08.00, 08.00, 01.00]\n",
    "        ]\n",
    "\n",
    "for x in range(len(productions)):\n",
    "    for y in range(len(productions)):\n",
    "        if(x== 0):\n",
    "            travelTime[x][y] = travelTime[x][y]*2\n",
    "\n",
    "for x in range(len(fares)): \n",
    "    fares[x][x] = fares[x][nearestZones[x]] / 2\n",
    "    travelTime[x][x] = travelTime[x][nearestZones[x]] / 2\n",
    "            \n",
    "print(\"Travel Time\")\n",
    "display(HTML(\n",
    "    '<table><tr>{}</tr></table>'.format(\n",
    "        '</tr><tr>'.join(\n",
    "            '<td>{}</td>'.format('</td><td>'.join(str(_) for _ in row)) for row in travelTime)\n",
    "        )\n",
    "))\n",
    "\n",
    "td = TripDistribution(productions, attractions, travelTime, fares, salary)\n",
    "distribution = td.getTripDistribution()\n",
    "print(\"OD Matrix\")\n",
    "display(HTML(\n",
    "    '<table><tr>{}</tr></table>'.format(\n",
    "        '</tr><tr>'.join(\n",
    "            '<td>{}</td>'.format('</td><td>'.join(str(_) for _ in row)) for row in distribution)\n",
    "        )\n",
    "))\n",
    "modal_split = ModalSplit(distribution,\"datapath\", salary, faresModes, travelTimesModes)\n",
    "list_of_dataframes_by_mode = modal_split.process_od_matrix()"
   ]
  },
  {
   "cell_type": "code",
   "execution_count": null,
   "metadata": {
    "collapsed": true
   },
   "outputs": [],
   "source": []
  }
 ],
 "metadata": {
  "anaconda-cloud": {},
  "kernelspec": {
   "display_name": "Python [default]",
   "language": "python",
   "name": "python3"
  },
  "language_info": {
   "codemirror_mode": {
    "name": "ipython",
    "version": 3
   },
   "file_extension": ".py",
   "mimetype": "text/x-python",
   "name": "python",
   "nbconvert_exporter": "python",
   "pygments_lexer": "ipython3",
   "version": "3.5.2"
  }
 },
 "nbformat": 4,
 "nbformat_minor": 1
}
