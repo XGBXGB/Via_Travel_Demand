{
 "cells": [
  {
   "cell_type": "markdown",
   "metadata": {},
   "source": [
    "# Trip Distribution Class"
   ]
  },
  {
   "cell_type": "markdown",
   "metadata": {},
   "source": [
    "# Data\n",
    "## The result from trip generation (trip production and attraction) will be passed to trip distribution"
   ]
  },
  {
   "cell_type": "code",
   "execution_count": 57,
   "metadata": {
    "collapsed": true
   },
   "outputs": [],
   "source": [
    "\n",
    "from IPython.display import HTML, display\n",
    "\n",
    "\n",
    "class TripDistribution:\n",
    "\n",
    "    def __init__(self, productions, attractions, travelTime, fare, income):\n",
    "        self.productions = productions\n",
    "        self.attractions = attractions\n",
    "        self.travelTime = travelTime\n",
    "        self.fare = fare\n",
    "        self.income = income\n",
    "        self.row = len(productions)\n",
    "        self.col = len(attractions)\n",
    "        self.possibleError = sum(productions) * 0.2\n",
    "        self.error = 0\n",
    "\n",
    "    def getGeneralizedCost(self, cost):\n",
    "        return 1.0 / (cost * cost)\n",
    "    \n",
    "    def computeCost(self, travelTime, fare, income):\n",
    "        costMatrix = [[1 for x in range(self.row)] for y in range(self.col)]\n",
    "        for x in range(self.row):\n",
    "            for y in range(self.col):\n",
    "                costMatrix[x][y] = travelTime[x][y] * income[x] + fare[x][y]\n",
    "        print(costMatrix)\n",
    "        return costMatrix\n",
    "\n",
    "    def getTripDistribution(self):\n",
    "        distributions = [[self.attractions[y] for x in range(self.row)] for y in range(self.col)]\n",
    "        #costMatrix = [[1 for x in range(self.row)] for y in range(self.col)]\n",
    "        costMatrix = self.computeCost(self.travelTime, self.fare, self.income)\n",
    "        A = [1 for x in range(self.row)]\n",
    "        B = [1 for x in range(self.col)]\n",
    "\n",
    "        currentBalancingFactor = 0  # 0 for A, 1 for B\n",
    "        isConvergent = False\n",
    "\n",
    "        while isConvergent == False:\n",
    "            if currentBalancingFactor == 0:\n",
    "                tempA = self.computeA(B, costMatrix)\n",
    "                A = tempA\n",
    "                currentBalancingFactor = 1\n",
    "            elif currentBalancingFactor == 1:\n",
    "                tempB = self.computeB(A, costMatrix)\n",
    "                B = tempB\n",
    "                currentBalancingFactor = 0\n",
    "            distributions = self.computeDistributions(A, B, costMatrix)\n",
    "            isConvergent = self.checkIfConvergent(distributions)\n",
    "            print(str(A) + \" \" + str(B))\n",
    "        return distributions\n",
    "\n",
    "    def computeDistributions(self, A, B, costMatrix):\n",
    "        distributions = [[self.attractions[y] for x in range(self.row)] for y in range(self.col)]\n",
    "        for x in range(self.row):\n",
    "            for y in range(self.col):\n",
    "                distributions[x][y] = A[x] * self.productions[x] * B[y] * self.attractions[y] * self.getGeneralizedCost(costMatrix[x][y])\n",
    "        return distributions\n",
    "\n",
    "    def checkIfConvergent(self, distributions):\n",
    "        error = self.getError(distributions)\n",
    "        if error <= self.possibleError:\n",
    "            self.error = error\n",
    "            return True\n",
    "        return False\n",
    "\n",
    "    def getError(self, distributions):\n",
    "        error = 0\n",
    "        derivedProductions = [0 for x in range(self.row)]\n",
    "        derivedAttractions = [0 for x in range(self.col)]\n",
    "\n",
    "        for x in range(self.row):\n",
    "            for y in range(self.col):\n",
    "                derivedProductions[x] += distributions[x][y]\n",
    "                derivedAttractions[y] += distributions[x][y]\n",
    "\n",
    "        for x in range(self.row):\n",
    "            error += abs(derivedProductions[x] - self.productions[x])\n",
    "            error += abs(derivedAttractions[y] - self.attractions[y])\n",
    "\n",
    "        return error\n",
    "    \n",
    "    \n",
    "    \n",
    "\n",
    "    def computeA(self, B, costMatrix):\n",
    "        A = [1 for x in range(self.row)]\n",
    "        for x in range(0, self.row):\n",
    "            sum = 0.0\n",
    "            for y in range(0, self.col):\n",
    "                sum += B[y] * self.attractions[y] * self.getGeneralizedCost(costMatrix[x][y])\n",
    "            A[x] = 1.0 / sum\n",
    "        return A\n",
    "\n",
    "    def computeB(self, A, costMatrix):\n",
    "        B = [1 for x in range(self.col)]\n",
    "        for x in range(0, self.row):\n",
    "            sum = 0.0\n",
    "            for y in range(0, self.col):\n",
    "                sum += A[y] * self.productions[y] * self.getGeneralizedCost(costMatrix[x][y])\n",
    "            B[x] = 1.0 / sum\n",
    "        return B"
   ]
  },
  {
   "cell_type": "code",
   "execution_count": 58,
   "metadata": {
    "collapsed": false
   },
   "outputs": [
    {
     "name": "stdout",
     "output_type": "stream",
     "text": [
      "[215.68213541666668, 131.39741666666666]\n",
      "Productions: [4087439.65, 2814510.63]\n",
      "Attractions: [4358277.38, 2543675.17]\n"
     ]
    }
   ],
   "source": [
    "def computeYearlyToHourlyRate(salary):\n",
    "    return salary/(240.00 * 8)\n",
    "\n",
    "productions = [4087439.65, 2814510.63]\n",
    "attractions = [4358277.38, 2543675.17]\n",
    "fares = [[21.98, 43.96], [45.84, 22.92]]\n",
    "travelTime = [[1.015, 2.03], [2.0, 1.0]]\n",
    "salary = [computeYearlyToHourlyRate(414109.7), computeYearlyToHourlyRate(252283.04)];\n",
    "print(salary)\n",
    "\n",
    "\n",
    "\n",
    "\n",
    "td = TripDistribution(productions, attractions, travelTime, fares, salary)\n",
    "\n",
    "print(\"Productions: \" + str(productions))\n",
    "print(\"Attractions: \" + str(attractions))"
   ]
  },
  {
   "cell_type": "markdown",
   "metadata": {},
   "source": [
    "The following formula, which is from a book, Introduction to Transportation Engineering by Tom V. Mathew and K V Krishna Rao, is used:\n",
    "\n",
    "$$T_{ij} = A_iO_iB_jD_jf(c_{ij})$$\n",
    "\n",
    "Where $T_{ij}$ is the trips made from zone i to the zone j, $O_i$ refers to the trip productions made from zone i, $D_j$ refers to the trip attractions made from zone j, $c_{ij}$ is the general cost used from zone i to zone j, $A_i$ and $B_i$ are the balancing factor and the following formula are used:\n",
    "\n",
    " $$A_i = 1 / \\sum_{j} B_{j}D_jf(c_{ij})$$\n",
    " $$B_i = 1 / \\sum_{i} A_{i}O_if(c_{ij})$$\n",
    " \n",
    "At first, one of the balancing factors will be set to 1s and the other will be compupted using the formula above. This will be done alternately until the some of all the origins or the destinations of the computed distributions will be close to the original productions and attractions. Lastly, the function $f(c_{ij})$ has the following formula:\n",
    "$$f(c_{ij}) = 1/c_{ij}^2$$\n",
    "\n"
   ]
  },
  {
   "cell_type": "code",
   "execution_count": 60,
   "metadata": {
    "collapsed": false
   },
   "outputs": [
    {
     "name": "stdout",
     "output_type": "stream",
     "text": [
      "[[240.89736744791665, 481.7947348958333], [308.6348333333333, 154.31741666666665]]\n",
      "[0.011619796187198448, 0.0065544350203673545] [1, 1]\n"
     ]
    },
    {
     "data": {
      "text/html": [
       "<table><tr><td>3566979.5805783635</td><td>520460.0694216368</td></tr><tr><td>844040.2210652309</td><td>1970470.4089347692</td></tr></table>"
      ],
      "text/plain": [
       "<IPython.core.display.HTML object>"
      ]
     },
     "metadata": {},
     "output_type": "display_data"
    }
   ],
   "source": [
    "distribution = td.getTripDistribution()\n",
    "\n",
    "display(HTML(\n",
    "    '<table><tr>{}</tr></table>'.format(\n",
    "        '</tr><tr>'.join(\n",
    "            '<td>{}</td>'.format('</td><td>'.join(str(_) for _ in row)) for row in distribution)\n",
    "        )\n",
    "))"
   ]
  },
  {
   "cell_type": "markdown",
   "metadata": {},
   "source": [
    "# Error\n"
   ]
  },
  {
   "cell_type": "code",
   "execution_count": 61,
   "metadata": {
    "collapsed": false
   },
   "outputs": [
    {
     "name": "stdout",
     "output_type": "stream",
     "text": [
      "Error: 105489.38328718813\n"
     ]
    }
   ],
   "source": [
    "print(\"Error: \" + str(td.error))"
   ]
  },
  {
   "cell_type": "code",
   "execution_count": null,
   "metadata": {
    "collapsed": true
   },
   "outputs": [],
   "source": []
  },
  {
   "cell_type": "code",
   "execution_count": null,
   "metadata": {
    "collapsed": true
   },
   "outputs": [],
   "source": []
  }
 ],
 "metadata": {
  "anaconda-cloud": {},
  "kernelspec": {
   "display_name": "Python [default]",
   "language": "python",
   "name": "python3"
  },
  "language_info": {
   "codemirror_mode": {
    "name": "ipython",
    "version": 3
   },
   "file_extension": ".py",
   "mimetype": "text/x-python",
   "name": "python",
   "nbconvert_exporter": "python",
   "pygments_lexer": "ipython3",
   "version": "3.5.2"
  }
 },
 "nbformat": 4,
 "nbformat_minor": 1
}
